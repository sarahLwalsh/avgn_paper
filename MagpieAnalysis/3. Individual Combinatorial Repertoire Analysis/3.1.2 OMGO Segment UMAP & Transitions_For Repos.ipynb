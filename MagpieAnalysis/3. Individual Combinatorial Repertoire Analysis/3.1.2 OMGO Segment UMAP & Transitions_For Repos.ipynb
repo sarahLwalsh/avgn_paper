{
 "cells": [
  {
   "cell_type": "markdown",
   "id": "6db7034b",
   "metadata": {},
   "source": [
    "# Sequential Transition Analysis\n",
    "The following notebook uses first-order markovian rules to determine forward transition probabilities for segments within calls produced by the individual OMGO, depending on the immediately preceding segment. See [Sainburg et al., (2020)](https://doi.org/10.1371/journal.pcbi.1008228) and [github.com/timsainb/avgn](https://github.com/timsainb/avgn_paper) for further detail on this process.\n",
    "\n",
    "This notebook uses Python v3.8.13 (compared to v3.6 used in earlier notebooks)."
   ]
  },
  {
   "cell_type": "code",
   "execution_count": 1,
   "id": "3eb7df06",
   "metadata": {},
   "outputs": [],
   "source": [
    "from tqdm.auto import tqdm"
   ]
  },
  {
   "cell_type": "code",
   "execution_count": 2,
   "id": "95d3583e",
   "metadata": {},
   "outputs": [],
   "source": [
    "import avgn"
   ]
  },
  {
   "cell_type": "code",
   "execution_count": 3,
   "id": "45d2b615",
   "metadata": {},
   "outputs": [],
   "source": [
    "import pandas as pd\n",
    "import numpy as np\n",
    "from avgn.utils.paths import DATA_DIR, ensure_dir, FIGURE_DIR"
   ]
  },
  {
   "cell_type": "code",
   "execution_count": 4,
   "id": "8c490d14",
   "metadata": {},
   "outputs": [],
   "source": [
    "DATASET_ID = \"git_repos\""
   ]
  },
  {
   "cell_type": "code",
   "execution_count": 5,
   "id": "04ec6e42",
   "metadata": {},
   "outputs": [],
   "source": [
    "DT_ID = '2022-03-04_18-41-29'"
   ]
  },
  {
   "cell_type": "code",
   "execution_count": 6,
   "id": "eb28146d",
   "metadata": {},
   "outputs": [
    {
     "data": {
      "text/html": [
       "<div>\n",
       "<style scoped>\n",
       "    .dataframe tbody tr th:only-of-type {\n",
       "        vertical-align: middle;\n",
       "    }\n",
       "\n",
       "    .dataframe tbody tr th {\n",
       "        vertical-align: top;\n",
       "    }\n",
       "\n",
       "    .dataframe thead th {\n",
       "        text-align: right;\n",
       "    }\n",
       "</style>\n",
       "<table border=\"1\" class=\"dataframe\">\n",
       "  <thead>\n",
       "    <tr style=\"text-align: right;\">\n",
       "      <th></th>\n",
       "      <th>start_time</th>\n",
       "      <th>end_time</th>\n",
       "      <th>labels</th>\n",
       "      <th>ID</th>\n",
       "      <th>indv</th>\n",
       "      <th>indvi</th>\n",
       "      <th>filename</th>\n",
       "      <th>group</th>\n",
       "      <th>location</th>\n",
       "      <th>sex</th>\n",
       "      <th>...</th>\n",
       "      <th>umap</th>\n",
       "      <th>call_unique_num</th>\n",
       "      <th>call_label</th>\n",
       "      <th>seg_pos_call</th>\n",
       "      <th>combi_unique_num</th>\n",
       "      <th>call_pos_combi</th>\n",
       "      <th>combi_label</th>\n",
       "      <th>seg_pos_combi</th>\n",
       "      <th>call_lab_simp</th>\n",
       "      <th>seg_pos</th>\n",
       "    </tr>\n",
       "  </thead>\n",
       "  <tbody>\n",
       "    <tr>\n",
       "      <th>3</th>\n",
       "      <td>12.636243</td>\n",
       "      <td>12.656856</td>\n",
       "      <td>SH</td>\n",
       "      <td>727</td>\n",
       "      <td>OMGO</td>\n",
       "      <td>0</td>\n",
       "      <td>MBG OMGO Alert and Combo Series 1 200220 AM b</td>\n",
       "      <td>MBG</td>\n",
       "      <td>CRAWLEY</td>\n",
       "      <td>F</td>\n",
       "      <td>...</td>\n",
       "      <td>[-5.741042, 9.573677]</td>\n",
       "      <td>301</td>\n",
       "      <td>SHSHNLDS</td>\n",
       "      <td>1</td>\n",
       "      <td>119</td>\n",
       "      <td>1</td>\n",
       "      <td>NLDS SHSHNLDS DSSHDS SHSHSHLH</td>\n",
       "      <td>3</td>\n",
       "      <td>SH-NL-DS</td>\n",
       "      <td>Second</td>\n",
       "    </tr>\n",
       "    <tr>\n",
       "      <th>11</th>\n",
       "      <td>13.294838</td>\n",
       "      <td>13.322906</td>\n",
       "      <td>SH</td>\n",
       "      <td>735</td>\n",
       "      <td>OMGO</td>\n",
       "      <td>0</td>\n",
       "      <td>MBG OMGO Alert and Combo Series 1 200220 AM b</td>\n",
       "      <td>MBG</td>\n",
       "      <td>CRAWLEY</td>\n",
       "      <td>F</td>\n",
       "      <td>...</td>\n",
       "      <td>[-9.703462, 12.19955]</td>\n",
       "      <td>303</td>\n",
       "      <td>SHSHSHLH</td>\n",
       "      <td>2</td>\n",
       "      <td>119</td>\n",
       "      <td>3</td>\n",
       "      <td>NLDS SHSHNLDS DSSHDS SHSHSHLH</td>\n",
       "      <td>11</td>\n",
       "      <td>SH-LH</td>\n",
       "      <td>third</td>\n",
       "    </tr>\n",
       "    <tr>\n",
       "      <th>13</th>\n",
       "      <td>20.008098</td>\n",
       "      <td>20.031107</td>\n",
       "      <td>SH</td>\n",
       "      <td>737</td>\n",
       "      <td>OMGO</td>\n",
       "      <td>0</td>\n",
       "      <td>MBG OMGO Alert and Combo Series 1 200220 AM b</td>\n",
       "      <td>MBG</td>\n",
       "      <td>CRAWLEY</td>\n",
       "      <td>F</td>\n",
       "      <td>...</td>\n",
       "      <td>[-5.8064704, 9.651678]</td>\n",
       "      <td>304</td>\n",
       "      <td>SHNLDS</td>\n",
       "      <td>0</td>\n",
       "      <td>120</td>\n",
       "      <td>0</td>\n",
       "      <td>SHNLDS DSSHDS SHLH</td>\n",
       "      <td>0</td>\n",
       "      <td>SH-NL-DS</td>\n",
       "      <td>first</td>\n",
       "    </tr>\n",
       "  </tbody>\n",
       "</table>\n",
       "<p>3 rows × 24 columns</p>\n",
       "</div>"
      ],
      "text/plain": [
       "    start_time   end_time labels   ID  indv  indvi  \\\n",
       "3    12.636243  12.656856     SH  727  OMGO      0   \n",
       "11   13.294838  13.322906     SH  735  OMGO      0   \n",
       "13   20.008098  20.031107     SH  737  OMGO      0   \n",
       "\n",
       "                                         filename group location sex  ...  \\\n",
       "3   MBG OMGO Alert and Combo Series 1 200220 AM b   MBG  CRAWLEY   F  ...   \n",
       "11  MBG OMGO Alert and Combo Series 1 200220 AM b   MBG  CRAWLEY   F  ...   \n",
       "13  MBG OMGO Alert and Combo Series 1 200220 AM b   MBG  CRAWLEY   F  ...   \n",
       "\n",
       "                      umap call_unique_num  call_label seg_pos_call  \\\n",
       "3    [-5.741042, 9.573677]             301    SHSHNLDS            1   \n",
       "11   [-9.703462, 12.19955]             303    SHSHSHLH            2   \n",
       "13  [-5.8064704, 9.651678]             304      SHNLDS            0   \n",
       "\n",
       "   combi_unique_num  call_pos_combi                    combi_label  \\\n",
       "3               119               1  NLDS SHSHNLDS DSSHDS SHSHSHLH   \n",
       "11              119               3  NLDS SHSHNLDS DSSHDS SHSHSHLH   \n",
       "13              120               0             SHNLDS DSSHDS SHLH   \n",
       "\n",
       "    seg_pos_combi  call_lab_simp  seg_pos  \n",
       "3               3       SH-NL-DS   Second  \n",
       "11             11          SH-LH    third  \n",
       "13              0       SH-NL-DS    first  \n",
       "\n",
       "[3 rows x 24 columns]"
      ]
     },
     "execution_count": 6,
     "metadata": {},
     "output_type": "execute_result"
    }
   ],
   "source": [
    "seg_df = pd.read_pickle(DATA_DIR / DATASET_ID / DT_ID /  'OMGO_UMAP.pickle')\n",
    "seg_df[:3]"
   ]
  },
  {
   "cell_type": "markdown",
   "id": "a3241841",
   "metadata": {},
   "source": [
    "### Plot barcodes for organization"
   ]
  },
  {
   "cell_type": "code",
   "execution_count": 8,
   "id": "c9aae78d",
   "metadata": {},
   "outputs": [],
   "source": [
    "import matplotlib.pyplot as plt\n",
    "from avgn.visualization.barcodes_magpie import plot_sorted_barcodes, indv_barcode"
   ]
  },
  {
   "cell_type": "code",
   "execution_count": 9,
   "id": "8ae4af50",
   "metadata": {},
   "outputs": [],
   "source": [
    "seg_df.sort_values(by=['labels'], inplace = True)"
   ]
  },
  {
   "cell_type": "code",
   "execution_count": 10,
   "id": "6d11882d",
   "metadata": {},
   "outputs": [
    {
     "name": "stdout",
     "output_type": "stream",
     "text": [
      "labels ['DS' 'LH' 'SH']\n"
     ]
    },
    {
     "data": {
      "application/vnd.jupyter.widget-view+json": {
       "model_id": "",
       "version_major": 2,
       "version_minor": 0
      },
      "text/plain": [
       "  0%|          | 0/19 [00:00<?, ?it/s]"
      ]
     },
     "metadata": {},
     "output_type": "display_data"
    },
    {
     "data": {
      "application/vnd.jupyter.widget-view+json": {
       "model_id": "",
       "version_major": 2,
       "version_minor": 0
      },
      "text/plain": [
       "  0%|          | 0/19 [00:00<?, ?it/s]"
      ]
     },
     "metadata": {},
     "output_type": "display_data"
    },
    {
     "data": {
      "application/vnd.jupyter.widget-view+json": {
       "model_id": "",
       "version_major": 2,
       "version_minor": 0
      },
      "text/plain": [
       "  0%|          | 0/171 [00:00<?, ?it/s]"
      ]
     },
     "metadata": {},
     "output_type": "display_data"
    },
    {
     "data": {
      "image/png": "[encoded data removed]",
      "text/plain": [
       "<Figure size 216x72 with 1 Axes>"
      ]
     },
     "metadata": {
      "needs_background": "light"
     },
     "output_type": "display_data"
    },
    {
     "data": {
      "image/png": "[encoded data removed]",
      "text/plain": [
       "<Figure size 1440x216 with 1 Axes>"
      ]
     },
     "metadata": {
      "needs_background": "light"
     },
     "output_type": "display_data"
    }
   ],
   "source": [
    "#only need the colours for DS, LH and SH segments (NL was removed from OMGO UMAP)\n",
    "color = ['xkcd:very dark blue','teal','thistle'] \n",
    "\n",
    "all_dict = {}\n",
    "for label in [\"labels\"]:\n",
    "    print(label, seg_df[label].unique())\n",
    "    color_lists, trans_lists, label_pal_dict, label_pal, label_dict = indv_barcode(\n",
    "        seg_df,\n",
    "        time_resolution=0.03,\n",
    "        label=\"labels\",\n",
    "        pal=color,\n",
    "    )\n",
    "    \n",
    "    all_dict[label] = {\n",
    "    \"label_pal_dict\": label_pal_dict,\n",
    "    \"label_dict\": label_dict,\n",
    "    }\n",
    "    \n",
    "    fig, ax = plt.subplots(figsize=(20, 3))\n",
    "\n",
    "    plot_sorted_barcodes(\n",
    "        color_lists,\n",
    "        trans_lists,\n",
    "        max_list_len=600,\n",
    "        seq_len=100,\n",
    "        nex=200,\n",
    "        figsize=(10, 4),\n",
    "        ax=ax,\n",
    "    )\n",
    "    plt.show()\n"
   ]
  },
  {
   "cell_type": "code",
   "execution_count": 11,
   "id": "160b1428",
   "metadata": {},
   "outputs": [
    {
     "data": {
      "text/plain": [
       "157"
      ]
     },
     "execution_count": 11,
     "metadata": {},
     "output_type": "execute_result"
    }
   ],
   "source": [
    "len(seg_df)"
   ]
  },
  {
   "cell_type": "code",
   "execution_count": 12,
   "id": "7e2d7f5a",
   "metadata": {},
   "outputs": [],
   "source": [
    "seg_df.sort_values(by=['ID'], inplace = True)"
   ]
  },
  {
   "cell_type": "code",
   "execution_count": 13,
   "id": "9a77e528",
   "metadata": {},
   "outputs": [],
   "source": [
    "from avgn.visualization.projections_magpie import scatter_spec\n",
    "from avgn.utils.general import save_fig"
   ]
  },
  {
   "cell_type": "code",
   "execution_count": 14,
   "id": "1333469b",
   "metadata": {},
   "outputs": [],
   "source": [
    "import seaborn as sns"
   ]
  },
  {
   "cell_type": "markdown",
   "id": "8eab61e2",
   "metadata": {},
   "source": [
    "### Combine UMAP & Transition Graph\n",
    "- this plot shows the segment UMAP as well as the transition graph"
   ]
  },
  {
   "cell_type": "code",
   "execution_count": 15,
   "id": "98941ae0",
   "metadata": {},
   "outputs": [],
   "source": [
    "def norm(x):\n",
    "    return (x-np.min(x)) / (np.max(x) - np.min(x))"
   ]
  },
  {
   "cell_type": "code",
   "execution_count": 16,
   "id": "f69da2bb",
   "metadata": {},
   "outputs": [
    {
     "data": {
      "application/vnd.jupyter.widget-view+json": {
       "model_id": "004b0cbf132441ea83de2fae39eaa0a9",
       "version_major": 2,
       "version_minor": 0
      },
      "text/plain": [
       "  0%|          | 0/157 [00:00<?, ?it/s]"
      ]
     },
     "metadata": {},
     "output_type": "display_data"
    }
   ],
   "source": [
    "specs = list(seg_df.specs.values)\n",
    "specs = [norm(i) for i in tqdm(specs)]"
   ]
  },
  {
   "cell_type": "code",
   "execution_count": 17,
   "id": "494f0c59",
   "metadata": {},
   "outputs": [],
   "source": [
    "from avgn.visualization.network_graph import plot_network_graph"
   ]
  },
  {
   "cell_type": "code",
   "execution_count": null,
   "id": "932f0cd1",
   "metadata": {},
   "outputs": [],
   "source": [
    "fig = plt.figure()\n",
    "fig.set_figheight(12)\n",
    "fig.set_figwidth(24)\n",
    "ax1 = plt.subplot2grid(shape=(1, 24), loc=(0, 0), colspan=12)  ##1st Row\n",
    "ax2 = plt.subplot2grid(shape=(1, 24), loc=(0, 12), colspan=12) #2nd row\n",
    "\n",
    "\n",
    "color = ['xkcd:very dark blue','teal','thistle']\n",
    "\n",
    "nex = -1\n",
    "ax1.axis('off')\n",
    "scatter_spec(\n",
    "    np.array(list(seg_df['umap'].values)),\n",
    "    specs,\n",
    "    column_size=10,\n",
    "    x_range = [-11.25,21.5],\n",
    "    y_range = [-9, 23.75],\n",
    "    pal_color=\"hls\",\n",
    "    color_points=False,\n",
    "    enlarge_points=0,\n",
    "    ax = ax1,\n",
    "    range_pad = 0.15,\n",
    "    scatter_kwargs = {\n",
    "        'labels': seg_df.labels.values,\n",
    "        'alpha':1,\n",
    "        's': 4,\n",
    "        'show_legend': False,\n",
    "        \"color_palette\": color,\n",
    "    },\n",
    "    matshow_kwargs = {\n",
    "        'cmap': plt.cm.Greys\n",
    "    },\n",
    "    line_kwargs = {\n",
    "        'lw':0.5,\n",
    "        'ls':\"dashed\",\n",
    "        'alpha':0.25,\n",
    "    },\n",
    "    draw_lines=True,\n",
    "    n_subset= 1000,\n",
    "    border_line_width = 3, \n",
    "\n",
    ")\n",
    "\n",
    "##Model\n",
    "for label in [\"labels\"]:\n",
    "    print(label)\n",
    "    # plot graph\n",
    "    elements = seg_df[label].values\n",
    "    projections = np.array(list(seg_df['umap'].values))\n",
    "    sequence_ids = np.array(seg_df[\"call_unique_num\"])\n",
    "\n",
    "    label_pal_dict = all_dict[label]['label_pal_dict']\n",
    "    label_dict = all_dict[label]['label_dict']\n",
    "    pal_dict = {i:label_pal_dict[j] for i,j in label_dict.items()}\n",
    "    ax2.axis('off')\n",
    "    plot_network_graph(\n",
    "        elements, projections, sequence_ids, ax=ax2, pal_dict=pal_dict\n",
    "    )\n",
    "\n",
    "ax1.set_title(\"A)\", loc='left', fontsize = 30)\n",
    "ax2.set_title(\"B)\", loc='left', fontsize = 30)\n",
    "legend = ax2.legend(loc='lower left', labels = label_dict, fontsize=25)\n",
    "handles = legend.legendHandles\n",
    "\n",
    "#Create legend\n",
    "for i, handle in enumerate(handles):\n",
    "    handle.set_edgecolor(color[i]) # set_edgecolors\n",
    "    handle.set_facecolor(color[i])\n",
    "    #handle.set_alpha(0.7)\n",
    "\n",
    "plt.tight_layout()\n",
    "\n",
    "plt.show()\n"
   ]
  },
  {
   "cell_type": "code",
   "execution_count": 19,
   "id": "57b4ca65",
   "metadata": {},
   "outputs": [],
   "source": [
    "from scipy.stats import kruskal\n",
    "from sklearn.metrics import silhouette_score, silhouette_samples"
   ]
  },
  {
   "cell_type": "code",
   "execution_count": 20,
   "id": "05744936",
   "metadata": {},
   "outputs": [],
   "source": [
    "labscore = silhouette_score(list(np.array(list(seg_df['umap'].values))), labels = seg_df.labels.values)"
   ]
  },
  {
   "cell_type": "code",
   "execution_count": null,
   "id": "e6b21a1d",
   "metadata": {},
   "outputs": [],
   "source": [
    "labscore"
   ]
  },
  {
   "cell_type": "code",
   "execution_count": 23,
   "id": "9f0d90a5",
   "metadata": {},
   "outputs": [],
   "source": [
    "samples = silhouette_samples(list(np.array(list(seg_df['umap'].values))), labels = seg_df.labels.values)\n",
    "chance_samples = silhouette_samples(list(np.array(list(seg_df['umap'].values))), labels = np.random.permutation(seg_df.labels.values))"
   ]
  },
  {
   "cell_type": "code",
   "execution_count": null,
   "id": "d15830ee",
   "metadata": {},
   "outputs": [],
   "source": [
    "KWlab = kruskal(samples, chance_samples)\n",
    "KWlab"
   ]
  },
  {
   "cell_type": "code",
   "execution_count": null,
   "id": "4196ff99",
   "metadata": {},
   "outputs": [],
   "source": []
  }
 ],
 "metadata": {
  "kernelspec": {
   "display_name": "Python 3",
   "language": "python",
   "name": "python3"
  },
  "language_info": {
   "codemirror_mode": {
    "name": "ipython",
    "version": 3
   },
   "file_extension": ".py",
   "mimetype": "text/x-python",
   "name": "python",
   "nbconvert_exporter": "python",
   "pygments_lexer": "ipython3",
   "version": "3.6.13"
  }
 },
 "nbformat": 4,
 "nbformat_minor": 5
}
