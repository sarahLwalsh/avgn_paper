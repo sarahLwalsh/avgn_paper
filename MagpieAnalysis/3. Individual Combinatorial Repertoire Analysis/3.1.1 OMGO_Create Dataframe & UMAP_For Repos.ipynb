{
 "cells": [
  {
   "cell_type": "markdown",
   "id": "d51d436c",
   "metadata": {},
   "source": [
    "### Analysis on Individual Combinatorial Repertoire\n",
    "Here we analyse the combinatorial repertoire for OMGO, who is one of the individuals with the largest count of spectrograms. In the next step we will view the UMAP, and have a look at the probabilities for segment transition."
   ]
  },
  {
   "cell_type": "code",
   "execution_count": 1,
   "id": "1085c19d",
   "metadata": {},
   "outputs": [
    {
     "name": "stderr",
     "output_type": "stream",
     "text": [
      "c:\\users\\slwal\\anaconda3\\envs\\py36\\avgn_paper-2\\avgn\\utils\\general.py:8: TqdmExperimentalWarning: Using `tqdm.autonotebook.tqdm` in notebook mode. Use `tqdm.tqdm` instead to force console mode (e.g. in jupyter console)\n",
      "  from tqdm.autonotebook import tqdm\n"
     ]
    }
   ],
   "source": [
    "import avgn"
   ]
  },
  {
   "cell_type": "code",
   "execution_count": 2,
   "id": "e0a283bb",
   "metadata": {},
   "outputs": [],
   "source": [
    "import pandas as pd\n",
    "from avgn.utils.paths import DATA_DIR"
   ]
  },
  {
   "cell_type": "code",
   "execution_count": 3,
   "id": "c92fc644",
   "metadata": {},
   "outputs": [],
   "source": [
    "import numpy as np\n",
    "import matplotlib.pyplot as plt\n",
    "%matplotlib inline\n",
    "from tqdm.autonotebook import tqdm\n",
    "from joblib import Parallel, delayed\n",
    "import umap\n",
    "import pandas as pd"
   ]
  },
  {
   "cell_type": "code",
   "execution_count": 4,
   "id": "86977f86",
   "metadata": {},
   "outputs": [],
   "source": [
    "from avgn.utils.paths import DATA_DIR, most_recent_subdirectory, ensure_dir\n",
    "from avgn.signalprocessing.create_spectrogram_dataset import flatten_spectrograms\n",
    "from avgn.visualization.spectrogram import draw_spec_set\n",
    "from avgn.utils.paths import DATA_DIR, ensure_dir"
   ]
  },
  {
   "cell_type": "code",
   "execution_count": 12,
   "id": "5bfbc7c4",
   "metadata": {},
   "outputs": [],
   "source": [
    "DATASET_ID = \"git_repos\""
   ]
  },
  {
   "cell_type": "code",
   "execution_count": 13,
   "id": "780f0083",
   "metadata": {},
   "outputs": [],
   "source": [
    "DT_ID = '2022-03-04_18-41-29'"
   ]
  },
  {
   "cell_type": "code",
   "execution_count": 15,
   "id": "89ad2ff0",
   "metadata": {},
   "outputs": [
    {
     "data": {
      "text/html": [
       "<div>\n",
       "<style scoped>\n",
       "    .dataframe tbody tr th:only-of-type {\n",
       "        vertical-align: middle;\n",
       "    }\n",
       "\n",
       "    .dataframe tbody tr th {\n",
       "        vertical-align: top;\n",
       "    }\n",
       "\n",
       "    .dataframe thead th {\n",
       "        text-align: right;\n",
       "    }\n",
       "</style>\n",
       "<table border=\"1\" class=\"dataframe\">\n",
       "  <thead>\n",
       "    <tr style=\"text-align: right;\">\n",
       "      <th></th>\n",
       "      <th>start_time</th>\n",
       "      <th>end_time</th>\n",
       "      <th>labels</th>\n",
       "      <th>ID</th>\n",
       "      <th>start_times</th>\n",
       "      <th>end_times</th>\n",
       "      <th>unit_label</th>\n",
       "      <th>note_pos_unit</th>\n",
       "      <th>unit_unique_num</th>\n",
       "      <th>unit_pos_seq</th>\n",
       "      <th>...</th>\n",
       "      <th>indv</th>\n",
       "      <th>indvi</th>\n",
       "      <th>filename</th>\n",
       "      <th>group</th>\n",
       "      <th>location</th>\n",
       "      <th>sex</th>\n",
       "      <th>wav_loc</th>\n",
       "      <th>key</th>\n",
       "      <th>rate</th>\n",
       "      <th>specs</th>\n",
       "    </tr>\n",
       "  </thead>\n",
       "  <tbody>\n",
       "    <tr>\n",
       "      <th>0</th>\n",
       "      <td>0.753604</td>\n",
       "      <td>0.776773</td>\n",
       "      <td>DS</td>\n",
       "      <td>0</td>\n",
       "      <td>0.753604</td>\n",
       "      <td>0.776773</td>\n",
       "      <td>DSSHDS</td>\n",
       "      <td>0</td>\n",
       "      <td>0</td>\n",
       "      <td>0</td>\n",
       "      <td>...</td>\n",
       "      <td>MGGY</td>\n",
       "      <td>0</td>\n",
       "      <td>BWY MGGY Call Combo 1 290719 PM</td>\n",
       "      <td>BWYa</td>\n",
       "      <td>CRAWLEY</td>\n",
       "      <td>F</td>\n",
       "      <td>C:/Users/slwal/anaconda3/envs/PY36/avgn_paper-...</td>\n",
       "      <td>BWY MGGY Call Combo 1 290719 PM</td>\n",
       "      <td>44100</td>\n",
       "      <td>[[0.0, 0.0, 0.0, 0.0, 0.0, 0.0, 0.0, 0.0, 0.0,...</td>\n",
       "    </tr>\n",
       "    <tr>\n",
       "      <th>1</th>\n",
       "      <td>0.786865</td>\n",
       "      <td>0.835165</td>\n",
       "      <td>SH</td>\n",
       "      <td>1</td>\n",
       "      <td>0.786865</td>\n",
       "      <td>0.835165</td>\n",
       "      <td>DSSHDS</td>\n",
       "      <td>1</td>\n",
       "      <td>0</td>\n",
       "      <td>0</td>\n",
       "      <td>...</td>\n",
       "      <td>MGGY</td>\n",
       "      <td>0</td>\n",
       "      <td>BWY MGGY Call Combo 1 290719 PM</td>\n",
       "      <td>BWYa</td>\n",
       "      <td>CRAWLEY</td>\n",
       "      <td>F</td>\n",
       "      <td>C:/Users/slwal/anaconda3/envs/PY36/avgn_paper-...</td>\n",
       "      <td>BWY MGGY Call Combo 1 290719 PM</td>\n",
       "      <td>44100</td>\n",
       "      <td>[[0.0, 0.0, 0.0, 0.0, 0.0, 0.0, 0.0, 0.0, 0.0,...</td>\n",
       "    </tr>\n",
       "    <tr>\n",
       "      <th>2</th>\n",
       "      <td>0.855941</td>\n",
       "      <td>0.921160</td>\n",
       "      <td>DS</td>\n",
       "      <td>2</td>\n",
       "      <td>0.855941</td>\n",
       "      <td>0.921160</td>\n",
       "      <td>DSSHDS</td>\n",
       "      <td>2</td>\n",
       "      <td>0</td>\n",
       "      <td>0</td>\n",
       "      <td>...</td>\n",
       "      <td>MGGY</td>\n",
       "      <td>0</td>\n",
       "      <td>BWY MGGY Call Combo 1 290719 PM</td>\n",
       "      <td>BWYa</td>\n",
       "      <td>CRAWLEY</td>\n",
       "      <td>F</td>\n",
       "      <td>C:/Users/slwal/anaconda3/envs/PY36/avgn_paper-...</td>\n",
       "      <td>BWY MGGY Call Combo 1 290719 PM</td>\n",
       "      <td>44100</td>\n",
       "      <td>[[0.0, 0.0, 0.0, 0.0, 0.0, 0.0, 0.0, 0.0, 0.0,...</td>\n",
       "    </tr>\n",
       "  </tbody>\n",
       "</table>\n",
       "<p>3 rows × 23 columns</p>\n",
       "</div>"
      ],
      "text/plain": [
       "   start_time  end_time labels  ID  start_times  end_times unit_label  \\\n",
       "0    0.753604  0.776773     DS   0     0.753604   0.776773     DSSHDS   \n",
       "1    0.786865  0.835165     SH   1     0.786865   0.835165     DSSHDS   \n",
       "2    0.855941  0.921160     DS   2     0.855941   0.921160     DSSHDS   \n",
       "\n",
       "   note_pos_unit  unit_unique_num  unit_pos_seq  ...  indv  indvi  \\\n",
       "0              0                0             0  ...  MGGY      0   \n",
       "1              1                0             0  ...  MGGY      0   \n",
       "2              2                0             0  ...  MGGY      0   \n",
       "\n",
       "                          filename group  location sex  \\\n",
       "0  BWY MGGY Call Combo 1 290719 PM  BWYa   CRAWLEY   F   \n",
       "1  BWY MGGY Call Combo 1 290719 PM  BWYa   CRAWLEY   F   \n",
       "2  BWY MGGY Call Combo 1 290719 PM  BWYa   CRAWLEY   F   \n",
       "\n",
       "                                             wav_loc  \\\n",
       "0  C:/Users/slwal/anaconda3/envs/PY36/avgn_paper-...   \n",
       "1  C:/Users/slwal/anaconda3/envs/PY36/avgn_paper-...   \n",
       "2  C:/Users/slwal/anaconda3/envs/PY36/avgn_paper-...   \n",
       "\n",
       "                               key   rate  \\\n",
       "0  BWY MGGY Call Combo 1 290719 PM  44100   \n",
       "1  BWY MGGY Call Combo 1 290719 PM  44100   \n",
       "2  BWY MGGY Call Combo 1 290719 PM  44100   \n",
       "\n",
       "                                               specs  \n",
       "0  [[0.0, 0.0, 0.0, 0.0, 0.0, 0.0, 0.0, 0.0, 0.0,...  \n",
       "1  [[0.0, 0.0, 0.0, 0.0, 0.0, 0.0, 0.0, 0.0, 0.0,...  \n",
       "2  [[0.0, 0.0, 0.0, 0.0, 0.0, 0.0, 0.0, 0.0, 0.0,...  \n",
       "\n",
       "[3 rows x 23 columns]"
      ]
     },
     "execution_count": 15,
     "metadata": {},
     "output_type": "execute_result"
    }
   ],
   "source": [
    "seg_df = pd.read_pickle(DATA_DIR / DATASET_ID / DT_ID /  'walsh_magpie_gitrepos.pickle')\n",
    "seg_df[:3]"
   ]
  },
  {
   "cell_type": "code",
   "execution_count": 16,
   "id": "9e5c6c25",
   "metadata": {
    "scrolled": true
   },
   "outputs": [
    {
     "data": {
      "text/plain": [
       "1643"
      ]
     },
     "execution_count": 16,
     "metadata": {},
     "output_type": "execute_result"
    }
   ],
   "source": [
    "len(seg_df)"
   ]
  },
  {
   "cell_type": "code",
   "execution_count": 17,
   "id": "a2d46979",
   "metadata": {
    "scrolled": true
   },
   "outputs": [
    {
     "data": {
      "text/html": [
       "<div>\n",
       "<style scoped>\n",
       "    .dataframe tbody tr th:only-of-type {\n",
       "        vertical-align: middle;\n",
       "    }\n",
       "\n",
       "    .dataframe tbody tr th {\n",
       "        vertical-align: top;\n",
       "    }\n",
       "\n",
       "    .dataframe thead th {\n",
       "        text-align: right;\n",
       "    }\n",
       "</style>\n",
       "<table border=\"1\" class=\"dataframe\">\n",
       "  <thead>\n",
       "    <tr style=\"text-align: right;\">\n",
       "      <th></th>\n",
       "      <th>start_time</th>\n",
       "      <th>end_time</th>\n",
       "      <th>labels</th>\n",
       "      <th>ID</th>\n",
       "      <th>start_times</th>\n",
       "      <th>end_times</th>\n",
       "      <th>unit_label</th>\n",
       "      <th>note_pos_unit</th>\n",
       "      <th>unit_unique_num</th>\n",
       "      <th>unit_pos_seq</th>\n",
       "      <th>...</th>\n",
       "      <th>indv</th>\n",
       "      <th>indvi</th>\n",
       "      <th>filename</th>\n",
       "      <th>group</th>\n",
       "      <th>location</th>\n",
       "      <th>sex</th>\n",
       "      <th>wav_loc</th>\n",
       "      <th>key</th>\n",
       "      <th>rate</th>\n",
       "      <th>specs</th>\n",
       "    </tr>\n",
       "  </thead>\n",
       "  <tbody>\n",
       "    <tr>\n",
       "      <th>0</th>\n",
       "      <td>12.167358</td>\n",
       "      <td>12.337176</td>\n",
       "      <td>NL</td>\n",
       "      <td>724</td>\n",
       "      <td>12.167358</td>\n",
       "      <td>12.337176</td>\n",
       "      <td>NLDS</td>\n",
       "      <td>0</td>\n",
       "      <td>300</td>\n",
       "      <td>0</td>\n",
       "      <td>...</td>\n",
       "      <td>OMGO</td>\n",
       "      <td>0</td>\n",
       "      <td>MBG OMGO Alert and Combo Series 1 200220 AM b</td>\n",
       "      <td>MBG</td>\n",
       "      <td>CRAWLEY</td>\n",
       "      <td>F</td>\n",
       "      <td>C:/Users/slwal/anaconda3/envs/PY36/avgn_paper-...</td>\n",
       "      <td>MBG OMGO Alert and Combo Series 1 200220 AM b</td>\n",
       "      <td>44100</td>\n",
       "      <td>[[0.0, 0.0, 0.0, 0.0, 0.0, 0.0, 0.0, 0.0, 0.0,...</td>\n",
       "    </tr>\n",
       "    <tr>\n",
       "      <th>1</th>\n",
       "      <td>12.346987</td>\n",
       "      <td>12.395739</td>\n",
       "      <td>DS</td>\n",
       "      <td>725</td>\n",
       "      <td>12.346987</td>\n",
       "      <td>12.395739</td>\n",
       "      <td>NLDS</td>\n",
       "      <td>1</td>\n",
       "      <td>300</td>\n",
       "      <td>0</td>\n",
       "      <td>...</td>\n",
       "      <td>OMGO</td>\n",
       "      <td>0</td>\n",
       "      <td>MBG OMGO Alert and Combo Series 1 200220 AM b</td>\n",
       "      <td>MBG</td>\n",
       "      <td>CRAWLEY</td>\n",
       "      <td>F</td>\n",
       "      <td>C:/Users/slwal/anaconda3/envs/PY36/avgn_paper-...</td>\n",
       "      <td>MBG OMGO Alert and Combo Series 1 200220 AM b</td>\n",
       "      <td>44100</td>\n",
       "      <td>[[0.0, 0.0, 0.0, 0.0, 0.0, 0.0, 0.0, 0.0, 0.0,...</td>\n",
       "    </tr>\n",
       "    <tr>\n",
       "      <th>2</th>\n",
       "      <td>12.607988</td>\n",
       "      <td>12.631858</td>\n",
       "      <td>SH</td>\n",
       "      <td>726</td>\n",
       "      <td>12.607988</td>\n",
       "      <td>12.631858</td>\n",
       "      <td>SHSHNLDS</td>\n",
       "      <td>0</td>\n",
       "      <td>301</td>\n",
       "      <td>1</td>\n",
       "      <td>...</td>\n",
       "      <td>OMGO</td>\n",
       "      <td>0</td>\n",
       "      <td>MBG OMGO Alert and Combo Series 1 200220 AM b</td>\n",
       "      <td>MBG</td>\n",
       "      <td>CRAWLEY</td>\n",
       "      <td>F</td>\n",
       "      <td>C:/Users/slwal/anaconda3/envs/PY36/avgn_paper-...</td>\n",
       "      <td>MBG OMGO Alert and Combo Series 1 200220 AM b</td>\n",
       "      <td>44100</td>\n",
       "      <td>[[0.0, 0.0, 0.0, 0.0, 0.0, 0.0, 0.0, 0.0, 0.0,...</td>\n",
       "    </tr>\n",
       "  </tbody>\n",
       "</table>\n",
       "<p>3 rows × 23 columns</p>\n",
       "</div>"
      ],
      "text/plain": [
       "   start_time   end_time labels   ID  start_times  end_times unit_label  \\\n",
       "0   12.167358  12.337176     NL  724    12.167358  12.337176       NLDS   \n",
       "1   12.346987  12.395739     DS  725    12.346987  12.395739       NLDS   \n",
       "2   12.607988  12.631858     SH  726    12.607988  12.631858   SHSHNLDS   \n",
       "\n",
       "   note_pos_unit  unit_unique_num  unit_pos_seq  ...  indv  indvi  \\\n",
       "0              0              300             0  ...  OMGO      0   \n",
       "1              1              300             0  ...  OMGO      0   \n",
       "2              0              301             1  ...  OMGO      0   \n",
       "\n",
       "                                        filename group  location sex  \\\n",
       "0  MBG OMGO Alert and Combo Series 1 200220 AM b   MBG   CRAWLEY   F   \n",
       "1  MBG OMGO Alert and Combo Series 1 200220 AM b   MBG   CRAWLEY   F   \n",
       "2  MBG OMGO Alert and Combo Series 1 200220 AM b   MBG   CRAWLEY   F   \n",
       "\n",
       "                                             wav_loc  \\\n",
       "0  C:/Users/slwal/anaconda3/envs/PY36/avgn_paper-...   \n",
       "1  C:/Users/slwal/anaconda3/envs/PY36/avgn_paper-...   \n",
       "2  C:/Users/slwal/anaconda3/envs/PY36/avgn_paper-...   \n",
       "\n",
       "                                             key   rate  \\\n",
       "0  MBG OMGO Alert and Combo Series 1 200220 AM b  44100   \n",
       "1  MBG OMGO Alert and Combo Series 1 200220 AM b  44100   \n",
       "2  MBG OMGO Alert and Combo Series 1 200220 AM b  44100   \n",
       "\n",
       "                                               specs  \n",
       "0  [[0.0, 0.0, 0.0, 0.0, 0.0, 0.0, 0.0, 0.0, 0.0,...  \n",
       "1  [[0.0, 0.0, 0.0, 0.0, 0.0, 0.0, 0.0, 0.0, 0.0,...  \n",
       "2  [[0.0, 0.0, 0.0, 0.0, 0.0, 0.0, 0.0, 0.0, 0.0,...  \n",
       "\n",
       "[3 rows x 23 columns]"
      ]
     },
     "execution_count": 17,
     "metadata": {},
     "output_type": "execute_result"
    }
   ],
   "source": [
    "seg_df = seg_df.loc[(seg_df[\"indv\"]==\"OMGO\")]\n",
    "seg_df[:3]"
   ]
  },
  {
   "cell_type": "code",
   "execution_count": 18,
   "id": "ffbf0060",
   "metadata": {},
   "outputs": [],
   "source": [
    "seg_df.sort_values(by=['ID'], inplace=True)"
   ]
  },
  {
   "cell_type": "code",
   "execution_count": 19,
   "id": "76026eb2",
   "metadata": {},
   "outputs": [
    {
     "data": {
      "text/plain": [
       "11"
      ]
     },
     "execution_count": 19,
     "metadata": {},
     "output_type": "execute_result"
    }
   ],
   "source": [
    "len(seg_df.loc[(seg_df[\"labels\"]==\"NL\")])"
   ]
  },
  {
   "cell_type": "code",
   "execution_count": 20,
   "id": "a0f01092",
   "metadata": {},
   "outputs": [
    {
     "data": {
      "text/plain": [
       "146"
      ]
     },
     "execution_count": 20,
     "metadata": {},
     "output_type": "execute_result"
    }
   ],
   "source": [
    "len(seg_df.loc[(seg_df[\"labels\"]==\"SH\")])"
   ]
  },
  {
   "cell_type": "code",
   "execution_count": 21,
   "id": "cb155723",
   "metadata": {},
   "outputs": [
    {
     "data": {
      "text/plain": [
       "62"
      ]
     },
     "execution_count": 21,
     "metadata": {},
     "output_type": "execute_result"
    }
   ],
   "source": [
    "len(seg_df.loc[(seg_df[\"labels\"]==\"DS\")])"
   ]
  },
  {
   "cell_type": "code",
   "execution_count": 22,
   "id": "9733413e",
   "metadata": {},
   "outputs": [
    {
     "data": {
      "text/plain": [
       "33"
      ]
     },
     "execution_count": 22,
     "metadata": {},
     "output_type": "execute_result"
    }
   ],
   "source": [
    "len(seg_df.loc[(seg_df[\"labels\"]==\"LH\")])"
   ]
  },
  {
   "cell_type": "code",
   "execution_count": 23,
   "id": "05469dc5",
   "metadata": {},
   "outputs": [],
   "source": [
    "seg_df2 = seg_df.loc[(seg_df[\"labels\"]!=\"NL\")]"
   ]
  },
  {
   "cell_type": "markdown",
   "id": "893a82ce",
   "metadata": {},
   "source": [
    "Removed the NL segment class due to its very low size"
   ]
  },
  {
   "cell_type": "markdown",
   "id": "54b85cc8",
   "metadata": {},
   "source": [
    "## Balance counts between segment classes\n",
    "-we will reduce the number of SH segments to be equal to the count of DS segments (N=62), rather than the smallest class (LH; N=33), to boost the sample size (too small a sample size hinders the effectiveness of UMAP)."
   ]
  },
  {
   "cell_type": "code",
   "execution_count": 24,
   "id": "27b7f4c1",
   "metadata": {},
   "outputs": [],
   "source": [
    "SHdf = seg_df2.loc[(seg_df2[\"labels\"]==\"SH\")]"
   ]
  },
  {
   "cell_type": "code",
   "execution_count": 25,
   "id": "d3220d6b",
   "metadata": {},
   "outputs": [
    {
     "data": {
      "text/plain": [
       "146"
      ]
     },
     "execution_count": 25,
     "metadata": {},
     "output_type": "execute_result"
    }
   ],
   "source": [
    "len(SHdf)"
   ]
  },
  {
   "cell_type": "code",
   "execution_count": 26,
   "id": "58081599",
   "metadata": {},
   "outputs": [
    {
     "data": {
      "text/plain": [
       "62"
      ]
     },
     "execution_count": 26,
     "metadata": {},
     "output_type": "execute_result"
    }
   ],
   "source": [
    "#Take random sample of unique SH segments\n",
    "SH = [i for i in SHdf.ID.unique()]\n",
    "df = pd.DataFrame(SH)  #dataframe of unique segments\n",
    "df = df.astype(int) #change dataframe to integer type\n",
    "samps = df.sample(frac = 0.425) \n",
    "ds = list(samps[0])\n",
    "len(ds)"
   ]
  },
  {
   "cell_type": "code",
   "execution_count": 27,
   "id": "34e10334",
   "metadata": {},
   "outputs": [
    {
     "data": {
      "text/html": [
       "<div>\n",
       "<style scoped>\n",
       "    .dataframe tbody tr th:only-of-type {\n",
       "        vertical-align: middle;\n",
       "    }\n",
       "\n",
       "    .dataframe tbody tr th {\n",
       "        vertical-align: top;\n",
       "    }\n",
       "\n",
       "    .dataframe thead th {\n",
       "        text-align: right;\n",
       "    }\n",
       "</style>\n",
       "<table border=\"1\" class=\"dataframe\">\n",
       "  <thead>\n",
       "    <tr style=\"text-align: right;\">\n",
       "      <th></th>\n",
       "      <th>start_time</th>\n",
       "      <th>end_time</th>\n",
       "      <th>labels</th>\n",
       "      <th>ID</th>\n",
       "      <th>start_times</th>\n",
       "      <th>end_times</th>\n",
       "      <th>unit_label</th>\n",
       "      <th>note_pos_unit</th>\n",
       "      <th>unit_unique_num</th>\n",
       "      <th>unit_pos_seq</th>\n",
       "      <th>...</th>\n",
       "      <th>indv</th>\n",
       "      <th>indvi</th>\n",
       "      <th>filename</th>\n",
       "      <th>group</th>\n",
       "      <th>location</th>\n",
       "      <th>sex</th>\n",
       "      <th>wav_loc</th>\n",
       "      <th>key</th>\n",
       "      <th>rate</th>\n",
       "      <th>specs</th>\n",
       "    </tr>\n",
       "  </thead>\n",
       "  <tbody>\n",
       "    <tr>\n",
       "      <th>11</th>\n",
       "      <td>13.294838</td>\n",
       "      <td>13.322906</td>\n",
       "      <td>SH</td>\n",
       "      <td>735</td>\n",
       "      <td>13.294838</td>\n",
       "      <td>13.322906</td>\n",
       "      <td>SHSHSHLH</td>\n",
       "      <td>2</td>\n",
       "      <td>303</td>\n",
       "      <td>3</td>\n",
       "      <td>...</td>\n",
       "      <td>OMGO</td>\n",
       "      <td>0</td>\n",
       "      <td>MBG OMGO Alert and Combo Series 1 200220 AM b</td>\n",
       "      <td>MBG</td>\n",
       "      <td>CRAWLEY</td>\n",
       "      <td>F</td>\n",
       "      <td>C:/Users/slwal/anaconda3/envs/PY36/avgn_paper-...</td>\n",
       "      <td>MBG OMGO Alert and Combo Series 1 200220 AM b</td>\n",
       "      <td>44100</td>\n",
       "      <td>[[0.0, 0.0, 0.0, 0.0, 0.0, 0.0, 0.0, 0.0, 0.0,...</td>\n",
       "    </tr>\n",
       "    <tr>\n",
       "      <th>13</th>\n",
       "      <td>20.008098</td>\n",
       "      <td>20.031107</td>\n",
       "      <td>SH</td>\n",
       "      <td>737</td>\n",
       "      <td>20.008098</td>\n",
       "      <td>20.031107</td>\n",
       "      <td>SHNLDS</td>\n",
       "      <td>0</td>\n",
       "      <td>304</td>\n",
       "      <td>0</td>\n",
       "      <td>...</td>\n",
       "      <td>OMGO</td>\n",
       "      <td>0</td>\n",
       "      <td>MBG OMGO Alert and Combo Series 1 200220 AM b</td>\n",
       "      <td>MBG</td>\n",
       "      <td>CRAWLEY</td>\n",
       "      <td>F</td>\n",
       "      <td>C:/Users/slwal/anaconda3/envs/PY36/avgn_paper-...</td>\n",
       "      <td>MBG OMGO Alert and Combo Series 1 200220 AM b</td>\n",
       "      <td>44100</td>\n",
       "      <td>[[0.0, 0.0, 0.0, 0.0, 0.0, 0.0, 0.0, 0.0, 0.0,...</td>\n",
       "    </tr>\n",
       "  </tbody>\n",
       "</table>\n",
       "<p>2 rows × 23 columns</p>\n",
       "</div>"
      ],
      "text/plain": [
       "    start_time   end_time labels   ID  start_times  end_times unit_label  \\\n",
       "11   13.294838  13.322906     SH  735    13.294838  13.322906   SHSHSHLH   \n",
       "13   20.008098  20.031107     SH  737    20.008098  20.031107     SHNLDS   \n",
       "\n",
       "    note_pos_unit  unit_unique_num  unit_pos_seq  ...  indv  indvi  \\\n",
       "11              2              303             3  ...  OMGO      0   \n",
       "13              0              304             0  ...  OMGO      0   \n",
       "\n",
       "                                         filename group  location sex  \\\n",
       "11  MBG OMGO Alert and Combo Series 1 200220 AM b   MBG   CRAWLEY   F   \n",
       "13  MBG OMGO Alert and Combo Series 1 200220 AM b   MBG   CRAWLEY   F   \n",
       "\n",
       "                                              wav_loc  \\\n",
       "11  C:/Users/slwal/anaconda3/envs/PY36/avgn_paper-...   \n",
       "13  C:/Users/slwal/anaconda3/envs/PY36/avgn_paper-...   \n",
       "\n",
       "                                              key   rate  \\\n",
       "11  MBG OMGO Alert and Combo Series 1 200220 AM b  44100   \n",
       "13  MBG OMGO Alert and Combo Series 1 200220 AM b  44100   \n",
       "\n",
       "                                                specs  \n",
       "11  [[0.0, 0.0, 0.0, 0.0, 0.0, 0.0, 0.0, 0.0, 0.0,...  \n",
       "13  [[0.0, 0.0, 0.0, 0.0, 0.0, 0.0, 0.0, 0.0, 0.0,...  \n",
       "\n",
       "[2 rows x 23 columns]"
      ]
     },
     "execution_count": 27,
     "metadata": {},
     "output_type": "execute_result"
    }
   ],
   "source": [
    "SH_df = SHdf.loc[SHdf.ID.isin(ds)]  ##subset dataframe of segs if their ID is in random sample\n",
    "SH_df[:2]"
   ]
  },
  {
   "cell_type": "code",
   "execution_count": 28,
   "id": "21b06b96",
   "metadata": {},
   "outputs": [],
   "source": [
    "noSHdf = seg_df2.loc[(seg_df2[\"labels\"]!=\"SH\")]"
   ]
  },
  {
   "cell_type": "code",
   "execution_count": 29,
   "id": "99e52d9e",
   "metadata": {},
   "outputs": [
    {
     "data": {
      "text/html": [
       "<div>\n",
       "<style scoped>\n",
       "    .dataframe tbody tr th:only-of-type {\n",
       "        vertical-align: middle;\n",
       "    }\n",
       "\n",
       "    .dataframe tbody tr th {\n",
       "        vertical-align: top;\n",
       "    }\n",
       "\n",
       "    .dataframe thead th {\n",
       "        text-align: right;\n",
       "    }\n",
       "</style>\n",
       "<table border=\"1\" class=\"dataframe\">\n",
       "  <thead>\n",
       "    <tr style=\"text-align: right;\">\n",
       "      <th></th>\n",
       "      <th>start_time</th>\n",
       "      <th>end_time</th>\n",
       "      <th>labels</th>\n",
       "      <th>ID</th>\n",
       "      <th>start_times</th>\n",
       "      <th>end_times</th>\n",
       "      <th>unit_label</th>\n",
       "      <th>note_pos_unit</th>\n",
       "      <th>unit_unique_num</th>\n",
       "      <th>unit_pos_seq</th>\n",
       "      <th>...</th>\n",
       "      <th>indv</th>\n",
       "      <th>indvi</th>\n",
       "      <th>filename</th>\n",
       "      <th>group</th>\n",
       "      <th>location</th>\n",
       "      <th>sex</th>\n",
       "      <th>wav_loc</th>\n",
       "      <th>key</th>\n",
       "      <th>rate</th>\n",
       "      <th>specs</th>\n",
       "    </tr>\n",
       "  </thead>\n",
       "  <tbody>\n",
       "    <tr>\n",
       "      <th>11</th>\n",
       "      <td>13.294838</td>\n",
       "      <td>13.322906</td>\n",
       "      <td>SH</td>\n",
       "      <td>735</td>\n",
       "      <td>13.294838</td>\n",
       "      <td>13.322906</td>\n",
       "      <td>SHSHSHLH</td>\n",
       "      <td>2</td>\n",
       "      <td>303</td>\n",
       "      <td>3</td>\n",
       "      <td>...</td>\n",
       "      <td>OMGO</td>\n",
       "      <td>0</td>\n",
       "      <td>MBG OMGO Alert and Combo Series 1 200220 AM b</td>\n",
       "      <td>MBG</td>\n",
       "      <td>CRAWLEY</td>\n",
       "      <td>F</td>\n",
       "      <td>C:/Users/slwal/anaconda3/envs/PY36/avgn_paper-...</td>\n",
       "      <td>MBG OMGO Alert and Combo Series 1 200220 AM b</td>\n",
       "      <td>44100</td>\n",
       "      <td>[[0.0, 0.0, 0.0, 0.0, 0.0, 0.0, 0.0, 0.0, 0.0,...</td>\n",
       "    </tr>\n",
       "    <tr>\n",
       "      <th>13</th>\n",
       "      <td>20.008098</td>\n",
       "      <td>20.031107</td>\n",
       "      <td>SH</td>\n",
       "      <td>737</td>\n",
       "      <td>20.008098</td>\n",
       "      <td>20.031107</td>\n",
       "      <td>SHNLDS</td>\n",
       "      <td>0</td>\n",
       "      <td>304</td>\n",
       "      <td>0</td>\n",
       "      <td>...</td>\n",
       "      <td>OMGO</td>\n",
       "      <td>0</td>\n",
       "      <td>MBG OMGO Alert and Combo Series 1 200220 AM b</td>\n",
       "      <td>MBG</td>\n",
       "      <td>CRAWLEY</td>\n",
       "      <td>F</td>\n",
       "      <td>C:/Users/slwal/anaconda3/envs/PY36/avgn_paper-...</td>\n",
       "      <td>MBG OMGO Alert and Combo Series 1 200220 AM b</td>\n",
       "      <td>44100</td>\n",
       "      <td>[[0.0, 0.0, 0.0, 0.0, 0.0, 0.0, 0.0, 0.0, 0.0,...</td>\n",
       "    </tr>\n",
       "  </tbody>\n",
       "</table>\n",
       "<p>2 rows × 23 columns</p>\n",
       "</div>"
      ],
      "text/plain": [
       "    start_time   end_time labels   ID  start_times  end_times unit_label  \\\n",
       "11   13.294838  13.322906     SH  735    13.294838  13.322906   SHSHSHLH   \n",
       "13   20.008098  20.031107     SH  737    20.008098  20.031107     SHNLDS   \n",
       "\n",
       "    note_pos_unit  unit_unique_num  unit_pos_seq  ...  indv  indvi  \\\n",
       "11              2              303             3  ...  OMGO      0   \n",
       "13              0              304             0  ...  OMGO      0   \n",
       "\n",
       "                                         filename group  location sex  \\\n",
       "11  MBG OMGO Alert and Combo Series 1 200220 AM b   MBG   CRAWLEY   F   \n",
       "13  MBG OMGO Alert and Combo Series 1 200220 AM b   MBG   CRAWLEY   F   \n",
       "\n",
       "                                              wav_loc  \\\n",
       "11  C:/Users/slwal/anaconda3/envs/PY36/avgn_paper-...   \n",
       "13  C:/Users/slwal/anaconda3/envs/PY36/avgn_paper-...   \n",
       "\n",
       "                                              key   rate  \\\n",
       "11  MBG OMGO Alert and Combo Series 1 200220 AM b  44100   \n",
       "13  MBG OMGO Alert and Combo Series 1 200220 AM b  44100   \n",
       "\n",
       "                                                specs  \n",
       "11  [[0.0, 0.0, 0.0, 0.0, 0.0, 0.0, 0.0, 0.0, 0.0,...  \n",
       "13  [[0.0, 0.0, 0.0, 0.0, 0.0, 0.0, 0.0, 0.0, 0.0,...  \n",
       "\n",
       "[2 rows x 23 columns]"
      ]
     },
     "execution_count": 29,
     "metadata": {},
     "output_type": "execute_result"
    }
   ],
   "source": [
    "#attach to dataframe with other OMGO segments\n",
    "frames = [SH_df, noSHdf]\n",
    "OMGO_df = pd.concat(frames)\n",
    "OMGO_df[:2]"
   ]
  },
  {
   "cell_type": "markdown",
   "id": "bc0076cb",
   "metadata": {},
   "source": [
    "Check to make sure this dataframe contains the right count of segments per class."
   ]
  },
  {
   "cell_type": "code",
   "execution_count": 30,
   "id": "6c7a6d10",
   "metadata": {},
   "outputs": [
    {
     "data": {
      "text/plain": [
       "157"
      ]
     },
     "execution_count": 30,
     "metadata": {},
     "output_type": "execute_result"
    }
   ],
   "source": [
    "len(OMGO_df)"
   ]
  },
  {
   "cell_type": "code",
   "execution_count": 31,
   "id": "49920dbc",
   "metadata": {},
   "outputs": [
    {
     "data": {
      "text/plain": [
       "62"
      ]
     },
     "execution_count": 31,
     "metadata": {},
     "output_type": "execute_result"
    }
   ],
   "source": [
    "len(np.array(OMGO_df.loc[(OMGO_df[\"labels\"]==\"SH\")]))"
   ]
  },
  {
   "cell_type": "code",
   "execution_count": 32,
   "id": "81b023ea",
   "metadata": {},
   "outputs": [
    {
     "data": {
      "text/plain": [
       "62"
      ]
     },
     "execution_count": 32,
     "metadata": {},
     "output_type": "execute_result"
    }
   ],
   "source": [
    "len(np.array(OMGO_df.loc[(OMGO_df[\"labels\"]==\"DS\")]))"
   ]
  },
  {
   "cell_type": "code",
   "execution_count": 33,
   "id": "1fbfa9cd",
   "metadata": {},
   "outputs": [
    {
     "data": {
      "text/plain": [
       "33"
      ]
     },
     "execution_count": 33,
     "metadata": {},
     "output_type": "execute_result"
    }
   ],
   "source": [
    "len(np.array(OMGO_df.loc[(OMGO_df[\"labels\"]==\"LH\")]))"
   ]
  },
  {
   "cell_type": "markdown",
   "id": "eb5c9ed6",
   "metadata": {},
   "source": [
    "## UMAP"
   ]
  },
  {
   "cell_type": "code",
   "execution_count": 34,
   "id": "a5a29fee",
   "metadata": {},
   "outputs": [],
   "source": [
    "OMGO_df = OMGO_df[np.array([np.sum(i) > 0.0 for i in OMGO_df.specs.values])\n",
    "]"
   ]
  },
  {
   "cell_type": "code",
   "execution_count": 36,
   "id": "c04f4d90",
   "metadata": {},
   "outputs": [],
   "source": [
    "def norm(x):\n",
    "    return (x-np.min(x)) / (np.max(x) - np.min(x))"
   ]
  },
  {
   "cell_type": "code",
   "execution_count": 37,
   "id": "d766f160",
   "metadata": {},
   "outputs": [
    {
     "data": {
      "application/vnd.jupyter.widget-view+json": {
       "model_id": "b5532f67b88f4e4e8ad3e903e2bcccbf",
       "version_major": 2,
       "version_minor": 0
      },
      "text/plain": [
       "  0%|          | 0/157 [00:00<?, ?it/s]"
      ]
     },
     "metadata": {},
     "output_type": "display_data"
    },
    {
     "data": {
      "text/plain": [
       "(157, 4096)"
      ]
     },
     "execution_count": 37,
     "metadata": {},
     "output_type": "execute_result"
    }
   ],
   "source": [
    "specs = list(OMGO_df.specs.values)\n",
    "specs = [norm(i) for i in tqdm(specs)]\n",
    "specs_flattened = flatten_spectrograms(specs)\n",
    "np.shape(specs_flattened)"
   ]
  },
  {
   "cell_type": "code",
   "execution_count": 38,
   "id": "68f1aefc",
   "metadata": {},
   "outputs": [
    {
     "name": "stdout",
     "output_type": "stream",
     "text": [
      "UMAP(min_dist=0.0, verbose=True)\n",
      "Construct fuzzy simplicial set\n",
      "Wed Nov 16 16:58:55 2022 Finding Nearest Neighbors\n",
      "Wed Nov 16 16:58:56 2022 Finished Nearest Neighbor Search\n",
      "Wed Nov 16 16:58:58 2022 Construct embedding\n",
      "\tcompleted  0  /  500 epochs\n",
      "\tcompleted  50  /  500 epochs\n",
      "\tcompleted  100  /  500 epochs\n",
      "\tcompleted  150  /  500 epochs\n",
      "\tcompleted  200  /  500 epochs\n",
      "\tcompleted  250  /  500 epochs\n",
      "\tcompleted  300  /  500 epochs\n",
      "\tcompleted  350  /  500 epochs\n",
      "\tcompleted  400  /  500 epochs\n",
      "\tcompleted  450  /  500 epochs\n",
      "Wed Nov 16 16:58:59 2022 Finished embedding\n"
     ]
    }
   ],
   "source": [
    "fit = umap.UMAP(min_dist=0.0, verbose = True)\n",
    "z = list(fit.fit_transform(specs_flattened))"
   ]
  },
  {
   "cell_type": "code",
   "execution_count": 43,
   "id": "abecf335",
   "metadata": {},
   "outputs": [],
   "source": [
    "OMGO_df['umap'] = list(z)"
   ]
  },
  {
   "cell_type": "code",
   "execution_count": 44,
   "id": "27214775",
   "metadata": {},
   "outputs": [],
   "source": [
    "#save df\n",
    "save_loc = DATA_DIR / DATASET_ID / DT_ID /  'OMGO_UMAP.pickle'\n",
    "ensure_dir(save_loc.as_posix())\n",
    "OMGO_df.to_pickle(save_loc)"
   ]
  },
  {
   "cell_type": "code",
   "execution_count": null,
   "id": "49973e74",
   "metadata": {},
   "outputs": [],
   "source": []
  }
 ],
 "metadata": {
  "kernelspec": {
   "display_name": "Python 3",
   "language": "python",
   "name": "python3"
  },
  "language_info": {
   "codemirror_mode": {
    "name": "ipython",
    "version": 3
   },
   "file_extension": ".py",
   "mimetype": "text/x-python",
   "name": "python",
   "nbconvert_exporter": "python",
   "pygments_lexer": "ipython3",
   "version": "3.6.13"
  }
 },
 "nbformat": 4,
 "nbformat_minor": 5
}
