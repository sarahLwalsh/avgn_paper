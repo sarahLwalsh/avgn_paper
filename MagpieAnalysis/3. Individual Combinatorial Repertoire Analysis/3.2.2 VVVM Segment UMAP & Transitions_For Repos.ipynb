{
 "cells": [
  {
   "cell_type": "markdown",
   "id": "6db7034b",
   "metadata": {},
   "source": [
    "# Sequential Transition Analysis\n",
    "The following notebook uses first-order markovian rules to determine forward transition probabilities for segments within calls produced by the individual VVVM, depending on the immediately preceding segment. See [Sainburg et al., (2020)](https://doi.org/10.1371/journal.pcbi.1008228) and [github.com/timsainb/avgn](https://github.com/timsainb/avgn_paper) for further detail on this process.\n",
    "\n",
    "This notebook uses Python v3.8.13 (compared to v3.6 used in earlier notebooks)."
   ]
  },
  {
   "cell_type": "code",
   "execution_count": 1,
   "id": "3eb7df06",
   "metadata": {},
   "outputs": [],
   "source": [
    "from tqdm.auto import tqdm"
   ]
  },
  {
   "cell_type": "code",
   "execution_count": 2,
   "id": "95d3583e",
   "metadata": {},
   "outputs": [],
   "source": [
    "import avgn"
   ]
  },
  {
   "cell_type": "code",
   "execution_count": 3,
   "id": "45d2b615",
   "metadata": {},
   "outputs": [],
   "source": [
    "import pandas as pd\n",
    "import numpy as np\n",
    "from avgn.utils.paths import DATA_DIR, ensure_dir, FIGURE_DIR"
   ]
  },
  {
   "cell_type": "code",
   "execution_count": 4,
   "id": "8c490d14",
   "metadata": {},
   "outputs": [],
   "source": [
    "DATASET_ID = \"git_repos\""
   ]
  },
  {
   "cell_type": "code",
   "execution_count": 5,
   "id": "04ec6e42",
   "metadata": {},
   "outputs": [],
   "source": [
    "DT_ID = '2022-03-04_18-41-29'"
   ]
  },
  {
   "cell_type": "code",
   "execution_count": 6,
   "id": "eb28146d",
   "metadata": {},
   "outputs": [
    {
     "data": {
      "text/html": [
       "<div>\n",
       "<style scoped>\n",
       "    .dataframe tbody tr th:only-of-type {\n",
       "        vertical-align: middle;\n",
       "    }\n",
       "\n",
       "    .dataframe tbody tr th {\n",
       "        vertical-align: top;\n",
       "    }\n",
       "\n",
       "    .dataframe thead th {\n",
       "        text-align: right;\n",
       "    }\n",
       "</style>\n",
       "<table border=\"1\" class=\"dataframe\">\n",
       "  <thead>\n",
       "    <tr style=\"text-align: right;\">\n",
       "      <th></th>\n",
       "      <th>start_time</th>\n",
       "      <th>end_time</th>\n",
       "      <th>labels</th>\n",
       "      <th>ID</th>\n",
       "      <th>start_times</th>\n",
       "      <th>end_times</th>\n",
       "      <th>call_label</th>\n",
       "      <th>call_start</th>\n",
       "      <th>seg_pos_call</th>\n",
       "      <th>call_unique_num</th>\n",
       "      <th>...</th>\n",
       "      <th>group</th>\n",
       "      <th>location</th>\n",
       "      <th>sex</th>\n",
       "      <th>wav_loc</th>\n",
       "      <th>key</th>\n",
       "      <th>rate</th>\n",
       "      <th>specs</th>\n",
       "      <th>comb_labels</th>\n",
       "      <th>call_lab_simp</th>\n",
       "      <th>umap</th>\n",
       "    </tr>\n",
       "  </thead>\n",
       "  <tbody>\n",
       "    <tr>\n",
       "      <th>8</th>\n",
       "      <td>83.354563</td>\n",
       "      <td>83.394007</td>\n",
       "      <td>SH</td>\n",
       "      <td>1103</td>\n",
       "      <td>83.354563</td>\n",
       "      <td>83.394007</td>\n",
       "      <td>SHDS</td>\n",
       "      <td>83.354563</td>\n",
       "      <td>0</td>\n",
       "      <td>443</td>\n",
       "      <td>...</td>\n",
       "      <td>RVD</td>\n",
       "      <td>GUILDFORD</td>\n",
       "      <td>F</td>\n",
       "      <td>C:/Users/slwal/anaconda3/envs/PY36/avgn_paper-...</td>\n",
       "      <td>RVD VVVM Aerial Predator Call series 1 051120 AM</td>\n",
       "      <td>44100</td>\n",
       "      <td>[[0.0, 0.0, 0.0, 0.0, 0.0, 0.0, 0.0, 0.0, 0.0,...</td>\n",
       "      <td>SH</td>\n",
       "      <td>SH-DS</td>\n",
       "      <td>[3.8620093, 0.2893895]</td>\n",
       "    </tr>\n",
       "    <tr>\n",
       "      <th>3</th>\n",
       "      <td>0.872580</td>\n",
       "      <td>0.968577</td>\n",
       "      <td>SH</td>\n",
       "      <td>1122</td>\n",
       "      <td>0.872580</td>\n",
       "      <td>0.968577</td>\n",
       "      <td>SHDSSHSHLH</td>\n",
       "      <td>0.872580</td>\n",
       "      <td>0</td>\n",
       "      <td>452</td>\n",
       "      <td>...</td>\n",
       "      <td>RVD</td>\n",
       "      <td>GUILDFORD</td>\n",
       "      <td>F</td>\n",
       "      <td>C:/Users/slwal/anaconda3/envs/PY36/avgn_paper-...</td>\n",
       "      <td>RVD VVVM Call combo 1 170220 AM</td>\n",
       "      <td>44100</td>\n",
       "      <td>[[0.0, 0.0, 0.0, 0.0, 0.0, 0.0, 0.0, 0.0, 0.0,...</td>\n",
       "      <td>SH</td>\n",
       "      <td>SH-DS-SH-SH-LH</td>\n",
       "      <td>[4.3479133, 0.30481717]</td>\n",
       "    </tr>\n",
       "    <tr>\n",
       "      <th>1</th>\n",
       "      <td>0.692265</td>\n",
       "      <td>0.736698</td>\n",
       "      <td>SH</td>\n",
       "      <td>1128</td>\n",
       "      <td>0.692265</td>\n",
       "      <td>0.736698</td>\n",
       "      <td>SHDS</td>\n",
       "      <td>0.692265</td>\n",
       "      <td>0</td>\n",
       "      <td>454</td>\n",
       "      <td>...</td>\n",
       "      <td>RVD</td>\n",
       "      <td>GUILDFORD</td>\n",
       "      <td>F</td>\n",
       "      <td>C:/Users/slwal/anaconda3/envs/PY36/avgn_paper-...</td>\n",
       "      <td>RVD VVVM Call Combo Song Discrete Series 1 &amp; X...</td>\n",
       "      <td>44100</td>\n",
       "      <td>[[0.0, 0.0, 0.0, 0.0, 0.0, 0.0, 0.0, 0.0, 0.0,...</td>\n",
       "      <td>SH</td>\n",
       "      <td>SH-DS</td>\n",
       "      <td>[3.833734, 0.7222579]</td>\n",
       "    </tr>\n",
       "  </tbody>\n",
       "</table>\n",
       "<p>3 rows × 28 columns</p>\n",
       "</div>"
      ],
      "text/plain": [
       "   start_time   end_time labels    ID  start_times  end_times  call_label  \\\n",
       "8   83.354563  83.394007     SH  1103    83.354563  83.394007        SHDS   \n",
       "3    0.872580   0.968577     SH  1122     0.872580   0.968577  SHDSSHSHLH   \n",
       "1    0.692265   0.736698     SH  1128     0.692265   0.736698        SHDS   \n",
       "\n",
       "   call_start  seg_pos_call  call_unique_num  ...  group   location  sex  \\\n",
       "8   83.354563             0              443  ...    RVD  GUILDFORD    F   \n",
       "3    0.872580             0              452  ...    RVD  GUILDFORD    F   \n",
       "1    0.692265             0              454  ...    RVD  GUILDFORD    F   \n",
       "\n",
       "                                             wav_loc  \\\n",
       "8  C:/Users/slwal/anaconda3/envs/PY36/avgn_paper-...   \n",
       "3  C:/Users/slwal/anaconda3/envs/PY36/avgn_paper-...   \n",
       "1  C:/Users/slwal/anaconda3/envs/PY36/avgn_paper-...   \n",
       "\n",
       "                                                 key   rate  \\\n",
       "8   RVD VVVM Aerial Predator Call series 1 051120 AM  44100   \n",
       "3                    RVD VVVM Call combo 1 170220 AM  44100   \n",
       "1  RVD VVVM Call Combo Song Discrete Series 1 & X...  44100   \n",
       "\n",
       "                                               specs comb_labels  \\\n",
       "8  [[0.0, 0.0, 0.0, 0.0, 0.0, 0.0, 0.0, 0.0, 0.0,...          SH   \n",
       "3  [[0.0, 0.0, 0.0, 0.0, 0.0, 0.0, 0.0, 0.0, 0.0,...          SH   \n",
       "1  [[0.0, 0.0, 0.0, 0.0, 0.0, 0.0, 0.0, 0.0, 0.0,...          SH   \n",
       "\n",
       "    call_lab_simp                     umap  \n",
       "8           SH-DS   [3.8620093, 0.2893895]  \n",
       "3  SH-DS-SH-SH-LH  [4.3479133, 0.30481717]  \n",
       "1           SH-DS    [3.833734, 0.7222579]  \n",
       "\n",
       "[3 rows x 28 columns]"
      ]
     },
     "execution_count": 6,
     "metadata": {},
     "output_type": "execute_result"
    }
   ],
   "source": [
    "seg_df = pd.read_pickle(DATA_DIR / DATASET_ID / DT_ID /  'VVVM_UMAP.pickle')\n",
    "seg_df[:3]"
   ]
  },
  {
   "cell_type": "markdown",
   "id": "a3241841",
   "metadata": {},
   "source": [
    "### Plot barcodes for organization"
   ]
  },
  {
   "cell_type": "code",
   "execution_count": 7,
   "id": "c9aae78d",
   "metadata": {},
   "outputs": [],
   "source": [
    "import matplotlib.pyplot as plt\n",
    "from avgn.visualization.barcodes_magpie import plot_sorted_barcodes, indv_barcode"
   ]
  },
  {
   "cell_type": "code",
   "execution_count": 8,
   "id": "8ae4af50",
   "metadata": {},
   "outputs": [],
   "source": [
    "seg_df.sort_values(by=['comb_labels'], inplace = True)"
   ]
  },
  {
   "cell_type": "code",
   "execution_count": 9,
   "id": "1ea3c92b",
   "metadata": {},
   "outputs": [
    {
     "name": "stdout",
     "output_type": "stream",
     "text": [
      "comb_labels ['DS' 'LH' 'NL' 'SH']\n"
     ]
    },
    {
     "data": {
      "application/vnd.jupyter.widget-view+json": {
       "model_id": "",
       "version_major": 2,
       "version_minor": 0
      },
      "text/plain": [
       "  0%|          | 0/23 [00:00<?, ?it/s]"
      ]
     },
     "metadata": {},
     "output_type": "display_data"
    },
    {
     "data": {
      "application/vnd.jupyter.widget-view+json": {
       "model_id": "",
       "version_major": 2,
       "version_minor": 0
      },
      "text/plain": [
       "  0%|          | 0/23 [00:00<?, ?it/s]"
      ]
     },
     "metadata": {},
     "output_type": "display_data"
    },
    {
     "data": {
      "application/vnd.jupyter.widget-view+json": {
       "model_id": "",
       "version_major": 2,
       "version_minor": 0
      },
      "text/plain": [
       "  0%|          | 0/253 [00:00<?, ?it/s]"
      ]
     },
     "metadata": {},
     "output_type": "display_data"
    },
    {
     "data": {
      "image/png": "[encoded data removed]",
      "text/plain": [
       "<Figure size 288x72 with 1 Axes>"
      ]
     },
     "metadata": {
      "needs_background": "light"
     },
     "output_type": "display_data"
    },
    {
     "data": {
      "image/png": "[encoded data removed]",
      "text/plain": [
       "<Figure size 1440x216 with 1 Axes>"
      ]
     },
     "metadata": {
      "needs_background": "light"
     },
     "output_type": "display_data"
    }
   ],
   "source": [
    "color = ['xkcd:very dark blue','teal','indianred', 'thistle']\n",
    "\n",
    "all_dict = {}\n",
    "for label in [\"comb_labels\"]:\n",
    "    print(label, seg_df[label].unique())\n",
    "    color_lists, trans_lists, label_pal_dict, label_pal, label_dict = indv_barcode(\n",
    "        seg_df,\n",
    "        time_resolution=0.03,\n",
    "        label=\"comb_labels\",\n",
    "        pal=color,\n",
    "    )\n",
    "    \n",
    "    all_dict[label] = {\n",
    "    \"label_pal_dict\": label_pal_dict,\n",
    "    \"label_dict\": label_dict,\n",
    "    }\n",
    "    \n",
    "    fig, ax = plt.subplots(figsize=(20, 3))\n",
    "\n",
    "    plot_sorted_barcodes(\n",
    "        color_lists,\n",
    "        trans_lists,\n",
    "        max_list_len=600,\n",
    "        seq_len=100,\n",
    "        nex=200,\n",
    "        figsize=(10, 4),\n",
    "        ax=ax,\n",
    "    )\n",
    "    plt.show()\n"
   ]
  },
  {
   "cell_type": "code",
   "execution_count": 10,
   "id": "9c089031",
   "metadata": {},
   "outputs": [
    {
     "data": {
      "text/plain": [
       "244"
      ]
     },
     "execution_count": 10,
     "metadata": {},
     "output_type": "execute_result"
    }
   ],
   "source": [
    "len(seg_df)"
   ]
  },
  {
   "cell_type": "code",
   "execution_count": 11,
   "id": "7e2d7f5a",
   "metadata": {},
   "outputs": [],
   "source": [
    "seg_df.sort_values(by=['ID'], inplace = True)"
   ]
  },
  {
   "cell_type": "code",
   "execution_count": 12,
   "id": "9a77e528",
   "metadata": {},
   "outputs": [],
   "source": [
    "from avgn.visualization.projections_magpie import scatter_spec\n",
    "from avgn.utils.general import save_fig"
   ]
  },
  {
   "cell_type": "code",
   "execution_count": 13,
   "id": "1333469b",
   "metadata": {},
   "outputs": [],
   "source": [
    "import seaborn as sns"
   ]
  },
  {
   "cell_type": "markdown",
   "id": "8eab61e2",
   "metadata": {},
   "source": [
    "### Combine UMAP & Transition Graph\n",
    "- this plot shows the segment UMAP as well as the transition graph "
   ]
  },
  {
   "cell_type": "code",
   "execution_count": 14,
   "id": "98941ae0",
   "metadata": {},
   "outputs": [],
   "source": [
    "def norm(x):\n",
    "    return (x-np.min(x)) / (np.max(x) - np.min(x))"
   ]
  },
  {
   "cell_type": "code",
   "execution_count": 15,
   "id": "f69da2bb",
   "metadata": {},
   "outputs": [
    {
     "data": {
      "application/vnd.jupyter.widget-view+json": {
       "model_id": "9b91a363a1254ddbb4d1df05ce25bfb7",
       "version_major": 2,
       "version_minor": 0
      },
      "text/plain": [
       "  0%|          | 0/244 [00:00<?, ?it/s]"
      ]
     },
     "metadata": {},
     "output_type": "display_data"
    }
   ],
   "source": [
    "specs = list(seg_df.specs.values)\n",
    "specs = [norm(i) for i in tqdm(specs)]"
   ]
  },
  {
   "cell_type": "code",
   "execution_count": 16,
   "id": "494f0c59",
   "metadata": {},
   "outputs": [],
   "source": [
    "from avgn.visualization.network_graph_magpie import plot_network_graph"
   ]
  },
  {
   "cell_type": "code",
   "execution_count": null,
   "id": "125d11cb",
   "metadata": {},
   "outputs": [],
   "source": [
    "fig = plt.figure()\n",
    "fig.set_figheight(12)\n",
    "fig.set_figwidth(24)\n",
    "ax1 = plt.subplot2grid(shape=(1, 24), loc=(0, 0), colspan=12)  ##1st Row\n",
    "ax2 = plt.subplot2grid(shape=(1, 24), loc=(0, 12), colspan=12) #2nd row\n",
    "\n",
    "\n",
    "color = ['xkcd:very dark blue','teal','indianred', 'thistle']\n",
    "\n",
    "nex = -1\n",
    "ax1.axis('off')\n",
    "scatter_spec(\n",
    "    np.array(list(seg_df['umap'].values)),\n",
    "    specs,\n",
    "    column_size=10,\n",
    "    x_range = [-6.25,15.5],\n",
    "    y_range = [-8.5, 12.25],\n",
    "    pal_color=\"hls\",\n",
    "    color_points=False,\n",
    "    enlarge_points=0,\n",
    "    ax = ax1,\n",
    "    range_pad = 0.15,\n",
    "    scatter_kwargs = {\n",
    "        'labels': seg_df.comb_labels.values,\n",
    "        'alpha':1,\n",
    "        's': 5,\n",
    "        'show_legend': False,\n",
    "        \"color_palette\": color,\n",
    "    },\n",
    "    matshow_kwargs = {\n",
    "        'cmap': plt.cm.Greys\n",
    "    },\n",
    "    line_kwargs = {\n",
    "        'lw':0.5,\n",
    "        'ls':\"dashed\",\n",
    "        'alpha':0.25,\n",
    "    },\n",
    "    draw_lines=True,\n",
    "    n_subset= 1000,\n",
    "    border_line_width = 3, \n",
    "\n",
    ")\n",
    "\n",
    "##Model\n",
    "for label in [\"comb_labels\"]:\n",
    "    print(label)\n",
    "    # plot graph\n",
    "    elements = seg_df[label].values\n",
    "    projections = np.array(list(seg_df['umap'].values))\n",
    "    sequence_ids = np.array(seg_df[\"call_unique_num\"])\n",
    "\n",
    "    label_pal_dict = all_dict[label]['label_pal_dict']\n",
    "    label_dict = all_dict[label]['label_dict']\n",
    "    pal_dict = {i:label_pal_dict[j] for i,j in label_dict.items()}\n",
    "    ax2.axis('off')\n",
    "    plot_network_graph(\n",
    "        elements, projections, sequence_ids, ax=ax2, pal_dict=pal_dict\n",
    "    )\n",
    "\n",
    "ax1.set_title(\"A)\", loc='left', fontsize = 30)\n",
    "ax2.set_title(\"B)\", loc='left', fontsize = 30)\n",
    "legend = ax2.legend(loc='lower right', labels = label_dict, fontsize=25)\n",
    "handles = legend.legendHandles\n",
    "#Create legend\n",
    "\n",
    "for i, handle in enumerate(handles):\n",
    "    handle.set_edgecolor(color[i]) # set_edgecolors\n",
    "    handle.set_facecolor(color[i])\n",
    "    #handle.set_alpha(0.7)\n",
    "\n",
    "plt.tight_layout()\n",
    "plt.show()\n"
   ]
  },
  {
   "cell_type": "code",
   "execution_count": 18,
   "id": "9dfea5b8",
   "metadata": {},
   "outputs": [],
   "source": [
    "from scipy.stats import kruskal\n",
    "from sklearn.metrics import silhouette_score, silhouette_samples"
   ]
  },
  {
   "cell_type": "code",
   "execution_count": 19,
   "id": "504f7a6b",
   "metadata": {},
   "outputs": [],
   "source": [
    "labscore = silhouette_score(list(np.array(list(seg_df['umap'].values))), labels = seg_df.comb_labels.values)"
   ]
  },
  {
   "cell_type": "code",
   "execution_count": null,
   "id": "f958c631",
   "metadata": {},
   "outputs": [],
   "source": [
    "labscore"
   ]
  },
  {
   "cell_type": "code",
   "execution_count": 21,
   "id": "0411a5c8",
   "metadata": {},
   "outputs": [],
   "source": [
    "samples = silhouette_samples(list(np.array(list(seg_df['umap'].values))), labels = seg_df.comb_labels.values)\n",
    "chance_samples = silhouette_samples(list(np.array(list(seg_df['umap'].values))), labels = np.random.permutation(seg_df.comb_labels.values))"
   ]
  },
  {
   "cell_type": "code",
   "execution_count": null,
   "id": "4196ff99",
   "metadata": {},
   "outputs": [],
   "source": [
    "KWlab = kruskal(samples, chance_samples)\n",
    "KWlab"
   ]
  }
 ],
 "metadata": {
  "kernelspec": {
   "display_name": "Python 3",
   "language": "python",
   "name": "python3"
  },
  "language_info": {
   "codemirror_mode": {
    "name": "ipython",
    "version": 3
   },
   "file_extension": ".py",
   "mimetype": "text/x-python",
   "name": "python",
   "nbconvert_exporter": "python",
   "pygments_lexer": "ipython3",
   "version": "3.6.13"
  }
 },
 "nbformat": 4,
 "nbformat_minor": 5
}
