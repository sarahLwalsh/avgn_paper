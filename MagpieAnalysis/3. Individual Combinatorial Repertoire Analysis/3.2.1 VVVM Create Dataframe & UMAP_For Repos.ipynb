{
 "cells": [
  {
   "cell_type": "markdown",
   "id": "d51d436c",
   "metadata": {},
   "source": [
    "### Analysis on Individual Combinatorial Repertoire\n",
    "Here we analyse the combinatorial repertoire for VVVM, who is one of the individuals with the largest count of spectrograms. In the next step we will view the UMAP, and have a look at the probabilities for segment transitions."
   ]
  },
  {
   "cell_type": "code",
   "execution_count": 1,
   "id": "1085c19d",
   "metadata": {},
   "outputs": [
    {
     "name": "stderr",
     "output_type": "stream",
     "text": [
      "c:\\users\\slwal\\anaconda3\\envs\\py36\\avgn_paper-2\\avgn\\utils\\general.py:8: TqdmExperimentalWarning: Using `tqdm.autonotebook.tqdm` in notebook mode. Use `tqdm.tqdm` instead to force console mode (e.g. in jupyter console)\n",
      "  from tqdm.autonotebook import tqdm\n"
     ]
    }
   ],
   "source": [
    "import avgn"
   ]
  },
  {
   "cell_type": "code",
   "execution_count": 2,
   "id": "e0a283bb",
   "metadata": {},
   "outputs": [],
   "source": [
    "import pandas as pd\n",
    "from avgn.utils.paths import DATA_DIR"
   ]
  },
  {
   "cell_type": "code",
   "execution_count": 3,
   "id": "c92fc644",
   "metadata": {},
   "outputs": [],
   "source": [
    "import numpy as np\n",
    "import matplotlib.pyplot as plt\n",
    "%matplotlib inline\n",
    "from tqdm.auto import tqdm\n",
    "from joblib import Parallel, delayed\n",
    "import umap\n",
    "import pandas as pd"
   ]
  },
  {
   "cell_type": "code",
   "execution_count": 4,
   "id": "86977f86",
   "metadata": {},
   "outputs": [],
   "source": [
    "from avgn.utils.paths import DATA_DIR, most_recent_subdirectory, ensure_dir\n",
    "from avgn.signalprocessing.create_spectrogram_dataset import flatten_spectrograms\n",
    "from avgn.visualization.spectrogram import draw_spec_set\n",
    "from avgn.utils.paths import DATA_DIR, ensure_dir"
   ]
  },
  {
   "cell_type": "code",
   "execution_count": 5,
   "id": "5bfbc7c4",
   "metadata": {},
   "outputs": [],
   "source": [
    "DATASET_ID = \"git_repos\""
   ]
  },
  {
   "cell_type": "code",
   "execution_count": 6,
   "id": "780f0083",
   "metadata": {},
   "outputs": [],
   "source": [
    "DT_ID = '2022-03-04_18-41-29'"
   ]
  },
  {
   "cell_type": "code",
   "execution_count": 7,
   "id": "89ad2ff0",
   "metadata": {},
   "outputs": [
    {
     "data": {
      "text/html": [
       "<div>\n",
       "<style scoped>\n",
       "    .dataframe tbody tr th:only-of-type {\n",
       "        vertical-align: middle;\n",
       "    }\n",
       "\n",
       "    .dataframe tbody tr th {\n",
       "        vertical-align: top;\n",
       "    }\n",
       "\n",
       "    .dataframe thead th {\n",
       "        text-align: right;\n",
       "    }\n",
       "</style>\n",
       "<table border=\"1\" class=\"dataframe\">\n",
       "  <thead>\n",
       "    <tr style=\"text-align: right;\">\n",
       "      <th></th>\n",
       "      <th>start_time</th>\n",
       "      <th>end_time</th>\n",
       "      <th>labels</th>\n",
       "      <th>ID</th>\n",
       "      <th>start_times</th>\n",
       "      <th>end_times</th>\n",
       "      <th>call_label</th>\n",
       "      <th>call_start</th>\n",
       "      <th>seg_pos_call</th>\n",
       "      <th>call_unique_num</th>\n",
       "      <th>...</th>\n",
       "      <th>indv</th>\n",
       "      <th>indvi</th>\n",
       "      <th>filename</th>\n",
       "      <th>group</th>\n",
       "      <th>location</th>\n",
       "      <th>sex</th>\n",
       "      <th>wav_loc</th>\n",
       "      <th>key</th>\n",
       "      <th>rate</th>\n",
       "      <th>specs</th>\n",
       "    </tr>\n",
       "  </thead>\n",
       "  <tbody>\n",
       "    <tr>\n",
       "      <th>0</th>\n",
       "      <td>0.753604</td>\n",
       "      <td>0.776773</td>\n",
       "      <td>DS</td>\n",
       "      <td>0</td>\n",
       "      <td>0.753604</td>\n",
       "      <td>0.776773</td>\n",
       "      <td>DSSHDS</td>\n",
       "      <td>0.753604</td>\n",
       "      <td>0</td>\n",
       "      <td>0</td>\n",
       "      <td>...</td>\n",
       "      <td>MGGY</td>\n",
       "      <td>0</td>\n",
       "      <td>BWY MGGY Call Combo 1 290719 PM</td>\n",
       "      <td>BWYa</td>\n",
       "      <td>CRAWLEY</td>\n",
       "      <td>F</td>\n",
       "      <td>C:/Users/slwal/anaconda3/envs/PY36/avgn_paper-...</td>\n",
       "      <td>BWY MGGY Call Combo 1 290719 PM</td>\n",
       "      <td>44100</td>\n",
       "      <td>[[0.0, 0.0, 0.0, 0.0, 0.0, 0.0, 0.0, 0.0, 0.0,...</td>\n",
       "    </tr>\n",
       "    <tr>\n",
       "      <th>1</th>\n",
       "      <td>0.786865</td>\n",
       "      <td>0.835165</td>\n",
       "      <td>SH</td>\n",
       "      <td>1</td>\n",
       "      <td>0.786865</td>\n",
       "      <td>0.835165</td>\n",
       "      <td>DSSHDS</td>\n",
       "      <td>0.753604</td>\n",
       "      <td>1</td>\n",
       "      <td>0</td>\n",
       "      <td>...</td>\n",
       "      <td>MGGY</td>\n",
       "      <td>0</td>\n",
       "      <td>BWY MGGY Call Combo 1 290719 PM</td>\n",
       "      <td>BWYa</td>\n",
       "      <td>CRAWLEY</td>\n",
       "      <td>F</td>\n",
       "      <td>C:/Users/slwal/anaconda3/envs/PY36/avgn_paper-...</td>\n",
       "      <td>BWY MGGY Call Combo 1 290719 PM</td>\n",
       "      <td>44100</td>\n",
       "      <td>[[0.0, 0.0, 0.0, 0.0, 0.0, 0.0, 0.0, 0.0, 0.0,...</td>\n",
       "    </tr>\n",
       "    <tr>\n",
       "      <th>2</th>\n",
       "      <td>0.855941</td>\n",
       "      <td>0.921160</td>\n",
       "      <td>DS</td>\n",
       "      <td>2</td>\n",
       "      <td>0.855941</td>\n",
       "      <td>0.921160</td>\n",
       "      <td>DSSHDS</td>\n",
       "      <td>0.753604</td>\n",
       "      <td>2</td>\n",
       "      <td>0</td>\n",
       "      <td>...</td>\n",
       "      <td>MGGY</td>\n",
       "      <td>0</td>\n",
       "      <td>BWY MGGY Call Combo 1 290719 PM</td>\n",
       "      <td>BWYa</td>\n",
       "      <td>CRAWLEY</td>\n",
       "      <td>F</td>\n",
       "      <td>C:/Users/slwal/anaconda3/envs/PY36/avgn_paper-...</td>\n",
       "      <td>BWY MGGY Call Combo 1 290719 PM</td>\n",
       "      <td>44100</td>\n",
       "      <td>[[0.0, 0.0, 0.0, 0.0, 0.0, 0.0, 0.0, 0.0, 0.0,...</td>\n",
       "    </tr>\n",
       "  </tbody>\n",
       "</table>\n",
       "<p>3 rows × 25 columns</p>\n",
       "</div>"
      ],
      "text/plain": [
       "   start_time  end_time labels  ID  start_times  end_times call_label  \\\n",
       "0    0.753604  0.776773     DS   0     0.753604   0.776773     DSSHDS   \n",
       "1    0.786865  0.835165     SH   1     0.786865   0.835165     DSSHDS   \n",
       "2    0.855941  0.921160     DS   2     0.855941   0.921160     DSSHDS   \n",
       "\n",
       "   call_start  seg_pos_call  call_unique_num  ...  indv indvi  \\\n",
       "0    0.753604             0                0  ...  MGGY     0   \n",
       "1    0.753604             1                0  ...  MGGY     0   \n",
       "2    0.753604             2                0  ...  MGGY     0   \n",
       "\n",
       "                          filename  group  location sex  \\\n",
       "0  BWY MGGY Call Combo 1 290719 PM   BWYa   CRAWLEY   F   \n",
       "1  BWY MGGY Call Combo 1 290719 PM   BWYa   CRAWLEY   F   \n",
       "2  BWY MGGY Call Combo 1 290719 PM   BWYa   CRAWLEY   F   \n",
       "\n",
       "                                             wav_loc  \\\n",
       "0  C:/Users/slwal/anaconda3/envs/PY36/avgn_paper-...   \n",
       "1  C:/Users/slwal/anaconda3/envs/PY36/avgn_paper-...   \n",
       "2  C:/Users/slwal/anaconda3/envs/PY36/avgn_paper-...   \n",
       "\n",
       "                               key   rate  \\\n",
       "0  BWY MGGY Call Combo 1 290719 PM  44100   \n",
       "1  BWY MGGY Call Combo 1 290719 PM  44100   \n",
       "2  BWY MGGY Call Combo 1 290719 PM  44100   \n",
       "\n",
       "                                               specs  \n",
       "0  [[0.0, 0.0, 0.0, 0.0, 0.0, 0.0, 0.0, 0.0, 0.0,...  \n",
       "1  [[0.0, 0.0, 0.0, 0.0, 0.0, 0.0, 0.0, 0.0, 0.0,...  \n",
       "2  [[0.0, 0.0, 0.0, 0.0, 0.0, 0.0, 0.0, 0.0, 0.0,...  \n",
       "\n",
       "[3 rows x 25 columns]"
      ]
     },
     "execution_count": 7,
     "metadata": {},
     "output_type": "execute_result"
    }
   ],
   "source": [
    "seg_df = pd.read_pickle(DATA_DIR / DATASET_ID / DT_ID /  'walsh_magpie_gitrepos.pickle')\n",
    "seg_df[:3]"
   ]
  },
  {
   "cell_type": "code",
   "execution_count": 8,
   "id": "9e5c6c25",
   "metadata": {
    "scrolled": true
   },
   "outputs": [
    {
     "data": {
      "text/plain": [
       "1645"
      ]
     },
     "execution_count": 8,
     "metadata": {},
     "output_type": "execute_result"
    }
   ],
   "source": [
    "len(seg_df)"
   ]
  },
  {
   "cell_type": "code",
   "execution_count": 9,
   "id": "a2d46979",
   "metadata": {
    "scrolled": true
   },
   "outputs": [
    {
     "data": {
      "text/html": [
       "<div>\n",
       "<style scoped>\n",
       "    .dataframe tbody tr th:only-of-type {\n",
       "        vertical-align: middle;\n",
       "    }\n",
       "\n",
       "    .dataframe tbody tr th {\n",
       "        vertical-align: top;\n",
       "    }\n",
       "\n",
       "    .dataframe thead th {\n",
       "        text-align: right;\n",
       "    }\n",
       "</style>\n",
       "<table border=\"1\" class=\"dataframe\">\n",
       "  <thead>\n",
       "    <tr style=\"text-align: right;\">\n",
       "      <th></th>\n",
       "      <th>start_time</th>\n",
       "      <th>end_time</th>\n",
       "      <th>labels</th>\n",
       "      <th>ID</th>\n",
       "      <th>start_times</th>\n",
       "      <th>end_times</th>\n",
       "      <th>call_label</th>\n",
       "      <th>call_start</th>\n",
       "      <th>seg_pos_call</th>\n",
       "      <th>call_unique_num</th>\n",
       "      <th>...</th>\n",
       "      <th>indv</th>\n",
       "      <th>indvi</th>\n",
       "      <th>filename</th>\n",
       "      <th>group</th>\n",
       "      <th>location</th>\n",
       "      <th>sex</th>\n",
       "      <th>wav_loc</th>\n",
       "      <th>key</th>\n",
       "      <th>rate</th>\n",
       "      <th>specs</th>\n",
       "    </tr>\n",
       "  </thead>\n",
       "  <tbody>\n",
       "    <tr>\n",
       "      <th>0</th>\n",
       "      <td>5.081665</td>\n",
       "      <td>5.161625</td>\n",
       "      <td>NL</td>\n",
       "      <td>1095</td>\n",
       "      <td>5.081665</td>\n",
       "      <td>5.161625</td>\n",
       "      <td>NLDS</td>\n",
       "      <td>5.081665</td>\n",
       "      <td>0</td>\n",
       "      <td>439</td>\n",
       "      <td>...</td>\n",
       "      <td>VVVM</td>\n",
       "      <td>0</td>\n",
       "      <td>RVD VVVM Aerial Predator Call series 1 051120 AM</td>\n",
       "      <td>RVD</td>\n",
       "      <td>GUILDFORD</td>\n",
       "      <td>F</td>\n",
       "      <td>C:/Users/slwal/anaconda3/envs/PY36/avgn_paper-...</td>\n",
       "      <td>RVD VVVM Aerial Predator Call series 1 051120 AM</td>\n",
       "      <td>44100</td>\n",
       "      <td>[[0.0, 0.0, 0.0, 0.0, 0.0, 0.0, 0.0, 0.0, 0.0,...</td>\n",
       "    </tr>\n",
       "    <tr>\n",
       "      <th>1</th>\n",
       "      <td>5.168242</td>\n",
       "      <td>5.257137</td>\n",
       "      <td>DS</td>\n",
       "      <td>1096</td>\n",
       "      <td>5.168242</td>\n",
       "      <td>5.257137</td>\n",
       "      <td>NLDS</td>\n",
       "      <td>5.081665</td>\n",
       "      <td>1</td>\n",
       "      <td>439</td>\n",
       "      <td>...</td>\n",
       "      <td>VVVM</td>\n",
       "      <td>0</td>\n",
       "      <td>RVD VVVM Aerial Predator Call series 1 051120 AM</td>\n",
       "      <td>RVD</td>\n",
       "      <td>GUILDFORD</td>\n",
       "      <td>F</td>\n",
       "      <td>C:/Users/slwal/anaconda3/envs/PY36/avgn_paper-...</td>\n",
       "      <td>RVD VVVM Aerial Predator Call series 1 051120 AM</td>\n",
       "      <td>44100</td>\n",
       "      <td>[[0.0, 0.0, 0.0, 0.0, 0.0, 0.0, 0.0, 0.0, 0.0,...</td>\n",
       "    </tr>\n",
       "    <tr>\n",
       "      <th>2</th>\n",
       "      <td>5.272444</td>\n",
       "      <td>5.380619</td>\n",
       "      <td>LH</td>\n",
       "      <td>1097</td>\n",
       "      <td>5.272444</td>\n",
       "      <td>5.380619</td>\n",
       "      <td>LHDS</td>\n",
       "      <td>5.272444</td>\n",
       "      <td>0</td>\n",
       "      <td>440</td>\n",
       "      <td>...</td>\n",
       "      <td>VVVM</td>\n",
       "      <td>0</td>\n",
       "      <td>RVD VVVM Aerial Predator Call series 1 051120 AM</td>\n",
       "      <td>RVD</td>\n",
       "      <td>GUILDFORD</td>\n",
       "      <td>F</td>\n",
       "      <td>C:/Users/slwal/anaconda3/envs/PY36/avgn_paper-...</td>\n",
       "      <td>RVD VVVM Aerial Predator Call series 1 051120 AM</td>\n",
       "      <td>44100</td>\n",
       "      <td>[[0.0, 0.0, 0.0, 0.0, 0.0, 0.0, 0.0, 0.0, 0.0,...</td>\n",
       "    </tr>\n",
       "  </tbody>\n",
       "</table>\n",
       "<p>3 rows × 25 columns</p>\n",
       "</div>"
      ],
      "text/plain": [
       "   start_time  end_time labels    ID  start_times  end_times call_label  \\\n",
       "0    5.081665  5.161625     NL  1095     5.081665   5.161625       NLDS   \n",
       "1    5.168242  5.257137     DS  1096     5.168242   5.257137       NLDS   \n",
       "2    5.272444  5.380619     LH  1097     5.272444   5.380619       LHDS   \n",
       "\n",
       "   call_start  seg_pos_call  call_unique_num  ...  indv indvi  \\\n",
       "0    5.081665             0              439  ...  VVVM     0   \n",
       "1    5.081665             1              439  ...  VVVM     0   \n",
       "2    5.272444             0              440  ...  VVVM     0   \n",
       "\n",
       "                                           filename  group   location sex  \\\n",
       "0  RVD VVVM Aerial Predator Call series 1 051120 AM    RVD  GUILDFORD   F   \n",
       "1  RVD VVVM Aerial Predator Call series 1 051120 AM    RVD  GUILDFORD   F   \n",
       "2  RVD VVVM Aerial Predator Call series 1 051120 AM    RVD  GUILDFORD   F   \n",
       "\n",
       "                                             wav_loc  \\\n",
       "0  C:/Users/slwal/anaconda3/envs/PY36/avgn_paper-...   \n",
       "1  C:/Users/slwal/anaconda3/envs/PY36/avgn_paper-...   \n",
       "2  C:/Users/slwal/anaconda3/envs/PY36/avgn_paper-...   \n",
       "\n",
       "                                                key   rate  \\\n",
       "0  RVD VVVM Aerial Predator Call series 1 051120 AM  44100   \n",
       "1  RVD VVVM Aerial Predator Call series 1 051120 AM  44100   \n",
       "2  RVD VVVM Aerial Predator Call series 1 051120 AM  44100   \n",
       "\n",
       "                                               specs  \n",
       "0  [[0.0, 0.0, 0.0, 0.0, 0.0, 0.0, 0.0, 0.0, 0.0,...  \n",
       "1  [[0.0, 0.0, 0.0, 0.0, 0.0, 0.0, 0.0, 0.0, 0.0,...  \n",
       "2  [[0.0, 0.0, 0.0, 0.0, 0.0, 0.0, 0.0, 0.0, 0.0,...  \n",
       "\n",
       "[3 rows x 25 columns]"
      ]
     },
     "execution_count": 9,
     "metadata": {},
     "output_type": "execute_result"
    }
   ],
   "source": [
    "seg_df = seg_df.loc[(seg_df[\"indv\"]==\"VVVM\")]\n",
    "seg_df[:3]"
   ]
  },
  {
   "cell_type": "code",
   "execution_count": 10,
   "id": "696e1ede",
   "metadata": {},
   "outputs": [
    {
     "data": {
      "text/plain": [
       "350"
      ]
     },
     "execution_count": 10,
     "metadata": {},
     "output_type": "execute_result"
    }
   ],
   "source": [
    "len(seg_df)"
   ]
  },
  {
   "cell_type": "code",
   "execution_count": 11,
   "id": "ffbf0060",
   "metadata": {},
   "outputs": [],
   "source": [
    "seg_df.sort_values(by=['ID'], inplace=True)"
   ]
  },
  {
   "cell_type": "markdown",
   "id": "430c13ad",
   "metadata": {},
   "source": [
    "### Need to create the combined segment labels:\n",
    "- As per the UMAP on all individuals, however there it was done after the dataset was reduced\n",
    "- Here, we want all of VVVM's segments"
   ]
  },
  {
   "cell_type": "code",
   "execution_count": 12,
   "id": "cab48232",
   "metadata": {},
   "outputs": [],
   "source": [
    "## create a new column of segment labels data so that I can modify for repeated units\n",
    "seg_df['comb_labels'] = seg_df['labels']"
   ]
  },
  {
   "cell_type": "code",
   "execution_count": 13,
   "id": "292b871f",
   "metadata": {},
   "outputs": [],
   "source": [
    "## Create conditions for US and C labels (these will be modified in the next step)\n",
    "cond1 = seg_df['comb_labels'] == 'US'\n",
    "cond2 = seg_df['comb_labels'] == 'C'\n",
    "cond3 = seg_df['comb_labels'] == 'HL'"
   ]
  },
  {
   "cell_type": "code",
   "execution_count": 14,
   "id": "698eed8a",
   "metadata": {},
   "outputs": [],
   "source": [
    "## Modified based on results of segment UMAP analysis\n",
    "seg_df.loc[cond1, 'comb_labels'] = 'SH'\n",
    "seg_df.loc[cond2, 'comb_labels'] = 'LH'\n",
    "seg_df.loc[cond3, 'comb_labels'] = 'LH'"
   ]
  },
  {
   "cell_type": "markdown",
   "id": "36201eb0",
   "metadata": {},
   "source": [
    "## Balance Segment Classes\n",
    "- Reduce counts in SH, DS and LH to reflect that in the smallest class (NL)\n",
    "- However, first we need to remove two NL segment spectrograms which are still impacted by a bit of background noise & thus are lower quality (were not randomly selected in the dataset with all individuals, so this was not found as an issue before this analysis). "
   ]
  },
  {
   "cell_type": "code",
   "execution_count": 15,
   "id": "dfd38985",
   "metadata": {},
   "outputs": [
    {
     "data": {
      "text/plain": [
       "96"
      ]
     },
     "execution_count": 15,
     "metadata": {},
     "output_type": "execute_result"
    }
   ],
   "source": [
    "len(seg_df.loc[(seg_df['comb_labels']==\"SH\")])"
   ]
  },
  {
   "cell_type": "code",
   "execution_count": 16,
   "id": "42dee73b",
   "metadata": {},
   "outputs": [
    {
     "data": {
      "text/plain": [
       "63"
      ]
     },
     "execution_count": 16,
     "metadata": {},
     "output_type": "execute_result"
    }
   ],
   "source": [
    "len(seg_df.loc[(seg_df['comb_labels']==\"NL\")])"
   ]
  },
  {
   "cell_type": "code",
   "execution_count": 17,
   "id": "a9207780",
   "metadata": {},
   "outputs": [
    {
     "data": {
      "text/plain": [
       "128"
      ]
     },
     "execution_count": 17,
     "metadata": {},
     "output_type": "execute_result"
    }
   ],
   "source": [
    "len(seg_df.loc[(seg_df['comb_labels']==\"DS\")])"
   ]
  },
  {
   "cell_type": "code",
   "execution_count": 18,
   "id": "a2a1ea8a",
   "metadata": {},
   "outputs": [
    {
     "data": {
      "text/plain": [
       "63"
      ]
     },
     "execution_count": 18,
     "metadata": {},
     "output_type": "execute_result"
    }
   ],
   "source": [
    "len(seg_df.loc[(seg_df['comb_labels']==\"LH\")])"
   ]
  },
  {
   "cell_type": "markdown",
   "id": "2480f61a",
   "metadata": {},
   "source": [
    "Locate the NL segments that need to be removed"
   ]
  },
  {
   "cell_type": "code",
   "execution_count": 19,
   "id": "41691765",
   "metadata": {},
   "outputs": [],
   "source": [
    "NLdf = seg_df.loc[(seg_df[\"comb_labels\"]==\"NL\")]"
   ]
  },
  {
   "cell_type": "code",
   "execution_count": 20,
   "id": "979421a0",
   "metadata": {},
   "outputs": [
    {
     "data": {
      "text/html": [
       "<div>\n",
       "<style scoped>\n",
       "    .dataframe tbody tr th:only-of-type {\n",
       "        vertical-align: middle;\n",
       "    }\n",
       "\n",
       "    .dataframe tbody tr th {\n",
       "        vertical-align: top;\n",
       "    }\n",
       "\n",
       "    .dataframe thead th {\n",
       "        text-align: right;\n",
       "    }\n",
       "</style>\n",
       "<table border=\"1\" class=\"dataframe\">\n",
       "  <thead>\n",
       "    <tr style=\"text-align: right;\">\n",
       "      <th></th>\n",
       "      <th>start_time</th>\n",
       "      <th>end_time</th>\n",
       "      <th>labels</th>\n",
       "      <th>ID</th>\n",
       "      <th>start_times</th>\n",
       "      <th>end_times</th>\n",
       "      <th>call_label</th>\n",
       "      <th>call_start</th>\n",
       "      <th>seg_pos_call</th>\n",
       "      <th>call_unique_num</th>\n",
       "      <th>...</th>\n",
       "      <th>indvi</th>\n",
       "      <th>filename</th>\n",
       "      <th>group</th>\n",
       "      <th>location</th>\n",
       "      <th>sex</th>\n",
       "      <th>wav_loc</th>\n",
       "      <th>key</th>\n",
       "      <th>rate</th>\n",
       "      <th>specs</th>\n",
       "      <th>comb_labels</th>\n",
       "    </tr>\n",
       "  </thead>\n",
       "  <tbody>\n",
       "    <tr>\n",
       "      <th>0</th>\n",
       "      <td>0.604888</td>\n",
       "      <td>0.646259</td>\n",
       "      <td>NL</td>\n",
       "      <td>1119</td>\n",
       "      <td>0.604888</td>\n",
       "      <td>0.646259</td>\n",
       "      <td>NLSHDS</td>\n",
       "      <td>0.604888</td>\n",
       "      <td>0</td>\n",
       "      <td>451</td>\n",
       "      <td>...</td>\n",
       "      <td>0</td>\n",
       "      <td>RVD VVVM Call combo 1 170220 AM</td>\n",
       "      <td>RVD</td>\n",
       "      <td>GUILDFORD</td>\n",
       "      <td>F</td>\n",
       "      <td>C:/Users/slwal/anaconda3/envs/PY36/avgn_paper-...</td>\n",
       "      <td>RVD VVVM Call combo 1 170220 AM</td>\n",
       "      <td>44100</td>\n",
       "      <td>[[0.0, 0.0, 0.0, 0.0, 0.0, 0.0, 0.0, 0.0, 0.0,...</td>\n",
       "      <td>NL</td>\n",
       "    </tr>\n",
       "  </tbody>\n",
       "</table>\n",
       "<p>1 rows × 26 columns</p>\n",
       "</div>"
      ],
      "text/plain": [
       "   start_time  end_time labels    ID  start_times  end_times call_label  \\\n",
       "0    0.604888  0.646259     NL  1119     0.604888   0.646259     NLSHDS   \n",
       "\n",
       "   call_start  seg_pos_call  call_unique_num  ...  indvi  \\\n",
       "0    0.604888             0              451  ...      0   \n",
       "\n",
       "                          filename  group   location  sex  \\\n",
       "0  RVD VVVM Call combo 1 170220 AM    RVD  GUILDFORD    F   \n",
       "\n",
       "                                             wav_loc  \\\n",
       "0  C:/Users/slwal/anaconda3/envs/PY36/avgn_paper-...   \n",
       "\n",
       "                               key   rate  \\\n",
       "0  RVD VVVM Call combo 1 170220 AM  44100   \n",
       "\n",
       "                                               specs comb_labels  \n",
       "0  [[0.0, 0.0, 0.0, 0.0, 0.0, 0.0, 0.0, 0.0, 0.0,...          NL  \n",
       "\n",
       "[1 rows x 26 columns]"
      ]
     },
     "execution_count": 20,
     "metadata": {},
     "output_type": "execute_result"
    }
   ],
   "source": [
    "NLdf.loc[(NLdf['filename']==\"RVD VVVM Call combo 1 170220 AM\")]"
   ]
  },
  {
   "cell_type": "code",
   "execution_count": 24,
   "id": "24fa4d7f",
   "metadata": {},
   "outputs": [
    {
     "data": {
      "text/plain": [
       "62"
      ]
     },
     "execution_count": 24,
     "metadata": {},
     "output_type": "execute_result"
    }
   ],
   "source": [
    "NLdf = NLdf.loc[(NLdf[\"ID\"]!=1119)]\n",
    "len(NLdf)"
   ]
  },
  {
   "cell_type": "code",
   "execution_count": 25,
   "id": "2f867cd2",
   "metadata": {},
   "outputs": [
    {
     "data": {
      "text/html": [
       "<div>\n",
       "<style scoped>\n",
       "    .dataframe tbody tr th:only-of-type {\n",
       "        vertical-align: middle;\n",
       "    }\n",
       "\n",
       "    .dataframe tbody tr th {\n",
       "        vertical-align: top;\n",
       "    }\n",
       "\n",
       "    .dataframe thead th {\n",
       "        text-align: right;\n",
       "    }\n",
       "</style>\n",
       "<table border=\"1\" class=\"dataframe\">\n",
       "  <thead>\n",
       "    <tr style=\"text-align: right;\">\n",
       "      <th></th>\n",
       "      <th>start_time</th>\n",
       "      <th>end_time</th>\n",
       "      <th>labels</th>\n",
       "      <th>ID</th>\n",
       "      <th>start_times</th>\n",
       "      <th>end_times</th>\n",
       "      <th>call_label</th>\n",
       "      <th>call_start</th>\n",
       "      <th>seg_pos_call</th>\n",
       "      <th>call_unique_num</th>\n",
       "      <th>...</th>\n",
       "      <th>indvi</th>\n",
       "      <th>filename</th>\n",
       "      <th>group</th>\n",
       "      <th>location</th>\n",
       "      <th>sex</th>\n",
       "      <th>wav_loc</th>\n",
       "      <th>key</th>\n",
       "      <th>rate</th>\n",
       "      <th>specs</th>\n",
       "      <th>comb_labels</th>\n",
       "    </tr>\n",
       "  </thead>\n",
       "  <tbody>\n",
       "  </tbody>\n",
       "</table>\n",
       "<p>0 rows × 26 columns</p>\n",
       "</div>"
      ],
      "text/plain": [
       "Empty DataFrame\n",
       "Columns: [start_time, end_time, labels, ID, start_times, end_times, call_label, call_start, seg_pos_call, call_unique_num, call_pos_combi, combi_label, combi_start, seg_pos_combi, combi_unique_num, indv, indvi, filename, group, location, sex, wav_loc, key, rate, specs, comb_labels]\n",
       "Index: []\n",
       "\n",
       "[0 rows x 26 columns]"
      ]
     },
     "execution_count": 25,
     "metadata": {},
     "output_type": "execute_result"
    }
   ],
   "source": [
    "#Check it has been removed\n",
    "NLdf.loc[(NLdf['ID']==1119)]"
   ]
  },
  {
   "cell_type": "code",
   "execution_count": 27,
   "id": "9fa1d610",
   "metadata": {},
   "outputs": [
    {
     "data": {
      "text/html": [
       "<div>\n",
       "<style scoped>\n",
       "    .dataframe tbody tr th:only-of-type {\n",
       "        vertical-align: middle;\n",
       "    }\n",
       "\n",
       "    .dataframe tbody tr th {\n",
       "        vertical-align: top;\n",
       "    }\n",
       "\n",
       "    .dataframe thead th {\n",
       "        text-align: right;\n",
       "    }\n",
       "</style>\n",
       "<table border=\"1\" class=\"dataframe\">\n",
       "  <thead>\n",
       "    <tr style=\"text-align: right;\">\n",
       "      <th></th>\n",
       "      <th>start_time</th>\n",
       "      <th>end_time</th>\n",
       "      <th>labels</th>\n",
       "      <th>ID</th>\n",
       "      <th>start_times</th>\n",
       "      <th>end_times</th>\n",
       "      <th>call_label</th>\n",
       "      <th>call_start</th>\n",
       "      <th>seg_pos_call</th>\n",
       "      <th>call_unique_num</th>\n",
       "      <th>...</th>\n",
       "      <th>indvi</th>\n",
       "      <th>filename</th>\n",
       "      <th>group</th>\n",
       "      <th>location</th>\n",
       "      <th>sex</th>\n",
       "      <th>wav_loc</th>\n",
       "      <th>key</th>\n",
       "      <th>rate</th>\n",
       "      <th>specs</th>\n",
       "      <th>comb_labels</th>\n",
       "    </tr>\n",
       "  </thead>\n",
       "  <tbody>\n",
       "    <tr>\n",
       "      <th>12</th>\n",
       "      <td>43.466584</td>\n",
       "      <td>43.988484</td>\n",
       "      <td>NL</td>\n",
       "      <td>1330</td>\n",
       "      <td>43.466584</td>\n",
       "      <td>43.988484</td>\n",
       "      <td>NL</td>\n",
       "      <td>43.466584</td>\n",
       "      <td>0</td>\n",
       "      <td>564</td>\n",
       "      <td>...</td>\n",
       "      <td>0</td>\n",
       "      <td>RVD VVVM Combo Series 2 151119 AM</td>\n",
       "      <td>RVD</td>\n",
       "      <td>GUILDFORD</td>\n",
       "      <td>F</td>\n",
       "      <td>C:/Users/slwal/anaconda3/envs/PY36/avgn_paper-...</td>\n",
       "      <td>RVD VVVM Combo Series 2 151119 AM</td>\n",
       "      <td>44100</td>\n",
       "      <td>[[0.0, 0.0, 0.0, 0.0, 0.0, 0.0, 0.0, 0.0, 0.0,...</td>\n",
       "      <td>NL</td>\n",
       "    </tr>\n",
       "  </tbody>\n",
       "</table>\n",
       "<p>1 rows × 26 columns</p>\n",
       "</div>"
      ],
      "text/plain": [
       "    start_time   end_time labels    ID  start_times  end_times call_label  \\\n",
       "12   43.466584  43.988484     NL  1330    43.466584  43.988484         NL   \n",
       "\n",
       "    call_start  seg_pos_call  call_unique_num  ...  indvi  \\\n",
       "12   43.466584             0              564  ...      0   \n",
       "\n",
       "                             filename  group   location  sex  \\\n",
       "12  RVD VVVM Combo Series 2 151119 AM    RVD  GUILDFORD    F   \n",
       "\n",
       "                                              wav_loc  \\\n",
       "12  C:/Users/slwal/anaconda3/envs/PY36/avgn_paper-...   \n",
       "\n",
       "                                  key   rate  \\\n",
       "12  RVD VVVM Combo Series 2 151119 AM  44100   \n",
       "\n",
       "                                                specs comb_labels  \n",
       "12  [[0.0, 0.0, 0.0, 0.0, 0.0, 0.0, 0.0, 0.0, 0.0,...          NL  \n",
       "\n",
       "[1 rows x 26 columns]"
      ]
     },
     "execution_count": 27,
     "metadata": {},
     "output_type": "execute_result"
    }
   ],
   "source": [
    "NLdf.loc[(NLdf['call_unique_num']==564)]"
   ]
  },
  {
   "cell_type": "code",
   "execution_count": 28,
   "id": "d5fdd8f1",
   "metadata": {},
   "outputs": [
    {
     "data": {
      "text/plain": [
       "61"
      ]
     },
     "execution_count": 28,
     "metadata": {},
     "output_type": "execute_result"
    }
   ],
   "source": [
    "NLdf = NLdf.loc[(NLdf[\"ID\"]!=1330)]\n",
    "len(NLdf)"
   ]
  },
  {
   "cell_type": "markdown",
   "id": "2c46004d",
   "metadata": {},
   "source": [
    "Now reduce counts in the other classes"
   ]
  },
  {
   "cell_type": "code",
   "execution_count": 29,
   "id": "66f61559",
   "metadata": {},
   "outputs": [],
   "source": [
    "SHdf = seg_df.loc[(seg_df[\"comb_labels\"]==\"SH\")]"
   ]
  },
  {
   "cell_type": "code",
   "execution_count": 30,
   "id": "fadf6fc5",
   "metadata": {},
   "outputs": [
    {
     "data": {
      "text/plain": [
       "61"
      ]
     },
     "execution_count": 30,
     "metadata": {},
     "output_type": "execute_result"
    }
   ],
   "source": [
    "#Take random sample of SH segments\n",
    "SH = [i for i in SHdf.ID.unique()]\n",
    "df = pd.DataFrame(SH)  #dataframe of unique ID numbers\n",
    "df = df.astype(int) #change dataframe to integer type\n",
    "samps = df.sample(frac = 0.64) \n",
    "ds = list(samps[0])\n",
    "len(ds)"
   ]
  },
  {
   "cell_type": "code",
   "execution_count": 31,
   "id": "3b01cf51",
   "metadata": {},
   "outputs": [],
   "source": [
    "SH_df = SHdf.loc[SHdf.ID.isin(ds)]  ##subset dataframe of sequences if their number is in random sample"
   ]
  },
  {
   "cell_type": "code",
   "execution_count": 33,
   "id": "62c1122f",
   "metadata": {},
   "outputs": [],
   "source": [
    "DSdf = seg_df.loc[(seg_df[\"comb_labels\"]==\"DS\")]"
   ]
  },
  {
   "cell_type": "code",
   "execution_count": 34,
   "id": "67c7758f",
   "metadata": {},
   "outputs": [
    {
     "data": {
      "text/plain": [
       "61"
      ]
     },
     "execution_count": 34,
     "metadata": {},
     "output_type": "execute_result"
    }
   ],
   "source": [
    "#Take random sample of DS segs\n",
    "DSsegs = [i for i in DSdf.ID.unique()]\n",
    "df = pd.DataFrame(DSsegs)  #dataframe of unique ID numbers\n",
    "df = df.astype(int) #change dataframe to integer type\n",
    "samps = df.sample(frac = 0.48) \n",
    "ds = list(samps[0])\n",
    "len(ds)"
   ]
  },
  {
   "cell_type": "code",
   "execution_count": 35,
   "id": "729466af",
   "metadata": {},
   "outputs": [],
   "source": [
    "DS_df = DSdf.loc[DSdf.ID.isin(ds)] "
   ]
  },
  {
   "cell_type": "code",
   "execution_count": 37,
   "id": "e45f5525",
   "metadata": {},
   "outputs": [],
   "source": [
    "LHdf = seg_df.loc[(seg_df[\"comb_labels\"]==\"LH\")]"
   ]
  },
  {
   "cell_type": "code",
   "execution_count": 38,
   "id": "7376c130",
   "metadata": {},
   "outputs": [
    {
     "data": {
      "text/plain": [
       "61"
      ]
     },
     "execution_count": 38,
     "metadata": {},
     "output_type": "execute_result"
    }
   ],
   "source": [
    "#Take random sample of LH segs\n",
    "LHsegs = [i for i in LHdf.ID.unique()]\n",
    "df = pd.DataFrame(LHsegs)  #dataframe of unique ID numbers\n",
    "df = df.astype(int) #change dataframe to integer type\n",
    "samps = df.sample(frac = 0.97) \n",
    "ds = list(samps[0])\n",
    "len(ds)"
   ]
  },
  {
   "cell_type": "code",
   "execution_count": 39,
   "id": "7386c579",
   "metadata": {},
   "outputs": [],
   "source": [
    "LH_df = LHdf.loc[LHdf.ID.isin(ds)] "
   ]
  },
  {
   "cell_type": "code",
   "execution_count": 40,
   "id": "a63a6f34",
   "metadata": {},
   "outputs": [
    {
     "data": {
      "text/html": [
       "<div>\n",
       "<style scoped>\n",
       "    .dataframe tbody tr th:only-of-type {\n",
       "        vertical-align: middle;\n",
       "    }\n",
       "\n",
       "    .dataframe tbody tr th {\n",
       "        vertical-align: top;\n",
       "    }\n",
       "\n",
       "    .dataframe thead th {\n",
       "        text-align: right;\n",
       "    }\n",
       "</style>\n",
       "<table border=\"1\" class=\"dataframe\">\n",
       "  <thead>\n",
       "    <tr style=\"text-align: right;\">\n",
       "      <th></th>\n",
       "      <th>start_time</th>\n",
       "      <th>end_time</th>\n",
       "      <th>labels</th>\n",
       "      <th>ID</th>\n",
       "      <th>start_times</th>\n",
       "      <th>end_times</th>\n",
       "      <th>call_label</th>\n",
       "      <th>call_start</th>\n",
       "      <th>seg_pos_call</th>\n",
       "      <th>call_unique_num</th>\n",
       "      <th>...</th>\n",
       "      <th>indvi</th>\n",
       "      <th>filename</th>\n",
       "      <th>group</th>\n",
       "      <th>location</th>\n",
       "      <th>sex</th>\n",
       "      <th>wav_loc</th>\n",
       "      <th>key</th>\n",
       "      <th>rate</th>\n",
       "      <th>specs</th>\n",
       "      <th>comb_labels</th>\n",
       "    </tr>\n",
       "  </thead>\n",
       "  <tbody>\n",
       "    <tr>\n",
       "      <th>16</th>\n",
       "      <td>87.377496</td>\n",
       "      <td>87.420472</td>\n",
       "      <td>SH</td>\n",
       "      <td>1111</td>\n",
       "      <td>87.377496</td>\n",
       "      <td>87.420472</td>\n",
       "      <td>SHDS</td>\n",
       "      <td>87.377496</td>\n",
       "      <td>0</td>\n",
       "      <td>447</td>\n",
       "      <td>...</td>\n",
       "      <td>0</td>\n",
       "      <td>RVD VVVM Aerial Predator Call series 1 051120 AM</td>\n",
       "      <td>RVD</td>\n",
       "      <td>GUILDFORD</td>\n",
       "      <td>F</td>\n",
       "      <td>C:/Users/slwal/anaconda3/envs/PY36/avgn_paper-...</td>\n",
       "      <td>RVD VVVM Aerial Predator Call series 1 051120 AM</td>\n",
       "      <td>44100</td>\n",
       "      <td>[[0.0, 0.0, 0.0, 0.0, 0.0, 0.0, 0.0, 0.0, 0.0,...</td>\n",
       "      <td>SH</td>\n",
       "    </tr>\n",
       "    <tr>\n",
       "      <th>1</th>\n",
       "      <td>0.646259</td>\n",
       "      <td>0.666844</td>\n",
       "      <td>SH</td>\n",
       "      <td>1120</td>\n",
       "      <td>0.646259</td>\n",
       "      <td>0.666844</td>\n",
       "      <td>NLSHDS</td>\n",
       "      <td>0.604888</td>\n",
       "      <td>1</td>\n",
       "      <td>451</td>\n",
       "      <td>...</td>\n",
       "      <td>0</td>\n",
       "      <td>RVD VVVM Call combo 1 170220 AM</td>\n",
       "      <td>RVD</td>\n",
       "      <td>GUILDFORD</td>\n",
       "      <td>F</td>\n",
       "      <td>C:/Users/slwal/anaconda3/envs/PY36/avgn_paper-...</td>\n",
       "      <td>RVD VVVM Call combo 1 170220 AM</td>\n",
       "      <td>44100</td>\n",
       "      <td>[[0.0, 0.0, 0.0, 0.0, 0.0, 0.0, 0.0, 0.0, 0.0,...</td>\n",
       "      <td>SH</td>\n",
       "    </tr>\n",
       "  </tbody>\n",
       "</table>\n",
       "<p>2 rows × 26 columns</p>\n",
       "</div>"
      ],
      "text/plain": [
       "    start_time   end_time labels    ID  start_times  end_times call_label  \\\n",
       "16   87.377496  87.420472     SH  1111    87.377496  87.420472       SHDS   \n",
       "1     0.646259   0.666844     SH  1120     0.646259   0.666844     NLSHDS   \n",
       "\n",
       "    call_start  seg_pos_call  call_unique_num  ...  indvi  \\\n",
       "16   87.377496             0              447  ...      0   \n",
       "1     0.604888             1              451  ...      0   \n",
       "\n",
       "                                            filename  group   location  sex  \\\n",
       "16  RVD VVVM Aerial Predator Call series 1 051120 AM    RVD  GUILDFORD    F   \n",
       "1                    RVD VVVM Call combo 1 170220 AM    RVD  GUILDFORD    F   \n",
       "\n",
       "                                              wav_loc  \\\n",
       "16  C:/Users/slwal/anaconda3/envs/PY36/avgn_paper-...   \n",
       "1   C:/Users/slwal/anaconda3/envs/PY36/avgn_paper-...   \n",
       "\n",
       "                                                 key   rate  \\\n",
       "16  RVD VVVM Aerial Predator Call series 1 051120 AM  44100   \n",
       "1                    RVD VVVM Call combo 1 170220 AM  44100   \n",
       "\n",
       "                                                specs comb_labels  \n",
       "16  [[0.0, 0.0, 0.0, 0.0, 0.0, 0.0, 0.0, 0.0, 0.0,...          SH  \n",
       "1   [[0.0, 0.0, 0.0, 0.0, 0.0, 0.0, 0.0, 0.0, 0.0,...          SH  \n",
       "\n",
       "[2 rows x 26 columns]"
      ]
     },
     "execution_count": 40,
     "metadata": {},
     "output_type": "execute_result"
    }
   ],
   "source": [
    "#attach to dataframe with other OMGO segments\n",
    "frames = [SH_df, NLdf, DS_df, LH_df]\n",
    "VVVM_df = pd.concat(frames)\n",
    "VVVM_df[:2]"
   ]
  },
  {
   "cell_type": "markdown",
   "id": "189844e6",
   "metadata": {},
   "source": [
    "Check to make sure the count is balanced"
   ]
  },
  {
   "cell_type": "code",
   "execution_count": 41,
   "id": "e76c9ecb",
   "metadata": {},
   "outputs": [
    {
     "data": {
      "text/plain": [
       "61"
      ]
     },
     "execution_count": 41,
     "metadata": {},
     "output_type": "execute_result"
    }
   ],
   "source": [
    "len(VVVM_df.loc[(VVVM_df['comb_labels']==\"SH\")])"
   ]
  },
  {
   "cell_type": "code",
   "execution_count": 42,
   "id": "0ba95124",
   "metadata": {},
   "outputs": [
    {
     "data": {
      "text/plain": [
       "61"
      ]
     },
     "execution_count": 42,
     "metadata": {},
     "output_type": "execute_result"
    }
   ],
   "source": [
    "len(VVVM_df.loc[(VVVM_df['comb_labels']==\"DS\")])"
   ]
  },
  {
   "cell_type": "code",
   "execution_count": 43,
   "id": "de1a6f4f",
   "metadata": {},
   "outputs": [
    {
     "data": {
      "text/plain": [
       "61"
      ]
     },
     "execution_count": 43,
     "metadata": {},
     "output_type": "execute_result"
    }
   ],
   "source": [
    "len(VVVM_df.loc[(VVVM_df['comb_labels']==\"NL\")])"
   ]
  },
  {
   "cell_type": "code",
   "execution_count": 44,
   "id": "ff80bc06",
   "metadata": {},
   "outputs": [
    {
     "data": {
      "text/plain": [
       "61"
      ]
     },
     "execution_count": 44,
     "metadata": {},
     "output_type": "execute_result"
    }
   ],
   "source": [
    "len(VVVM_df.loc[(VVVM_df['comb_labels']==\"LH\")])"
   ]
  },
  {
   "cell_type": "code",
   "execution_count": 45,
   "id": "b6b76a3a",
   "metadata": {},
   "outputs": [
    {
     "data": {
      "text/plain": [
       "244"
      ]
     },
     "execution_count": 45,
     "metadata": {},
     "output_type": "execute_result"
    }
   ],
   "source": [
    "len(VVVM_df)"
   ]
  },
  {
   "cell_type": "markdown",
   "id": "eb4e4f7e",
   "metadata": {},
   "source": [
    "### Spectrograms for all individuals"
   ]
  },
  {
   "cell_type": "code",
   "execution_count": 46,
   "id": "dceacf24",
   "metadata": {},
   "outputs": [],
   "source": [
    "def norm(x):\n",
    "    return (x-np.min(x)) / (np.max(x) - np.min(x))"
   ]
  },
  {
   "cell_type": "code",
   "execution_count": 47,
   "id": "7878c7dc",
   "metadata": {},
   "outputs": [],
   "source": [
    "VVVM_df = VVVM_df[np.array([np.sum(i) > 0.0 for i in VVVM_df.specs.values])\n",
    "]"
   ]
  },
  {
   "cell_type": "code",
   "execution_count": 48,
   "id": "6f05b440",
   "metadata": {},
   "outputs": [
    {
     "data": {
      "application/vnd.jupyter.widget-view+json": {
       "model_id": "fcaf60541a1144d4b0f17a163968686f",
       "version_major": 2,
       "version_minor": 0
      },
      "text/plain": [
       "  0%|          | 0/244 [00:00<?, ?it/s]"
      ]
     },
     "metadata": {},
     "output_type": "display_data"
    },
    {
     "data": {
      "text/plain": [
       "(244, 4096)"
      ]
     },
     "execution_count": 48,
     "metadata": {},
     "output_type": "execute_result"
    }
   ],
   "source": [
    "specs = list(VVVM_df.specs.values)\n",
    "specs = [norm(i) for i in tqdm(specs)]\n",
    "specs_flattened = flatten_spectrograms(specs)\n",
    "np.shape(specs_flattened)"
   ]
  },
  {
   "cell_type": "code",
   "execution_count": 49,
   "id": "f60fa81d",
   "metadata": {
    "scrolled": true
   },
   "outputs": [
    {
     "name": "stdout",
     "output_type": "stream",
     "text": [
      "UMAP(min_dist=0.0, verbose=True)\n",
      "Construct fuzzy simplicial set\n",
      "Wed Nov 16 17:42:02 2022 Finding Nearest Neighbors\n",
      "Wed Nov 16 17:42:04 2022 Finished Nearest Neighbor Search\n",
      "Wed Nov 16 17:42:06 2022 Construct embedding\n",
      "\tcompleted  0  /  500 epochs\n",
      "\tcompleted  50  /  500 epochs\n",
      "\tcompleted  100  /  500 epochs\n",
      "\tcompleted  150  /  500 epochs\n",
      "\tcompleted  200  /  500 epochs\n",
      "\tcompleted  250  /  500 epochs\n",
      "\tcompleted  300  /  500 epochs\n",
      "\tcompleted  350  /  500 epochs\n",
      "\tcompleted  400  /  500 epochs\n",
      "\tcompleted  450  /  500 epochs\n",
      "Wed Nov 16 17:42:07 2022 Finished embedding\n"
     ]
    }
   ],
   "source": [
    "fit = umap.UMAP(min_dist=0.0, verbose = True)\n",
    "z = list(fit.fit_transform(specs_flattened))"
   ]
  },
  {
   "cell_type": "code",
   "execution_count": 50,
   "id": "32ffe81f",
   "metadata": {},
   "outputs": [],
   "source": [
    "VVVM_df['umap'] = list(z)"
   ]
  },
  {
   "cell_type": "code",
   "execution_count": null,
   "id": "feab02d2",
   "metadata": {},
   "outputs": [],
   "source": []
  },
  {
   "cell_type": "code",
   "execution_count": 51,
   "id": "af44aee9",
   "metadata": {},
   "outputs": [],
   "source": [
    "#save df\n",
    "save_loc = DATA_DIR / DATASET_ID / DT_ID /  'VVVM_UMAP.pickle'\n",
    "ensure_dir(save_loc.as_posix())\n",
    "VVVM_df.to_pickle(save_loc)"
   ]
  },
  {
   "cell_type": "code",
   "execution_count": null,
   "id": "fb85f335",
   "metadata": {},
   "outputs": [],
   "source": []
  },
  {
   "cell_type": "code",
   "execution_count": null,
   "id": "5a03477d",
   "metadata": {},
   "outputs": [],
   "source": []
  }
 ],
 "metadata": {
  "kernelspec": {
   "display_name": "Python 3",
   "language": "python",
   "name": "python3"
  },
  "language_info": {
   "codemirror_mode": {
    "name": "ipython",
    "version": 3
   },
   "file_extension": ".py",
   "mimetype": "text/x-python",
   "name": "python",
   "nbconvert_exporter": "python",
   "pygments_lexer": "ipython3",
   "version": "3.6.13"
  }
 },
 "nbformat": 4,
 "nbformat_minor": 5
}
