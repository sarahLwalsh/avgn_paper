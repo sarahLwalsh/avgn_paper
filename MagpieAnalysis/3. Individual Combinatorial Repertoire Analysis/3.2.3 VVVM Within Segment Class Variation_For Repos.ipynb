{
 "cells": [
  {
   "cell_type": "markdown",
   "id": "6db7034b",
   "metadata": {},
   "source": [
    "# Within-Segment Class Variation\n",
    "The following notebook looks into within-segment class variation within one individual's combinatorial repertoire (VVVM)."
   ]
  },
  {
   "cell_type": "code",
   "execution_count": 1,
   "id": "3eb7df06",
   "metadata": {},
   "outputs": [],
   "source": [
    "from tqdm.auto import tqdm"
   ]
  },
  {
   "cell_type": "code",
   "execution_count": 2,
   "id": "95d3583e",
   "metadata": {},
   "outputs": [],
   "source": [
    "import avgn"
   ]
  },
  {
   "cell_type": "code",
   "execution_count": 3,
   "id": "45d2b615",
   "metadata": {},
   "outputs": [],
   "source": [
    "import pandas as pd\n",
    "import numpy as np\n",
    "from avgn.utils.paths import DATA_DIR, ensure_dir, FIGURE_DIR"
   ]
  },
  {
   "cell_type": "code",
   "execution_count": 4,
   "id": "8c490d14",
   "metadata": {},
   "outputs": [],
   "source": [
    "DATASET_ID = \"git_repos\""
   ]
  },
  {
   "cell_type": "code",
   "execution_count": 5,
   "id": "04ec6e42",
   "metadata": {},
   "outputs": [],
   "source": [
    "DT_ID = '2022-03-04_18-41-29'"
   ]
  },
  {
   "cell_type": "code",
   "execution_count": 6,
   "id": "eb28146d",
   "metadata": {},
   "outputs": [
    {
     "data": {
      "text/html": [
       "<div>\n",
       "<style scoped>\n",
       "    .dataframe tbody tr th:only-of-type {\n",
       "        vertical-align: middle;\n",
       "    }\n",
       "\n",
       "    .dataframe tbody tr th {\n",
       "        vertical-align: top;\n",
       "    }\n",
       "\n",
       "    .dataframe thead th {\n",
       "        text-align: right;\n",
       "    }\n",
       "</style>\n",
       "<table border=\"1\" class=\"dataframe\">\n",
       "  <thead>\n",
       "    <tr style=\"text-align: right;\">\n",
       "      <th></th>\n",
       "      <th>start_time</th>\n",
       "      <th>end_time</th>\n",
       "      <th>labels</th>\n",
       "      <th>ID</th>\n",
       "      <th>start_times</th>\n",
       "      <th>end_times</th>\n",
       "      <th>call_label</th>\n",
       "      <th>call_start</th>\n",
       "      <th>seg_pos_call</th>\n",
       "      <th>call_unique_num</th>\n",
       "      <th>...</th>\n",
       "      <th>group</th>\n",
       "      <th>location</th>\n",
       "      <th>sex</th>\n",
       "      <th>wav_loc</th>\n",
       "      <th>key</th>\n",
       "      <th>rate</th>\n",
       "      <th>specs</th>\n",
       "      <th>comb_labels</th>\n",
       "      <th>call_lab_simp</th>\n",
       "      <th>umap</th>\n",
       "    </tr>\n",
       "  </thead>\n",
       "  <tbody>\n",
       "    <tr>\n",
       "      <th>8</th>\n",
       "      <td>83.354563</td>\n",
       "      <td>83.394007</td>\n",
       "      <td>SH</td>\n",
       "      <td>1103</td>\n",
       "      <td>83.354563</td>\n",
       "      <td>83.394007</td>\n",
       "      <td>SHDS</td>\n",
       "      <td>83.354563</td>\n",
       "      <td>0</td>\n",
       "      <td>443</td>\n",
       "      <td>...</td>\n",
       "      <td>RVD</td>\n",
       "      <td>GUILDFORD</td>\n",
       "      <td>F</td>\n",
       "      <td>C:/Users/slwal/anaconda3/envs/PY36/avgn_paper-...</td>\n",
       "      <td>RVD VVVM Aerial Predator Call series 1 051120 AM</td>\n",
       "      <td>44100</td>\n",
       "      <td>[[0.0, 0.0, 0.0, 0.0, 0.0, 0.0, 0.0, 0.0, 0.0,...</td>\n",
       "      <td>SH</td>\n",
       "      <td>SH-DS</td>\n",
       "      <td>[3.8620093, 0.2893895]</td>\n",
       "    </tr>\n",
       "    <tr>\n",
       "      <th>3</th>\n",
       "      <td>0.872580</td>\n",
       "      <td>0.968577</td>\n",
       "      <td>SH</td>\n",
       "      <td>1122</td>\n",
       "      <td>0.872580</td>\n",
       "      <td>0.968577</td>\n",
       "      <td>SHDSSHSHLH</td>\n",
       "      <td>0.872580</td>\n",
       "      <td>0</td>\n",
       "      <td>452</td>\n",
       "      <td>...</td>\n",
       "      <td>RVD</td>\n",
       "      <td>GUILDFORD</td>\n",
       "      <td>F</td>\n",
       "      <td>C:/Users/slwal/anaconda3/envs/PY36/avgn_paper-...</td>\n",
       "      <td>RVD VVVM Call combo 1 170220 AM</td>\n",
       "      <td>44100</td>\n",
       "      <td>[[0.0, 0.0, 0.0, 0.0, 0.0, 0.0, 0.0, 0.0, 0.0,...</td>\n",
       "      <td>SH</td>\n",
       "      <td>SH-DS-SH-SH-LH</td>\n",
       "      <td>[4.3479133, 0.30481717]</td>\n",
       "    </tr>\n",
       "    <tr>\n",
       "      <th>1</th>\n",
       "      <td>0.692265</td>\n",
       "      <td>0.736698</td>\n",
       "      <td>SH</td>\n",
       "      <td>1128</td>\n",
       "      <td>0.692265</td>\n",
       "      <td>0.736698</td>\n",
       "      <td>SHDS</td>\n",
       "      <td>0.692265</td>\n",
       "      <td>0</td>\n",
       "      <td>454</td>\n",
       "      <td>...</td>\n",
       "      <td>RVD</td>\n",
       "      <td>GUILDFORD</td>\n",
       "      <td>F</td>\n",
       "      <td>C:/Users/slwal/anaconda3/envs/PY36/avgn_paper-...</td>\n",
       "      <td>RVD VVVM Call Combo Song Discrete Series 1 &amp; X...</td>\n",
       "      <td>44100</td>\n",
       "      <td>[[0.0, 0.0, 0.0, 0.0, 0.0, 0.0, 0.0, 0.0, 0.0,...</td>\n",
       "      <td>SH</td>\n",
       "      <td>SH-DS</td>\n",
       "      <td>[3.833734, 0.7222579]</td>\n",
       "    </tr>\n",
       "  </tbody>\n",
       "</table>\n",
       "<p>3 rows × 28 columns</p>\n",
       "</div>"
      ],
      "text/plain": [
       "   start_time   end_time labels    ID  start_times  end_times  call_label  \\\n",
       "8   83.354563  83.394007     SH  1103    83.354563  83.394007        SHDS   \n",
       "3    0.872580   0.968577     SH  1122     0.872580   0.968577  SHDSSHSHLH   \n",
       "1    0.692265   0.736698     SH  1128     0.692265   0.736698        SHDS   \n",
       "\n",
       "   call_start  seg_pos_call  call_unique_num  ...  group   location  sex  \\\n",
       "8   83.354563             0              443  ...    RVD  GUILDFORD    F   \n",
       "3    0.872580             0              452  ...    RVD  GUILDFORD    F   \n",
       "1    0.692265             0              454  ...    RVD  GUILDFORD    F   \n",
       "\n",
       "                                             wav_loc  \\\n",
       "8  C:/Users/slwal/anaconda3/envs/PY36/avgn_paper-...   \n",
       "3  C:/Users/slwal/anaconda3/envs/PY36/avgn_paper-...   \n",
       "1  C:/Users/slwal/anaconda3/envs/PY36/avgn_paper-...   \n",
       "\n",
       "                                                 key   rate  \\\n",
       "8   RVD VVVM Aerial Predator Call series 1 051120 AM  44100   \n",
       "3                    RVD VVVM Call combo 1 170220 AM  44100   \n",
       "1  RVD VVVM Call Combo Song Discrete Series 1 & X...  44100   \n",
       "\n",
       "                                               specs comb_labels  \\\n",
       "8  [[0.0, 0.0, 0.0, 0.0, 0.0, 0.0, 0.0, 0.0, 0.0,...          SH   \n",
       "3  [[0.0, 0.0, 0.0, 0.0, 0.0, 0.0, 0.0, 0.0, 0.0,...          SH   \n",
       "1  [[0.0, 0.0, 0.0, 0.0, 0.0, 0.0, 0.0, 0.0, 0.0,...          SH   \n",
       "\n",
       "    call_lab_simp                     umap  \n",
       "8           SH-DS   [3.8620093, 0.2893895]  \n",
       "3  SH-DS-SH-SH-LH  [4.3479133, 0.30481717]  \n",
       "1           SH-DS    [3.833734, 0.7222579]  \n",
       "\n",
       "[3 rows x 28 columns]"
      ]
     },
     "execution_count": 6,
     "metadata": {},
     "output_type": "execute_result"
    }
   ],
   "source": [
    "seg_df = pd.read_pickle(DATA_DIR / DATASET_ID / DT_ID /  'VVVM_UMAP.pickle')\n",
    "seg_df[:3]"
   ]
  },
  {
   "cell_type": "code",
   "execution_count": 7,
   "id": "9c089031",
   "metadata": {
    "scrolled": true
   },
   "outputs": [
    {
     "data": {
      "text/plain": [
       "244"
      ]
     },
     "execution_count": 7,
     "metadata": {},
     "output_type": "execute_result"
    }
   ],
   "source": [
    "len(seg_df)"
   ]
  },
  {
   "cell_type": "code",
   "execution_count": 8,
   "id": "7e2d7f5a",
   "metadata": {},
   "outputs": [],
   "source": [
    "seg_df.sort_values(by=['ID'], inplace = True)"
   ]
  },
  {
   "cell_type": "code",
   "execution_count": 9,
   "id": "9a77e528",
   "metadata": {},
   "outputs": [],
   "source": [
    "from avgn.visualization.projections_magpie import scatter_spec\n",
    "from avgn.utils.general import save_fig"
   ]
  },
  {
   "cell_type": "markdown",
   "id": "85308da3",
   "metadata": {},
   "source": [
    "### Create labels to differentiate LH and NL segments according to the within-segment variation"
   ]
  },
  {
   "cell_type": "code",
   "execution_count": 12,
   "id": "97a84e6c",
   "metadata": {},
   "outputs": [],
   "source": [
    "LH_df = seg_df.loc[seg_df[\"comb_labels\"]==\"LH\"].copy(deep=True)"
   ]
  },
  {
   "cell_type": "code",
   "execution_count": 13,
   "id": "b95f3da7",
   "metadata": {},
   "outputs": [],
   "source": [
    "LH_df[\"simp\"] = LH_df[\"call_lab_simp\"]"
   ]
  },
  {
   "cell_type": "code",
   "execution_count": 14,
   "id": "7c6e0759",
   "metadata": {},
   "outputs": [
    {
     "data": {
      "text/plain": [
       "array(['LH-DS', 'SH-DS-SH-SH-LH', 'SH-DS-SH-LH', 'SH-DS-LH'], dtype=object)"
      ]
     },
     "execution_count": 14,
     "metadata": {},
     "output_type": "execute_result"
    }
   ],
   "source": [
    "LH_df.simp.unique()"
   ]
  },
  {
   "cell_type": "code",
   "execution_count": 15,
   "id": "0bf40292",
   "metadata": {},
   "outputs": [],
   "source": [
    "## Create conditions\n",
    "cond1 = LH_df['simp'] == 'LH-DS'\n",
    "cond2 = LH_df['simp'] == 'SH-DS-SH-SH-LH'\n",
    "cond3 = LH_df['simp'] == 'SH-DS-SH-LH'\n",
    "cond4 = LH_df['simp'] == 'SH-DS-LH'"
   ]
  },
  {
   "cell_type": "code",
   "execution_count": 16,
   "id": "a027ebe6",
   "metadata": {},
   "outputs": [],
   "source": [
    "## Modified \n",
    "LH_df.loc[cond1, 'simp'] = 'LH Precede DS'\n",
    "LH_df.loc[cond2, 'simp'] = 'LH Last Segment'\n",
    "LH_df.loc[cond3, 'simp'] = 'LH Last Segment'\n",
    "LH_df.loc[cond4, 'simp'] = 'LH Last Segment'"
   ]
  },
  {
   "cell_type": "code",
   "execution_count": 24,
   "id": "339bf689",
   "metadata": {},
   "outputs": [],
   "source": [
    "NL_df = seg_df.loc[seg_df[\"comb_labels\"]==\"NL\"].copy(deep=True)"
   ]
  },
  {
   "cell_type": "code",
   "execution_count": 25,
   "id": "68121767",
   "metadata": {},
   "outputs": [],
   "source": [
    "NL_df[\"simp\"] = NL_df[\"call_lab_simp\"]"
   ]
  },
  {
   "cell_type": "code",
   "execution_count": 26,
   "id": "1509ffe6",
   "metadata": {},
   "outputs": [
    {
     "data": {
      "text/plain": [
       "array(['NL-DS', 'NL', 'NL-SH-DS'], dtype=object)"
      ]
     },
     "execution_count": 26,
     "metadata": {},
     "output_type": "execute_result"
    }
   ],
   "source": [
    "NL_df.simp.unique()"
   ]
  },
  {
   "cell_type": "code",
   "execution_count": 27,
   "id": "77428c68",
   "metadata": {},
   "outputs": [],
   "source": [
    "## Create conditions\n",
    "cond1 = NL_df['simp'] == 'NL-DS'\n",
    "cond2 = NL_df['simp'] == 'NL'\n",
    "cond3 = NL_df['simp'] == 'NL-SH-DS'"
   ]
  },
  {
   "cell_type": "code",
   "execution_count": 28,
   "id": "e741ee1c",
   "metadata": {},
   "outputs": [],
   "source": [
    "## Modified \n",
    "NL_df.loc[cond1, 'simp'] = 'NL Combined'\n",
    "NL_df.loc[cond2, 'simp'] = 'NL Lone'\n",
    "NL_df.loc[cond3, 'simp'] = 'NL Combined'"
   ]
  },
  {
   "cell_type": "code",
   "execution_count": 35,
   "id": "dbbfe1a0",
   "metadata": {},
   "outputs": [
    {
     "data": {
      "text/plain": [
       "array(['NL Combined', 'NL Lone'], dtype=object)"
      ]
     },
     "execution_count": 35,
     "metadata": {},
     "output_type": "execute_result"
    }
   ],
   "source": [
    "NL_df.simp.unique()"
   ]
  },
  {
   "cell_type": "markdown",
   "id": "af4801e7",
   "metadata": {},
   "source": [
    "Need to create a 'simp' column for SH and DS segs so that the dataframes can be combined"
   ]
  },
  {
   "cell_type": "code",
   "execution_count": 29,
   "id": "d91ebb68",
   "metadata": {},
   "outputs": [],
   "source": [
    "SH_df = seg_df.loc[seg_df[\"comb_labels\"]==\"SH\"].copy(deep=True)"
   ]
  },
  {
   "cell_type": "code",
   "execution_count": 30,
   "id": "2dc0cf19",
   "metadata": {},
   "outputs": [],
   "source": [
    "SH_df[\"simp\"] = SH_df[\"comb_labels\"]"
   ]
  },
  {
   "cell_type": "code",
   "execution_count": 31,
   "id": "97630573",
   "metadata": {},
   "outputs": [
    {
     "data": {
      "text/plain": [
       "array(['SH'], dtype=object)"
      ]
     },
     "execution_count": 31,
     "metadata": {},
     "output_type": "execute_result"
    }
   ],
   "source": [
    "SH_df.simp.unique()"
   ]
  },
  {
   "cell_type": "code",
   "execution_count": 32,
   "id": "5b76511e",
   "metadata": {},
   "outputs": [],
   "source": [
    "DS_df = seg_df.loc[seg_df[\"comb_labels\"]==\"DS\"].copy(deep=True)"
   ]
  },
  {
   "cell_type": "code",
   "execution_count": 33,
   "id": "ef9516b7",
   "metadata": {},
   "outputs": [],
   "source": [
    "DS_df[\"simp\"] = DS_df[\"comb_labels\"]"
   ]
  },
  {
   "cell_type": "code",
   "execution_count": 34,
   "id": "f13c5dee",
   "metadata": {},
   "outputs": [
    {
     "data": {
      "text/plain": [
       "array(['DS'], dtype=object)"
      ]
     },
     "execution_count": 34,
     "metadata": {},
     "output_type": "execute_result"
    }
   ],
   "source": [
    "DS_df.simp.unique()"
   ]
  },
  {
   "cell_type": "code",
   "execution_count": 36,
   "id": "42f379a4",
   "metadata": {},
   "outputs": [
    {
     "data": {
      "text/plain": [
       "244"
      ]
     },
     "execution_count": 36,
     "metadata": {},
     "output_type": "execute_result"
    }
   ],
   "source": [
    "#attach to dataframe with other VVVM segments\n",
    "frames = [NL_df, DS_df, SH_df, LH_df]\n",
    "seg_df2 = pd.concat(frames)\n",
    "len(seg_df2)"
   ]
  },
  {
   "cell_type": "markdown",
   "id": "0b7502bd",
   "metadata": {},
   "source": [
    "### Check Dataframe Before Plotting"
   ]
  },
  {
   "cell_type": "code",
   "execution_count": 37,
   "id": "0a11d8b0",
   "metadata": {
    "scrolled": true
   },
   "outputs": [
    {
     "data": {
      "text/plain": [
       "array(['NL Combined', 'NL Lone', 'DS', 'SH', 'LH Precede DS',\n",
       "       'LH Last Segment'], dtype=object)"
      ]
     },
     "execution_count": 37,
     "metadata": {},
     "output_type": "execute_result"
    }
   ],
   "source": [
    "seg_df2.simp.unique()"
   ]
  },
  {
   "cell_type": "code",
   "execution_count": 43,
   "id": "9f6679d1",
   "metadata": {},
   "outputs": [
    {
     "data": {
      "text/html": [
       "<div>\n",
       "<style scoped>\n",
       "    .dataframe tbody tr th:only-of-type {\n",
       "        vertical-align: middle;\n",
       "    }\n",
       "\n",
       "    .dataframe tbody tr th {\n",
       "        vertical-align: top;\n",
       "    }\n",
       "\n",
       "    .dataframe thead th {\n",
       "        text-align: right;\n",
       "    }\n",
       "</style>\n",
       "<table border=\"1\" class=\"dataframe\">\n",
       "  <thead>\n",
       "    <tr style=\"text-align: right;\">\n",
       "      <th></th>\n",
       "      <th>start_time</th>\n",
       "      <th>end_time</th>\n",
       "      <th>labels</th>\n",
       "      <th>ID</th>\n",
       "      <th>start_times</th>\n",
       "      <th>end_times</th>\n",
       "      <th>call_label</th>\n",
       "      <th>call_start</th>\n",
       "      <th>seg_pos_call</th>\n",
       "      <th>call_unique_num</th>\n",
       "      <th>...</th>\n",
       "      <th>location</th>\n",
       "      <th>sex</th>\n",
       "      <th>wav_loc</th>\n",
       "      <th>key</th>\n",
       "      <th>rate</th>\n",
       "      <th>specs</th>\n",
       "      <th>comb_labels</th>\n",
       "      <th>call_lab_simp</th>\n",
       "      <th>umap</th>\n",
       "      <th>simp</th>\n",
       "    </tr>\n",
       "  </thead>\n",
       "  <tbody>\n",
       "    <tr>\n",
       "      <th>0</th>\n",
       "      <td>5.088056</td>\n",
       "      <td>5.156045</td>\n",
       "      <td>NL</td>\n",
       "      <td>1095</td>\n",
       "      <td>5.088056</td>\n",
       "      <td>5.156045</td>\n",
       "      <td>NLDS</td>\n",
       "      <td>5.088056</td>\n",
       "      <td>0</td>\n",
       "      <td>439</td>\n",
       "      <td>...</td>\n",
       "      <td>GUILDFORD</td>\n",
       "      <td>F</td>\n",
       "      <td>C:/Users/slwal/anaconda3/envs/PY36/avgn_paper-...</td>\n",
       "      <td>RVD VVVM Aerial Predator Call series 1 051120 AM</td>\n",
       "      <td>44100</td>\n",
       "      <td>[[0.0, 0.0, 0.0, 0.0, 0.0, 0.0, 0.0, 0.0, 0.0,...</td>\n",
       "      <td>NL</td>\n",
       "      <td>NL-DS</td>\n",
       "      <td>[-0.18258724, 1.9057153]</td>\n",
       "      <td>NL Combined</td>\n",
       "    </tr>\n",
       "    <tr>\n",
       "      <th>1</th>\n",
       "      <td>5.168242</td>\n",
       "      <td>5.257137</td>\n",
       "      <td>DS</td>\n",
       "      <td>1096</td>\n",
       "      <td>5.168242</td>\n",
       "      <td>5.257137</td>\n",
       "      <td>NLDS</td>\n",
       "      <td>5.088056</td>\n",
       "      <td>1</td>\n",
       "      <td>439</td>\n",
       "      <td>...</td>\n",
       "      <td>GUILDFORD</td>\n",
       "      <td>F</td>\n",
       "      <td>C:/Users/slwal/anaconda3/envs/PY36/avgn_paper-...</td>\n",
       "      <td>RVD VVVM Aerial Predator Call series 1 051120 AM</td>\n",
       "      <td>44100</td>\n",
       "      <td>[[0.0, 0.0, 0.0, 0.0, 0.0, 0.0, 0.0, 0.0, 0.0,...</td>\n",
       "      <td>DS</td>\n",
       "      <td>NL-DS</td>\n",
       "      <td>[-3.3270218, -1.4800661]</td>\n",
       "      <td>DS</td>\n",
       "    </tr>\n",
       "    <tr>\n",
       "      <th>2</th>\n",
       "      <td>5.272444</td>\n",
       "      <td>5.380619</td>\n",
       "      <td>LH</td>\n",
       "      <td>1097</td>\n",
       "      <td>5.272444</td>\n",
       "      <td>5.380619</td>\n",
       "      <td>LHDS</td>\n",
       "      <td>5.272444</td>\n",
       "      <td>0</td>\n",
       "      <td>440</td>\n",
       "      <td>...</td>\n",
       "      <td>GUILDFORD</td>\n",
       "      <td>F</td>\n",
       "      <td>C:/Users/slwal/anaconda3/envs/PY36/avgn_paper-...</td>\n",
       "      <td>RVD VVVM Aerial Predator Call series 1 051120 AM</td>\n",
       "      <td>44100</td>\n",
       "      <td>[[0.0, 0.0, 0.0, 0.0, 0.0, 0.0, 0.0, 0.0, 0.0,...</td>\n",
       "      <td>LH</td>\n",
       "      <td>LH-DS</td>\n",
       "      <td>[3.1635423, 2.847925]</td>\n",
       "      <td>LH Precede DS</td>\n",
       "    </tr>\n",
       "  </tbody>\n",
       "</table>\n",
       "<p>3 rows × 29 columns</p>\n",
       "</div>"
      ],
      "text/plain": [
       "   start_time  end_time labels    ID  start_times  end_times call_label  \\\n",
       "0    5.088056  5.156045     NL  1095     5.088056   5.156045       NLDS   \n",
       "1    5.168242  5.257137     DS  1096     5.168242   5.257137       NLDS   \n",
       "2    5.272444  5.380619     LH  1097     5.272444   5.380619       LHDS   \n",
       "\n",
       "   call_start  seg_pos_call  call_unique_num  ...   location sex  \\\n",
       "0    5.088056             0              439  ...  GUILDFORD   F   \n",
       "1    5.088056             1              439  ...  GUILDFORD   F   \n",
       "2    5.272444             0              440  ...  GUILDFORD   F   \n",
       "\n",
       "                                             wav_loc  \\\n",
       "0  C:/Users/slwal/anaconda3/envs/PY36/avgn_paper-...   \n",
       "1  C:/Users/slwal/anaconda3/envs/PY36/avgn_paper-...   \n",
       "2  C:/Users/slwal/anaconda3/envs/PY36/avgn_paper-...   \n",
       "\n",
       "                                                key   rate  \\\n",
       "0  RVD VVVM Aerial Predator Call series 1 051120 AM  44100   \n",
       "1  RVD VVVM Aerial Predator Call series 1 051120 AM  44100   \n",
       "2  RVD VVVM Aerial Predator Call series 1 051120 AM  44100   \n",
       "\n",
       "                                               specs  comb_labels  \\\n",
       "0  [[0.0, 0.0, 0.0, 0.0, 0.0, 0.0, 0.0, 0.0, 0.0,...           NL   \n",
       "1  [[0.0, 0.0, 0.0, 0.0, 0.0, 0.0, 0.0, 0.0, 0.0,...           DS   \n",
       "2  [[0.0, 0.0, 0.0, 0.0, 0.0, 0.0, 0.0, 0.0, 0.0,...           LH   \n",
       "\n",
       "  call_lab_simp                      umap           simp  \n",
       "0         NL-DS  [-0.18258724, 1.9057153]    NL Combined  \n",
       "1         NL-DS  [-3.3270218, -1.4800661]             DS  \n",
       "2         LH-DS     [3.1635423, 2.847925]  LH Precede DS  \n",
       "\n",
       "[3 rows x 29 columns]"
      ]
     },
     "execution_count": 43,
     "metadata": {},
     "output_type": "execute_result"
    }
   ],
   "source": [
    "seg_df2[:3]"
   ]
  },
  {
   "cell_type": "code",
   "execution_count": 40,
   "id": "d6ec0364",
   "metadata": {},
   "outputs": [],
   "source": [
    "def norm(x):\n",
    "    return (x-np.min(x)) / (np.max(x) - np.min(x))"
   ]
  },
  {
   "cell_type": "code",
   "execution_count": 41,
   "id": "1c43da94",
   "metadata": {},
   "outputs": [
    {
     "data": {
      "application/vnd.jupyter.widget-view+json": {
       "model_id": "ae147a23183640e0a7755fa73992d0ca",
       "version_major": 2,
       "version_minor": 0
      },
      "text/plain": [
       "  0%|          | 0/244 [00:00<?, ?it/s]"
      ]
     },
     "metadata": {},
     "output_type": "display_data"
    }
   ],
   "source": [
    "specs = list(seg_df2.specs.values)\n",
    "specs = [norm(i) for i in tqdm(specs)]"
   ]
  },
  {
   "cell_type": "code",
   "execution_count": 42,
   "id": "cae812aa",
   "metadata": {},
   "outputs": [],
   "source": [
    "import matplotlib.pyplot as plt"
   ]
  },
  {
   "cell_type": "code",
   "execution_count": null,
   "id": "d15830ee",
   "metadata": {},
   "outputs": [],
   "source": [
    "nex = -1\n",
    "color = ['xkcd:very dark blue','teal', 'xkcd:pale teal', 'peachpuff', 'indianred', 'thistle']\n",
    "scatter_spec(\n",
    "    np.array(list(seg_df2['umap'].values)),\n",
    "    specs,\n",
    "    column_size=10,\n",
    "    x_range = [-6.25,15.5],\n",
    "    y_range = [-8.5, 12.25],\n",
    "    pal_color=\"hls\",\n",
    "    color_points=False,\n",
    "    enlarge_points=0,\n",
    "    figsize=(10, 10),\n",
    "    range_pad = 0.15,\n",
    "    scatter_kwargs = {\n",
    "        'labels': seg_df2.simp.values,\n",
    "        'alpha':1,\n",
    "        's': 3,\n",
    "        'show_legend': True,\n",
    "        \"color_palette\": color,\n",
    "    },\n",
    "    matshow_kwargs = {\n",
    "        'cmap': plt.cm.Greys\n",
    "    },\n",
    "    line_kwargs = {\n",
    "        'lw':0.5,\n",
    "        'ls':\"dashed\",\n",
    "        'alpha':0.25,\n",
    "    },\n",
    "    draw_lines=True,\n",
    "    n_subset= 1000,\n",
    "    border_line_width = 3,\n",
    "    \n",
    "\n",
    ");\n",
    "plt.show()"
   ]
  },
  {
   "cell_type": "code",
   "execution_count": null,
   "id": "4196ff99",
   "metadata": {},
   "outputs": [],
   "source": []
  }
 ],
 "metadata": {
  "kernelspec": {
   "display_name": "Python 3",
   "language": "python",
   "name": "python3"
  },
  "language_info": {
   "codemirror_mode": {
    "name": "ipython",
    "version": 3
   },
   "file_extension": ".py",
   "mimetype": "text/x-python",
   "name": "python",
   "nbconvert_exporter": "python",
   "pygments_lexer": "ipython3",
   "version": "3.6.13"
  }
 },
 "nbformat": 4,
 "nbformat_minor": 5
}
