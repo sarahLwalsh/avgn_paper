{
 "cells": [
  {
   "cell_type": "markdown",
   "id": "d51d436c",
   "metadata": {},
   "source": [
    "### Load dataframe"
   ]
  },
  {
   "cell_type": "code",
   "execution_count": 1,
   "id": "753335c5",
   "metadata": {},
   "outputs": [],
   "source": [
    "import numpy as np\n",
    "import matplotlib.pyplot as plt\n",
    "%matplotlib inline\n",
    "from tqdm.auto import tqdm\n",
    "from joblib import Parallel, delayed\n",
    "import pandas as pd"
   ]
  },
  {
   "cell_type": "code",
   "execution_count": 2,
   "id": "1085c19d",
   "metadata": {
    "scrolled": true
   },
   "outputs": [],
   "source": [
    "import avgn"
   ]
  },
  {
   "cell_type": "code",
   "execution_count": 3,
   "id": "86977f86",
   "metadata": {},
   "outputs": [],
   "source": [
    "from avgn.utils.paths import DATA_DIR, most_recent_subdirectory, ensure_dir, FIGURE_DIR\n",
    "from avgn.visualization.spectrogram import draw_spec_set\n",
    "from avgn.utils.general import save_fig"
   ]
  },
  {
   "cell_type": "code",
   "execution_count": 4,
   "id": "5b235633",
   "metadata": {},
   "outputs": [],
   "source": [
    "from scipy.stats import kruskal\n",
    "from sklearn.metrics import silhouette_score, silhouette_samples"
   ]
  },
  {
   "cell_type": "code",
   "execution_count": 5,
   "id": "5bfbc7c4",
   "metadata": {},
   "outputs": [],
   "source": [
    "DATASET_ID = \"git_repos_call\""
   ]
  },
  {
   "cell_type": "code",
   "execution_count": 6,
   "id": "780f0083",
   "metadata": {},
   "outputs": [],
   "source": [
    "DT_ID = '2022-03-12_17-46-00'"
   ]
  },
  {
   "cell_type": "markdown",
   "id": "966d7003",
   "metadata": {},
   "source": [
    "## No LH Calls"
   ]
  },
  {
   "cell_type": "code",
   "execution_count": 7,
   "id": "322b854c",
   "metadata": {},
   "outputs": [
    {
     "data": {
      "text/html": [
       "<div>\n",
       "<style scoped>\n",
       "    .dataframe tbody tr th:only-of-type {\n",
       "        vertical-align: middle;\n",
       "    }\n",
       "\n",
       "    .dataframe tbody tr th {\n",
       "        vertical-align: top;\n",
       "    }\n",
       "\n",
       "    .dataframe thead th {\n",
       "        text-align: right;\n",
       "    }\n",
       "</style>\n",
       "<table border=\"1\" class=\"dataframe\">\n",
       "  <thead>\n",
       "    <tr style=\"text-align: right;\">\n",
       "      <th></th>\n",
       "      <th>start_time</th>\n",
       "      <th>end_time</th>\n",
       "      <th>labels</th>\n",
       "      <th>indv</th>\n",
       "      <th>indvi</th>\n",
       "      <th>filename</th>\n",
       "      <th>group</th>\n",
       "      <th>location</th>\n",
       "      <th>sex</th>\n",
       "      <th>wav_loc</th>\n",
       "      <th>...</th>\n",
       "      <th>comb_labels</th>\n",
       "      <th>specs</th>\n",
       "      <th>umap</th>\n",
       "      <th>call_lab_simp</th>\n",
       "      <th>combi_lab_simp</th>\n",
       "      <th>call_unique_num</th>\n",
       "      <th>call_pos_combi</th>\n",
       "      <th>combi_label</th>\n",
       "      <th>combi_unique_num</th>\n",
       "      <th>simp</th>\n",
       "    </tr>\n",
       "    <tr>\n",
       "      <th>ID</th>\n",
       "      <th></th>\n",
       "      <th></th>\n",
       "      <th></th>\n",
       "      <th></th>\n",
       "      <th></th>\n",
       "      <th></th>\n",
       "      <th></th>\n",
       "      <th></th>\n",
       "      <th></th>\n",
       "      <th></th>\n",
       "      <th></th>\n",
       "      <th></th>\n",
       "      <th></th>\n",
       "      <th></th>\n",
       "      <th></th>\n",
       "      <th></th>\n",
       "      <th></th>\n",
       "      <th></th>\n",
       "      <th></th>\n",
       "      <th></th>\n",
       "      <th></th>\n",
       "    </tr>\n",
       "  </thead>\n",
       "  <tbody>\n",
       "    <tr>\n",
       "      <th>0</th>\n",
       "      <td>0.753604</td>\n",
       "      <td>0.921160</td>\n",
       "      <td>DSSHDS</td>\n",
       "      <td>MGGY</td>\n",
       "      <td>0</td>\n",
       "      <td>BWY MGGY Call Combo 1 290719 PM</td>\n",
       "      <td>BWYa</td>\n",
       "      <td>CRAWLEY</td>\n",
       "      <td>F</td>\n",
       "      <td>C:/Users/slwal/anaconda3/envs/PY36/avgn_paper-...</td>\n",
       "      <td>...</td>\n",
       "      <td>DSSHDS</td>\n",
       "      <td>[[0.0, 0.0, 0.0, 0.0, 0.0, 0.0, 0.0, 0.0, 0.0,...</td>\n",
       "      <td>[9.309541, 7.8061166]</td>\n",
       "      <td>DS-SH-DS</td>\n",
       "      <td>DS-SH-DS SH-LH</td>\n",
       "      <td>0</td>\n",
       "      <td>0</td>\n",
       "      <td>DSSHDS SHSHLH</td>\n",
       "      <td>0</td>\n",
       "      <td>Other Calls</td>\n",
       "    </tr>\n",
       "    <tr>\n",
       "      <th>2</th>\n",
       "      <td>1.218085</td>\n",
       "      <td>1.308841</td>\n",
       "      <td>DS</td>\n",
       "      <td>MGGY</td>\n",
       "      <td>0</td>\n",
       "      <td>BWY MGGY Call Combo 1 300719 AM</td>\n",
       "      <td>BWYa</td>\n",
       "      <td>CRAWLEY</td>\n",
       "      <td>F</td>\n",
       "      <td>C:/Users/slwal/anaconda3/envs/PY36/avgn_paper-...</td>\n",
       "      <td>...</td>\n",
       "      <td>DS</td>\n",
       "      <td>[[0.0, 0.0, 0.0, 0.0, 0.0, 0.0, 0.0, 0.0, 0.0,...</td>\n",
       "      <td>[7.7548466, 3.2709882]</td>\n",
       "      <td>DS</td>\n",
       "      <td>DS SH-LH</td>\n",
       "      <td>2</td>\n",
       "      <td>0</td>\n",
       "      <td>DS USC</td>\n",
       "      <td>1</td>\n",
       "      <td>Other Calls</td>\n",
       "    </tr>\n",
       "    <tr>\n",
       "      <th>4</th>\n",
       "      <td>1.244022</td>\n",
       "      <td>1.420183</td>\n",
       "      <td>DSSHDS</td>\n",
       "      <td>MGGY</td>\n",
       "      <td>0</td>\n",
       "      <td>BWY MGGY Discrete 1 300719 AM</td>\n",
       "      <td>BWYa</td>\n",
       "      <td>CRAWLEY</td>\n",
       "      <td>F</td>\n",
       "      <td>C:/Users/slwal/anaconda3/envs/PY36/avgn_paper-...</td>\n",
       "      <td>...</td>\n",
       "      <td>DSSHDS</td>\n",
       "      <td>[[0.0, 0.0, 0.0, 0.0, 0.0, 0.0, 0.0, 0.0, 0.0,...</td>\n",
       "      <td>[7.8939924, 7.3213944]</td>\n",
       "      <td>DS-SH-DS</td>\n",
       "      <td>DS-SH-DS LH</td>\n",
       "      <td>4</td>\n",
       "      <td>0</td>\n",
       "      <td>DSSHDS LH</td>\n",
       "      <td>2</td>\n",
       "      <td>Other Calls</td>\n",
       "    </tr>\n",
       "  </tbody>\n",
       "</table>\n",
       "<p>3 rows × 22 columns</p>\n",
       "</div>"
      ],
      "text/plain": [
       "    start_time  end_time  labels  indv  indvi  \\\n",
       "ID                                              \n",
       "0     0.753604  0.921160  DSSHDS  MGGY      0   \n",
       "2     1.218085  1.308841      DS  MGGY      0   \n",
       "4     1.244022  1.420183  DSSHDS  MGGY      0   \n",
       "\n",
       "                           filename group location sex  \\\n",
       "ID                                                       \n",
       "0   BWY MGGY Call Combo 1 290719 PM  BWYa  CRAWLEY   F   \n",
       "2   BWY MGGY Call Combo 1 300719 AM  BWYa  CRAWLEY   F   \n",
       "4     BWY MGGY Discrete 1 300719 AM  BWYa  CRAWLEY   F   \n",
       "\n",
       "                                              wav_loc  ... comb_labels  \\\n",
       "ID                                                     ...               \n",
       "0   C:/Users/slwal/anaconda3/envs/PY36/avgn_paper-...  ...      DSSHDS   \n",
       "2   C:/Users/slwal/anaconda3/envs/PY36/avgn_paper-...  ...          DS   \n",
       "4   C:/Users/slwal/anaconda3/envs/PY36/avgn_paper-...  ...      DSSHDS   \n",
       "\n",
       "                                                specs                    umap  \\\n",
       "ID                                                                              \n",
       "0   [[0.0, 0.0, 0.0, 0.0, 0.0, 0.0, 0.0, 0.0, 0.0,...   [9.309541, 7.8061166]   \n",
       "2   [[0.0, 0.0, 0.0, 0.0, 0.0, 0.0, 0.0, 0.0, 0.0,...  [7.7548466, 3.2709882]   \n",
       "4   [[0.0, 0.0, 0.0, 0.0, 0.0, 0.0, 0.0, 0.0, 0.0,...  [7.8939924, 7.3213944]   \n",
       "\n",
       "   call_lab_simp  combi_lab_simp call_unique_num call_pos_combi  \\\n",
       "ID                                                                \n",
       "0       DS-SH-DS  DS-SH-DS SH-LH               0              0   \n",
       "2             DS        DS SH-LH               2              0   \n",
       "4       DS-SH-DS     DS-SH-DS LH               4              0   \n",
       "\n",
       "      combi_label  combi_unique_num         simp  \n",
       "ID                                                \n",
       "0   DSSHDS SHSHLH                 0  Other Calls  \n",
       "2          DS USC                 1  Other Calls  \n",
       "4       DSSHDS LH                 2  Other Calls  \n",
       "\n",
       "[3 rows x 22 columns]"
      ]
     },
     "execution_count": 7,
     "metadata": {},
     "output_type": "execute_result"
    }
   ],
   "source": [
    "call_df = pd.read_pickle(DATA_DIR / DATASET_ID / \"NoLHcalls\" /  'NoLHCall_UMAP.pickle')\n",
    "call_df[:3]"
   ]
  },
  {
   "cell_type": "code",
   "execution_count": 8,
   "id": "6d35b440",
   "metadata": {},
   "outputs": [
    {
     "data": {
      "text/plain": [
       "358"
      ]
     },
     "execution_count": 8,
     "metadata": {},
     "output_type": "execute_result"
    }
   ],
   "source": [
    "len(call_df)"
   ]
  },
  {
   "cell_type": "code",
   "execution_count": 9,
   "id": "a014fd3f",
   "metadata": {},
   "outputs": [],
   "source": [
    "def norm(x):\n",
    "    return (x-np.min(x)) / (np.max(x) - np.min(x))"
   ]
  },
  {
   "cell_type": "code",
   "execution_count": 10,
   "id": "4e7698ed",
   "metadata": {},
   "outputs": [
    {
     "data": {
      "application/vnd.jupyter.widget-view+json": {
       "model_id": "9b799b4be40e49429fab58233923c825",
       "version_major": 2,
       "version_minor": 0
      },
      "text/plain": [
       "  0%|          | 0/358 [00:00<?, ?it/s]"
      ]
     },
     "metadata": {},
     "output_type": "display_data"
    }
   ],
   "source": [
    "specs = list(call_df.specs.values)\n",
    "specs = [norm(i) for i in tqdm(specs)]"
   ]
  },
  {
   "cell_type": "code",
   "execution_count": 11,
   "id": "c7e8a01d",
   "metadata": {},
   "outputs": [],
   "source": [
    "from avgn.visualization.projections import scatter_spec"
   ]
  },
  {
   "cell_type": "code",
   "execution_count": null,
   "id": "514025ce",
   "metadata": {},
   "outputs": [],
   "source": [
    "nex = -1\n",
    "colors = [\"navy\", \"darkslateblue\", \"slateblue\", \"steelblue\", \"lightblue\", \"lightseagreen\", \"teal\",  \"seagreen\", \"darkgreen\", \"forestgreen\", \"darkseagreen\"]\n",
    "scatter_spec(\n",
    "    np.array(list(call_df['umap'].values)),\n",
    "    specs,\n",
    "    column_size=10,\n",
    "    x_range = [2,12],\n",
    "    y_range = [0,10],\n",
    "    pal_color=\"hls\",\n",
    "    color_points=False,\n",
    "    enlarge_points=0,\n",
    "    figsize=(10, 10),\n",
    "    range_pad = 0.15,\n",
    "    scatter_kwargs = {\n",
    "        'labels': call_df.call_lab_simp.values,\n",
    "        'alpha':1,\n",
    "        's': 10,\n",
    "        'show_legend': True,\n",
    "        \"color_palette\": colors,\n",
    "    },\n",
    "    matshow_kwargs = {\n",
    "        'cmap': plt.cm.Greys\n",
    "    },\n",
    "    line_kwargs = {\n",
    "        'lw':0.5,\n",
    "        'ls':\"dashed\",\n",
    "        'alpha':0.25,\n",
    "    },\n",
    "    draw_lines=False,\n",
    "    n_subset= 1000,\n",
    "    border_line_width = 3,\n",
    "    \n",
    "\n",
    ");\n",
    "\n",
    "save_loc = (FIGURE_DIR / 'manuscript' / 'Figures' / 'S5A.jpeg')\n",
    "ensure_dir(save_loc.as_posix())\n",
    "save_fig(save_loc, dpi=600, save_jpg=False)"
   ]
  },
  {
   "cell_type": "markdown",
   "id": "1f505fb2",
   "metadata": {},
   "source": [
    "### Silhouette & KW-H test"
   ]
  },
  {
   "cell_type": "code",
   "execution_count": null,
   "id": "c036d76b",
   "metadata": {},
   "outputs": [],
   "source": [
    "callscore = silhouette_score(list(np.array(list(call_df['umap'].values))), labels = call_df.call_lab_simp.values)\n",
    "callscore"
   ]
  },
  {
   "cell_type": "code",
   "execution_count": null,
   "id": "e0b27431",
   "metadata": {},
   "outputs": [],
   "source": [
    "samples = silhouette_samples(list(np.array(list(call_df['umap'].values))), labels = call_df.call_lab_simp.values)\n",
    "chance_samples = silhouette_samples(list(np.array(list(call_df['umap'].values))), labels = np.random.permutation(call_df.call_lab_simp.values))"
   ]
  },
  {
   "cell_type": "code",
   "execution_count": null,
   "id": "6bb144a0",
   "metadata": {},
   "outputs": [],
   "source": [
    "KWlabels = kruskal(samples, chance_samples)\n",
    "KWlabels"
   ]
  },
  {
   "cell_type": "code",
   "execution_count": null,
   "id": "d049f075",
   "metadata": {},
   "outputs": [],
   "source": [
    "sexscore = silhouette_score(list(np.array(list(call_df['umap'].values))), labels = call_df.sex.values)\n",
    "indvscore = silhouette_score(list(np.array(list(call_df['umap'].values))), labels = call_df.indv.values)\n",
    "calllabelscore = silhouette_score(list(np.array(list(call_df['umap'].values))), labels = call_df.call_lab_simp.values)\n",
    "groupscore = silhouette_score(list(np.array(list(call_df['umap'].values))), labels = call_df.group.values)"
   ]
  },
  {
   "cell_type": "code",
   "execution_count": null,
   "id": "2219548d",
   "metadata": {},
   "outputs": [],
   "source": [
    "sexscore, indvscore, calllabelscore, groupscore"
   ]
  },
  {
   "cell_type": "code",
   "execution_count": null,
   "id": "584dec81",
   "metadata": {},
   "outputs": [],
   "source": [
    "samples = silhouette_samples(list(np.array(list(call_df['umap'].values))), labels = call_df.sex.values)\n",
    "chance_samples = silhouette_samples(list(np.array(list(call_df['umap'].values))), labels = np.random.permutation(call_df.sex.values))"
   ]
  },
  {
   "cell_type": "code",
   "execution_count": null,
   "id": "9e4df24f",
   "metadata": {},
   "outputs": [],
   "source": [
    "KWsex = kruskal(samples, chance_samples)\n",
    "KWsex"
   ]
  },
  {
   "cell_type": "code",
   "execution_count": null,
   "id": "b0197580",
   "metadata": {},
   "outputs": [],
   "source": []
  },
  {
   "cell_type": "markdown",
   "id": "9b705c49",
   "metadata": {},
   "source": [
    "## No LH containing or NL Lone Calls"
   ]
  },
  {
   "cell_type": "code",
   "execution_count": 45,
   "id": "8f36db9a",
   "metadata": {},
   "outputs": [
    {
     "data": {
      "text/html": [
       "<div>\n",
       "<style scoped>\n",
       "    .dataframe tbody tr th:only-of-type {\n",
       "        vertical-align: middle;\n",
       "    }\n",
       "\n",
       "    .dataframe tbody tr th {\n",
       "        vertical-align: top;\n",
       "    }\n",
       "\n",
       "    .dataframe thead th {\n",
       "        text-align: right;\n",
       "    }\n",
       "</style>\n",
       "<table border=\"1\" class=\"dataframe\">\n",
       "  <thead>\n",
       "    <tr style=\"text-align: right;\">\n",
       "      <th></th>\n",
       "      <th>start_time</th>\n",
       "      <th>end_time</th>\n",
       "      <th>labels</th>\n",
       "      <th>indv</th>\n",
       "      <th>indvi</th>\n",
       "      <th>filename</th>\n",
       "      <th>group</th>\n",
       "      <th>location</th>\n",
       "      <th>sex</th>\n",
       "      <th>wav_loc</th>\n",
       "      <th>...</th>\n",
       "      <th>specs</th>\n",
       "      <th>simplified</th>\n",
       "      <th>umap</th>\n",
       "      <th>call_lab_simp</th>\n",
       "      <th>combi_lab_simp</th>\n",
       "      <th>call_unique_num</th>\n",
       "      <th>call_pos_combi</th>\n",
       "      <th>combi_label</th>\n",
       "      <th>combi_unique_num</th>\n",
       "      <th>simp</th>\n",
       "    </tr>\n",
       "    <tr>\n",
       "      <th>ID</th>\n",
       "      <th></th>\n",
       "      <th></th>\n",
       "      <th></th>\n",
       "      <th></th>\n",
       "      <th></th>\n",
       "      <th></th>\n",
       "      <th></th>\n",
       "      <th></th>\n",
       "      <th></th>\n",
       "      <th></th>\n",
       "      <th></th>\n",
       "      <th></th>\n",
       "      <th></th>\n",
       "      <th></th>\n",
       "      <th></th>\n",
       "      <th></th>\n",
       "      <th></th>\n",
       "      <th></th>\n",
       "      <th></th>\n",
       "      <th></th>\n",
       "      <th></th>\n",
       "    </tr>\n",
       "  </thead>\n",
       "  <tbody>\n",
       "    <tr>\n",
       "      <th>0</th>\n",
       "      <td>0.753604</td>\n",
       "      <td>0.921160</td>\n",
       "      <td>DSSHDS</td>\n",
       "      <td>MGGY</td>\n",
       "      <td>0</td>\n",
       "      <td>BWY MGGY Call Combo 1 290719 PM</td>\n",
       "      <td>BWYa</td>\n",
       "      <td>CRAWLEY</td>\n",
       "      <td>F</td>\n",
       "      <td>C:/Users/slwal/anaconda3/envs/PY36/avgn_paper-...</td>\n",
       "      <td>...</td>\n",
       "      <td>[[0.0, 0.0, 0.0, 0.0, 0.0, 0.0, 0.0, 0.0, 0.0,...</td>\n",
       "      <td>1</td>\n",
       "      <td>[8.485272, 6.9444375]</td>\n",
       "      <td>DS-SH-DS</td>\n",
       "      <td>DS-SH-DS SH-LH</td>\n",
       "      <td>0</td>\n",
       "      <td>0</td>\n",
       "      <td>DSSHDS SHSHLH</td>\n",
       "      <td>0</td>\n",
       "      <td>Other Calls</td>\n",
       "    </tr>\n",
       "    <tr>\n",
       "      <th>2</th>\n",
       "      <td>1.218085</td>\n",
       "      <td>1.308841</td>\n",
       "      <td>DS</td>\n",
       "      <td>MGGY</td>\n",
       "      <td>0</td>\n",
       "      <td>BWY MGGY Call Combo 1 300719 AM</td>\n",
       "      <td>BWYa</td>\n",
       "      <td>CRAWLEY</td>\n",
       "      <td>F</td>\n",
       "      <td>C:/Users/slwal/anaconda3/envs/PY36/avgn_paper-...</td>\n",
       "      <td>...</td>\n",
       "      <td>[[0.0, 0.0, 0.0, 0.0, 0.0, 0.0, 0.0, 0.0, 0.0,...</td>\n",
       "      <td>1</td>\n",
       "      <td>[3.339999, 4.751708]</td>\n",
       "      <td>DS</td>\n",
       "      <td>DS SH-LH</td>\n",
       "      <td>2</td>\n",
       "      <td>0</td>\n",
       "      <td>DS USC</td>\n",
       "      <td>1</td>\n",
       "      <td>Other Calls</td>\n",
       "    </tr>\n",
       "    <tr>\n",
       "      <th>4</th>\n",
       "      <td>1.244022</td>\n",
       "      <td>1.420183</td>\n",
       "      <td>DSSHDS</td>\n",
       "      <td>MGGY</td>\n",
       "      <td>0</td>\n",
       "      <td>BWY MGGY Discrete 1 300719 AM</td>\n",
       "      <td>BWYa</td>\n",
       "      <td>CRAWLEY</td>\n",
       "      <td>F</td>\n",
       "      <td>C:/Users/slwal/anaconda3/envs/PY36/avgn_paper-...</td>\n",
       "      <td>...</td>\n",
       "      <td>[[0.0, 0.0, 0.0, 0.0, 0.0, 0.0, 0.0, 0.0, 0.0,...</td>\n",
       "      <td>1</td>\n",
       "      <td>[8.053281, 5.8522944]</td>\n",
       "      <td>DS-SH-DS</td>\n",
       "      <td>DS-SH-DS LH</td>\n",
       "      <td>4</td>\n",
       "      <td>0</td>\n",
       "      <td>DSSHDS LH</td>\n",
       "      <td>2</td>\n",
       "      <td>Other Calls</td>\n",
       "    </tr>\n",
       "  </tbody>\n",
       "</table>\n",
       "<p>3 rows × 23 columns</p>\n",
       "</div>"
      ],
      "text/plain": [
       "    start_time  end_time  labels  indv  indvi  \\\n",
       "ID                                              \n",
       "0     0.753604  0.921160  DSSHDS  MGGY      0   \n",
       "2     1.218085  1.308841      DS  MGGY      0   \n",
       "4     1.244022  1.420183  DSSHDS  MGGY      0   \n",
       "\n",
       "                           filename group location sex  \\\n",
       "ID                                                       \n",
       "0   BWY MGGY Call Combo 1 290719 PM  BWYa  CRAWLEY   F   \n",
       "2   BWY MGGY Call Combo 1 300719 AM  BWYa  CRAWLEY   F   \n",
       "4     BWY MGGY Discrete 1 300719 AM  BWYa  CRAWLEY   F   \n",
       "\n",
       "                                              wav_loc  ...  \\\n",
       "ID                                                     ...   \n",
       "0   C:/Users/slwal/anaconda3/envs/PY36/avgn_paper-...  ...   \n",
       "2   C:/Users/slwal/anaconda3/envs/PY36/avgn_paper-...  ...   \n",
       "4   C:/Users/slwal/anaconda3/envs/PY36/avgn_paper-...  ...   \n",
       "\n",
       "                                                specs  simplified  \\\n",
       "ID                                                                  \n",
       "0   [[0.0, 0.0, 0.0, 0.0, 0.0, 0.0, 0.0, 0.0, 0.0,...           1   \n",
       "2   [[0.0, 0.0, 0.0, 0.0, 0.0, 0.0, 0.0, 0.0, 0.0,...           1   \n",
       "4   [[0.0, 0.0, 0.0, 0.0, 0.0, 0.0, 0.0, 0.0, 0.0,...           1   \n",
       "\n",
       "                     umap call_lab_simp  combi_lab_simp call_unique_num  \\\n",
       "ID                                                                        \n",
       "0   [8.485272, 6.9444375]      DS-SH-DS  DS-SH-DS SH-LH               0   \n",
       "2    [3.339999, 4.751708]            DS        DS SH-LH               2   \n",
       "4   [8.053281, 5.8522944]      DS-SH-DS     DS-SH-DS LH               4   \n",
       "\n",
       "   call_pos_combi    combi_label  combi_unique_num         simp  \n",
       "ID                                                               \n",
       "0               0  DSSHDS SHSHLH                 0  Other Calls  \n",
       "2               0         DS USC                 1  Other Calls  \n",
       "4               0      DSSHDS LH                 2  Other Calls  \n",
       "\n",
       "[3 rows x 23 columns]"
      ]
     },
     "execution_count": 45,
     "metadata": {},
     "output_type": "execute_result"
    }
   ],
   "source": [
    "other_df = pd.read_pickle(DATA_DIR / DATASET_ID / \"Other_calls\" /  'OtherCall_UMAP.pickle')\n",
    "other_df[:3]"
   ]
  },
  {
   "cell_type": "code",
   "execution_count": 46,
   "id": "5ac10cb6",
   "metadata": {},
   "outputs": [
    {
     "data": {
      "text/plain": [
       "332"
      ]
     },
     "execution_count": 46,
     "metadata": {},
     "output_type": "execute_result"
    }
   ],
   "source": [
    "len(other_df)"
   ]
  },
  {
   "cell_type": "code",
   "execution_count": 47,
   "id": "6ad6796d",
   "metadata": {},
   "outputs": [
    {
     "data": {
      "text/plain": [
       "array(['Other Calls'], dtype=object)"
      ]
     },
     "execution_count": 47,
     "metadata": {},
     "output_type": "execute_result"
    }
   ],
   "source": [
    "other_df[\"simp\"].unique()"
   ]
  },
  {
   "cell_type": "code",
   "execution_count": 48,
   "id": "5a290179",
   "metadata": {},
   "outputs": [],
   "source": [
    "def norm(x):\n",
    "    return (x-np.min(x)) / (np.max(x) - np.min(x))"
   ]
  },
  {
   "cell_type": "code",
   "execution_count": 49,
   "id": "6e0d55af",
   "metadata": {},
   "outputs": [
    {
     "data": {
      "application/vnd.jupyter.widget-view+json": {
       "model_id": "c272ce0545e0475a9b460d081a8ac5ae",
       "version_major": 2,
       "version_minor": 0
      },
      "text/plain": [
       "  0%|          | 0/332 [00:00<?, ?it/s]"
      ]
     },
     "metadata": {},
     "output_type": "display_data"
    }
   ],
   "source": [
    "Ospecs = list(other_df.specs.values)\n",
    "Ospecs = [norm(i) for i in tqdm(Ospecs)]"
   ]
  },
  {
   "cell_type": "code",
   "execution_count": null,
   "id": "2165561f",
   "metadata": {},
   "outputs": [],
   "source": [
    "nex = -1\n",
    "color = [\"black\", \"indigo\",  \"darkred\", \"indianred\", \"orangered\",  \"palevioletred\", \"sandybrown\", \"orange\", \"gold\", \"khaki\",  \"darkgoldenrod\"]\n",
    "\n",
    "scatter_spec(\n",
    "    np.array(list(other_df['umap'].values)),\n",
    "    Ospecs,\n",
    "    column_size=10,\n",
    "    x_range = [2,10],\n",
    "    y_range = [2,10],\n",
    "    pal_color=\"hls\",\n",
    "    color_points=False,\n",
    "    enlarge_points=0,\n",
    "    figsize=(10, 10),\n",
    "    range_pad = 0.15,\n",
    "    scatter_kwargs = {\n",
    "        'labels': other_df.call_lab_simp.values,\n",
    "        'alpha':1,\n",
    "        's': 10,\n",
    "        'show_legend': True,\n",
    "        \"color_palette\": \"inferno\",\n",
    "    },\n",
    "    matshow_kwargs = {\n",
    "        'cmap': plt.cm.Greys\n",
    "    },\n",
    "    line_kwargs = {\n",
    "        'lw':0.5,\n",
    "        'ls':\"dashed\",\n",
    "        'alpha':0.25,\n",
    "    },\n",
    "    draw_lines=False,\n",
    "    n_subset= 1000,\n",
    "    border_line_width = 3,\n",
    "    \n",
    "\n",
    ");\n",
    "\n",
    "save_loc = (FIGURE_DIR / 'manuscript' / 'Figures' / 'FigSB.jpeg')\n",
    "ensure_dir(save_loc.as_posix())\n",
    "save_fig(save_loc, dpi=600, save_jpg=False)"
   ]
  },
  {
   "cell_type": "code",
   "execution_count": null,
   "id": "07598a9a",
   "metadata": {},
   "outputs": [],
   "source": [
    "labelscore = silhouette_score(list(np.array(list(other_df['umap'].values))), labels = other_df.call_lab_simp.values)\n",
    "labelscore"
   ]
  },
  {
   "cell_type": "code",
   "execution_count": null,
   "id": "96c27641",
   "metadata": {},
   "outputs": [],
   "source": [
    "samples = silhouette_samples(list(np.array(list(other_df['umap'].values))), labels = other_df.call_lab_simp.values)\n",
    "chance_samples = silhouette_samples(list(np.array(list(other_df['umap'].values))), labels = np.random.permutation(other_df.call_lab_simp.values))"
   ]
  },
  {
   "cell_type": "code",
   "execution_count": null,
   "id": "489f19e9",
   "metadata": {},
   "outputs": [],
   "source": [
    "KWlabels = kruskal(samples, chance_samples)\n",
    "KWlabels"
   ]
  },
  {
   "cell_type": "markdown",
   "id": "3378d207",
   "metadata": {},
   "source": [
    "### Further grouping\n",
    "Appears to be further grouping of calls based on similar call labelling so will create a new variable to describe this."
   ]
  },
  {
   "cell_type": "code",
   "execution_count": 54,
   "id": "1d5baf6d",
   "metadata": {},
   "outputs": [],
   "source": [
    "other_df['CombCallLabel'] = other_df['call_lab_simp']"
   ]
  },
  {
   "cell_type": "code",
   "execution_count": 55,
   "id": "968c043d",
   "metadata": {},
   "outputs": [],
   "source": [
    "## Create conditions for all labels containing repeated segments (these will be simplified in the next step)\n",
    "cond1 = other_df['CombCallLabel'] == 'DS-SH-DS'\n",
    "cond2 = other_df['CombCallLabel'] == 'DS'\n",
    "cond3 = other_df['CombCallLabel'] == 'NL-SH-DS'\n",
    "cond4 = other_df['CombCallLabel'] == 'NL-DS'\n",
    "cond5 = other_df['CombCallLabel'] == 'SH-DS-SH-DS'\n",
    "cond6 = other_df['CombCallLabel'] == 'SH-DS'\n",
    "cond7 = other_df['CombCallLabel'] == 'NL-DS-SH-DS'\n",
    "cond9 = other_df['CombCallLabel'] == 'SH-NL-DS'\n",
    "cond10 = other_df['CombCallLabel'] == 'SH-DS-SH'\n",
    "cond11 = other_df['CombCallLabel'] == 'SH'"
   ]
  },
  {
   "cell_type": "code",
   "execution_count": 56,
   "id": "8200194b",
   "metadata": {},
   "outputs": [],
   "source": [
    "### Simplify\n",
    "other_df.loc[cond1, 'CombCallLabel'] = 'SH Lone/Any Combined DS & SH'\n",
    "other_df.loc[cond2, 'CombCallLabel'] = 'DS'\n",
    "other_df.loc[cond3, 'CombCallLabel'] = 'Any Combined NL + DS/SH'\n",
    "other_df.loc[cond4, 'CombCallLabel'] = 'Any Combined NL + DS/SH'\n",
    "other_df.loc[cond5, 'CombCallLabel'] = 'SH Lone/Any Combined DS & SH'\n",
    "other_df.loc[cond6, 'CombCallLabel'] = 'SH Lone/Any Combined DS & SH'\n",
    "other_df.loc[cond7, 'CombCallLabel'] = 'Any Combined NL + DS/SH'\n",
    "other_df.loc[cond9, 'CombCallLabel'] = 'Any Combined NL + DS/SH'\n",
    "other_df.loc[cond10, 'CombCallLabel'] = 'SH Lone/Any Combined DS & SH'\n",
    "other_df.loc[cond11, 'CombCallLabel'] = 'SH Lone/Any Combined DS & SH'"
   ]
  },
  {
   "cell_type": "code",
   "execution_count": null,
   "id": "158a77b9",
   "metadata": {},
   "outputs": [],
   "source": [
    "nex = -1\n",
    "colors = [\"midnightblue\",\"royalblue\", \"lightskyblue\", \"teal\"]\n",
    "scatter_spec(\n",
    "    np.array(list(other_df['umap'].values)),\n",
    "    Ospecs,\n",
    "    column_size=10,\n",
    "    x_range = [1,10.5],\n",
    "    y_range = [2,11.5],\n",
    "    pal_color=\"hls\",\n",
    "    color_points=False,\n",
    "    enlarge_points=0,\n",
    "    figsize=(10, 10),\n",
    "    range_pad = 0.15,\n",
    "    scatter_kwargs = {\n",
    "        'labels': other_df.CombCallLabel.values,\n",
    "        'alpha':1,\n",
    "        's': 15,\n",
    "        'show_legend': True,\n",
    "        \"color_palette\": \"inferno\",\n",
    "    },\n",
    "    matshow_kwargs = {\n",
    "        'cmap': plt.cm.Greys\n",
    "    },\n",
    "    line_kwargs = {\n",
    "        'lw':0.5,\n",
    "        'ls':\"dashed\",\n",
    "        'alpha':0.25,\n",
    "    },\n",
    "    draw_lines=False,\n",
    "    n_subset= 1000,\n",
    "    border_line_width = 3,\n",
    "    \n",
    "\n",
    ");\n",
    "\n",
    "save_loc = (FIGURE_DIR / 'manuscript' / 'Figures' / 'FigureS5C.jpeg')\n",
    "ensure_dir(save_loc.as_posix())\n",
    "save_fig(save_loc, dpi=600, save_jpg=False)"
   ]
  },
  {
   "cell_type": "code",
   "execution_count": null,
   "id": "c56b7e2b",
   "metadata": {},
   "outputs": [],
   "source": [
    "#silhouette score\n",
    "score = silhouette_score(list(np.array(list(other_df['umap'].values))), labels = other_df.CombCallLabel.values)\n",
    "score"
   ]
  },
  {
   "cell_type": "code",
   "execution_count": null,
   "id": "f802c8c1",
   "metadata": {},
   "outputs": [],
   "source": [
    "#kruskal-wallis\n",
    "samples = silhouette_samples(list(np.array(list(other_df['umap'].values))), labels = other_df.CombCallLabel.values)\n",
    "chance_samples = silhouette_samples(list(np.array(list(other_df['umap'].values))), labels = np.random.permutation(other_df.CombCallLabel.values))"
   ]
  },
  {
   "cell_type": "code",
   "execution_count": null,
   "id": "6032a012",
   "metadata": {},
   "outputs": [],
   "source": [
    "KWCombCallLabel = kruskal(samples, chance_samples)\n",
    "KWCombCallLabel"
   ]
  },
  {
   "cell_type": "code",
   "execution_count": null,
   "id": "5bb37203",
   "metadata": {},
   "outputs": [],
   "source": [
    "sexscore = silhouette_score(list(np.array(list(other_df['umap'].values))), labels = other_df.sex.values)\n",
    "indvscore = silhouette_score(list(np.array(list(other_df['umap'].values))), labels = other_df.indv.values)\n",
    "callscore = silhouette_score(list(np.array(list(other_df['umap'].values))), labels = other_df.call_lab_simp.values)\n",
    "groupscore = silhouette_score(list(np.array(list(other_df['umap'].values))), labels = other_df.group.values)"
   ]
  },
  {
   "cell_type": "code",
   "execution_count": null,
   "id": "45a4e5c9",
   "metadata": {
    "scrolled": true
   },
   "outputs": [],
   "source": [
    "sexscore, indvscore, callscore, groupscore"
   ]
  },
  {
   "cell_type": "code",
   "execution_count": null,
   "id": "8e0d9101",
   "metadata": {},
   "outputs": [],
   "source": []
  },
  {
   "cell_type": "markdown",
   "id": "1e560e42",
   "metadata": {},
   "source": [
    "## Figure for MS"
   ]
  },
  {
   "cell_type": "code",
   "execution_count": null,
   "id": "e9e9ec28",
   "metadata": {},
   "outputs": [],
   "source": [
    "fig = plt.figure()\n",
    "fig.set_figheight(15)\n",
    "fig.set_figwidth(15)\n",
    "ax1 = plt.subplot2grid(shape=(2, 4), loc=(0, 0), colspan=1)  ##1st Row\n",
    "ax2 = plt.subplot2grid(shape=(2, 4), loc=(0, 1), colspan=2) #1st row\n",
    "ax3 = plt.subplot2grid(shape=(2, 4), loc=(0, 3), colspan=1) #1st row\n",
    "ax4 = plt.subplot2grid(shape=(2, 4), loc=(1, 0), colspan=2) #2nd row\n",
    "ax5 = plt.subplot2grid(shape=(2, 4), loc=(1, 2), colspan=2) #2nd row\n",
    "ax1.axis('off')\n",
    "ax2.axis('off')\n",
    "ax3.axis('off')\n",
    "ax4.axis('off')\n",
    "ax5.axis('off')\n",
    "\n",
    "colors = [\"navy\", \"darkslateblue\",\"steelblue\", \"slateblue\", \"deepskyblue\", \"cadetblue\",  \"lightblue\", \"darkseagreen\",   \"forestgreen\",  \"darkgreen\",\"darkslategray\" ]\n",
    "\n",
    "scatter_spec(\n",
    "    np.array(list(call_df['umap'].values)),\n",
    "    specs,\n",
    "    column_size=10,\n",
    "    x_range = [2.25,12],\n",
    "    y_range = [0.25,10],\n",
    "    pal_color=\"hls\",\n",
    "    color_points=False,\n",
    "    enlarge_points=0,\n",
    "    ax=ax2,\n",
    "    range_pad = 0.15,\n",
    "    scatter_kwargs = {\n",
    "        'labels': call_df.call_lab_simp.values,\n",
    "        'alpha':1,\n",
    "        's': 15,\n",
    "        'show_legend': False,\n",
    "        \"color_palette\": \"viridis\",\n",
    "    },\n",
    "    matshow_kwargs = {\n",
    "        'cmap': plt.cm.Greys\n",
    "    },\n",
    "    line_kwargs = {\n",
    "        'lw':0.5,\n",
    "        'ls':\"dashed\",\n",
    "        'alpha':0.25,\n",
    "    },\n",
    "    draw_lines=True,\n",
    "    n_subset= 1000,\n",
    "    border_line_width = 3,\n",
    "    \n",
    "\n",
    ");\n",
    "\n",
    "color = [\"darkred\", \"crimson\", \"palevioletred\", \"lightsalmon\", \"orangered\",  \"orange\", \"sandybrown\",   \"khaki\",  \"gold\",\"darkgoldenrod\" ]\n",
    "scatter_spec(\n",
    "    np.array(list(other_df['umap'].values)),\n",
    "    Ospecs,\n",
    "    column_size=10,\n",
    "    x_range = [0,9.5],\n",
    "    y_range = [0.5,10],\n",
    "    pal_color=\"hls\",\n",
    "    color_points=False,\n",
    "    enlarge_points=0,\n",
    "    ax=ax4,\n",
    "    range_pad = 0.15,\n",
    "    scatter_kwargs = {\n",
    "        'labels': other_df.call_lab_simp.values,\n",
    "        'alpha':1,\n",
    "        's': 15,\n",
    "        'show_legend': False,\n",
    "        \"color_palette\": \"inferno\",\n",
    "    },\n",
    "    matshow_kwargs = {\n",
    "        'cmap': plt.cm.Greys\n",
    "    },\n",
    "    line_kwargs = {\n",
    "        'lw':0.5,\n",
    "        'ls':\"dashed\",\n",
    "        'alpha':0.25,\n",
    "    },\n",
    "    draw_lines=True,\n",
    "    n_subset= 1000,\n",
    "    border_line_width = 3,\n",
    "    \n",
    "\n",
    ");\n",
    "\n",
    "nex = -1\n",
    "colors = [\"midnightblue\",\"royalblue\", \"lightskyblue\", \"teal\"]\n",
    "scatter_spec(\n",
    "    np.array(list(other_df['umap'].values)),\n",
    "    Ospecs,\n",
    "    column_size=10,\n",
    "    x_range = [0,9.5],\n",
    "    y_range = [0.5,10],\n",
    "    pal_color=\"hls\",\n",
    "    color_points=False,\n",
    "    enlarge_points=0,\n",
    "    ax=ax5,\n",
    "    figsize=(10, 10),\n",
    "    range_pad = 0.15,\n",
    "    scatter_kwargs = {\n",
    "        'labels': other_df.CombCallLabel.values,\n",
    "        'alpha':1,\n",
    "        's': 15,\n",
    "        'show_legend': False,\n",
    "        \"color_palette\": \"inferno\",\n",
    "    },\n",
    "    matshow_kwargs = {\n",
    "        'cmap': plt.cm.Greys\n",
    "    },\n",
    "    line_kwargs = {\n",
    "        'lw':0.5,\n",
    "        'ls':\"dashed\",\n",
    "        'alpha':0.25,\n",
    "    },\n",
    "    draw_lines=True,\n",
    "    n_subset= 1000,\n",
    "    border_line_width = 3,\n",
    "    \n",
    "\n",
    ");\n",
    "\n",
    "\n",
    "ax2.set_title(\"A)\", loc='left', fontsize = 25)\n",
    "ax4.set_title(\"B)\", loc='left', fontsize = 25)\n",
    "ax5.set_title(\"C)\", loc='left', fontsize = 25)\n",
    "\n",
    "save_loc = (FIGURE_DIR / 'manuscript' / 'Figures' / 'FigS5ABC.tiff')\n",
    "ensure_dir(save_loc.as_posix())\n",
    "plt.tight_layout()\n",
    "save_fig(save_loc, dpi=600, save_jpg=False)"
   ]
  },
  {
   "cell_type": "code",
   "execution_count": null,
   "id": "5f268f12",
   "metadata": {},
   "outputs": [],
   "source": []
  }
 ],
 "metadata": {
  "kernelspec": {
   "display_name": "Python 3",
   "language": "python",
   "name": "python3"
  },
  "language_info": {
   "codemirror_mode": {
    "name": "ipython",
    "version": 3
   },
   "file_extension": ".py",
   "mimetype": "text/x-python",
   "name": "python",
   "nbconvert_exporter": "python",
   "pygments_lexer": "ipython3",
   "version": "3.6.13"
  }
 },
 "nbformat": 4,
 "nbformat_minor": 5
}
