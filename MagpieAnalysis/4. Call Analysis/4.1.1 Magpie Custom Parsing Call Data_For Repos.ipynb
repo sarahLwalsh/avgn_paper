{
 "cells": [
  {
   "cell_type": "markdown",
   "id": "9c7c8db0",
   "metadata": {},
   "source": [
    "# Multi-level combinatoriality in magpie non-song vocalizations: Call Analysis\n",
    "\n",
    "The following series of notebooks evaluates variation at the call-level, continuing to follow the tutorial outlined in Sainburg et al., (2020), with some modifications to account for acoustic parameters specific to our study species: the Western Australian magpie (Gymnorhina tibicen dorsalis). Again, further detail on the method, including source code for the analysis used in this paper, can be accessed through the tutorial's repository at [github.com/timsainb/avgn](https://github.com/timsainb/avgn_paper/blob/V2/github.com/timsainb/avgn). \n",
    "\n",
    "Data for this study can be accessed [here](https://doi.org/10.26182/s77t-hw04). \n",
    "\n",
    "In this notebook I create dataframes for calls and combination data using information in the annotation (Praat textgrid) and audio (WAV) files."
   ]
  },
  {
   "cell_type": "code",
   "execution_count": 1,
   "id": "5a2fce29",
   "metadata": {
    "scrolled": true
   },
   "outputs": [],
   "source": [
    "DATASET_ID = \"git_repos_call\""
   ]
  },
  {
   "cell_type": "code",
   "execution_count": 2,
   "id": "a066df08",
   "metadata": {
    "scrolled": true
   },
   "outputs": [],
   "source": [
    "import pdb\n",
    "from joblib import Parallel, delayed\n",
    "from tqdm.auto import tqdm\n",
    "import pandas as pd\n",
    "import librosa\n",
    "from datetime import datetime\n",
    "import json\n",
    "import numpy as np\n",
    "from pathlib2 import Path"
   ]
  },
  {
   "cell_type": "code",
   "execution_count": 3,
   "id": "0efcac81",
   "metadata": {
    "scrolled": true
   },
   "outputs": [],
   "source": [
    "import avgn"
   ]
  },
  {
   "cell_type": "code",
   "execution_count": 4,
   "id": "f4a093c6",
   "metadata": {
    "scrolled": true
   },
   "outputs": [],
   "source": [
    "from avgn.utils.paths import DATA_DIR, ensure_dir"
   ]
  },
  {
   "cell_type": "markdown",
   "id": "9927f7a4",
   "metadata": {},
   "source": [
    "## Load Data in Original Format"
   ]
  },
  {
   "cell_type": "code",
   "execution_count": 5,
   "id": "c5d7d954",
   "metadata": {
    "scrolled": true
   },
   "outputs": [
    {
     "data": {
      "text/plain": [
       "'2022-09-12_13-07-28'"
      ]
     },
     "execution_count": 5,
     "metadata": {},
     "output_type": "execute_result"
    }
   ],
   "source": [
    "# create a unique datetime identifier for the files output by this notebook \n",
    "##(they will be saved in a folder with today's date/time of output creation)\n",
    "DT_ID = datetime.now().strftime(\"%Y-%m-%d_%H-%M-%S\")\n",
    "DT_ID"
   ]
  },
  {
   "cell_type": "code",
   "execution_count": 6,
   "id": "b9580ac4",
   "metadata": {
    "scrolled": true
   },
   "outputs": [
    {
     "data": {
      "text/plain": [
       "WindowsPath('C:/Users/slwal/anaconda3/envs/PY36/avgn_paper-2/data/raw/magpie/individuals')"
      ]
     },
     "execution_count": 6,
     "metadata": {},
     "output_type": "execute_result"
    }
   ],
   "source": [
    "#Defining Path to Raw Dataset\n",
    "RAW_DATASET_LOC = DATA_DIR/\"raw\"/\"magpie\"/\"individuals\"\n",
    "RAW_DATASET_LOC"
   ]
  },
  {
   "cell_type": "code",
   "execution_count": 7,
   "id": "93be23f1",
   "metadata": {
    "scrolled": true
   },
   "outputs": [
    {
     "data": {
      "text/plain": [
       "(WindowsPath('C:/Users/slwal/anaconda3/envs/PY36/avgn_paper-2/data/raw/magpie/individuals/BWYa_F_MGGY/BWY MGGY Call Combo 1 290719 PM.TextGrid'),\n",
       " 153)"
      ]
     },
     "execution_count": 7,
     "metadata": {},
     "output_type": "execute_result"
    }
   ],
   "source": [
    "#grab an array of all textgrid files \n",
    "TGLIST = np.array(list((RAW_DATASET_LOC).expanduser().glob('*/*.TextGrid')))\n",
    "TGLIST = np.array([i for i in TGLIST if i.stem[0] != '.'])\n",
    "TGLIST[0], len(TGLIST)"
   ]
  },
  {
   "cell_type": "code",
   "execution_count": 8,
   "id": "63c72222",
   "metadata": {
    "scrolled": true
   },
   "outputs": [
    {
     "data": {
      "text/plain": [
       "(WindowsPath('C:/Users/slwal/anaconda3/envs/PY36/avgn_paper-2/data/raw/magpie/individuals/BWYa_F_MGGY/BWY MGGY Call Combo 1 290719 PM.wav'),\n",
       " 153)"
      ]
     },
     "execution_count": 8,
     "metadata": {},
     "output_type": "execute_result"
    }
   ],
   "source": [
    "#array of all WAV files\n",
    "WAVLIST = np.array(list((RAW_DATASET_LOC).expanduser().glob('*/*.wav')))\n",
    "WAVLIST[0], len(WAVLIST)"
   ]
  },
  {
   "cell_type": "markdown",
   "id": "5b618932",
   "metadata": {},
   "source": [
    "## Create dataframes for Calls & Combis\n"
   ]
  },
  {
   "cell_type": "code",
   "execution_count": 9,
   "id": "b7f8bfff",
   "metadata": {},
   "outputs": [
    {
     "data": {
      "text/plain": [
       "'BWY MGGY Call Combo 1 290719 PM'"
      ]
     },
     "execution_count": 9,
     "metadata": {},
     "output_type": "execute_result"
    }
   ],
   "source": [
    "#creating array containing just stem of WAVLIST arrays (i.e. just the file name)\n",
    "wav_stems = np.array([i.stem for i in WAVLIST])\n",
    "wav_stems[0]"
   ]
  },
  {
   "cell_type": "code",
   "execution_count": 10,
   "id": "8781927e",
   "metadata": {},
   "outputs": [],
   "source": [
    "import avgn\n",
    "from avgn.custom_parsing.magpie_for_repos import (\n",
    "    get_segments,\n",
    "    get_calls,\n",
    "    get_combis\n",
    ")\n",
    "from avgn.utils.paths import DATA_DIR"
   ]
  },
  {
   "cell_type": "markdown",
   "id": "4b0f90be",
   "metadata": {},
   "source": [
    "### Calls"
   ]
  },
  {
   "cell_type": "code",
   "execution_count": 11,
   "id": "a8c41d7b",
   "metadata": {},
   "outputs": [
    {
     "data": {
      "application/vnd.jupyter.widget-view+json": {
       "model_id": "0de52ba09ffa4c7eb2fb86aaf3a8aa38",
       "version_major": 2,
       "version_minor": 0
      },
      "text/plain": [
       "  0%|          | 0/153 [00:00<?, ?it/s]"
      ]
     },
     "metadata": {},
     "output_type": "display_data"
    },
    {
     "name": "stderr",
     "output_type": "stream",
     "text": [
      "[Parallel(n_jobs=-1)]: Using backend LokyBackend with 12 concurrent workers.\n",
      "[Parallel(n_jobs=-1)]: Done   1 tasks      | elapsed:    4.2s\n",
      "[Parallel(n_jobs=-1)]: Done   8 tasks      | elapsed:    4.3s\n",
      "[Parallel(n_jobs=-1)]: Done  17 tasks      | elapsed:    4.4s\n",
      "[Parallel(n_jobs=-1)]: Done  26 tasks      | elapsed:    4.4s\n",
      "[Parallel(n_jobs=-1)]: Done  37 tasks      | elapsed:    4.5s\n",
      "[Parallel(n_jobs=-1)]: Done  48 tasks      | elapsed:    4.5s\n",
      "[Parallel(n_jobs=-1)]: Batch computation too fast (0.1863s.) Setting batch_size=2.\n",
      "[Parallel(n_jobs=-1)]: Done  61 tasks      | elapsed:    4.5s\n",
      "[Parallel(n_jobs=-1)]: Batch computation too fast (0.0883s.) Setting batch_size=4.\n",
      "[Parallel(n_jobs=-1)]: Done  77 tasks      | elapsed:    4.6s\n",
      "[Parallel(n_jobs=-1)]: Done 106 tasks      | elapsed:    4.7s\n",
      "[Parallel(n_jobs=-1)]: Done 126 tasks      | elapsed:    4.8s\n",
      "[Parallel(n_jobs=-1)]: Done 130 out of 153 | elapsed:    4.8s remaining:    0.8s\n",
      "[Parallel(n_jobs=-1)]: Done 146 out of 153 | elapsed:    4.8s remaining:    0.1s\n",
      "[Parallel(n_jobs=-1)]: Done 153 out of 153 | elapsed:    5.0s finished\n"
     ]
    }
   ],
   "source": [
    "#create textrgids again just with unit data\n",
    "with Parallel(n_jobs=-1, verbose=10) as parallel:\n",
    "    call_df = parallel(\n",
    "        delayed(get_calls)(tg, WAVLIST, wav_stems)\n",
    "        for tg in tqdm(TGLIST)\n",
    "    )\n",
    "call_df = pd.concat(call_df)"
   ]
  },
  {
   "cell_type": "code",
   "execution_count": 12,
   "id": "49afa05b",
   "metadata": {},
   "outputs": [
    {
     "data": {
      "text/html": [
       "<div>\n",
       "<style scoped>\n",
       "    .dataframe tbody tr th:only-of-type {\n",
       "        vertical-align: middle;\n",
       "    }\n",
       "\n",
       "    .dataframe tbody tr th {\n",
       "        vertical-align: top;\n",
       "    }\n",
       "\n",
       "    .dataframe thead th {\n",
       "        text-align: right;\n",
       "    }\n",
       "</style>\n",
       "<table border=\"1\" class=\"dataframe\">\n",
       "  <thead>\n",
       "    <tr style=\"text-align: right;\">\n",
       "      <th></th>\n",
       "      <th>indv</th>\n",
       "      <th>sex</th>\n",
       "      <th>gro</th>\n",
       "      <th>filename</th>\n",
       "      <th>wavloc</th>\n",
       "      <th>tgloc</th>\n",
       "      <th>call_pos_combi</th>\n",
       "      <th>call_start</th>\n",
       "      <th>call_end</th>\n",
       "      <th>call_label</th>\n",
       "    </tr>\n",
       "  </thead>\n",
       "  <tbody>\n",
       "    <tr>\n",
       "      <th>0</th>\n",
       "      <td>MGGY</td>\n",
       "      <td>F</td>\n",
       "      <td>BWYa</td>\n",
       "      <td>BWY MGGY Call Combo 1 290719 PM</td>\n",
       "      <td>C:\\Users\\slwal\\anaconda3\\envs\\PY36\\avgn_paper-...</td>\n",
       "      <td>C:\\Users\\slwal\\anaconda3\\envs\\PY36\\avgn_paper-...</td>\n",
       "      <td>0</td>\n",
       "      <td>0.753604</td>\n",
       "      <td>0.921160</td>\n",
       "      <td>DSSHDS</td>\n",
       "    </tr>\n",
       "    <tr>\n",
       "      <th>1</th>\n",
       "      <td>MGGY</td>\n",
       "      <td>F</td>\n",
       "      <td>BWYa</td>\n",
       "      <td>BWY MGGY Call Combo 1 290719 PM</td>\n",
       "      <td>C:\\Users\\slwal\\anaconda3\\envs\\PY36\\avgn_paper-...</td>\n",
       "      <td>C:\\Users\\slwal\\anaconda3\\envs\\PY36\\avgn_paper-...</td>\n",
       "      <td>1</td>\n",
       "      <td>0.932017</td>\n",
       "      <td>1.367130</td>\n",
       "      <td>SHSHLH</td>\n",
       "    </tr>\n",
       "    <tr>\n",
       "      <th>0</th>\n",
       "      <td>MGGY</td>\n",
       "      <td>F</td>\n",
       "      <td>BWYa</td>\n",
       "      <td>BWY MGGY Call Combo 1 300719 AM</td>\n",
       "      <td>C:\\Users\\slwal\\anaconda3\\envs\\PY36\\avgn_paper-...</td>\n",
       "      <td>C:\\Users\\slwal\\anaconda3\\envs\\PY36\\avgn_paper-...</td>\n",
       "      <td>0</td>\n",
       "      <td>1.218085</td>\n",
       "      <td>1.308841</td>\n",
       "      <td>DS</td>\n",
       "    </tr>\n",
       "    <tr>\n",
       "      <th>1</th>\n",
       "      <td>MGGY</td>\n",
       "      <td>F</td>\n",
       "      <td>BWYa</td>\n",
       "      <td>BWY MGGY Call Combo 1 300719 AM</td>\n",
       "      <td>C:\\Users\\slwal\\anaconda3\\envs\\PY36\\avgn_paper-...</td>\n",
       "      <td>C:\\Users\\slwal\\anaconda3\\envs\\PY36\\avgn_paper-...</td>\n",
       "      <td>1</td>\n",
       "      <td>1.442686</td>\n",
       "      <td>1.984961</td>\n",
       "      <td>USC</td>\n",
       "    </tr>\n",
       "    <tr>\n",
       "      <th>0</th>\n",
       "      <td>MGGY</td>\n",
       "      <td>F</td>\n",
       "      <td>BWYa</td>\n",
       "      <td>BWY MGGY Discrete 1 300719 AM</td>\n",
       "      <td>C:\\Users\\slwal\\anaconda3\\envs\\PY36\\avgn_paper-...</td>\n",
       "      <td>C:\\Users\\slwal\\anaconda3\\envs\\PY36\\avgn_paper-...</td>\n",
       "      <td>0</td>\n",
       "      <td>1.244022</td>\n",
       "      <td>1.420183</td>\n",
       "      <td>DSSHDS</td>\n",
       "    </tr>\n",
       "    <tr>\n",
       "      <th>1</th>\n",
       "      <td>MGGY</td>\n",
       "      <td>F</td>\n",
       "      <td>BWYa</td>\n",
       "      <td>BWY MGGY Discrete 1 300719 AM</td>\n",
       "      <td>C:\\Users\\slwal\\anaconda3\\envs\\PY36\\avgn_paper-...</td>\n",
       "      <td>C:\\Users\\slwal\\anaconda3\\envs\\PY36\\avgn_paper-...</td>\n",
       "      <td>1</td>\n",
       "      <td>1.471596</td>\n",
       "      <td>1.897371</td>\n",
       "      <td>LH</td>\n",
       "    </tr>\n",
       "  </tbody>\n",
       "</table>\n",
       "</div>"
      ],
      "text/plain": [
       "   indv sex   gro                         filename  \\\n",
       "0  MGGY   F  BWYa  BWY MGGY Call Combo 1 290719 PM   \n",
       "1  MGGY   F  BWYa  BWY MGGY Call Combo 1 290719 PM   \n",
       "0  MGGY   F  BWYa  BWY MGGY Call Combo 1 300719 AM   \n",
       "1  MGGY   F  BWYa  BWY MGGY Call Combo 1 300719 AM   \n",
       "0  MGGY   F  BWYa    BWY MGGY Discrete 1 300719 AM   \n",
       "1  MGGY   F  BWYa    BWY MGGY Discrete 1 300719 AM   \n",
       "\n",
       "                                              wavloc  \\\n",
       "0  C:\\Users\\slwal\\anaconda3\\envs\\PY36\\avgn_paper-...   \n",
       "1  C:\\Users\\slwal\\anaconda3\\envs\\PY36\\avgn_paper-...   \n",
       "0  C:\\Users\\slwal\\anaconda3\\envs\\PY36\\avgn_paper-...   \n",
       "1  C:\\Users\\slwal\\anaconda3\\envs\\PY36\\avgn_paper-...   \n",
       "0  C:\\Users\\slwal\\anaconda3\\envs\\PY36\\avgn_paper-...   \n",
       "1  C:\\Users\\slwal\\anaconda3\\envs\\PY36\\avgn_paper-...   \n",
       "\n",
       "                                               tgloc call_pos_combi  \\\n",
       "0  C:\\Users\\slwal\\anaconda3\\envs\\PY36\\avgn_paper-...              0   \n",
       "1  C:\\Users\\slwal\\anaconda3\\envs\\PY36\\avgn_paper-...              1   \n",
       "0  C:\\Users\\slwal\\anaconda3\\envs\\PY36\\avgn_paper-...              0   \n",
       "1  C:\\Users\\slwal\\anaconda3\\envs\\PY36\\avgn_paper-...              1   \n",
       "0  C:\\Users\\slwal\\anaconda3\\envs\\PY36\\avgn_paper-...              0   \n",
       "1  C:\\Users\\slwal\\anaconda3\\envs\\PY36\\avgn_paper-...              1   \n",
       "\n",
       "   call_start  call_end call_label  \n",
       "0    0.753604  0.921160     DSSHDS  \n",
       "1    0.932017  1.367130     SHSHLH  \n",
       "0    1.218085  1.308841         DS  \n",
       "1    1.442686  1.984961        USC  \n",
       "0    1.244022  1.420183     DSSHDS  \n",
       "1    1.471596  1.897371         LH  "
      ]
     },
     "execution_count": 12,
     "metadata": {},
     "output_type": "execute_result"
    }
   ],
   "source": [
    "call_df[:6]"
   ]
  },
  {
   "cell_type": "code",
   "execution_count": 13,
   "id": "8c7817dd",
   "metadata": {},
   "outputs": [],
   "source": [
    "#Create ID with from 0 to end of range - so that each row has a unique identifier\n",
    "call_df.insert(0, 'New_ID', range(0, 0 + len(call_df)))"
   ]
  },
  {
   "cell_type": "code",
   "execution_count": 16,
   "id": "e00d3653",
   "metadata": {},
   "outputs": [],
   "source": [
    "#### Need to save df as pickle bc WAV location paths will no longer work after being imported from the csv (next step)\n",
    "save_loc = DATA_DIR / DATASET_ID / 'walsh_magpie_call_dataframe.pickle'\n",
    "ensure_dir(save_loc.as_posix())\n",
    "call_df.to_pickle(save_loc)"
   ]
  },
  {
   "cell_type": "code",
   "execution_count": 15,
   "id": "76d86dc2",
   "metadata": {},
   "outputs": [
    {
     "data": {
      "text/plain": [
       "699"
      ]
     },
     "execution_count": 15,
     "metadata": {},
     "output_type": "execute_result"
    }
   ],
   "source": [
    "len(call_df)"
   ]
  },
  {
   "cell_type": "markdown",
   "id": "89e3c8e5",
   "metadata": {},
   "source": [
    "### Combinations"
   ]
  },
  {
   "cell_type": "code",
   "execution_count": 18,
   "id": "236216b3",
   "metadata": {},
   "outputs": [
    {
     "data": {
      "application/vnd.jupyter.widget-view+json": {
       "model_id": "31ebe9bfcd6e4b95b626fe7ae101abe4",
       "version_major": 2,
       "version_minor": 0
      },
      "text/plain": [
       "  0%|          | 0/153 [00:00<?, ?it/s]"
      ]
     },
     "metadata": {},
     "output_type": "display_data"
    },
    {
     "name": "stderr",
     "output_type": "stream",
     "text": [
      "[Parallel(n_jobs=-1)]: Using backend LokyBackend with 12 concurrent workers.\n",
      "[Parallel(n_jobs=-1)]: Done   1 tasks      | elapsed:    0.0s\n",
      "[Parallel(n_jobs=-1)]: Batch computation too fast (0.0278s.) Setting batch_size=2.\n",
      "[Parallel(n_jobs=-1)]: Done   8 tasks      | elapsed:    0.0s\n",
      "[Parallel(n_jobs=-1)]: Done  17 tasks      | elapsed:    0.0s\n",
      "[Parallel(n_jobs=-1)]: Batch computation too fast (0.0660s.) Setting batch_size=4.\n",
      "[Parallel(n_jobs=-1)]: Done  28 tasks      | elapsed:    0.0s\n",
      "[Parallel(n_jobs=-1)]: Done  50 tasks      | elapsed:    0.0s\n",
      "[Parallel(n_jobs=-1)]: Done  74 tasks      | elapsed:    0.1s\n",
      "[Parallel(n_jobs=-1)]: Batch computation too fast (0.0977s.) Setting batch_size=8.\n",
      "[Parallel(n_jobs=-1)]: Done 109 tasks      | elapsed:    0.2s\n",
      "[Parallel(n_jobs=-1)]: Done 130 out of 153 | elapsed:    0.2s remaining:    0.0s\n",
      "[Parallel(n_jobs=-1)]: Done 146 out of 153 | elapsed:    0.2s remaining:    0.0s\n",
      "[Parallel(n_jobs=-1)]: Done 153 out of 153 | elapsed:    0.2s finished\n"
     ]
    }
   ],
   "source": [
    "#create textrgids again just with combi data\n",
    "with Parallel(n_jobs=-1, verbose=10) as parallel:\n",
    "    combi_df = parallel(\n",
    "        delayed(get_combis)(tg, WAVLIST, wav_stems)\n",
    "        for tg in tqdm(TGLIST)\n",
    "    )\n",
    "combi_df = pd.concat(combi_df)"
   ]
  },
  {
   "cell_type": "code",
   "execution_count": 19,
   "id": "d25c693c",
   "metadata": {},
   "outputs": [
    {
     "data": {
      "text/html": [
       "<div>\n",
       "<style scoped>\n",
       "    .dataframe tbody tr th:only-of-type {\n",
       "        vertical-align: middle;\n",
       "    }\n",
       "\n",
       "    .dataframe tbody tr th {\n",
       "        vertical-align: top;\n",
       "    }\n",
       "\n",
       "    .dataframe thead th {\n",
       "        text-align: right;\n",
       "    }\n",
       "</style>\n",
       "<table border=\"1\" class=\"dataframe\">\n",
       "  <thead>\n",
       "    <tr style=\"text-align: right;\">\n",
       "      <th></th>\n",
       "      <th>indv</th>\n",
       "      <th>sex</th>\n",
       "      <th>gro</th>\n",
       "      <th>filename</th>\n",
       "      <th>wavloc</th>\n",
       "      <th>tgloc</th>\n",
       "      <th>combi_num</th>\n",
       "      <th>combi_start</th>\n",
       "      <th>combi_end</th>\n",
       "      <th>combi_label</th>\n",
       "    </tr>\n",
       "  </thead>\n",
       "  <tbody>\n",
       "    <tr>\n",
       "      <th>0</th>\n",
       "      <td>MGGY</td>\n",
       "      <td>F</td>\n",
       "      <td>BWYa</td>\n",
       "      <td>BWY MGGY Call Combo 1 290719 P</td>\n",
       "      <td>C:\\Users\\slwal\\anaconda3\\envs\\PY36\\avgn_paper-...</td>\n",
       "      <td>C:\\Users\\slwal\\anaconda3\\envs\\PY36\\avgn_paper-...</td>\n",
       "      <td>0</td>\n",
       "      <td>0.753604</td>\n",
       "      <td>1.367130</td>\n",
       "      <td>DSSHDS SHSHLH</td>\n",
       "    </tr>\n",
       "    <tr>\n",
       "      <th>0</th>\n",
       "      <td>MGGY</td>\n",
       "      <td>F</td>\n",
       "      <td>BWYa</td>\n",
       "      <td>BWY MGGY Call Combo 1 300719 A</td>\n",
       "      <td>C:\\Users\\slwal\\anaconda3\\envs\\PY36\\avgn_paper-...</td>\n",
       "      <td>C:\\Users\\slwal\\anaconda3\\envs\\PY36\\avgn_paper-...</td>\n",
       "      <td>0</td>\n",
       "      <td>1.218085</td>\n",
       "      <td>1.984961</td>\n",
       "      <td>DS USC</td>\n",
       "    </tr>\n",
       "    <tr>\n",
       "      <th>0</th>\n",
       "      <td>MGGY</td>\n",
       "      <td>F</td>\n",
       "      <td>BWYa</td>\n",
       "      <td>BWY MGGY Discrete 1 300719 AM</td>\n",
       "      <td>C:\\Users\\slwal\\anaconda3\\envs\\PY36\\avgn_paper-...</td>\n",
       "      <td>C:\\Users\\slwal\\anaconda3\\envs\\PY36\\avgn_paper-...</td>\n",
       "      <td>0</td>\n",
       "      <td>1.244022</td>\n",
       "      <td>1.897371</td>\n",
       "      <td>DSSHDS LH</td>\n",
       "    </tr>\n",
       "    <tr>\n",
       "      <th>0</th>\n",
       "      <td>MGGY</td>\n",
       "      <td>F</td>\n",
       "      <td>BWYa</td>\n",
       "      <td>BWY MGGY Discrete 4 210519 PM</td>\n",
       "      <td>C:\\Users\\slwal\\anaconda3\\envs\\PY36\\avgn_paper-...</td>\n",
       "      <td>C:\\Users\\slwal\\anaconda3\\envs\\PY36\\avgn_paper-...</td>\n",
       "      <td>0</td>\n",
       "      <td>0.306330</td>\n",
       "      <td>0.927264</td>\n",
       "      <td>DSSHDS SHLH</td>\n",
       "    </tr>\n",
       "    <tr>\n",
       "      <th>0</th>\n",
       "      <td>MGGY</td>\n",
       "      <td>F</td>\n",
       "      <td>BWYa</td>\n",
       "      <td>BWY MGGY Discrete 6 210519 PM</td>\n",
       "      <td>C:\\Users\\slwal\\anaconda3\\envs\\PY36\\avgn_paper-...</td>\n",
       "      <td>C:\\Users\\slwal\\anaconda3\\envs\\PY36\\avgn_paper-...</td>\n",
       "      <td>0</td>\n",
       "      <td>0.158063</td>\n",
       "      <td>0.503686</td>\n",
       "      <td>DSSHDS SHLH</td>\n",
       "    </tr>\n",
       "    <tr>\n",
       "      <th>0</th>\n",
       "      <td>MGGY</td>\n",
       "      <td>F</td>\n",
       "      <td>BWYa</td>\n",
       "      <td>BWY MGGY Excitement 2 170519 P</td>\n",
       "      <td>C:\\Users\\slwal\\anaconda3\\envs\\PY36\\avgn_paper-...</td>\n",
       "      <td>C:\\Users\\slwal\\anaconda3\\envs\\PY36\\avgn_paper-...</td>\n",
       "      <td>0</td>\n",
       "      <td>0.057590</td>\n",
       "      <td>0.535485</td>\n",
       "      <td>DSSHDS NLSHDS</td>\n",
       "    </tr>\n",
       "  </tbody>\n",
       "</table>\n",
       "</div>"
      ],
      "text/plain": [
       "   indv sex   gro                        filename  \\\n",
       "0  MGGY   F  BWYa  BWY MGGY Call Combo 1 290719 P   \n",
       "0  MGGY   F  BWYa  BWY MGGY Call Combo 1 300719 A   \n",
       "0  MGGY   F  BWYa   BWY MGGY Discrete 1 300719 AM   \n",
       "0  MGGY   F  BWYa   BWY MGGY Discrete 4 210519 PM   \n",
       "0  MGGY   F  BWYa   BWY MGGY Discrete 6 210519 PM   \n",
       "0  MGGY   F  BWYa  BWY MGGY Excitement 2 170519 P   \n",
       "\n",
       "                                              wavloc  \\\n",
       "0  C:\\Users\\slwal\\anaconda3\\envs\\PY36\\avgn_paper-...   \n",
       "0  C:\\Users\\slwal\\anaconda3\\envs\\PY36\\avgn_paper-...   \n",
       "0  C:\\Users\\slwal\\anaconda3\\envs\\PY36\\avgn_paper-...   \n",
       "0  C:\\Users\\slwal\\anaconda3\\envs\\PY36\\avgn_paper-...   \n",
       "0  C:\\Users\\slwal\\anaconda3\\envs\\PY36\\avgn_paper-...   \n",
       "0  C:\\Users\\slwal\\anaconda3\\envs\\PY36\\avgn_paper-...   \n",
       "\n",
       "                                               tgloc combi_num  combi_start  \\\n",
       "0  C:\\Users\\slwal\\anaconda3\\envs\\PY36\\avgn_paper-...         0     0.753604   \n",
       "0  C:\\Users\\slwal\\anaconda3\\envs\\PY36\\avgn_paper-...         0     1.218085   \n",
       "0  C:\\Users\\slwal\\anaconda3\\envs\\PY36\\avgn_paper-...         0     1.244022   \n",
       "0  C:\\Users\\slwal\\anaconda3\\envs\\PY36\\avgn_paper-...         0     0.306330   \n",
       "0  C:\\Users\\slwal\\anaconda3\\envs\\PY36\\avgn_paper-...         0     0.158063   \n",
       "0  C:\\Users\\slwal\\anaconda3\\envs\\PY36\\avgn_paper-...         0     0.057590   \n",
       "\n",
       "   combi_end    combi_label  \n",
       "0   1.367130  DSSHDS SHSHLH  \n",
       "0   1.984961         DS USC  \n",
       "0   1.897371      DSSHDS LH  \n",
       "0   0.927264    DSSHDS SHLH  \n",
       "0   0.503686    DSSHDS SHLH  \n",
       "0   0.535485  DSSHDS NLSHDS  "
      ]
     },
     "execution_count": 19,
     "metadata": {},
     "output_type": "execute_result"
    }
   ],
   "source": [
    "combi_df[:6]"
   ]
  },
  {
   "cell_type": "markdown",
   "id": "6bc7061d",
   "metadata": {},
   "source": [
    "## Put all data into SQL database"
   ]
  },
  {
   "cell_type": "code",
   "execution_count": 20,
   "id": "fdfb36e7",
   "metadata": {},
   "outputs": [],
   "source": [
    "import sqlite3 as sql"
   ]
  },
  {
   "cell_type": "code",
   "execution_count": 21,
   "id": "5a20850d",
   "metadata": {},
   "outputs": [],
   "source": [
    "con = sql.connect('magpie_call.db')"
   ]
  },
  {
   "cell_type": "code",
   "execution_count": 22,
   "id": "31ff3e4f",
   "metadata": {},
   "outputs": [],
   "source": [
    "#turn dataframes into string\n",
    "call_df = call_df.applymap(str)\n",
    "combi_df = combi_df.applymap(str)"
   ]
  },
  {
   "cell_type": "code",
   "execution_count": 23,
   "id": "6af1b369",
   "metadata": {},
   "outputs": [],
   "source": [
    "#connect string dataframes to SQL database\n",
    "call_df.to_sql('calls', con)\n",
    "combi_df.to_sql('combis', con)"
   ]
  },
  {
   "cell_type": "code",
   "execution_count": 24,
   "id": "03dd9856",
   "metadata": {},
   "outputs": [
    {
     "name": "stdout",
     "output_type": "stream",
     "text": [
      "    New_ID    indv   gro sex  \\\n",
      "0        0    MGGY  BWYa   F   \n",
      "1        1    MGGY  BWYa   F   \n",
      "2        2    MGGY  BWYa   F   \n",
      "3        3    MGGY  BWYa   F   \n",
      "4        4    MGGY  BWYa   F   \n",
      "..     ...     ...   ...  ..   \n",
      "694    694  MXXGRY    SS   F   \n",
      "695    695  MXXGRY    SS   F   \n",
      "696    696  MXXGRY    SS   F   \n",
      "697    697  MXXGRY    SS   F   \n",
      "698    698  MXXGRY    SS   F   \n",
      "\n",
      "                                                wavloc  \\\n",
      "0    C:\\Users\\slwal\\anaconda3\\envs\\PY36\\avgn_paper-...   \n",
      "1    C:\\Users\\slwal\\anaconda3\\envs\\PY36\\avgn_paper-...   \n",
      "2    C:\\Users\\slwal\\anaconda3\\envs\\PY36\\avgn_paper-...   \n",
      "3    C:\\Users\\slwal\\anaconda3\\envs\\PY36\\avgn_paper-...   \n",
      "4    C:\\Users\\slwal\\anaconda3\\envs\\PY36\\avgn_paper-...   \n",
      "..                                                 ...   \n",
      "694  C:\\Users\\slwal\\anaconda3\\envs\\PY36\\avgn_paper-...   \n",
      "695  C:\\Users\\slwal\\anaconda3\\envs\\PY36\\avgn_paper-...   \n",
      "696  C:\\Users\\slwal\\anaconda3\\envs\\PY36\\avgn_paper-...   \n",
      "697  C:\\Users\\slwal\\anaconda3\\envs\\PY36\\avgn_paper-...   \n",
      "698  C:\\Users\\slwal\\anaconda3\\envs\\PY36\\avgn_paper-...   \n",
      "\n",
      "                                              filename  \n",
      "0                      BWY MGGY Call Combo 1 290719 PM  \n",
      "1                      BWY MGGY Call Combo 1 290719 PM  \n",
      "2                      BWY MGGY Call Combo 1 300719 AM  \n",
      "3                      BWY MGGY Call Combo 1 300719 AM  \n",
      "4                        BWY MGGY Discrete 1 300719 AM  \n",
      "..                                                 ...  \n",
      "694  SS MXXGRY XXXX JUVENILE Call Combination Serie...  \n",
      "695  SS MXXGRY XXXX JUVENILE Call Combination Serie...  \n",
      "696  SS MXXGRY XXXX JUVENILE Call Combination Serie...  \n",
      "697  SS MXXGRY XXXX JUVENILE Call Combination Serie...  \n",
      "698  SS MXXGRY XXXX JUVENILE Call Combination Serie...  \n",
      "\n",
      "[699 rows x 6 columns]\n"
     ]
    }
   ],
   "source": [
    "#first I create dataframe with just ID information - to reduce duplications when combining all data\n",
    "con = con\n",
    "c = con.cursor()\n",
    "\n",
    "c.execute(\"\"\"\n",
    "    SELECT DISTINCT New_ID, indv, gro, sex, wavloc, filename\n",
    "    FROM calls\n",
    "    \"\"\")\n",
    "\n",
    "IDdf = pd.DataFrame(c.fetchall(), columns = ['New_ID', 'indv', 'gro', 'sex', 'wavloc', 'filename'])\n",
    "print(IDdf)"
   ]
  },
  {
   "cell_type": "code",
   "execution_count": 25,
   "id": "d0341efc",
   "metadata": {},
   "outputs": [
    {
     "data": {
      "text/html": [
       "<div>\n",
       "<style scoped>\n",
       "    .dataframe tbody tr th:only-of-type {\n",
       "        vertical-align: middle;\n",
       "    }\n",
       "\n",
       "    .dataframe tbody tr th {\n",
       "        vertical-align: top;\n",
       "    }\n",
       "\n",
       "    .dataframe thead th {\n",
       "        text-align: right;\n",
       "    }\n",
       "</style>\n",
       "<table border=\"1\" class=\"dataframe\">\n",
       "  <thead>\n",
       "    <tr style=\"text-align: right;\">\n",
       "      <th></th>\n",
       "      <th>New_ID</th>\n",
       "      <th>indv</th>\n",
       "      <th>gro</th>\n",
       "      <th>sex</th>\n",
       "      <th>wavloc</th>\n",
       "      <th>filename</th>\n",
       "    </tr>\n",
       "  </thead>\n",
       "  <tbody>\n",
       "    <tr>\n",
       "      <th>0</th>\n",
       "      <td>0</td>\n",
       "      <td>MGGY</td>\n",
       "      <td>BWYa</td>\n",
       "      <td>F</td>\n",
       "      <td>C:\\Users\\slwal\\anaconda3\\envs\\PY36\\avgn_paper-...</td>\n",
       "      <td>BWY MGGY Call Combo 1 290719 PM</td>\n",
       "    </tr>\n",
       "    <tr>\n",
       "      <th>1</th>\n",
       "      <td>1</td>\n",
       "      <td>MGGY</td>\n",
       "      <td>BWYa</td>\n",
       "      <td>F</td>\n",
       "      <td>C:\\Users\\slwal\\anaconda3\\envs\\PY36\\avgn_paper-...</td>\n",
       "      <td>BWY MGGY Call Combo 1 290719 PM</td>\n",
       "    </tr>\n",
       "    <tr>\n",
       "      <th>2</th>\n",
       "      <td>2</td>\n",
       "      <td>MGGY</td>\n",
       "      <td>BWYa</td>\n",
       "      <td>F</td>\n",
       "      <td>C:\\Users\\slwal\\anaconda3\\envs\\PY36\\avgn_paper-...</td>\n",
       "      <td>BWY MGGY Call Combo 1 300719 AM</td>\n",
       "    </tr>\n",
       "    <tr>\n",
       "      <th>3</th>\n",
       "      <td>3</td>\n",
       "      <td>MGGY</td>\n",
       "      <td>BWYa</td>\n",
       "      <td>F</td>\n",
       "      <td>C:\\Users\\slwal\\anaconda3\\envs\\PY36\\avgn_paper-...</td>\n",
       "      <td>BWY MGGY Call Combo 1 300719 AM</td>\n",
       "    </tr>\n",
       "    <tr>\n",
       "      <th>4</th>\n",
       "      <td>4</td>\n",
       "      <td>MGGY</td>\n",
       "      <td>BWYa</td>\n",
       "      <td>F</td>\n",
       "      <td>C:\\Users\\slwal\\anaconda3\\envs\\PY36\\avgn_paper-...</td>\n",
       "      <td>BWY MGGY Discrete 1 300719 AM</td>\n",
       "    </tr>\n",
       "    <tr>\n",
       "      <th>5</th>\n",
       "      <td>5</td>\n",
       "      <td>MGGY</td>\n",
       "      <td>BWYa</td>\n",
       "      <td>F</td>\n",
       "      <td>C:\\Users\\slwal\\anaconda3\\envs\\PY36\\avgn_paper-...</td>\n",
       "      <td>BWY MGGY Discrete 1 300719 AM</td>\n",
       "    </tr>\n",
       "    <tr>\n",
       "      <th>6</th>\n",
       "      <td>6</td>\n",
       "      <td>MGGY</td>\n",
       "      <td>BWYa</td>\n",
       "      <td>F</td>\n",
       "      <td>C:\\Users\\slwal\\anaconda3\\envs\\PY36\\avgn_paper-...</td>\n",
       "      <td>BWY MGGY Discrete 4 210519 PM</td>\n",
       "    </tr>\n",
       "    <tr>\n",
       "      <th>7</th>\n",
       "      <td>7</td>\n",
       "      <td>MGGY</td>\n",
       "      <td>BWYa</td>\n",
       "      <td>F</td>\n",
       "      <td>C:\\Users\\slwal\\anaconda3\\envs\\PY36\\avgn_paper-...</td>\n",
       "      <td>BWY MGGY Discrete 4 210519 PM</td>\n",
       "    </tr>\n",
       "  </tbody>\n",
       "</table>\n",
       "</div>"
      ],
      "text/plain": [
       "  New_ID  indv   gro sex                                             wavloc  \\\n",
       "0      0  MGGY  BWYa   F  C:\\Users\\slwal\\anaconda3\\envs\\PY36\\avgn_paper-...   \n",
       "1      1  MGGY  BWYa   F  C:\\Users\\slwal\\anaconda3\\envs\\PY36\\avgn_paper-...   \n",
       "2      2  MGGY  BWYa   F  C:\\Users\\slwal\\anaconda3\\envs\\PY36\\avgn_paper-...   \n",
       "3      3  MGGY  BWYa   F  C:\\Users\\slwal\\anaconda3\\envs\\PY36\\avgn_paper-...   \n",
       "4      4  MGGY  BWYa   F  C:\\Users\\slwal\\anaconda3\\envs\\PY36\\avgn_paper-...   \n",
       "5      5  MGGY  BWYa   F  C:\\Users\\slwal\\anaconda3\\envs\\PY36\\avgn_paper-...   \n",
       "6      6  MGGY  BWYa   F  C:\\Users\\slwal\\anaconda3\\envs\\PY36\\avgn_paper-...   \n",
       "7      7  MGGY  BWYa   F  C:\\Users\\slwal\\anaconda3\\envs\\PY36\\avgn_paper-...   \n",
       "\n",
       "                          filename  \n",
       "0  BWY MGGY Call Combo 1 290719 PM  \n",
       "1  BWY MGGY Call Combo 1 290719 PM  \n",
       "2  BWY MGGY Call Combo 1 300719 AM  \n",
       "3  BWY MGGY Call Combo 1 300719 AM  \n",
       "4    BWY MGGY Discrete 1 300719 AM  \n",
       "5    BWY MGGY Discrete 1 300719 AM  \n",
       "6    BWY MGGY Discrete 4 210519 PM  \n",
       "7    BWY MGGY Discrete 4 210519 PM  "
      ]
     },
     "execution_count": 25,
     "metadata": {},
     "output_type": "execute_result"
    }
   ],
   "source": [
    "IDdf = pd.DataFrame(IDdf)\n",
    "IDdf[:8]"
   ]
  },
  {
   "cell_type": "code",
   "execution_count": 26,
   "id": "c6225acc",
   "metadata": {},
   "outputs": [
    {
     "data": {
      "text/plain": [
       "699"
      ]
     },
     "execution_count": 26,
     "metadata": {},
     "output_type": "execute_result"
    }
   ],
   "source": [
    "#how many rows? >699 means there are duplicates\n",
    "len(IDdf[:])"
   ]
  },
  {
   "cell_type": "code",
   "execution_count": 27,
   "id": "59dd5e70",
   "metadata": {},
   "outputs": [
    {
     "data": {
      "text/html": [
       "<div>\n",
       "<style scoped>\n",
       "    .dataframe tbody tr th:only-of-type {\n",
       "        vertical-align: middle;\n",
       "    }\n",
       "\n",
       "    .dataframe tbody tr th {\n",
       "        vertical-align: top;\n",
       "    }\n",
       "\n",
       "    .dataframe thead th {\n",
       "        text-align: right;\n",
       "    }\n",
       "</style>\n",
       "<table border=\"1\" class=\"dataframe\">\n",
       "  <thead>\n",
       "    <tr style=\"text-align: right;\">\n",
       "      <th></th>\n",
       "      <th>New_ID</th>\n",
       "      <th>filename</th>\n",
       "      <th>call_label</th>\n",
       "      <th>call_start</th>\n",
       "      <th>call_end</th>\n",
       "      <th>combi_label</th>\n",
       "      <th>combi_start</th>\n",
       "      <th>combi_end</th>\n",
       "    </tr>\n",
       "  </thead>\n",
       "  <tbody>\n",
       "    <tr>\n",
       "      <th>0</th>\n",
       "      <td>0</td>\n",
       "      <td>BWY MGGY Call Combo 1 290719 PM</td>\n",
       "      <td>DSSHDS</td>\n",
       "      <td>0.7536043330872654</td>\n",
       "      <td>0.9211598748571118</td>\n",
       "      <td>DSSHDS SHSHLH</td>\n",
       "      <td>0.7536043330872654</td>\n",
       "      <td>1.3671299042471126</td>\n",
       "    </tr>\n",
       "    <tr>\n",
       "      <th>1</th>\n",
       "      <td>1</td>\n",
       "      <td>BWY MGGY Call Combo 1 290719 PM</td>\n",
       "      <td>SHSHLH</td>\n",
       "      <td>0.932017364606172</td>\n",
       "      <td>1.3671299042471126</td>\n",
       "      <td>DSSHDS SHSHLH</td>\n",
       "      <td>0.7536043330872654</td>\n",
       "      <td>1.3671299042471126</td>\n",
       "    </tr>\n",
       "    <tr>\n",
       "      <th>2</th>\n",
       "      <td>2</td>\n",
       "      <td>BWY MGGY Call Combo 1 300719 AM</td>\n",
       "      <td>DS</td>\n",
       "      <td>1.2180851883685253</td>\n",
       "      <td>1.3088406296623487</td>\n",
       "      <td>DS USC</td>\n",
       "      <td>1.2180851883685253</td>\n",
       "      <td>1.9849613064156608</td>\n",
       "    </tr>\n",
       "    <tr>\n",
       "      <th>3</th>\n",
       "      <td>3</td>\n",
       "      <td>BWY MGGY Call Combo 1 300719 AM</td>\n",
       "      <td>USC</td>\n",
       "      <td>1.4426860643402732</td>\n",
       "      <td>1.9849613064156608</td>\n",
       "      <td>DS USC</td>\n",
       "      <td>1.2180851883685253</td>\n",
       "      <td>1.9849613064156608</td>\n",
       "    </tr>\n",
       "    <tr>\n",
       "      <th>4</th>\n",
       "      <td>4</td>\n",
       "      <td>BWY MGGY Discrete 1 300719 AM</td>\n",
       "      <td>DSSHDS</td>\n",
       "      <td>1.2440220682349485</td>\n",
       "      <td>1.4201833369917516</td>\n",
       "      <td>DSSHDS LH</td>\n",
       "      <td>1.2440220682349485</td>\n",
       "      <td>1.8973712707974528</td>\n",
       "    </tr>\n",
       "    <tr>\n",
       "      <th>...</th>\n",
       "      <td>...</td>\n",
       "      <td>...</td>\n",
       "      <td>...</td>\n",
       "      <td>...</td>\n",
       "      <td>...</td>\n",
       "      <td>...</td>\n",
       "      <td>...</td>\n",
       "      <td>...</td>\n",
       "    </tr>\n",
       "    <tr>\n",
       "      <th>739</th>\n",
       "      <td>694</td>\n",
       "      <td>SS MXXGRY XXXX JUVENILE Call Combination Serie...</td>\n",
       "      <td>LHDS</td>\n",
       "      <td>0.2397330291871744</td>\n",
       "      <td>0.438800496254343</td>\n",
       "      <td>SHDS LHDS</td>\n",
       "      <td>0.048004454915108796</td>\n",
       "      <td>0.438800496254343</td>\n",
       "    </tr>\n",
       "    <tr>\n",
       "      <th>740</th>\n",
       "      <td>695</td>\n",
       "      <td>SS MXXGRY XXXX JUVENILE Call Combination Serie...</td>\n",
       "      <td>SHDS</td>\n",
       "      <td>1.0182589689619694</td>\n",
       "      <td>1.1489829968747414</td>\n",
       "      <td>SHDS LHDS</td>\n",
       "      <td>1.0182589689619694</td>\n",
       "      <td>1.4154765414969186</td>\n",
       "    </tr>\n",
       "    <tr>\n",
       "      <th>741</th>\n",
       "      <td>696</td>\n",
       "      <td>SS MXXGRY XXXX JUVENILE Call Combination Serie...</td>\n",
       "      <td>LHDS</td>\n",
       "      <td>1.2187024784282199</td>\n",
       "      <td>1.4154765414969186</td>\n",
       "      <td>SHDS LHDS</td>\n",
       "      <td>1.0182589689619694</td>\n",
       "      <td>1.4154765414969186</td>\n",
       "    </tr>\n",
       "    <tr>\n",
       "      <th>742</th>\n",
       "      <td>697</td>\n",
       "      <td>SS MXXGRY XXXX JUVENILE Call Combination Serie...</td>\n",
       "      <td>SHDS</td>\n",
       "      <td>0.11203559171039924</td>\n",
       "      <td>0.2389857420586103</td>\n",
       "      <td>SHDS LHDS</td>\n",
       "      <td>0.11203559171039924</td>\n",
       "      <td>0.512517509303725</td>\n",
       "    </tr>\n",
       "    <tr>\n",
       "      <th>743</th>\n",
       "      <td>698</td>\n",
       "      <td>SS MXXGRY XXXX JUVENILE Call Combination Serie...</td>\n",
       "      <td>LHDS</td>\n",
       "      <td>0.2952626128315286</td>\n",
       "      <td>0.512517509303725</td>\n",
       "      <td>SHDS LHDS</td>\n",
       "      <td>0.11203559171039924</td>\n",
       "      <td>0.512517509303725</td>\n",
       "    </tr>\n",
       "  </tbody>\n",
       "</table>\n",
       "<p>744 rows × 8 columns</p>\n",
       "</div>"
      ],
      "text/plain": [
       "    New_ID                                           filename call_label  \\\n",
       "0        0                    BWY MGGY Call Combo 1 290719 PM     DSSHDS   \n",
       "1        1                    BWY MGGY Call Combo 1 290719 PM     SHSHLH   \n",
       "2        2                    BWY MGGY Call Combo 1 300719 AM         DS   \n",
       "3        3                    BWY MGGY Call Combo 1 300719 AM        USC   \n",
       "4        4                      BWY MGGY Discrete 1 300719 AM     DSSHDS   \n",
       "..     ...                                                ...        ...   \n",
       "739    694  SS MXXGRY XXXX JUVENILE Call Combination Serie...       LHDS   \n",
       "740    695  SS MXXGRY XXXX JUVENILE Call Combination Serie...       SHDS   \n",
       "741    696  SS MXXGRY XXXX JUVENILE Call Combination Serie...       LHDS   \n",
       "742    697  SS MXXGRY XXXX JUVENILE Call Combination Serie...       SHDS   \n",
       "743    698  SS MXXGRY XXXX JUVENILE Call Combination Serie...       LHDS   \n",
       "\n",
       "              call_start            call_end    combi_label  \\\n",
       "0     0.7536043330872654  0.9211598748571118  DSSHDS SHSHLH   \n",
       "1      0.932017364606172  1.3671299042471126  DSSHDS SHSHLH   \n",
       "2     1.2180851883685253  1.3088406296623487         DS USC   \n",
       "3     1.4426860643402732  1.9849613064156608         DS USC   \n",
       "4     1.2440220682349485  1.4201833369917516      DSSHDS LH   \n",
       "..                   ...                 ...            ...   \n",
       "739   0.2397330291871744   0.438800496254343      SHDS LHDS   \n",
       "740   1.0182589689619694  1.1489829968747414      SHDS LHDS   \n",
       "741   1.2187024784282199  1.4154765414969186      SHDS LHDS   \n",
       "742  0.11203559171039924  0.2389857420586103      SHDS LHDS   \n",
       "743   0.2952626128315286   0.512517509303725      SHDS LHDS   \n",
       "\n",
       "              combi_start           combi_end  \n",
       "0      0.7536043330872654  1.3671299042471126  \n",
       "1      0.7536043330872654  1.3671299042471126  \n",
       "2      1.2180851883685253  1.9849613064156608  \n",
       "3      1.2180851883685253  1.9849613064156608  \n",
       "4      1.2440220682349485  1.8973712707974528  \n",
       "..                    ...                 ...  \n",
       "739  0.048004454915108796   0.438800496254343  \n",
       "740    1.0182589689619694  1.4154765414969186  \n",
       "741    1.0182589689619694  1.4154765414969186  \n",
       "742   0.11203559171039924   0.512517509303725  \n",
       "743   0.11203559171039924   0.512517509303725  \n",
       "\n",
       "[744 rows x 8 columns]"
      ]
     },
     "execution_count": 27,
     "metadata": {},
     "output_type": "execute_result"
    }
   ],
   "source": [
    "#dataframe containing start and end times\n",
    "\n",
    "con = con\n",
    "c = con.cursor()\n",
    "\n",
    "c.execute(\"\"\"\n",
    "    SELECT DISTINCT New_ID, calls.filename, call_label, call_start, call_end, combi_label, combi_start, combi_end\n",
    "    FROM calls\n",
    "    LEFT JOIN combis ON (calls.wavloc == combis.wavloc AND calls.call_start >= combis.combi_start AND calls.call_end <= combis.combi_end)\n",
    "    \"\"\")\n",
    "\n",
    "df = pd.DataFrame(c.fetchall(), columns = ['New_ID', 'filename', 'call_label', 'call_start', 'call_end', 'combi_label', 'combi_start', 'combi_end'])\n",
    "df"
   ]
  },
  {
   "cell_type": "code",
   "execution_count": 28,
   "id": "900b5252",
   "metadata": {},
   "outputs": [
    {
     "data": {
      "text/plain": [
       "744"
      ]
     },
     "execution_count": 28,
     "metadata": {},
     "output_type": "execute_result"
    }
   ],
   "source": [
    "#how many rows? >698 means there are duplicates\n",
    "len(df)"
   ]
  },
  {
   "cell_type": "code",
   "execution_count": 29,
   "id": "5d7a4eae",
   "metadata": {},
   "outputs": [],
   "source": [
    "from avgn.utils.paths import ensure_dir"
   ]
  },
  {
   "cell_type": "markdown",
   "id": "a2f63c6b",
   "metadata": {},
   "source": [
    "## Turn dataframes into csv for processing\n",
    "Easily allows combining the data from both dataframes and checking for any errors/duplicates that might have occurred during processing. "
   ]
  },
  {
   "cell_type": "code",
   "execution_count": 31,
   "id": "71e53741",
   "metadata": {},
   "outputs": [
    {
     "data": {
      "text/plain": [
       "WindowsPath('C:/Users/slwal/anaconda3/envs/PY36/avgn_paper-2/data')"
      ]
     },
     "execution_count": 31,
     "metadata": {},
     "output_type": "execute_result"
    }
   ],
   "source": [
    "#check data directory path\n",
    "DATA_DIR"
   ]
  },
  {
   "cell_type": "code",
   "execution_count": 32,
   "id": "8163c504",
   "metadata": {},
   "outputs": [],
   "source": [
    "save_loc = DATA_DIR / DATASET_ID / 'call_startendtimes_df_to_csv.csv'\n",
    "ensure_dir(save_loc.as_posix())\n",
    "df.to_csv(save_loc)"
   ]
  },
  {
   "cell_type": "code",
   "execution_count": 33,
   "id": "992dc32b",
   "metadata": {},
   "outputs": [],
   "source": [
    "save_loc = DATA_DIR / DATASET_ID / 'call_ID_df_to_csv.csv'\n",
    "ensure_dir(save_loc)\n",
    "IDdf.to_csv(save_loc)"
   ]
  }
 ],
 "metadata": {
  "kernelspec": {
   "display_name": "Python 3",
   "language": "python",
   "name": "python3"
  },
  "language_info": {
   "codemirror_mode": {
    "name": "ipython",
    "version": 3
   },
   "file_extension": ".py",
   "mimetype": "text/x-python",
   "name": "python",
   "nbconvert_exporter": "python",
   "pygments_lexer": "ipython3",
   "version": "3.6.13"
  }
 },
 "nbformat": 4,
 "nbformat_minor": 5
}
