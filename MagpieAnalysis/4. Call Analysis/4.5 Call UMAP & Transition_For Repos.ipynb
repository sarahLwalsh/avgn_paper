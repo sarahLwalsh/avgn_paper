{
 "cells": [
  {
   "cell_type": "markdown",
   "id": "d51d436c",
   "metadata": {},
   "source": [
    "# Markov Modelling\n",
    "The following notebook uses markov modelling to determine transition probabilities for segments within calls, depending on the immediately preceding segment. See Sainburg et al., (2020) and github.com/timsainb/avgn for further detail on this process.\n",
    "\n",
    "This notebook uses Python v3.8.13 (compared to v3.6 used in earlier notebooks), in order to use a more recent version of NetworkX which allows for self-loops."
   ]
  },
  {
   "cell_type": "code",
   "execution_count": 1,
   "id": "516a2406",
   "metadata": {},
   "outputs": [],
   "source": [
    "import numpy as np\n",
    "import matplotlib.pyplot as plt\n",
    "%matplotlib inline\n",
    "from tqdm.auto import tqdm\n",
    "from joblib import Parallel, delayed\n",
    "import pandas as pd"
   ]
  },
  {
   "cell_type": "code",
   "execution_count": 2,
   "id": "1085c19d",
   "metadata": {},
   "outputs": [],
   "source": [
    "import avgn"
   ]
  },
  {
   "cell_type": "code",
   "execution_count": 3,
   "id": "86977f86",
   "metadata": {},
   "outputs": [],
   "source": [
    "from avgn.utils.paths import DATA_DIR, most_recent_subdirectory, ensure_dir, FIGURE_DIR\n",
    "from avgn.visualization.spectrogram import draw_spec_set\n",
    "from avgn.utils.general import save_fig"
   ]
  },
  {
   "cell_type": "code",
   "execution_count": 4,
   "id": "5b235633",
   "metadata": {},
   "outputs": [],
   "source": [
    "from scipy.stats import kruskal\n",
    "from sklearn.metrics import silhouette_score, silhouette_samples"
   ]
  },
  {
   "cell_type": "code",
   "execution_count": 5,
   "id": "5bfbc7c4",
   "metadata": {},
   "outputs": [],
   "source": [
    "DATASET_ID = \"git_repos_call\""
   ]
  },
  {
   "cell_type": "code",
   "execution_count": 6,
   "id": "780f0083",
   "metadata": {},
   "outputs": [],
   "source": [
    "DT_ID = '2022-03-12_17-46-00'"
   ]
  },
  {
   "cell_type": "markdown",
   "id": "31a8c326",
   "metadata": {},
   "source": [
    "## Call Dataframe"
   ]
  },
  {
   "cell_type": "code",
   "execution_count": 7,
   "id": "89ad2ff0",
   "metadata": {},
   "outputs": [
    {
     "data": {
      "text/html": [
       "<div>\n",
       "<style scoped>\n",
       "    .dataframe tbody tr th:only-of-type {\n",
       "        vertical-align: middle;\n",
       "    }\n",
       "\n",
       "    .dataframe tbody tr th {\n",
       "        vertical-align: top;\n",
       "    }\n",
       "\n",
       "    .dataframe thead th {\n",
       "        text-align: right;\n",
       "    }\n",
       "</style>\n",
       "<table border=\"1\" class=\"dataframe\">\n",
       "  <thead>\n",
       "    <tr style=\"text-align: right;\">\n",
       "      <th></th>\n",
       "      <th>start_time</th>\n",
       "      <th>end_time</th>\n",
       "      <th>labels</th>\n",
       "      <th>indv</th>\n",
       "      <th>indvi</th>\n",
       "      <th>filename</th>\n",
       "      <th>group</th>\n",
       "      <th>location</th>\n",
       "      <th>sex</th>\n",
       "      <th>wav_loc</th>\n",
       "      <th>...</th>\n",
       "      <th>comb_labels</th>\n",
       "      <th>umap</th>\n",
       "      <th>spectrogram</th>\n",
       "      <th>call_lab_simp</th>\n",
       "      <th>combi_lab_simp</th>\n",
       "      <th>call_unique_num</th>\n",
       "      <th>call_pos_combi</th>\n",
       "      <th>combi_label</th>\n",
       "      <th>combi_unique_num</th>\n",
       "      <th>simp</th>\n",
       "    </tr>\n",
       "    <tr>\n",
       "      <th>ID</th>\n",
       "      <th></th>\n",
       "      <th></th>\n",
       "      <th></th>\n",
       "      <th></th>\n",
       "      <th></th>\n",
       "      <th></th>\n",
       "      <th></th>\n",
       "      <th></th>\n",
       "      <th></th>\n",
       "      <th></th>\n",
       "      <th></th>\n",
       "      <th></th>\n",
       "      <th></th>\n",
       "      <th></th>\n",
       "      <th></th>\n",
       "      <th></th>\n",
       "      <th></th>\n",
       "      <th></th>\n",
       "      <th></th>\n",
       "      <th></th>\n",
       "      <th></th>\n",
       "    </tr>\n",
       "  </thead>\n",
       "  <tbody>\n",
       "    <tr>\n",
       "      <th>0</th>\n",
       "      <td>0.753604</td>\n",
       "      <td>0.921160</td>\n",
       "      <td>DSSHDS</td>\n",
       "      <td>MGGY</td>\n",
       "      <td>0</td>\n",
       "      <td>BWY MGGY Call Combo 1 290719 PM</td>\n",
       "      <td>BWYa</td>\n",
       "      <td>CRAWLEY</td>\n",
       "      <td>F</td>\n",
       "      <td>C:/Users/slwal/anaconda3/envs/PY36/avgn_paper-...</td>\n",
       "      <td>...</td>\n",
       "      <td>DSSHDS</td>\n",
       "      <td>[5.7770762, 7.997407]</td>\n",
       "      <td>[[0.0, 0.0, 0.0, 0.0, 0.0, 0.0, 0.0, 0.0, 0.0,...</td>\n",
       "      <td>DS-SH-DS</td>\n",
       "      <td>DS-SH-DS SH-LH</td>\n",
       "      <td>0</td>\n",
       "      <td>0</td>\n",
       "      <td>DSSHDS SHSHLH</td>\n",
       "      <td>0</td>\n",
       "      <td>Other Calls</td>\n",
       "    </tr>\n",
       "    <tr>\n",
       "      <th>1</th>\n",
       "      <td>0.932017</td>\n",
       "      <td>1.367130</td>\n",
       "      <td>SHSHLH</td>\n",
       "      <td>MGGY</td>\n",
       "      <td>0</td>\n",
       "      <td>BWY MGGY Call Combo 1 290719 PM</td>\n",
       "      <td>BWYa</td>\n",
       "      <td>CRAWLEY</td>\n",
       "      <td>F</td>\n",
       "      <td>C:/Users/slwal/anaconda3/envs/PY36/avgn_paper-...</td>\n",
       "      <td>...</td>\n",
       "      <td>SHSHLH</td>\n",
       "      <td>[1.8122675, 5.094298]</td>\n",
       "      <td>[[0.0, 0.0, 0.0, 0.0, 0.0, 0.0, 0.0, 0.0, 0.0,...</td>\n",
       "      <td>SH-LH</td>\n",
       "      <td>DS-SH-DS SH-LH</td>\n",
       "      <td>1</td>\n",
       "      <td>1</td>\n",
       "      <td>DSSHDS SHSHLH</td>\n",
       "      <td>0</td>\n",
       "      <td>Contains LH Segment</td>\n",
       "    </tr>\n",
       "    <tr>\n",
       "      <th>2</th>\n",
       "      <td>1.218085</td>\n",
       "      <td>1.308841</td>\n",
       "      <td>DS</td>\n",
       "      <td>MGGY</td>\n",
       "      <td>0</td>\n",
       "      <td>BWY MGGY Call Combo 1 300719 AM</td>\n",
       "      <td>BWYa</td>\n",
       "      <td>CRAWLEY</td>\n",
       "      <td>F</td>\n",
       "      <td>C:/Users/slwal/anaconda3/envs/PY36/avgn_paper-...</td>\n",
       "      <td>...</td>\n",
       "      <td>DS</td>\n",
       "      <td>[9.353501, 10.055656]</td>\n",
       "      <td>[[0.0, 0.0, 0.0, 0.0, 0.0, 0.0, 0.0, 0.0, 0.0,...</td>\n",
       "      <td>DS</td>\n",
       "      <td>DS SH-LH</td>\n",
       "      <td>2</td>\n",
       "      <td>0</td>\n",
       "      <td>DS USC</td>\n",
       "      <td>1</td>\n",
       "      <td>Other Calls</td>\n",
       "    </tr>\n",
       "  </tbody>\n",
       "</table>\n",
       "<p>3 rows × 22 columns</p>\n",
       "</div>"
      ],
      "text/plain": [
       "    start_time  end_time  labels  indv  indvi  \\\n",
       "ID                                              \n",
       "0     0.753604  0.921160  DSSHDS  MGGY      0   \n",
       "1     0.932017  1.367130  SHSHLH  MGGY      0   \n",
       "2     1.218085  1.308841      DS  MGGY      0   \n",
       "\n",
       "                           filename group location sex  \\\n",
       "ID                                                       \n",
       "0   BWY MGGY Call Combo 1 290719 PM  BWYa  CRAWLEY   F   \n",
       "1   BWY MGGY Call Combo 1 290719 PM  BWYa  CRAWLEY   F   \n",
       "2   BWY MGGY Call Combo 1 300719 AM  BWYa  CRAWLEY   F   \n",
       "\n",
       "                                              wav_loc  ... comb_labels  \\\n",
       "ID                                                     ...               \n",
       "0   C:/Users/slwal/anaconda3/envs/PY36/avgn_paper-...  ...      DSSHDS   \n",
       "1   C:/Users/slwal/anaconda3/envs/PY36/avgn_paper-...  ...      SHSHLH   \n",
       "2   C:/Users/slwal/anaconda3/envs/PY36/avgn_paper-...  ...          DS   \n",
       "\n",
       "                     umap                                        spectrogram  \\\n",
       "ID                                                                             \n",
       "0   [5.7770762, 7.997407]  [[0.0, 0.0, 0.0, 0.0, 0.0, 0.0, 0.0, 0.0, 0.0,...   \n",
       "1   [1.8122675, 5.094298]  [[0.0, 0.0, 0.0, 0.0, 0.0, 0.0, 0.0, 0.0, 0.0,...   \n",
       "2   [9.353501, 10.055656]  [[0.0, 0.0, 0.0, 0.0, 0.0, 0.0, 0.0, 0.0, 0.0,...   \n",
       "\n",
       "   call_lab_simp  combi_lab_simp call_unique_num call_pos_combi  \\\n",
       "ID                                                                \n",
       "0       DS-SH-DS  DS-SH-DS SH-LH               0              0   \n",
       "1          SH-LH  DS-SH-DS SH-LH               1              1   \n",
       "2             DS        DS SH-LH               2              0   \n",
       "\n",
       "      combi_label  combi_unique_num                 simp  \n",
       "ID                                                        \n",
       "0   DSSHDS SHSHLH                 0          Other Calls  \n",
       "1   DSSHDS SHSHLH                 0  Contains LH Segment  \n",
       "2          DS USC                 1          Other Calls  \n",
       "\n",
       "[3 rows x 22 columns]"
      ]
     },
     "execution_count": 7,
     "metadata": {},
     "output_type": "execute_result"
    }
   ],
   "source": [
    "call_df = pd.read_pickle(DATA_DIR / DATASET_ID / DT_ID /  'call_umap_grouped.pickle')\n",
    "call_df[:3]"
   ]
  },
  {
   "cell_type": "code",
   "execution_count": 8,
   "id": "b57f2527",
   "metadata": {},
   "outputs": [
    {
     "data": {
      "text/plain": [
       "561"
      ]
     },
     "execution_count": 8,
     "metadata": {},
     "output_type": "execute_result"
    }
   ],
   "source": [
    "len(call_df)"
   ]
  },
  {
   "cell_type": "markdown",
   "id": "7f0dfeac",
   "metadata": {},
   "source": [
    "## Combined UMAP & Transitions"
   ]
  },
  {
   "cell_type": "code",
   "execution_count": 12,
   "id": "496352b6",
   "metadata": {},
   "outputs": [],
   "source": [
    "import matplotlib.pyplot as plt\n",
    "from avgn.visualization.barcodes import plot_sorted_barcodes, indv_barcode"
   ]
  },
  {
   "cell_type": "markdown",
   "id": "acdcec81",
   "metadata": {},
   "source": [
    "### Plot barcodes for organization"
   ]
  },
  {
   "cell_type": "code",
   "execution_count": 13,
   "id": "8ae4c83e",
   "metadata": {},
   "outputs": [],
   "source": [
    "call_df.sort_values(by=['simp'], inplace = True)"
   ]
  },
  {
   "cell_type": "code",
   "execution_count": 15,
   "id": "fd847b06",
   "metadata": {},
   "outputs": [
    {
     "name": "stdout",
     "output_type": "stream",
     "text": [
      "simp ['Contains LH Segment' 'NL Segment Alone' 'Other Calls']\n"
     ]
    },
    {
     "data": {
      "application/vnd.jupyter.widget-view+json": {
       "model_id": "",
       "version_major": 2,
       "version_minor": 0
      },
      "text/plain": [
       "  0%|          | 0/133 [00:00<?, ?it/s]"
      ]
     },
     "metadata": {},
     "output_type": "display_data"
    },
    {
     "data": {
      "application/vnd.jupyter.widget-view+json": {
       "model_id": "",
       "version_major": 2,
       "version_minor": 0
      },
      "text/plain": [
       "  0%|          | 0/133 [00:00<?, ?it/s]"
      ]
     },
     "metadata": {},
     "output_type": "display_data"
    },
    {
     "data": {
      "application/vnd.jupyter.widget-view+json": {
       "model_id": "",
       "version_major": 2,
       "version_minor": 0
      },
      "text/plain": [
       "  0%|          | 0/8778 [00:00<?, ?it/s]"
      ]
     },
     "metadata": {},
     "output_type": "display_data"
    },
    {
     "data": {
      "image/png": "[encoded data removed]",
      "text/plain": [
       "<Figure size 216x72 with 1 Axes>"
      ]
     },
     "metadata": {
      "needs_background": "light"
     },
     "output_type": "display_data"
    },
    {
     "data": {
      "image/png": "[encoded data removed]",
      "text/plain": [
       "<Figure size 1440x216 with 1 Axes>"
      ]
     },
     "metadata": {
      "needs_background": "light"
     },
     "output_type": "display_data"
    }
   ],
   "source": [
    "colors = ['crimson', 'thistle','indigo', 'plum']\n",
    "all_dict = {}\n",
    "for label in [\"simp\"]:\n",
    "    print(label, call_df[label].unique())\n",
    "    color_lists, trans_lists, label_pal_dict, label_pal, label_dict = indv_barcode(\n",
    "        call_df,\n",
    "        time_resolution=0.03,\n",
    "        label=\"simp\",\n",
    "        pal=colors,\n",
    "    )\n",
    "    \n",
    "    all_dict[label] = {\n",
    "    \"label_pal_dict\": label_pal_dict,\n",
    "    \"label_dict\": label_dict,\n",
    "    }\n",
    "    \n",
    "    fig, ax = plt.subplots(figsize=(20, 3))\n",
    "\n",
    "    plot_sorted_barcodes(\n",
    "        color_lists,\n",
    "        trans_lists,\n",
    "        max_list_len=600,\n",
    "        seq_len=100,\n",
    "        nex=200,\n",
    "        figsize=(10, 4),\n",
    "        ax=ax,\n",
    "    )\n",
    "    plt.show()"
   ]
  },
  {
   "cell_type": "code",
   "execution_count": 16,
   "id": "6170cb22",
   "metadata": {},
   "outputs": [],
   "source": [
    "call_df.sort_values(by=['ID'], inplace = True)"
   ]
  },
  {
   "cell_type": "code",
   "execution_count": 19,
   "id": "88935101",
   "metadata": {},
   "outputs": [],
   "source": [
    "from avgn.visualization.projections import scatter_spec\n",
    "from avgn.visualization.network_graph import plot_network_graph"
   ]
  },
  {
   "cell_type": "code",
   "execution_count": 22,
   "id": "c538b373",
   "metadata": {},
   "outputs": [
    {
     "data": {
      "text/plain": [
       "Index(['start_time', 'end_time', 'labels', 'indv', 'indvi', 'filename',\n",
       "       'group', 'location', 'sex', 'wav_loc', 'key', 'rate', 'comb_labels',\n",
       "       'umap', 'spectrogram', 'call_lab_simp', 'combi_lab_simp',\n",
       "       'call_unique_num', 'call_pos_combi', 'combi_label', 'combi_unique_num',\n",
       "       'simp'],\n",
       "      dtype='object')"
      ]
     },
     "execution_count": 22,
     "metadata": {},
     "output_type": "execute_result"
    }
   ],
   "source": [
    "call_df.columns"
   ]
  },
  {
   "cell_type": "code",
   "execution_count": 23,
   "id": "eb3ad149",
   "metadata": {},
   "outputs": [],
   "source": [
    "def norm(x):\n",
    "    return (x-np.min(x)) / (np.max(x) - np.min(x))"
   ]
  },
  {
   "cell_type": "code",
   "execution_count": 25,
   "id": "5226126e",
   "metadata": {},
   "outputs": [
    {
     "data": {
      "application/vnd.jupyter.widget-view+json": {
       "model_id": "9da315a1b19b4b5d8e72a80d62fb0ec5",
       "version_major": 2,
       "version_minor": 0
      },
      "text/plain": [
       "  0%|          | 0/561 [00:00<?, ?it/s]"
      ]
     },
     "metadata": {},
     "output_type": "display_data"
    }
   ],
   "source": [
    "specs = list(call_df.spectrogram.values)\n",
    "specs = [norm(i) for i in tqdm(specs)]"
   ]
  },
  {
   "cell_type": "code",
   "execution_count": null,
   "id": "26933d19",
   "metadata": {},
   "outputs": [],
   "source": [
    "fig = plt.figure()\n",
    "fig.set_figheight(12)\n",
    "fig.set_figwidth(24)\n",
    "ax1 = plt.subplot2grid(shape=(1, 24), loc=(0, 0), colspan=12)  ##1st Row\n",
    "ax2 = plt.subplot2grid(shape=(1, 24), loc=(0, 12), colspan=12) #2nd row\n",
    "\n",
    "colors = ['thistle', 'indigo', 'crimson']\n",
    "#box = ax1.get_position()\n",
    "#ax1.set_position([box.x0, box.y0, box.width * 1.1, box.height*1.1])\n",
    "nex = -1\n",
    "ax1.axis('off')\n",
    "scatter_spec(\n",
    "    np.array(list(call_df['umap'].values)),\n",
    "    specs,\n",
    "    column_size=10,\n",
    "    x_range = [-1,11],\n",
    "    y_range = [0,12],\n",
    "    pal_color=\"hls\",\n",
    "    color_points=False,\n",
    "    enlarge_points=0,\n",
    "    ax=ax1,\n",
    "    range_pad = 0.15,\n",
    "    scatter_kwargs = {\n",
    "        'labels': call_df.simp.values,\n",
    "        'alpha':1,\n",
    "        's': 15,\n",
    "        'show_legend': False,\n",
    "        \"color_palette\": colors,\n",
    "    },\n",
    "    matshow_kwargs = {\n",
    "        'cmap': plt.cm.Greys\n",
    "    },\n",
    "    line_kwargs = {\n",
    "        'lw':0.5,\n",
    "        'ls':\"dashed\",\n",
    "        'alpha':0.25,\n",
    "    },\n",
    "    draw_lines=True,\n",
    "    n_subset= 1000,\n",
    "    border_line_width = 3,\n",
    "    \n",
    "\n",
    ");\n",
    "\n",
    "for label in [\"simp\"]:\n",
    "    print(label)\n",
    "    # plot graph\n",
    "    elements = call_df[label].values\n",
    "    projections = np.array(list(call_df['umap'].values))\n",
    "    sequence_ids = np.array(call_df[\"combi_unique_num\"])\n",
    "\n",
    "    label_pal_dict = all_dict[label]['label_pal_dict']\n",
    "    label_dict = all_dict[label]['label_dict']\n",
    "\n",
    "    pal_dict = {i:label_pal_dict[j] for i,j in label_dict.items()}\n",
    "    ax2.axis('off')\n",
    "    plot_network_graph(\n",
    "        elements, projections, sequence_ids, color_palette=\"tab20\", ax=ax2, pal_dict=pal_dict  \n",
    "    )\n",
    "\n",
    "  \n",
    "    \n",
    "ax1.set_title(\"A)\", loc='left', fontsize = 25)\n",
    "ax2.set_title(\"B)\", loc='left', fontsize = 25)\n",
    "# Shrink current axis by 20%\n",
    "box = ax2.get_position()\n",
    "ax2.set_position([box.x0, box.y0, box.width, box.height])\n",
    "legend = ax2.legend(loc='upper left', labels = label_dict, bbox_to_anchor=(0, 1), fontsize=18, frameon=False)\n",
    "handles = legend.legendHandles\n",
    "# There are many more hatches available in matplotlib\n",
    "colors = ['crimson', 'thistle','indigo', 'orchid']\n",
    "for i, handle in enumerate(handles):\n",
    "    handle.set_edgecolor(colors[i]) # set_edgecolors\n",
    "    handle.set_facecolor(colors[i])\n",
    "    #handle.set_alpha(0.7)\n",
    "\n",
    "save_loc = (FIGURE_DIR / 'manuscript' / 'Figures' / 'Figure_4_050722_probabilities.jpeg')\n",
    "ensure_dir(save_loc.as_posix())\n",
    "save_fig(save_loc, dpi=600, save_jpg=False)\n",
    "plt.show()"
   ]
  },
  {
   "cell_type": "code",
   "execution_count": null,
   "id": "39fa464b",
   "metadata": {},
   "outputs": [],
   "source": []
  },
  {
   "cell_type": "code",
   "execution_count": null,
   "id": "1e3d5a32",
   "metadata": {},
   "outputs": [],
   "source": []
  }
 ],
 "metadata": {
  "kernelspec": {
   "display_name": "Python 3",
   "language": "python",
   "name": "python3"
  },
  "language_info": {
   "codemirror_mode": {
    "name": "ipython",
    "version": 3
   },
   "file_extension": ".py",
   "mimetype": "text/x-python",
   "name": "python",
   "nbconvert_exporter": "python",
   "pygments_lexer": "ipython3",
   "version": "3.6.13"
  }
 },
 "nbformat": 4,
 "nbformat_minor": 5
}
