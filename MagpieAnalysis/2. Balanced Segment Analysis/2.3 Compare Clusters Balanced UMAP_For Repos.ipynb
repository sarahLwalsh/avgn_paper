{
 "cells": [
  {
   "cell_type": "markdown",
   "id": "6e166425",
   "metadata": {},
   "source": [
    "# Evaluate clusters for balanced UMAP"
   ]
  },
  {
   "cell_type": "markdown",
   "id": "5ac0ad3a",
   "metadata": {},
   "source": [
    "Here, we compare the clusters in the balanced UMAP to our labelled predictors. We use silhouette score and kruskal-wallis score (as performed in previous notebooks). "
   ]
  },
  {
   "cell_type": "code",
   "execution_count": 1,
   "id": "fbe73b12",
   "metadata": {},
   "outputs": [],
   "source": [
    "import numpy as np\n",
    "import matplotlib.pyplot as plt\n",
    "%matplotlib inline\n",
    "from tqdm.auto import tqdm\n",
    "from joblib import Parallel, delayed\n",
    "import umap\n",
    "import pandas as pd"
   ]
  },
  {
   "cell_type": "code",
   "execution_count": 2,
   "id": "1085c19d",
   "metadata": {},
   "outputs": [],
   "source": [
    "import avgn"
   ]
  },
  {
   "cell_type": "code",
   "execution_count": 3,
   "id": "86977f86",
   "metadata": {},
   "outputs": [],
   "source": [
    "from avgn.utils.paths import DATA_DIR, most_recent_subdirectory, ensure_dir, FIGURE_DIR\n",
    "from avgn.signalprocessing.create_spectrogram_dataset import flatten_spectrograms\n",
    "from avgn.visualization.spectrogram import draw_spec_set\n",
    "from avgn.visualization.projections import scatter_spec\n",
    "from avgn.utils.general import save_fig"
   ]
  },
  {
   "cell_type": "code",
   "execution_count": 4,
   "id": "791cb0e6",
   "metadata": {},
   "outputs": [],
   "source": [
    "from scipy.stats import kruskal\n",
    "from sklearn.metrics import silhouette_score, silhouette_samples"
   ]
  },
  {
   "cell_type": "code",
   "execution_count": 5,
   "id": "5bfbc7c4",
   "metadata": {},
   "outputs": [],
   "source": [
    "DATASET_ID = \"git_repos\""
   ]
  },
  {
   "cell_type": "code",
   "execution_count": 6,
   "id": "780f0083",
   "metadata": {},
   "outputs": [],
   "source": [
    "DT_ID = '2022-03-04_18-41-29'"
   ]
  },
  {
   "cell_type": "code",
   "execution_count": 7,
   "id": "89ad2ff0",
   "metadata": {},
   "outputs": [
    {
     "data": {
      "text/html": [
       "<div>\n",
       "<style scoped>\n",
       "    .dataframe tbody tr th:only-of-type {\n",
       "        vertical-align: middle;\n",
       "    }\n",
       "\n",
       "    .dataframe tbody tr th {\n",
       "        vertical-align: top;\n",
       "    }\n",
       "\n",
       "    .dataframe thead th {\n",
       "        text-align: right;\n",
       "    }\n",
       "</style>\n",
       "<table border=\"1\" class=\"dataframe\">\n",
       "  <thead>\n",
       "    <tr style=\"text-align: right;\">\n",
       "      <th></th>\n",
       "      <th>start_time</th>\n",
       "      <th>end_time</th>\n",
       "      <th>labels</th>\n",
       "      <th>ID</th>\n",
       "      <th>start_times</th>\n",
       "      <th>end_times</th>\n",
       "      <th>call_label</th>\n",
       "      <th>call_start</th>\n",
       "      <th>seg_pos_call</th>\n",
       "      <th>call_unique_num</th>\n",
       "      <th>...</th>\n",
       "      <th>location</th>\n",
       "      <th>sex</th>\n",
       "      <th>wav_loc</th>\n",
       "      <th>key</th>\n",
       "      <th>rate</th>\n",
       "      <th>specs</th>\n",
       "      <th>comb_labels</th>\n",
       "      <th>call_lab_simp</th>\n",
       "      <th>combi_lab_simp</th>\n",
       "      <th>umap</th>\n",
       "    </tr>\n",
       "  </thead>\n",
       "  <tbody>\n",
       "    <tr>\n",
       "      <th>3</th>\n",
       "      <td>0.338289</td>\n",
       "      <td>0.439778</td>\n",
       "      <td>NL</td>\n",
       "      <td>26</td>\n",
       "      <td>0.338289</td>\n",
       "      <td>0.439778</td>\n",
       "      <td>NLSHDS</td>\n",
       "      <td>0.338289</td>\n",
       "      <td>0</td>\n",
       "      <td>11</td>\n",
       "      <td>...</td>\n",
       "      <td>CRAWLEY</td>\n",
       "      <td>F</td>\n",
       "      <td>C:/Users/slwal/anaconda3/envs/PY36/avgn_paper-...</td>\n",
       "      <td>BWY MGGY Excitement 2 170519 PM</td>\n",
       "      <td>44100</td>\n",
       "      <td>[[0.0, 0.0, 0.0, 0.0, 0.0, 0.0, 0.0, 0.0, 0.0,...</td>\n",
       "      <td>NL</td>\n",
       "      <td>NL-SH-DS</td>\n",
       "      <td>DS-SH-DS NL-SH-DS</td>\n",
       "      <td>[7.156554, 7.9771276]</td>\n",
       "    </tr>\n",
       "    <tr>\n",
       "      <th>0</th>\n",
       "      <td>0.020744</td>\n",
       "      <td>0.165861</td>\n",
       "      <td>NL</td>\n",
       "      <td>29</td>\n",
       "      <td>0.020744</td>\n",
       "      <td>0.165861</td>\n",
       "      <td>NLDS</td>\n",
       "      <td>0.020744</td>\n",
       "      <td>0</td>\n",
       "      <td>12</td>\n",
       "      <td>...</td>\n",
       "      <td>CRAWLEY</td>\n",
       "      <td>F</td>\n",
       "      <td>C:/Users/slwal/anaconda3/envs/PY36/avgn_paper-...</td>\n",
       "      <td>MGGY Alarm Alert series 1 100717</td>\n",
       "      <td>44100</td>\n",
       "      <td>[[0.0, 0.0, 0.0, 0.0, 0.0, 0.0, 0.0, 0.0, 0.0,...</td>\n",
       "      <td>NL</td>\n",
       "      <td>NL-DS</td>\n",
       "      <td>NL-DS DS-SH-DS SH-LH</td>\n",
       "      <td>[8.166741, 8.955216]</td>\n",
       "    </tr>\n",
       "    <tr>\n",
       "      <th>3</th>\n",
       "      <td>0.349618</td>\n",
       "      <td>0.443789</td>\n",
       "      <td>NL</td>\n",
       "      <td>51</td>\n",
       "      <td>0.349618</td>\n",
       "      <td>0.443789</td>\n",
       "      <td>NLSHDS</td>\n",
       "      <td>0.349618</td>\n",
       "      <td>0</td>\n",
       "      <td>20</td>\n",
       "      <td>...</td>\n",
       "      <td>CRAWLEY</td>\n",
       "      <td>F</td>\n",
       "      <td>C:/Users/slwal/anaconda3/envs/PY36/avgn_paper-...</td>\n",
       "      <td>MGGY Alert 2 070817</td>\n",
       "      <td>44100</td>\n",
       "      <td>[[0.0, 0.0, 0.0, 0.0, 0.0, 0.0, 0.0, 0.0, 0.0,...</td>\n",
       "      <td>NL</td>\n",
       "      <td>NL-SH-DS</td>\n",
       "      <td>DS-SH-DS NL-SH-DS SH-DS LH</td>\n",
       "      <td>[6.8037395, 9.888577]</td>\n",
       "    </tr>\n",
       "  </tbody>\n",
       "</table>\n",
       "<p>3 rows × 29 columns</p>\n",
       "</div>"
      ],
      "text/plain": [
       "   start_time  end_time labels  ID  start_times  end_times call_label  \\\n",
       "3    0.338289  0.439778     NL  26     0.338289   0.439778     NLSHDS   \n",
       "0    0.020744  0.165861     NL  29     0.020744   0.165861       NLDS   \n",
       "3    0.349618  0.443789     NL  51     0.349618   0.443789     NLSHDS   \n",
       "\n",
       "   call_start  seg_pos_call  call_unique_num  ...  location sex  \\\n",
       "3    0.338289             0               11  ...   CRAWLEY   F   \n",
       "0    0.020744             0               12  ...   CRAWLEY   F   \n",
       "3    0.349618             0               20  ...   CRAWLEY   F   \n",
       "\n",
       "                                             wav_loc  \\\n",
       "3  C:/Users/slwal/anaconda3/envs/PY36/avgn_paper-...   \n",
       "0  C:/Users/slwal/anaconda3/envs/PY36/avgn_paper-...   \n",
       "3  C:/Users/slwal/anaconda3/envs/PY36/avgn_paper-...   \n",
       "\n",
       "                                key   rate  \\\n",
       "3   BWY MGGY Excitement 2 170519 PM  44100   \n",
       "0  MGGY Alarm Alert series 1 100717  44100   \n",
       "3               MGGY Alert 2 070817  44100   \n",
       "\n",
       "                                               specs  comb_labels  \\\n",
       "3  [[0.0, 0.0, 0.0, 0.0, 0.0, 0.0, 0.0, 0.0, 0.0,...           NL   \n",
       "0  [[0.0, 0.0, 0.0, 0.0, 0.0, 0.0, 0.0, 0.0, 0.0,...           NL   \n",
       "3  [[0.0, 0.0, 0.0, 0.0, 0.0, 0.0, 0.0, 0.0, 0.0,...           NL   \n",
       "\n",
       "  call_lab_simp              combi_lab_simp                   umap  \n",
       "3      NL-SH-DS           DS-SH-DS NL-SH-DS  [7.156554, 7.9771276]  \n",
       "0         NL-DS        NL-DS DS-SH-DS SH-LH   [8.166741, 8.955216]  \n",
       "3      NL-SH-DS  DS-SH-DS NL-SH-DS SH-DS LH  [6.8037395, 9.888577]  \n",
       "\n",
       "[3 rows x 29 columns]"
      ]
     },
     "execution_count": 7,
     "metadata": {},
     "output_type": "execute_result"
    }
   ],
   "source": [
    "seg_df = pd.read_pickle(DATA_DIR / DATASET_ID /  'UMAP_balanced_df.pickle')\n",
    "seg_df[:3]"
   ]
  },
  {
   "cell_type": "code",
   "execution_count": 10,
   "id": "b57f2527",
   "metadata": {},
   "outputs": [
    {
     "data": {
      "text/plain": [
       "692"
      ]
     },
     "execution_count": 10,
     "metadata": {},
     "output_type": "execute_result"
    }
   ],
   "source": [
    "len(seg_df)"
   ]
  },
  {
   "cell_type": "markdown",
   "id": "96e13c9b",
   "metadata": {},
   "source": [
    "### Get specs"
   ]
  },
  {
   "cell_type": "code",
   "execution_count": 11,
   "id": "6f035d03",
   "metadata": {},
   "outputs": [],
   "source": [
    "def norm(x):\n",
    "    return (x-np.min(x)) / (np.max(x) - np.min(x))"
   ]
  },
  {
   "cell_type": "code",
   "execution_count": 13,
   "id": "2785f6d5",
   "metadata": {},
   "outputs": [
    {
     "data": {
      "application/vnd.jupyter.widget-view+json": {
       "model_id": "7a7fd45356b443c18e801e407bc22b2d",
       "version_major": 2,
       "version_minor": 0
      },
      "text/plain": [
       "  0%|          | 0/692 [00:00<?, ?it/s]"
      ]
     },
     "metadata": {},
     "output_type": "display_data"
    }
   ],
   "source": [
    "specs = list(seg_df.spectrogram.values)\n",
    "specs = [norm(i) for i in tqdm(specs)]"
   ]
  },
  {
   "cell_type": "markdown",
   "id": "d6e7d1c4",
   "metadata": {},
   "source": [
    "### Project UMAP"
   ]
  },
  {
   "cell_type": "code",
   "execution_count": null,
   "id": "ec56c54b",
   "metadata": {},
   "outputs": [],
   "source": [
    "colors = [\"darkslategrey\", \"seagreen\", \"olivedrab\", \"yellowgreen\"]\n",
    "nex = -1\n",
    "scatter_spec(\n",
    "    np.array(list(seg_df['umap'].values)),\n",
    "    specs,\n",
    "    column_size=12,\n",
    "    x_range = [0,13],\n",
    "    y_range = [-1,12],\n",
    "    pal_color=\"hls\",\n",
    "    color_points=False,\n",
    "    enlarge_points=0,\n",
    "    figsize=(10, 10),\n",
    "    range_pad = 0.15,\n",
    "    scatter_kwargs = {\n",
    "        'labels': seg_df.comb_labels.values,\n",
    "        'alpha':1,\n",
    "        's': 3,\n",
    "        'show_legend': True,\n",
    "        \"color_palette\": colors,\n",
    "    },\n",
    "    matshow_kwargs = {\n",
    "        'cmap': plt.cm.Greys\n",
    "    },\n",
    "    line_kwargs = {\n",
    "        'lw':0.5,\n",
    "        'ls':\"dashed\",\n",
    "        'alpha':0.25,\n",
    "    },\n",
    "    draw_lines=True,\n",
    "    n_subset= 1000,\n",
    "    border_line_width = 3,\n",
    "    \n",
    "\n",
    ");\n",
    "\n",
    "save_loc = (FIGURE_DIR / DATASET_ID / 'Figures' / 'Balanced Segment UMAP.jpeg')\n",
    "ensure_dir(save_loc.as_posix())\n",
    "save_fig(save_loc, dpi=600, save_jpg=True)"
   ]
  },
  {
   "cell_type": "code",
   "execution_count": null,
   "id": "171565db",
   "metadata": {},
   "outputs": [],
   "source": [
    "nex = -1\n",
    "scatter_spec(\n",
    "    np.array(list(seg_df['umap'].values)),\n",
    "    specs,\n",
    "    column_size=12,\n",
    "    x_range = [0,13],\n",
    "    y_range = [-1,12],\n",
    "    pal_color=\"hls\",\n",
    "    color_points=False,\n",
    "    enlarge_points=0,\n",
    "    figsize=(10, 10),\n",
    "    range_pad = 0.15,\n",
    "    scatter_kwargs = {\n",
    "        'labels': seg_df.labels.values,\n",
    "        'alpha':1,\n",
    "        's': 3,\n",
    "        'show_legend': True,\n",
    "        \"color_palette\": \"deep\",\n",
    "    },\n",
    "    matshow_kwargs = {\n",
    "        'cmap': plt.cm.Greys\n",
    "    },\n",
    "    line_kwargs = {\n",
    "        'lw':0.5,\n",
    "        'ls':\"dashed\",\n",
    "        'alpha':0.25,\n",
    "    },\n",
    "    draw_lines=True,\n",
    "    n_subset= 1000,\n",
    "    border_line_width = 3,\n",
    "    \n",
    "\n",
    ");"
   ]
  },
  {
   "cell_type": "markdown",
   "id": "662cf469",
   "metadata": {},
   "source": [
    "#### Calculate Silhouette Score"
   ]
  },
  {
   "cell_type": "code",
   "execution_count": 67,
   "id": "33f842ef",
   "metadata": {
    "scrolled": true
   },
   "outputs": [],
   "source": [
    "labelscore = silhouette_score(list(np.array(list(seg_df['umap'].values))), labels = seg_df.labels.values)\n",
    "comblabelscore = silhouette_score(list(np.array(list(seg_df['umap'].values))), labels = seg_df.comb_labels.values)\n",
    "indvscore = silhouette_score(list(np.array(list(seg_df['umap'].values))), labels = seg_df.indv.values)\n",
    "groupscore = silhouette_score(list(np.array(list(seg_df['umap'].values))), labels = seg_df.group.values)\n",
    "locscore = silhouette_score(list(np.array(list(seg_df['umap'].values))), labels = seg_df.location.values)\n",
    "sexscore = silhouette_score(list(np.array(list(seg_df['umap'].values))), labels = seg_df.sex.values)\n",
    "callscore = silhouette_score(list(np.array(list(seg_df['umap'].values))), labels = seg_df.call_lab_simp.values)"
   ]
  },
  {
   "cell_type": "code",
   "execution_count": null,
   "id": "af32dca0",
   "metadata": {},
   "outputs": [],
   "source": [
    "d = {'Test Result': ['S'], 'Label': [labelscore], 'Comb_Label': [comblabelscore], 'Indv': [indvscore], \n",
    "      'Group': [groupscore], 'Study Site': [locscore], 'Sex': [sexscore], 'Call': [callscore]}\n",
    "df = pd.DataFrame(d)\n",
    "df"
   ]
  },
  {
   "cell_type": "markdown",
   "id": "52501ebd",
   "metadata": {},
   "source": [
    "#### Calculate Kruskal-Wallis H test score"
   ]
  },
  {
   "cell_type": "code",
   "execution_count": 27,
   "id": "41cb0ab3",
   "metadata": {},
   "outputs": [],
   "source": [
    "samples = silhouette_samples(list(np.array(list(seg_df['umap'].values))), labels = seg_df.labels.values)\n",
    "chance_samples = silhouette_samples(list(np.array(list(seg_df['umap'].values))), labels = np.random.permutation(seg_df.labels.values))"
   ]
  },
  {
   "cell_type": "code",
   "execution_count": null,
   "id": "75e5462d",
   "metadata": {},
   "outputs": [],
   "source": [
    "KWlabels = kruskal(samples, chance_samples)\n",
    "KWlabels"
   ]
  },
  {
   "cell_type": "code",
   "execution_count": 30,
   "id": "b927e9cf",
   "metadata": {},
   "outputs": [],
   "source": [
    "samples = silhouette_samples(list(np.array(list(seg_df['umap'].values))), labels = seg_df.comb_labels.values)\n",
    "chance_samples = silhouette_samples(list(np.array(list(seg_df['umap'].values))), labels = np.random.permutation(seg_df.comb_labels.values))"
   ]
  },
  {
   "cell_type": "code",
   "execution_count": null,
   "id": "521ad01c",
   "metadata": {
    "scrolled": true
   },
   "outputs": [],
   "source": [
    "KWcomblab = kruskal(samples, chance_samples)\n",
    "KWcomblab"
   ]
  },
  {
   "cell_type": "code",
   "execution_count": 32,
   "id": "2723b66a",
   "metadata": {},
   "outputs": [],
   "source": [
    "samples = silhouette_samples(list(np.array(list(seg_df['umap'].values))), labels = seg_df.indv.values)\n",
    "chance_samples = silhouette_samples(list(np.array(list(seg_df['umap'].values))), labels = np.random.permutation(seg_df.indv.values))"
   ]
  },
  {
   "cell_type": "code",
   "execution_count": null,
   "id": "cdfdb610",
   "metadata": {
    "scrolled": true
   },
   "outputs": [],
   "source": [
    "KWindv = kruskal(samples, chance_samples)\n",
    "KWindv"
   ]
  },
  {
   "cell_type": "code",
   "execution_count": 36,
   "id": "0ae60c1e",
   "metadata": {},
   "outputs": [],
   "source": [
    "samples = silhouette_samples(list(np.array(list(seg_df['umap'].values))), labels = seg_df.group.values)\n",
    "chance_samples = silhouette_samples(list(np.array(list(seg_df['umap'].values))), labels = np.random.permutation(seg_df.group.values))"
   ]
  },
  {
   "cell_type": "code",
   "execution_count": null,
   "id": "23e85a80",
   "metadata": {},
   "outputs": [],
   "source": [
    "KWgroup = kruskal(samples, chance_samples)\n",
    "KWgroup"
   ]
  },
  {
   "cell_type": "code",
   "execution_count": 38,
   "id": "da18fa90",
   "metadata": {},
   "outputs": [],
   "source": [
    "samples = silhouette_samples(list(np.array(list(seg_df['umap'].values))), labels = seg_df.location.values)\n",
    "chance_samples = silhouette_samples(list(np.array(list(seg_df['umap'].values))), labels = np.random.permutation(seg_df.location.values))"
   ]
  },
  {
   "cell_type": "code",
   "execution_count": null,
   "id": "504e907e",
   "metadata": {},
   "outputs": [],
   "source": [
    "KWloc = kruskal(samples, chance_samples)\n",
    "KWloc"
   ]
  },
  {
   "cell_type": "code",
   "execution_count": 40,
   "id": "73f2ab54",
   "metadata": {},
   "outputs": [],
   "source": [
    "samples = silhouette_samples(list(np.array(list(seg_df['umap'].values))), labels = seg_df.sex.values)\n",
    "chance_samples = silhouette_samples(list(np.array(list(seg_df['umap'].values))), labels = np.random.permutation(seg_df.sex.values))"
   ]
  },
  {
   "cell_type": "code",
   "execution_count": null,
   "id": "fa9bf1ba",
   "metadata": {},
   "outputs": [],
   "source": [
    "KWsex = kruskal(samples, chance_samples)\n",
    "KWsex"
   ]
  },
  {
   "cell_type": "code",
   "execution_count": 54,
   "id": "7c244cb9",
   "metadata": {},
   "outputs": [],
   "source": [
    "samples = silhouette_samples(list(np.array(list(seg_df['umap'].values))), labels = seg_df.call_lab_simp.values)\n",
    "chance_samples = silhouette_samples(list(np.array(list(seg_df['umap'].values))), labels = np.random.permutation(seg_df.call_lab_simp.values))"
   ]
  },
  {
   "cell_type": "code",
   "execution_count": null,
   "id": "f55c013d",
   "metadata": {},
   "outputs": [],
   "source": [
    "KWcall = kruskal(samples, chance_samples)\n",
    "KWcall"
   ]
  },
  {
   "cell_type": "code",
   "execution_count": null,
   "id": "a823a372",
   "metadata": {},
   "outputs": [],
   "source": [
    "d = {'Test_Result': ['S', 'KW_stat', 'KW_pval'], 'Labels': [labelscore, KWlabels.statistic, KWlabels.pvalue], \n",
    "     'Comb_Labels': [comblabelscore, KWcomblab.statistic, KWcomblab.pvalue], 'Indv': [indvscore, KWindv.statistic, KWindv.pvalue],\n",
    "     'Group': [groupscore, KWgroup.statistic, KWgroup.pvalue], 'Study Site': [locscore, KWloc.statistic, KWloc.pvalue],\n",
    "    'Sex': [sexscore, KWsex.statistic, KWsex.pvalue], 'Call': [callscore, KWcall.statistic, KWcall.pvalue]}\n",
    "df = pd.DataFrame(d)\n",
    "df"
   ]
  },
  {
   "cell_type": "markdown",
   "id": "55535c5b",
   "metadata": {},
   "source": [
    "## Closer look into silhouette score"
   ]
  },
  {
   "cell_type": "code",
   "execution_count": 71,
   "id": "b8e0ba14",
   "metadata": {},
   "outputs": [],
   "source": [
    "from avgn.clusterability.silhouette import nn, sil, plot_within_without"
   ]
  },
  {
   "cell_type": "code",
   "execution_count": 78,
   "id": "7cd66311",
   "metadata": {},
   "outputs": [],
   "source": [
    "# labels\n",
    "labels = seg_df['comb_labels']"
   ]
  },
  {
   "cell_type": "code",
   "execution_count": 79,
   "id": "83b37e40",
   "metadata": {},
   "outputs": [],
   "source": [
    "embedding = np.asarray(list(seg_df['umap'])) # UMAP coordinates"
   ]
  },
  {
   "cell_type": "code",
   "execution_count": 80,
   "id": "7540ddb4",
   "metadata": {},
   "outputs": [],
   "source": [
    "knn=5 #  for knn=5 nearest neighbors\n",
    "\n",
    "nn_stats = nn(embedding, np.asarray(labels), k=knn)"
   ]
  },
  {
   "cell_type": "code",
   "execution_count": null,
   "id": "60df46dc",
   "metadata": {},
   "outputs": [],
   "source": [
    "# Summary scores\n",
    "print(\"Evaluation score S (unweighted average of same-class probability P for all classes):\",round(nn_stats.get_S(),3))\n",
    "print(\"Evaluation score Snorm (unweighted average of normalized same-class probability Pnorm for all classes)::\",round(nn_stats.get_Snorm(),3))"
   ]
  },
  {
   "cell_type": "code",
   "execution_count": 82,
   "id": "e11e51f1",
   "metadata": {},
   "outputs": [],
   "source": [
    "import seaborn as sns"
   ]
  },
  {
   "cell_type": "markdown",
   "id": "552c4c24",
   "metadata": {},
   "source": [
    "## 2.3. Plot nearest neighbor metrics"
   ]
  },
  {
   "cell_type": "code",
   "execution_count": null,
   "id": "a7ad0200",
   "metadata": {},
   "outputs": [],
   "source": [
    "nn_stats.plot_heat_S(vmin=0,       # lower end (for color scheme)\n",
    "                     vmax=100,     # upper end (for color scheme)\n",
    "                     center=50,    # center(for color scheme)\n",
    "                     cmap=sns.color_palette(\"Greens\", as_cmap=True),# color scheme \n",
    "                     cbar=None,    # show colorbar if True else don't\n",
    "                     outname=None) # filename (with path) where figure will be saved. Default: None -> figure not saved"
   ]
  },
  {
   "cell_type": "markdown",
   "id": "d843db2c",
   "metadata": {},
   "source": [
    "### 2.3.2. Normalized score"
   ]
  },
  {
   "cell_type": "code",
   "execution_count": null,
   "id": "715bd838",
   "metadata": {},
   "outputs": [],
   "source": [
    "nn_stats.plot_heat_fold(center=1,    # center(for color scheme)\n",
    "                        cmap=sns.diverging_palette(20, 145, as_cmap=True),# color scheme \n",
    "                        cbar=None,    # show colorbar if True else don't\n",
    "                        outname=None) # filename (with path) where figure will be saved. Default: None -> figure not saved"
   ]
  },
  {
   "cell_type": "markdown",
   "id": "e4266a37",
   "metadata": {},
   "source": [
    "## 2.3.3. Normalized, log-transformed score"
   ]
  },
  {
   "cell_type": "code",
   "execution_count": null,
   "id": "7e90a25f",
   "metadata": {},
   "outputs": [],
   "source": [
    "nn_stats.plot_heat_Snorm(vmin=-13,     # lower end (for color scheme)\n",
    "                         vmax=13,      # upper end (for color scheme)\n",
    "                         center=1,     # center(for color scheme)\n",
    "                         cmap=sns.diverging_palette(20, 145, as_cmap=True),# color scheme \n",
    "                         cbar=None,    # show colorbar if True else don't\n",
    "                         outname=None) # filename (with path) where figure will be saved. Default: None -> figure not saved"
   ]
  },
  {
   "cell_type": "markdown",
   "id": "6c2155f8",
   "metadata": {},
   "source": [
    "## 3. Evaluation based on pairwise distances"
   ]
  },
  {
   "cell_type": "code",
   "execution_count": null,
   "id": "8b335fb9",
   "metadata": {},
   "outputs": [],
   "source": [
    "plot_within_without(embedding=embedding,         # latent space coordinates (2D numpy array)\n",
    "                    labels=labels,               # calltype labels\n",
    "                    distance_metric='euclidean', # distance metric (all scipy distance metrics are valid)\n",
    "                    outname=None,                # filename (with path) where figure will be saved. Default: None -> figure not saved\n",
    "                    xmin=0,xmax=12,              # xaxis minimum and maximum\n",
    "                    ymax=0.5,                    # yaxis maximum\n",
    "                    nbins=50,                    # number of bins\n",
    "                    nrows=4,                     # number of rows of subplots\n",
    "                    ncols=2,                     # number of cols of subplots\n",
    "                    density=True)                # plot density if True else plot frequency"
   ]
  },
  {
   "cell_type": "markdown",
   "id": "396b4621",
   "metadata": {},
   "source": [
    "## 4. Silhouette Plot"
   ]
  },
  {
   "cell_type": "code",
   "execution_count": 87,
   "id": "8168d7b3",
   "metadata": {},
   "outputs": [],
   "source": [
    "sil_stats = sil(embedding, labels)"
   ]
  },
  {
   "cell_type": "code",
   "execution_count": null,
   "id": "af3dca48",
   "metadata": {
    "scrolled": true
   },
   "outputs": [],
   "source": [
    "sil_stats.plot_sil(outname=None) # filename (with path) where figure will be saved. Default: None -> figure not saved"
   ]
  },
  {
   "cell_type": "code",
   "execution_count": null,
   "id": "e21c7117",
   "metadata": {},
   "outputs": [],
   "source": [
    "sil_stats.get_avrg_score()"
   ]
  },
  {
   "cell_type": "code",
   "execution_count": null,
   "id": "4ebb2fd2",
   "metadata": {},
   "outputs": [],
   "source": []
  }
 ],
 "metadata": {
  "kernelspec": {
   "display_name": "Python 3",
   "language": "python",
   "name": "python3"
  },
  "language_info": {
   "codemirror_mode": {
    "name": "ipython",
    "version": 3
   },
   "file_extension": ".py",
   "mimetype": "text/x-python",
   "name": "python",
   "nbconvert_exporter": "python",
   "pygments_lexer": "ipython3",
   "version": "3.6.13"
  }
 },
 "nbformat": 4,
 "nbformat_minor": 5
}
