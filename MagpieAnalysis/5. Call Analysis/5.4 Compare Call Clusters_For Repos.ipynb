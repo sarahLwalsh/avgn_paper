{
 "cells": [
  {
   "cell_type": "markdown",
   "id": "d51d436c",
   "metadata": {},
   "source": [
    "# Compare call clusters\n",
    "Here, we use silhouette score and kruskal-wallis H test to evaluate whether any of the labelled predictors can describe distribution of data in the model."
   ]
  },
  {
   "cell_type": "code",
   "execution_count": 1,
   "id": "516a2406",
   "metadata": {},
   "outputs": [],
   "source": [
    "import numpy as np\n",
    "import matplotlib.pyplot as plt\n",
    "%matplotlib inline\n",
    "from tqdm.auto import tqdm\n",
    "from joblib import Parallel, delayed\n",
    "import pandas as pd"
   ]
  },
  {
   "cell_type": "code",
   "execution_count": 2,
   "id": "1085c19d",
   "metadata": {},
   "outputs": [],
   "source": [
    "import avgn"
   ]
  },
  {
   "cell_type": "code",
   "execution_count": 3,
   "id": "86977f86",
   "metadata": {},
   "outputs": [],
   "source": [
    "from avgn.utils.paths import DATA_DIR, most_recent_subdirectory, ensure_dir, FIGURE_DIR\n",
    "from avgn.visualization.spectrogram import draw_spec_set\n",
    "from avgn.utils.general import save_fig"
   ]
  },
  {
   "cell_type": "code",
   "execution_count": 4,
   "id": "5b235633",
   "metadata": {},
   "outputs": [],
   "source": [
    "from scipy.stats import kruskal\n",
    "from sklearn.metrics import silhouette_score, silhouette_samples"
   ]
  },
  {
   "cell_type": "code",
   "execution_count": 5,
   "id": "5bfbc7c4",
   "metadata": {},
   "outputs": [],
   "source": [
    "DATASET_ID = \"git_repos_call\""
   ]
  },
  {
   "cell_type": "code",
   "execution_count": 6,
   "id": "780f0083",
   "metadata": {},
   "outputs": [],
   "source": [
    "DT_ID = '2022-03-12_17-46-00'"
   ]
  },
  {
   "cell_type": "markdown",
   "id": "31a8c326",
   "metadata": {},
   "source": [
    "## Call Dataframe"
   ]
  },
  {
   "cell_type": "code",
   "execution_count": 7,
   "id": "89ad2ff0",
   "metadata": {},
   "outputs": [
    {
     "data": {
      "text/html": [
       "<div>\n",
       "<style scoped>\n",
       "    .dataframe tbody tr th:only-of-type {\n",
       "        vertical-align: middle;\n",
       "    }\n",
       "\n",
       "    .dataframe tbody tr th {\n",
       "        vertical-align: top;\n",
       "    }\n",
       "\n",
       "    .dataframe thead th {\n",
       "        text-align: right;\n",
       "    }\n",
       "</style>\n",
       "<table border=\"1\" class=\"dataframe\">\n",
       "  <thead>\n",
       "    <tr style=\"text-align: right;\">\n",
       "      <th></th>\n",
       "      <th>start_time</th>\n",
       "      <th>end_time</th>\n",
       "      <th>labels</th>\n",
       "      <th>indv</th>\n",
       "      <th>indvi</th>\n",
       "      <th>filename</th>\n",
       "      <th>group</th>\n",
       "      <th>location</th>\n",
       "      <th>sex</th>\n",
       "      <th>wav_loc</th>\n",
       "      <th>...</th>\n",
       "      <th>rate</th>\n",
       "      <th>comb_labels</th>\n",
       "      <th>umap</th>\n",
       "      <th>spectrogram</th>\n",
       "      <th>call_lab_simp</th>\n",
       "      <th>combi_lab_simp</th>\n",
       "      <th>call_unique_num</th>\n",
       "      <th>call_pos_combi</th>\n",
       "      <th>combi_label</th>\n",
       "      <th>combi_unique_num</th>\n",
       "    </tr>\n",
       "    <tr>\n",
       "      <th>ID</th>\n",
       "      <th></th>\n",
       "      <th></th>\n",
       "      <th></th>\n",
       "      <th></th>\n",
       "      <th></th>\n",
       "      <th></th>\n",
       "      <th></th>\n",
       "      <th></th>\n",
       "      <th></th>\n",
       "      <th></th>\n",
       "      <th></th>\n",
       "      <th></th>\n",
       "      <th></th>\n",
       "      <th></th>\n",
       "      <th></th>\n",
       "      <th></th>\n",
       "      <th></th>\n",
       "      <th></th>\n",
       "      <th></th>\n",
       "      <th></th>\n",
       "      <th></th>\n",
       "    </tr>\n",
       "  </thead>\n",
       "  <tbody>\n",
       "    <tr>\n",
       "      <th>0</th>\n",
       "      <td>0.753604</td>\n",
       "      <td>0.921160</td>\n",
       "      <td>DSSHDS</td>\n",
       "      <td>MGGY</td>\n",
       "      <td>0</td>\n",
       "      <td>BWY MGGY Call Combo 1 290719 PM</td>\n",
       "      <td>BWYa</td>\n",
       "      <td>CRAWLEY</td>\n",
       "      <td>F</td>\n",
       "      <td>C:/Users/slwal/anaconda3/envs/PY36/avgn_paper-...</td>\n",
       "      <td>...</td>\n",
       "      <td>44100</td>\n",
       "      <td>DSSHDS</td>\n",
       "      <td>[5.7770762, 7.997407]</td>\n",
       "      <td>[[0.0, 0.0, 0.0, 0.0, 0.0, 0.0, 0.0, 0.0, 0.0,...</td>\n",
       "      <td>DS-SH-DS</td>\n",
       "      <td>DS-SH-DS SH-LH</td>\n",
       "      <td>0</td>\n",
       "      <td>0</td>\n",
       "      <td>DSSHDS SHSHLH</td>\n",
       "      <td>0</td>\n",
       "    </tr>\n",
       "    <tr>\n",
       "      <th>1</th>\n",
       "      <td>0.932017</td>\n",
       "      <td>1.367130</td>\n",
       "      <td>SHSHLH</td>\n",
       "      <td>MGGY</td>\n",
       "      <td>0</td>\n",
       "      <td>BWY MGGY Call Combo 1 290719 PM</td>\n",
       "      <td>BWYa</td>\n",
       "      <td>CRAWLEY</td>\n",
       "      <td>F</td>\n",
       "      <td>C:/Users/slwal/anaconda3/envs/PY36/avgn_paper-...</td>\n",
       "      <td>...</td>\n",
       "      <td>44100</td>\n",
       "      <td>SHSHLH</td>\n",
       "      <td>[1.8122675, 5.094298]</td>\n",
       "      <td>[[0.0, 0.0, 0.0, 0.0, 0.0, 0.0, 0.0, 0.0, 0.0,...</td>\n",
       "      <td>SH-LH</td>\n",
       "      <td>DS-SH-DS SH-LH</td>\n",
       "      <td>1</td>\n",
       "      <td>1</td>\n",
       "      <td>DSSHDS SHSHLH</td>\n",
       "      <td>0</td>\n",
       "    </tr>\n",
       "    <tr>\n",
       "      <th>2</th>\n",
       "      <td>1.218085</td>\n",
       "      <td>1.308841</td>\n",
       "      <td>DS</td>\n",
       "      <td>MGGY</td>\n",
       "      <td>0</td>\n",
       "      <td>BWY MGGY Call Combo 1 300719 AM</td>\n",
       "      <td>BWYa</td>\n",
       "      <td>CRAWLEY</td>\n",
       "      <td>F</td>\n",
       "      <td>C:/Users/slwal/anaconda3/envs/PY36/avgn_paper-...</td>\n",
       "      <td>...</td>\n",
       "      <td>44100</td>\n",
       "      <td>DS</td>\n",
       "      <td>[9.353501, 10.055656]</td>\n",
       "      <td>[[0.0, 0.0, 0.0, 0.0, 0.0, 0.0, 0.0, 0.0, 0.0,...</td>\n",
       "      <td>DS</td>\n",
       "      <td>DS SH-LH</td>\n",
       "      <td>2</td>\n",
       "      <td>0</td>\n",
       "      <td>DS USC</td>\n",
       "      <td>1</td>\n",
       "    </tr>\n",
       "  </tbody>\n",
       "</table>\n",
       "<p>3 rows × 21 columns</p>\n",
       "</div>"
      ],
      "text/plain": [
       "    start_time  end_time  labels  indv  indvi  \\\n",
       "ID                                              \n",
       "0     0.753604  0.921160  DSSHDS  MGGY      0   \n",
       "1     0.932017  1.367130  SHSHLH  MGGY      0   \n",
       "2     1.218085  1.308841      DS  MGGY      0   \n",
       "\n",
       "                           filename group location sex  \\\n",
       "ID                                                       \n",
       "0   BWY MGGY Call Combo 1 290719 PM  BWYa  CRAWLEY   F   \n",
       "1   BWY MGGY Call Combo 1 290719 PM  BWYa  CRAWLEY   F   \n",
       "2   BWY MGGY Call Combo 1 300719 AM  BWYa  CRAWLEY   F   \n",
       "\n",
       "                                              wav_loc  ...   rate  \\\n",
       "ID                                                     ...          \n",
       "0   C:/Users/slwal/anaconda3/envs/PY36/avgn_paper-...  ...  44100   \n",
       "1   C:/Users/slwal/anaconda3/envs/PY36/avgn_paper-...  ...  44100   \n",
       "2   C:/Users/slwal/anaconda3/envs/PY36/avgn_paper-...  ...  44100   \n",
       "\n",
       "    comb_labels                   umap  \\\n",
       "ID                                       \n",
       "0        DSSHDS  [5.7770762, 7.997407]   \n",
       "1        SHSHLH  [1.8122675, 5.094298]   \n",
       "2            DS  [9.353501, 10.055656]   \n",
       "\n",
       "                                          spectrogram call_lab_simp  \\\n",
       "ID                                                                    \n",
       "0   [[0.0, 0.0, 0.0, 0.0, 0.0, 0.0, 0.0, 0.0, 0.0,...      DS-SH-DS   \n",
       "1   [[0.0, 0.0, 0.0, 0.0, 0.0, 0.0, 0.0, 0.0, 0.0,...         SH-LH   \n",
       "2   [[0.0, 0.0, 0.0, 0.0, 0.0, 0.0, 0.0, 0.0, 0.0,...            DS   \n",
       "\n",
       "    combi_lab_simp call_unique_num  call_pos_combi    combi_label  \\\n",
       "ID                                                                  \n",
       "0   DS-SH-DS SH-LH               0               0  DSSHDS SHSHLH   \n",
       "1   DS-SH-DS SH-LH               1               1  DSSHDS SHSHLH   \n",
       "2         DS SH-LH               2               0         DS USC   \n",
       "\n",
       "   combi_unique_num  \n",
       "ID                   \n",
       "0                 0  \n",
       "1                 0  \n",
       "2                 1  \n",
       "\n",
       "[3 rows x 21 columns]"
      ]
     },
     "execution_count": 7,
     "metadata": {},
     "output_type": "execute_result"
    }
   ],
   "source": [
    "call_df = pd.read_pickle(DATA_DIR / DATASET_ID / DT_ID /  'call_umap.pickle')\n",
    "call_df[:3]"
   ]
  },
  {
   "cell_type": "code",
   "execution_count": 8,
   "id": "b57f2527",
   "metadata": {},
   "outputs": [
    {
     "data": {
      "text/plain": [
       "561"
      ]
     },
     "execution_count": 8,
     "metadata": {},
     "output_type": "execute_result"
    }
   ],
   "source": [
    "len(call_df)"
   ]
  },
  {
   "cell_type": "markdown",
   "id": "8d98003d",
   "metadata": {},
   "source": [
    "## View UMAP"
   ]
  },
  {
   "cell_type": "code",
   "execution_count": 9,
   "id": "03cdff0b",
   "metadata": {},
   "outputs": [],
   "source": [
    "def norm(x):\n",
    "    return (x-np.min(x)) / (np.max(x) - np.min(x))"
   ]
  },
  {
   "cell_type": "code",
   "execution_count": 10,
   "id": "5e851495",
   "metadata": {},
   "outputs": [
    {
     "data": {
      "application/vnd.jupyter.widget-view+json": {
       "model_id": "4515b927a046412ea2c904cf73f40d64",
       "version_major": 2,
       "version_minor": 0
      },
      "text/plain": [
       "  0%|          | 0/561 [00:00<?, ?it/s]"
      ]
     },
     "metadata": {},
     "output_type": "display_data"
    }
   ],
   "source": [
    "#Get Specs\n",
    "specs = list(call_df.spectrogram.values)\n",
    "specs = [norm(i) for i in tqdm(specs)]"
   ]
  },
  {
   "cell_type": "code",
   "execution_count": 11,
   "id": "d96cc8ca",
   "metadata": {},
   "outputs": [],
   "source": [
    "from avgn.visualization.projections import scatter_spec"
   ]
  },
  {
   "cell_type": "code",
   "execution_count": null,
   "id": "c0390a50",
   "metadata": {},
   "outputs": [],
   "source": [
    "nex = -1\n",
    "scatter_spec(\n",
    "    np.array(list(call_df['umap'].values)),\n",
    "    specs,\n",
    "    column_size=10,\n",
    "    x_range = [-0.25,10.75],\n",
    "    y_range = [1.5,12.5],\n",
    "    pal_color=\"hls\",\n",
    "    color_points=False,\n",
    "    enlarge_points=0,\n",
    "    figsize=(12, 12),\n",
    "    range_pad = 0.15,\n",
    "    scatter_kwargs = {\n",
    "        'labels': call_df.call_lab_simp.values,\n",
    "        'alpha':0.8,\n",
    "        's':10,\n",
    "        'show_legend': True,\n",
    "        \"color_palette\": 'magma',\n",
    "    },\n",
    "    matshow_kwargs = {\n",
    "        'cmap': plt.cm.Greys\n",
    "    },\n",
    "    line_kwargs = {\n",
    "        'lw':0.5,\n",
    "        'ls':\"dashed\",\n",
    "        'alpha':0.25,\n",
    "    },\n",
    "    draw_lines=True,\n",
    "    n_subset= 1000,\n",
    "    border_line_width = 3,\n",
    "    \n",
    "\n",
    ");"
   ]
  },
  {
   "cell_type": "markdown",
   "id": "0df31683",
   "metadata": {},
   "source": [
    "Appears to be some correlation with groups of similar call labels and distribution across clusters, as such we will create a new variable to describe these groups:\n",
    "- calls containing an LH segment\n",
    "- calls consisting of only an NL segment\n",
    "- all other calls"
   ]
  },
  {
   "cell_type": "code",
   "execution_count": 13,
   "id": "2ac6264c",
   "metadata": {},
   "outputs": [],
   "source": [
    "call_df[\"simp\"] = call_df[\"call_lab_simp\"]"
   ]
  },
  {
   "cell_type": "code",
   "execution_count": 15,
   "id": "2360a1c6",
   "metadata": {},
   "outputs": [
    {
     "data": {
      "text/plain": [
       "array(['DS-SH-DS', 'SH-LH', 'DS', 'LH', 'NL-SH-DS', 'NL-DS',\n",
       "       'SH-DS-SH-DS', 'SH-DS', 'NL-DS-SH-DS', 'LH-DS', 'SH-DS-SH-LH',\n",
       "       'SH-DS-LH', 'SH-LH-DS', 'NL', 'SH-NL-DS', 'DS-SH-DS-SH-LH',\n",
       "       'SH-DS-SH', 'SH'], dtype=object)"
      ]
     },
     "execution_count": 15,
     "metadata": {},
     "output_type": "execute_result"
    }
   ],
   "source": [
    "call_df.simp.unique()"
   ]
  },
  {
   "cell_type": "code",
   "execution_count": 16,
   "id": "dfa8d910",
   "metadata": {},
   "outputs": [],
   "source": [
    "## Create conditions for all labels\n",
    "cond1 = call_df['simp'] == 'DS-SH-DS'\n",
    "cond2 = call_df['simp'] == 'SH-LH'\n",
    "cond3 = call_df['simp'] == 'DS'\n",
    "cond4 = call_df['simp'] == 'LH'\n",
    "cond5 = call_df['simp'] == 'NL-SH-DS'\n",
    "cond6 = call_df['simp'] == 'NL-DS'\n",
    "cond7 = call_df['simp'] == 'SH-DS-SH-DS'\n",
    "cond8 = call_df['simp'] == 'SH-DS'\n",
    "cond9 = call_df['simp'] == 'NL-DS-SH-DS'\n",
    "cond10 = call_df['simp'] == 'LH-DS'\n",
    "cond11 = call_df['simp'] == 'SH-DS-SH-LH'\n",
    "cond12 = call_df['simp'] == 'SH-DS-LH'\n",
    "cond13 = call_df['simp'] == 'SH-LH-DS'\n",
    "cond14 = call_df['simp'] == 'NL'\n",
    "cond15 = call_df['simp'] == 'SH-DS-SH'\n",
    "cond16 = call_df['simp'] == 'SH'\n",
    "cond17 = call_df['simp'] == 'SH-NL-DS'\n",
    "cond18 = call_df['simp'] == 'DS-SH-DS-SH-LH'"
   ]
  },
  {
   "cell_type": "code",
   "execution_count": 17,
   "id": "5b33aec2",
   "metadata": {},
   "outputs": [],
   "source": [
    "### Modify\n",
    "call_df.loc[cond1, 'simp'] = 'Other Calls'\n",
    "call_df.loc[cond2, 'simp'] = 'Contains LH Segment'\n",
    "call_df.loc[cond3, 'simp'] = 'Other Calls'\n",
    "call_df.loc[cond4, 'simp'] = 'Contains LH Segment'\n",
    "call_df.loc[cond5, 'simp'] = 'Other Calls'\n",
    "call_df.loc[cond6, 'simp'] = 'Other Calls'\n",
    "call_df.loc[cond7, 'simp'] = 'Other Calls'\n",
    "call_df.loc[cond8, 'simp'] = 'Other Calls'\n",
    "call_df.loc[cond9, 'simp'] = 'Other Calls'\n",
    "call_df.loc[cond10, 'simp'] = 'Contains LH Segment'\n",
    "call_df.loc[cond11, 'simp'] = 'Contains LH Segment'\n",
    "call_df.loc[cond12, 'simp'] = 'Contains LH Segment'\n",
    "call_df.loc[cond13, 'simp'] = 'Contains LH Segment'\n",
    "call_df.loc[cond14, 'simp'] = 'NL Segment Alone'\n",
    "call_df.loc[cond15, 'simp'] = 'Other Calls'\n",
    "call_df.loc[cond16, 'simp'] = 'Other Calls'\n",
    "call_df.loc[cond17, 'simp'] = 'Other Calls'\n",
    "call_df.loc[cond18, 'simp'] = 'Contains LH Segment'"
   ]
  },
  {
   "cell_type": "code",
   "execution_count": 18,
   "id": "a40814de",
   "metadata": {},
   "outputs": [
    {
     "data": {
      "text/plain": [
       "array(['Other Calls', 'Contains LH Segment', 'NL Segment Alone'],\n",
       "      dtype=object)"
      ]
     },
     "execution_count": 18,
     "metadata": {},
     "output_type": "execute_result"
    }
   ],
   "source": [
    "call_df.simp.unique()"
   ]
  },
  {
   "cell_type": "code",
   "execution_count": 19,
   "id": "84d95458",
   "metadata": {
    "scrolled": true
   },
   "outputs": [
    {
     "data": {
      "text/plain": [
       "561"
      ]
     },
     "execution_count": 19,
     "metadata": {},
     "output_type": "execute_result"
    }
   ],
   "source": [
    "len(call_df[\"simp\"])"
   ]
  },
  {
   "cell_type": "code",
   "execution_count": null,
   "id": "ec56c54b",
   "metadata": {
    "scrolled": false
   },
   "outputs": [],
   "source": [
    "nex = -1\n",
    "scatter_spec(\n",
    "    np.array(list(call_df['umap'].values)),\n",
    "    specs,\n",
    "    column_size=10,\n",
    "    x_range = [0,10.25],\n",
    "    y_range = [1.5,11.75],\n",
    "    pal_color=\"hls\",\n",
    "    color_points=False,\n",
    "    enlarge_points=0,\n",
    "    figsize=(10, 10),\n",
    "    range_pad = 0.15,\n",
    "    scatter_kwargs = {\n",
    "        'labels': call_df.simp.values,\n",
    "        'alpha':0.8,\n",
    "        's':10,\n",
    "        'show_legend': True,\n",
    "        \"color_palette\": 'magma',\n",
    "    },\n",
    "    matshow_kwargs = {\n",
    "        'cmap': plt.cm.Greys\n",
    "    },\n",
    "    line_kwargs = {\n",
    "        'lw':0.5,\n",
    "        'ls':\"dashed\",\n",
    "        'alpha':0.25,\n",
    "    },\n",
    "    draw_lines=True,\n",
    "    n_subset= 1000,\n",
    "    border_line_width = 3,\n",
    "    \n",
    "\n",
    ");\n"
   ]
  },
  {
   "cell_type": "markdown",
   "id": "d91638bc",
   "metadata": {},
   "source": [
    "For the most part, this way of grouping calls appears to describe distinction between at least two of the major clusters. We will calculate silhouette score for labelling in this way (below) and can run further UMAPs on spectrograms within the groups to determine if it is an appropriate way to label the call groups, and also whether there is any further separation within each group (following notebooks). "
   ]
  },
  {
   "cell_type": "code",
   "execution_count": null,
   "id": "514025ce",
   "metadata": {},
   "outputs": [],
   "source": [
    "nex = -1\n",
    "scatter_spec(\n",
    "    np.array(list(call_df['umap'].values)),\n",
    "    specs,\n",
    "    column_size=10,\n",
    "    x_range = [-0.25,10.75],\n",
    "    y_range = [1.5,12.5],\n",
    "    pal_color=\"hls\",\n",
    "    color_points=False,\n",
    "    enlarge_points=0,\n",
    "    figsize=(15, 15),\n",
    "    range_pad = 0.15,\n",
    "    scatter_kwargs = {\n",
    "        'labels': call_df.indv.values,\n",
    "        'alpha':1,\n",
    "        's': 8,\n",
    "        'show_legend': True,\n",
    "        \"color_palette\": 'magma',\n",
    "    },\n",
    "    matshow_kwargs = {\n",
    "        'cmap': plt.cm.Greys\n",
    "    },\n",
    "    line_kwargs = {\n",
    "        'lw':0.5,\n",
    "        'ls':\"dashed\",\n",
    "        'alpha':0.25,\n",
    "    },\n",
    "    draw_lines=True,\n",
    "    n_subset= 1000,\n",
    "    border_line_width = 3,\n",
    "    \n",
    "\n",
    ");"
   ]
  },
  {
   "cell_type": "code",
   "execution_count": null,
   "id": "90a7830c",
   "metadata": {},
   "outputs": [],
   "source": [
    "nex = -1\n",
    "scatter_spec(\n",
    "    np.array(list(call_df['umap'].values)),\n",
    "    specs,\n",
    "    column_size=10,\n",
    "    x_range = [-0.75,10.25],\n",
    "    y_range = [1.5,12.5],\n",
    "    pal_color=\"hls\",\n",
    "    color_points=False,\n",
    "    enlarge_points=0,\n",
    "    figsize=(10, 10),\n",
    "    range_pad = 0.15,\n",
    "    scatter_kwargs = {\n",
    "        'labels': call_df.group.values,\n",
    "        'alpha':1,\n",
    "        's': 5,\n",
    "        'show_legend': True,\n",
    "        \"color_palette\": 'viridis',\n",
    "    },\n",
    "    matshow_kwargs = {\n",
    "        'cmap': plt.cm.Greys\n",
    "    },\n",
    "    line_kwargs = {\n",
    "        'lw':0.5,\n",
    "        'ls':\"dashed\",\n",
    "        'alpha':0.25,\n",
    "    },\n",
    "    draw_lines=True,\n",
    "    n_subset= 1000,\n",
    "    border_line_width = 3,\n",
    "    \n",
    "\n",
    ");"
   ]
  },
  {
   "cell_type": "code",
   "execution_count": null,
   "id": "2ae8971c",
   "metadata": {},
   "outputs": [],
   "source": [
    "nex = -1\n",
    "scatter_spec(\n",
    "    np.array(list(call_df['umap'].values)),\n",
    "    specs,\n",
    "    column_size=10,\n",
    "    x_range = [0,10.25],\n",
    "    y_range = [1.25,11.5],\n",
    "    pal_color=\"hls\",\n",
    "    color_points=False,\n",
    "    enlarge_points=0,\n",
    "    figsize=(10, 10),\n",
    "    range_pad = 0.15,\n",
    "    scatter_kwargs = {\n",
    "        'labels': call_df.location.values,\n",
    "        'alpha':0.8,\n",
    "        's': 10,\n",
    "        'show_legend': True,\n",
    "        \"color_palette\": 'tab20',\n",
    "    },\n",
    "    matshow_kwargs = {\n",
    "        'cmap': plt.cm.Greys\n",
    "    },\n",
    "    line_kwargs = {\n",
    "        'lw':0.5,\n",
    "        'ls':\"dashed\",\n",
    "        'alpha':0.25,\n",
    "    },\n",
    "    draw_lines=True,\n",
    "    n_subset= 1000,\n",
    "    border_line_width = 3,\n",
    "    \n",
    "\n",
    ");"
   ]
  },
  {
   "cell_type": "markdown",
   "id": "75b2f2dc",
   "metadata": {},
   "source": [
    "## Silhouette Score"
   ]
  },
  {
   "cell_type": "code",
   "execution_count": 51,
   "id": "b7f5d7a2",
   "metadata": {},
   "outputs": [],
   "source": [
    "sexscore = silhouette_score(list(np.array(list(call_df['umap'].values))), labels = call_df.sex.values)\n",
    "indvscore = silhouette_score(list(np.array(list(call_df['umap'].values))), labels = call_df.indv.values)\n",
    "locscore = silhouette_score(list(np.array(list(call_df['umap'].values))), labels = call_df.location.values)\n",
    "groupscore = silhouette_score(list(np.array(list(call_df['umap'].values))), labels = call_df.group.values)\n",
    "callscore = silhouette_score(list(np.array(list(call_df['umap'].values))), labels = call_df.call_lab_simp.values)\n",
    "simpscore = silhouette_score(list(np.array(list(call_df['umap'].values))), labels = call_df.simp.values)"
   ]
  },
  {
   "cell_type": "code",
   "execution_count": null,
   "id": "3e2546c5",
   "metadata": {
    "scrolled": true
   },
   "outputs": [],
   "source": [
    "calldata = {'Test': ['S'], 'Call_Lab': [callscore], 'Simp':[simpscore], 'Indv':[indvscore], 'Group':[groupscore], \n",
    "            'Study Site':[locscore], 'Sex':[sexscore]}\n",
    "df = pd.DataFrame(calldata)\n",
    "df"
   ]
  },
  {
   "cell_type": "markdown",
   "id": "7a3da5aa",
   "metadata": {},
   "source": [
    "## Kruskal-Wallis H Test"
   ]
  },
  {
   "cell_type": "code",
   "execution_count": 58,
   "id": "0bfa7c00",
   "metadata": {},
   "outputs": [],
   "source": [
    "samples = silhouette_samples(list(np.array(list(call_df['umap'].values))), labels = call_df.call_lab_simp.values)\n",
    "chance_samples = silhouette_samples(list(np.array(list(call_df['umap'].values))), labels = np.random.permutation(call_df.call_lab_simp.values))"
   ]
  },
  {
   "cell_type": "code",
   "execution_count": null,
   "id": "f4b151bf",
   "metadata": {},
   "outputs": [],
   "source": [
    "KWcall = kruskal(samples, chance_samples)\n",
    "KWcall"
   ]
  },
  {
   "cell_type": "code",
   "execution_count": 63,
   "id": "217c90d0",
   "metadata": {},
   "outputs": [],
   "source": [
    "samples = silhouette_samples(list(np.array(list(call_df['umap'].values))), labels = call_df.simp.values)\n",
    "chance_samples = silhouette_samples(list(np.array(list(call_df['umap'].values))), labels = np.random.permutation(call_df.simp.values))"
   ]
  },
  {
   "cell_type": "code",
   "execution_count": null,
   "id": "db40ce90",
   "metadata": {},
   "outputs": [],
   "source": [
    "KWsimp = kruskal(samples, chance_samples)\n",
    "KWsimp"
   ]
  },
  {
   "cell_type": "code",
   "execution_count": 81,
   "id": "3f656c30",
   "metadata": {},
   "outputs": [],
   "source": [
    "samples = silhouette_samples(list(np.array(list(call_df['umap'].values))), labels = call_df.indv.values)\n",
    "chance_samples = silhouette_samples(list(np.array(list(call_df['umap'].values))), labels = np.random.permutation(call_df.indv.values))"
   ]
  },
  {
   "cell_type": "code",
   "execution_count": null,
   "id": "5c51295c",
   "metadata": {
    "scrolled": true
   },
   "outputs": [],
   "source": [
    "KWindv = kruskal(samples, chance_samples)\n",
    "KWindv"
   ]
  },
  {
   "cell_type": "code",
   "execution_count": 83,
   "id": "09970256",
   "metadata": {},
   "outputs": [],
   "source": [
    "samples = silhouette_samples(list(np.array(list(call_df['umap'].values))), labels = call_df.group.values)\n",
    "chance_samples = silhouette_samples(list(np.array(list(call_df['umap'].values))), labels = np.random.permutation(call_df.group.values))"
   ]
  },
  {
   "cell_type": "code",
   "execution_count": null,
   "id": "add8e585",
   "metadata": {},
   "outputs": [],
   "source": [
    "KWgroup = kruskal(samples, chance_samples)\n",
    "KWgroup"
   ]
  },
  {
   "cell_type": "code",
   "execution_count": 93,
   "id": "af9e09ff",
   "metadata": {},
   "outputs": [],
   "source": [
    "samples = silhouette_samples(list(np.array(list(call_df['umap'].values))), labels = call_df.location.values)\n",
    "chance_samples = silhouette_samples(list(np.array(list(call_df['umap'].values))), labels = np.random.permutation(call_df.location.values))"
   ]
  },
  {
   "cell_type": "code",
   "execution_count": null,
   "id": "5ac1af37",
   "metadata": {},
   "outputs": [],
   "source": [
    "KWloc = kruskal(samples, chance_samples)\n",
    "KWloc"
   ]
  },
  {
   "cell_type": "code",
   "execution_count": 91,
   "id": "3cd53a88",
   "metadata": {},
   "outputs": [],
   "source": [
    "samples = silhouette_samples(list(np.array(list(call_df['umap'].values))), labels = call_df.sex.values)\n",
    "chance_samples = silhouette_samples(list(np.array(list(call_df['umap'].values))), labels = np.random.permutation(call_df.sex.values))"
   ]
  },
  {
   "cell_type": "code",
   "execution_count": null,
   "id": "746798c9",
   "metadata": {},
   "outputs": [],
   "source": [
    "KWsex = kruskal(samples, chance_samples)\n",
    "KWsex"
   ]
  },
  {
   "cell_type": "code",
   "execution_count": null,
   "id": "76057cb6",
   "metadata": {},
   "outputs": [],
   "source": [
    "calldata = {'Test': ['S', 'KWstat', 'KWpval'], 'Call':[callscore, KWcall.statistic, KWcall.pvalue], \n",
    "           'Simp':[simpscore, KWsimp.statistic, KWsimp.pvalue], 'Indv':[indvscore, KWindv.statistic, KWindv.pvalue],\n",
    "           'Group':[groupscore, KWgroup.statistic, KWgroup.pvalue], 'Study Site':[locscore, KWloc.statistic, KWloc.pvalue],\n",
    "            'Sex':[sexscore, KWsex.statistic, KWsex.pvalue']]}\n",
    "df = pd.DataFrame(calldata)\n",
    "df"
   ]
  },
  {
   "cell_type": "code",
   "execution_count": 100,
   "id": "723f49ac",
   "metadata": {},
   "outputs": [],
   "source": [
    "#save df\n",
    "save_loc = DATA_DIR / DATASET_ID / DT_ID /  'call_umap_grouped.pickle'\n",
    "ensure_dir(save_loc.as_posix())\n",
    "call_df.to_pickle(save_loc)"
   ]
  },
  {
   "cell_type": "code",
   "execution_count": null,
   "id": "aa429284",
   "metadata": {},
   "outputs": [],
   "source": []
  }
 ],
 "metadata": {
  "kernelspec": {
   "display_name": "Python 3",
   "language": "python",
   "name": "python3"
  },
  "language_info": {
   "codemirror_mode": {
    "name": "ipython",
    "version": 3
   },
   "file_extension": ".py",
   "mimetype": "text/x-python",
   "name": "python",
   "nbconvert_exporter": "python",
   "pygments_lexer": "ipython3",
   "version": "3.6.13"
  }
 },
 "nbformat": 4,
 "nbformat_minor": 5
}
