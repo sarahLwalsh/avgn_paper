{
 "cells": [
  {
   "cell_type": "markdown",
   "id": "d51d436c",
   "metadata": {},
   "source": [
    "### Load dataframe"
   ]
  },
  {
   "cell_type": "code",
   "execution_count": 1,
   "id": "57e1a91e",
   "metadata": {},
   "outputs": [],
   "source": [
    "import numpy as np\n",
    "import matplotlib.pyplot as plt\n",
    "%matplotlib inline\n",
    "from tqdm.auto import tqdm\n",
    "from joblib import Parallel, delayed\n",
    "import pandas as pd"
   ]
  },
  {
   "cell_type": "code",
   "execution_count": 2,
   "id": "1085c19d",
   "metadata": {
    "scrolled": true
   },
   "outputs": [],
   "source": [
    "import avgn"
   ]
  },
  {
   "cell_type": "code",
   "execution_count": 3,
   "id": "86977f86",
   "metadata": {},
   "outputs": [],
   "source": [
    "from avgn.utils.paths import DATA_DIR, most_recent_subdirectory, ensure_dir, FIGURE_DIR\n",
    "from avgn.visualization.spectrogram import draw_spec_set\n",
    "from avgn.utils.general import save_fig"
   ]
  },
  {
   "cell_type": "code",
   "execution_count": 4,
   "id": "5b235633",
   "metadata": {},
   "outputs": [],
   "source": [
    "from scipy.stats import kruskal\n",
    "from sklearn.metrics import silhouette_score, silhouette_samples"
   ]
  },
  {
   "cell_type": "code",
   "execution_count": 5,
   "id": "5bfbc7c4",
   "metadata": {},
   "outputs": [],
   "source": [
    "DATASET_ID = \"git_repos_call\""
   ]
  },
  {
   "cell_type": "code",
   "execution_count": 6,
   "id": "780f0083",
   "metadata": {},
   "outputs": [],
   "source": [
    "DT_ID = '2022-03-12_17-46-00'"
   ]
  },
  {
   "cell_type": "markdown",
   "id": "31a8c326",
   "metadata": {},
   "source": [
    "## LH CALLS"
   ]
  },
  {
   "cell_type": "code",
   "execution_count": 7,
   "id": "89ad2ff0",
   "metadata": {},
   "outputs": [
    {
     "data": {
      "text/html": [
       "<div>\n",
       "<style scoped>\n",
       "    .dataframe tbody tr th:only-of-type {\n",
       "        vertical-align: middle;\n",
       "    }\n",
       "\n",
       "    .dataframe tbody tr th {\n",
       "        vertical-align: top;\n",
       "    }\n",
       "\n",
       "    .dataframe thead th {\n",
       "        text-align: right;\n",
       "    }\n",
       "</style>\n",
       "<table border=\"1\" class=\"dataframe\">\n",
       "  <thead>\n",
       "    <tr style=\"text-align: right;\">\n",
       "      <th></th>\n",
       "      <th>start_time</th>\n",
       "      <th>end_time</th>\n",
       "      <th>labels</th>\n",
       "      <th>indv</th>\n",
       "      <th>indvi</th>\n",
       "      <th>filename</th>\n",
       "      <th>group</th>\n",
       "      <th>location</th>\n",
       "      <th>sex</th>\n",
       "      <th>wav_loc</th>\n",
       "      <th>...</th>\n",
       "      <th>comb_labels</th>\n",
       "      <th>specs</th>\n",
       "      <th>umap</th>\n",
       "      <th>call_lab_simp</th>\n",
       "      <th>combi_lab_simp</th>\n",
       "      <th>call_unique_num</th>\n",
       "      <th>call_pos_combi</th>\n",
       "      <th>combi_label</th>\n",
       "      <th>combi_unique_num</th>\n",
       "      <th>simp</th>\n",
       "    </tr>\n",
       "    <tr>\n",
       "      <th>ID</th>\n",
       "      <th></th>\n",
       "      <th></th>\n",
       "      <th></th>\n",
       "      <th></th>\n",
       "      <th></th>\n",
       "      <th></th>\n",
       "      <th></th>\n",
       "      <th></th>\n",
       "      <th></th>\n",
       "      <th></th>\n",
       "      <th></th>\n",
       "      <th></th>\n",
       "      <th></th>\n",
       "      <th></th>\n",
       "      <th></th>\n",
       "      <th></th>\n",
       "      <th></th>\n",
       "      <th></th>\n",
       "      <th></th>\n",
       "      <th></th>\n",
       "      <th></th>\n",
       "    </tr>\n",
       "  </thead>\n",
       "  <tbody>\n",
       "    <tr>\n",
       "      <th>1</th>\n",
       "      <td>0.932017</td>\n",
       "      <td>1.367130</td>\n",
       "      <td>SHSHLH</td>\n",
       "      <td>MGGY</td>\n",
       "      <td>0</td>\n",
       "      <td>BWY MGGY Call Combo 1 290719 PM</td>\n",
       "      <td>BWYa</td>\n",
       "      <td>CRAWLEY</td>\n",
       "      <td>F</td>\n",
       "      <td>C:/Users/slwal/anaconda3/envs/PY36/avgn_paper-...</td>\n",
       "      <td>...</td>\n",
       "      <td>SHSHLH</td>\n",
       "      <td>[[0.0, 0.0, 0.0, 0.0, 0.0, 0.0, 0.0, 0.0, 0.0,...</td>\n",
       "      <td>[0.04218862, 2.9634933]</td>\n",
       "      <td>SH-LH</td>\n",
       "      <td>DS-SH-DS SH-LH</td>\n",
       "      <td>1</td>\n",
       "      <td>1</td>\n",
       "      <td>DSSHDS SHSHLH</td>\n",
       "      <td>0</td>\n",
       "      <td>Contains LH Segment</td>\n",
       "    </tr>\n",
       "    <tr>\n",
       "      <th>3</th>\n",
       "      <td>1.442686</td>\n",
       "      <td>1.984961</td>\n",
       "      <td>USC</td>\n",
       "      <td>MGGY</td>\n",
       "      <td>0</td>\n",
       "      <td>BWY MGGY Call Combo 1 300719 AM</td>\n",
       "      <td>BWYa</td>\n",
       "      <td>CRAWLEY</td>\n",
       "      <td>F</td>\n",
       "      <td>C:/Users/slwal/anaconda3/envs/PY36/avgn_paper-...</td>\n",
       "      <td>...</td>\n",
       "      <td>USC</td>\n",
       "      <td>[[0.0, 0.0, 0.0, 0.0, 0.0, 0.0, 0.0, 0.0, 0.0,...</td>\n",
       "      <td>[8.066194, 3.232741]</td>\n",
       "      <td>SH-LH</td>\n",
       "      <td>DS SH-LH</td>\n",
       "      <td>3</td>\n",
       "      <td>1</td>\n",
       "      <td>DS USC</td>\n",
       "      <td>1</td>\n",
       "      <td>Contains LH Segment</td>\n",
       "    </tr>\n",
       "    <tr>\n",
       "      <th>5</th>\n",
       "      <td>1.471596</td>\n",
       "      <td>1.897371</td>\n",
       "      <td>LH</td>\n",
       "      <td>MGGY</td>\n",
       "      <td>0</td>\n",
       "      <td>BWY MGGY Discrete 1 300719 AM</td>\n",
       "      <td>BWYa</td>\n",
       "      <td>CRAWLEY</td>\n",
       "      <td>F</td>\n",
       "      <td>C:/Users/slwal/anaconda3/envs/PY36/avgn_paper-...</td>\n",
       "      <td>...</td>\n",
       "      <td>LH</td>\n",
       "      <td>[[0.0, 0.0, 0.0, 0.0, 0.0, 0.0, 0.0, 0.0, 0.0,...</td>\n",
       "      <td>[-0.3234938, 3.4373276]</td>\n",
       "      <td>LH</td>\n",
       "      <td>DS-SH-DS LH</td>\n",
       "      <td>5</td>\n",
       "      <td>1</td>\n",
       "      <td>DSSHDS LH</td>\n",
       "      <td>2</td>\n",
       "      <td>Contains LH Segment</td>\n",
       "    </tr>\n",
       "  </tbody>\n",
       "</table>\n",
       "<p>3 rows × 22 columns</p>\n",
       "</div>"
      ],
      "text/plain": [
       "    start_time  end_time  labels  indv  indvi  \\\n",
       "ID                                              \n",
       "1     0.932017  1.367130  SHSHLH  MGGY      0   \n",
       "3     1.442686  1.984961     USC  MGGY      0   \n",
       "5     1.471596  1.897371      LH  MGGY      0   \n",
       "\n",
       "                           filename group location sex  \\\n",
       "ID                                                       \n",
       "1   BWY MGGY Call Combo 1 290719 PM  BWYa  CRAWLEY   F   \n",
       "3   BWY MGGY Call Combo 1 300719 AM  BWYa  CRAWLEY   F   \n",
       "5     BWY MGGY Discrete 1 300719 AM  BWYa  CRAWLEY   F   \n",
       "\n",
       "                                              wav_loc  ... comb_labels  \\\n",
       "ID                                                     ...               \n",
       "1   C:/Users/slwal/anaconda3/envs/PY36/avgn_paper-...  ...      SHSHLH   \n",
       "3   C:/Users/slwal/anaconda3/envs/PY36/avgn_paper-...  ...         USC   \n",
       "5   C:/Users/slwal/anaconda3/envs/PY36/avgn_paper-...  ...          LH   \n",
       "\n",
       "                                                specs  \\\n",
       "ID                                                      \n",
       "1   [[0.0, 0.0, 0.0, 0.0, 0.0, 0.0, 0.0, 0.0, 0.0,...   \n",
       "3   [[0.0, 0.0, 0.0, 0.0, 0.0, 0.0, 0.0, 0.0, 0.0,...   \n",
       "5   [[0.0, 0.0, 0.0, 0.0, 0.0, 0.0, 0.0, 0.0, 0.0,...   \n",
       "\n",
       "                       umap call_lab_simp  combi_lab_simp call_unique_num  \\\n",
       "ID                                                                          \n",
       "1   [0.04218862, 2.9634933]         SH-LH  DS-SH-DS SH-LH               1   \n",
       "3      [8.066194, 3.232741]         SH-LH        DS SH-LH               3   \n",
       "5   [-0.3234938, 3.4373276]            LH     DS-SH-DS LH               5   \n",
       "\n",
       "   call_pos_combi    combi_label  combi_unique_num                 simp  \n",
       "ID                                                                       \n",
       "1               1  DSSHDS SHSHLH                 0  Contains LH Segment  \n",
       "3               1         DS USC                 1  Contains LH Segment  \n",
       "5               1      DSSHDS LH                 2  Contains LH Segment  \n",
       "\n",
       "[3 rows x 22 columns]"
      ]
     },
     "execution_count": 7,
     "metadata": {},
     "output_type": "execute_result"
    }
   ],
   "source": [
    "call_df = pd.read_pickle(DATA_DIR / DATASET_ID / \"LHcall\" /  'LHcall_UMAP.pickle')\n",
    "call_df[:3]"
   ]
  },
  {
   "cell_type": "code",
   "execution_count": 8,
   "id": "b57f2527",
   "metadata": {},
   "outputs": [
    {
     "data": {
      "text/plain": [
       "203"
      ]
     },
     "execution_count": 8,
     "metadata": {},
     "output_type": "execute_result"
    }
   ],
   "source": [
    "len(call_df)"
   ]
  },
  {
   "cell_type": "code",
   "execution_count": 9,
   "id": "67c622c0",
   "metadata": {},
   "outputs": [
    {
     "data": {
      "text/plain": [
       "array(['Contains LH Segment'], dtype=object)"
      ]
     },
     "execution_count": 9,
     "metadata": {},
     "output_type": "execute_result"
    }
   ],
   "source": [
    "call_df[\"simp\"].unique()"
   ]
  },
  {
   "cell_type": "markdown",
   "id": "96e13c9b",
   "metadata": {},
   "source": [
    "### Get specs"
   ]
  },
  {
   "cell_type": "code",
   "execution_count": 10,
   "id": "6f035d03",
   "metadata": {},
   "outputs": [],
   "source": [
    "def norm(x):\n",
    "    return (x-np.min(x)) / (np.max(x) - np.min(x))"
   ]
  },
  {
   "cell_type": "code",
   "execution_count": 11,
   "id": "2785f6d5",
   "metadata": {},
   "outputs": [
    {
     "data": {
      "application/vnd.jupyter.widget-view+json": {
       "model_id": "4fa082df63aa46679ef3ce9570ae1a0f",
       "version_major": 2,
       "version_minor": 0
      },
      "text/plain": [
       "  0%|          | 0/203 [00:00<?, ?it/s]"
      ]
     },
     "metadata": {},
     "output_type": "display_data"
    }
   ],
   "source": [
    "specs = list(call_df.specs.values)\n",
    "specs = [norm(i) for i in tqdm(specs)]"
   ]
  },
  {
   "cell_type": "code",
   "execution_count": 12,
   "id": "a7cb03a0",
   "metadata": {},
   "outputs": [],
   "source": [
    "from avgn.visualization.projections import scatter_spec"
   ]
  },
  {
   "cell_type": "code",
   "execution_count": null,
   "id": "ec56c54b",
   "metadata": {
    "scrolled": false
   },
   "outputs": [],
   "source": [
    "nex = -1\n",
    "colors = [\"thistle\", \"lightpink\", \"palevioletred\",\"mediumvioletred\", \"purple\", \"midnightblue\"]\n",
    "scatter_spec(\n",
    "    np.array(list(call_df['umap'].values)),\n",
    "    specs,\n",
    "    column_size=10,\n",
    "    x_range = [-1.75,8.75],\n",
    "    y_range = [-1.75,8.75],\n",
    "    pal_color=\"hls\",\n",
    "    color_points=False,\n",
    "    enlarge_points=0,\n",
    "    figsize=(10, 10),\n",
    "    range_pad = 0.15,\n",
    "    scatter_kwargs = {\n",
    "        'labels': call_df.call_lab_simp.values,\n",
    "        'alpha':1,\n",
    "        's': 15,\n",
    "        'show_legend': True,\n",
    "        \"color_palette\": colors,\n",
    "    },\n",
    "    matshow_kwargs = {\n",
    "        'cmap': plt.cm.Greys\n",
    "    },\n",
    "    line_kwargs = {\n",
    "        'lw':0.5,\n",
    "        'ls':\"dashed\",\n",
    "        'alpha':0.25,\n",
    "    },\n",
    "    draw_lines=True,\n",
    "    n_subset= 1000,\n",
    "    border_line_width = 3,\n",
    "    \n",
    "\n",
    ");\n",
    "\n",
    "save_loc = (FIGURE_DIR / 'manuscript' / 'Figures' / 'LHcallsUMAP.jpeg')\n",
    "ensure_dir(save_loc.as_posix())\n",
    "save_fig(save_loc, dpi=600, save_jpg=False)"
   ]
  },
  {
   "cell_type": "code",
   "execution_count": null,
   "id": "e7945e73",
   "metadata": {},
   "outputs": [],
   "source": [
    "LHscore = silhouette_score(list(np.array(list(call_df['umap'].values))), labels = call_df.call_lab_simp.values)\n",
    "LHscore"
   ]
  },
  {
   "cell_type": "code",
   "execution_count": null,
   "id": "7c5b43b4",
   "metadata": {},
   "outputs": [],
   "source": [
    "samples = silhouette_samples(list(np.array(list(call_df['umap'].values))), labels = call_df.call_lab_simp.values)\n",
    "chance_samples = silhouette_samples(list(np.array(list(call_df['umap'].values))), labels = np.random.permutation(call_df.call_lab_simp.values))"
   ]
  },
  {
   "cell_type": "code",
   "execution_count": null,
   "id": "a927374e",
   "metadata": {},
   "outputs": [],
   "source": [
    "KWlabels = kruskal(samples, chance_samples)\n",
    "KWlabels"
   ]
  },
  {
   "cell_type": "markdown",
   "id": "563d7595",
   "metadata": {},
   "source": [
    "Appears to be further clustering of similar calls, so we will create a new variable to group calls based on this."
   ]
  },
  {
   "cell_type": "code",
   "execution_count": 36,
   "id": "741ca574",
   "metadata": {
    "scrolled": true
   },
   "outputs": [
    {
     "data": {
      "text/plain": [
       "array(['SH-LH', 'LH', 'LH-DS', 'SH-DS-SH-LH', 'SH-DS-LH', 'SH-LH-DS',\n",
       "       'DS-SH-DS-SH-LH'], dtype=object)"
      ]
     },
     "execution_count": 36,
     "metadata": {},
     "output_type": "execute_result"
    }
   ],
   "source": [
    "call_df[\"call_lab_simp\"].unique()"
   ]
  },
  {
   "cell_type": "code",
   "execution_count": 37,
   "id": "3106abcb",
   "metadata": {},
   "outputs": [],
   "source": [
    "call_df[\"SimpLabel\"] = call_df[\"call_lab_simp\"]"
   ]
  },
  {
   "cell_type": "code",
   "execution_count": 38,
   "id": "df5bef98",
   "metadata": {},
   "outputs": [],
   "source": [
    "## Create conditions for all labels containing repeated segments (these will be simplified in the next step)\n",
    "cond1 = call_df['SimpLabel'] == 'SH-LH'\n",
    "cond2 = call_df['SimpLabel'] == 'LH'\n",
    "cond3 = call_df['SimpLabel'] == 'LH-DS'\n",
    "cond4 = call_df['SimpLabel'] == 'SH-DS-SH-LH'\n",
    "cond5 = call_df['SimpLabel'] == 'SH-DS-LH'\n",
    "cond6 = call_df['SimpLabel'] == 'SH-LH-DS'\n",
    "cond7 = call_df['SimpLabel'] == 'DS-SH-DS-SH-LH'"
   ]
  },
  {
   "cell_type": "code",
   "execution_count": 39,
   "id": "86a8305e",
   "metadata": {},
   "outputs": [],
   "source": [
    "### Simplify\n",
    "call_df.loc[cond1, 'SimpLabel'] = 'LH & SH-LH calls'\n",
    "call_df.loc[cond2, 'SimpLabel'] = 'LH & SH-LH calls'\n",
    "call_df.loc[cond3, 'SimpLabel'] = 'LH-DS & SH-LH-DS calls'\n",
    "call_df.loc[cond4, 'SimpLabel'] = 'SH-DS-LH & (DS)-SH-DS-SH-LH calls'\n",
    "call_df.loc[cond5, 'SimpLabel'] = 'SH-DS-LH & (DS)-SH-DS-SH-LH calls'\n",
    "call_df.loc[cond6, 'SimpLabel'] = 'LH-DS & SH-LH-DS calls'\n",
    "call_df.loc[cond7, 'SimpLabel'] = 'SH-DS-LH & (DS)-SH-DS-SH-LH calls'"
   ]
  },
  {
   "cell_type": "code",
   "execution_count": null,
   "id": "310f62fe",
   "metadata": {},
   "outputs": [],
   "source": [
    "nex = -1\n",
    "colors = [\"thistle\", \"lightpink\", \"palevioletred\",\"mediumvioletred\", \"purple\", \"midnightblue\"]\n",
    "scatter_spec(\n",
    "    np.array(list(call_df['umap'].values)),\n",
    "    specs,\n",
    "    column_size=10,\n",
    "    x_range = [-1.75,8.75],\n",
    "    y_range = [-1.75,8.75],\n",
    "    pal_color=\"hls\",\n",
    "    color_points=False,\n",
    "    enlarge_points=0,\n",
    "    figsize=(10, 10),\n",
    "    range_pad = 0.15,\n",
    "    scatter_kwargs = {\n",
    "        'labels': call_df.SimpLabel.values,\n",
    "        'alpha':1,\n",
    "        's': 15,\n",
    "        'show_legend': True,\n",
    "        \"color_palette\": colors,\n",
    "    },\n",
    "    matshow_kwargs = {\n",
    "        'cmap': plt.cm.Greys\n",
    "    },\n",
    "    line_kwargs = {\n",
    "        'lw':0.5,\n",
    "        'ls':\"dashed\",\n",
    "        'alpha':0.25,\n",
    "    },\n",
    "    draw_lines=True,\n",
    "    n_subset= 1000,\n",
    "    border_line_width = 3,\n",
    "    \n",
    "\n",
    ");\n",
    "\n",
    "save_loc = (FIGURE_DIR / 'manuscript' / 'Figures' / 'LHcallsUMAPPairs.jpeg')\n",
    "ensure_dir(save_loc.as_posix())\n",
    "save_fig(save_loc, dpi=600, save_jpg=False)"
   ]
  },
  {
   "cell_type": "code",
   "execution_count": null,
   "id": "59ebdcef",
   "metadata": {
    "scrolled": true
   },
   "outputs": [],
   "source": [
    "LHSimpscore = silhouette_score(list(np.array(list(call_df['umap'].values))), labels = call_df.SimpLabel.values)\n",
    "LHSimpscore"
   ]
  },
  {
   "cell_type": "code",
   "execution_count": 64,
   "id": "0323a6dc",
   "metadata": {},
   "outputs": [],
   "source": [
    "samples = silhouette_samples(list(np.array(list(call_df['umap'].values))), labels = call_df.SimpLabel.values)\n",
    "chance_samples = silhouette_samples(list(np.array(list(call_df['umap'].values))), labels = np.random.permutation(call_df.SimpLabel.values))"
   ]
  },
  {
   "cell_type": "code",
   "execution_count": null,
   "id": "07ab6398",
   "metadata": {},
   "outputs": [],
   "source": [
    "KWsimplab = kruskal(samples, chance_samples)\n",
    "KWsimplab"
   ]
  },
  {
   "cell_type": "code",
   "execution_count": 83,
   "id": "78cc48a2",
   "metadata": {},
   "outputs": [],
   "source": [
    "samples = silhouette_samples(list(np.array(list(call_df['umap'].values))), labels = call_df.location.values)\n",
    "chance_samples = silhouette_samples(list(np.array(list(call_df['umap'].values))), labels = np.random.permutation(call_df.location.values))"
   ]
  },
  {
   "cell_type": "code",
   "execution_count": null,
   "id": "a6a67f27",
   "metadata": {},
   "outputs": [],
   "source": [
    "KWloc = kruskal(samples, chance_samples)\n",
    "KWloc"
   ]
  },
  {
   "cell_type": "code",
   "execution_count": 86,
   "id": "e874a5ef",
   "metadata": {},
   "outputs": [],
   "source": [
    "sexscore = silhouette_score(list(np.array(list(call_df['umap'].values))), labels = call_df.sex.values)\n",
    "locscore = silhouette_score(list(np.array(list(call_df['umap'].values))), labels = call_df.location.values)\n",
    "indvscore = silhouette_score(list(np.array(list(call_df['umap'].values))), labels = call_df.indv.values)\n",
    "callscore = silhouette_score(list(np.array(list(call_df['umap'].values))), labels = call_df.call_lab_simp.values)\n",
    "groupscore = silhouette_score(list(np.array(list(call_df['umap'].values))), labels = call_df.group.values)"
   ]
  },
  {
   "cell_type": "code",
   "execution_count": null,
   "id": "8f1c610c",
   "metadata": {},
   "outputs": [],
   "source": [
    "sexscore, locscore, indvscore, callscore, groupscore"
   ]
  },
  {
   "cell_type": "markdown",
   "id": "ebf24914",
   "metadata": {},
   "source": [
    "# Figures for MS"
   ]
  },
  {
   "cell_type": "code",
   "execution_count": null,
   "id": "d1e7f79c",
   "metadata": {},
   "outputs": [],
   "source": [
    "fig = plt.figure()\n",
    "fig.set_figheight(15)\n",
    "fig.set_figwidth(15)\n",
    "ax1 = plt.subplot2grid(shape=(2, 4), loc=(0, 0), colspan=2)  ##1st Row\n",
    "ax2 = plt.subplot2grid(shape=(2, 4), loc=(0, 2), colspan=2) #1st row\n",
    "ax3 = plt.subplot2grid(shape=(2, 4), loc=(1, 0), colspan=1) #2nd row\n",
    "ax4 = plt.subplot2grid(shape=(2, 4), loc=(1, 1), colspan=2) #2nd row\n",
    "ax5 = plt.subplot2grid(shape=(2, 4), loc=(1, 3), colspan=1) #2nd row\n",
    "ax1.axis('off')\n",
    "ax2.axis('off')\n",
    "ax3.axis('off')\n",
    "ax4.axis('off')\n",
    "ax5.axis('off')\n",
    "\n",
    "colors = [\"thistle\", \"lightpink\", \"palevioletred\",\"mediumvioletred\", \"purple\", \"midnightblue\"]\n",
    "scatter_spec(\n",
    "    np.array(list(call_df['umap'].values)),\n",
    "    specs,\n",
    "    column_size=10,\n",
    "    x_range = [-1.75,8.75],\n",
    "    y_range = [-1.75,8.75],\n",
    "    pal_color=\"hls\",\n",
    "    color_points=False,\n",
    "    enlarge_points=0,\n",
    "    ax=ax1,\n",
    "    range_pad = 0.15,\n",
    "    scatter_kwargs = {\n",
    "        'labels': call_df.call_lab_simp.values,\n",
    "        'alpha':1,\n",
    "        's': 15,\n",
    "        'show_legend': True,\n",
    "        \"color_palette\": colors,\n",
    "    },\n",
    "    matshow_kwargs = {\n",
    "        'cmap': plt.cm.Greys\n",
    "    },\n",
    "    line_kwargs = {\n",
    "        'lw':0.5,\n",
    "        'ls':\"dashed\",\n",
    "        'alpha':0.25,\n",
    "    },\n",
    "    draw_lines=True,\n",
    "    n_subset= 1000,\n",
    "    border_line_width = 3,\n",
    "    \n",
    "\n",
    ");\n",
    "\n",
    "colors = [\"lightblue\", \"teal\", \"darkslategray\",\"mediumvioletred\", \"purple\", \"midnightblue\"]\n",
    "scatter_spec(\n",
    "    np.array(list(call_df['umap'].values)),\n",
    "    specs,\n",
    "    column_size=10,\n",
    "    x_range = [-1.75,8.75],\n",
    "    y_range = [-1.75,8.75],\n",
    "    pal_color=\"hls\",\n",
    "    color_points=False,\n",
    "    enlarge_points=0,\n",
    "    ax=ax2,\n",
    "    range_pad = 0.15,\n",
    "    scatter_kwargs = {\n",
    "        'labels': call_df.SimpLabel.values,\n",
    "        'alpha':1,\n",
    "        's': 15,\n",
    "        'show_legend': True,\n",
    "        \"color_palette\": colors,\n",
    "    },\n",
    "    matshow_kwargs = {\n",
    "        'cmap': plt.cm.Greys\n",
    "    },\n",
    "    line_kwargs = {\n",
    "        'lw':0.5,\n",
    "        'ls':\"dashed\",\n",
    "        'alpha':0.25,\n",
    "    },\n",
    "    draw_lines=True,\n",
    "    n_subset= 1000,\n",
    "    border_line_width = 3,\n",
    "    \n",
    "\n",
    ");\n",
    "\n",
    "colors = [\"darkgreen\", \"darkseagreen\"]\n",
    "scatter_spec(\n",
    "    np.array(list(call_df['umap'].values)),\n",
    "    specs,\n",
    "    column_size=10,\n",
    "    x_range = [-1.75,8.75],\n",
    "    y_range = [-1.75,8.75],\n",
    "    pal_color=\"hls\",\n",
    "    color_points=False,\n",
    "    enlarge_points=0,\n",
    "    ax=ax4,\n",
    "    range_pad = 0.15,\n",
    "    scatter_kwargs = {\n",
    "        'labels': call_df.location.values,\n",
    "        'alpha':1,\n",
    "        's': 15,\n",
    "        'show_legend': True,\n",
    "        \"color_palette\": colors,\n",
    "    },\n",
    "    matshow_kwargs = {\n",
    "        'cmap': plt.cm.Greys\n",
    "    },\n",
    "    line_kwargs = {\n",
    "        'lw':0.5,\n",
    "        'ls':\"dashed\",\n",
    "        'alpha':0.25,\n",
    "    },\n",
    "    draw_lines=True,\n",
    "    n_subset= 1000,\n",
    "    border_line_width = 3,\n",
    "    \n",
    "\n",
    ");\n",
    "\n",
    "ax1.set_title(\"A)\", loc='left', fontsize = 25)\n",
    "ax2.set_title(\"B)\", loc='left', fontsize = 25)\n",
    "ax4.set_title(\"C)\", loc='left', fontsize = 25)\n",
    "\n",
    "save_loc = (FIGURE_DIR / 'manuscript' / 'Figures' / 'Figure S3AB_LocInc.jpeg')\n",
    "ensure_dir(save_loc.as_posix())\n",
    "plt.tight_layout()\n",
    "save_fig(save_loc, dpi=600, save_jpg=False)\n",
    "plt.tight_layout()"
   ]
  },
  {
   "cell_type": "code",
   "execution_count": null,
   "id": "9f4a5805",
   "metadata": {},
   "outputs": [],
   "source": [
    "fig = plt.figure()\n",
    "fig.set_figheight(10)\n",
    "fig.set_figwidth(20)\n",
    "ax1 = plt.subplot2grid(shape=(1, 20), loc=(0, 0), colspan=10)  ##1st Row\n",
    "ax2 = plt.subplot2grid(shape=(1, 20), loc=(0, 10), colspan=10) #2nd row\n",
    "ax1.axis('off')\n",
    "ax2.axis('off')\n",
    "\n",
    "colors = [\"thistle\", \"lightpink\", \"palevioletred\",\"mediumvioletred\", \"purple\", \"midnightblue\"]\n",
    "scatter_spec(\n",
    "    np.array(list(call_df['umap'].values)),\n",
    "    specs,\n",
    "    column_size=10,\n",
    "    x_range = [-1.75,8.75],\n",
    "    y_range = [-1.75,8.75],\n",
    "    pal_color=\"hls\",\n",
    "    color_points=False,\n",
    "    enlarge_points=0,\n",
    "    ax=ax1,\n",
    "    range_pad = 0.15,\n",
    "    scatter_kwargs = {\n",
    "        'labels': call_df.call_lab_simp.values,\n",
    "        'alpha':1,\n",
    "        's': 15,\n",
    "        'show_legend': True,\n",
    "        \"color_palette\": colors,\n",
    "    },\n",
    "    matshow_kwargs = {\n",
    "        'cmap': plt.cm.Greys\n",
    "    },\n",
    "    line_kwargs = {\n",
    "        'lw':0.5,\n",
    "        'ls':\"dashed\",\n",
    "        'alpha':0.25,\n",
    "    },\n",
    "    draw_lines=True,\n",
    "    n_subset= 1000,\n",
    "    border_line_width = 3,\n",
    "    \n",
    "\n",
    ");\n",
    "\n",
    "colors = [\"lightblue\", \"teal\", \"darkslategray\",\"mediumvioletred\", \"purple\", \"midnightblue\"]\n",
    "scatter_spec(\n",
    "    np.array(list(call_df['umap'].values)),\n",
    "    specs,\n",
    "    column_size=10,\n",
    "    x_range = [-1.75,8.75],\n",
    "    y_range = [-1.75,8.75],\n",
    "    pal_color=\"hls\",\n",
    "    color_points=False,\n",
    "    enlarge_points=0,\n",
    "    ax=ax2,\n",
    "    range_pad = 0.15,\n",
    "    scatter_kwargs = {\n",
    "        'labels': call_df.SimpLabel.values,\n",
    "        'alpha':1,\n",
    "        's': 15,\n",
    "        'show_legend': True,\n",
    "        \"color_palette\": colors,\n",
    "    },\n",
    "    matshow_kwargs = {\n",
    "        'cmap': plt.cm.Greys\n",
    "    },\n",
    "    line_kwargs = {\n",
    "        'lw':0.5,\n",
    "        'ls':\"dashed\",\n",
    "        'alpha':0.25,\n",
    "    },\n",
    "    draw_lines=True,\n",
    "    n_subset= 1000,\n",
    "    border_line_width = 3,\n",
    "    \n",
    "\n",
    ");\n",
    "\n",
    "ax1.set_title(\"A)\", loc='left', fontsize = 25)\n",
    "ax2.set_title(\"B)\", loc='left', fontsize = 25)\n",
    "\n",
    "save_loc = (FIGURE_DIR / 'manuscript' / 'Figures' / 'Figure S3AB_240822.jpeg')\n",
    "ensure_dir(save_loc.as_posix())\n",
    "save_fig(save_loc, dpi=600, save_jpg=False)\n",
    "plt.show()"
   ]
  },
  {
   "cell_type": "code",
   "execution_count": null,
   "id": "a8c1fe2c",
   "metadata": {},
   "outputs": [],
   "source": [
    "fig = plt.figure()\n",
    "fig.set_figheight(10)\n",
    "fig.set_figwidth(20)\n",
    "ax1 = plt.subplot2grid(shape=(1, 20), loc=(0, 0), colspan=10)  ##1st Row\n",
    "ax2 = plt.subplot2grid(shape=(1, 20), loc=(0, 10), colspan=10) #2nd row\n",
    "ax1.axis('off')\n",
    "ax2.axis('off')\n",
    "\n",
    "colors = [\"thistle\", \"lightpink\", \"palevioletred\",\"mediumvioletred\", \"purple\", \"midnightblue\"]\n",
    "scatter_spec(\n",
    "    np.array(list(call_df['umap'].values)),\n",
    "    specs,\n",
    "    column_size=10,\n",
    "    x_range = [-1.75,8.75],\n",
    "    y_range = [-1.75,8.75],\n",
    "    pal_color=\"hls\",\n",
    "    color_points=False,\n",
    "    enlarge_points=0,\n",
    "    ax=ax1,\n",
    "    range_pad = 0.15,\n",
    "    scatter_kwargs = {\n",
    "        'labels': call_df.indv.values,\n",
    "        'alpha':1,\n",
    "        's': 15,\n",
    "        'show_legend': False,\n",
    "        \"color_palette\": \"magma\",\n",
    "    },\n",
    "    matshow_kwargs = {\n",
    "        'cmap': plt.cm.Greys\n",
    "    },\n",
    "    line_kwargs = {\n",
    "        'lw':0.5,\n",
    "        'ls':\"dashed\",\n",
    "        'alpha':0.25,\n",
    "    },\n",
    "    draw_lines=True,\n",
    "    n_subset= 1000,\n",
    "    border_line_width = 3,\n",
    "    \n",
    "\n",
    ");\n",
    "\n",
    "colors = [\"lightblue\", \"teal\", \"darkslategray\",\"mediumvioletred\", \"purple\", \"midnightblue\"]\n",
    "scatter_spec(\n",
    "    np.array(list(call_df['umap'].values)),\n",
    "    specs,\n",
    "    column_size=10,\n",
    "    x_range = [-1.75,8.75],\n",
    "    y_range = [-1.75,8.75],\n",
    "    pal_color=\"hls\",\n",
    "    color_points=False,\n",
    "    enlarge_points=0,\n",
    "    ax=ax2,\n",
    "    range_pad = 0.15,\n",
    "    scatter_kwargs = {\n",
    "        'labels': call_df.location.values,\n",
    "        'alpha':1,\n",
    "        's': 15,\n",
    "        'show_legend': True,\n",
    "        \"color_palette\": \"magma\",\n",
    "    },\n",
    "    matshow_kwargs = {\n",
    "        'cmap': plt.cm.Greys\n",
    "    },\n",
    "    line_kwargs = {\n",
    "        'lw':0.5,\n",
    "        'ls':\"dashed\",\n",
    "        'alpha':0.25,\n",
    "    },\n",
    "    draw_lines=True,\n",
    "    n_subset= 1000,\n",
    "    border_line_width = 3,\n",
    "    \n",
    "\n",
    ");\n",
    "\n",
    "ax1.set_title(\"A)\", loc='left', fontsize = 25)\n",
    "ax2.set_title(\"B)\", loc='left', fontsize = 25)\n",
    "\n",
    "save_loc = (FIGURE_DIR / 'manuscript' / 'Figures' / 'Figure S3AB_IndvLoc.jpeg')\n",
    "ensure_dir(save_loc.as_posix())\n",
    "save_fig(save_loc, dpi=600, save_jpg=False)\n",
    "plt.show()"
   ]
  },
  {
   "cell_type": "code",
   "execution_count": null,
   "id": "79e42f18",
   "metadata": {},
   "outputs": [],
   "source": []
  }
 ],
 "metadata": {
  "kernelspec": {
   "display_name": "Python 3",
   "language": "python",
   "name": "python3"
  },
  "language_info": {
   "codemirror_mode": {
    "name": "ipython",
    "version": 3
   },
   "file_extension": ".py",
   "mimetype": "text/x-python",
   "name": "python",
   "nbconvert_exporter": "python",
   "pygments_lexer": "ipython3",
   "version": "3.6.13"
  }
 },
 "nbformat": 4,
 "nbformat_minor": 5
}
