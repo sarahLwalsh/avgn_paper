{
 "cells": [
  {
   "cell_type": "markdown",
   "id": "6db7034b",
   "metadata": {},
   "source": [
    "# Compare Randomised Datasets to Observed\n",
    "Here we look at the significance of the transition probabilities observed in our recorded combis, by comparing these to the transition probabilities obtained in the 10, 000 random simulations of combi arrays (sensu Monte Carlo simulations). Significance is calculated as the relative ranking of each observed statistic (transition probability) among the sample values from the Monte Carlo randomization. \n",
    "\n",
    "The observed transition probability was found to be significantly different from random if it occurs within the 95th percentile for an upper or lower tail of the Monte Carlo randomizations.\n",
    "\n",
    "For example, in our dataset of recorded combis the probability to transition from a call from group 0 to call within the same group is 0.33. This statistic is deemed as significant if it is either greater or lower than at least 95% of the values for the probabilities of the same transition in the Monte Carlo randomizations)."
   ]
  },
  {
   "cell_type": "code",
   "execution_count": 1,
   "id": "3eb7df06",
   "metadata": {},
   "outputs": [],
   "source": [
    "from tqdm.auto import tqdm"
   ]
  },
  {
   "cell_type": "code",
   "execution_count": 2,
   "id": "95d3583e",
   "metadata": {},
   "outputs": [],
   "source": [
    "import avgn"
   ]
  },
  {
   "cell_type": "code",
   "execution_count": 3,
   "id": "45d2b615",
   "metadata": {},
   "outputs": [],
   "source": [
    "import pandas as pd\n",
    "import numpy as np\n",
    "from avgn.utils.paths import DATA_DIR, ensure_dir, FIGURE_DIR"
   ]
  },
  {
   "cell_type": "code",
   "execution_count": 4,
   "id": "ed1a0e79",
   "metadata": {},
   "outputs": [],
   "source": [
    "from scipy.stats import kruskal"
   ]
  },
  {
   "cell_type": "code",
   "execution_count": 5,
   "id": "8c490d14",
   "metadata": {},
   "outputs": [],
   "source": [
    "DATASET_ID = \"git_repos_call\""
   ]
  },
  {
   "cell_type": "code",
   "execution_count": 6,
   "id": "04ec6e42",
   "metadata": {},
   "outputs": [],
   "source": [
    "DT_ID = '2022-03-12_17-46-00'"
   ]
  },
  {
   "cell_type": "code",
   "execution_count": 7,
   "id": "a704a385",
   "metadata": {},
   "outputs": [
    {
     "data": {
      "text/html": [
       "<div>\n",
       "<style scoped>\n",
       "    .dataframe tbody tr th:only-of-type {\n",
       "        vertical-align: middle;\n",
       "    }\n",
       "\n",
       "    .dataframe tbody tr th {\n",
       "        vertical-align: top;\n",
       "    }\n",
       "\n",
       "    .dataframe thead th {\n",
       "        text-align: right;\n",
       "    }\n",
       "</style>\n",
       "<table border=\"1\" class=\"dataframe\">\n",
       "  <thead>\n",
       "    <tr style=\"text-align: right;\">\n",
       "      <th></th>\n",
       "      <th>0-0</th>\n",
       "      <th>0-1</th>\n",
       "      <th>0-2</th>\n",
       "      <th>1-0</th>\n",
       "      <th>1-1</th>\n",
       "      <th>1-2</th>\n",
       "      <th>2-0</th>\n",
       "      <th>2-1</th>\n",
       "      <th>2-2</th>\n",
       "      <th>rand_run</th>\n",
       "    </tr>\n",
       "  </thead>\n",
       "  <tbody>\n",
       "    <tr>\n",
       "      <th>0</th>\n",
       "      <td>0.353448</td>\n",
       "      <td>0.068966</td>\n",
       "      <td>0.577586</td>\n",
       "      <td>0.428571</td>\n",
       "      <td>0.0</td>\n",
       "      <td>0.571429</td>\n",
       "      <td>0.392344</td>\n",
       "      <td>0.038278</td>\n",
       "      <td>0.569378</td>\n",
       "      <td>0</td>\n",
       "    </tr>\n",
       "    <tr>\n",
       "      <th>0</th>\n",
       "      <td>0.362069</td>\n",
       "      <td>0.060345</td>\n",
       "      <td>0.577586</td>\n",
       "      <td>0.470588</td>\n",
       "      <td>0.0</td>\n",
       "      <td>0.529412</td>\n",
       "      <td>0.368932</td>\n",
       "      <td>0.043689</td>\n",
       "      <td>0.587379</td>\n",
       "      <td>1</td>\n",
       "    </tr>\n",
       "    <tr>\n",
       "      <th>0</th>\n",
       "      <td>0.293651</td>\n",
       "      <td>0.047619</td>\n",
       "      <td>0.658730</td>\n",
       "      <td>0.538462</td>\n",
       "      <td>0.0</td>\n",
       "      <td>0.461538</td>\n",
       "      <td>0.360000</td>\n",
       "      <td>0.060000</td>\n",
       "      <td>0.580000</td>\n",
       "      <td>2</td>\n",
       "    </tr>\n",
       "  </tbody>\n",
       "</table>\n",
       "</div>"
      ],
      "text/plain": [
       "        0-0       0-1       0-2       1-0  1-1       1-2       2-0       2-1  \\\n",
       "0  0.353448  0.068966  0.577586  0.428571  0.0  0.571429  0.392344  0.038278   \n",
       "0  0.362069  0.060345  0.577586  0.470588  0.0  0.529412  0.368932  0.043689   \n",
       "0  0.293651  0.047619  0.658730  0.538462  0.0  0.461538  0.360000  0.060000   \n",
       "\n",
       "        2-2  rand_run  \n",
       "0  0.569378         0  \n",
       "0  0.587379         1  \n",
       "0  0.580000         2  "
      ]
     },
     "execution_count": 7,
     "metadata": {},
     "output_type": "execute_result"
    }
   ],
   "source": [
    "randdfs = pd.read_pickle(DATA_DIR / DATASET_ID / 'Monte_Carlo_Calls' /  'random_combi_simulations.pickle')\n",
    "randdfs[:3]"
   ]
  },
  {
   "cell_type": "code",
   "execution_count": 8,
   "id": "e4ce5c18",
   "metadata": {},
   "outputs": [
    {
     "data": {
      "text/plain": [
       "10000"
      ]
     },
     "execution_count": 8,
     "metadata": {},
     "output_type": "execute_result"
    }
   ],
   "source": [
    "len(randdfs)"
   ]
  },
  {
   "cell_type": "markdown",
   "id": "eeb7a0e0",
   "metadata": {},
   "source": [
    "# Original Transition Probs"
   ]
  },
  {
   "cell_type": "code",
   "execution_count": 9,
   "id": "cd28057c",
   "metadata": {},
   "outputs": [
    {
     "data": {
      "text/html": [
       "<div>\n",
       "<style scoped>\n",
       "    .dataframe tbody tr th:only-of-type {\n",
       "        vertical-align: middle;\n",
       "    }\n",
       "\n",
       "    .dataframe tbody tr th {\n",
       "        vertical-align: top;\n",
       "    }\n",
       "\n",
       "    .dataframe thead th {\n",
       "        text-align: right;\n",
       "    }\n",
       "</style>\n",
       "<table border=\"1\" class=\"dataframe\">\n",
       "  <thead>\n",
       "    <tr style=\"text-align: right;\">\n",
       "      <th></th>\n",
       "      <th>0-0</th>\n",
       "      <th>0-1</th>\n",
       "      <th>0-2</th>\n",
       "      <th>1-0</th>\n",
       "      <th>1-1</th>\n",
       "      <th>1-2</th>\n",
       "      <th>2-0</th>\n",
       "      <th>2-1</th>\n",
       "      <th>2-2</th>\n",
       "    </tr>\n",
       "  </thead>\n",
       "  <tbody>\n",
       "    <tr>\n",
       "      <th>0</th>\n",
       "      <td>0.333333</td>\n",
       "      <td>0.0</td>\n",
       "      <td>0.666667</td>\n",
       "      <td>0.0</td>\n",
       "      <td>0.0</td>\n",
       "      <td>1.0</td>\n",
       "      <td>0.648387</td>\n",
       "      <td>0.009677</td>\n",
       "      <td>0.341935</td>\n",
       "    </tr>\n",
       "  </tbody>\n",
       "</table>\n",
       "</div>"
      ],
      "text/plain": [
       "        0-0  0-1       0-2  1-0  1-1  1-2       2-0       2-1       2-2\n",
       "0  0.333333  0.0  0.666667  0.0  0.0  1.0  0.648387  0.009677  0.341935"
      ]
     },
     "execution_count": 9,
     "metadata": {},
     "output_type": "execute_result"
    }
   ],
   "source": [
    "trans_origdf = pd.read_pickle(DATA_DIR / DATASET_ID / 'Monte_Carlo_Calls' /  'observed_call_transitions.pickle')\n",
    "trans_origdf"
   ]
  },
  {
   "cell_type": "markdown",
   "id": "6d19d6ec",
   "metadata": {},
   "source": [
    "## 0 to 0\n",
    "- transition between calls within the same group: Contains LH Segment"
   ]
  },
  {
   "cell_type": "code",
   "execution_count": 10,
   "id": "8d747e4e",
   "metadata": {},
   "outputs": [
    {
     "data": {
      "text/plain": [
       "array([0.33333333])"
      ]
     },
     "execution_count": 10,
     "metadata": {},
     "output_type": "execute_result"
    }
   ],
   "source": [
    "trans_origdf[\"0-0\"].values"
   ]
  },
  {
   "cell_type": "code",
   "execution_count": 11,
   "id": "9b90d6f9",
   "metadata": {},
   "outputs": [],
   "source": [
    "x = 0.33333333"
   ]
  },
  {
   "cell_type": "code",
   "execution_count": 12,
   "id": "7bdcc6a7",
   "metadata": {},
   "outputs": [],
   "source": [
    "rand_prob = np.array(randdfs[\"0-0\"].values)"
   ]
  },
  {
   "cell_type": "code",
   "execution_count": 13,
   "id": "40dc67fc",
   "metadata": {
    "scrolled": false
   },
   "outputs": [
    {
     "data": {
      "text/plain": [
       "0.21666666666666667"
      ]
     },
     "execution_count": 13,
     "metadata": {},
     "output_type": "execute_result"
    }
   ],
   "source": [
    "min(rand_prob)"
   ]
  },
  {
   "cell_type": "code",
   "execution_count": 14,
   "id": "fe47141c",
   "metadata": {},
   "outputs": [
    {
     "data": {
      "text/plain": [
       "0.5225225225225225"
      ]
     },
     "execution_count": 14,
     "metadata": {},
     "output_type": "execute_result"
    }
   ],
   "source": [
    "max(rand_prob)"
   ]
  },
  {
   "cell_type": "code",
   "execution_count": 15,
   "id": "363c2bb3",
   "metadata": {},
   "outputs": [],
   "source": [
    "def min_monte_carlo(x, rand_prob, tot_samples):\n",
    "    r = rand_prob <= x\n",
    "    return np.divide((np.sum(r)+1), (tot_samples + 1))"
   ]
  },
  {
   "cell_type": "code",
   "execution_count": 16,
   "id": "8853c3ea",
   "metadata": {},
   "outputs": [
    {
     "data": {
      "text/plain": [
       "0.22257774222577742"
      ]
     },
     "execution_count": 16,
     "metadata": {},
     "output_type": "execute_result"
    }
   ],
   "source": [
    "##0-0\n",
    "results_min = min_monte_carlo(x=x, rand_prob=rand_prob, tot_samples = 10000)\n",
    "results_min"
   ]
  },
  {
   "cell_type": "code",
   "execution_count": 17,
   "id": "5c30ba96",
   "metadata": {},
   "outputs": [
    {
     "data": {
      "text/plain": [
       "2225"
      ]
     },
     "execution_count": 17,
     "metadata": {},
     "output_type": "execute_result"
    }
   ],
   "source": [
    "np.sum(rand_prob <= x)"
   ]
  },
  {
   "cell_type": "code",
   "execution_count": 18,
   "id": "2c61a111",
   "metadata": {},
   "outputs": [],
   "source": [
    "def max_monte_carlo(x, rand_prob, tot_samples):\n",
    "    r = rand_prob >= x\n",
    "    return np.divide((np.sum(r)+1), (tot_samples + 1))"
   ]
  },
  {
   "cell_type": "code",
   "execution_count": 19,
   "id": "992d32b3",
   "metadata": {
    "scrolled": true
   },
   "outputs": [
    {
     "data": {
      "text/plain": [
       "0.7775222477752225"
      ]
     },
     "execution_count": 19,
     "metadata": {},
     "output_type": "execute_result"
    }
   ],
   "source": [
    "##0-0\n",
    "results_max = max_monte_carlo(x=x, rand_prob=rand_prob, tot_samples = 10000)\n",
    "results_max"
   ]
  },
  {
   "cell_type": "code",
   "execution_count": 20,
   "id": "15dc3840",
   "metadata": {},
   "outputs": [
    {
     "data": {
      "text/plain": [
       "7775"
      ]
     },
     "execution_count": 20,
     "metadata": {},
     "output_type": "execute_result"
    }
   ],
   "source": [
    "np.sum(rand_prob >= x)"
   ]
  },
  {
   "cell_type": "code",
   "execution_count": 21,
   "id": "72c364fe",
   "metadata": {},
   "outputs": [],
   "source": [
    "### Original Transition Probability not significantly different from random"
   ]
  },
  {
   "cell_type": "code",
   "execution_count": 22,
   "id": "ed361864",
   "metadata": {},
   "outputs": [
    {
     "data": {
      "text/html": [
       "<div>\n",
       "<style scoped>\n",
       "    .dataframe tbody tr th:only-of-type {\n",
       "        vertical-align: middle;\n",
       "    }\n",
       "\n",
       "    .dataframe tbody tr th {\n",
       "        vertical-align: top;\n",
       "    }\n",
       "\n",
       "    .dataframe thead th {\n",
       "        text-align: right;\n",
       "    }\n",
       "</style>\n",
       "<table border=\"1\" class=\"dataframe\">\n",
       "  <thead>\n",
       "    <tr style=\"text-align: right;\">\n",
       "      <th></th>\n",
       "      <th>Transition</th>\n",
       "      <th>Orig_Prob</th>\n",
       "      <th>Lower Tail</th>\n",
       "      <th>Upper Tail</th>\n",
       "    </tr>\n",
       "  </thead>\n",
       "  <tbody>\n",
       "    <tr>\n",
       "      <th>0</th>\n",
       "      <td>0-0</td>\n",
       "      <td>0.333333</td>\n",
       "      <td>0.222578</td>\n",
       "      <td>0.777522</td>\n",
       "    </tr>\n",
       "  </tbody>\n",
       "</table>\n",
       "</div>"
      ],
      "text/plain": [
       "  Transition  Orig_Prob  Lower Tail  Upper Tail\n",
       "0        0-0   0.333333    0.222578    0.777522"
      ]
     },
     "execution_count": 22,
     "metadata": {},
     "output_type": "execute_result"
    }
   ],
   "source": [
    "sig = {\"Transition\":[\"0-0\"], \"Orig_Prob\": [x], \"Lower Tail\": [results_min], \"Upper Tail\": [results_max]}\n",
    "sigdf = pd.DataFrame(sig)\n",
    "sigdf"
   ]
  },
  {
   "cell_type": "markdown",
   "id": "9ab90a71",
   "metadata": {},
   "source": [
    "## 0-1\n",
    "- Transition from calls containing an LH segment to lone NL segment calls "
   ]
  },
  {
   "cell_type": "code",
   "execution_count": 23,
   "id": "cfe93d81",
   "metadata": {},
   "outputs": [
    {
     "data": {
      "text/plain": [
       "0    0.0\n",
       "Name: 0-1, dtype: float64"
      ]
     },
     "execution_count": 23,
     "metadata": {},
     "output_type": "execute_result"
    }
   ],
   "source": [
    "trans_origdf[\"0-1\"]"
   ]
  },
  {
   "cell_type": "code",
   "execution_count": 24,
   "id": "7906d458",
   "metadata": {},
   "outputs": [],
   "source": [
    "x = 0.0\n",
    "rand_prob = np.array(randdfs[\"0-1\"].values)"
   ]
  },
  {
   "cell_type": "code",
   "execution_count": 25,
   "id": "3605a4dc",
   "metadata": {},
   "outputs": [
    {
     "data": {
      "text/plain": [
       "0.0"
      ]
     },
     "execution_count": 25,
     "metadata": {},
     "output_type": "execute_result"
    }
   ],
   "source": [
    "min(rand_prob)"
   ]
  },
  {
   "cell_type": "code",
   "execution_count": 26,
   "id": "1d0bdbfa",
   "metadata": {},
   "outputs": [
    {
     "data": {
      "text/plain": [
       "0.11570247933884298"
      ]
     },
     "execution_count": 26,
     "metadata": {},
     "output_type": "execute_result"
    }
   ],
   "source": [
    "max(rand_prob)"
   ]
  },
  {
   "cell_type": "code",
   "execution_count": 27,
   "id": "aff9a6a7",
   "metadata": {},
   "outputs": [
    {
     "data": {
      "text/plain": [
       "0.0020997900209979003"
      ]
     },
     "execution_count": 27,
     "metadata": {},
     "output_type": "execute_result"
    }
   ],
   "source": [
    "##0-1\n",
    "results_min = min_monte_carlo(x=x, rand_prob=rand_prob, tot_samples = 10000)\n",
    "results_min"
   ]
  },
  {
   "cell_type": "code",
   "execution_count": 28,
   "id": "37a8908f",
   "metadata": {},
   "outputs": [
    {
     "data": {
      "text/plain": [
       "20"
      ]
     },
     "execution_count": 28,
     "metadata": {},
     "output_type": "execute_result"
    }
   ],
   "source": [
    "np.sum(rand_prob <= x)"
   ]
  },
  {
   "cell_type": "code",
   "execution_count": 29,
   "id": "edc88767",
   "metadata": {},
   "outputs": [
    {
     "data": {
      "text/plain": [
       "1.0"
      ]
     },
     "execution_count": 29,
     "metadata": {},
     "output_type": "execute_result"
    }
   ],
   "source": [
    "##0-1\n",
    "results_max = max_monte_carlo(x=x, rand_prob=rand_prob, tot_samples = 10000)\n",
    "results_max"
   ]
  },
  {
   "cell_type": "code",
   "execution_count": 30,
   "id": "7508387d",
   "metadata": {},
   "outputs": [
    {
     "data": {
      "text/plain": [
       "10000"
      ]
     },
     "execution_count": 30,
     "metadata": {},
     "output_type": "execute_result"
    }
   ],
   "source": [
    "np.sum(rand_prob >= x)"
   ]
  },
  {
   "cell_type": "markdown",
   "id": "0d0d3efd",
   "metadata": {},
   "source": [
    "0-1 observed transition within the 95th percentile. There are 20 randomly generated transition probs (under 5% of 10000) equal to observed transition probability. "
   ]
  },
  {
   "cell_type": "code",
   "execution_count": 31,
   "id": "c10fc568",
   "metadata": {},
   "outputs": [
    {
     "data": {
      "text/html": [
       "<div>\n",
       "<style scoped>\n",
       "    .dataframe tbody tr th:only-of-type {\n",
       "        vertical-align: middle;\n",
       "    }\n",
       "\n",
       "    .dataframe tbody tr th {\n",
       "        vertical-align: top;\n",
       "    }\n",
       "\n",
       "    .dataframe thead th {\n",
       "        text-align: right;\n",
       "    }\n",
       "</style>\n",
       "<table border=\"1\" class=\"dataframe\">\n",
       "  <thead>\n",
       "    <tr style=\"text-align: right;\">\n",
       "      <th></th>\n",
       "      <th>Transition</th>\n",
       "      <th>Orig_Prob</th>\n",
       "      <th>Lower Tail</th>\n",
       "      <th>Upper Tail</th>\n",
       "    </tr>\n",
       "  </thead>\n",
       "  <tbody>\n",
       "    <tr>\n",
       "      <th>0</th>\n",
       "      <td>0-0</td>\n",
       "      <td>0.333333</td>\n",
       "      <td>0.222578</td>\n",
       "      <td>0.777522</td>\n",
       "    </tr>\n",
       "    <tr>\n",
       "      <th>0</th>\n",
       "      <td>0-1</td>\n",
       "      <td>0.000000</td>\n",
       "      <td>0.002100</td>\n",
       "      <td>1.000000</td>\n",
       "    </tr>\n",
       "  </tbody>\n",
       "</table>\n",
       "</div>"
      ],
      "text/plain": [
       "  Transition  Orig_Prob  Lower Tail  Upper Tail\n",
       "0        0-0   0.333333    0.222578    0.777522\n",
       "0        0-1   0.000000    0.002100    1.000000"
      ]
     },
     "execution_count": 31,
     "metadata": {},
     "output_type": "execute_result"
    }
   ],
   "source": [
    "sig = pd.DataFrame({\"Transition\":[\"0-1\"], \"Orig_Prob\": [x], \"Lower Tail\": [results_min], \"Upper Tail\": [results_max]})\n",
    "sigdf = pd.concat([sigdf, sig], axis = 0)\n",
    "sigdf"
   ]
  },
  {
   "cell_type": "code",
   "execution_count": null,
   "id": "7f0d46cb",
   "metadata": {},
   "outputs": [],
   "source": []
  },
  {
   "cell_type": "markdown",
   "id": "27b00a50",
   "metadata": {},
   "source": [
    "## 0-2\n",
    "- Transition from calls containing an LH segment to calls comprising lone DS or SH segments, or those segments and/or NL in any combination "
   ]
  },
  {
   "cell_type": "code",
   "execution_count": 32,
   "id": "d30444bf",
   "metadata": {},
   "outputs": [
    {
     "data": {
      "text/plain": [
       "0    0.666667\n",
       "Name: 0-2, dtype: float64"
      ]
     },
     "execution_count": 32,
     "metadata": {},
     "output_type": "execute_result"
    }
   ],
   "source": [
    "trans_origdf[\"0-2\"]"
   ]
  },
  {
   "cell_type": "code",
   "execution_count": 33,
   "id": "3f6bb72a",
   "metadata": {},
   "outputs": [
    {
     "data": {
      "text/plain": [
       "0.43333333333333335"
      ]
     },
     "execution_count": 33,
     "metadata": {},
     "output_type": "execute_result"
    }
   ],
   "source": [
    "min(randdfs[\"0-2\"])"
   ]
  },
  {
   "cell_type": "code",
   "execution_count": 34,
   "id": "a32f9962",
   "metadata": {},
   "outputs": [
    {
     "data": {
      "text/plain": [
       "0.7355371900826446"
      ]
     },
     "execution_count": 34,
     "metadata": {},
     "output_type": "execute_result"
    }
   ],
   "source": [
    "max(randdfs[\"0-2\"])"
   ]
  },
  {
   "cell_type": "code",
   "execution_count": 35,
   "id": "54f423c9",
   "metadata": {},
   "outputs": [],
   "source": [
    "x = 0.666667\n",
    "rand_prob = np.array(randdfs[\"0-2\"].values)"
   ]
  },
  {
   "cell_type": "code",
   "execution_count": 36,
   "id": "901d2e57",
   "metadata": {},
   "outputs": [
    {
     "data": {
      "text/plain": [
       "0.9771022897710229"
      ]
     },
     "execution_count": 36,
     "metadata": {},
     "output_type": "execute_result"
    }
   ],
   "source": [
    "##Lower tail probability\n",
    "results_min = min_monte_carlo(x=x, rand_prob=rand_prob, tot_samples = 10000)\n",
    "results_min"
   ]
  },
  {
   "cell_type": "code",
   "execution_count": 37,
   "id": "32a2e3b9",
   "metadata": {},
   "outputs": [
    {
     "data": {
      "text/plain": [
       "9771"
      ]
     },
     "execution_count": 37,
     "metadata": {},
     "output_type": "execute_result"
    }
   ],
   "source": [
    "np.sum(rand_prob <= x)"
   ]
  },
  {
   "cell_type": "markdown",
   "id": "5f0248ce",
   "metadata": {},
   "source": [
    "9771 simulations with a transition probability below or equal to the original"
   ]
  },
  {
   "cell_type": "code",
   "execution_count": 38,
   "id": "b861aa3f",
   "metadata": {},
   "outputs": [
    {
     "data": {
      "text/plain": [
       "0.022997700229977002"
      ]
     },
     "execution_count": 38,
     "metadata": {},
     "output_type": "execute_result"
    }
   ],
   "source": [
    "##Upper tail probability\n",
    "results_max = max_monte_carlo(x=x, rand_prob=rand_prob, tot_samples = 10000)\n",
    "results_max"
   ]
  },
  {
   "cell_type": "code",
   "execution_count": 39,
   "id": "4395175f",
   "metadata": {},
   "outputs": [
    {
     "data": {
      "text/plain": [
       "229"
      ]
     },
     "execution_count": 39,
     "metadata": {},
     "output_type": "execute_result"
    }
   ],
   "source": [
    "np.sum(rand_prob >= x)"
   ]
  },
  {
   "cell_type": "markdown",
   "id": "46bc72fe",
   "metadata": {},
   "source": [
    "229 simulations with a transition prob values over or equal to the original"
   ]
  },
  {
   "cell_type": "code",
   "execution_count": 40,
   "id": "b181c76b",
   "metadata": {},
   "outputs": [
    {
     "data": {
      "text/html": [
       "<div>\n",
       "<style scoped>\n",
       "    .dataframe tbody tr th:only-of-type {\n",
       "        vertical-align: middle;\n",
       "    }\n",
       "\n",
       "    .dataframe tbody tr th {\n",
       "        vertical-align: top;\n",
       "    }\n",
       "\n",
       "    .dataframe thead th {\n",
       "        text-align: right;\n",
       "    }\n",
       "</style>\n",
       "<table border=\"1\" class=\"dataframe\">\n",
       "  <thead>\n",
       "    <tr style=\"text-align: right;\">\n",
       "      <th></th>\n",
       "      <th>Transition</th>\n",
       "      <th>Orig_Prob</th>\n",
       "      <th>Lower Tail</th>\n",
       "      <th>Upper Tail</th>\n",
       "    </tr>\n",
       "  </thead>\n",
       "  <tbody>\n",
       "    <tr>\n",
       "      <th>0</th>\n",
       "      <td>0-0</td>\n",
       "      <td>0.333333</td>\n",
       "      <td>0.222578</td>\n",
       "      <td>0.777522</td>\n",
       "    </tr>\n",
       "    <tr>\n",
       "      <th>0</th>\n",
       "      <td>0-1</td>\n",
       "      <td>0.000000</td>\n",
       "      <td>0.002100</td>\n",
       "      <td>1.000000</td>\n",
       "    </tr>\n",
       "    <tr>\n",
       "      <th>0</th>\n",
       "      <td>0-2</td>\n",
       "      <td>0.666667</td>\n",
       "      <td>0.977102</td>\n",
       "      <td>0.022998</td>\n",
       "    </tr>\n",
       "  </tbody>\n",
       "</table>\n",
       "</div>"
      ],
      "text/plain": [
       "  Transition  Orig_Prob  Lower Tail  Upper Tail\n",
       "0        0-0   0.333333    0.222578    0.777522\n",
       "0        0-1   0.000000    0.002100    1.000000\n",
       "0        0-2   0.666667    0.977102    0.022998"
      ]
     },
     "execution_count": 40,
     "metadata": {},
     "output_type": "execute_result"
    }
   ],
   "source": [
    "sig = pd.DataFrame({\"Transition\":[\"0-2\"], \"Orig_Prob\": [x], \"Lower Tail\": [results_min], \"Upper Tail\": [results_max]})\n",
    "sigdf = pd.concat([sigdf, sig], axis = 0)\n",
    "sigdf"
   ]
  },
  {
   "cell_type": "code",
   "execution_count": null,
   "id": "8ef15668",
   "metadata": {},
   "outputs": [],
   "source": []
  },
  {
   "cell_type": "markdown",
   "id": "d830e54a",
   "metadata": {},
   "source": [
    "## 1-0\n",
    "- Transition from lone NL segments to calls containing an LH segment "
   ]
  },
  {
   "cell_type": "code",
   "execution_count": 41,
   "id": "b3096c0f",
   "metadata": {},
   "outputs": [
    {
     "data": {
      "text/plain": [
       "0    0.0\n",
       "Name: 1-0, dtype: float64"
      ]
     },
     "execution_count": 41,
     "metadata": {},
     "output_type": "execute_result"
    }
   ],
   "source": [
    "trans_origdf[\"1-0\"]"
   ]
  },
  {
   "cell_type": "code",
   "execution_count": 42,
   "id": "f22de1cd",
   "metadata": {},
   "outputs": [
    {
     "data": {
      "text/plain": [
       "0.0"
      ]
     },
     "execution_count": 42,
     "metadata": {},
     "output_type": "execute_result"
    }
   ],
   "source": [
    "min(randdfs[\"1-0\"])"
   ]
  },
  {
   "cell_type": "code",
   "execution_count": 43,
   "id": "5437cacf",
   "metadata": {},
   "outputs": [
    {
     "data": {
      "text/plain": [
       "0.8181818181818182"
      ]
     },
     "execution_count": 43,
     "metadata": {},
     "output_type": "execute_result"
    }
   ],
   "source": [
    "max(randdfs[\"1-0\"])"
   ]
  },
  {
   "cell_type": "code",
   "execution_count": 44,
   "id": "044e8c86",
   "metadata": {},
   "outputs": [],
   "source": [
    "x = 0.0\n",
    "rand_prob = np.array(randdfs[\"1-0\"].values)"
   ]
  },
  {
   "cell_type": "code",
   "execution_count": 45,
   "id": "edbb1849",
   "metadata": {},
   "outputs": [
    {
     "data": {
      "text/plain": [
       "0.001999800019998"
      ]
     },
     "execution_count": 45,
     "metadata": {},
     "output_type": "execute_result"
    }
   ],
   "source": [
    "##Lower tail probability\n",
    "results_min = min_monte_carlo(x=x, rand_prob=rand_prob, tot_samples = 10000)\n",
    "results_min"
   ]
  },
  {
   "cell_type": "code",
   "execution_count": 46,
   "id": "d02605f4",
   "metadata": {},
   "outputs": [
    {
     "data": {
      "text/plain": [
       "19"
      ]
     },
     "execution_count": 46,
     "metadata": {},
     "output_type": "execute_result"
    }
   ],
   "source": [
    "np.sum(rand_prob <= x)"
   ]
  },
  {
   "cell_type": "code",
   "execution_count": 47,
   "id": "73abc784",
   "metadata": {},
   "outputs": [
    {
     "data": {
      "text/plain": [
       "1.0"
      ]
     },
     "execution_count": 47,
     "metadata": {},
     "output_type": "execute_result"
    }
   ],
   "source": [
    "##Upper tail probability\n",
    "results_max = max_monte_carlo(x=x, rand_prob=rand_prob, tot_samples = 10000)\n",
    "results_max"
   ]
  },
  {
   "cell_type": "code",
   "execution_count": 48,
   "id": "86e9b53f",
   "metadata": {},
   "outputs": [
    {
     "data": {
      "text/plain": [
       "10000"
      ]
     },
     "execution_count": 48,
     "metadata": {},
     "output_type": "execute_result"
    }
   ],
   "source": [
    "np.sum(rand_prob >= x)"
   ]
  },
  {
   "cell_type": "code",
   "execution_count": 49,
   "id": "07b81fd5",
   "metadata": {},
   "outputs": [],
   "source": [
    "#19 simulations have a trans prob equal to 0 (orig trans prob for 1-0)"
   ]
  },
  {
   "cell_type": "code",
   "execution_count": 50,
   "id": "0edd0b3c",
   "metadata": {},
   "outputs": [
    {
     "data": {
      "text/html": [
       "<div>\n",
       "<style scoped>\n",
       "    .dataframe tbody tr th:only-of-type {\n",
       "        vertical-align: middle;\n",
       "    }\n",
       "\n",
       "    .dataframe tbody tr th {\n",
       "        vertical-align: top;\n",
       "    }\n",
       "\n",
       "    .dataframe thead th {\n",
       "        text-align: right;\n",
       "    }\n",
       "</style>\n",
       "<table border=\"1\" class=\"dataframe\">\n",
       "  <thead>\n",
       "    <tr style=\"text-align: right;\">\n",
       "      <th></th>\n",
       "      <th>Transition</th>\n",
       "      <th>Orig_Prob</th>\n",
       "      <th>Lower Tail</th>\n",
       "      <th>Upper Tail</th>\n",
       "    </tr>\n",
       "  </thead>\n",
       "  <tbody>\n",
       "    <tr>\n",
       "      <th>0</th>\n",
       "      <td>0-0</td>\n",
       "      <td>0.333333</td>\n",
       "      <td>0.222578</td>\n",
       "      <td>0.777522</td>\n",
       "    </tr>\n",
       "    <tr>\n",
       "      <th>0</th>\n",
       "      <td>0-1</td>\n",
       "      <td>0.000000</td>\n",
       "      <td>0.002100</td>\n",
       "      <td>1.000000</td>\n",
       "    </tr>\n",
       "    <tr>\n",
       "      <th>0</th>\n",
       "      <td>0-2</td>\n",
       "      <td>0.666667</td>\n",
       "      <td>0.977102</td>\n",
       "      <td>0.022998</td>\n",
       "    </tr>\n",
       "    <tr>\n",
       "      <th>0</th>\n",
       "      <td>1-0</td>\n",
       "      <td>0.000000</td>\n",
       "      <td>0.002000</td>\n",
       "      <td>1.000000</td>\n",
       "    </tr>\n",
       "  </tbody>\n",
       "</table>\n",
       "</div>"
      ],
      "text/plain": [
       "  Transition  Orig_Prob  Lower Tail  Upper Tail\n",
       "0        0-0   0.333333    0.222578    0.777522\n",
       "0        0-1   0.000000    0.002100    1.000000\n",
       "0        0-2   0.666667    0.977102    0.022998\n",
       "0        1-0   0.000000    0.002000    1.000000"
      ]
     },
     "execution_count": 50,
     "metadata": {},
     "output_type": "execute_result"
    }
   ],
   "source": [
    "sig = pd.DataFrame({\"Transition\":[\"1-0\"], \"Orig_Prob\": [x], \"Lower Tail\": [results_min], \"Upper Tail\": [results_max]})\n",
    "sigdf = pd.concat([sigdf, sig], axis = 0)\n",
    "sigdf"
   ]
  },
  {
   "cell_type": "markdown",
   "id": "604cdb9b",
   "metadata": {},
   "source": [
    "## 1-1\n",
    "- Transition from lone NL segments to calls within the same group "
   ]
  },
  {
   "cell_type": "code",
   "execution_count": 51,
   "id": "e09fa7f4",
   "metadata": {},
   "outputs": [
    {
     "data": {
      "text/plain": [
       "0    0.0\n",
       "Name: 1-1, dtype: float64"
      ]
     },
     "execution_count": 51,
     "metadata": {},
     "output_type": "execute_result"
    }
   ],
   "source": [
    "trans_origdf[\"1-1\"]"
   ]
  },
  {
   "cell_type": "code",
   "execution_count": 52,
   "id": "87b2957d",
   "metadata": {},
   "outputs": [
    {
     "data": {
      "text/plain": [
       "0.0"
      ]
     },
     "execution_count": 52,
     "metadata": {},
     "output_type": "execute_result"
    }
   ],
   "source": [
    "min(randdfs[\"1-1\"])"
   ]
  },
  {
   "cell_type": "code",
   "execution_count": 53,
   "id": "8eb020da",
   "metadata": {},
   "outputs": [
    {
     "data": {
      "text/plain": [
       "0.42857142857142855"
      ]
     },
     "execution_count": 53,
     "metadata": {},
     "output_type": "execute_result"
    }
   ],
   "source": [
    "max(randdfs[\"1-1\"])"
   ]
  },
  {
   "cell_type": "code",
   "execution_count": 54,
   "id": "3ce4888c",
   "metadata": {},
   "outputs": [],
   "source": [
    "x = 0\n",
    "rand_prob = np.array(randdfs[\"1-1\"].values)"
   ]
  },
  {
   "cell_type": "code",
   "execution_count": 55,
   "id": "ca897ea3",
   "metadata": {},
   "outputs": [
    {
     "data": {
      "text/plain": [
       "0.48525147485251474"
      ]
     },
     "execution_count": 55,
     "metadata": {},
     "output_type": "execute_result"
    }
   ],
   "source": [
    "##Lower tail probability\n",
    "results_min = min_monte_carlo(x=x, rand_prob=rand_prob, tot_samples = 10000)\n",
    "results_min"
   ]
  },
  {
   "cell_type": "code",
   "execution_count": 56,
   "id": "e891aac7",
   "metadata": {},
   "outputs": [
    {
     "data": {
      "text/plain": [
       "4852"
      ]
     },
     "execution_count": 56,
     "metadata": {},
     "output_type": "execute_result"
    }
   ],
   "source": [
    "np.sum(rand_prob <= x)"
   ]
  },
  {
   "cell_type": "code",
   "execution_count": 57,
   "id": "187ab65a",
   "metadata": {},
   "outputs": [
    {
     "data": {
      "text/plain": [
       "1.0"
      ]
     },
     "execution_count": 57,
     "metadata": {},
     "output_type": "execute_result"
    }
   ],
   "source": [
    "##Upper tail probability\n",
    "results_max = max_monte_carlo(x=x, rand_prob=rand_prob, tot_samples = 10000)\n",
    "results_max"
   ]
  },
  {
   "cell_type": "code",
   "execution_count": 58,
   "id": "e49813ec",
   "metadata": {},
   "outputs": [
    {
     "data": {
      "text/plain": [
       "10000"
      ]
     },
     "execution_count": 58,
     "metadata": {},
     "output_type": "execute_result"
    }
   ],
   "source": [
    "np.sum(rand_prob >= x)"
   ]
  },
  {
   "cell_type": "code",
   "execution_count": 59,
   "id": "5071b801",
   "metadata": {},
   "outputs": [],
   "source": [
    "#almost half of the simulation display a trans probability equal to 0 for NL to NL transition"
   ]
  },
  {
   "cell_type": "code",
   "execution_count": 59,
   "id": "8de8005d",
   "metadata": {},
   "outputs": [
    {
     "data": {
      "text/html": [
       "<div>\n",
       "<style scoped>\n",
       "    .dataframe tbody tr th:only-of-type {\n",
       "        vertical-align: middle;\n",
       "    }\n",
       "\n",
       "    .dataframe tbody tr th {\n",
       "        vertical-align: top;\n",
       "    }\n",
       "\n",
       "    .dataframe thead th {\n",
       "        text-align: right;\n",
       "    }\n",
       "</style>\n",
       "<table border=\"1\" class=\"dataframe\">\n",
       "  <thead>\n",
       "    <tr style=\"text-align: right;\">\n",
       "      <th></th>\n",
       "      <th>Transition</th>\n",
       "      <th>Orig_Prob</th>\n",
       "      <th>Lower Tail</th>\n",
       "      <th>Upper Tail</th>\n",
       "    </tr>\n",
       "  </thead>\n",
       "  <tbody>\n",
       "    <tr>\n",
       "      <th>0</th>\n",
       "      <td>0-0</td>\n",
       "      <td>0.333333</td>\n",
       "      <td>0.222578</td>\n",
       "      <td>0.777522</td>\n",
       "    </tr>\n",
       "    <tr>\n",
       "      <th>0</th>\n",
       "      <td>0-1</td>\n",
       "      <td>0.000000</td>\n",
       "      <td>0.002100</td>\n",
       "      <td>1.000000</td>\n",
       "    </tr>\n",
       "    <tr>\n",
       "      <th>0</th>\n",
       "      <td>0-2</td>\n",
       "      <td>0.666667</td>\n",
       "      <td>0.977102</td>\n",
       "      <td>0.022998</td>\n",
       "    </tr>\n",
       "    <tr>\n",
       "      <th>0</th>\n",
       "      <td>1-0</td>\n",
       "      <td>0.000000</td>\n",
       "      <td>0.002000</td>\n",
       "      <td>1.000000</td>\n",
       "    </tr>\n",
       "    <tr>\n",
       "      <th>0</th>\n",
       "      <td>1-1</td>\n",
       "      <td>0.000000</td>\n",
       "      <td>0.485251</td>\n",
       "      <td>1.000000</td>\n",
       "    </tr>\n",
       "  </tbody>\n",
       "</table>\n",
       "</div>"
      ],
      "text/plain": [
       "  Transition  Orig_Prob  Lower Tail  Upper Tail\n",
       "0        0-0   0.333333    0.222578    0.777522\n",
       "0        0-1   0.000000    0.002100    1.000000\n",
       "0        0-2   0.666667    0.977102    0.022998\n",
       "0        1-0   0.000000    0.002000    1.000000\n",
       "0        1-1   0.000000    0.485251    1.000000"
      ]
     },
     "execution_count": 59,
     "metadata": {},
     "output_type": "execute_result"
    }
   ],
   "source": [
    "sig = pd.DataFrame({\"Transition\":[\"1-1\"], \"Orig_Prob\": [x], \"Lower Tail\": [results_min], \"Upper Tail\": [results_max]})\n",
    "sigdf = pd.concat([sigdf, sig], axis = 0)\n",
    "sigdf"
   ]
  },
  {
   "cell_type": "markdown",
   "id": "757cbafa",
   "metadata": {},
   "source": [
    "## 1-2\n",
    "- Transition from lone NL segments to calls comprising lone DS or SH segments, or those segments and/or NL in any combination "
   ]
  },
  {
   "cell_type": "code",
   "execution_count": 60,
   "id": "5d657f2c",
   "metadata": {},
   "outputs": [
    {
     "data": {
      "text/plain": [
       "0    1.0\n",
       "Name: 1-2, dtype: float64"
      ]
     },
     "execution_count": 60,
     "metadata": {},
     "output_type": "execute_result"
    }
   ],
   "source": [
    "trans_origdf[\"1-2\"]"
   ]
  },
  {
   "cell_type": "code",
   "execution_count": 61,
   "id": "1e84b3db",
   "metadata": {},
   "outputs": [
    {
     "data": {
      "text/plain": [
       "0.14285714285714285"
      ]
     },
     "execution_count": 61,
     "metadata": {},
     "output_type": "execute_result"
    }
   ],
   "source": [
    "min(randdfs[\"1-2\"])"
   ]
  },
  {
   "cell_type": "code",
   "execution_count": 62,
   "id": "47e0f069",
   "metadata": {},
   "outputs": [
    {
     "data": {
      "text/plain": [
       "1.0"
      ]
     },
     "execution_count": 62,
     "metadata": {},
     "output_type": "execute_result"
    }
   ],
   "source": [
    "max(randdfs[\"1-2\"])"
   ]
  },
  {
   "cell_type": "code",
   "execution_count": 63,
   "id": "406c8818",
   "metadata": {},
   "outputs": [],
   "source": [
    "x = 1\n",
    "rand_prob = np.array(randdfs[\"1-2\"].values)"
   ]
  },
  {
   "cell_type": "code",
   "execution_count": 64,
   "id": "aedc7488",
   "metadata": {},
   "outputs": [
    {
     "data": {
      "text/plain": [
       "1.0"
      ]
     },
     "execution_count": 64,
     "metadata": {},
     "output_type": "execute_result"
    }
   ],
   "source": [
    "##Lower tail probability\n",
    "results_min = min_monte_carlo(x=x, rand_prob=rand_prob, tot_samples = 10000)\n",
    "results_min"
   ]
  },
  {
   "cell_type": "code",
   "execution_count": 65,
   "id": "12987e16",
   "metadata": {},
   "outputs": [
    {
     "data": {
      "text/plain": [
       "10000"
      ]
     },
     "execution_count": 65,
     "metadata": {},
     "output_type": "execute_result"
    }
   ],
   "source": [
    "np.sum(rand_prob <= x)"
   ]
  },
  {
   "cell_type": "code",
   "execution_count": 66,
   "id": "a13db2aa",
   "metadata": {},
   "outputs": [
    {
     "data": {
      "text/plain": [
       "0.0006999300069993001"
      ]
     },
     "execution_count": 66,
     "metadata": {},
     "output_type": "execute_result"
    }
   ],
   "source": [
    "##Upper tail probability\n",
    "results_max = max_monte_carlo(x=x, rand_prob=rand_prob, tot_samples = 10000)\n",
    "results_max"
   ]
  },
  {
   "cell_type": "code",
   "execution_count": 67,
   "id": "3c5c2af1",
   "metadata": {},
   "outputs": [
    {
     "data": {
      "text/plain": [
       "6"
      ]
     },
     "execution_count": 67,
     "metadata": {},
     "output_type": "execute_result"
    }
   ],
   "source": [
    "np.sum(rand_prob >= x)"
   ]
  },
  {
   "cell_type": "code",
   "execution_count": 68,
   "id": "d3f55c4d",
   "metadata": {},
   "outputs": [],
   "source": [
    "# 6 simulations show transition prob equal to 1"
   ]
  },
  {
   "cell_type": "code",
   "execution_count": 69,
   "id": "747907ee",
   "metadata": {},
   "outputs": [
    {
     "data": {
      "text/html": [
       "<div>\n",
       "<style scoped>\n",
       "    .dataframe tbody tr th:only-of-type {\n",
       "        vertical-align: middle;\n",
       "    }\n",
       "\n",
       "    .dataframe tbody tr th {\n",
       "        vertical-align: top;\n",
       "    }\n",
       "\n",
       "    .dataframe thead th {\n",
       "        text-align: right;\n",
       "    }\n",
       "</style>\n",
       "<table border=\"1\" class=\"dataframe\">\n",
       "  <thead>\n",
       "    <tr style=\"text-align: right;\">\n",
       "      <th></th>\n",
       "      <th>Transition</th>\n",
       "      <th>Orig_Prob</th>\n",
       "      <th>Lower Tail</th>\n",
       "      <th>Upper Tail</th>\n",
       "    </tr>\n",
       "  </thead>\n",
       "  <tbody>\n",
       "    <tr>\n",
       "      <th>0</th>\n",
       "      <td>0-0</td>\n",
       "      <td>0.333333</td>\n",
       "      <td>0.222578</td>\n",
       "      <td>0.777522</td>\n",
       "    </tr>\n",
       "    <tr>\n",
       "      <th>0</th>\n",
       "      <td>0-1</td>\n",
       "      <td>0.000000</td>\n",
       "      <td>0.002100</td>\n",
       "      <td>1.000000</td>\n",
       "    </tr>\n",
       "    <tr>\n",
       "      <th>0</th>\n",
       "      <td>0-2</td>\n",
       "      <td>0.666667</td>\n",
       "      <td>0.977102</td>\n",
       "      <td>0.022998</td>\n",
       "    </tr>\n",
       "    <tr>\n",
       "      <th>0</th>\n",
       "      <td>1-0</td>\n",
       "      <td>0.000000</td>\n",
       "      <td>0.002000</td>\n",
       "      <td>1.000000</td>\n",
       "    </tr>\n",
       "    <tr>\n",
       "      <th>0</th>\n",
       "      <td>1-1</td>\n",
       "      <td>0.000000</td>\n",
       "      <td>0.485251</td>\n",
       "      <td>1.000000</td>\n",
       "    </tr>\n",
       "    <tr>\n",
       "      <th>0</th>\n",
       "      <td>1-2</td>\n",
       "      <td>1.000000</td>\n",
       "      <td>1.000000</td>\n",
       "      <td>0.000700</td>\n",
       "    </tr>\n",
       "  </tbody>\n",
       "</table>\n",
       "</div>"
      ],
      "text/plain": [
       "  Transition  Orig_Prob  Lower Tail  Upper Tail\n",
       "0        0-0   0.333333    0.222578    0.777522\n",
       "0        0-1   0.000000    0.002100    1.000000\n",
       "0        0-2   0.666667    0.977102    0.022998\n",
       "0        1-0   0.000000    0.002000    1.000000\n",
       "0        1-1   0.000000    0.485251    1.000000\n",
       "0        1-2   1.000000    1.000000    0.000700"
      ]
     },
     "execution_count": 69,
     "metadata": {},
     "output_type": "execute_result"
    }
   ],
   "source": [
    "sig = pd.DataFrame({\"Transition\":[\"1-2\"], \"Orig_Prob\": [x], \"Lower Tail\": [results_min], \"Upper Tail\": [results_max]})\n",
    "sigdf = pd.concat([sigdf, sig], axis = 0)\n",
    "sigdf"
   ]
  },
  {
   "cell_type": "markdown",
   "id": "15847c7f",
   "metadata": {},
   "source": [
    "## 2-0\n",
    "- Transition from calls comprising lone DS or SH segments, or those segments and/or NL in any combination, to calls containing an LH segment"
   ]
  },
  {
   "cell_type": "code",
   "execution_count": 70,
   "id": "5645a014",
   "metadata": {},
   "outputs": [
    {
     "data": {
      "text/plain": [
       "0    0.648387\n",
       "Name: 2-0, dtype: float64"
      ]
     },
     "execution_count": 70,
     "metadata": {},
     "output_type": "execute_result"
    }
   ],
   "source": [
    "trans_origdf[\"2-0\"]"
   ]
  },
  {
   "cell_type": "code",
   "execution_count": 71,
   "id": "45327114",
   "metadata": {},
   "outputs": [
    {
     "data": {
      "text/plain": [
       "0.26666666666666666"
      ]
     },
     "execution_count": 71,
     "metadata": {},
     "output_type": "execute_result"
    }
   ],
   "source": [
    "min(randdfs[\"2-0\"])"
   ]
  },
  {
   "cell_type": "code",
   "execution_count": 72,
   "id": "1872f377",
   "metadata": {},
   "outputs": [
    {
     "data": {
      "text/plain": [
       "0.46798029556650245"
      ]
     },
     "execution_count": 72,
     "metadata": {},
     "output_type": "execute_result"
    }
   ],
   "source": [
    "max(randdfs[\"2-0\"])"
   ]
  },
  {
   "cell_type": "code",
   "execution_count": 73,
   "id": "f05f4acc",
   "metadata": {},
   "outputs": [],
   "source": [
    "x = 0.648387\n",
    "rand_prob = np.array(randdfs[\"2-0\"].values)"
   ]
  },
  {
   "cell_type": "code",
   "execution_count": 74,
   "id": "4ab55e71",
   "metadata": {},
   "outputs": [
    {
     "data": {
      "text/plain": [
       "1.0"
      ]
     },
     "execution_count": 74,
     "metadata": {},
     "output_type": "execute_result"
    }
   ],
   "source": [
    "##Lower tail probability\n",
    "results_min = min_monte_carlo(x=x, rand_prob=rand_prob, tot_samples = 10000)\n",
    "results_min"
   ]
  },
  {
   "cell_type": "code",
   "execution_count": 75,
   "id": "eba82101",
   "metadata": {},
   "outputs": [
    {
     "data": {
      "text/plain": [
       "10000"
      ]
     },
     "execution_count": 75,
     "metadata": {},
     "output_type": "execute_result"
    }
   ],
   "source": [
    "np.sum(rand_prob <= x)"
   ]
  },
  {
   "cell_type": "code",
   "execution_count": 76,
   "id": "36d87a62",
   "metadata": {},
   "outputs": [
    {
     "data": {
      "text/plain": [
       "9.999000099990002e-05"
      ]
     },
     "execution_count": 76,
     "metadata": {},
     "output_type": "execute_result"
    }
   ],
   "source": [
    "##Upper tail probability\n",
    "results_max = max_monte_carlo(x=x, rand_prob=rand_prob, tot_samples = 10000)\n",
    "results_max"
   ]
  },
  {
   "cell_type": "code",
   "execution_count": 77,
   "id": "4c216f84",
   "metadata": {},
   "outputs": [
    {
     "data": {
      "text/plain": [
       "0"
      ]
     },
     "execution_count": 77,
     "metadata": {},
     "output_type": "execute_result"
    }
   ],
   "source": [
    "np.sum(rand_prob >= x)"
   ]
  },
  {
   "cell_type": "code",
   "execution_count": 78,
   "id": "e35f19df",
   "metadata": {},
   "outputs": [],
   "source": [
    "## All rnadom probs less than observed for 2-0"
   ]
  },
  {
   "cell_type": "code",
   "execution_count": 79,
   "id": "665bc266",
   "metadata": {},
   "outputs": [
    {
     "data": {
      "text/html": [
       "<div>\n",
       "<style scoped>\n",
       "    .dataframe tbody tr th:only-of-type {\n",
       "        vertical-align: middle;\n",
       "    }\n",
       "\n",
       "    .dataframe tbody tr th {\n",
       "        vertical-align: top;\n",
       "    }\n",
       "\n",
       "    .dataframe thead th {\n",
       "        text-align: right;\n",
       "    }\n",
       "</style>\n",
       "<table border=\"1\" class=\"dataframe\">\n",
       "  <thead>\n",
       "    <tr style=\"text-align: right;\">\n",
       "      <th></th>\n",
       "      <th>Transition</th>\n",
       "      <th>Orig_Prob</th>\n",
       "      <th>Lower Tail</th>\n",
       "      <th>Upper Tail</th>\n",
       "    </tr>\n",
       "  </thead>\n",
       "  <tbody>\n",
       "    <tr>\n",
       "      <th>0</th>\n",
       "      <td>0-0</td>\n",
       "      <td>0.333333</td>\n",
       "      <td>0.222578</td>\n",
       "      <td>0.777522</td>\n",
       "    </tr>\n",
       "    <tr>\n",
       "      <th>0</th>\n",
       "      <td>0-1</td>\n",
       "      <td>0.000000</td>\n",
       "      <td>0.002100</td>\n",
       "      <td>1.000000</td>\n",
       "    </tr>\n",
       "    <tr>\n",
       "      <th>0</th>\n",
       "      <td>0-2</td>\n",
       "      <td>0.666667</td>\n",
       "      <td>0.977102</td>\n",
       "      <td>0.022998</td>\n",
       "    </tr>\n",
       "    <tr>\n",
       "      <th>0</th>\n",
       "      <td>1-0</td>\n",
       "      <td>0.000000</td>\n",
       "      <td>0.002000</td>\n",
       "      <td>1.000000</td>\n",
       "    </tr>\n",
       "    <tr>\n",
       "      <th>0</th>\n",
       "      <td>1-1</td>\n",
       "      <td>0.000000</td>\n",
       "      <td>0.485251</td>\n",
       "      <td>1.000000</td>\n",
       "    </tr>\n",
       "    <tr>\n",
       "      <th>0</th>\n",
       "      <td>1-2</td>\n",
       "      <td>1.000000</td>\n",
       "      <td>1.000000</td>\n",
       "      <td>0.000700</td>\n",
       "    </tr>\n",
       "    <tr>\n",
       "      <th>0</th>\n",
       "      <td>2-0</td>\n",
       "      <td>0.648387</td>\n",
       "      <td>1.000000</td>\n",
       "      <td>0.000100</td>\n",
       "    </tr>\n",
       "  </tbody>\n",
       "</table>\n",
       "</div>"
      ],
      "text/plain": [
       "  Transition  Orig_Prob  Lower Tail  Upper Tail\n",
       "0        0-0   0.333333    0.222578    0.777522\n",
       "0        0-1   0.000000    0.002100    1.000000\n",
       "0        0-2   0.666667    0.977102    0.022998\n",
       "0        1-0   0.000000    0.002000    1.000000\n",
       "0        1-1   0.000000    0.485251    1.000000\n",
       "0        1-2   1.000000    1.000000    0.000700\n",
       "0        2-0   0.648387    1.000000    0.000100"
      ]
     },
     "execution_count": 79,
     "metadata": {},
     "output_type": "execute_result"
    }
   ],
   "source": [
    "sig = pd.DataFrame({\"Transition\":[\"2-0\"], \"Orig_Prob\": [x], \"Lower Tail\": [results_min], \"Upper Tail\": [results_max]})\n",
    "sigdf = pd.concat([sigdf, sig], axis = 0)\n",
    "sigdf"
   ]
  },
  {
   "cell_type": "markdown",
   "id": "a3f3a6fd",
   "metadata": {},
   "source": [
    "## 2-1\n",
    "- Transition from calls comprising lone DS or SH segments, or those segments and/or NL in any combination, to lone NL segment calls"
   ]
  },
  {
   "cell_type": "code",
   "execution_count": 80,
   "id": "a732ffaf",
   "metadata": {},
   "outputs": [
    {
     "data": {
      "text/plain": [
       "0    0.009677\n",
       "Name: 2-1, dtype: float64"
      ]
     },
     "execution_count": 80,
     "metadata": {},
     "output_type": "execute_result"
    }
   ],
   "source": [
    "trans_origdf[\"2-1\"]"
   ]
  },
  {
   "cell_type": "code",
   "execution_count": 81,
   "id": "4bc0d4cb",
   "metadata": {},
   "outputs": [
    {
     "data": {
      "text/plain": [
       "0.00980392156862745"
      ]
     },
     "execution_count": 81,
     "metadata": {},
     "output_type": "execute_result"
    }
   ],
   "source": [
    "min(randdfs[\"2-1\"])"
   ]
  },
  {
   "cell_type": "code",
   "execution_count": 82,
   "id": "43969c61",
   "metadata": {},
   "outputs": [
    {
     "data": {
      "text/plain": [
       "0.09852216748768473"
      ]
     },
     "execution_count": 82,
     "metadata": {},
     "output_type": "execute_result"
    }
   ],
   "source": [
    "max(randdfs[\"2-1\"])"
   ]
  },
  {
   "cell_type": "code",
   "execution_count": 83,
   "id": "27cd70ed",
   "metadata": {},
   "outputs": [],
   "source": [
    "x = 0.009677\n",
    "rand_prob = np.array(randdfs[\"2-1\"].values)"
   ]
  },
  {
   "cell_type": "code",
   "execution_count": 84,
   "id": "af386049",
   "metadata": {},
   "outputs": [
    {
     "data": {
      "text/plain": [
       "9.999000099990002e-05"
      ]
     },
     "execution_count": 84,
     "metadata": {},
     "output_type": "execute_result"
    }
   ],
   "source": [
    "##Lower tail probability\n",
    "results_min = min_monte_carlo(x=x, rand_prob=rand_prob, tot_samples = 10000)\n",
    "results_min"
   ]
  },
  {
   "cell_type": "code",
   "execution_count": 85,
   "id": "d42ab3d9",
   "metadata": {},
   "outputs": [
    {
     "data": {
      "text/plain": [
       "0"
      ]
     },
     "execution_count": 85,
     "metadata": {},
     "output_type": "execute_result"
    }
   ],
   "source": [
    "np.sum(rand_prob <= x)"
   ]
  },
  {
   "cell_type": "code",
   "execution_count": 86,
   "id": "c99ccad0",
   "metadata": {},
   "outputs": [
    {
     "data": {
      "text/plain": [
       "1.0"
      ]
     },
     "execution_count": 86,
     "metadata": {},
     "output_type": "execute_result"
    }
   ],
   "source": [
    "##Upper tail probability\n",
    "results_max = max_monte_carlo(x=x, rand_prob=rand_prob, tot_samples = 10000)\n",
    "results_max"
   ]
  },
  {
   "cell_type": "code",
   "execution_count": 87,
   "id": "4664907a",
   "metadata": {},
   "outputs": [
    {
     "data": {
      "text/plain": [
       "10000"
      ]
     },
     "execution_count": 87,
     "metadata": {},
     "output_type": "execute_result"
    }
   ],
   "source": [
    "np.sum(rand_prob >= x)"
   ]
  },
  {
   "cell_type": "code",
   "execution_count": 88,
   "id": "f8256046",
   "metadata": {},
   "outputs": [],
   "source": [
    "### All rnadom probs greater than observed for 2-1"
   ]
  },
  {
   "cell_type": "code",
   "execution_count": 89,
   "id": "334ca5f5",
   "metadata": {},
   "outputs": [
    {
     "data": {
      "text/html": [
       "<div>\n",
       "<style scoped>\n",
       "    .dataframe tbody tr th:only-of-type {\n",
       "        vertical-align: middle;\n",
       "    }\n",
       "\n",
       "    .dataframe tbody tr th {\n",
       "        vertical-align: top;\n",
       "    }\n",
       "\n",
       "    .dataframe thead th {\n",
       "        text-align: right;\n",
       "    }\n",
       "</style>\n",
       "<table border=\"1\" class=\"dataframe\">\n",
       "  <thead>\n",
       "    <tr style=\"text-align: right;\">\n",
       "      <th></th>\n",
       "      <th>Transition</th>\n",
       "      <th>Orig_Prob</th>\n",
       "      <th>Lower Tail</th>\n",
       "      <th>Upper Tail</th>\n",
       "    </tr>\n",
       "  </thead>\n",
       "  <tbody>\n",
       "    <tr>\n",
       "      <th>0</th>\n",
       "      <td>0-0</td>\n",
       "      <td>0.333333</td>\n",
       "      <td>0.222578</td>\n",
       "      <td>0.777522</td>\n",
       "    </tr>\n",
       "    <tr>\n",
       "      <th>0</th>\n",
       "      <td>0-1</td>\n",
       "      <td>0.000000</td>\n",
       "      <td>0.002100</td>\n",
       "      <td>1.000000</td>\n",
       "    </tr>\n",
       "    <tr>\n",
       "      <th>0</th>\n",
       "      <td>0-2</td>\n",
       "      <td>0.666667</td>\n",
       "      <td>0.977102</td>\n",
       "      <td>0.022998</td>\n",
       "    </tr>\n",
       "    <tr>\n",
       "      <th>0</th>\n",
       "      <td>1-0</td>\n",
       "      <td>0.000000</td>\n",
       "      <td>0.002000</td>\n",
       "      <td>1.000000</td>\n",
       "    </tr>\n",
       "    <tr>\n",
       "      <th>0</th>\n",
       "      <td>1-1</td>\n",
       "      <td>0.000000</td>\n",
       "      <td>0.485251</td>\n",
       "      <td>1.000000</td>\n",
       "    </tr>\n",
       "    <tr>\n",
       "      <th>0</th>\n",
       "      <td>1-2</td>\n",
       "      <td>1.000000</td>\n",
       "      <td>1.000000</td>\n",
       "      <td>0.000700</td>\n",
       "    </tr>\n",
       "    <tr>\n",
       "      <th>0</th>\n",
       "      <td>2-0</td>\n",
       "      <td>0.648387</td>\n",
       "      <td>1.000000</td>\n",
       "      <td>0.000100</td>\n",
       "    </tr>\n",
       "    <tr>\n",
       "      <th>0</th>\n",
       "      <td>2-1</td>\n",
       "      <td>0.009677</td>\n",
       "      <td>0.000100</td>\n",
       "      <td>1.000000</td>\n",
       "    </tr>\n",
       "  </tbody>\n",
       "</table>\n",
       "</div>"
      ],
      "text/plain": [
       "  Transition  Orig_Prob  Lower Tail  Upper Tail\n",
       "0        0-0   0.333333    0.222578    0.777522\n",
       "0        0-1   0.000000    0.002100    1.000000\n",
       "0        0-2   0.666667    0.977102    0.022998\n",
       "0        1-0   0.000000    0.002000    1.000000\n",
       "0        1-1   0.000000    0.485251    1.000000\n",
       "0        1-2   1.000000    1.000000    0.000700\n",
       "0        2-0   0.648387    1.000000    0.000100\n",
       "0        2-1   0.009677    0.000100    1.000000"
      ]
     },
     "execution_count": 89,
     "metadata": {},
     "output_type": "execute_result"
    }
   ],
   "source": [
    "sig = pd.DataFrame({\"Transition\":[\"2-1\"], \"Orig_Prob\": [x], \"Lower Tail\": [results_min], \"Upper Tail\": [results_max]})\n",
    "sigdf = pd.concat([sigdf, sig], axis = 0)\n",
    "sigdf"
   ]
  },
  {
   "cell_type": "markdown",
   "id": "278bb5bf",
   "metadata": {},
   "source": [
    "## 2-2\n",
    "- Transition from calls comprising lone DS or SH segments, or those segments and/or NL in any combination, to calls within the same group"
   ]
  },
  {
   "cell_type": "code",
   "execution_count": 90,
   "id": "7f893c75",
   "metadata": {},
   "outputs": [
    {
     "data": {
      "text/plain": [
       "0    0.341935\n",
       "Name: 2-2, dtype: float64"
      ]
     },
     "execution_count": 90,
     "metadata": {},
     "output_type": "execute_result"
    }
   ],
   "source": [
    "trans_origdf[\"2-2\"]"
   ]
  },
  {
   "cell_type": "code",
   "execution_count": 91,
   "id": "36dec0b5",
   "metadata": {},
   "outputs": [
    {
     "data": {
      "text/plain": [
       "0.48792270531400966"
      ]
     },
     "execution_count": 91,
     "metadata": {},
     "output_type": "execute_result"
    }
   ],
   "source": [
    "min(randdfs[\"2-2\"])"
   ]
  },
  {
   "cell_type": "code",
   "execution_count": 92,
   "id": "34c2a5e7",
   "metadata": {},
   "outputs": [
    {
     "data": {
      "text/plain": [
       "0.6871794871794872"
      ]
     },
     "execution_count": 92,
     "metadata": {},
     "output_type": "execute_result"
    }
   ],
   "source": [
    "max(randdfs[\"2-2\"])"
   ]
  },
  {
   "cell_type": "code",
   "execution_count": 93,
   "id": "174829f3",
   "metadata": {},
   "outputs": [],
   "source": [
    "x = 0.341935\n",
    "rand_prob = np.array(randdfs[\"2-2\"].values)"
   ]
  },
  {
   "cell_type": "code",
   "execution_count": 94,
   "id": "40c662f1",
   "metadata": {},
   "outputs": [
    {
     "data": {
      "text/plain": [
       "9.999000099990002e-05"
      ]
     },
     "execution_count": 94,
     "metadata": {},
     "output_type": "execute_result"
    }
   ],
   "source": [
    "##Lower tail probability\n",
    "results_min = min_monte_carlo(x=x, rand_prob=rand_prob, tot_samples = 10000)\n",
    "results_min"
   ]
  },
  {
   "cell_type": "code",
   "execution_count": 95,
   "id": "6c385e32",
   "metadata": {},
   "outputs": [
    {
     "data": {
      "text/plain": [
       "0"
      ]
     },
     "execution_count": 95,
     "metadata": {},
     "output_type": "execute_result"
    }
   ],
   "source": [
    "np.sum(rand_prob <= x)"
   ]
  },
  {
   "cell_type": "code",
   "execution_count": 96,
   "id": "9eae2e12",
   "metadata": {},
   "outputs": [
    {
     "data": {
      "text/plain": [
       "1.0"
      ]
     },
     "execution_count": 96,
     "metadata": {},
     "output_type": "execute_result"
    }
   ],
   "source": [
    "##Upper tail probability\n",
    "results_max = max_monte_carlo(x=x, rand_prob=rand_prob, tot_samples = 10000)\n",
    "results_max"
   ]
  },
  {
   "cell_type": "code",
   "execution_count": 97,
   "id": "256f4afd",
   "metadata": {},
   "outputs": [
    {
     "data": {
      "text/plain": [
       "10000"
      ]
     },
     "execution_count": 97,
     "metadata": {},
     "output_type": "execute_result"
    }
   ],
   "source": [
    "np.sum(rand_prob >= x)"
   ]
  },
  {
   "cell_type": "code",
   "execution_count": 98,
   "id": "1ac990c5",
   "metadata": {},
   "outputs": [],
   "source": [
    "### All rnadom probs higher than observed for 2-2"
   ]
  },
  {
   "cell_type": "code",
   "execution_count": 99,
   "id": "2dee08e9",
   "metadata": {},
   "outputs": [
    {
     "data": {
      "text/html": [
       "<div>\n",
       "<style scoped>\n",
       "    .dataframe tbody tr th:only-of-type {\n",
       "        vertical-align: middle;\n",
       "    }\n",
       "\n",
       "    .dataframe tbody tr th {\n",
       "        vertical-align: top;\n",
       "    }\n",
       "\n",
       "    .dataframe thead th {\n",
       "        text-align: right;\n",
       "    }\n",
       "</style>\n",
       "<table border=\"1\" class=\"dataframe\">\n",
       "  <thead>\n",
       "    <tr style=\"text-align: right;\">\n",
       "      <th></th>\n",
       "      <th>Transition</th>\n",
       "      <th>Orig_Prob</th>\n",
       "      <th>Lower Tail</th>\n",
       "      <th>Upper Tail</th>\n",
       "    </tr>\n",
       "  </thead>\n",
       "  <tbody>\n",
       "    <tr>\n",
       "      <th>0</th>\n",
       "      <td>0-0</td>\n",
       "      <td>0.333333</td>\n",
       "      <td>0.222578</td>\n",
       "      <td>0.777522</td>\n",
       "    </tr>\n",
       "    <tr>\n",
       "      <th>0</th>\n",
       "      <td>0-1</td>\n",
       "      <td>0.000000</td>\n",
       "      <td>0.002100</td>\n",
       "      <td>1.000000</td>\n",
       "    </tr>\n",
       "    <tr>\n",
       "      <th>0</th>\n",
       "      <td>0-2</td>\n",
       "      <td>0.666667</td>\n",
       "      <td>0.977102</td>\n",
       "      <td>0.022998</td>\n",
       "    </tr>\n",
       "    <tr>\n",
       "      <th>0</th>\n",
       "      <td>1-0</td>\n",
       "      <td>0.000000</td>\n",
       "      <td>0.002000</td>\n",
       "      <td>1.000000</td>\n",
       "    </tr>\n",
       "    <tr>\n",
       "      <th>0</th>\n",
       "      <td>1-1</td>\n",
       "      <td>0.000000</td>\n",
       "      <td>0.485251</td>\n",
       "      <td>1.000000</td>\n",
       "    </tr>\n",
       "    <tr>\n",
       "      <th>0</th>\n",
       "      <td>1-2</td>\n",
       "      <td>1.000000</td>\n",
       "      <td>1.000000</td>\n",
       "      <td>0.000700</td>\n",
       "    </tr>\n",
       "    <tr>\n",
       "      <th>0</th>\n",
       "      <td>2-0</td>\n",
       "      <td>0.648387</td>\n",
       "      <td>1.000000</td>\n",
       "      <td>0.000100</td>\n",
       "    </tr>\n",
       "    <tr>\n",
       "      <th>0</th>\n",
       "      <td>2-1</td>\n",
       "      <td>0.009677</td>\n",
       "      <td>0.000100</td>\n",
       "      <td>1.000000</td>\n",
       "    </tr>\n",
       "    <tr>\n",
       "      <th>0</th>\n",
       "      <td>2-2</td>\n",
       "      <td>0.341935</td>\n",
       "      <td>0.000100</td>\n",
       "      <td>1.000000</td>\n",
       "    </tr>\n",
       "  </tbody>\n",
       "</table>\n",
       "</div>"
      ],
      "text/plain": [
       "  Transition  Orig_Prob  Lower Tail  Upper Tail\n",
       "0        0-0   0.333333    0.222578    0.777522\n",
       "0        0-1   0.000000    0.002100    1.000000\n",
       "0        0-2   0.666667    0.977102    0.022998\n",
       "0        1-0   0.000000    0.002000    1.000000\n",
       "0        1-1   0.000000    0.485251    1.000000\n",
       "0        1-2   1.000000    1.000000    0.000700\n",
       "0        2-0   0.648387    1.000000    0.000100\n",
       "0        2-1   0.009677    0.000100    1.000000\n",
       "0        2-2   0.341935    0.000100    1.000000"
      ]
     },
     "execution_count": 99,
     "metadata": {},
     "output_type": "execute_result"
    }
   ],
   "source": [
    "sig = pd.DataFrame({\"Transition\":[\"2-2\"], \"Orig_Prob\": [x], \"Lower Tail\": [results_min], \"Upper Tail\": [results_max]})\n",
    "sigdf = pd.concat([sigdf, sig], axis = 0)\n",
    "sigdf"
   ]
  },
  {
   "cell_type": "code",
   "execution_count": null,
   "id": "8ef942cc",
   "metadata": {},
   "outputs": [],
   "source": [
    "#Contains LH Segment: 0 (MS = 2)\n",
    "#NL Segment Alone:1 (MS = 3)\n",
    "#Other Calls:2 (MS = 1)"
   ]
  }
 ],
 "metadata": {
  "kernelspec": {
   "display_name": "Python 3 (ipykernel)",
   "language": "python",
   "name": "python3"
  },
  "language_info": {
   "codemirror_mode": {
    "name": "ipython",
    "version": 3
   },
   "file_extension": ".py",
   "mimetype": "text/x-python",
   "name": "python",
   "nbconvert_exporter": "python",
   "pygments_lexer": "ipython3",
   "version": "3.8.13"
  }
 },
 "nbformat": 4,
 "nbformat_minor": 5
}
