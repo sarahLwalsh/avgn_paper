{
 "cells": [
  {
   "cell_type": "markdown",
   "id": "6db7034b",
   "metadata": {},
   "source": [
    "# Calculate Observed Transition Probabilities\n",
    "In the following notebook, we calculate transition probabilities between the calls comprising combinations. Probabilities are calculated based on forward transitions (i.e. the likelihood for one call transition to another - which can either be from the same or a different class). \n",
    "\n",
    "We use code adapted from [Sainburg et al., (2020)](https://doi.org/10.1371/journal.pcbi.1008228) and [github.com/timsainb/avgn](https://github.com/timsainb/avgn_paper) to produce the figure for these transitions which are displayed as comparisons to the position of the call class in UMAP latent space.\n",
    "\n",
    "This notebook uses Python v3.8.13 (compared to v3.6 used in earlier notebooks)."
   ]
  },
  {
   "cell_type": "code",
   "execution_count": 1,
   "id": "3eb7df06",
   "metadata": {},
   "outputs": [],
   "source": [
    "from tqdm.auto import tqdm"
   ]
  },
  {
   "cell_type": "code",
   "execution_count": 2,
   "id": "95d3583e",
   "metadata": {},
   "outputs": [],
   "source": [
    "import avgn"
   ]
  },
  {
   "cell_type": "code",
   "execution_count": 3,
   "id": "45d2b615",
   "metadata": {},
   "outputs": [],
   "source": [
    "import pandas as pd\n",
    "import numpy as np\n",
    "from avgn.utils.paths import DATA_DIR, ensure_dir, FIGURE_DIR"
   ]
  },
  {
   "cell_type": "code",
   "execution_count": 5,
   "id": "8c490d14",
   "metadata": {},
   "outputs": [],
   "source": [
    "DATASET_ID = \"git_repos_call\""
   ]
  },
  {
   "cell_type": "code",
   "execution_count": 6,
   "id": "04ec6e42",
   "metadata": {},
   "outputs": [],
   "source": [
    "DT_ID = '2022-03-12_17-46-00'"
   ]
  },
  {
   "cell_type": "code",
   "execution_count": 7,
   "id": "eb28146d",
   "metadata": {},
   "outputs": [
    {
     "data": {
      "text/html": [
       "<div>\n",
       "<style scoped>\n",
       "    .dataframe tbody tr th:only-of-type {\n",
       "        vertical-align: middle;\n",
       "    }\n",
       "\n",
       "    .dataframe tbody tr th {\n",
       "        vertical-align: top;\n",
       "    }\n",
       "\n",
       "    .dataframe thead th {\n",
       "        text-align: right;\n",
       "    }\n",
       "</style>\n",
       "<table border=\"1\" class=\"dataframe\">\n",
       "  <thead>\n",
       "    <tr style=\"text-align: right;\">\n",
       "      <th></th>\n",
       "      <th>start_time</th>\n",
       "      <th>end_time</th>\n",
       "      <th>labels</th>\n",
       "      <th>indv</th>\n",
       "      <th>indvi</th>\n",
       "      <th>filename</th>\n",
       "      <th>group</th>\n",
       "      <th>location</th>\n",
       "      <th>sex</th>\n",
       "      <th>wav_loc</th>\n",
       "      <th>...</th>\n",
       "      <th>comb_labels</th>\n",
       "      <th>umap</th>\n",
       "      <th>spectrogram</th>\n",
       "      <th>call_lab_simp</th>\n",
       "      <th>combi_lab_simp</th>\n",
       "      <th>call_unique_num</th>\n",
       "      <th>call_pos_combi</th>\n",
       "      <th>combi_label</th>\n",
       "      <th>combi_unique_num</th>\n",
       "      <th>simp</th>\n",
       "    </tr>\n",
       "    <tr>\n",
       "      <th>ID</th>\n",
       "      <th></th>\n",
       "      <th></th>\n",
       "      <th></th>\n",
       "      <th></th>\n",
       "      <th></th>\n",
       "      <th></th>\n",
       "      <th></th>\n",
       "      <th></th>\n",
       "      <th></th>\n",
       "      <th></th>\n",
       "      <th></th>\n",
       "      <th></th>\n",
       "      <th></th>\n",
       "      <th></th>\n",
       "      <th></th>\n",
       "      <th></th>\n",
       "      <th></th>\n",
       "      <th></th>\n",
       "      <th></th>\n",
       "      <th></th>\n",
       "      <th></th>\n",
       "    </tr>\n",
       "  </thead>\n",
       "  <tbody>\n",
       "    <tr>\n",
       "      <th>0</th>\n",
       "      <td>0.753604</td>\n",
       "      <td>0.921160</td>\n",
       "      <td>DSSHDS</td>\n",
       "      <td>MGGY</td>\n",
       "      <td>0</td>\n",
       "      <td>BWY MGGY Call Combo 1 290719 PM</td>\n",
       "      <td>BWYa</td>\n",
       "      <td>CRAWLEY</td>\n",
       "      <td>F</td>\n",
       "      <td>C:/Users/slwal/anaconda3/envs/PY36/avgn_paper-...</td>\n",
       "      <td>...</td>\n",
       "      <td>DSSHDS</td>\n",
       "      <td>[5.7770762, 7.997407]</td>\n",
       "      <td>[[0.0, 0.0, 0.0, 0.0, 0.0, 0.0, 0.0, 0.0, 0.0,...</td>\n",
       "      <td>DS-SH-DS</td>\n",
       "      <td>DS-SH-DS SH-LH</td>\n",
       "      <td>0</td>\n",
       "      <td>0</td>\n",
       "      <td>DSSHDS SHSHLH</td>\n",
       "      <td>0</td>\n",
       "      <td>Other Calls</td>\n",
       "    </tr>\n",
       "    <tr>\n",
       "      <th>1</th>\n",
       "      <td>0.932017</td>\n",
       "      <td>1.367130</td>\n",
       "      <td>SHSHLH</td>\n",
       "      <td>MGGY</td>\n",
       "      <td>0</td>\n",
       "      <td>BWY MGGY Call Combo 1 290719 PM</td>\n",
       "      <td>BWYa</td>\n",
       "      <td>CRAWLEY</td>\n",
       "      <td>F</td>\n",
       "      <td>C:/Users/slwal/anaconda3/envs/PY36/avgn_paper-...</td>\n",
       "      <td>...</td>\n",
       "      <td>SHSHLH</td>\n",
       "      <td>[1.8122675, 5.094298]</td>\n",
       "      <td>[[0.0, 0.0, 0.0, 0.0, 0.0, 0.0, 0.0, 0.0, 0.0,...</td>\n",
       "      <td>SH-LH</td>\n",
       "      <td>DS-SH-DS SH-LH</td>\n",
       "      <td>1</td>\n",
       "      <td>1</td>\n",
       "      <td>DSSHDS SHSHLH</td>\n",
       "      <td>0</td>\n",
       "      <td>Contains LH Segment</td>\n",
       "    </tr>\n",
       "    <tr>\n",
       "      <th>2</th>\n",
       "      <td>1.218085</td>\n",
       "      <td>1.308841</td>\n",
       "      <td>DS</td>\n",
       "      <td>MGGY</td>\n",
       "      <td>0</td>\n",
       "      <td>BWY MGGY Call Combo 1 300719 AM</td>\n",
       "      <td>BWYa</td>\n",
       "      <td>CRAWLEY</td>\n",
       "      <td>F</td>\n",
       "      <td>C:/Users/slwal/anaconda3/envs/PY36/avgn_paper-...</td>\n",
       "      <td>...</td>\n",
       "      <td>DS</td>\n",
       "      <td>[9.353501, 10.055656]</td>\n",
       "      <td>[[0.0, 0.0, 0.0, 0.0, 0.0, 0.0, 0.0, 0.0, 0.0,...</td>\n",
       "      <td>DS</td>\n",
       "      <td>DS SH-LH</td>\n",
       "      <td>2</td>\n",
       "      <td>0</td>\n",
       "      <td>DS USC</td>\n",
       "      <td>1</td>\n",
       "      <td>Other Calls</td>\n",
       "    </tr>\n",
       "  </tbody>\n",
       "</table>\n",
       "<p>3 rows × 22 columns</p>\n",
       "</div>"
      ],
      "text/plain": [
       "    start_time  end_time  labels  indv  indvi  \\\n",
       "ID                                              \n",
       "0     0.753604  0.921160  DSSHDS  MGGY      0   \n",
       "1     0.932017  1.367130  SHSHLH  MGGY      0   \n",
       "2     1.218085  1.308841      DS  MGGY      0   \n",
       "\n",
       "                           filename group location sex  \\\n",
       "ID                                                       \n",
       "0   BWY MGGY Call Combo 1 290719 PM  BWYa  CRAWLEY   F   \n",
       "1   BWY MGGY Call Combo 1 290719 PM  BWYa  CRAWLEY   F   \n",
       "2   BWY MGGY Call Combo 1 300719 AM  BWYa  CRAWLEY   F   \n",
       "\n",
       "                                              wav_loc  ... comb_labels  \\\n",
       "ID                                                     ...               \n",
       "0   C:/Users/slwal/anaconda3/envs/PY36/avgn_paper-...  ...      DSSHDS   \n",
       "1   C:/Users/slwal/anaconda3/envs/PY36/avgn_paper-...  ...      SHSHLH   \n",
       "2   C:/Users/slwal/anaconda3/envs/PY36/avgn_paper-...  ...          DS   \n",
       "\n",
       "                     umap                                        spectrogram  \\\n",
       "ID                                                                             \n",
       "0   [5.7770762, 7.997407]  [[0.0, 0.0, 0.0, 0.0, 0.0, 0.0, 0.0, 0.0, 0.0,...   \n",
       "1   [1.8122675, 5.094298]  [[0.0, 0.0, 0.0, 0.0, 0.0, 0.0, 0.0, 0.0, 0.0,...   \n",
       "2   [9.353501, 10.055656]  [[0.0, 0.0, 0.0, 0.0, 0.0, 0.0, 0.0, 0.0, 0.0,...   \n",
       "\n",
       "   call_lab_simp  combi_lab_simp call_unique_num call_pos_combi  \\\n",
       "ID                                                                \n",
       "0       DS-SH-DS  DS-SH-DS SH-LH               0              0   \n",
       "1          SH-LH  DS-SH-DS SH-LH               1              1   \n",
       "2             DS        DS SH-LH               2              0   \n",
       "\n",
       "      combi_label  combi_unique_num                 simp  \n",
       "ID                                                        \n",
       "0   DSSHDS SHSHLH                 0          Other Calls  \n",
       "1   DSSHDS SHSHLH                 0  Contains LH Segment  \n",
       "2          DS USC                 1          Other Calls  \n",
       "\n",
       "[3 rows x 22 columns]"
      ]
     },
     "execution_count": 7,
     "metadata": {},
     "output_type": "execute_result"
    }
   ],
   "source": [
    "call_df = pd.read_pickle(DATA_DIR / DATASET_ID / DT_ID /  'call_umap_grouped.pickle')\n",
    "call_df[:3]"
   ]
  },
  {
   "cell_type": "code",
   "execution_count": 8,
   "id": "c6fb1b58",
   "metadata": {},
   "outputs": [
    {
     "data": {
      "text/plain": [
       "561"
      ]
     },
     "execution_count": 8,
     "metadata": {},
     "output_type": "execute_result"
    }
   ],
   "source": [
    "len(call_df)"
   ]
  },
  {
   "cell_type": "markdown",
   "id": "7a13bf1d",
   "metadata": {},
   "source": [
    "### Change call class labels to unique number identifier"
   ]
  },
  {
   "cell_type": "code",
   "execution_count": 9,
   "id": "cf45a0b3",
   "metadata": {},
   "outputs": [
    {
     "data": {
      "text/html": [
       "<div>\n",
       "<style scoped>\n",
       "    .dataframe tbody tr th:only-of-type {\n",
       "        vertical-align: middle;\n",
       "    }\n",
       "\n",
       "    .dataframe tbody tr th {\n",
       "        vertical-align: top;\n",
       "    }\n",
       "\n",
       "    .dataframe thead th {\n",
       "        text-align: right;\n",
       "    }\n",
       "</style>\n",
       "<table border=\"1\" class=\"dataframe\">\n",
       "  <thead>\n",
       "    <tr style=\"text-align: right;\">\n",
       "      <th></th>\n",
       "      <th>start_time</th>\n",
       "      <th>end_time</th>\n",
       "      <th>labels</th>\n",
       "      <th>indv</th>\n",
       "      <th>indvi</th>\n",
       "      <th>filename</th>\n",
       "      <th>group</th>\n",
       "      <th>location</th>\n",
       "      <th>sex</th>\n",
       "      <th>wav_loc</th>\n",
       "      <th>...</th>\n",
       "      <th>umap</th>\n",
       "      <th>spectrogram</th>\n",
       "      <th>call_lab_simp</th>\n",
       "      <th>combi_lab_simp</th>\n",
       "      <th>call_unique_num</th>\n",
       "      <th>call_pos_combi</th>\n",
       "      <th>combi_label</th>\n",
       "      <th>combi_unique_num</th>\n",
       "      <th>simp</th>\n",
       "      <th>simp_num</th>\n",
       "    </tr>\n",
       "    <tr>\n",
       "      <th>ID</th>\n",
       "      <th></th>\n",
       "      <th></th>\n",
       "      <th></th>\n",
       "      <th></th>\n",
       "      <th></th>\n",
       "      <th></th>\n",
       "      <th></th>\n",
       "      <th></th>\n",
       "      <th></th>\n",
       "      <th></th>\n",
       "      <th></th>\n",
       "      <th></th>\n",
       "      <th></th>\n",
       "      <th></th>\n",
       "      <th></th>\n",
       "      <th></th>\n",
       "      <th></th>\n",
       "      <th></th>\n",
       "      <th></th>\n",
       "      <th></th>\n",
       "      <th></th>\n",
       "    </tr>\n",
       "  </thead>\n",
       "  <tbody>\n",
       "    <tr>\n",
       "      <th>0</th>\n",
       "      <td>0.753604</td>\n",
       "      <td>0.921160</td>\n",
       "      <td>DSSHDS</td>\n",
       "      <td>MGGY</td>\n",
       "      <td>0</td>\n",
       "      <td>BWY MGGY Call Combo 1 290719 PM</td>\n",
       "      <td>BWYa</td>\n",
       "      <td>CRAWLEY</td>\n",
       "      <td>F</td>\n",
       "      <td>C:/Users/slwal/anaconda3/envs/PY36/avgn_paper-...</td>\n",
       "      <td>...</td>\n",
       "      <td>[5.7770762, 7.997407]</td>\n",
       "      <td>[[0.0, 0.0, 0.0, 0.0, 0.0, 0.0, 0.0, 0.0, 0.0,...</td>\n",
       "      <td>DS-SH-DS</td>\n",
       "      <td>DS-SH-DS SH-LH</td>\n",
       "      <td>0</td>\n",
       "      <td>0</td>\n",
       "      <td>DSSHDS SHSHLH</td>\n",
       "      <td>0</td>\n",
       "      <td>Other Calls</td>\n",
       "      <td>2</td>\n",
       "    </tr>\n",
       "    <tr>\n",
       "      <th>1</th>\n",
       "      <td>0.932017</td>\n",
       "      <td>1.367130</td>\n",
       "      <td>SHSHLH</td>\n",
       "      <td>MGGY</td>\n",
       "      <td>0</td>\n",
       "      <td>BWY MGGY Call Combo 1 290719 PM</td>\n",
       "      <td>BWYa</td>\n",
       "      <td>CRAWLEY</td>\n",
       "      <td>F</td>\n",
       "      <td>C:/Users/slwal/anaconda3/envs/PY36/avgn_paper-...</td>\n",
       "      <td>...</td>\n",
       "      <td>[1.8122675, 5.094298]</td>\n",
       "      <td>[[0.0, 0.0, 0.0, 0.0, 0.0, 0.0, 0.0, 0.0, 0.0,...</td>\n",
       "      <td>SH-LH</td>\n",
       "      <td>DS-SH-DS SH-LH</td>\n",
       "      <td>1</td>\n",
       "      <td>1</td>\n",
       "      <td>DSSHDS SHSHLH</td>\n",
       "      <td>0</td>\n",
       "      <td>Contains LH Segment</td>\n",
       "      <td>0</td>\n",
       "    </tr>\n",
       "    <tr>\n",
       "      <th>2</th>\n",
       "      <td>1.218085</td>\n",
       "      <td>1.308841</td>\n",
       "      <td>DS</td>\n",
       "      <td>MGGY</td>\n",
       "      <td>0</td>\n",
       "      <td>BWY MGGY Call Combo 1 300719 AM</td>\n",
       "      <td>BWYa</td>\n",
       "      <td>CRAWLEY</td>\n",
       "      <td>F</td>\n",
       "      <td>C:/Users/slwal/anaconda3/envs/PY36/avgn_paper-...</td>\n",
       "      <td>...</td>\n",
       "      <td>[9.353501, 10.055656]</td>\n",
       "      <td>[[0.0, 0.0, 0.0, 0.0, 0.0, 0.0, 0.0, 0.0, 0.0,...</td>\n",
       "      <td>DS</td>\n",
       "      <td>DS SH-LH</td>\n",
       "      <td>2</td>\n",
       "      <td>0</td>\n",
       "      <td>DS USC</td>\n",
       "      <td>1</td>\n",
       "      <td>Other Calls</td>\n",
       "      <td>2</td>\n",
       "    </tr>\n",
       "  </tbody>\n",
       "</table>\n",
       "<p>3 rows × 23 columns</p>\n",
       "</div>"
      ],
      "text/plain": [
       "    start_time  end_time  labels  indv  indvi  \\\n",
       "ID                                              \n",
       "0     0.753604  0.921160  DSSHDS  MGGY      0   \n",
       "1     0.932017  1.367130  SHSHLH  MGGY      0   \n",
       "2     1.218085  1.308841      DS  MGGY      0   \n",
       "\n",
       "                           filename group location sex  \\\n",
       "ID                                                       \n",
       "0   BWY MGGY Call Combo 1 290719 PM  BWYa  CRAWLEY   F   \n",
       "1   BWY MGGY Call Combo 1 290719 PM  BWYa  CRAWLEY   F   \n",
       "2   BWY MGGY Call Combo 1 300719 AM  BWYa  CRAWLEY   F   \n",
       "\n",
       "                                              wav_loc  ...  \\\n",
       "ID                                                     ...   \n",
       "0   C:/Users/slwal/anaconda3/envs/PY36/avgn_paper-...  ...   \n",
       "1   C:/Users/slwal/anaconda3/envs/PY36/avgn_paper-...  ...   \n",
       "2   C:/Users/slwal/anaconda3/envs/PY36/avgn_paper-...  ...   \n",
       "\n",
       "                     umap                                        spectrogram  \\\n",
       "ID                                                                             \n",
       "0   [5.7770762, 7.997407]  [[0.0, 0.0, 0.0, 0.0, 0.0, 0.0, 0.0, 0.0, 0.0,...   \n",
       "1   [1.8122675, 5.094298]  [[0.0, 0.0, 0.0, 0.0, 0.0, 0.0, 0.0, 0.0, 0.0,...   \n",
       "2   [9.353501, 10.055656]  [[0.0, 0.0, 0.0, 0.0, 0.0, 0.0, 0.0, 0.0, 0.0,...   \n",
       "\n",
       "   call_lab_simp  combi_lab_simp call_unique_num call_pos_combi  \\\n",
       "ID                                                                \n",
       "0       DS-SH-DS  DS-SH-DS SH-LH               0              0   \n",
       "1          SH-LH  DS-SH-DS SH-LH               1              1   \n",
       "2             DS        DS SH-LH               2              0   \n",
       "\n",
       "      combi_label  combi_unique_num                 simp simp_num  \n",
       "ID                                                                 \n",
       "0   DSSHDS SHSHLH                 0          Other Calls        2  \n",
       "1   DSSHDS SHSHLH                 0  Contains LH Segment        0  \n",
       "2          DS USC                 1          Other Calls        2  \n",
       "\n",
       "[3 rows x 23 columns]"
      ]
     },
     "execution_count": 9,
     "metadata": {},
     "output_type": "execute_result"
    }
   ],
   "source": [
    "label_dict = {lab:i for i, lab in enumerate(np.unique(call_df['simp'].values))}\n",
    "call_df['simp_num'] = [label_dict[i] for i in call_df.simp.values]\n",
    "call_df[:3]"
   ]
  },
  {
   "cell_type": "markdown",
   "id": "fd4ab865",
   "metadata": {},
   "source": [
    "### Describe Transition Probability Data\n",
    "- for transition between calls in combinations"
   ]
  },
  {
   "cell_type": "code",
   "execution_count": 10,
   "id": "35caa0e2",
   "metadata": {},
   "outputs": [],
   "source": [
    "import numpy as np\n",
    "import matplotlib.pyplot as plt\n",
    "%matplotlib inline\n",
    "from tqdm.autonotebook import tqdm\n",
    "from joblib import Parallel, delayed\n",
    "import umap\n",
    "import pandas as pd"
   ]
  },
  {
   "cell_type": "code",
   "execution_count": 11,
   "id": "c4ae9a64",
   "metadata": {},
   "outputs": [],
   "source": [
    "unique_states = np.unique(call_df['simp_num']) #number of unique call classes\n",
    "lab_dict = {lab: i for i, lab in enumerate(unique_states)} #create a dictionary of calls using the number instead of the string label"
   ]
  },
  {
   "cell_type": "code",
   "execution_count": 12,
   "id": "919cf43f",
   "metadata": {
    "scrolled": true
   },
   "outputs": [
    {
     "data": {
      "text/plain": [
       "array(['Contains LH Segment', 'NL Segment Alone', 'Other Calls'],\n",
       "      dtype=object)"
      ]
     },
     "execution_count": 12,
     "metadata": {},
     "output_type": "execute_result"
    }
   ],
   "source": [
    "np.unique(call_df['simp'])"
   ]
  },
  {
   "cell_type": "code",
   "execution_count": 14,
   "id": "f74ab12d",
   "metadata": {},
   "outputs": [
    {
     "data": {
      "text/plain": [
       "{0: 0, 1: 1, 2: 2}"
      ]
     },
     "execution_count": 14,
     "metadata": {},
     "output_type": "execute_result"
    }
   ],
   "source": [
    "#Contains LH Segment: 0, NL Segment Alone:1, Other Calls:2\n",
    "lab_dict"
   ]
  },
  {
   "cell_type": "code",
   "execution_count": 16,
   "id": "1a1778e0",
   "metadata": {},
   "outputs": [
    {
     "name": "stdout",
     "output_type": "stream",
     "text": [
      "[[2, 0], [2, 0], [2, 0]]\n"
     ]
    }
   ],
   "source": [
    "#create an array of combis using unique number identifiers instead of call class labels\n",
    "combis = [\n",
    "    list(call_df[call_df.combi_unique_num == combiid][\"simp_num\"].values)\n",
    "    for combiid in call_df.combi_unique_num.unique()\n",
    "]\n",
    "print(combis[:3])"
   ]
  },
  {
   "cell_type": "code",
   "execution_count": 17,
   "id": "cfcc3a1b",
   "metadata": {},
   "outputs": [
    {
     "data": {
      "text/plain": [
       "[2, 0]"
      ]
     },
     "execution_count": 17,
     "metadata": {},
     "output_type": "execute_result"
    }
   ],
   "source": [
    "#[Other Call]-[Call Contains LH Segment] = (first combi in call_df) - described now as 2-0\n",
    "combis[0]"
   ]
  },
  {
   "cell_type": "code",
   "execution_count": 18,
   "id": "b908d8d8",
   "metadata": {},
   "outputs": [
    {
     "data": {
      "text/plain": [
       "array([0.       , 0.1036036, 0.8963964])"
      ]
     },
     "execution_count": 18,
     "metadata": {},
     "output_type": "execute_result"
    }
   ],
   "source": [
    "##calculate the starting probabilities - shown in order 'Contains LH Segment', 'NL Segment Alone', 'Other Calls'\n",
    "call_starts = np.array([i[0] for i in combis])\n",
    "start_probs = np.array([np.sum(call_starts == i) / len(combis) for i in unique_states])\n",
    "start_probs"
   ]
  },
  {
   "cell_type": "code",
   "execution_count": 19,
   "id": "257b6b2c",
   "metadata": {},
   "outputs": [
    {
     "data": {
      "text/plain": [
       "array([0.96568627, 0.11111111, 0.06606607])"
      ]
     },
     "execution_count": 19,
     "metadata": {},
     "output_type": "execute_result"
    }
   ],
   "source": [
    "#calculate end probabilities - shown in order 'Contains LH Segment', 'NL Segment Alone', 'Other Calls'\n",
    "end_states = np.array([i[-1] for i in combis])\n",
    "end_probs = np.array([np.sum(end_states == i) / (np.sum(np.concatenate(combis) == i) + 1)\n",
    "    for i in np.arange(len(unique_states))\n",
    "])\n",
    "end_probs            "
   ]
  },
  {
   "cell_type": "code",
   "execution_count": 20,
   "id": "d336d030",
   "metadata": {},
   "outputs": [
    {
     "data": {
      "text/plain": [
       "array([[0.33333333, 0.        , 0.66666667],\n",
       "       [0.        , 0.        , 1.        ],\n",
       "       [0.6483871 , 0.00967742, 0.34193548]])"
      ]
     },
     "execution_count": 20,
     "metadata": {},
     "output_type": "execute_result"
    }
   ],
   "source": [
    "# transition probs - shown in order 'Contains LH Segment', 'NL Segment Alone', 'Other Calls'\n",
    "trans_mat = np.zeros((len(unique_states), len(unique_states)))\n",
    "for call in combis:\n",
    "    for i, j in zip(call[:-1], call[1:]):\n",
    "        trans_mat[i, j] += 1\n",
    "# smooth to nonzero probabilities\n",
    "trans_mat = (trans_mat.T / trans_mat.sum(axis=1)).T  # np.sum(trans_mat, axis=1)\n",
    "trans_mat"
   ]
  },
  {
   "cell_type": "code",
   "execution_count": 21,
   "id": "0c618943",
   "metadata": {},
   "outputs": [
    {
     "data": {
      "text/html": [
       "<div>\n",
       "<style scoped>\n",
       "    .dataframe tbody tr th:only-of-type {\n",
       "        vertical-align: middle;\n",
       "    }\n",
       "\n",
       "    .dataframe tbody tr th {\n",
       "        vertical-align: top;\n",
       "    }\n",
       "\n",
       "    .dataframe thead th {\n",
       "        text-align: right;\n",
       "    }\n",
       "</style>\n",
       "<table border=\"1\" class=\"dataframe\">\n",
       "  <thead>\n",
       "    <tr style=\"text-align: right;\">\n",
       "      <th></th>\n",
       "      <th>0</th>\n",
       "      <th>1</th>\n",
       "      <th>2</th>\n",
       "    </tr>\n",
       "  </thead>\n",
       "  <tbody>\n",
       "    <tr>\n",
       "      <th>0</th>\n",
       "      <td>0.333333</td>\n",
       "      <td>0.000000</td>\n",
       "      <td>0.666667</td>\n",
       "    </tr>\n",
       "    <tr>\n",
       "      <th>1</th>\n",
       "      <td>0.000000</td>\n",
       "      <td>0.000000</td>\n",
       "      <td>1.000000</td>\n",
       "    </tr>\n",
       "    <tr>\n",
       "      <th>2</th>\n",
       "      <td>0.648387</td>\n",
       "      <td>0.009677</td>\n",
       "      <td>0.341935</td>\n",
       "    </tr>\n",
       "  </tbody>\n",
       "</table>\n",
       "</div>"
      ],
      "text/plain": [
       "          0         1         2\n",
       "0  0.333333  0.000000  0.666667\n",
       "1  0.000000  0.000000  1.000000\n",
       "2  0.648387  0.009677  0.341935"
      ]
     },
     "execution_count": 21,
     "metadata": {},
     "output_type": "execute_result"
    }
   ],
   "source": [
    "#create dataframe of transition matrix\n",
    "trans_df = pd.DataFrame(trans_mat)\n",
    "trans_df"
   ]
  },
  {
   "cell_type": "code",
   "execution_count": 22,
   "id": "a18650d6",
   "metadata": {},
   "outputs": [
    {
     "data": {
      "text/html": [
       "<div>\n",
       "<style scoped>\n",
       "    .dataframe tbody tr th:only-of-type {\n",
       "        vertical-align: middle;\n",
       "    }\n",
       "\n",
       "    .dataframe tbody tr th {\n",
       "        vertical-align: top;\n",
       "    }\n",
       "\n",
       "    .dataframe thead th {\n",
       "        text-align: right;\n",
       "    }\n",
       "</style>\n",
       "<table border=\"1\" class=\"dataframe\">\n",
       "  <thead>\n",
       "    <tr style=\"text-align: right;\">\n",
       "      <th></th>\n",
       "      <th>0-0</th>\n",
       "      <th>0-1</th>\n",
       "      <th>0-2</th>\n",
       "      <th>1-0</th>\n",
       "      <th>1-1</th>\n",
       "      <th>1-2</th>\n",
       "      <th>2-0</th>\n",
       "      <th>2-1</th>\n",
       "      <th>2-2</th>\n",
       "    </tr>\n",
       "  </thead>\n",
       "  <tbody>\n",
       "    <tr>\n",
       "      <th>0</th>\n",
       "      <td>0.333333</td>\n",
       "      <td>0.0</td>\n",
       "      <td>0.666667</td>\n",
       "      <td>0.0</td>\n",
       "      <td>0.0</td>\n",
       "      <td>1.0</td>\n",
       "      <td>0.648387</td>\n",
       "      <td>0.009677</td>\n",
       "      <td>0.341935</td>\n",
       "    </tr>\n",
       "  </tbody>\n",
       "</table>\n",
       "</div>"
      ],
      "text/plain": [
       "        0-0  0-1       0-2  1-0  1-1  1-2       2-0       2-1       2-2\n",
       "0  0.333333  0.0  0.666667  0.0  0.0  1.0  0.648387  0.009677  0.341935"
      ]
     },
     "execution_count": 22,
     "metadata": {},
     "output_type": "execute_result"
    }
   ],
   "source": [
    "flat_mat = trans_mat.flatten()\n",
    "df = pd.DataFrame([flat_mat], columns = [\n",
    "    \"0-0\", \"0-1\", \"0-2\", \"1-0\", \n",
    "    \"1-1\", \"1-2\", \"2-0\", \"2-1\",\n",
    "    \"2-2\"\n",
    "])\n",
    "df"
   ]
  },
  {
   "cell_type": "code",
   "execution_count": null,
   "id": "fc7fe0d9",
   "metadata": {},
   "outputs": [],
   "source": []
  },
  {
   "cell_type": "code",
   "execution_count": 25,
   "id": "8c6a8ac5",
   "metadata": {},
   "outputs": [],
   "source": [
    "#save df\n",
    "save_loc = DATA_DIR / 'manuscript' / 'Monte_Carlo_Calls' /  'observed_call_transitions.pickle'\n",
    "ensure_dir(save_loc.as_posix())\n",
    "df.to_pickle(save_loc)"
   ]
  },
  {
   "cell_type": "code",
   "execution_count": null,
   "id": "fbbda13a",
   "metadata": {},
   "outputs": [],
   "source": []
  }
 ],
 "metadata": {
  "kernelspec": {
   "display_name": "Python 3 (ipykernel)",
   "language": "python",
   "name": "python3"
  },
  "language_info": {
   "codemirror_mode": {
    "name": "ipython",
    "version": 3
   },
   "file_extension": ".py",
   "mimetype": "text/x-python",
   "name": "python",
   "nbconvert_exporter": "python",
   "pygments_lexer": "ipython3",
   "version": "3.8.13"
  }
 },
 "nbformat": 4,
 "nbformat_minor": 5
}
