{
 "cells": [
  {
   "cell_type": "code",
   "execution_count": 1,
   "id": "9f1a33ad",
   "metadata": {},
   "outputs": [],
   "source": [
    "DATASET_ID = 'git_repos_call'"
   ]
  },
  {
   "cell_type": "code",
   "execution_count": 2,
   "id": "c445d705",
   "metadata": {},
   "outputs": [],
   "source": [
    "import pdb\n",
    "from joblib import Parallel, delayed\n",
    "from tqdm.auto import tqdm\n",
    "import pandas as pd\n",
    "import librosa\n",
    "from datetime import datetime\n",
    "import json\n",
    "import numpy as np\n",
    "from pathlib2 import Path"
   ]
  },
  {
   "cell_type": "code",
   "execution_count": 3,
   "id": "373ed2ed",
   "metadata": {},
   "outputs": [],
   "source": [
    "import avgn"
   ]
  },
  {
   "cell_type": "code",
   "execution_count": 4,
   "id": "9b94c09e",
   "metadata": {},
   "outputs": [],
   "source": [
    "from avgn.utils.paths import DATA_DIR, ensure_dir"
   ]
  },
  {
   "cell_type": "code",
   "execution_count": 5,
   "id": "0cb66710",
   "metadata": {},
   "outputs": [
    {
     "data": {
      "text/plain": [
       "'2022-03-12_17-46-00'"
      ]
     },
     "execution_count": 5,
     "metadata": {},
     "output_type": "execute_result"
    }
   ],
   "source": [
    "# create a unique datetime identifier for the files output by this notebook \n",
    "##(they will be saved in a folder with today's date/time of output creation)\n",
    "DT_ID = datetime.now().strftime(\"%Y-%m-%d_%H-%M-%S\")\n",
    "DT_ID"
   ]
  },
  {
   "cell_type": "code",
   "execution_count": 6,
   "id": "aa0b4c2b",
   "metadata": {},
   "outputs": [
    {
     "data": {
      "text/plain": [
       "WindowsPath('C:/Users/slwal/anaconda3/envs/PY36/avgn_paper-2/data/raw/magpie/individuals')"
      ]
     },
     "execution_count": 6,
     "metadata": {},
     "output_type": "execute_result"
    }
   ],
   "source": [
    "#Defining Path to Raw Dataset\n",
    "RAW_DATASET_LOC = DATA_DIR/\"raw\"/\"magpie\"/\"individuals\"\n",
    "RAW_DATASET_LOC"
   ]
  },
  {
   "cell_type": "code",
   "execution_count": 7,
   "id": "5545a84e",
   "metadata": {},
   "outputs": [
    {
     "data": {
      "text/plain": [
       "(WindowsPath('C:/Users/slwal/anaconda3/envs/PY36/avgn_paper-2/data/raw/magpie/individuals/BWYa_F_MGGY/BWY MGGY Call Combo 1 290719 PM.TextGrid'),\n",
       " 153)"
      ]
     },
     "execution_count": 7,
     "metadata": {},
     "output_type": "execute_result"
    }
   ],
   "source": [
    "#grab an array of all textgrid files \n",
    "TGLIST = np.array(list((RAW_DATASET_LOC).expanduser().glob('*/*.TextGrid')))\n",
    "TGLIST = np.array([i for i in TGLIST if i.stem[0] != '.'])\n",
    "TGLIST[0], len(TGLIST)"
   ]
  },
  {
   "cell_type": "code",
   "execution_count": 8,
   "id": "a3ec12d2",
   "metadata": {},
   "outputs": [
    {
     "data": {
      "text/plain": [
       "(WindowsPath('C:/Users/slwal/anaconda3/envs/PY36/avgn_paper-2/data/raw/magpie/individuals/BWYa_F_MGGY/BWY MGGY Call Combo 1 290719 PM.wav'),\n",
       " 153)"
      ]
     },
     "execution_count": 8,
     "metadata": {},
     "output_type": "execute_result"
    }
   ],
   "source": [
    "#array of all WAV files\n",
    "WAVLIST = np.array(list((RAW_DATASET_LOC).expanduser().glob('*/*.wav')))\n",
    "WAVLIST[0], len(WAVLIST)"
   ]
  },
  {
   "cell_type": "code",
   "execution_count": 9,
   "id": "d47a6450",
   "metadata": {},
   "outputs": [
    {
     "data": {
      "text/plain": [
       "'BWY MGGY Call Combo 1 290719 PM'"
      ]
     },
     "execution_count": 9,
     "metadata": {},
     "output_type": "execute_result"
    }
   ],
   "source": [
    "#creating array containing just stem of WAVLIST arrays (i.e. just the file name)\n",
    "wav_stems = np.array([i.stem for i in WAVLIST])\n",
    "wav_stems[0]"
   ]
  },
  {
   "cell_type": "markdown",
   "id": "998dea38",
   "metadata": {},
   "source": [
    "### Import CSV"
   ]
  },
  {
   "cell_type": "code",
   "execution_count": 10,
   "id": "29fdac27",
   "metadata": {},
   "outputs": [
    {
     "data": {
      "text/html": [
       "<div>\n",
       "<style scoped>\n",
       "    .dataframe tbody tr th:only-of-type {\n",
       "        vertical-align: middle;\n",
       "    }\n",
       "\n",
       "    .dataframe tbody tr th {\n",
       "        vertical-align: top;\n",
       "    }\n",
       "\n",
       "    .dataframe thead th {\n",
       "        text-align: right;\n",
       "    }\n",
       "</style>\n",
       "<table border=\"1\" class=\"dataframe\">\n",
       "  <thead>\n",
       "    <tr style=\"text-align: right;\">\n",
       "      <th></th>\n",
       "      <th>New_ID</th>\n",
       "      <th>indv</th>\n",
       "      <th>gro</th>\n",
       "      <th>location</th>\n",
       "      <th>sex</th>\n",
       "      <th>wavloc</th>\n",
       "      <th>filename</th>\n",
       "      <th>call_label</th>\n",
       "      <th>call_start</th>\n",
       "      <th>call_end</th>\n",
       "      <th>combi_label</th>\n",
       "      <th>combi_start</th>\n",
       "      <th>combi_end</th>\n",
       "      <th>combi_unique_num</th>\n",
       "      <th>call_pos_combi</th>\n",
       "    </tr>\n",
       "  </thead>\n",
       "  <tbody>\n",
       "    <tr>\n",
       "      <th>0</th>\n",
       "      <td>0</td>\n",
       "      <td>MGGY</td>\n",
       "      <td>BWYa</td>\n",
       "      <td>CRAWLEY</td>\n",
       "      <td>F</td>\n",
       "      <td>C:\\Users\\slwal\\anaconda3\\envs\\PY36\\avgn_paper-...</td>\n",
       "      <td>BWY MGGY Call Combo 1 290719 PM</td>\n",
       "      <td>DSSHDS</td>\n",
       "      <td>0.753604</td>\n",
       "      <td>0.921160</td>\n",
       "      <td>DSSHDS SHSHLH</td>\n",
       "      <td>0.753604</td>\n",
       "      <td>1.367130</td>\n",
       "      <td>0</td>\n",
       "      <td>0</td>\n",
       "    </tr>\n",
       "    <tr>\n",
       "      <th>1</th>\n",
       "      <td>1</td>\n",
       "      <td>MGGY</td>\n",
       "      <td>BWYa</td>\n",
       "      <td>CRAWLEY</td>\n",
       "      <td>F</td>\n",
       "      <td>C:\\Users\\slwal\\anaconda3\\envs\\PY36\\avgn_paper-...</td>\n",
       "      <td>BWY MGGY Call Combo 1 290719 PM</td>\n",
       "      <td>SHSHLH</td>\n",
       "      <td>0.932017</td>\n",
       "      <td>1.367130</td>\n",
       "      <td>DSSHDS SHSHLH</td>\n",
       "      <td>0.753604</td>\n",
       "      <td>1.367130</td>\n",
       "      <td>0</td>\n",
       "      <td>1</td>\n",
       "    </tr>\n",
       "    <tr>\n",
       "      <th>2</th>\n",
       "      <td>2</td>\n",
       "      <td>MGGY</td>\n",
       "      <td>BWYa</td>\n",
       "      <td>CRAWLEY</td>\n",
       "      <td>F</td>\n",
       "      <td>C:\\Users\\slwal\\anaconda3\\envs\\PY36\\avgn_paper-...</td>\n",
       "      <td>BWY MGGY Call Combo 1 300719 AM</td>\n",
       "      <td>DS</td>\n",
       "      <td>1.218085</td>\n",
       "      <td>1.308841</td>\n",
       "      <td>DS USC</td>\n",
       "      <td>1.218085</td>\n",
       "      <td>1.984961</td>\n",
       "      <td>1</td>\n",
       "      <td>0</td>\n",
       "    </tr>\n",
       "  </tbody>\n",
       "</table>\n",
       "</div>"
      ],
      "text/plain": [
       "   New_ID  indv   gro location sex  \\\n",
       "0       0  MGGY  BWYa  CRAWLEY   F   \n",
       "1       1  MGGY  BWYa  CRAWLEY   F   \n",
       "2       2  MGGY  BWYa  CRAWLEY   F   \n",
       "\n",
       "                                              wavloc  \\\n",
       "0  C:\\Users\\slwal\\anaconda3\\envs\\PY36\\avgn_paper-...   \n",
       "1  C:\\Users\\slwal\\anaconda3\\envs\\PY36\\avgn_paper-...   \n",
       "2  C:\\Users\\slwal\\anaconda3\\envs\\PY36\\avgn_paper-...   \n",
       "\n",
       "                          filename call_label  call_start  call_end  \\\n",
       "0  BWY MGGY Call Combo 1 290719 PM     DSSHDS    0.753604  0.921160   \n",
       "1  BWY MGGY Call Combo 1 290719 PM     SHSHLH    0.932017  1.367130   \n",
       "2  BWY MGGY Call Combo 1 300719 AM         DS    1.218085  1.308841   \n",
       "\n",
       "     combi_label  combi_start  combi_end  combi_unique_num  call_pos_combi  \n",
       "0  DSSHDS SHSHLH     0.753604   1.367130                 0               0  \n",
       "1  DSSHDS SHSHLH     0.753604   1.367130                 0               1  \n",
       "2         DS USC     1.218085   1.984961                 1               0  "
      ]
     },
     "execution_count": 10,
     "metadata": {},
     "output_type": "execute_result"
    }
   ],
   "source": [
    "vocdf = pd.read_csv (DATA_DIR/DATASET_ID/'alldata_call.csv')\n",
    "vocdf[:3]"
   ]
  },
  {
   "cell_type": "code",
   "execution_count": 11,
   "id": "49cf49af",
   "metadata": {},
   "outputs": [
    {
     "data": {
      "text/plain": [
       "699"
      ]
     },
     "execution_count": 11,
     "metadata": {},
     "output_type": "execute_result"
    }
   ],
   "source": [
    "len(vocdf)"
   ]
  },
  {
   "cell_type": "code",
   "execution_count": 12,
   "id": "02bb1228",
   "metadata": {},
   "outputs": [
    {
     "data": {
      "text/html": [
       "<div>\n",
       "<style scoped>\n",
       "    .dataframe tbody tr th:only-of-type {\n",
       "        vertical-align: middle;\n",
       "    }\n",
       "\n",
       "    .dataframe tbody tr th {\n",
       "        vertical-align: top;\n",
       "    }\n",
       "\n",
       "    .dataframe thead th {\n",
       "        text-align: right;\n",
       "    }\n",
       "</style>\n",
       "<table border=\"1\" class=\"dataframe\">\n",
       "  <thead>\n",
       "    <tr style=\"text-align: right;\">\n",
       "      <th></th>\n",
       "      <th>New_ID</th>\n",
       "      <th>indv</th>\n",
       "      <th>sex</th>\n",
       "      <th>gro</th>\n",
       "      <th>filename</th>\n",
       "      <th>wavloc</th>\n",
       "      <th>tgloc</th>\n",
       "      <th>call_pos_combi</th>\n",
       "      <th>call_start</th>\n",
       "      <th>call_end</th>\n",
       "      <th>call_label</th>\n",
       "    </tr>\n",
       "  </thead>\n",
       "  <tbody>\n",
       "    <tr>\n",
       "      <th>0</th>\n",
       "      <td>0</td>\n",
       "      <td>MGGY</td>\n",
       "      <td>F</td>\n",
       "      <td>BWYa</td>\n",
       "      <td>BWY MGGY Call Combo 1 290719 PM</td>\n",
       "      <td>C:\\Users\\slwal\\anaconda3\\envs\\PY36\\avgn_paper-...</td>\n",
       "      <td>C:\\Users\\slwal\\anaconda3\\envs\\PY36\\avgn_paper-...</td>\n",
       "      <td>0</td>\n",
       "      <td>0.753604</td>\n",
       "      <td>0.921160</td>\n",
       "      <td>DSSHDS</td>\n",
       "    </tr>\n",
       "    <tr>\n",
       "      <th>1</th>\n",
       "      <td>1</td>\n",
       "      <td>MGGY</td>\n",
       "      <td>F</td>\n",
       "      <td>BWYa</td>\n",
       "      <td>BWY MGGY Call Combo 1 290719 PM</td>\n",
       "      <td>C:\\Users\\slwal\\anaconda3\\envs\\PY36\\avgn_paper-...</td>\n",
       "      <td>C:\\Users\\slwal\\anaconda3\\envs\\PY36\\avgn_paper-...</td>\n",
       "      <td>1</td>\n",
       "      <td>0.932017</td>\n",
       "      <td>1.367130</td>\n",
       "      <td>SHSHLH</td>\n",
       "    </tr>\n",
       "    <tr>\n",
       "      <th>0</th>\n",
       "      <td>2</td>\n",
       "      <td>MGGY</td>\n",
       "      <td>F</td>\n",
       "      <td>BWYa</td>\n",
       "      <td>BWY MGGY Call Combo 1 300719 AM</td>\n",
       "      <td>C:\\Users\\slwal\\anaconda3\\envs\\PY36\\avgn_paper-...</td>\n",
       "      <td>C:\\Users\\slwal\\anaconda3\\envs\\PY36\\avgn_paper-...</td>\n",
       "      <td>0</td>\n",
       "      <td>1.218085</td>\n",
       "      <td>1.308841</td>\n",
       "      <td>DS</td>\n",
       "    </tr>\n",
       "  </tbody>\n",
       "</table>\n",
       "</div>"
      ],
      "text/plain": [
       "   New_ID  indv sex   gro                         filename  \\\n",
       "0       0  MGGY   F  BWYa  BWY MGGY Call Combo 1 290719 PM   \n",
       "1       1  MGGY   F  BWYa  BWY MGGY Call Combo 1 290719 PM   \n",
       "0       2  MGGY   F  BWYa  BWY MGGY Call Combo 1 300719 AM   \n",
       "\n",
       "                                              wavloc  \\\n",
       "0  C:\\Users\\slwal\\anaconda3\\envs\\PY36\\avgn_paper-...   \n",
       "1  C:\\Users\\slwal\\anaconda3\\envs\\PY36\\avgn_paper-...   \n",
       "0  C:\\Users\\slwal\\anaconda3\\envs\\PY36\\avgn_paper-...   \n",
       "\n",
       "                                               tgloc call_pos_combi  \\\n",
       "0  C:\\Users\\slwal\\anaconda3\\envs\\PY36\\avgn_paper-...              0   \n",
       "1  C:\\Users\\slwal\\anaconda3\\envs\\PY36\\avgn_paper-...              1   \n",
       "0  C:\\Users\\slwal\\anaconda3\\envs\\PY36\\avgn_paper-...              0   \n",
       "\n",
       "   call_start  call_end call_label  \n",
       "0    0.753604  0.921160     DSSHDS  \n",
       "1    0.932017  1.367130     SHSHLH  \n",
       "0    1.218085  1.308841         DS  "
      ]
     },
     "execution_count": 12,
     "metadata": {},
     "output_type": "execute_result"
    }
   ],
   "source": [
    "#### Need to take WAV location paths from the segment pickle (made in previous step) as they no longer work after \n",
    "##being imported from the csv\n",
    "call_df = pd.read_pickle(DATA_DIR / DATASET_ID / 'walsh_magpie_call_dataframe.pickle')\n",
    "call_df[:3]"
   ]
  },
  {
   "cell_type": "markdown",
   "id": "d5869828",
   "metadata": {},
   "source": [
    "#### Some checks to make sure the dataframes are the same"
   ]
  },
  {
   "cell_type": "code",
   "execution_count": 13,
   "id": "74e19672",
   "metadata": {},
   "outputs": [
    {
     "data": {
      "text/plain": [
       "699"
      ]
     },
     "execution_count": 13,
     "metadata": {},
     "output_type": "execute_result"
    }
   ],
   "source": [
    "len(call_df)"
   ]
  },
  {
   "cell_type": "code",
   "execution_count": 14,
   "id": "2e504cc8",
   "metadata": {
    "scrolled": true
   },
   "outputs": [
    {
     "data": {
      "text/plain": [
       "699"
      ]
     },
     "execution_count": 14,
     "metadata": {},
     "output_type": "execute_result"
    }
   ],
   "source": [
    "len(vocdf)"
   ]
  },
  {
   "cell_type": "code",
   "execution_count": 15,
   "id": "0ba0644a",
   "metadata": {},
   "outputs": [
    {
     "data": {
      "text/plain": [
       "153"
      ]
     },
     "execution_count": 15,
     "metadata": {},
     "output_type": "execute_result"
    }
   ],
   "source": [
    "len(vocdf.filename.unique())"
   ]
  },
  {
   "cell_type": "code",
   "execution_count": 16,
   "id": "919b9aa5",
   "metadata": {},
   "outputs": [
    {
     "data": {
      "text/plain": [
       "153"
      ]
     },
     "execution_count": 16,
     "metadata": {},
     "output_type": "execute_result"
    }
   ],
   "source": [
    "len(call_df.filename.unique())"
   ]
  },
  {
   "cell_type": "code",
   "execution_count": 17,
   "id": "9eee5b29",
   "metadata": {},
   "outputs": [],
   "source": [
    "#Set index to be the same in both dataframes, as per unique identifiers previously created\n",
    "call_df.set_index('New_ID', inplace=True)"
   ]
  },
  {
   "cell_type": "code",
   "execution_count": 18,
   "id": "6930b1dd",
   "metadata": {},
   "outputs": [],
   "source": [
    "vocdf.set_index('New_ID', inplace=True)"
   ]
  },
  {
   "cell_type": "code",
   "execution_count": 19,
   "id": "aeffc981",
   "metadata": {},
   "outputs": [
    {
     "data": {
      "text/plain": [
       "'C:\\\\Users\\\\slwal\\\\anaconda3\\\\envs\\\\PY36\\\\avgn_paper-2\\\\data\\\\raw\\\\magpie\\\\individuals\\\\BWYa_F_MGGY\\\\MGGY Alert 2 070817.WAV'"
      ]
     },
     "execution_count": 19,
     "metadata": {},
     "output_type": "execute_result"
    }
   ],
   "source": [
    "#check \n",
    "vocdf.wavloc[20]"
   ]
  },
  {
   "cell_type": "code",
   "execution_count": 20,
   "id": "ea5d92bf",
   "metadata": {},
   "outputs": [
    {
     "data": {
      "text/plain": [
       "WindowsPath('C:/Users/slwal/anaconda3/envs/PY36/avgn_paper-2/data/raw/magpie/individuals/BWYa_F_MGGY/MGGY Alert 2 070817.WAV')"
      ]
     },
     "execution_count": 20,
     "metadata": {},
     "output_type": "execute_result"
    }
   ],
   "source": [
    "#check\n",
    "call_df.wavloc[20]"
   ]
  },
  {
   "cell_type": "code",
   "execution_count": 21,
   "id": "6621fff4",
   "metadata": {},
   "outputs": [
    {
     "data": {
      "text/plain": [
       "'SHDS'"
      ]
     },
     "execution_count": 21,
     "metadata": {},
     "output_type": "execute_result"
    }
   ],
   "source": [
    "#check\n",
    "vocdf.call_label[600]"
   ]
  },
  {
   "cell_type": "code",
   "execution_count": 22,
   "id": "3991e640",
   "metadata": {},
   "outputs": [
    {
     "data": {
      "text/plain": [
       "'SHDS'"
      ]
     },
     "execution_count": 22,
     "metadata": {},
     "output_type": "execute_result"
    }
   ],
   "source": [
    "#check\n",
    "call_df.call_label[600]"
   ]
  },
  {
   "cell_type": "code",
   "execution_count": 23,
   "id": "b2aede7d",
   "metadata": {},
   "outputs": [
    {
     "data": {
      "text/plain": [
       "163.1926239"
      ]
     },
     "execution_count": 23,
     "metadata": {},
     "output_type": "execute_result"
    }
   ],
   "source": [
    "#check\n",
    "vocdf.call_start[601]"
   ]
  },
  {
   "cell_type": "code",
   "execution_count": 24,
   "id": "b19d1cba",
   "metadata": {},
   "outputs": [
    {
     "data": {
      "text/plain": [
       "163.1926239227139"
      ]
     },
     "execution_count": 24,
     "metadata": {},
     "output_type": "execute_result"
    }
   ],
   "source": [
    "#check\n",
    "call_df.call_start[601]"
   ]
  },
  {
   "cell_type": "code",
   "execution_count": 25,
   "id": "19da9ac8",
   "metadata": {},
   "outputs": [],
   "source": [
    "#replace wavloc column in vocdf to be wavloc in call_df\n",
    "vocdf.loc[:,['wavloc']] = call_df[['wavloc']]"
   ]
  },
  {
   "cell_type": "code",
   "execution_count": 26,
   "id": "926707b5",
   "metadata": {},
   "outputs": [
    {
     "data": {
      "text/html": [
       "<div>\n",
       "<style scoped>\n",
       "    .dataframe tbody tr th:only-of-type {\n",
       "        vertical-align: middle;\n",
       "    }\n",
       "\n",
       "    .dataframe tbody tr th {\n",
       "        vertical-align: top;\n",
       "    }\n",
       "\n",
       "    .dataframe thead th {\n",
       "        text-align: right;\n",
       "    }\n",
       "</style>\n",
       "<table border=\"1\" class=\"dataframe\">\n",
       "  <thead>\n",
       "    <tr style=\"text-align: right;\">\n",
       "      <th></th>\n",
       "      <th>indv</th>\n",
       "      <th>gro</th>\n",
       "      <th>location</th>\n",
       "      <th>sex</th>\n",
       "      <th>wavloc</th>\n",
       "      <th>filename</th>\n",
       "      <th>call_label</th>\n",
       "      <th>call_start</th>\n",
       "      <th>call_end</th>\n",
       "      <th>combi_label</th>\n",
       "      <th>combi_start</th>\n",
       "      <th>combi_end</th>\n",
       "      <th>combi_unique_num</th>\n",
       "      <th>call_pos_combi</th>\n",
       "    </tr>\n",
       "    <tr>\n",
       "      <th>New_ID</th>\n",
       "      <th></th>\n",
       "      <th></th>\n",
       "      <th></th>\n",
       "      <th></th>\n",
       "      <th></th>\n",
       "      <th></th>\n",
       "      <th></th>\n",
       "      <th></th>\n",
       "      <th></th>\n",
       "      <th></th>\n",
       "      <th></th>\n",
       "      <th></th>\n",
       "      <th></th>\n",
       "      <th></th>\n",
       "    </tr>\n",
       "  </thead>\n",
       "  <tbody>\n",
       "  </tbody>\n",
       "</table>\n",
       "</div>"
      ],
      "text/plain": [
       "Empty DataFrame\n",
       "Columns: [indv, gro, location, sex, wavloc, filename, call_label, call_start, call_end, combi_label, combi_start, combi_end, combi_unique_num, call_pos_combi]\n",
       "Index: []"
      ]
     },
     "execution_count": 26,
     "metadata": {},
     "output_type": "execute_result"
    }
   ],
   "source": [
    "## double check for duplicates in voc df\n",
    "vocdf[vocdf.index.duplicated()]"
   ]
  },
  {
   "cell_type": "code",
   "execution_count": 27,
   "id": "e541b258",
   "metadata": {},
   "outputs": [],
   "source": [
    "#convert some columns into integers \n",
    "\n",
    "vocdf[[\"call_pos_combi\", \"combi_unique_num\"]] = vocdf[[\"call_pos_combi\", \"combi_unique_num\"]].apply(pd.to_numeric)"
   ]
  },
  {
   "cell_type": "code",
   "execution_count": 28,
   "id": "bbde3c66",
   "metadata": {},
   "outputs": [
    {
     "data": {
      "text/html": [
       "<div>\n",
       "<style scoped>\n",
       "    .dataframe tbody tr th:only-of-type {\n",
       "        vertical-align: middle;\n",
       "    }\n",
       "\n",
       "    .dataframe tbody tr th {\n",
       "        vertical-align: top;\n",
       "    }\n",
       "\n",
       "    .dataframe thead th {\n",
       "        text-align: right;\n",
       "    }\n",
       "</style>\n",
       "<table border=\"1\" class=\"dataframe\">\n",
       "  <thead>\n",
       "    <tr style=\"text-align: right;\">\n",
       "      <th></th>\n",
       "      <th>indv</th>\n",
       "      <th>gro</th>\n",
       "      <th>location</th>\n",
       "      <th>sex</th>\n",
       "      <th>wavloc</th>\n",
       "      <th>filename</th>\n",
       "      <th>call_label</th>\n",
       "      <th>call_start</th>\n",
       "      <th>call_end</th>\n",
       "      <th>combi_label</th>\n",
       "      <th>combi_start</th>\n",
       "      <th>combi_end</th>\n",
       "      <th>combi_unique_num</th>\n",
       "      <th>call_pos_combi</th>\n",
       "    </tr>\n",
       "    <tr>\n",
       "      <th>New_ID</th>\n",
       "      <th></th>\n",
       "      <th></th>\n",
       "      <th></th>\n",
       "      <th></th>\n",
       "      <th></th>\n",
       "      <th></th>\n",
       "      <th></th>\n",
       "      <th></th>\n",
       "      <th></th>\n",
       "      <th></th>\n",
       "      <th></th>\n",
       "      <th></th>\n",
       "      <th></th>\n",
       "      <th></th>\n",
       "    </tr>\n",
       "  </thead>\n",
       "  <tbody>\n",
       "    <tr>\n",
       "      <th>0</th>\n",
       "      <td>MGGY</td>\n",
       "      <td>BWYa</td>\n",
       "      <td>CRAWLEY</td>\n",
       "      <td>F</td>\n",
       "      <td>C:\\Users\\slwal\\anaconda3\\envs\\PY36\\avgn_paper-...</td>\n",
       "      <td>BWY MGGY Call Combo 1 290719 PM</td>\n",
       "      <td>DSSHDS</td>\n",
       "      <td>0.753604</td>\n",
       "      <td>0.921160</td>\n",
       "      <td>DSSHDS SHSHLH</td>\n",
       "      <td>0.753604</td>\n",
       "      <td>1.367130</td>\n",
       "      <td>0</td>\n",
       "      <td>0</td>\n",
       "    </tr>\n",
       "    <tr>\n",
       "      <th>1</th>\n",
       "      <td>MGGY</td>\n",
       "      <td>BWYa</td>\n",
       "      <td>CRAWLEY</td>\n",
       "      <td>F</td>\n",
       "      <td>C:\\Users\\slwal\\anaconda3\\envs\\PY36\\avgn_paper-...</td>\n",
       "      <td>BWY MGGY Call Combo 1 290719 PM</td>\n",
       "      <td>SHSHLH</td>\n",
       "      <td>0.932017</td>\n",
       "      <td>1.367130</td>\n",
       "      <td>DSSHDS SHSHLH</td>\n",
       "      <td>0.753604</td>\n",
       "      <td>1.367130</td>\n",
       "      <td>0</td>\n",
       "      <td>1</td>\n",
       "    </tr>\n",
       "    <tr>\n",
       "      <th>2</th>\n",
       "      <td>MGGY</td>\n",
       "      <td>BWYa</td>\n",
       "      <td>CRAWLEY</td>\n",
       "      <td>F</td>\n",
       "      <td>C:\\Users\\slwal\\anaconda3\\envs\\PY36\\avgn_paper-...</td>\n",
       "      <td>BWY MGGY Call Combo 1 300719 AM</td>\n",
       "      <td>DS</td>\n",
       "      <td>1.218085</td>\n",
       "      <td>1.308841</td>\n",
       "      <td>DS USC</td>\n",
       "      <td>1.218085</td>\n",
       "      <td>1.984961</td>\n",
       "      <td>1</td>\n",
       "      <td>0</td>\n",
       "    </tr>\n",
       "  </tbody>\n",
       "</table>\n",
       "</div>"
      ],
      "text/plain": [
       "        indv   gro location sex  \\\n",
       "New_ID                            \n",
       "0       MGGY  BWYa  CRAWLEY   F   \n",
       "1       MGGY  BWYa  CRAWLEY   F   \n",
       "2       MGGY  BWYa  CRAWLEY   F   \n",
       "\n",
       "                                                   wavloc  \\\n",
       "New_ID                                                      \n",
       "0       C:\\Users\\slwal\\anaconda3\\envs\\PY36\\avgn_paper-...   \n",
       "1       C:\\Users\\slwal\\anaconda3\\envs\\PY36\\avgn_paper-...   \n",
       "2       C:\\Users\\slwal\\anaconda3\\envs\\PY36\\avgn_paper-...   \n",
       "\n",
       "                               filename call_label  call_start  call_end  \\\n",
       "New_ID                                                                     \n",
       "0       BWY MGGY Call Combo 1 290719 PM     DSSHDS    0.753604  0.921160   \n",
       "1       BWY MGGY Call Combo 1 290719 PM     SHSHLH    0.932017  1.367130   \n",
       "2       BWY MGGY Call Combo 1 300719 AM         DS    1.218085  1.308841   \n",
       "\n",
       "          combi_label  combi_start  combi_end  combi_unique_num  \\\n",
       "New_ID                                                            \n",
       "0       DSSHDS SHSHLH     0.753604   1.367130                 0   \n",
       "1       DSSHDS SHSHLH     0.753604   1.367130                 0   \n",
       "2              DS USC     1.218085   1.984961                 1   \n",
       "\n",
       "        call_pos_combi  \n",
       "New_ID                  \n",
       "0                    0  \n",
       "1                    1  \n",
       "2                    0  "
      ]
     },
     "execution_count": 28,
     "metadata": {},
     "output_type": "execute_result"
    }
   ],
   "source": [
    "vocdf[:3]"
   ]
  },
  {
   "cell_type": "code",
   "execution_count": 29,
   "id": "7e39408e",
   "metadata": {},
   "outputs": [],
   "source": [
    "vocdf.reset_index(inplace=True)"
   ]
  },
  {
   "cell_type": "code",
   "execution_count": 30,
   "id": "ad745b87",
   "metadata": {
    "scrolled": true
   },
   "outputs": [
    {
     "data": {
      "text/html": [
       "<div>\n",
       "<style scoped>\n",
       "    .dataframe tbody tr th:only-of-type {\n",
       "        vertical-align: middle;\n",
       "    }\n",
       "\n",
       "    .dataframe tbody tr th {\n",
       "        vertical-align: top;\n",
       "    }\n",
       "\n",
       "    .dataframe thead th {\n",
       "        text-align: right;\n",
       "    }\n",
       "</style>\n",
       "<table border=\"1\" class=\"dataframe\">\n",
       "  <thead>\n",
       "    <tr style=\"text-align: right;\">\n",
       "      <th></th>\n",
       "      <th>New_ID</th>\n",
       "      <th>indv</th>\n",
       "      <th>gro</th>\n",
       "      <th>location</th>\n",
       "      <th>sex</th>\n",
       "      <th>wavloc</th>\n",
       "      <th>filename</th>\n",
       "      <th>call_label</th>\n",
       "      <th>call_start</th>\n",
       "      <th>call_end</th>\n",
       "      <th>combi_label</th>\n",
       "      <th>combi_start</th>\n",
       "      <th>combi_end</th>\n",
       "      <th>combi_unique_num</th>\n",
       "      <th>call_pos_combi</th>\n",
       "    </tr>\n",
       "  </thead>\n",
       "  <tbody>\n",
       "    <tr>\n",
       "      <th>3</th>\n",
       "      <td>3</td>\n",
       "      <td>MGGY</td>\n",
       "      <td>BWYa</td>\n",
       "      <td>CRAWLEY</td>\n",
       "      <td>F</td>\n",
       "      <td>C:\\Users\\slwal\\anaconda3\\envs\\PY36\\avgn_paper-...</td>\n",
       "      <td>BWY MGGY Call Combo 1 300719 AM</td>\n",
       "      <td>USC</td>\n",
       "      <td>1.442686</td>\n",
       "      <td>1.984961</td>\n",
       "      <td>DS USC</td>\n",
       "      <td>1.218085</td>\n",
       "      <td>1.984961</td>\n",
       "      <td>1</td>\n",
       "      <td>1</td>\n",
       "    </tr>\n",
       "    <tr>\n",
       "      <th>4</th>\n",
       "      <td>4</td>\n",
       "      <td>MGGY</td>\n",
       "      <td>BWYa</td>\n",
       "      <td>CRAWLEY</td>\n",
       "      <td>F</td>\n",
       "      <td>C:\\Users\\slwal\\anaconda3\\envs\\PY36\\avgn_paper-...</td>\n",
       "      <td>BWY MGGY Discrete 1 300719 AM</td>\n",
       "      <td>DSSHDS</td>\n",
       "      <td>1.244022</td>\n",
       "      <td>1.420183</td>\n",
       "      <td>DSSHDS LH</td>\n",
       "      <td>1.244022</td>\n",
       "      <td>1.897371</td>\n",
       "      <td>2</td>\n",
       "      <td>0</td>\n",
       "    </tr>\n",
       "    <tr>\n",
       "      <th>5</th>\n",
       "      <td>5</td>\n",
       "      <td>MGGY</td>\n",
       "      <td>BWYa</td>\n",
       "      <td>CRAWLEY</td>\n",
       "      <td>F</td>\n",
       "      <td>C:\\Users\\slwal\\anaconda3\\envs\\PY36\\avgn_paper-...</td>\n",
       "      <td>BWY MGGY Discrete 1 300719 AM</td>\n",
       "      <td>LH</td>\n",
       "      <td>1.471596</td>\n",
       "      <td>1.897371</td>\n",
       "      <td>DSSHDS LH</td>\n",
       "      <td>1.244022</td>\n",
       "      <td>1.897371</td>\n",
       "      <td>2</td>\n",
       "      <td>1</td>\n",
       "    </tr>\n",
       "    <tr>\n",
       "      <th>6</th>\n",
       "      <td>6</td>\n",
       "      <td>MGGY</td>\n",
       "      <td>BWYa</td>\n",
       "      <td>CRAWLEY</td>\n",
       "      <td>F</td>\n",
       "      <td>C:\\Users\\slwal\\anaconda3\\envs\\PY36\\avgn_paper-...</td>\n",
       "      <td>BWY MGGY Discrete 4 210519 PM</td>\n",
       "      <td>DSSHDS</td>\n",
       "      <td>0.306330</td>\n",
       "      <td>0.469851</td>\n",
       "      <td>DSSHDS SHLH</td>\n",
       "      <td>0.306330</td>\n",
       "      <td>0.927264</td>\n",
       "      <td>3</td>\n",
       "      <td>0</td>\n",
       "    </tr>\n",
       "    <tr>\n",
       "      <th>7</th>\n",
       "      <td>7</td>\n",
       "      <td>MGGY</td>\n",
       "      <td>BWYa</td>\n",
       "      <td>CRAWLEY</td>\n",
       "      <td>F</td>\n",
       "      <td>C:\\Users\\slwal\\anaconda3\\envs\\PY36\\avgn_paper-...</td>\n",
       "      <td>BWY MGGY Discrete 4 210519 PM</td>\n",
       "      <td>SHLH</td>\n",
       "      <td>0.483693</td>\n",
       "      <td>0.927264</td>\n",
       "      <td>DSSHDS SHLH</td>\n",
       "      <td>0.306330</td>\n",
       "      <td>0.927264</td>\n",
       "      <td>3</td>\n",
       "      <td>1</td>\n",
       "    </tr>\n",
       "    <tr>\n",
       "      <th>...</th>\n",
       "      <td>...</td>\n",
       "      <td>...</td>\n",
       "      <td>...</td>\n",
       "      <td>...</td>\n",
       "      <td>...</td>\n",
       "      <td>...</td>\n",
       "      <td>...</td>\n",
       "      <td>...</td>\n",
       "      <td>...</td>\n",
       "      <td>...</td>\n",
       "      <td>...</td>\n",
       "      <td>...</td>\n",
       "      <td>...</td>\n",
       "      <td>...</td>\n",
       "      <td>...</td>\n",
       "    </tr>\n",
       "    <tr>\n",
       "      <th>694</th>\n",
       "      <td>694</td>\n",
       "      <td>MXXGRY</td>\n",
       "      <td>SS</td>\n",
       "      <td>GUILDFORD</td>\n",
       "      <td>F</td>\n",
       "      <td>C:\\Users\\slwal\\anaconda3\\envs\\PY36\\avgn_paper-...</td>\n",
       "      <td>SS MXXGRY XXXX JUVENILE Call Combination Serie...</td>\n",
       "      <td>LHDS</td>\n",
       "      <td>0.239733</td>\n",
       "      <td>0.438800</td>\n",
       "      <td>SHDS LHDS</td>\n",
       "      <td>0.048004</td>\n",
       "      <td>0.438800</td>\n",
       "      <td>271</td>\n",
       "      <td>1</td>\n",
       "    </tr>\n",
       "    <tr>\n",
       "      <th>695</th>\n",
       "      <td>695</td>\n",
       "      <td>MXXGRY</td>\n",
       "      <td>SS</td>\n",
       "      <td>GUILDFORD</td>\n",
       "      <td>F</td>\n",
       "      <td>C:\\Users\\slwal\\anaconda3\\envs\\PY36\\avgn_paper-...</td>\n",
       "      <td>SS MXXGRY XXXX JUVENILE Call Combination Serie...</td>\n",
       "      <td>SHDS</td>\n",
       "      <td>1.018259</td>\n",
       "      <td>1.148983</td>\n",
       "      <td>SHDS LHDS</td>\n",
       "      <td>1.018259</td>\n",
       "      <td>1.415477</td>\n",
       "      <td>272</td>\n",
       "      <td>0</td>\n",
       "    </tr>\n",
       "    <tr>\n",
       "      <th>696</th>\n",
       "      <td>696</td>\n",
       "      <td>MXXGRY</td>\n",
       "      <td>SS</td>\n",
       "      <td>GUILDFORD</td>\n",
       "      <td>F</td>\n",
       "      <td>C:\\Users\\slwal\\anaconda3\\envs\\PY36\\avgn_paper-...</td>\n",
       "      <td>SS MXXGRY XXXX JUVENILE Call Combination Serie...</td>\n",
       "      <td>LHDS</td>\n",
       "      <td>1.218702</td>\n",
       "      <td>1.415477</td>\n",
       "      <td>SHDS LHDS</td>\n",
       "      <td>1.018259</td>\n",
       "      <td>1.415477</td>\n",
       "      <td>272</td>\n",
       "      <td>1</td>\n",
       "    </tr>\n",
       "    <tr>\n",
       "      <th>697</th>\n",
       "      <td>697</td>\n",
       "      <td>MXXGRY</td>\n",
       "      <td>SS</td>\n",
       "      <td>GUILDFORD</td>\n",
       "      <td>F</td>\n",
       "      <td>C:\\Users\\slwal\\anaconda3\\envs\\PY36\\avgn_paper-...</td>\n",
       "      <td>SS MXXGRY XXXX JUVENILE Call Combination Serie...</td>\n",
       "      <td>SHDS</td>\n",
       "      <td>0.112036</td>\n",
       "      <td>0.238986</td>\n",
       "      <td>SHDS LHDS</td>\n",
       "      <td>0.112036</td>\n",
       "      <td>0.512518</td>\n",
       "      <td>273</td>\n",
       "      <td>0</td>\n",
       "    </tr>\n",
       "    <tr>\n",
       "      <th>698</th>\n",
       "      <td>698</td>\n",
       "      <td>MXXGRY</td>\n",
       "      <td>SS</td>\n",
       "      <td>GUILDFORD</td>\n",
       "      <td>F</td>\n",
       "      <td>C:\\Users\\slwal\\anaconda3\\envs\\PY36\\avgn_paper-...</td>\n",
       "      <td>SS MXXGRY XXXX JUVENILE Call Combination Serie...</td>\n",
       "      <td>LHDS</td>\n",
       "      <td>0.295263</td>\n",
       "      <td>0.512518</td>\n",
       "      <td>SHDS LHDS</td>\n",
       "      <td>0.112036</td>\n",
       "      <td>0.512518</td>\n",
       "      <td>273</td>\n",
       "      <td>1</td>\n",
       "    </tr>\n",
       "  </tbody>\n",
       "</table>\n",
       "<p>696 rows × 15 columns</p>\n",
       "</div>"
      ],
      "text/plain": [
       "     New_ID    indv   gro   location sex  \\\n",
       "3         3    MGGY  BWYa    CRAWLEY   F   \n",
       "4         4    MGGY  BWYa    CRAWLEY   F   \n",
       "5         5    MGGY  BWYa    CRAWLEY   F   \n",
       "6         6    MGGY  BWYa    CRAWLEY   F   \n",
       "7         7    MGGY  BWYa    CRAWLEY   F   \n",
       "..      ...     ...   ...        ...  ..   \n",
       "694     694  MXXGRY    SS  GUILDFORD   F   \n",
       "695     695  MXXGRY    SS  GUILDFORD   F   \n",
       "696     696  MXXGRY    SS  GUILDFORD   F   \n",
       "697     697  MXXGRY    SS  GUILDFORD   F   \n",
       "698     698  MXXGRY    SS  GUILDFORD   F   \n",
       "\n",
       "                                                wavloc  \\\n",
       "3    C:\\Users\\slwal\\anaconda3\\envs\\PY36\\avgn_paper-...   \n",
       "4    C:\\Users\\slwal\\anaconda3\\envs\\PY36\\avgn_paper-...   \n",
       "5    C:\\Users\\slwal\\anaconda3\\envs\\PY36\\avgn_paper-...   \n",
       "6    C:\\Users\\slwal\\anaconda3\\envs\\PY36\\avgn_paper-...   \n",
       "7    C:\\Users\\slwal\\anaconda3\\envs\\PY36\\avgn_paper-...   \n",
       "..                                                 ...   \n",
       "694  C:\\Users\\slwal\\anaconda3\\envs\\PY36\\avgn_paper-...   \n",
       "695  C:\\Users\\slwal\\anaconda3\\envs\\PY36\\avgn_paper-...   \n",
       "696  C:\\Users\\slwal\\anaconda3\\envs\\PY36\\avgn_paper-...   \n",
       "697  C:\\Users\\slwal\\anaconda3\\envs\\PY36\\avgn_paper-...   \n",
       "698  C:\\Users\\slwal\\anaconda3\\envs\\PY36\\avgn_paper-...   \n",
       "\n",
       "                                              filename call_label  call_start  \\\n",
       "3                      BWY MGGY Call Combo 1 300719 AM        USC    1.442686   \n",
       "4                        BWY MGGY Discrete 1 300719 AM     DSSHDS    1.244022   \n",
       "5                        BWY MGGY Discrete 1 300719 AM         LH    1.471596   \n",
       "6                        BWY MGGY Discrete 4 210519 PM     DSSHDS    0.306330   \n",
       "7                        BWY MGGY Discrete 4 210519 PM       SHLH    0.483693   \n",
       "..                                                 ...        ...         ...   \n",
       "694  SS MXXGRY XXXX JUVENILE Call Combination Serie...       LHDS    0.239733   \n",
       "695  SS MXXGRY XXXX JUVENILE Call Combination Serie...       SHDS    1.018259   \n",
       "696  SS MXXGRY XXXX JUVENILE Call Combination Serie...       LHDS    1.218702   \n",
       "697  SS MXXGRY XXXX JUVENILE Call Combination Serie...       SHDS    0.112036   \n",
       "698  SS MXXGRY XXXX JUVENILE Call Combination Serie...       LHDS    0.295263   \n",
       "\n",
       "     call_end  combi_label  combi_start  combi_end  combi_unique_num  \\\n",
       "3    1.984961       DS USC     1.218085   1.984961                 1   \n",
       "4    1.420183    DSSHDS LH     1.244022   1.897371                 2   \n",
       "5    1.897371    DSSHDS LH     1.244022   1.897371                 2   \n",
       "6    0.469851  DSSHDS SHLH     0.306330   0.927264                 3   \n",
       "7    0.927264  DSSHDS SHLH     0.306330   0.927264                 3   \n",
       "..        ...          ...          ...        ...               ...   \n",
       "694  0.438800    SHDS LHDS     0.048004   0.438800               271   \n",
       "695  1.148983    SHDS LHDS     1.018259   1.415477               272   \n",
       "696  1.415477    SHDS LHDS     1.018259   1.415477               272   \n",
       "697  0.238986    SHDS LHDS     0.112036   0.512518               273   \n",
       "698  0.512518    SHDS LHDS     0.112036   0.512518               273   \n",
       "\n",
       "     call_pos_combi  \n",
       "3                 1  \n",
       "4                 0  \n",
       "5                 1  \n",
       "6                 0  \n",
       "7                 1  \n",
       "..              ...  \n",
       "694               1  \n",
       "695               0  \n",
       "696               1  \n",
       "697               0  \n",
       "698               1  \n",
       "\n",
       "[696 rows x 15 columns]"
      ]
     },
     "execution_count": 30,
     "metadata": {},
     "output_type": "execute_result"
    }
   ],
   "source": [
    "vocdf[3:]"
   ]
  },
  {
   "cell_type": "markdown",
   "id": "cea9a1c9",
   "metadata": {},
   "source": [
    "# Generate JSON from dataframe"
   ]
  },
  {
   "cell_type": "code",
   "execution_count": 31,
   "id": "bebd4cc9",
   "metadata": {},
   "outputs": [],
   "source": [
    "from avgn.custom_parsing.magpie_call_for_repos import (\n",
    "    gen_wav_json\n",
    ")"
   ]
  },
  {
   "cell_type": "code",
   "execution_count": 32,
   "id": "6181d12c",
   "metadata": {},
   "outputs": [],
   "source": [
    "savewav=False # don't want to create new WAV files, just reference original ones"
   ]
  },
  {
   "cell_type": "code",
   "execution_count": 33,
   "id": "cd2d703c",
   "metadata": {},
   "outputs": [
    {
     "data": {
      "application/vnd.jupyter.widget-view+json": {
       "model_id": "845fffe12f2a4578b1c02e7f48f763d7",
       "version_major": 2,
       "version_minor": 0
      },
      "text/plain": [
       "  0%|          | 0/153 [00:00<?, ?it/s]"
      ]
     },
     "metadata": {},
     "output_type": "display_data"
    },
    {
     "name": "stderr",
     "output_type": "stream",
     "text": [
      "[Parallel(n_jobs=-1)]: Using backend LokyBackend with 12 concurrent workers.\n",
      "[Parallel(n_jobs=-1)]: Done   1 tasks      | elapsed:    4.6s\n",
      "[Parallel(n_jobs=-1)]: Done   8 tasks      | elapsed:    4.6s\n",
      "[Parallel(n_jobs=-1)]: Done  17 tasks      | elapsed:    4.7s\n",
      "[Parallel(n_jobs=-1)]: Done  26 tasks      | elapsed:    4.8s\n",
      "[Parallel(n_jobs=-1)]: Done  37 tasks      | elapsed:    4.8s\n",
      "[Parallel(n_jobs=-1)]: Batch computation too fast (0.1735s.) Setting batch_size=2.\n",
      "[Parallel(n_jobs=-1)]: Done  48 tasks      | elapsed:    4.8s\n",
      "[Parallel(n_jobs=-1)]: Done  61 tasks      | elapsed:    4.9s\n",
      "[Parallel(n_jobs=-1)]: Batch computation too fast (0.0808s.) Setting batch_size=4.\n",
      "[Parallel(n_jobs=-1)]: Done  76 tasks      | elapsed:    4.9s\n",
      "[Parallel(n_jobs=-1)]: Done 106 tasks      | elapsed:    5.0s\n",
      "[Parallel(n_jobs=-1)]: Done 128 tasks      | elapsed:    5.0s\n",
      "[Parallel(n_jobs=-1)]: Done 146 out of 153 | elapsed:    5.0s remaining:    0.1s\n",
      "[Parallel(n_jobs=-1)]: Done 153 out of 153 | elapsed:    5.0s finished\n"
     ]
    }
   ],
   "source": [
    "with Parallel(n_jobs=-1, verbose=10) as parallel:\n",
    "    parallel(\n",
    "        delayed(gen_wav_json)(\n",
    "            wf,\n",
    "            vocdf[vocdf.wavloc==wf],\n",
    "            DT_ID)\n",
    "        for wf in tqdm(vocdf.wavloc.unique())\n",
    "    );"
   ]
  },
  {
   "cell_type": "markdown",
   "id": "a54db03a",
   "metadata": {},
   "source": [
    "### Check it worked"
   ]
  },
  {
   "cell_type": "code",
   "execution_count": 34,
   "id": "1cc585a5",
   "metadata": {},
   "outputs": [],
   "source": [
    "from avgn.utils.hparams import HParams\n",
    "from avgn.dataset import DataSet"
   ]
  },
  {
   "cell_type": "code",
   "execution_count": 35,
   "id": "4e8e1775",
   "metadata": {},
   "outputs": [
    {
     "data": {
      "text/plain": [
       "'git_repos_call'"
      ]
     },
     "execution_count": 35,
     "metadata": {},
     "output_type": "execute_result"
    }
   ],
   "source": [
    "DATASET_ID"
   ]
  },
  {
   "cell_type": "code",
   "execution_count": 36,
   "id": "00f60075",
   "metadata": {},
   "outputs": [
    {
     "data": {
      "text/plain": [
       "'2022-03-12_17-46-00'"
      ]
     },
     "execution_count": 36,
     "metadata": {},
     "output_type": "execute_result"
    }
   ],
   "source": [
    "DT_ID"
   ]
  },
  {
   "cell_type": "code",
   "execution_count": 37,
   "id": "a84552aa",
   "metadata": {},
   "outputs": [],
   "source": [
    "# create a set of hyperparameters for processing this dataset.  \n",
    "hparams = HParams(\n",
    "    num_mel_bins = 32,\n",
    "    mel_lower_edge_hertz=400,\n",
    "    mel_upper_edge_hertz=15000,\n",
    "    butter_lowcut = 400,\n",
    "    butter_highcut = 15000,\n",
    "    ref_level_db = 20,\n",
    "    min_level_db = -30,\n",
    "    mask_spec = True,\n",
    "    win_length_ms = 10,\n",
    "    hop_length_ms = 2,\n",
    "    nex=-1,\n",
    "    n_jobs=-1,\n",
    "    verbosity = 1,\n",
    ")"
   ]
  },
  {
   "cell_type": "code",
   "execution_count": 38,
   "id": "779f6289",
   "metadata": {},
   "outputs": [
    {
     "data": {
      "application/vnd.jupyter.widget-view+json": {
       "model_id": "369ca4ed3d4140689a66b782b7624d81",
       "version_major": 2,
       "version_minor": 0
      },
      "text/plain": [
       "loading json:   0%|          | 0/152 [00:00<?, ?it/s]"
      ]
     },
     "metadata": {},
     "output_type": "display_data"
    },
    {
     "name": "stderr",
     "output_type": "stream",
     "text": [
      "[Parallel(n_jobs=-1)]: Using backend LokyBackend with 12 concurrent workers.\n",
      "[Parallel(n_jobs=-1)]: Done  28 tasks      | elapsed:    0.0s\n",
      "[Parallel(n_jobs=-1)]: Done 152 out of 152 | elapsed:    0.0s finished\n"
     ]
    },
    {
     "data": {
      "application/vnd.jupyter.widget-view+json": {
       "model_id": "",
       "version_major": 2,
       "version_minor": 0
      },
      "text/plain": [
       "getting unique individuals:   0%|          | 0/152 [00:00<?, ?it/s]"
      ]
     },
     "metadata": {},
     "output_type": "display_data"
    }
   ],
   "source": [
    "# create a dataset object, which\n",
    "dataset = DataSet(DATASET_ID, hparams = hparams)"
   ]
  },
  {
   "cell_type": "code",
   "execution_count": 39,
   "id": "d8dcb91e",
   "metadata": {},
   "outputs": [
    {
     "name": "stdout",
     "output_type": "stream",
     "text": [
      "{\n",
      "    \"filename\": \"BWY MGGY Call Combo 1 290719 PM\",\n",
      "    \"samplerate_hz\": 44100,\n",
      "    \"sex\": \"F\",\n",
      "    \"group\": \"BWYa\",\n",
      "    \"location\": \"CRAWLEY\",\n",
      "    \"wav_loc\": \"C:/Users/slwal/anaconda3/envs/PY36/avgn_paper-2/data/raw/magpie/individuals/BWYa_F_MGGY/BWY MGGY Call Combo 1 290719 PM.WAV\",\n",
      "    \"length_s\": 2.1197732426303855,\n",
      "    \"species\": \"Gymnorhina tibicen dorsalis\",\n",
      "    \"common_name\": \"Western Australian magpie\",\n",
      "    \"indvs\": {\n",
      "        \"MGGY\": {\n",
      "            \"call\": {\n",
      "                \"ID\": [\n",
      "                    0.0,\n",
      "                    1.0\n",
      "                ],\n",
      "                \"labels\": [\n",
      "                    \"DSSHDS\",\n",
      "                    \"SHSHLH\"\n",
      "                ],\n",
      "                \"start_times\": [\n",
      "                    0.753604333,\n",
      "                    0.932017365\n",
      "                ],\n",
      "                \"end_times\": [\n",
      "                    0.921159875,\n",
      "                    1.367129904\n",
      "                ],\n",
      "                \"call_unique_num\": [\n",
      "                    0.0,\n",
      "                    1.0\n",
      "                ],\n",
      "                \"combi_label\": [\n",
      "                    \"DSSHDS SHSHLH\",\n",
      "                    \"DSSHDS SHSHLH\"\n",
      "                ],\n",
      "                \"combi_start\": [\n",
      "                    0.753604333,\n",
      "                    0.753604333\n",
      "                ],\n",
      "                \"combi_end\": [\n",
      "                    1.367129904,\n",
      "                    1.367129904\n",
      "                ],\n",
      "                \"combi_unique_num\": [\n",
      "                    0.0,\n",
      "                    0.0\n",
      "                ],\n",
      "                \"call_pos_combi\": [\n",
      "                    0.0,\n",
      "                    1.0\n",
      "                ]\n",
      "            }\n",
      "        }\n",
      "    }\n",
      "}...\n"
     ]
    }
   ],
   "source": [
    "# to make sure everything loaded correctly, lets look at a sample JSON\n",
    "print(json.dumps(dataset.sample_json, indent=4, default=str)[0:15000] + '...')"
   ]
  },
  {
   "cell_type": "code",
   "execution_count": null,
   "id": "7ed40219",
   "metadata": {},
   "outputs": [],
   "source": []
  },
  {
   "cell_type": "code",
   "execution_count": null,
   "id": "09c380ac",
   "metadata": {},
   "outputs": [],
   "source": []
  },
  {
   "cell_type": "code",
   "execution_count": null,
   "id": "eb796645",
   "metadata": {},
   "outputs": [],
   "source": []
  },
  {
   "cell_type": "code",
   "execution_count": null,
   "id": "a37ebce0",
   "metadata": {},
   "outputs": [],
   "source": []
  },
  {
   "cell_type": "code",
   "execution_count": null,
   "id": "456f972c",
   "metadata": {},
   "outputs": [],
   "source": []
  },
  {
   "cell_type": "code",
   "execution_count": null,
   "id": "b3f6b993",
   "metadata": {},
   "outputs": [],
   "source": []
  },
  {
   "cell_type": "code",
   "execution_count": null,
   "id": "96e10a15",
   "metadata": {},
   "outputs": [],
   "source": []
  },
  {
   "cell_type": "code",
   "execution_count": null,
   "id": "e17d97a3",
   "metadata": {},
   "outputs": [],
   "source": []
  }
 ],
 "metadata": {
  "kernelspec": {
   "display_name": "Python 3",
   "language": "python",
   "name": "python3"
  },
  "language_info": {
   "codemirror_mode": {
    "name": "ipython",
    "version": 3
   },
   "file_extension": ".py",
   "mimetype": "text/x-python",
   "name": "python",
   "nbconvert_exporter": "python",
   "pygments_lexer": "ipython3",
   "version": "3.6.13"
  }
 },
 "nbformat": 4,
 "nbformat_minor": 5
}
