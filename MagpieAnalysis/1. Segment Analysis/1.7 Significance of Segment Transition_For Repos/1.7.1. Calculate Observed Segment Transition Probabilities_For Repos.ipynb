{
 "cells": [
  {
   "cell_type": "markdown",
   "id": "6db7034b",
   "metadata": {},
   "source": [
    "# Calculate Observed Transition Probabilities\n",
    "In the following notebook, we calculate transition probabilities between the segments comprising calls. Probabilities are calculated based on forward transitions (i.e. the likelihood for one segment transition to another - which can either be from the same or a different segment class). \n",
    "\n",
    "We use code adapted from [Sainburg et al., (2020)](https://doi.org/10.1371/journal.pcbi.1008228) and [github.com/timsainb/avgn](https://github.com/timsainb/avgn_paper) to produce the figure for these transitions which are displayed as comparisons to the position of the segment class in UMAP latent space.\n",
    "\n",
    "This notebook uses Python v3.8.13 (compared to v3.6 used in earlier notebooks)."
   ]
  },
  {
   "cell_type": "code",
   "execution_count": 1,
   "id": "3eb7df06",
   "metadata": {},
   "outputs": [],
   "source": [
    "from tqdm.auto import tqdm"
   ]
  },
  {
   "cell_type": "code",
   "execution_count": 2,
   "id": "95d3583e",
   "metadata": {},
   "outputs": [],
   "source": [
    "import avgn"
   ]
  },
  {
   "cell_type": "code",
   "execution_count": 3,
   "id": "45d2b615",
   "metadata": {},
   "outputs": [],
   "source": [
    "import pandas as pd\n",
    "import numpy as np\n",
    "from avgn.utils.paths import DATA_DIR, ensure_dir, FIGURE_DIR"
   ]
  },
  {
   "cell_type": "code",
   "execution_count": 4,
   "id": "8c490d14",
   "metadata": {},
   "outputs": [],
   "source": [
    "DATASET_ID = \"git_repos\""
   ]
  },
  {
   "cell_type": "code",
   "execution_count": 5,
   "id": "04ec6e42",
   "metadata": {},
   "outputs": [],
   "source": [
    "DT_ID = '2022-03-04_18-41-29'"
   ]
  },
  {
   "cell_type": "code",
   "execution_count": 6,
   "id": "eb28146d",
   "metadata": {},
   "outputs": [
    {
     "data": {
      "text/html": [
       "<div>\n",
       "<style scoped>\n",
       "    .dataframe tbody tr th:only-of-type {\n",
       "        vertical-align: middle;\n",
       "    }\n",
       "\n",
       "    .dataframe tbody tr th {\n",
       "        vertical-align: top;\n",
       "    }\n",
       "\n",
       "    .dataframe thead th {\n",
       "        text-align: right;\n",
       "    }\n",
       "</style>\n",
       "<table border=\"1\" class=\"dataframe\">\n",
       "  <thead>\n",
       "    <tr style=\"text-align: right;\">\n",
       "      <th></th>\n",
       "      <th>start_time</th>\n",
       "      <th>end_time</th>\n",
       "      <th>labels</th>\n",
       "      <th>ID</th>\n",
       "      <th>start_times</th>\n",
       "      <th>end_times</th>\n",
       "      <th>call_label</th>\n",
       "      <th>call_start</th>\n",
       "      <th>seg_pos_call</th>\n",
       "      <th>call_unique_num</th>\n",
       "      <th>...</th>\n",
       "      <th>location</th>\n",
       "      <th>sex</th>\n",
       "      <th>wav_loc</th>\n",
       "      <th>key</th>\n",
       "      <th>rate</th>\n",
       "      <th>specs</th>\n",
       "      <th>umap</th>\n",
       "      <th>comb_labels</th>\n",
       "      <th>call_lab_simp</th>\n",
       "      <th>combi_lab_simp</th>\n",
       "    </tr>\n",
       "  </thead>\n",
       "  <tbody>\n",
       "    <tr>\n",
       "      <th>0</th>\n",
       "      <td>0.753604</td>\n",
       "      <td>0.776773</td>\n",
       "      <td>DS</td>\n",
       "      <td>0</td>\n",
       "      <td>0.753604</td>\n",
       "      <td>0.776773</td>\n",
       "      <td>DSSHDS</td>\n",
       "      <td>0.753604</td>\n",
       "      <td>0</td>\n",
       "      <td>0</td>\n",
       "      <td>...</td>\n",
       "      <td>CRAWLEY</td>\n",
       "      <td>F</td>\n",
       "      <td>C:/Users/slwal/anaconda3/envs/PY36/avgn_paper-...</td>\n",
       "      <td>BWY MGGY Call Combo 1 290719 PM</td>\n",
       "      <td>44100</td>\n",
       "      <td>[[0.0, 0.0, 0.0, 0.0, 0.0, 0.0, 0.0, 0.0, 0.0,...</td>\n",
       "      <td>[14.15081, 3.406464]</td>\n",
       "      <td>DS</td>\n",
       "      <td>DS-SH-DS</td>\n",
       "      <td>DS-SH-DS SH-LH</td>\n",
       "    </tr>\n",
       "    <tr>\n",
       "      <th>1</th>\n",
       "      <td>0.786865</td>\n",
       "      <td>0.835165</td>\n",
       "      <td>SH</td>\n",
       "      <td>1</td>\n",
       "      <td>0.786865</td>\n",
       "      <td>0.835165</td>\n",
       "      <td>DSSHDS</td>\n",
       "      <td>0.753604</td>\n",
       "      <td>1</td>\n",
       "      <td>0</td>\n",
       "      <td>...</td>\n",
       "      <td>CRAWLEY</td>\n",
       "      <td>F</td>\n",
       "      <td>C:/Users/slwal/anaconda3/envs/PY36/avgn_paper-...</td>\n",
       "      <td>BWY MGGY Call Combo 1 290719 PM</td>\n",
       "      <td>44100</td>\n",
       "      <td>[[0.0, 0.0, 0.0, 0.0, 0.0, 0.0, 0.0, 0.0, 0.0,...</td>\n",
       "      <td>[5.388335, 10.057652]</td>\n",
       "      <td>SH</td>\n",
       "      <td>DS-SH-DS</td>\n",
       "      <td>DS-SH-DS SH-LH</td>\n",
       "    </tr>\n",
       "    <tr>\n",
       "      <th>2</th>\n",
       "      <td>0.855941</td>\n",
       "      <td>0.921160</td>\n",
       "      <td>DS</td>\n",
       "      <td>2</td>\n",
       "      <td>0.855941</td>\n",
       "      <td>0.921160</td>\n",
       "      <td>DSSHDS</td>\n",
       "      <td>0.753604</td>\n",
       "      <td>2</td>\n",
       "      <td>0</td>\n",
       "      <td>...</td>\n",
       "      <td>CRAWLEY</td>\n",
       "      <td>F</td>\n",
       "      <td>C:/Users/slwal/anaconda3/envs/PY36/avgn_paper-...</td>\n",
       "      <td>BWY MGGY Call Combo 1 290719 PM</td>\n",
       "      <td>44100</td>\n",
       "      <td>[[0.0, 0.0, 0.0, 0.0, 0.0, 0.0, 0.0, 0.0, 0.0,...</td>\n",
       "      <td>[12.421062, 0.6991728]</td>\n",
       "      <td>DS</td>\n",
       "      <td>DS-SH-DS</td>\n",
       "      <td>DS-SH-DS SH-LH</td>\n",
       "    </tr>\n",
       "  </tbody>\n",
       "</table>\n",
       "<p>3 rows × 29 columns</p>\n",
       "</div>"
      ],
      "text/plain": [
       "   start_time  end_time labels  ID  start_times  end_times call_label  \\\n",
       "0    0.753604  0.776773     DS   0     0.753604   0.776773     DSSHDS   \n",
       "1    0.786865  0.835165     SH   1     0.786865   0.835165     DSSHDS   \n",
       "2    0.855941  0.921160     DS   2     0.855941   0.921160     DSSHDS   \n",
       "\n",
       "   call_start  seg_pos_call  call_unique_num  ...  location sex  \\\n",
       "0    0.753604             0                0  ...   CRAWLEY   F   \n",
       "1    0.753604             1                0  ...   CRAWLEY   F   \n",
       "2    0.753604             2                0  ...   CRAWLEY   F   \n",
       "\n",
       "                                             wav_loc  \\\n",
       "0  C:/Users/slwal/anaconda3/envs/PY36/avgn_paper-...   \n",
       "1  C:/Users/slwal/anaconda3/envs/PY36/avgn_paper-...   \n",
       "2  C:/Users/slwal/anaconda3/envs/PY36/avgn_paper-...   \n",
       "\n",
       "                               key   rate  \\\n",
       "0  BWY MGGY Call Combo 1 290719 PM  44100   \n",
       "1  BWY MGGY Call Combo 1 290719 PM  44100   \n",
       "2  BWY MGGY Call Combo 1 290719 PM  44100   \n",
       "\n",
       "                                               specs                    umap  \\\n",
       "0  [[0.0, 0.0, 0.0, 0.0, 0.0, 0.0, 0.0, 0.0, 0.0,...    [14.15081, 3.406464]   \n",
       "1  [[0.0, 0.0, 0.0, 0.0, 0.0, 0.0, 0.0, 0.0, 0.0,...   [5.388335, 10.057652]   \n",
       "2  [[0.0, 0.0, 0.0, 0.0, 0.0, 0.0, 0.0, 0.0, 0.0,...  [12.421062, 0.6991728]   \n",
       "\n",
       "  comb_labels call_lab_simp  combi_lab_simp  \n",
       "0          DS      DS-SH-DS  DS-SH-DS SH-LH  \n",
       "1          SH      DS-SH-DS  DS-SH-DS SH-LH  \n",
       "2          DS      DS-SH-DS  DS-SH-DS SH-LH  \n",
       "\n",
       "[3 rows x 29 columns]"
      ]
     },
     "execution_count": 6,
     "metadata": {},
     "output_type": "execute_result"
    }
   ],
   "source": [
    "seg_df = pd.read_pickle(DATA_DIR / DATASET_ID / DT_ID /  'segment_df_umap_combinedtidied.pickle')\n",
    "seg_df[:3]"
   ]
  },
  {
   "cell_type": "markdown",
   "id": "7a13bf1d",
   "metadata": {},
   "source": [
    "### Change segment labels to unique number identifier"
   ]
  },
  {
   "cell_type": "code",
   "execution_count": 7,
   "id": "cf45a0b3",
   "metadata": {},
   "outputs": [
    {
     "data": {
      "text/html": [
       "<div>\n",
       "<style scoped>\n",
       "    .dataframe tbody tr th:only-of-type {\n",
       "        vertical-align: middle;\n",
       "    }\n",
       "\n",
       "    .dataframe tbody tr th {\n",
       "        vertical-align: top;\n",
       "    }\n",
       "\n",
       "    .dataframe thead th {\n",
       "        text-align: right;\n",
       "    }\n",
       "</style>\n",
       "<table border=\"1\" class=\"dataframe\">\n",
       "  <thead>\n",
       "    <tr style=\"text-align: right;\">\n",
       "      <th></th>\n",
       "      <th>start_time</th>\n",
       "      <th>end_time</th>\n",
       "      <th>labels</th>\n",
       "      <th>ID</th>\n",
       "      <th>start_times</th>\n",
       "      <th>end_times</th>\n",
       "      <th>call_label</th>\n",
       "      <th>call_start</th>\n",
       "      <th>seg_pos_call</th>\n",
       "      <th>call_unique_num</th>\n",
       "      <th>...</th>\n",
       "      <th>sex</th>\n",
       "      <th>wav_loc</th>\n",
       "      <th>key</th>\n",
       "      <th>rate</th>\n",
       "      <th>specs</th>\n",
       "      <th>umap</th>\n",
       "      <th>comb_labels</th>\n",
       "      <th>call_lab_simp</th>\n",
       "      <th>combi_lab_simp</th>\n",
       "      <th>comb_labels_num</th>\n",
       "    </tr>\n",
       "  </thead>\n",
       "  <tbody>\n",
       "    <tr>\n",
       "      <th>0</th>\n",
       "      <td>0.753604</td>\n",
       "      <td>0.776773</td>\n",
       "      <td>DS</td>\n",
       "      <td>0</td>\n",
       "      <td>0.753604</td>\n",
       "      <td>0.776773</td>\n",
       "      <td>DSSHDS</td>\n",
       "      <td>0.753604</td>\n",
       "      <td>0</td>\n",
       "      <td>0</td>\n",
       "      <td>...</td>\n",
       "      <td>F</td>\n",
       "      <td>C:/Users/slwal/anaconda3/envs/PY36/avgn_paper-...</td>\n",
       "      <td>BWY MGGY Call Combo 1 290719 PM</td>\n",
       "      <td>44100</td>\n",
       "      <td>[[0.0, 0.0, 0.0, 0.0, 0.0, 0.0, 0.0, 0.0, 0.0,...</td>\n",
       "      <td>[14.15081, 3.406464]</td>\n",
       "      <td>DS</td>\n",
       "      <td>DS-SH-DS</td>\n",
       "      <td>DS-SH-DS SH-LH</td>\n",
       "      <td>0</td>\n",
       "    </tr>\n",
       "    <tr>\n",
       "      <th>1</th>\n",
       "      <td>0.786865</td>\n",
       "      <td>0.835165</td>\n",
       "      <td>SH</td>\n",
       "      <td>1</td>\n",
       "      <td>0.786865</td>\n",
       "      <td>0.835165</td>\n",
       "      <td>DSSHDS</td>\n",
       "      <td>0.753604</td>\n",
       "      <td>1</td>\n",
       "      <td>0</td>\n",
       "      <td>...</td>\n",
       "      <td>F</td>\n",
       "      <td>C:/Users/slwal/anaconda3/envs/PY36/avgn_paper-...</td>\n",
       "      <td>BWY MGGY Call Combo 1 290719 PM</td>\n",
       "      <td>44100</td>\n",
       "      <td>[[0.0, 0.0, 0.0, 0.0, 0.0, 0.0, 0.0, 0.0, 0.0,...</td>\n",
       "      <td>[5.388335, 10.057652]</td>\n",
       "      <td>SH</td>\n",
       "      <td>DS-SH-DS</td>\n",
       "      <td>DS-SH-DS SH-LH</td>\n",
       "      <td>3</td>\n",
       "    </tr>\n",
       "    <tr>\n",
       "      <th>2</th>\n",
       "      <td>0.855941</td>\n",
       "      <td>0.921160</td>\n",
       "      <td>DS</td>\n",
       "      <td>2</td>\n",
       "      <td>0.855941</td>\n",
       "      <td>0.921160</td>\n",
       "      <td>DSSHDS</td>\n",
       "      <td>0.753604</td>\n",
       "      <td>2</td>\n",
       "      <td>0</td>\n",
       "      <td>...</td>\n",
       "      <td>F</td>\n",
       "      <td>C:/Users/slwal/anaconda3/envs/PY36/avgn_paper-...</td>\n",
       "      <td>BWY MGGY Call Combo 1 290719 PM</td>\n",
       "      <td>44100</td>\n",
       "      <td>[[0.0, 0.0, 0.0, 0.0, 0.0, 0.0, 0.0, 0.0, 0.0,...</td>\n",
       "      <td>[12.421062, 0.6991728]</td>\n",
       "      <td>DS</td>\n",
       "      <td>DS-SH-DS</td>\n",
       "      <td>DS-SH-DS SH-LH</td>\n",
       "      <td>0</td>\n",
       "    </tr>\n",
       "  </tbody>\n",
       "</table>\n",
       "<p>3 rows × 30 columns</p>\n",
       "</div>"
      ],
      "text/plain": [
       "   start_time  end_time labels  ID  start_times  end_times call_label  \\\n",
       "0    0.753604  0.776773     DS   0     0.753604   0.776773     DSSHDS   \n",
       "1    0.786865  0.835165     SH   1     0.786865   0.835165     DSSHDS   \n",
       "2    0.855941  0.921160     DS   2     0.855941   0.921160     DSSHDS   \n",
       "\n",
       "   call_start  seg_pos_call  call_unique_num  ...  sex  \\\n",
       "0    0.753604             0                0  ...    F   \n",
       "1    0.753604             1                0  ...    F   \n",
       "2    0.753604             2                0  ...    F   \n",
       "\n",
       "                                             wav_loc  \\\n",
       "0  C:/Users/slwal/anaconda3/envs/PY36/avgn_paper-...   \n",
       "1  C:/Users/slwal/anaconda3/envs/PY36/avgn_paper-...   \n",
       "2  C:/Users/slwal/anaconda3/envs/PY36/avgn_paper-...   \n",
       "\n",
       "                               key   rate  \\\n",
       "0  BWY MGGY Call Combo 1 290719 PM  44100   \n",
       "1  BWY MGGY Call Combo 1 290719 PM  44100   \n",
       "2  BWY MGGY Call Combo 1 290719 PM  44100   \n",
       "\n",
       "                                               specs                    umap  \\\n",
       "0  [[0.0, 0.0, 0.0, 0.0, 0.0, 0.0, 0.0, 0.0, 0.0,...    [14.15081, 3.406464]   \n",
       "1  [[0.0, 0.0, 0.0, 0.0, 0.0, 0.0, 0.0, 0.0, 0.0,...   [5.388335, 10.057652]   \n",
       "2  [[0.0, 0.0, 0.0, 0.0, 0.0, 0.0, 0.0, 0.0, 0.0,...  [12.421062, 0.6991728]   \n",
       "\n",
       "   comb_labels call_lab_simp  combi_lab_simp comb_labels_num  \n",
       "0           DS      DS-SH-DS  DS-SH-DS SH-LH               0  \n",
       "1           SH      DS-SH-DS  DS-SH-DS SH-LH               3  \n",
       "2           DS      DS-SH-DS  DS-SH-DS SH-LH               0  \n",
       "\n",
       "[3 rows x 30 columns]"
      ]
     },
     "execution_count": 7,
     "metadata": {},
     "output_type": "execute_result"
    }
   ],
   "source": [
    "label_dict = {lab:i for i, lab in enumerate(np.unique(seg_df['comb_labels'].values))}\n",
    "seg_df['comb_labels_num'] = [label_dict[i] for i in seg_df.comb_labels.values]\n",
    "seg_df[:3]"
   ]
  },
  {
   "cell_type": "markdown",
   "id": "fd4ab865",
   "metadata": {},
   "source": [
    "### Describe Transition Probability Data\n",
    "- for transition between segments in calls"
   ]
  },
  {
   "cell_type": "code",
   "execution_count": 8,
   "id": "35caa0e2",
   "metadata": {},
   "outputs": [],
   "source": [
    "import numpy as np\n",
    "import matplotlib.pyplot as plt\n",
    "%matplotlib inline\n",
    "from tqdm.autonotebook import tqdm\n",
    "from joblib import Parallel, delayed\n",
    "import umap\n",
    "import pandas as pd"
   ]
  },
  {
   "cell_type": "code",
   "execution_count": 9,
   "id": "c4ae9a64",
   "metadata": {},
   "outputs": [],
   "source": [
    "unique_states = np.unique(seg_df['comb_labels_num']) #number of unique segments\n",
    "lab_dict = {lab: i for i, lab in enumerate(unique_states)} #create a dictionary of segments using the number instead of the string label"
   ]
  },
  {
   "cell_type": "code",
   "execution_count": 10,
   "id": "919cf43f",
   "metadata": {
    "scrolled": true
   },
   "outputs": [
    {
     "data": {
      "text/plain": [
       "array(['DS', 'LH', 'NL', 'SH'], dtype=object)"
      ]
     },
     "execution_count": 10,
     "metadata": {},
     "output_type": "execute_result"
    }
   ],
   "source": [
    "np.unique(seg_df['comb_labels'])"
   ]
  },
  {
   "cell_type": "code",
   "execution_count": 11,
   "id": "f74ab12d",
   "metadata": {},
   "outputs": [
    {
     "data": {
      "text/plain": [
       "{0: 0, 1: 1, 2: 2, 3: 3}"
      ]
     },
     "execution_count": 11,
     "metadata": {},
     "output_type": "execute_result"
    }
   ],
   "source": [
    "#DS: 0, LH:1, NL:2, SH:3\n",
    "lab_dict"
   ]
  },
  {
   "cell_type": "code",
   "execution_count": 12,
   "id": "1a1778e0",
   "metadata": {},
   "outputs": [
    {
     "name": "stdout",
     "output_type": "stream",
     "text": [
      "[[0, 3, 0], [3, 3, 1], [0]]\n"
     ]
    }
   ],
   "source": [
    "#create an array of calls using unique number identifiers instead of segment labels\n",
    "calls = [\n",
    "    list(seg_df[seg_df.call_unique_num == callid][\"comb_labels_num\"].values)\n",
    "    for callid in seg_df.call_unique_num.unique()\n",
    "]\n",
    "print(calls[:3])"
   ]
  },
  {
   "cell_type": "code",
   "execution_count": 13,
   "id": "cfcc3a1b",
   "metadata": {},
   "outputs": [
    {
     "data": {
      "text/plain": [
       "[0, 3, 0]"
      ]
     },
     "execution_count": 13,
     "metadata": {},
     "output_type": "execute_result"
    }
   ],
   "source": [
    "#DS-SH-DS call (first call in seg_df) - described now as 0-3-0\n",
    "calls[0]"
   ]
  },
  {
   "cell_type": "code",
   "execution_count": 14,
   "id": "b908d8d8",
   "metadata": {},
   "outputs": [
    {
     "data": {
      "text/plain": [
       "array([0.09447415, 0.13190731, 0.3030303 , 0.47058824])"
      ]
     },
     "execution_count": 14,
     "metadata": {},
     "output_type": "execute_result"
    }
   ],
   "source": [
    "##calculate the starting probabilities - shown in order DS, LH, NL, SH\n",
    "seg_starts = np.array([i[0] for i in calls])\n",
    "start_probs = np.array([np.sum(seg_starts == i) / len(calls) for i in unique_states])\n",
    "start_probs"
   ]
  },
  {
   "cell_type": "code",
   "execution_count": 15,
   "id": "257b6b2c",
   "metadata": {},
   "outputs": [
    {
     "data": {
      "text/plain": [
       "array([0.81876333, 0.7254902 , 0.14942529, 0.00612245])"
      ]
     },
     "execution_count": 15,
     "metadata": {},
     "output_type": "execute_result"
    }
   ],
   "source": [
    "#calculate end probabilities - shown in order DS, LH, NL, SH\n",
    "end_states = np.array([i[-1] for i in calls])\n",
    "end_probs = np.array([np.sum(end_states == i) / (np.sum(np.concatenate(calls) == i) + 1)\n",
    "    for i in np.arange(len(unique_states))\n",
    "])\n",
    "end_probs            "
   ]
  },
  {
   "cell_type": "code",
   "execution_count": 16,
   "id": "d336d030",
   "metadata": {},
   "outputs": [
    {
     "data": {
      "text/plain": [
       "array([[0.07142857, 0.17857143, 0.        , 0.75      ],\n",
       "       [1.        , 0.        , 0.        , 0.        ],\n",
       "       [0.79591837, 0.        , 0.        , 0.20408163],\n",
       "       [0.48765432, 0.2345679 , 0.00617284, 0.27160494]])"
      ]
     },
     "execution_count": 16,
     "metadata": {},
     "output_type": "execute_result"
    }
   ],
   "source": [
    "# transition probs - shown in order DS, LH, NL, SH\n",
    "trans_mat = np.zeros((len(unique_states), len(unique_states)))\n",
    "for seg in calls:\n",
    "    for i, j in zip(seg[:-1], seg[1:]):\n",
    "        trans_mat[i, j] += 1\n",
    "# smooth to nonzero probabilities\n",
    "trans_mat = (trans_mat.T / trans_mat.sum(axis=1)).T  # np.sum(trans_mat, axis=1)\n",
    "trans_mat"
   ]
  },
  {
   "cell_type": "code",
   "execution_count": 17,
   "id": "0c618943",
   "metadata": {},
   "outputs": [
    {
     "data": {
      "text/html": [
       "<div>\n",
       "<style scoped>\n",
       "    .dataframe tbody tr th:only-of-type {\n",
       "        vertical-align: middle;\n",
       "    }\n",
       "\n",
       "    .dataframe tbody tr th {\n",
       "        vertical-align: top;\n",
       "    }\n",
       "\n",
       "    .dataframe thead th {\n",
       "        text-align: right;\n",
       "    }\n",
       "</style>\n",
       "<table border=\"1\" class=\"dataframe\">\n",
       "  <thead>\n",
       "    <tr style=\"text-align: right;\">\n",
       "      <th></th>\n",
       "      <th>0</th>\n",
       "      <th>1</th>\n",
       "      <th>2</th>\n",
       "      <th>3</th>\n",
       "    </tr>\n",
       "  </thead>\n",
       "  <tbody>\n",
       "    <tr>\n",
       "      <th>0</th>\n",
       "      <td>0.071429</td>\n",
       "      <td>0.178571</td>\n",
       "      <td>0.000000</td>\n",
       "      <td>0.750000</td>\n",
       "    </tr>\n",
       "    <tr>\n",
       "      <th>1</th>\n",
       "      <td>1.000000</td>\n",
       "      <td>0.000000</td>\n",
       "      <td>0.000000</td>\n",
       "      <td>0.000000</td>\n",
       "    </tr>\n",
       "    <tr>\n",
       "      <th>2</th>\n",
       "      <td>0.795918</td>\n",
       "      <td>0.000000</td>\n",
       "      <td>0.000000</td>\n",
       "      <td>0.204082</td>\n",
       "    </tr>\n",
       "    <tr>\n",
       "      <th>3</th>\n",
       "      <td>0.487654</td>\n",
       "      <td>0.234568</td>\n",
       "      <td>0.006173</td>\n",
       "      <td>0.271605</td>\n",
       "    </tr>\n",
       "  </tbody>\n",
       "</table>\n",
       "</div>"
      ],
      "text/plain": [
       "          0         1         2         3\n",
       "0  0.071429  0.178571  0.000000  0.750000\n",
       "1  1.000000  0.000000  0.000000  0.000000\n",
       "2  0.795918  0.000000  0.000000  0.204082\n",
       "3  0.487654  0.234568  0.006173  0.271605"
      ]
     },
     "execution_count": 17,
     "metadata": {},
     "output_type": "execute_result"
    }
   ],
   "source": [
    "#create dataframe of transition matrix\n",
    "trans_df = pd.DataFrame(trans_mat)\n",
    "trans_df"
   ]
  },
  {
   "cell_type": "code",
   "execution_count": 18,
   "id": "a18650d6",
   "metadata": {},
   "outputs": [
    {
     "data": {
      "text/html": [
       "<div>\n",
       "<style scoped>\n",
       "    .dataframe tbody tr th:only-of-type {\n",
       "        vertical-align: middle;\n",
       "    }\n",
       "\n",
       "    .dataframe tbody tr th {\n",
       "        vertical-align: top;\n",
       "    }\n",
       "\n",
       "    .dataframe thead th {\n",
       "        text-align: right;\n",
       "    }\n",
       "</style>\n",
       "<table border=\"1\" class=\"dataframe\">\n",
       "  <thead>\n",
       "    <tr style=\"text-align: right;\">\n",
       "      <th></th>\n",
       "      <th>DS_DS</th>\n",
       "      <th>DS_LH</th>\n",
       "      <th>DS_NL</th>\n",
       "      <th>DS_SH</th>\n",
       "      <th>LH_DS</th>\n",
       "      <th>LH_LH</th>\n",
       "      <th>LH_NL</th>\n",
       "      <th>LH_SH</th>\n",
       "      <th>NL_DS</th>\n",
       "      <th>NL_LH</th>\n",
       "      <th>NL_NL</th>\n",
       "      <th>NL_SH</th>\n",
       "      <th>SH_DS</th>\n",
       "      <th>SH_LH</th>\n",
       "      <th>SH_NL</th>\n",
       "      <th>SH_SH</th>\n",
       "    </tr>\n",
       "  </thead>\n",
       "  <tbody>\n",
       "    <tr>\n",
       "      <th>0</th>\n",
       "      <td>0.071429</td>\n",
       "      <td>0.178571</td>\n",
       "      <td>0.0</td>\n",
       "      <td>0.75</td>\n",
       "      <td>1.0</td>\n",
       "      <td>0.0</td>\n",
       "      <td>0.0</td>\n",
       "      <td>0.0</td>\n",
       "      <td>0.795918</td>\n",
       "      <td>0.0</td>\n",
       "      <td>0.0</td>\n",
       "      <td>0.204082</td>\n",
       "      <td>0.487654</td>\n",
       "      <td>0.234568</td>\n",
       "      <td>0.006173</td>\n",
       "      <td>0.271605</td>\n",
       "    </tr>\n",
       "  </tbody>\n",
       "</table>\n",
       "</div>"
      ],
      "text/plain": [
       "      DS_DS     DS_LH  DS_NL  DS_SH  LH_DS  LH_LH  LH_NL  LH_SH     NL_DS  \\\n",
       "0  0.071429  0.178571    0.0   0.75    1.0    0.0    0.0    0.0  0.795918   \n",
       "\n",
       "   NL_LH  NL_NL     NL_SH     SH_DS     SH_LH     SH_NL     SH_SH  \n",
       "0    0.0    0.0  0.204082  0.487654  0.234568  0.006173  0.271605  "
      ]
     },
     "execution_count": 18,
     "metadata": {},
     "output_type": "execute_result"
    }
   ],
   "source": [
    "flat_mat = trans_mat.flatten()\n",
    "df = pd.DataFrame([flat_mat], columns = [\n",
    "    \"DS_DS\", \"DS_LH\", \"DS_NL\", \"DS_SH\", \n",
    "    \"LH_DS\", \"LH_LH\", \"LH_NL\", \"LH_SH\",\n",
    "    \"NL_DS\", \"NL_LH\", \"NL_NL\", \"NL_SH\",\n",
    "    \"SH_DS\", \"SH_LH\", \"SH_NL\", \"SH_SH\"\n",
    "])\n",
    "df"
   ]
  },
  {
   "cell_type": "code",
   "execution_count": null,
   "id": "faec98cd",
   "metadata": {},
   "outputs": [],
   "source": []
  },
  {
   "cell_type": "code",
   "execution_count": 19,
   "id": "8c6a8ac5",
   "metadata": {},
   "outputs": [],
   "source": [
    "#save df\n",
    "save_loc = DATA_DIR / DATASET_ID / 'Monte_Carlo' /  'observed_transitions.pickle'\n",
    "ensure_dir(save_loc.as_posix())\n",
    "df.to_pickle(save_loc)"
   ]
  },
  {
   "cell_type": "code",
   "execution_count": null,
   "id": "fbbda13a",
   "metadata": {},
   "outputs": [],
   "source": []
  }
 ],
 "metadata": {
  "kernelspec": {
   "display_name": "Python 3 (ipykernel)",
   "language": "python",
   "name": "python3"
  },
  "language_info": {
   "codemirror_mode": {
    "name": "ipython",
    "version": 3
   },
   "file_extension": ".py",
   "mimetype": "text/x-python",
   "name": "python",
   "nbconvert_exporter": "python",
   "pygments_lexer": "ipython3",
   "version": "3.8.13"
  }
 },
 "nbformat": 4,
 "nbformat_minor": 5
}
