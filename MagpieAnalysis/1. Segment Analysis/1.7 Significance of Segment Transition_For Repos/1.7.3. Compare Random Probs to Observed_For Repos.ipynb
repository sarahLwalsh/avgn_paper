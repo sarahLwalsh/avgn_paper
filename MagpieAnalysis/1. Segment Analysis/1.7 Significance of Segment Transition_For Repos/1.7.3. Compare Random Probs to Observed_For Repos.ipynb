{
 "cells": [
  {
   "cell_type": "markdown",
   "id": "6db7034b",
   "metadata": {},
   "source": [
    "# Compare Randomised Call Datasets to Observed\n",
    "Here we look at the significance of the transition probabilities observed in our recorded calls, by comparing these to the transition probabilities obtained in the 10, 000 simulations of randomly generated calls (sensu Monte Carlo simulations). Significance is calculated as the relative ranking of each observed statistic (transition probability) among the sample values from the Monte Carlo randomization. \n",
    "\n",
    "The observed transition probability was found to be significantly different from random if it occurs within the 95th percentile for an upper or lower tail of the Monte Carlo randomizations.\n",
    "\n",
    "For example, in our dataset of recorded calls the probability to transition from a DS segment to another DS segment is 0.07. This statistic is deemed as significant if it is either greater or lower than at least 95% of the values for the DS to DS transition probabilities in the Monte Carlo randomizations)."
   ]
  },
  {
   "cell_type": "code",
   "execution_count": 1,
   "id": "3eb7df06",
   "metadata": {},
   "outputs": [],
   "source": [
    "from tqdm.auto import tqdm"
   ]
  },
  {
   "cell_type": "code",
   "execution_count": 2,
   "id": "95d3583e",
   "metadata": {},
   "outputs": [],
   "source": [
    "import avgn"
   ]
  },
  {
   "cell_type": "code",
   "execution_count": 3,
   "id": "45d2b615",
   "metadata": {},
   "outputs": [],
   "source": [
    "import pandas as pd\n",
    "import numpy as np\n",
    "from avgn.utils.paths import DATA_DIR, ensure_dir, FIGURE_DIR"
   ]
  },
  {
   "cell_type": "code",
   "execution_count": 4,
   "id": "ed1a0e79",
   "metadata": {},
   "outputs": [],
   "source": [
    "from scipy.stats import kruskal"
   ]
  },
  {
   "cell_type": "code",
   "execution_count": 5,
   "id": "8c490d14",
   "metadata": {},
   "outputs": [],
   "source": [
    "DATASET_ID = \"git_repos\""
   ]
  },
  {
   "cell_type": "code",
   "execution_count": 6,
   "id": "04ec6e42",
   "metadata": {},
   "outputs": [],
   "source": [
    "DT_ID = '2022-03-04_18-41-29'"
   ]
  },
  {
   "cell_type": "code",
   "execution_count": 8,
   "id": "a704a385",
   "metadata": {},
   "outputs": [
    {
     "data": {
      "text/html": [
       "<div>\n",
       "<style scoped>\n",
       "    .dataframe tbody tr th:only-of-type {\n",
       "        vertical-align: middle;\n",
       "    }\n",
       "\n",
       "    .dataframe tbody tr th {\n",
       "        vertical-align: top;\n",
       "    }\n",
       "\n",
       "    .dataframe thead th {\n",
       "        text-align: right;\n",
       "    }\n",
       "</style>\n",
       "<table border=\"1\" class=\"dataframe\">\n",
       "  <thead>\n",
       "    <tr style=\"text-align: right;\">\n",
       "      <th></th>\n",
       "      <th>DS_DS</th>\n",
       "      <th>DS_LH</th>\n",
       "      <th>DS_NL</th>\n",
       "      <th>DS_SH</th>\n",
       "      <th>LH_DS</th>\n",
       "      <th>LH_LH</th>\n",
       "      <th>LH_NL</th>\n",
       "      <th>LH_SH</th>\n",
       "      <th>NL_DS</th>\n",
       "      <th>NL_LH</th>\n",
       "      <th>NL_NL</th>\n",
       "      <th>NL_SH</th>\n",
       "      <th>SH_DS</th>\n",
       "      <th>SH_LH</th>\n",
       "      <th>SH_NL</th>\n",
       "      <th>SH_SH</th>\n",
       "      <th>rand_run</th>\n",
       "    </tr>\n",
       "  </thead>\n",
       "  <tbody>\n",
       "    <tr>\n",
       "      <th>0</th>\n",
       "      <td>0.352113</td>\n",
       "      <td>0.140845</td>\n",
       "      <td>0.102113</td>\n",
       "      <td>0.404930</td>\n",
       "      <td>0.342342</td>\n",
       "      <td>0.108108</td>\n",
       "      <td>0.117117</td>\n",
       "      <td>0.432432</td>\n",
       "      <td>0.333333</td>\n",
       "      <td>0.175926</td>\n",
       "      <td>0.138889</td>\n",
       "      <td>0.351852</td>\n",
       "      <td>0.345725</td>\n",
       "      <td>0.193309</td>\n",
       "      <td>0.122677</td>\n",
       "      <td>0.338290</td>\n",
       "      <td>0</td>\n",
       "    </tr>\n",
       "    <tr>\n",
       "      <th>0</th>\n",
       "      <td>0.368030</td>\n",
       "      <td>0.144981</td>\n",
       "      <td>0.144981</td>\n",
       "      <td>0.342007</td>\n",
       "      <td>0.318182</td>\n",
       "      <td>0.154545</td>\n",
       "      <td>0.181818</td>\n",
       "      <td>0.345455</td>\n",
       "      <td>0.384615</td>\n",
       "      <td>0.134615</td>\n",
       "      <td>0.105769</td>\n",
       "      <td>0.375000</td>\n",
       "      <td>0.352941</td>\n",
       "      <td>0.169550</td>\n",
       "      <td>0.089965</td>\n",
       "      <td>0.387543</td>\n",
       "      <td>1</td>\n",
       "    </tr>\n",
       "    <tr>\n",
       "      <th>0</th>\n",
       "      <td>0.366300</td>\n",
       "      <td>0.113553</td>\n",
       "      <td>0.139194</td>\n",
       "      <td>0.380952</td>\n",
       "      <td>0.275862</td>\n",
       "      <td>0.206897</td>\n",
       "      <td>0.120690</td>\n",
       "      <td>0.396552</td>\n",
       "      <td>0.373626</td>\n",
       "      <td>0.186813</td>\n",
       "      <td>0.109890</td>\n",
       "      <td>0.329670</td>\n",
       "      <td>0.335616</td>\n",
       "      <td>0.157534</td>\n",
       "      <td>0.150685</td>\n",
       "      <td>0.356164</td>\n",
       "      <td>2</td>\n",
       "    </tr>\n",
       "  </tbody>\n",
       "</table>\n",
       "</div>"
      ],
      "text/plain": [
       "      DS_DS     DS_LH     DS_NL     DS_SH     LH_DS     LH_LH     LH_NL  \\\n",
       "0  0.352113  0.140845  0.102113  0.404930  0.342342  0.108108  0.117117   \n",
       "0  0.368030  0.144981  0.144981  0.342007  0.318182  0.154545  0.181818   \n",
       "0  0.366300  0.113553  0.139194  0.380952  0.275862  0.206897  0.120690   \n",
       "\n",
       "      LH_SH     NL_DS     NL_LH     NL_NL     NL_SH     SH_DS     SH_LH  \\\n",
       "0  0.432432  0.333333  0.175926  0.138889  0.351852  0.345725  0.193309   \n",
       "0  0.345455  0.384615  0.134615  0.105769  0.375000  0.352941  0.169550   \n",
       "0  0.396552  0.373626  0.186813  0.109890  0.329670  0.335616  0.157534   \n",
       "\n",
       "      SH_NL     SH_SH  rand_run  \n",
       "0  0.122677  0.338290         0  \n",
       "0  0.089965  0.387543         1  \n",
       "0  0.150685  0.356164         2  "
      ]
     },
     "execution_count": 8,
     "metadata": {},
     "output_type": "execute_result"
    }
   ],
   "source": [
    "randdfs = pd.read_pickle(DATA_DIR / DATASET_ID / 'Monte_Carlo' /  'random_simulations.pickle')\n",
    "randdfs[:3]"
   ]
  },
  {
   "cell_type": "code",
   "execution_count": 9,
   "id": "e4ce5c18",
   "metadata": {},
   "outputs": [
    {
     "data": {
      "text/plain": [
       "10000"
      ]
     },
     "execution_count": 9,
     "metadata": {},
     "output_type": "execute_result"
    }
   ],
   "source": [
    "len(randdfs)"
   ]
  },
  {
   "cell_type": "markdown",
   "id": "eeb7a0e0",
   "metadata": {},
   "source": [
    "# Original Transition Probs"
   ]
  },
  {
   "cell_type": "code",
   "execution_count": 10,
   "id": "cd28057c",
   "metadata": {},
   "outputs": [
    {
     "data": {
      "text/html": [
       "<div>\n",
       "<style scoped>\n",
       "    .dataframe tbody tr th:only-of-type {\n",
       "        vertical-align: middle;\n",
       "    }\n",
       "\n",
       "    .dataframe tbody tr th {\n",
       "        vertical-align: top;\n",
       "    }\n",
       "\n",
       "    .dataframe thead th {\n",
       "        text-align: right;\n",
       "    }\n",
       "</style>\n",
       "<table border=\"1\" class=\"dataframe\">\n",
       "  <thead>\n",
       "    <tr style=\"text-align: right;\">\n",
       "      <th></th>\n",
       "      <th>DS_DS</th>\n",
       "      <th>DS_LH</th>\n",
       "      <th>DS_NL</th>\n",
       "      <th>DS_SH</th>\n",
       "      <th>LH_DS</th>\n",
       "      <th>LH_LH</th>\n",
       "      <th>LH_NL</th>\n",
       "      <th>LH_SH</th>\n",
       "      <th>NL_DS</th>\n",
       "      <th>NL_LH</th>\n",
       "      <th>NL_NL</th>\n",
       "      <th>NL_SH</th>\n",
       "      <th>SH_DS</th>\n",
       "      <th>SH_LH</th>\n",
       "      <th>SH_NL</th>\n",
       "      <th>SH_SH</th>\n",
       "    </tr>\n",
       "  </thead>\n",
       "  <tbody>\n",
       "    <tr>\n",
       "      <th>0</th>\n",
       "      <td>0.071429</td>\n",
       "      <td>0.178571</td>\n",
       "      <td>0.0</td>\n",
       "      <td>0.75</td>\n",
       "      <td>1.0</td>\n",
       "      <td>0.0</td>\n",
       "      <td>0.0</td>\n",
       "      <td>0.0</td>\n",
       "      <td>0.795918</td>\n",
       "      <td>0.0</td>\n",
       "      <td>0.0</td>\n",
       "      <td>0.204082</td>\n",
       "      <td>0.487654</td>\n",
       "      <td>0.234568</td>\n",
       "      <td>0.006173</td>\n",
       "      <td>0.271605</td>\n",
       "    </tr>\n",
       "  </tbody>\n",
       "</table>\n",
       "</div>"
      ],
      "text/plain": [
       "      DS_DS     DS_LH  DS_NL  DS_SH  LH_DS  LH_LH  LH_NL  LH_SH     NL_DS  \\\n",
       "0  0.071429  0.178571    0.0   0.75    1.0    0.0    0.0    0.0  0.795918   \n",
       "\n",
       "   NL_LH  NL_NL     NL_SH     SH_DS     SH_LH     SH_NL     SH_SH  \n",
       "0    0.0    0.0  0.204082  0.487654  0.234568  0.006173  0.271605  "
      ]
     },
     "execution_count": 10,
     "metadata": {},
     "output_type": "execute_result"
    }
   ],
   "source": [
    "trans_origdf = pd.read_pickle(DATA_DIR / DATASET_ID / 'Monte_Carlo' /  'observed_transitions.pickle')\n",
    "trans_origdf"
   ]
  },
  {
   "cell_type": "markdown",
   "id": "6d19d6ec",
   "metadata": {},
   "source": [
    "## DS_DS"
   ]
  },
  {
   "cell_type": "code",
   "execution_count": 14,
   "id": "8d747e4e",
   "metadata": {},
   "outputs": [
    {
     "data": {
      "text/plain": [
       "array([0.07142857])"
      ]
     },
     "execution_count": 14,
     "metadata": {},
     "output_type": "execute_result"
    }
   ],
   "source": [
    "trans_origdf[\"DS_DS\"].values"
   ]
  },
  {
   "cell_type": "code",
   "execution_count": 15,
   "id": "9b90d6f9",
   "metadata": {},
   "outputs": [],
   "source": [
    "x = 0.07142857"
   ]
  },
  {
   "cell_type": "code",
   "execution_count": 16,
   "id": "7bdcc6a7",
   "metadata": {},
   "outputs": [],
   "source": [
    "rand_prob = np.array(randdfs[\"DS_DS\"].values)"
   ]
  },
  {
   "cell_type": "code",
   "execution_count": 17,
   "id": "40dc67fc",
   "metadata": {
    "scrolled": false
   },
   "outputs": [
    {
     "data": {
      "text/plain": [
       "0.26515151515151514"
      ]
     },
     "execution_count": 17,
     "metadata": {},
     "output_type": "execute_result"
    }
   ],
   "source": [
    "min(rand_prob)"
   ]
  },
  {
   "cell_type": "code",
   "execution_count": 18,
   "id": "fe47141c",
   "metadata": {},
   "outputs": [
    {
     "data": {
      "text/plain": [
       "0.4496124031007752"
      ]
     },
     "execution_count": 18,
     "metadata": {},
     "output_type": "execute_result"
    }
   ],
   "source": [
    "max(rand_prob)"
   ]
  },
  {
   "cell_type": "code",
   "execution_count": 19,
   "id": "363c2bb3",
   "metadata": {},
   "outputs": [],
   "source": [
    "# define calculation for lower tail significance\n",
    "def min_monte_carlo(x, rand_prob, tot_samples):\n",
    "    r = rand_prob <= x\n",
    "    return np.divide((np.sum(r)+1), (tot_samples + 1))"
   ]
  },
  {
   "cell_type": "code",
   "execution_count": 20,
   "id": "8853c3ea",
   "metadata": {},
   "outputs": [
    {
     "data": {
      "text/plain": [
       "9.999000099990002e-05"
      ]
     },
     "execution_count": 20,
     "metadata": {},
     "output_type": "execute_result"
    }
   ],
   "source": [
    "##DS_DS\n",
    "results_min = min_monte_carlo(x=x, rand_prob=rand_prob, tot_samples = 10000)\n",
    "results_min"
   ]
  },
  {
   "cell_type": "code",
   "execution_count": 21,
   "id": "5c30ba96",
   "metadata": {},
   "outputs": [
    {
     "data": {
      "text/plain": [
       "0"
      ]
     },
     "execution_count": 21,
     "metadata": {},
     "output_type": "execute_result"
    }
   ],
   "source": [
    "np.sum(rand_prob <= x)"
   ]
  },
  {
   "cell_type": "code",
   "execution_count": 22,
   "id": "2c61a111",
   "metadata": {},
   "outputs": [],
   "source": [
    "#define calculation for upper tail significance\n",
    "def max_monte_carlo(x, rand_prob, tot_samples):\n",
    "    r = rand_prob >= x\n",
    "    return np.divide((np.sum(r)+1), (tot_samples + 1))"
   ]
  },
  {
   "cell_type": "code",
   "execution_count": 23,
   "id": "992d32b3",
   "metadata": {
    "scrolled": true
   },
   "outputs": [
    {
     "data": {
      "text/plain": [
       "1.0"
      ]
     },
     "execution_count": 23,
     "metadata": {},
     "output_type": "execute_result"
    }
   ],
   "source": [
    "##DS_DS\n",
    "results_max = max_monte_carlo(x=x, rand_prob=rand_prob, tot_samples = 10000)\n",
    "results_max"
   ]
  },
  {
   "cell_type": "code",
   "execution_count": 24,
   "id": "15dc3840",
   "metadata": {},
   "outputs": [
    {
     "data": {
      "text/plain": [
       "10000"
      ]
     },
     "execution_count": 24,
     "metadata": {},
     "output_type": "execute_result"
    }
   ],
   "source": [
    "np.sum(rand_prob >= x)"
   ]
  },
  {
   "cell_type": "code",
   "execution_count": 25,
   "id": "72c364fe",
   "metadata": {},
   "outputs": [],
   "source": [
    "### All cases are greater than observed DS_DS transition probability"
   ]
  },
  {
   "cell_type": "code",
   "execution_count": 26,
   "id": "ed361864",
   "metadata": {},
   "outputs": [
    {
     "data": {
      "text/html": [
       "<div>\n",
       "<style scoped>\n",
       "    .dataframe tbody tr th:only-of-type {\n",
       "        vertical-align: middle;\n",
       "    }\n",
       "\n",
       "    .dataframe tbody tr th {\n",
       "        vertical-align: top;\n",
       "    }\n",
       "\n",
       "    .dataframe thead th {\n",
       "        text-align: right;\n",
       "    }\n",
       "</style>\n",
       "<table border=\"1\" class=\"dataframe\">\n",
       "  <thead>\n",
       "    <tr style=\"text-align: right;\">\n",
       "      <th></th>\n",
       "      <th>Transition</th>\n",
       "      <th>Lower Tail</th>\n",
       "      <th>Upper Tail</th>\n",
       "    </tr>\n",
       "  </thead>\n",
       "  <tbody>\n",
       "    <tr>\n",
       "      <th>0</th>\n",
       "      <td>DS_DS</td>\n",
       "      <td>0.0001</td>\n",
       "      <td>1.0</td>\n",
       "    </tr>\n",
       "  </tbody>\n",
       "</table>\n",
       "</div>"
      ],
      "text/plain": [
       "  Transition  Lower Tail  Upper Tail\n",
       "0      DS_DS      0.0001         1.0"
      ]
     },
     "execution_count": 26,
     "metadata": {},
     "output_type": "execute_result"
    }
   ],
   "source": [
    "sig = {\"Transition\":[\"DS_DS\"], \"Lower Tail\": [results_min], \"Upper Tail\": [results_max]}\n",
    "sigdf = pd.DataFrame(sig)\n",
    "sigdf"
   ]
  },
  {
   "cell_type": "markdown",
   "id": "9ab90a71",
   "metadata": {},
   "source": [
    "## DS_LH"
   ]
  },
  {
   "cell_type": "code",
   "execution_count": 27,
   "id": "cfe93d81",
   "metadata": {},
   "outputs": [
    {
     "data": {
      "text/plain": [
       "0    0.178571\n",
       "Name: DS_LH, dtype: float64"
      ]
     },
     "execution_count": 27,
     "metadata": {},
     "output_type": "execute_result"
    }
   ],
   "source": [
    "trans_origdf[\"DS_LH\"]"
   ]
  },
  {
   "cell_type": "code",
   "execution_count": 28,
   "id": "7906d458",
   "metadata": {},
   "outputs": [],
   "source": [
    "x = 0.178571\n",
    "rand_prob = np.array(randdfs[\"DS_LH\"].values)"
   ]
  },
  {
   "cell_type": "code",
   "execution_count": 29,
   "id": "3605a4dc",
   "metadata": {},
   "outputs": [
    {
     "data": {
      "text/plain": [
       "0.08695652173913043"
      ]
     },
     "execution_count": 29,
     "metadata": {},
     "output_type": "execute_result"
    }
   ],
   "source": [
    "min(rand_prob)"
   ]
  },
  {
   "cell_type": "code",
   "execution_count": 30,
   "id": "1d0bdbfa",
   "metadata": {},
   "outputs": [
    {
     "data": {
      "text/plain": [
       "0.22868217054263565"
      ]
     },
     "execution_count": 30,
     "metadata": {},
     "output_type": "execute_result"
    }
   ],
   "source": [
    "max(rand_prob)"
   ]
  },
  {
   "cell_type": "code",
   "execution_count": 31,
   "id": "aff9a6a7",
   "metadata": {},
   "outputs": [
    {
     "data": {
      "text/plain": [
       "0.9023097690230977"
      ]
     },
     "execution_count": 31,
     "metadata": {},
     "output_type": "execute_result"
    }
   ],
   "source": [
    "##DS_LH lower tail significance\n",
    "results_min = min_monte_carlo(x=x, rand_prob=rand_prob, tot_samples = 10000)\n",
    "results_min"
   ]
  },
  {
   "cell_type": "code",
   "execution_count": 32,
   "id": "37a8908f",
   "metadata": {},
   "outputs": [
    {
     "data": {
      "text/plain": [
       "9023"
      ]
     },
     "execution_count": 32,
     "metadata": {},
     "output_type": "execute_result"
    }
   ],
   "source": [
    "np.sum(rand_prob <= x)"
   ]
  },
  {
   "cell_type": "code",
   "execution_count": 33,
   "id": "edc88767",
   "metadata": {},
   "outputs": [
    {
     "data": {
      "text/plain": [
       "0.09779022097790221"
      ]
     },
     "execution_count": 33,
     "metadata": {},
     "output_type": "execute_result"
    }
   ],
   "source": [
    "##DS_LH upper tail significance\n",
    "results_max = max_monte_carlo(x=x, rand_prob=rand_prob, tot_samples = 10000)\n",
    "results_max"
   ]
  },
  {
   "cell_type": "code",
   "execution_count": 34,
   "id": "7508387d",
   "metadata": {},
   "outputs": [
    {
     "data": {
      "text/plain": [
       "977"
      ]
     },
     "execution_count": 34,
     "metadata": {},
     "output_type": "execute_result"
    }
   ],
   "source": [
    "np.sum(rand_prob >= x)"
   ]
  },
  {
   "cell_type": "markdown",
   "id": "0d0d3efd",
   "metadata": {},
   "source": [
    "DS_LH observed transition oustide the 95th percentile. There are 977 randomly generated transition probs (over 5% of 10000) greater than observed transition probability. "
   ]
  },
  {
   "cell_type": "code",
   "execution_count": 36,
   "id": "c10fc568",
   "metadata": {},
   "outputs": [
    {
     "data": {
      "text/html": [
       "<div>\n",
       "<style scoped>\n",
       "    .dataframe tbody tr th:only-of-type {\n",
       "        vertical-align: middle;\n",
       "    }\n",
       "\n",
       "    .dataframe tbody tr th {\n",
       "        vertical-align: top;\n",
       "    }\n",
       "\n",
       "    .dataframe thead th {\n",
       "        text-align: right;\n",
       "    }\n",
       "</style>\n",
       "<table border=\"1\" class=\"dataframe\">\n",
       "  <thead>\n",
       "    <tr style=\"text-align: right;\">\n",
       "      <th></th>\n",
       "      <th>Transition</th>\n",
       "      <th>Lower Tail</th>\n",
       "      <th>Upper Tail</th>\n",
       "    </tr>\n",
       "  </thead>\n",
       "  <tbody>\n",
       "    <tr>\n",
       "      <th>0</th>\n",
       "      <td>DS_DS</td>\n",
       "      <td>0.00010</td>\n",
       "      <td>1.00000</td>\n",
       "    </tr>\n",
       "    <tr>\n",
       "      <th>0</th>\n",
       "      <td>DS_LH</td>\n",
       "      <td>0.90231</td>\n",
       "      <td>0.09779</td>\n",
       "    </tr>\n",
       "    <tr>\n",
       "      <th>0</th>\n",
       "      <td>DS_LH</td>\n",
       "      <td>0.90231</td>\n",
       "      <td>0.09779</td>\n",
       "    </tr>\n",
       "  </tbody>\n",
       "</table>\n",
       "</div>"
      ],
      "text/plain": [
       "  Transition  Lower Tail  Upper Tail\n",
       "0      DS_DS     0.00010     1.00000\n",
       "0      DS_LH     0.90231     0.09779\n",
       "0      DS_LH     0.90231     0.09779"
      ]
     },
     "execution_count": 36,
     "metadata": {},
     "output_type": "execute_result"
    }
   ],
   "source": [
    "sig = pd.DataFrame({\"Transition\":[\"DS_LH\"], \"Lower Tail\": [results_min], \"Upper Tail\": [results_max]})\n",
    "sigdf = pd.concat([sigdf, sig], axis = 0)\n",
    "sigdf"
   ]
  },
  {
   "cell_type": "code",
   "execution_count": null,
   "id": "7f0d46cb",
   "metadata": {},
   "outputs": [],
   "source": []
  },
  {
   "cell_type": "markdown",
   "id": "27b00a50",
   "metadata": {},
   "source": [
    "## DS_NL"
   ]
  },
  {
   "cell_type": "code",
   "execution_count": 37,
   "id": "d30444bf",
   "metadata": {},
   "outputs": [
    {
     "data": {
      "text/plain": [
       "0    0.0\n",
       "Name: DS_NL, dtype: float64"
      ]
     },
     "execution_count": 37,
     "metadata": {},
     "output_type": "execute_result"
    }
   ],
   "source": [
    "trans_origdf[\"DS_NL\"]"
   ]
  },
  {
   "cell_type": "code",
   "execution_count": 38,
   "id": "3f6bb72a",
   "metadata": {},
   "outputs": [
    {
     "data": {
      "text/plain": [
       "0.055762081784386616"
      ]
     },
     "execution_count": 38,
     "metadata": {},
     "output_type": "execute_result"
    }
   ],
   "source": [
    "min(randdfs[\"DS_NL\"])"
   ]
  },
  {
   "cell_type": "code",
   "execution_count": 39,
   "id": "a32f9962",
   "metadata": {},
   "outputs": [
    {
     "data": {
      "text/plain": [
       "0.20652173913043478"
      ]
     },
     "execution_count": 39,
     "metadata": {},
     "output_type": "execute_result"
    }
   ],
   "source": [
    "max(randdfs[\"DS_NL\"])"
   ]
  },
  {
   "cell_type": "code",
   "execution_count": 40,
   "id": "54f423c9",
   "metadata": {},
   "outputs": [],
   "source": [
    "x = 0\n",
    "rand_prob = np.array(randdfs[\"DS_NL\"].values)"
   ]
  },
  {
   "cell_type": "code",
   "execution_count": 41,
   "id": "901d2e57",
   "metadata": {},
   "outputs": [
    {
     "data": {
      "text/plain": [
       "9.999000099990002e-05"
      ]
     },
     "execution_count": 41,
     "metadata": {},
     "output_type": "execute_result"
    }
   ],
   "source": [
    "##Lower tail sig\n",
    "results_min = min_monte_carlo(x=x, rand_prob=rand_prob, tot_samples = 10000)\n",
    "results_min"
   ]
  },
  {
   "cell_type": "code",
   "execution_count": 42,
   "id": "32a2e3b9",
   "metadata": {},
   "outputs": [
    {
     "data": {
      "text/plain": [
       "0"
      ]
     },
     "execution_count": 42,
     "metadata": {},
     "output_type": "execute_result"
    }
   ],
   "source": [
    "np.sum(rand_prob <= x)"
   ]
  },
  {
   "cell_type": "markdown",
   "id": "5f0248ce",
   "metadata": {},
   "source": [
    "No values under 0 <- pretty obvious!"
   ]
  },
  {
   "cell_type": "code",
   "execution_count": 43,
   "id": "b861aa3f",
   "metadata": {},
   "outputs": [
    {
     "data": {
      "text/plain": [
       "1.0"
      ]
     },
     "execution_count": 43,
     "metadata": {},
     "output_type": "execute_result"
    }
   ],
   "source": [
    "##Upper tail sig\n",
    "results_max = max_monte_carlo(x=x, rand_prob=rand_prob, tot_samples = 10000)\n",
    "results_max"
   ]
  },
  {
   "cell_type": "code",
   "execution_count": 44,
   "id": "4395175f",
   "metadata": {},
   "outputs": [
    {
     "data": {
      "text/plain": [
       "10000"
      ]
     },
     "execution_count": 44,
     "metadata": {},
     "output_type": "execute_result"
    }
   ],
   "source": [
    "np.sum(rand_prob >= x)"
   ]
  },
  {
   "cell_type": "markdown",
   "id": "46bc72fe",
   "metadata": {},
   "source": [
    "All values over 0"
   ]
  },
  {
   "cell_type": "code",
   "execution_count": 45,
   "id": "b181c76b",
   "metadata": {},
   "outputs": [
    {
     "data": {
      "text/html": [
       "<div>\n",
       "<style scoped>\n",
       "    .dataframe tbody tr th:only-of-type {\n",
       "        vertical-align: middle;\n",
       "    }\n",
       "\n",
       "    .dataframe tbody tr th {\n",
       "        vertical-align: top;\n",
       "    }\n",
       "\n",
       "    .dataframe thead th {\n",
       "        text-align: right;\n",
       "    }\n",
       "</style>\n",
       "<table border=\"1\" class=\"dataframe\">\n",
       "  <thead>\n",
       "    <tr style=\"text-align: right;\">\n",
       "      <th></th>\n",
       "      <th>Transition</th>\n",
       "      <th>Lower Tail</th>\n",
       "      <th>Upper Tail</th>\n",
       "    </tr>\n",
       "  </thead>\n",
       "  <tbody>\n",
       "    <tr>\n",
       "      <th>0</th>\n",
       "      <td>DS_DS</td>\n",
       "      <td>0.00010</td>\n",
       "      <td>1.00000</td>\n",
       "    </tr>\n",
       "    <tr>\n",
       "      <th>0</th>\n",
       "      <td>DS_LH</td>\n",
       "      <td>0.90231</td>\n",
       "      <td>0.09779</td>\n",
       "    </tr>\n",
       "    <tr>\n",
       "      <th>0</th>\n",
       "      <td>DS_LH</td>\n",
       "      <td>0.90231</td>\n",
       "      <td>0.09779</td>\n",
       "    </tr>\n",
       "    <tr>\n",
       "      <th>0</th>\n",
       "      <td>DS_NL</td>\n",
       "      <td>0.00010</td>\n",
       "      <td>1.00000</td>\n",
       "    </tr>\n",
       "  </tbody>\n",
       "</table>\n",
       "</div>"
      ],
      "text/plain": [
       "  Transition  Lower Tail  Upper Tail\n",
       "0      DS_DS     0.00010     1.00000\n",
       "0      DS_LH     0.90231     0.09779\n",
       "0      DS_LH     0.90231     0.09779\n",
       "0      DS_NL     0.00010     1.00000"
      ]
     },
     "execution_count": 45,
     "metadata": {},
     "output_type": "execute_result"
    }
   ],
   "source": [
    "sig = pd.DataFrame({\"Transition\":[\"DS_NL\"], \"Lower Tail\": [results_min], \"Upper Tail\": [results_max]})\n",
    "sigdf = pd.concat([sigdf, sig], axis = 0)\n",
    "sigdf"
   ]
  },
  {
   "cell_type": "code",
   "execution_count": null,
   "id": "8ef15668",
   "metadata": {},
   "outputs": [],
   "source": []
  },
  {
   "cell_type": "markdown",
   "id": "d830e54a",
   "metadata": {},
   "source": [
    "## DS_SH"
   ]
  },
  {
   "cell_type": "code",
   "execution_count": 46,
   "id": "b3096c0f",
   "metadata": {},
   "outputs": [
    {
     "data": {
      "text/plain": [
       "0    0.75\n",
       "Name: DS_SH, dtype: float64"
      ]
     },
     "execution_count": 46,
     "metadata": {},
     "output_type": "execute_result"
    }
   ],
   "source": [
    "trans_origdf[\"DS_SH\"]"
   ]
  },
  {
   "cell_type": "code",
   "execution_count": 47,
   "id": "f22de1cd",
   "metadata": {},
   "outputs": [
    {
     "data": {
      "text/plain": [
       "0.27058823529411763"
      ]
     },
     "execution_count": 47,
     "metadata": {},
     "output_type": "execute_result"
    }
   ],
   "source": [
    "min(randdfs[\"DS_SH\"])"
   ]
  },
  {
   "cell_type": "code",
   "execution_count": 48,
   "id": "5437cacf",
   "metadata": {},
   "outputs": [
    {
     "data": {
      "text/plain": [
       "0.4708029197080292"
      ]
     },
     "execution_count": 48,
     "metadata": {},
     "output_type": "execute_result"
    }
   ],
   "source": [
    "max(randdfs[\"DS_SH\"])"
   ]
  },
  {
   "cell_type": "code",
   "execution_count": 49,
   "id": "044e8c86",
   "metadata": {},
   "outputs": [],
   "source": [
    "x = 0.75\n",
    "rand_prob = np.array(randdfs[\"DS_SH\"].values)"
   ]
  },
  {
   "cell_type": "code",
   "execution_count": 50,
   "id": "edbb1849",
   "metadata": {},
   "outputs": [
    {
     "data": {
      "text/plain": [
       "1.0"
      ]
     },
     "execution_count": 50,
     "metadata": {},
     "output_type": "execute_result"
    }
   ],
   "source": [
    "##Lower tail sig\n",
    "results_min = min_monte_carlo(x=x, rand_prob=rand_prob, tot_samples = 10000)\n",
    "results_min"
   ]
  },
  {
   "cell_type": "code",
   "execution_count": 51,
   "id": "d02605f4",
   "metadata": {},
   "outputs": [
    {
     "data": {
      "text/plain": [
       "10000"
      ]
     },
     "execution_count": 51,
     "metadata": {},
     "output_type": "execute_result"
    }
   ],
   "source": [
    "np.sum(rand_prob <= x)"
   ]
  },
  {
   "cell_type": "code",
   "execution_count": 52,
   "id": "73abc784",
   "metadata": {},
   "outputs": [
    {
     "data": {
      "text/plain": [
       "9.999000099990002e-05"
      ]
     },
     "execution_count": 52,
     "metadata": {},
     "output_type": "execute_result"
    }
   ],
   "source": [
    "##Upper tail sig\n",
    "results_max = max_monte_carlo(x=x, rand_prob=rand_prob, tot_samples = 10000)\n",
    "results_max"
   ]
  },
  {
   "cell_type": "code",
   "execution_count": 53,
   "id": "86e9b53f",
   "metadata": {},
   "outputs": [
    {
     "data": {
      "text/plain": [
       "0"
      ]
     },
     "execution_count": 53,
     "metadata": {},
     "output_type": "execute_result"
    }
   ],
   "source": [
    "np.sum(rand_prob >= x)"
   ]
  },
  {
   "cell_type": "code",
   "execution_count": 54,
   "id": "07b81fd5",
   "metadata": {},
   "outputs": [],
   "source": [
    "#all random trans probs for DS_SH are below 0.75"
   ]
  },
  {
   "cell_type": "code",
   "execution_count": 55,
   "id": "0edd0b3c",
   "metadata": {},
   "outputs": [
    {
     "data": {
      "text/html": [
       "<div>\n",
       "<style scoped>\n",
       "    .dataframe tbody tr th:only-of-type {\n",
       "        vertical-align: middle;\n",
       "    }\n",
       "\n",
       "    .dataframe tbody tr th {\n",
       "        vertical-align: top;\n",
       "    }\n",
       "\n",
       "    .dataframe thead th {\n",
       "        text-align: right;\n",
       "    }\n",
       "</style>\n",
       "<table border=\"1\" class=\"dataframe\">\n",
       "  <thead>\n",
       "    <tr style=\"text-align: right;\">\n",
       "      <th></th>\n",
       "      <th>Transition</th>\n",
       "      <th>Lower Tail</th>\n",
       "      <th>Upper Tail</th>\n",
       "    </tr>\n",
       "  </thead>\n",
       "  <tbody>\n",
       "    <tr>\n",
       "      <th>0</th>\n",
       "      <td>DS_DS</td>\n",
       "      <td>0.00010</td>\n",
       "      <td>1.00000</td>\n",
       "    </tr>\n",
       "    <tr>\n",
       "      <th>0</th>\n",
       "      <td>DS_LH</td>\n",
       "      <td>0.90231</td>\n",
       "      <td>0.09779</td>\n",
       "    </tr>\n",
       "    <tr>\n",
       "      <th>0</th>\n",
       "      <td>DS_LH</td>\n",
       "      <td>0.90231</td>\n",
       "      <td>0.09779</td>\n",
       "    </tr>\n",
       "    <tr>\n",
       "      <th>0</th>\n",
       "      <td>DS_NL</td>\n",
       "      <td>0.00010</td>\n",
       "      <td>1.00000</td>\n",
       "    </tr>\n",
       "    <tr>\n",
       "      <th>0</th>\n",
       "      <td>DS_SH</td>\n",
       "      <td>1.00000</td>\n",
       "      <td>0.00010</td>\n",
       "    </tr>\n",
       "  </tbody>\n",
       "</table>\n",
       "</div>"
      ],
      "text/plain": [
       "  Transition  Lower Tail  Upper Tail\n",
       "0      DS_DS     0.00010     1.00000\n",
       "0      DS_LH     0.90231     0.09779\n",
       "0      DS_LH     0.90231     0.09779\n",
       "0      DS_NL     0.00010     1.00000\n",
       "0      DS_SH     1.00000     0.00010"
      ]
     },
     "execution_count": 55,
     "metadata": {},
     "output_type": "execute_result"
    }
   ],
   "source": [
    "sig = pd.DataFrame({\"Transition\":[\"DS_SH\"], \"Lower Tail\": [results_min], \"Upper Tail\": [results_max]})\n",
    "sigdf = pd.concat([sigdf, sig], axis = 0)\n",
    "sigdf"
   ]
  },
  {
   "cell_type": "markdown",
   "id": "604cdb9b",
   "metadata": {},
   "source": [
    "## LH_DS"
   ]
  },
  {
   "cell_type": "code",
   "execution_count": 56,
   "id": "e09fa7f4",
   "metadata": {},
   "outputs": [
    {
     "data": {
      "text/plain": [
       "0    1.0\n",
       "Name: LH_DS, dtype: float64"
      ]
     },
     "execution_count": 56,
     "metadata": {},
     "output_type": "execute_result"
    }
   ],
   "source": [
    "trans_origdf[\"LH_DS\"]"
   ]
  },
  {
   "cell_type": "code",
   "execution_count": 57,
   "id": "87b2957d",
   "metadata": {},
   "outputs": [
    {
     "data": {
      "text/plain": [
       "0.18421052631578946"
      ]
     },
     "execution_count": 57,
     "metadata": {},
     "output_type": "execute_result"
    }
   ],
   "source": [
    "min(randdfs[\"LH_DS\"])"
   ]
  },
  {
   "cell_type": "code",
   "execution_count": 58,
   "id": "8eb020da",
   "metadata": {},
   "outputs": [
    {
     "data": {
      "text/plain": [
       "0.5135135135135135"
      ]
     },
     "execution_count": 58,
     "metadata": {},
     "output_type": "execute_result"
    }
   ],
   "source": [
    "max(randdfs[\"LH_DS\"])"
   ]
  },
  {
   "cell_type": "code",
   "execution_count": 59,
   "id": "3ce4888c",
   "metadata": {},
   "outputs": [],
   "source": [
    "x = 1\n",
    "rand_prob = np.array(randdfs[\"LH_DS\"].values)"
   ]
  },
  {
   "cell_type": "code",
   "execution_count": 60,
   "id": "ca897ea3",
   "metadata": {},
   "outputs": [
    {
     "data": {
      "text/plain": [
       "1.0"
      ]
     },
     "execution_count": 60,
     "metadata": {},
     "output_type": "execute_result"
    }
   ],
   "source": [
    "##Lower tail sig\n",
    "results_min = min_monte_carlo(x=x, rand_prob=rand_prob, tot_samples = 10000)\n",
    "results_min"
   ]
  },
  {
   "cell_type": "code",
   "execution_count": 61,
   "id": "e891aac7",
   "metadata": {},
   "outputs": [
    {
     "data": {
      "text/plain": [
       "10000"
      ]
     },
     "execution_count": 61,
     "metadata": {},
     "output_type": "execute_result"
    }
   ],
   "source": [
    "np.sum(rand_prob <= x)"
   ]
  },
  {
   "cell_type": "code",
   "execution_count": 62,
   "id": "187ab65a",
   "metadata": {},
   "outputs": [
    {
     "data": {
      "text/plain": [
       "9.999000099990002e-05"
      ]
     },
     "execution_count": 62,
     "metadata": {},
     "output_type": "execute_result"
    }
   ],
   "source": [
    "##Upper tail sig\n",
    "results_max = max_monte_carlo(x=x, rand_prob=rand_prob, tot_samples = 10000)\n",
    "results_max"
   ]
  },
  {
   "cell_type": "code",
   "execution_count": 63,
   "id": "e49813ec",
   "metadata": {},
   "outputs": [
    {
     "data": {
      "text/plain": [
       "0"
      ]
     },
     "execution_count": 63,
     "metadata": {},
     "output_type": "execute_result"
    }
   ],
   "source": [
    "np.sum(rand_prob >= x)"
   ]
  },
  {
   "cell_type": "code",
   "execution_count": 64,
   "id": "5071b801",
   "metadata": {},
   "outputs": [],
   "source": [
    "#All rand probabilities for LH to DS are below observed transition probability"
   ]
  },
  {
   "cell_type": "code",
   "execution_count": 65,
   "id": "8de8005d",
   "metadata": {},
   "outputs": [
    {
     "data": {
      "text/html": [
       "<div>\n",
       "<style scoped>\n",
       "    .dataframe tbody tr th:only-of-type {\n",
       "        vertical-align: middle;\n",
       "    }\n",
       "\n",
       "    .dataframe tbody tr th {\n",
       "        vertical-align: top;\n",
       "    }\n",
       "\n",
       "    .dataframe thead th {\n",
       "        text-align: right;\n",
       "    }\n",
       "</style>\n",
       "<table border=\"1\" class=\"dataframe\">\n",
       "  <thead>\n",
       "    <tr style=\"text-align: right;\">\n",
       "      <th></th>\n",
       "      <th>Transition</th>\n",
       "      <th>Lower Tail</th>\n",
       "      <th>Upper Tail</th>\n",
       "    </tr>\n",
       "  </thead>\n",
       "  <tbody>\n",
       "    <tr>\n",
       "      <th>0</th>\n",
       "      <td>DS_DS</td>\n",
       "      <td>0.00010</td>\n",
       "      <td>1.00000</td>\n",
       "    </tr>\n",
       "    <tr>\n",
       "      <th>0</th>\n",
       "      <td>DS_LH</td>\n",
       "      <td>0.90231</td>\n",
       "      <td>0.09779</td>\n",
       "    </tr>\n",
       "    <tr>\n",
       "      <th>0</th>\n",
       "      <td>DS_LH</td>\n",
       "      <td>0.90231</td>\n",
       "      <td>0.09779</td>\n",
       "    </tr>\n",
       "    <tr>\n",
       "      <th>0</th>\n",
       "      <td>DS_NL</td>\n",
       "      <td>0.00010</td>\n",
       "      <td>1.00000</td>\n",
       "    </tr>\n",
       "    <tr>\n",
       "      <th>0</th>\n",
       "      <td>DS_SH</td>\n",
       "      <td>1.00000</td>\n",
       "      <td>0.00010</td>\n",
       "    </tr>\n",
       "    <tr>\n",
       "      <th>0</th>\n",
       "      <td>LH_DS</td>\n",
       "      <td>1.00000</td>\n",
       "      <td>0.00010</td>\n",
       "    </tr>\n",
       "  </tbody>\n",
       "</table>\n",
       "</div>"
      ],
      "text/plain": [
       "  Transition  Lower Tail  Upper Tail\n",
       "0      DS_DS     0.00010     1.00000\n",
       "0      DS_LH     0.90231     0.09779\n",
       "0      DS_LH     0.90231     0.09779\n",
       "0      DS_NL     0.00010     1.00000\n",
       "0      DS_SH     1.00000     0.00010\n",
       "0      LH_DS     1.00000     0.00010"
      ]
     },
     "execution_count": 65,
     "metadata": {},
     "output_type": "execute_result"
    }
   ],
   "source": [
    "sig = pd.DataFrame({\"Transition\":[\"LH_DS\"], \"Lower Tail\": [results_min], \"Upper Tail\": [results_max]})\n",
    "sigdf = pd.concat([sigdf, sig], axis = 0)\n",
    "sigdf"
   ]
  },
  {
   "cell_type": "markdown",
   "id": "757cbafa",
   "metadata": {},
   "source": [
    "## LH_LH"
   ]
  },
  {
   "cell_type": "code",
   "execution_count": 66,
   "id": "5d657f2c",
   "metadata": {},
   "outputs": [
    {
     "data": {
      "text/plain": [
       "0    0.0\n",
       "Name: LH_LH, dtype: float64"
      ]
     },
     "execution_count": 66,
     "metadata": {},
     "output_type": "execute_result"
    }
   ],
   "source": [
    "trans_origdf[\"LH_LH\"]"
   ]
  },
  {
   "cell_type": "code",
   "execution_count": 67,
   "id": "1e84b3db",
   "metadata": {},
   "outputs": [
    {
     "data": {
      "text/plain": [
       "0.03389830508474576"
      ]
     },
     "execution_count": 67,
     "metadata": {},
     "output_type": "execute_result"
    }
   ],
   "source": [
    "min(randdfs[\"LH_LH\"])"
   ]
  },
  {
   "cell_type": "code",
   "execution_count": 68,
   "id": "47e0f069",
   "metadata": {},
   "outputs": [
    {
     "data": {
      "text/plain": [
       "0.2773109243697479"
      ]
     },
     "execution_count": 68,
     "metadata": {},
     "output_type": "execute_result"
    }
   ],
   "source": [
    "max(randdfs[\"LH_LH\"])"
   ]
  },
  {
   "cell_type": "code",
   "execution_count": 69,
   "id": "406c8818",
   "metadata": {},
   "outputs": [],
   "source": [
    "x = 0\n",
    "rand_prob = np.array(randdfs[\"LH_LH\"].values)"
   ]
  },
  {
   "cell_type": "code",
   "execution_count": 70,
   "id": "aedc7488",
   "metadata": {},
   "outputs": [
    {
     "data": {
      "text/plain": [
       "9.999000099990002e-05"
      ]
     },
     "execution_count": 70,
     "metadata": {},
     "output_type": "execute_result"
    }
   ],
   "source": [
    "##Lower tail sig\n",
    "results_min = min_monte_carlo(x=x, rand_prob=rand_prob, tot_samples = 10000)\n",
    "results_min"
   ]
  },
  {
   "cell_type": "code",
   "execution_count": 71,
   "id": "12987e16",
   "metadata": {},
   "outputs": [
    {
     "data": {
      "text/plain": [
       "0"
      ]
     },
     "execution_count": 71,
     "metadata": {},
     "output_type": "execute_result"
    }
   ],
   "source": [
    "np.sum(rand_prob <= x)"
   ]
  },
  {
   "cell_type": "code",
   "execution_count": 72,
   "id": "a13db2aa",
   "metadata": {},
   "outputs": [
    {
     "data": {
      "text/plain": [
       "1.0"
      ]
     },
     "execution_count": 72,
     "metadata": {},
     "output_type": "execute_result"
    }
   ],
   "source": [
    "##Upper tail sig\n",
    "results_max = max_monte_carlo(x=x, rand_prob=rand_prob, tot_samples = 10000)\n",
    "results_max"
   ]
  },
  {
   "cell_type": "code",
   "execution_count": 73,
   "id": "3c5c2af1",
   "metadata": {},
   "outputs": [
    {
     "data": {
      "text/plain": [
       "10000"
      ]
     },
     "execution_count": 73,
     "metadata": {},
     "output_type": "execute_result"
    }
   ],
   "source": [
    "np.sum(rand_prob >= x)"
   ]
  },
  {
   "cell_type": "code",
   "execution_count": 74,
   "id": "d3f55c4d",
   "metadata": {},
   "outputs": [],
   "source": [
    "# All rnadom probs greater than observed for LH-LH"
   ]
  },
  {
   "cell_type": "code",
   "execution_count": 75,
   "id": "747907ee",
   "metadata": {},
   "outputs": [
    {
     "data": {
      "text/html": [
       "<div>\n",
       "<style scoped>\n",
       "    .dataframe tbody tr th:only-of-type {\n",
       "        vertical-align: middle;\n",
       "    }\n",
       "\n",
       "    .dataframe tbody tr th {\n",
       "        vertical-align: top;\n",
       "    }\n",
       "\n",
       "    .dataframe thead th {\n",
       "        text-align: right;\n",
       "    }\n",
       "</style>\n",
       "<table border=\"1\" class=\"dataframe\">\n",
       "  <thead>\n",
       "    <tr style=\"text-align: right;\">\n",
       "      <th></th>\n",
       "      <th>Transition</th>\n",
       "      <th>Lower Tail</th>\n",
       "      <th>Upper Tail</th>\n",
       "    </tr>\n",
       "  </thead>\n",
       "  <tbody>\n",
       "    <tr>\n",
       "      <th>0</th>\n",
       "      <td>DS_DS</td>\n",
       "      <td>0.00010</td>\n",
       "      <td>1.00000</td>\n",
       "    </tr>\n",
       "    <tr>\n",
       "      <th>0</th>\n",
       "      <td>DS_LH</td>\n",
       "      <td>0.90231</td>\n",
       "      <td>0.09779</td>\n",
       "    </tr>\n",
       "    <tr>\n",
       "      <th>0</th>\n",
       "      <td>DS_LH</td>\n",
       "      <td>0.90231</td>\n",
       "      <td>0.09779</td>\n",
       "    </tr>\n",
       "    <tr>\n",
       "      <th>0</th>\n",
       "      <td>DS_NL</td>\n",
       "      <td>0.00010</td>\n",
       "      <td>1.00000</td>\n",
       "    </tr>\n",
       "    <tr>\n",
       "      <th>0</th>\n",
       "      <td>DS_SH</td>\n",
       "      <td>1.00000</td>\n",
       "      <td>0.00010</td>\n",
       "    </tr>\n",
       "    <tr>\n",
       "      <th>0</th>\n",
       "      <td>LH_DS</td>\n",
       "      <td>1.00000</td>\n",
       "      <td>0.00010</td>\n",
       "    </tr>\n",
       "    <tr>\n",
       "      <th>0</th>\n",
       "      <td>LH_LH</td>\n",
       "      <td>0.00010</td>\n",
       "      <td>1.00000</td>\n",
       "    </tr>\n",
       "  </tbody>\n",
       "</table>\n",
       "</div>"
      ],
      "text/plain": [
       "  Transition  Lower Tail  Upper Tail\n",
       "0      DS_DS     0.00010     1.00000\n",
       "0      DS_LH     0.90231     0.09779\n",
       "0      DS_LH     0.90231     0.09779\n",
       "0      DS_NL     0.00010     1.00000\n",
       "0      DS_SH     1.00000     0.00010\n",
       "0      LH_DS     1.00000     0.00010\n",
       "0      LH_LH     0.00010     1.00000"
      ]
     },
     "execution_count": 75,
     "metadata": {},
     "output_type": "execute_result"
    }
   ],
   "source": [
    "sig = pd.DataFrame({\"Transition\":[\"LH_LH\"], \"Lower Tail\": [results_min], \"Upper Tail\": [results_max]})\n",
    "sigdf = pd.concat([sigdf, sig], axis = 0)\n",
    "sigdf"
   ]
  },
  {
   "cell_type": "markdown",
   "id": "15847c7f",
   "metadata": {},
   "source": [
    "## LH_NL"
   ]
  },
  {
   "cell_type": "code",
   "execution_count": 76,
   "id": "5645a014",
   "metadata": {},
   "outputs": [
    {
     "data": {
      "text/plain": [
       "0    0.0\n",
       "Name: LH_NL, dtype: float64"
      ]
     },
     "execution_count": 76,
     "metadata": {},
     "output_type": "execute_result"
    }
   ],
   "source": [
    "trans_origdf[\"LH_NL\"]"
   ]
  },
  {
   "cell_type": "code",
   "execution_count": 77,
   "id": "45327114",
   "metadata": {},
   "outputs": [
    {
     "data": {
      "text/plain": [
       "0.026785714285714284"
      ]
     },
     "execution_count": 77,
     "metadata": {},
     "output_type": "execute_result"
    }
   ],
   "source": [
    "min(randdfs[\"LH_NL\"])"
   ]
  },
  {
   "cell_type": "code",
   "execution_count": 78,
   "id": "1872f377",
   "metadata": {},
   "outputs": [
    {
     "data": {
      "text/plain": [
       "0.2543859649122807"
      ]
     },
     "execution_count": 78,
     "metadata": {},
     "output_type": "execute_result"
    }
   ],
   "source": [
    "max(randdfs[\"LH_NL\"])"
   ]
  },
  {
   "cell_type": "code",
   "execution_count": 79,
   "id": "f05f4acc",
   "metadata": {},
   "outputs": [],
   "source": [
    "x = 0\n",
    "rand_prob = np.array(randdfs[\"LH_NL\"].values)"
   ]
  },
  {
   "cell_type": "code",
   "execution_count": 80,
   "id": "4ab55e71",
   "metadata": {},
   "outputs": [
    {
     "data": {
      "text/plain": [
       "9.999000099990002e-05"
      ]
     },
     "execution_count": 80,
     "metadata": {},
     "output_type": "execute_result"
    }
   ],
   "source": [
    "##Lower tail sig\n",
    "results_min = min_monte_carlo(x=x, rand_prob=rand_prob, tot_samples = 10000)\n",
    "results_min"
   ]
  },
  {
   "cell_type": "code",
   "execution_count": 81,
   "id": "eba82101",
   "metadata": {},
   "outputs": [
    {
     "data": {
      "text/plain": [
       "0"
      ]
     },
     "execution_count": 81,
     "metadata": {},
     "output_type": "execute_result"
    }
   ],
   "source": [
    "np.sum(rand_prob <= x)"
   ]
  },
  {
   "cell_type": "code",
   "execution_count": 82,
   "id": "36d87a62",
   "metadata": {},
   "outputs": [
    {
     "data": {
      "text/plain": [
       "1.0"
      ]
     },
     "execution_count": 82,
     "metadata": {},
     "output_type": "execute_result"
    }
   ],
   "source": [
    "##Upper tail sig\n",
    "results_max = max_monte_carlo(x=x, rand_prob=rand_prob, tot_samples = 10000)\n",
    "results_max"
   ]
  },
  {
   "cell_type": "code",
   "execution_count": 83,
   "id": "4c216f84",
   "metadata": {},
   "outputs": [
    {
     "data": {
      "text/plain": [
       "10000"
      ]
     },
     "execution_count": 83,
     "metadata": {},
     "output_type": "execute_result"
    }
   ],
   "source": [
    "np.sum(rand_prob >= x)"
   ]
  },
  {
   "cell_type": "code",
   "execution_count": 84,
   "id": "e35f19df",
   "metadata": {},
   "outputs": [],
   "source": [
    "## All rnadom probs greater than observed for LH-NL"
   ]
  },
  {
   "cell_type": "code",
   "execution_count": 85,
   "id": "665bc266",
   "metadata": {},
   "outputs": [
    {
     "data": {
      "text/html": [
       "<div>\n",
       "<style scoped>\n",
       "    .dataframe tbody tr th:only-of-type {\n",
       "        vertical-align: middle;\n",
       "    }\n",
       "\n",
       "    .dataframe tbody tr th {\n",
       "        vertical-align: top;\n",
       "    }\n",
       "\n",
       "    .dataframe thead th {\n",
       "        text-align: right;\n",
       "    }\n",
       "</style>\n",
       "<table border=\"1\" class=\"dataframe\">\n",
       "  <thead>\n",
       "    <tr style=\"text-align: right;\">\n",
       "      <th></th>\n",
       "      <th>Transition</th>\n",
       "      <th>Lower Tail</th>\n",
       "      <th>Upper Tail</th>\n",
       "    </tr>\n",
       "  </thead>\n",
       "  <tbody>\n",
       "    <tr>\n",
       "      <th>0</th>\n",
       "      <td>DS_DS</td>\n",
       "      <td>0.00010</td>\n",
       "      <td>1.00000</td>\n",
       "    </tr>\n",
       "    <tr>\n",
       "      <th>0</th>\n",
       "      <td>DS_LH</td>\n",
       "      <td>0.90231</td>\n",
       "      <td>0.09779</td>\n",
       "    </tr>\n",
       "    <tr>\n",
       "      <th>0</th>\n",
       "      <td>DS_LH</td>\n",
       "      <td>0.90231</td>\n",
       "      <td>0.09779</td>\n",
       "    </tr>\n",
       "    <tr>\n",
       "      <th>0</th>\n",
       "      <td>DS_NL</td>\n",
       "      <td>0.00010</td>\n",
       "      <td>1.00000</td>\n",
       "    </tr>\n",
       "    <tr>\n",
       "      <th>0</th>\n",
       "      <td>DS_SH</td>\n",
       "      <td>1.00000</td>\n",
       "      <td>0.00010</td>\n",
       "    </tr>\n",
       "    <tr>\n",
       "      <th>0</th>\n",
       "      <td>LH_DS</td>\n",
       "      <td>1.00000</td>\n",
       "      <td>0.00010</td>\n",
       "    </tr>\n",
       "    <tr>\n",
       "      <th>0</th>\n",
       "      <td>LH_LH</td>\n",
       "      <td>0.00010</td>\n",
       "      <td>1.00000</td>\n",
       "    </tr>\n",
       "    <tr>\n",
       "      <th>0</th>\n",
       "      <td>LH_NL</td>\n",
       "      <td>0.00010</td>\n",
       "      <td>1.00000</td>\n",
       "    </tr>\n",
       "  </tbody>\n",
       "</table>\n",
       "</div>"
      ],
      "text/plain": [
       "  Transition  Lower Tail  Upper Tail\n",
       "0      DS_DS     0.00010     1.00000\n",
       "0      DS_LH     0.90231     0.09779\n",
       "0      DS_LH     0.90231     0.09779\n",
       "0      DS_NL     0.00010     1.00000\n",
       "0      DS_SH     1.00000     0.00010\n",
       "0      LH_DS     1.00000     0.00010\n",
       "0      LH_LH     0.00010     1.00000\n",
       "0      LH_NL     0.00010     1.00000"
      ]
     },
     "execution_count": 85,
     "metadata": {},
     "output_type": "execute_result"
    }
   ],
   "source": [
    "sig = pd.DataFrame({\"Transition\":[\"LH_NL\"], \"Lower Tail\": [results_min], \"Upper Tail\": [results_max]})\n",
    "sigdf = pd.concat([sigdf, sig], axis = 0)\n",
    "sigdf"
   ]
  },
  {
   "cell_type": "markdown",
   "id": "a3f3a6fd",
   "metadata": {},
   "source": [
    "## LH_SH"
   ]
  },
  {
   "cell_type": "code",
   "execution_count": 86,
   "id": "a732ffaf",
   "metadata": {},
   "outputs": [
    {
     "data": {
      "text/plain": [
       "0    0.0\n",
       "Name: LH_SH, dtype: float64"
      ]
     },
     "execution_count": 86,
     "metadata": {},
     "output_type": "execute_result"
    }
   ],
   "source": [
    "trans_origdf[\"LH_SH\"]"
   ]
  },
  {
   "cell_type": "code",
   "execution_count": 87,
   "id": "4bc0d4cb",
   "metadata": {},
   "outputs": [
    {
     "data": {
      "text/plain": [
       "0.20175438596491227"
      ]
     },
     "execution_count": 87,
     "metadata": {},
     "output_type": "execute_result"
    }
   ],
   "source": [
    "min(randdfs[\"LH_SH\"])"
   ]
  },
  {
   "cell_type": "code",
   "execution_count": 88,
   "id": "43969c61",
   "metadata": {},
   "outputs": [
    {
     "data": {
      "text/plain": [
       "0.5217391304347826"
      ]
     },
     "execution_count": 88,
     "metadata": {},
     "output_type": "execute_result"
    }
   ],
   "source": [
    "max(randdfs[\"LH_SH\"])"
   ]
  },
  {
   "cell_type": "code",
   "execution_count": 89,
   "id": "27cd70ed",
   "metadata": {},
   "outputs": [],
   "source": [
    "x = 0\n",
    "rand_prob = np.array(randdfs[\"LH_SH\"].values)"
   ]
  },
  {
   "cell_type": "code",
   "execution_count": 90,
   "id": "af386049",
   "metadata": {},
   "outputs": [
    {
     "data": {
      "text/plain": [
       "9.999000099990002e-05"
      ]
     },
     "execution_count": 90,
     "metadata": {},
     "output_type": "execute_result"
    }
   ],
   "source": [
    "##Lower tail sig\n",
    "results_min = min_monte_carlo(x=x, rand_prob=rand_prob, tot_samples = 10000)\n",
    "results_min"
   ]
  },
  {
   "cell_type": "code",
   "execution_count": 91,
   "id": "d42ab3d9",
   "metadata": {},
   "outputs": [
    {
     "data": {
      "text/plain": [
       "0"
      ]
     },
     "execution_count": 91,
     "metadata": {},
     "output_type": "execute_result"
    }
   ],
   "source": [
    "np.sum(rand_prob <= x)"
   ]
  },
  {
   "cell_type": "code",
   "execution_count": 92,
   "id": "c99ccad0",
   "metadata": {},
   "outputs": [
    {
     "data": {
      "text/plain": [
       "1.0"
      ]
     },
     "execution_count": 92,
     "metadata": {},
     "output_type": "execute_result"
    }
   ],
   "source": [
    "##Upper tail sig\n",
    "results_max = max_monte_carlo(x=x, rand_prob=rand_prob, tot_samples = 10000)\n",
    "results_max"
   ]
  },
  {
   "cell_type": "code",
   "execution_count": 93,
   "id": "4664907a",
   "metadata": {},
   "outputs": [
    {
     "data": {
      "text/plain": [
       "10000"
      ]
     },
     "execution_count": 93,
     "metadata": {},
     "output_type": "execute_result"
    }
   ],
   "source": [
    "np.sum(rand_prob >= x)"
   ]
  },
  {
   "cell_type": "code",
   "execution_count": 94,
   "id": "f8256046",
   "metadata": {},
   "outputs": [],
   "source": [
    "### All rnadom probs greater than observed for LH-SH"
   ]
  },
  {
   "cell_type": "code",
   "execution_count": 95,
   "id": "334ca5f5",
   "metadata": {},
   "outputs": [
    {
     "data": {
      "text/html": [
       "<div>\n",
       "<style scoped>\n",
       "    .dataframe tbody tr th:only-of-type {\n",
       "        vertical-align: middle;\n",
       "    }\n",
       "\n",
       "    .dataframe tbody tr th {\n",
       "        vertical-align: top;\n",
       "    }\n",
       "\n",
       "    .dataframe thead th {\n",
       "        text-align: right;\n",
       "    }\n",
       "</style>\n",
       "<table border=\"1\" class=\"dataframe\">\n",
       "  <thead>\n",
       "    <tr style=\"text-align: right;\">\n",
       "      <th></th>\n",
       "      <th>Transition</th>\n",
       "      <th>Lower Tail</th>\n",
       "      <th>Upper Tail</th>\n",
       "    </tr>\n",
       "  </thead>\n",
       "  <tbody>\n",
       "    <tr>\n",
       "      <th>0</th>\n",
       "      <td>DS_DS</td>\n",
       "      <td>0.00010</td>\n",
       "      <td>1.00000</td>\n",
       "    </tr>\n",
       "    <tr>\n",
       "      <th>0</th>\n",
       "      <td>DS_LH</td>\n",
       "      <td>0.90231</td>\n",
       "      <td>0.09779</td>\n",
       "    </tr>\n",
       "    <tr>\n",
       "      <th>0</th>\n",
       "      <td>DS_LH</td>\n",
       "      <td>0.90231</td>\n",
       "      <td>0.09779</td>\n",
       "    </tr>\n",
       "    <tr>\n",
       "      <th>0</th>\n",
       "      <td>DS_NL</td>\n",
       "      <td>0.00010</td>\n",
       "      <td>1.00000</td>\n",
       "    </tr>\n",
       "    <tr>\n",
       "      <th>0</th>\n",
       "      <td>DS_SH</td>\n",
       "      <td>1.00000</td>\n",
       "      <td>0.00010</td>\n",
       "    </tr>\n",
       "    <tr>\n",
       "      <th>0</th>\n",
       "      <td>LH_DS</td>\n",
       "      <td>1.00000</td>\n",
       "      <td>0.00010</td>\n",
       "    </tr>\n",
       "    <tr>\n",
       "      <th>0</th>\n",
       "      <td>LH_LH</td>\n",
       "      <td>0.00010</td>\n",
       "      <td>1.00000</td>\n",
       "    </tr>\n",
       "    <tr>\n",
       "      <th>0</th>\n",
       "      <td>LH_NL</td>\n",
       "      <td>0.00010</td>\n",
       "      <td>1.00000</td>\n",
       "    </tr>\n",
       "    <tr>\n",
       "      <th>0</th>\n",
       "      <td>LH_SH</td>\n",
       "      <td>0.00010</td>\n",
       "      <td>1.00000</td>\n",
       "    </tr>\n",
       "  </tbody>\n",
       "</table>\n",
       "</div>"
      ],
      "text/plain": [
       "  Transition  Lower Tail  Upper Tail\n",
       "0      DS_DS     0.00010     1.00000\n",
       "0      DS_LH     0.90231     0.09779\n",
       "0      DS_LH     0.90231     0.09779\n",
       "0      DS_NL     0.00010     1.00000\n",
       "0      DS_SH     1.00000     0.00010\n",
       "0      LH_DS     1.00000     0.00010\n",
       "0      LH_LH     0.00010     1.00000\n",
       "0      LH_NL     0.00010     1.00000\n",
       "0      LH_SH     0.00010     1.00000"
      ]
     },
     "execution_count": 95,
     "metadata": {},
     "output_type": "execute_result"
    }
   ],
   "source": [
    "sig = pd.DataFrame({\"Transition\":[\"LH_SH\"], \"Lower Tail\": [results_min], \"Upper Tail\": [results_max]})\n",
    "sigdf = pd.concat([sigdf, sig], axis = 0)\n",
    "sigdf"
   ]
  },
  {
   "cell_type": "markdown",
   "id": "278bb5bf",
   "metadata": {},
   "source": [
    "## NL_DS"
   ]
  },
  {
   "cell_type": "code",
   "execution_count": 96,
   "id": "7f893c75",
   "metadata": {},
   "outputs": [
    {
     "data": {
      "text/plain": [
       "0    0.795918\n",
       "Name: NL_DS, dtype: float64"
      ]
     },
     "execution_count": 96,
     "metadata": {},
     "output_type": "execute_result"
    }
   ],
   "source": [
    "trans_origdf[\"NL_DS\"]"
   ]
  },
  {
   "cell_type": "code",
   "execution_count": 97,
   "id": "36dec0b5",
   "metadata": {},
   "outputs": [
    {
     "data": {
      "text/plain": [
       "0.17708333333333334"
      ]
     },
     "execution_count": 97,
     "metadata": {},
     "output_type": "execute_result"
    }
   ],
   "source": [
    "min(randdfs[\"NL_DS\"])"
   ]
  },
  {
   "cell_type": "code",
   "execution_count": 98,
   "id": "34c2a5e7",
   "metadata": {},
   "outputs": [
    {
     "data": {
      "text/plain": [
       "0.5533980582524272"
      ]
     },
     "execution_count": 98,
     "metadata": {},
     "output_type": "execute_result"
    }
   ],
   "source": [
    "max(randdfs[\"NL_DS\"])"
   ]
  },
  {
   "cell_type": "code",
   "execution_count": 99,
   "id": "174829f3",
   "metadata": {},
   "outputs": [],
   "source": [
    "x = 0.795918\n",
    "rand_prob = np.array(randdfs[\"NL_DS\"].values)"
   ]
  },
  {
   "cell_type": "code",
   "execution_count": 100,
   "id": "40c662f1",
   "metadata": {},
   "outputs": [
    {
     "data": {
      "text/plain": [
       "1.0"
      ]
     },
     "execution_count": 100,
     "metadata": {},
     "output_type": "execute_result"
    }
   ],
   "source": [
    "##Lower tail sig\n",
    "results_min = min_monte_carlo(x=x, rand_prob=rand_prob, tot_samples = 10000)\n",
    "results_min"
   ]
  },
  {
   "cell_type": "code",
   "execution_count": 101,
   "id": "6c385e32",
   "metadata": {},
   "outputs": [
    {
     "data": {
      "text/plain": [
       "10000"
      ]
     },
     "execution_count": 101,
     "metadata": {},
     "output_type": "execute_result"
    }
   ],
   "source": [
    "np.sum(rand_prob <= x)"
   ]
  },
  {
   "cell_type": "code",
   "execution_count": 102,
   "id": "9eae2e12",
   "metadata": {},
   "outputs": [
    {
     "data": {
      "text/plain": [
       "9.999000099990002e-05"
      ]
     },
     "execution_count": 102,
     "metadata": {},
     "output_type": "execute_result"
    }
   ],
   "source": [
    "##Upper tail sig\n",
    "results_max = max_monte_carlo(x=x, rand_prob=rand_prob, tot_samples = 10000)\n",
    "results_max"
   ]
  },
  {
   "cell_type": "code",
   "execution_count": 103,
   "id": "256f4afd",
   "metadata": {},
   "outputs": [
    {
     "data": {
      "text/plain": [
       "0"
      ]
     },
     "execution_count": 103,
     "metadata": {},
     "output_type": "execute_result"
    }
   ],
   "source": [
    "np.sum(rand_prob >= x)"
   ]
  },
  {
   "cell_type": "code",
   "execution_count": 104,
   "id": "1ac990c5",
   "metadata": {},
   "outputs": [],
   "source": [
    "### All rnadom probs lower than observed for NL_DS"
   ]
  },
  {
   "cell_type": "code",
   "execution_count": 105,
   "id": "2dee08e9",
   "metadata": {},
   "outputs": [
    {
     "data": {
      "text/html": [
       "<div>\n",
       "<style scoped>\n",
       "    .dataframe tbody tr th:only-of-type {\n",
       "        vertical-align: middle;\n",
       "    }\n",
       "\n",
       "    .dataframe tbody tr th {\n",
       "        vertical-align: top;\n",
       "    }\n",
       "\n",
       "    .dataframe thead th {\n",
       "        text-align: right;\n",
       "    }\n",
       "</style>\n",
       "<table border=\"1\" class=\"dataframe\">\n",
       "  <thead>\n",
       "    <tr style=\"text-align: right;\">\n",
       "      <th></th>\n",
       "      <th>Transition</th>\n",
       "      <th>Lower Tail</th>\n",
       "      <th>Upper Tail</th>\n",
       "    </tr>\n",
       "  </thead>\n",
       "  <tbody>\n",
       "    <tr>\n",
       "      <th>0</th>\n",
       "      <td>DS_DS</td>\n",
       "      <td>0.00010</td>\n",
       "      <td>1.00000</td>\n",
       "    </tr>\n",
       "    <tr>\n",
       "      <th>0</th>\n",
       "      <td>DS_LH</td>\n",
       "      <td>0.90231</td>\n",
       "      <td>0.09779</td>\n",
       "    </tr>\n",
       "    <tr>\n",
       "      <th>0</th>\n",
       "      <td>DS_LH</td>\n",
       "      <td>0.90231</td>\n",
       "      <td>0.09779</td>\n",
       "    </tr>\n",
       "    <tr>\n",
       "      <th>0</th>\n",
       "      <td>DS_NL</td>\n",
       "      <td>0.00010</td>\n",
       "      <td>1.00000</td>\n",
       "    </tr>\n",
       "    <tr>\n",
       "      <th>0</th>\n",
       "      <td>DS_SH</td>\n",
       "      <td>1.00000</td>\n",
       "      <td>0.00010</td>\n",
       "    </tr>\n",
       "    <tr>\n",
       "      <th>0</th>\n",
       "      <td>LH_DS</td>\n",
       "      <td>1.00000</td>\n",
       "      <td>0.00010</td>\n",
       "    </tr>\n",
       "    <tr>\n",
       "      <th>0</th>\n",
       "      <td>LH_LH</td>\n",
       "      <td>0.00010</td>\n",
       "      <td>1.00000</td>\n",
       "    </tr>\n",
       "    <tr>\n",
       "      <th>0</th>\n",
       "      <td>LH_NL</td>\n",
       "      <td>0.00010</td>\n",
       "      <td>1.00000</td>\n",
       "    </tr>\n",
       "    <tr>\n",
       "      <th>0</th>\n",
       "      <td>LH_SH</td>\n",
       "      <td>0.00010</td>\n",
       "      <td>1.00000</td>\n",
       "    </tr>\n",
       "    <tr>\n",
       "      <th>0</th>\n",
       "      <td>NL_DS</td>\n",
       "      <td>1.00000</td>\n",
       "      <td>0.00010</td>\n",
       "    </tr>\n",
       "  </tbody>\n",
       "</table>\n",
       "</div>"
      ],
      "text/plain": [
       "  Transition  Lower Tail  Upper Tail\n",
       "0      DS_DS     0.00010     1.00000\n",
       "0      DS_LH     0.90231     0.09779\n",
       "0      DS_LH     0.90231     0.09779\n",
       "0      DS_NL     0.00010     1.00000\n",
       "0      DS_SH     1.00000     0.00010\n",
       "0      LH_DS     1.00000     0.00010\n",
       "0      LH_LH     0.00010     1.00000\n",
       "0      LH_NL     0.00010     1.00000\n",
       "0      LH_SH     0.00010     1.00000\n",
       "0      NL_DS     1.00000     0.00010"
      ]
     },
     "execution_count": 105,
     "metadata": {},
     "output_type": "execute_result"
    }
   ],
   "source": [
    "sig = pd.DataFrame({\"Transition\":[\"NL_DS\"], \"Lower Tail\": [results_min], \"Upper Tail\": [results_max]})\n",
    "sigdf = pd.concat([sigdf, sig], axis = 0)\n",
    "sigdf"
   ]
  },
  {
   "cell_type": "markdown",
   "id": "8a5ebd6c",
   "metadata": {},
   "source": [
    "## NL_LH"
   ]
  },
  {
   "cell_type": "code",
   "execution_count": 106,
   "id": "9bfae8e0",
   "metadata": {},
   "outputs": [
    {
     "data": {
      "text/plain": [
       "0    0.0\n",
       "Name: NL_LH, dtype: float64"
      ]
     },
     "execution_count": 106,
     "metadata": {},
     "output_type": "execute_result"
    }
   ],
   "source": [
    "trans_origdf[\"NL_LH\"]"
   ]
  },
  {
   "cell_type": "code",
   "execution_count": 107,
   "id": "6bb6dea1",
   "metadata": {},
   "outputs": [
    {
     "data": {
      "text/plain": [
       "0.04"
      ]
     },
     "execution_count": 107,
     "metadata": {},
     "output_type": "execute_result"
    }
   ],
   "source": [
    "min(randdfs[\"NL_LH\"])"
   ]
  },
  {
   "cell_type": "code",
   "execution_count": 108,
   "id": "6b13c6de",
   "metadata": {},
   "outputs": [
    {
     "data": {
      "text/plain": [
       "0.28888888888888886"
      ]
     },
     "execution_count": 108,
     "metadata": {},
     "output_type": "execute_result"
    }
   ],
   "source": [
    "max(randdfs[\"NL_LH\"])"
   ]
  },
  {
   "cell_type": "code",
   "execution_count": 109,
   "id": "1cf70e31",
   "metadata": {},
   "outputs": [],
   "source": [
    "x = 0\n",
    "rand_prob = np.array(randdfs[\"NL_LH\"].values)"
   ]
  },
  {
   "cell_type": "code",
   "execution_count": 110,
   "id": "fa9142ad",
   "metadata": {},
   "outputs": [
    {
     "data": {
      "text/plain": [
       "9.999000099990002e-05"
      ]
     },
     "execution_count": 110,
     "metadata": {},
     "output_type": "execute_result"
    }
   ],
   "source": [
    "##Lower tail sig\n",
    "results_min = min_monte_carlo(x=x, rand_prob=rand_prob, tot_samples = 10000)\n",
    "results_min"
   ]
  },
  {
   "cell_type": "code",
   "execution_count": 111,
   "id": "6430983a",
   "metadata": {},
   "outputs": [
    {
     "data": {
      "text/plain": [
       "0"
      ]
     },
     "execution_count": 111,
     "metadata": {},
     "output_type": "execute_result"
    }
   ],
   "source": [
    "np.sum(rand_prob <= x)"
   ]
  },
  {
   "cell_type": "code",
   "execution_count": 112,
   "id": "f8e5fe98",
   "metadata": {},
   "outputs": [
    {
     "data": {
      "text/plain": [
       "1.0"
      ]
     },
     "execution_count": 112,
     "metadata": {},
     "output_type": "execute_result"
    }
   ],
   "source": [
    "##Upper tail sig\n",
    "results_max = max_monte_carlo(x=x, rand_prob=rand_prob, tot_samples = 10000)\n",
    "results_max"
   ]
  },
  {
   "cell_type": "code",
   "execution_count": 113,
   "id": "a6b0c63a",
   "metadata": {},
   "outputs": [
    {
     "data": {
      "text/plain": [
       "10000"
      ]
     },
     "execution_count": 113,
     "metadata": {},
     "output_type": "execute_result"
    }
   ],
   "source": [
    "np.sum(rand_prob >= x)"
   ]
  },
  {
   "cell_type": "code",
   "execution_count": 114,
   "id": "86a26bed",
   "metadata": {},
   "outputs": [],
   "source": [
    "### All rnadom probs greater than observed for NL_LH"
   ]
  },
  {
   "cell_type": "code",
   "execution_count": 115,
   "id": "5852242b",
   "metadata": {},
   "outputs": [
    {
     "data": {
      "text/html": [
       "<div>\n",
       "<style scoped>\n",
       "    .dataframe tbody tr th:only-of-type {\n",
       "        vertical-align: middle;\n",
       "    }\n",
       "\n",
       "    .dataframe tbody tr th {\n",
       "        vertical-align: top;\n",
       "    }\n",
       "\n",
       "    .dataframe thead th {\n",
       "        text-align: right;\n",
       "    }\n",
       "</style>\n",
       "<table border=\"1\" class=\"dataframe\">\n",
       "  <thead>\n",
       "    <tr style=\"text-align: right;\">\n",
       "      <th></th>\n",
       "      <th>Transition</th>\n",
       "      <th>Lower Tail</th>\n",
       "      <th>Upper Tail</th>\n",
       "    </tr>\n",
       "  </thead>\n",
       "  <tbody>\n",
       "    <tr>\n",
       "      <th>0</th>\n",
       "      <td>DS_DS</td>\n",
       "      <td>0.00010</td>\n",
       "      <td>1.00000</td>\n",
       "    </tr>\n",
       "    <tr>\n",
       "      <th>0</th>\n",
       "      <td>DS_LH</td>\n",
       "      <td>0.90231</td>\n",
       "      <td>0.09779</td>\n",
       "    </tr>\n",
       "    <tr>\n",
       "      <th>0</th>\n",
       "      <td>DS_LH</td>\n",
       "      <td>0.90231</td>\n",
       "      <td>0.09779</td>\n",
       "    </tr>\n",
       "    <tr>\n",
       "      <th>0</th>\n",
       "      <td>DS_NL</td>\n",
       "      <td>0.00010</td>\n",
       "      <td>1.00000</td>\n",
       "    </tr>\n",
       "    <tr>\n",
       "      <th>0</th>\n",
       "      <td>DS_SH</td>\n",
       "      <td>1.00000</td>\n",
       "      <td>0.00010</td>\n",
       "    </tr>\n",
       "    <tr>\n",
       "      <th>0</th>\n",
       "      <td>LH_DS</td>\n",
       "      <td>1.00000</td>\n",
       "      <td>0.00010</td>\n",
       "    </tr>\n",
       "    <tr>\n",
       "      <th>0</th>\n",
       "      <td>LH_LH</td>\n",
       "      <td>0.00010</td>\n",
       "      <td>1.00000</td>\n",
       "    </tr>\n",
       "    <tr>\n",
       "      <th>0</th>\n",
       "      <td>LH_NL</td>\n",
       "      <td>0.00010</td>\n",
       "      <td>1.00000</td>\n",
       "    </tr>\n",
       "    <tr>\n",
       "      <th>0</th>\n",
       "      <td>LH_SH</td>\n",
       "      <td>0.00010</td>\n",
       "      <td>1.00000</td>\n",
       "    </tr>\n",
       "    <tr>\n",
       "      <th>0</th>\n",
       "      <td>NL_DS</td>\n",
       "      <td>1.00000</td>\n",
       "      <td>0.00010</td>\n",
       "    </tr>\n",
       "    <tr>\n",
       "      <th>0</th>\n",
       "      <td>NL_LH</td>\n",
       "      <td>0.00010</td>\n",
       "      <td>1.00000</td>\n",
       "    </tr>\n",
       "  </tbody>\n",
       "</table>\n",
       "</div>"
      ],
      "text/plain": [
       "  Transition  Lower Tail  Upper Tail\n",
       "0      DS_DS     0.00010     1.00000\n",
       "0      DS_LH     0.90231     0.09779\n",
       "0      DS_LH     0.90231     0.09779\n",
       "0      DS_NL     0.00010     1.00000\n",
       "0      DS_SH     1.00000     0.00010\n",
       "0      LH_DS     1.00000     0.00010\n",
       "0      LH_LH     0.00010     1.00000\n",
       "0      LH_NL     0.00010     1.00000\n",
       "0      LH_SH     0.00010     1.00000\n",
       "0      NL_DS     1.00000     0.00010\n",
       "0      NL_LH     0.00010     1.00000"
      ]
     },
     "execution_count": 115,
     "metadata": {},
     "output_type": "execute_result"
    }
   ],
   "source": [
    "sig = pd.DataFrame({\"Transition\":[\"NL_LH\"], \"Lower Tail\": [results_min], \"Upper Tail\": [results_max]})\n",
    "sigdf = pd.concat([sigdf, sig], axis = 0)\n",
    "sigdf"
   ]
  },
  {
   "cell_type": "markdown",
   "id": "c537b07b",
   "metadata": {},
   "source": [
    "## NL_NL"
   ]
  },
  {
   "cell_type": "code",
   "execution_count": 116,
   "id": "56c40b71",
   "metadata": {},
   "outputs": [
    {
     "data": {
      "text/plain": [
       "0    0.0\n",
       "Name: NL_NL, dtype: float64"
      ]
     },
     "execution_count": 116,
     "metadata": {},
     "output_type": "execute_result"
    }
   ],
   "source": [
    "trans_origdf[\"NL_NL\"]"
   ]
  },
  {
   "cell_type": "code",
   "execution_count": 117,
   "id": "dcc5e861",
   "metadata": {},
   "outputs": [
    {
     "data": {
      "text/plain": [
       "0.030303030303030304"
      ]
     },
     "execution_count": 117,
     "metadata": {},
     "output_type": "execute_result"
    }
   ],
   "source": [
    "min(randdfs[\"NL_NL\"])"
   ]
  },
  {
   "cell_type": "code",
   "execution_count": 118,
   "id": "414a87de",
   "metadata": {},
   "outputs": [
    {
     "data": {
      "text/plain": [
       "0.26804123711340205"
      ]
     },
     "execution_count": 118,
     "metadata": {},
     "output_type": "execute_result"
    }
   ],
   "source": [
    "max(randdfs[\"NL_NL\"])"
   ]
  },
  {
   "cell_type": "code",
   "execution_count": 119,
   "id": "f693bec1",
   "metadata": {},
   "outputs": [],
   "source": [
    "x = 0\n",
    "rand_prob = np.array(randdfs[\"NL_NL\"].values)"
   ]
  },
  {
   "cell_type": "code",
   "execution_count": 120,
   "id": "21962b64",
   "metadata": {},
   "outputs": [
    {
     "data": {
      "text/plain": [
       "9.999000099990002e-05"
      ]
     },
     "execution_count": 120,
     "metadata": {},
     "output_type": "execute_result"
    }
   ],
   "source": [
    "##Lower tail sig\n",
    "results_min = min_monte_carlo(x=x, rand_prob=rand_prob, tot_samples = 10000)\n",
    "results_min"
   ]
  },
  {
   "cell_type": "code",
   "execution_count": 121,
   "id": "533e1276",
   "metadata": {},
   "outputs": [
    {
     "data": {
      "text/plain": [
       "0"
      ]
     },
     "execution_count": 121,
     "metadata": {},
     "output_type": "execute_result"
    }
   ],
   "source": [
    "np.sum(rand_prob <= x)"
   ]
  },
  {
   "cell_type": "code",
   "execution_count": 122,
   "id": "f3d06b7f",
   "metadata": {},
   "outputs": [
    {
     "data": {
      "text/plain": [
       "1.0"
      ]
     },
     "execution_count": 122,
     "metadata": {},
     "output_type": "execute_result"
    }
   ],
   "source": [
    "##Upper tail sig\n",
    "results_max = max_monte_carlo(x=x, rand_prob=rand_prob, tot_samples = 10000)\n",
    "results_max"
   ]
  },
  {
   "cell_type": "code",
   "execution_count": 125,
   "id": "92c7b021",
   "metadata": {},
   "outputs": [
    {
     "data": {
      "text/plain": [
       "10000"
      ]
     },
     "execution_count": 125,
     "metadata": {},
     "output_type": "execute_result"
    }
   ],
   "source": [
    "np.sum(rand_prob >= x)"
   ]
  },
  {
   "cell_type": "code",
   "execution_count": 126,
   "id": "9c895593",
   "metadata": {},
   "outputs": [],
   "source": [
    "### All rnadom probs greater than observed for NL_LH"
   ]
  },
  {
   "cell_type": "code",
   "execution_count": 127,
   "id": "859d31df",
   "metadata": {},
   "outputs": [
    {
     "data": {
      "text/html": [
       "<div>\n",
       "<style scoped>\n",
       "    .dataframe tbody tr th:only-of-type {\n",
       "        vertical-align: middle;\n",
       "    }\n",
       "\n",
       "    .dataframe tbody tr th {\n",
       "        vertical-align: top;\n",
       "    }\n",
       "\n",
       "    .dataframe thead th {\n",
       "        text-align: right;\n",
       "    }\n",
       "</style>\n",
       "<table border=\"1\" class=\"dataframe\">\n",
       "  <thead>\n",
       "    <tr style=\"text-align: right;\">\n",
       "      <th></th>\n",
       "      <th>Transition</th>\n",
       "      <th>Lower Tail</th>\n",
       "      <th>Upper Tail</th>\n",
       "    </tr>\n",
       "  </thead>\n",
       "  <tbody>\n",
       "    <tr>\n",
       "      <th>0</th>\n",
       "      <td>DS_DS</td>\n",
       "      <td>0.00010</td>\n",
       "      <td>1.00000</td>\n",
       "    </tr>\n",
       "    <tr>\n",
       "      <th>0</th>\n",
       "      <td>DS_LH</td>\n",
       "      <td>0.90231</td>\n",
       "      <td>0.09779</td>\n",
       "    </tr>\n",
       "    <tr>\n",
       "      <th>0</th>\n",
       "      <td>DS_LH</td>\n",
       "      <td>0.90231</td>\n",
       "      <td>0.09779</td>\n",
       "    </tr>\n",
       "    <tr>\n",
       "      <th>0</th>\n",
       "      <td>DS_NL</td>\n",
       "      <td>0.00010</td>\n",
       "      <td>1.00000</td>\n",
       "    </tr>\n",
       "    <tr>\n",
       "      <th>0</th>\n",
       "      <td>DS_SH</td>\n",
       "      <td>1.00000</td>\n",
       "      <td>0.00010</td>\n",
       "    </tr>\n",
       "    <tr>\n",
       "      <th>0</th>\n",
       "      <td>LH_DS</td>\n",
       "      <td>1.00000</td>\n",
       "      <td>0.00010</td>\n",
       "    </tr>\n",
       "    <tr>\n",
       "      <th>0</th>\n",
       "      <td>LH_LH</td>\n",
       "      <td>0.00010</td>\n",
       "      <td>1.00000</td>\n",
       "    </tr>\n",
       "    <tr>\n",
       "      <th>0</th>\n",
       "      <td>LH_NL</td>\n",
       "      <td>0.00010</td>\n",
       "      <td>1.00000</td>\n",
       "    </tr>\n",
       "    <tr>\n",
       "      <th>0</th>\n",
       "      <td>LH_SH</td>\n",
       "      <td>0.00010</td>\n",
       "      <td>1.00000</td>\n",
       "    </tr>\n",
       "    <tr>\n",
       "      <th>0</th>\n",
       "      <td>NL_DS</td>\n",
       "      <td>1.00000</td>\n",
       "      <td>0.00010</td>\n",
       "    </tr>\n",
       "    <tr>\n",
       "      <th>0</th>\n",
       "      <td>NL_LH</td>\n",
       "      <td>0.00010</td>\n",
       "      <td>1.00000</td>\n",
       "    </tr>\n",
       "    <tr>\n",
       "      <th>0</th>\n",
       "      <td>NL_NL</td>\n",
       "      <td>0.00010</td>\n",
       "      <td>1.00000</td>\n",
       "    </tr>\n",
       "  </tbody>\n",
       "</table>\n",
       "</div>"
      ],
      "text/plain": [
       "  Transition  Lower Tail  Upper Tail\n",
       "0      DS_DS     0.00010     1.00000\n",
       "0      DS_LH     0.90231     0.09779\n",
       "0      DS_LH     0.90231     0.09779\n",
       "0      DS_NL     0.00010     1.00000\n",
       "0      DS_SH     1.00000     0.00010\n",
       "0      LH_DS     1.00000     0.00010\n",
       "0      LH_LH     0.00010     1.00000\n",
       "0      LH_NL     0.00010     1.00000\n",
       "0      LH_SH     0.00010     1.00000\n",
       "0      NL_DS     1.00000     0.00010\n",
       "0      NL_LH     0.00010     1.00000\n",
       "0      NL_NL     0.00010     1.00000"
      ]
     },
     "execution_count": 127,
     "metadata": {},
     "output_type": "execute_result"
    }
   ],
   "source": [
    "sig = pd.DataFrame({\"Transition\":[\"NL_NL\"], \"Lower Tail\": [results_min], \"Upper Tail\": [results_max]})\n",
    "sigdf = pd.concat([sigdf, sig], axis = 0)\n",
    "sigdf"
   ]
  },
  {
   "cell_type": "markdown",
   "id": "a3474532",
   "metadata": {},
   "source": [
    "## NL_SH"
   ]
  },
  {
   "cell_type": "code",
   "execution_count": 128,
   "id": "672f2461",
   "metadata": {},
   "outputs": [
    {
     "data": {
      "text/plain": [
       "0    0.204082\n",
       "Name: NL_SH, dtype: float64"
      ]
     },
     "execution_count": 128,
     "metadata": {},
     "output_type": "execute_result"
    }
   ],
   "source": [
    "trans_origdf[\"NL_SH\"]"
   ]
  },
  {
   "cell_type": "code",
   "execution_count": 129,
   "id": "b31b8f47",
   "metadata": {},
   "outputs": [
    {
     "data": {
      "text/plain": [
       "0.20224719101123595"
      ]
     },
     "execution_count": 129,
     "metadata": {},
     "output_type": "execute_result"
    }
   ],
   "source": [
    "min(randdfs[\"NL_SH\"])"
   ]
  },
  {
   "cell_type": "code",
   "execution_count": 130,
   "id": "7c28d2ea",
   "metadata": {},
   "outputs": [
    {
     "data": {
      "text/plain": [
       "0.5625"
      ]
     },
     "execution_count": 130,
     "metadata": {},
     "output_type": "execute_result"
    }
   ],
   "source": [
    "max(randdfs[\"NL_SH\"])"
   ]
  },
  {
   "cell_type": "code",
   "execution_count": 131,
   "id": "32f75d2d",
   "metadata": {},
   "outputs": [],
   "source": [
    "x = 0.204082\n",
    "rand_prob = np.array(randdfs[\"NL_SH\"].values)"
   ]
  },
  {
   "cell_type": "code",
   "execution_count": 132,
   "id": "4d5a5e8e",
   "metadata": {},
   "outputs": [
    {
     "data": {
      "text/plain": [
       "0.00019998000199980003"
      ]
     },
     "execution_count": 132,
     "metadata": {},
     "output_type": "execute_result"
    }
   ],
   "source": [
    "##Lower tail sig\n",
    "results_min = min_monte_carlo(x=x, rand_prob=rand_prob, tot_samples = 10000)\n",
    "results_min"
   ]
  },
  {
   "cell_type": "code",
   "execution_count": 133,
   "id": "b4592354",
   "metadata": {},
   "outputs": [
    {
     "data": {
      "text/plain": [
       "1"
      ]
     },
     "execution_count": 133,
     "metadata": {},
     "output_type": "execute_result"
    }
   ],
   "source": [
    "np.sum(rand_prob <= x)"
   ]
  },
  {
   "cell_type": "code",
   "execution_count": 134,
   "id": "2c2282ac",
   "metadata": {},
   "outputs": [
    {
     "data": {
      "text/plain": [
       "0.9999000099990001"
      ]
     },
     "execution_count": 134,
     "metadata": {},
     "output_type": "execute_result"
    }
   ],
   "source": [
    "##Upper tail sig\n",
    "results_max = max_monte_carlo(x=x, rand_prob=rand_prob, tot_samples = 10000)\n",
    "results_max"
   ]
  },
  {
   "cell_type": "code",
   "execution_count": 135,
   "id": "60718955",
   "metadata": {},
   "outputs": [
    {
     "data": {
      "text/plain": [
       "9999"
      ]
     },
     "execution_count": 135,
     "metadata": {},
     "output_type": "execute_result"
    }
   ],
   "source": [
    "np.sum(rand_prob >= x)"
   ]
  },
  {
   "cell_type": "code",
   "execution_count": 136,
   "id": "281eca61",
   "metadata": {},
   "outputs": [],
   "source": [
    "### All bar one random probs greater than observed for NL_SH"
   ]
  },
  {
   "cell_type": "code",
   "execution_count": 137,
   "id": "c08e7763",
   "metadata": {},
   "outputs": [
    {
     "data": {
      "text/html": [
       "<div>\n",
       "<style scoped>\n",
       "    .dataframe tbody tr th:only-of-type {\n",
       "        vertical-align: middle;\n",
       "    }\n",
       "\n",
       "    .dataframe tbody tr th {\n",
       "        vertical-align: top;\n",
       "    }\n",
       "\n",
       "    .dataframe thead th {\n",
       "        text-align: right;\n",
       "    }\n",
       "</style>\n",
       "<table border=\"1\" class=\"dataframe\">\n",
       "  <thead>\n",
       "    <tr style=\"text-align: right;\">\n",
       "      <th></th>\n",
       "      <th>Transition</th>\n",
       "      <th>Lower Tail</th>\n",
       "      <th>Upper Tail</th>\n",
       "    </tr>\n",
       "  </thead>\n",
       "  <tbody>\n",
       "    <tr>\n",
       "      <th>0</th>\n",
       "      <td>DS_DS</td>\n",
       "      <td>0.00010</td>\n",
       "      <td>1.00000</td>\n",
       "    </tr>\n",
       "    <tr>\n",
       "      <th>0</th>\n",
       "      <td>DS_LH</td>\n",
       "      <td>0.90231</td>\n",
       "      <td>0.09779</td>\n",
       "    </tr>\n",
       "    <tr>\n",
       "      <th>0</th>\n",
       "      <td>DS_LH</td>\n",
       "      <td>0.90231</td>\n",
       "      <td>0.09779</td>\n",
       "    </tr>\n",
       "    <tr>\n",
       "      <th>0</th>\n",
       "      <td>DS_NL</td>\n",
       "      <td>0.00010</td>\n",
       "      <td>1.00000</td>\n",
       "    </tr>\n",
       "    <tr>\n",
       "      <th>0</th>\n",
       "      <td>DS_SH</td>\n",
       "      <td>1.00000</td>\n",
       "      <td>0.00010</td>\n",
       "    </tr>\n",
       "    <tr>\n",
       "      <th>0</th>\n",
       "      <td>LH_DS</td>\n",
       "      <td>1.00000</td>\n",
       "      <td>0.00010</td>\n",
       "    </tr>\n",
       "    <tr>\n",
       "      <th>0</th>\n",
       "      <td>LH_LH</td>\n",
       "      <td>0.00010</td>\n",
       "      <td>1.00000</td>\n",
       "    </tr>\n",
       "    <tr>\n",
       "      <th>0</th>\n",
       "      <td>LH_NL</td>\n",
       "      <td>0.00010</td>\n",
       "      <td>1.00000</td>\n",
       "    </tr>\n",
       "    <tr>\n",
       "      <th>0</th>\n",
       "      <td>LH_SH</td>\n",
       "      <td>0.00010</td>\n",
       "      <td>1.00000</td>\n",
       "    </tr>\n",
       "    <tr>\n",
       "      <th>0</th>\n",
       "      <td>NL_DS</td>\n",
       "      <td>1.00000</td>\n",
       "      <td>0.00010</td>\n",
       "    </tr>\n",
       "    <tr>\n",
       "      <th>0</th>\n",
       "      <td>NL_LH</td>\n",
       "      <td>0.00010</td>\n",
       "      <td>1.00000</td>\n",
       "    </tr>\n",
       "    <tr>\n",
       "      <th>0</th>\n",
       "      <td>NL_NL</td>\n",
       "      <td>0.00010</td>\n",
       "      <td>1.00000</td>\n",
       "    </tr>\n",
       "    <tr>\n",
       "      <th>0</th>\n",
       "      <td>NL_SH</td>\n",
       "      <td>0.00020</td>\n",
       "      <td>0.99990</td>\n",
       "    </tr>\n",
       "  </tbody>\n",
       "</table>\n",
       "</div>"
      ],
      "text/plain": [
       "  Transition  Lower Tail  Upper Tail\n",
       "0      DS_DS     0.00010     1.00000\n",
       "0      DS_LH     0.90231     0.09779\n",
       "0      DS_LH     0.90231     0.09779\n",
       "0      DS_NL     0.00010     1.00000\n",
       "0      DS_SH     1.00000     0.00010\n",
       "0      LH_DS     1.00000     0.00010\n",
       "0      LH_LH     0.00010     1.00000\n",
       "0      LH_NL     0.00010     1.00000\n",
       "0      LH_SH     0.00010     1.00000\n",
       "0      NL_DS     1.00000     0.00010\n",
       "0      NL_LH     0.00010     1.00000\n",
       "0      NL_NL     0.00010     1.00000\n",
       "0      NL_SH     0.00020     0.99990"
      ]
     },
     "execution_count": 137,
     "metadata": {},
     "output_type": "execute_result"
    }
   ],
   "source": [
    "sig = pd.DataFrame({\"Transition\":[\"NL_SH\"], \"Lower Tail\": [results_min], \"Upper Tail\": [results_max]})\n",
    "sigdf = pd.concat([sigdf, sig], axis = 0)\n",
    "sigdf"
   ]
  },
  {
   "cell_type": "markdown",
   "id": "df414ba2",
   "metadata": {},
   "source": [
    "## SH_DS"
   ]
  },
  {
   "cell_type": "code",
   "execution_count": 138,
   "id": "c3b5dada",
   "metadata": {},
   "outputs": [
    {
     "data": {
      "text/plain": [
       "0    0.487654\n",
       "Name: SH_DS, dtype: float64"
      ]
     },
     "execution_count": 138,
     "metadata": {},
     "output_type": "execute_result"
    }
   ],
   "source": [
    "trans_origdf[\"SH_DS\"]"
   ]
  },
  {
   "cell_type": "code",
   "execution_count": 139,
   "id": "ea31b413",
   "metadata": {},
   "outputs": [
    {
     "data": {
      "text/plain": [
       "0.22580645161290322"
      ]
     },
     "execution_count": 139,
     "metadata": {},
     "output_type": "execute_result"
    }
   ],
   "source": [
    "min(randdfs[\"SH_DS\"])"
   ]
  },
  {
   "cell_type": "code",
   "execution_count": 140,
   "id": "072eb8df",
   "metadata": {},
   "outputs": [
    {
     "data": {
      "text/plain": [
       "0.4639175257731959"
      ]
     },
     "execution_count": 140,
     "metadata": {},
     "output_type": "execute_result"
    }
   ],
   "source": [
    "max(randdfs[\"SH_DS\"])"
   ]
  },
  {
   "cell_type": "code",
   "execution_count": 141,
   "id": "85b91cab",
   "metadata": {},
   "outputs": [],
   "source": [
    "x = 0.487654\n",
    "rand_prob = np.array(randdfs[\"SH_DS\"].values)"
   ]
  },
  {
   "cell_type": "code",
   "execution_count": 142,
   "id": "1e901da8",
   "metadata": {},
   "outputs": [
    {
     "data": {
      "text/plain": [
       "1.0"
      ]
     },
     "execution_count": 142,
     "metadata": {},
     "output_type": "execute_result"
    }
   ],
   "source": [
    "##Lower tail sig\n",
    "results_min = min_monte_carlo(x=x, rand_prob=rand_prob, tot_samples = 10000)\n",
    "results_min"
   ]
  },
  {
   "cell_type": "code",
   "execution_count": 143,
   "id": "90ac642e",
   "metadata": {},
   "outputs": [
    {
     "data": {
      "text/plain": [
       "10000"
      ]
     },
     "execution_count": 143,
     "metadata": {},
     "output_type": "execute_result"
    }
   ],
   "source": [
    "np.sum(rand_prob <= x)"
   ]
  },
  {
   "cell_type": "code",
   "execution_count": 144,
   "id": "8599952e",
   "metadata": {},
   "outputs": [
    {
     "data": {
      "text/plain": [
       "9.999000099990002e-05"
      ]
     },
     "execution_count": 144,
     "metadata": {},
     "output_type": "execute_result"
    }
   ],
   "source": [
    "##Upper tail sig\n",
    "results_max = max_monte_carlo(x=x, rand_prob=rand_prob, tot_samples = 10000)\n",
    "results_max"
   ]
  },
  {
   "cell_type": "code",
   "execution_count": 145,
   "id": "bcbdde6f",
   "metadata": {},
   "outputs": [
    {
     "data": {
      "text/plain": [
       "0"
      ]
     },
     "execution_count": 145,
     "metadata": {},
     "output_type": "execute_result"
    }
   ],
   "source": [
    "np.sum(rand_prob >= x)"
   ]
  },
  {
   "cell_type": "code",
   "execution_count": 146,
   "id": "1f68a91a",
   "metadata": {},
   "outputs": [],
   "source": [
    "### All rnadom probs lower than observed for SH_DS"
   ]
  },
  {
   "cell_type": "code",
   "execution_count": 147,
   "id": "a1fd4610",
   "metadata": {},
   "outputs": [
    {
     "data": {
      "text/html": [
       "<div>\n",
       "<style scoped>\n",
       "    .dataframe tbody tr th:only-of-type {\n",
       "        vertical-align: middle;\n",
       "    }\n",
       "\n",
       "    .dataframe tbody tr th {\n",
       "        vertical-align: top;\n",
       "    }\n",
       "\n",
       "    .dataframe thead th {\n",
       "        text-align: right;\n",
       "    }\n",
       "</style>\n",
       "<table border=\"1\" class=\"dataframe\">\n",
       "  <thead>\n",
       "    <tr style=\"text-align: right;\">\n",
       "      <th></th>\n",
       "      <th>Transition</th>\n",
       "      <th>Lower Tail</th>\n",
       "      <th>Upper Tail</th>\n",
       "    </tr>\n",
       "  </thead>\n",
       "  <tbody>\n",
       "    <tr>\n",
       "      <th>0</th>\n",
       "      <td>DS_DS</td>\n",
       "      <td>0.00010</td>\n",
       "      <td>1.00000</td>\n",
       "    </tr>\n",
       "    <tr>\n",
       "      <th>0</th>\n",
       "      <td>DS_LH</td>\n",
       "      <td>0.90231</td>\n",
       "      <td>0.09779</td>\n",
       "    </tr>\n",
       "    <tr>\n",
       "      <th>0</th>\n",
       "      <td>DS_LH</td>\n",
       "      <td>0.90231</td>\n",
       "      <td>0.09779</td>\n",
       "    </tr>\n",
       "    <tr>\n",
       "      <th>0</th>\n",
       "      <td>DS_NL</td>\n",
       "      <td>0.00010</td>\n",
       "      <td>1.00000</td>\n",
       "    </tr>\n",
       "    <tr>\n",
       "      <th>0</th>\n",
       "      <td>DS_SH</td>\n",
       "      <td>1.00000</td>\n",
       "      <td>0.00010</td>\n",
       "    </tr>\n",
       "    <tr>\n",
       "      <th>0</th>\n",
       "      <td>LH_DS</td>\n",
       "      <td>1.00000</td>\n",
       "      <td>0.00010</td>\n",
       "    </tr>\n",
       "    <tr>\n",
       "      <th>0</th>\n",
       "      <td>LH_LH</td>\n",
       "      <td>0.00010</td>\n",
       "      <td>1.00000</td>\n",
       "    </tr>\n",
       "    <tr>\n",
       "      <th>0</th>\n",
       "      <td>LH_NL</td>\n",
       "      <td>0.00010</td>\n",
       "      <td>1.00000</td>\n",
       "    </tr>\n",
       "    <tr>\n",
       "      <th>0</th>\n",
       "      <td>LH_SH</td>\n",
       "      <td>0.00010</td>\n",
       "      <td>1.00000</td>\n",
       "    </tr>\n",
       "    <tr>\n",
       "      <th>0</th>\n",
       "      <td>NL_DS</td>\n",
       "      <td>1.00000</td>\n",
       "      <td>0.00010</td>\n",
       "    </tr>\n",
       "    <tr>\n",
       "      <th>0</th>\n",
       "      <td>NL_LH</td>\n",
       "      <td>0.00010</td>\n",
       "      <td>1.00000</td>\n",
       "    </tr>\n",
       "    <tr>\n",
       "      <th>0</th>\n",
       "      <td>NL_NL</td>\n",
       "      <td>0.00010</td>\n",
       "      <td>1.00000</td>\n",
       "    </tr>\n",
       "    <tr>\n",
       "      <th>0</th>\n",
       "      <td>NL_SH</td>\n",
       "      <td>0.00020</td>\n",
       "      <td>0.99990</td>\n",
       "    </tr>\n",
       "    <tr>\n",
       "      <th>0</th>\n",
       "      <td>SH_DS</td>\n",
       "      <td>1.00000</td>\n",
       "      <td>0.00010</td>\n",
       "    </tr>\n",
       "  </tbody>\n",
       "</table>\n",
       "</div>"
      ],
      "text/plain": [
       "  Transition  Lower Tail  Upper Tail\n",
       "0      DS_DS     0.00010     1.00000\n",
       "0      DS_LH     0.90231     0.09779\n",
       "0      DS_LH     0.90231     0.09779\n",
       "0      DS_NL     0.00010     1.00000\n",
       "0      DS_SH     1.00000     0.00010\n",
       "0      LH_DS     1.00000     0.00010\n",
       "0      LH_LH     0.00010     1.00000\n",
       "0      LH_NL     0.00010     1.00000\n",
       "0      LH_SH     0.00010     1.00000\n",
       "0      NL_DS     1.00000     0.00010\n",
       "0      NL_LH     0.00010     1.00000\n",
       "0      NL_NL     0.00010     1.00000\n",
       "0      NL_SH     0.00020     0.99990\n",
       "0      SH_DS     1.00000     0.00010"
      ]
     },
     "execution_count": 147,
     "metadata": {},
     "output_type": "execute_result"
    }
   ],
   "source": [
    "sig = pd.DataFrame({\"Transition\":[\"SH_DS\"], \"Lower Tail\": [results_min], \"Upper Tail\": [results_max]})\n",
    "sigdf = pd.concat([sigdf, sig], axis = 0)\n",
    "sigdf"
   ]
  },
  {
   "cell_type": "markdown",
   "id": "14a4c56f",
   "metadata": {},
   "source": [
    "## SH_LH"
   ]
  },
  {
   "cell_type": "code",
   "execution_count": 148,
   "id": "5de6d9c6",
   "metadata": {},
   "outputs": [
    {
     "data": {
      "text/plain": [
       "0    0.234568\n",
       "Name: SH_LH, dtype: float64"
      ]
     },
     "execution_count": 148,
     "metadata": {},
     "output_type": "execute_result"
    }
   ],
   "source": [
    "trans_origdf[\"SH_LH\"]"
   ]
  },
  {
   "cell_type": "code",
   "execution_count": 149,
   "id": "cf329a81",
   "metadata": {},
   "outputs": [
    {
     "data": {
      "text/plain": [
       "0.08108108108108109"
      ]
     },
     "execution_count": 149,
     "metadata": {},
     "output_type": "execute_result"
    }
   ],
   "source": [
    "min(randdfs[\"SH_LH\"])"
   ]
  },
  {
   "cell_type": "code",
   "execution_count": 150,
   "id": "3ec85415",
   "metadata": {},
   "outputs": [
    {
     "data": {
      "text/plain": [
       "0.22181818181818183"
      ]
     },
     "execution_count": 150,
     "metadata": {},
     "output_type": "execute_result"
    }
   ],
   "source": [
    "max(randdfs[\"SH_LH\"])"
   ]
  },
  {
   "cell_type": "code",
   "execution_count": 151,
   "id": "7af4bc20",
   "metadata": {},
   "outputs": [],
   "source": [
    "x = 0.235\n",
    "rand_prob = np.array(randdfs[\"SH_LH\"].values)"
   ]
  },
  {
   "cell_type": "code",
   "execution_count": 152,
   "id": "c720d366",
   "metadata": {},
   "outputs": [
    {
     "data": {
      "text/plain": [
       "1.0"
      ]
     },
     "execution_count": 152,
     "metadata": {},
     "output_type": "execute_result"
    }
   ],
   "source": [
    "##Lower tail sig\n",
    "results_min = min_monte_carlo(x=x, rand_prob=rand_prob, tot_samples = 10000)\n",
    "results_min"
   ]
  },
  {
   "cell_type": "code",
   "execution_count": 153,
   "id": "2178e3c3",
   "metadata": {},
   "outputs": [
    {
     "data": {
      "text/plain": [
       "10000"
      ]
     },
     "execution_count": 153,
     "metadata": {},
     "output_type": "execute_result"
    }
   ],
   "source": [
    "np.sum(rand_prob <= x)"
   ]
  },
  {
   "cell_type": "code",
   "execution_count": 154,
   "id": "507ec891",
   "metadata": {},
   "outputs": [
    {
     "data": {
      "text/plain": [
       "9.999000099990002e-05"
      ]
     },
     "execution_count": 154,
     "metadata": {},
     "output_type": "execute_result"
    }
   ],
   "source": [
    "##Upper tail sig\n",
    "results_max = max_monte_carlo(x=x, rand_prob=rand_prob, tot_samples = 10000)\n",
    "results_max"
   ]
  },
  {
   "cell_type": "code",
   "execution_count": 155,
   "id": "8c47e5e4",
   "metadata": {},
   "outputs": [
    {
     "data": {
      "text/plain": [
       "0"
      ]
     },
     "execution_count": 155,
     "metadata": {},
     "output_type": "execute_result"
    }
   ],
   "source": [
    "np.sum(rand_prob >= x)"
   ]
  },
  {
   "cell_type": "code",
   "execution_count": 156,
   "id": "cf39be4c",
   "metadata": {},
   "outputs": [],
   "source": [
    "## All rnadom probs lower than observed for SH_LH"
   ]
  },
  {
   "cell_type": "code",
   "execution_count": 157,
   "id": "add95fca",
   "metadata": {},
   "outputs": [
    {
     "data": {
      "text/html": [
       "<div>\n",
       "<style scoped>\n",
       "    .dataframe tbody tr th:only-of-type {\n",
       "        vertical-align: middle;\n",
       "    }\n",
       "\n",
       "    .dataframe tbody tr th {\n",
       "        vertical-align: top;\n",
       "    }\n",
       "\n",
       "    .dataframe thead th {\n",
       "        text-align: right;\n",
       "    }\n",
       "</style>\n",
       "<table border=\"1\" class=\"dataframe\">\n",
       "  <thead>\n",
       "    <tr style=\"text-align: right;\">\n",
       "      <th></th>\n",
       "      <th>Transition</th>\n",
       "      <th>Lower Tail</th>\n",
       "      <th>Upper Tail</th>\n",
       "    </tr>\n",
       "  </thead>\n",
       "  <tbody>\n",
       "    <tr>\n",
       "      <th>0</th>\n",
       "      <td>DS_DS</td>\n",
       "      <td>0.00010</td>\n",
       "      <td>1.00000</td>\n",
       "    </tr>\n",
       "    <tr>\n",
       "      <th>0</th>\n",
       "      <td>DS_LH</td>\n",
       "      <td>0.90231</td>\n",
       "      <td>0.09779</td>\n",
       "    </tr>\n",
       "    <tr>\n",
       "      <th>0</th>\n",
       "      <td>DS_LH</td>\n",
       "      <td>0.90231</td>\n",
       "      <td>0.09779</td>\n",
       "    </tr>\n",
       "    <tr>\n",
       "      <th>0</th>\n",
       "      <td>DS_NL</td>\n",
       "      <td>0.00010</td>\n",
       "      <td>1.00000</td>\n",
       "    </tr>\n",
       "    <tr>\n",
       "      <th>0</th>\n",
       "      <td>DS_SH</td>\n",
       "      <td>1.00000</td>\n",
       "      <td>0.00010</td>\n",
       "    </tr>\n",
       "    <tr>\n",
       "      <th>0</th>\n",
       "      <td>LH_DS</td>\n",
       "      <td>1.00000</td>\n",
       "      <td>0.00010</td>\n",
       "    </tr>\n",
       "    <tr>\n",
       "      <th>0</th>\n",
       "      <td>LH_LH</td>\n",
       "      <td>0.00010</td>\n",
       "      <td>1.00000</td>\n",
       "    </tr>\n",
       "    <tr>\n",
       "      <th>0</th>\n",
       "      <td>LH_NL</td>\n",
       "      <td>0.00010</td>\n",
       "      <td>1.00000</td>\n",
       "    </tr>\n",
       "    <tr>\n",
       "      <th>0</th>\n",
       "      <td>LH_SH</td>\n",
       "      <td>0.00010</td>\n",
       "      <td>1.00000</td>\n",
       "    </tr>\n",
       "    <tr>\n",
       "      <th>0</th>\n",
       "      <td>NL_DS</td>\n",
       "      <td>1.00000</td>\n",
       "      <td>0.00010</td>\n",
       "    </tr>\n",
       "    <tr>\n",
       "      <th>0</th>\n",
       "      <td>NL_LH</td>\n",
       "      <td>0.00010</td>\n",
       "      <td>1.00000</td>\n",
       "    </tr>\n",
       "    <tr>\n",
       "      <th>0</th>\n",
       "      <td>NL_NL</td>\n",
       "      <td>0.00010</td>\n",
       "      <td>1.00000</td>\n",
       "    </tr>\n",
       "    <tr>\n",
       "      <th>0</th>\n",
       "      <td>NL_SH</td>\n",
       "      <td>0.00020</td>\n",
       "      <td>0.99990</td>\n",
       "    </tr>\n",
       "    <tr>\n",
       "      <th>0</th>\n",
       "      <td>SH_DS</td>\n",
       "      <td>1.00000</td>\n",
       "      <td>0.00010</td>\n",
       "    </tr>\n",
       "    <tr>\n",
       "      <th>0</th>\n",
       "      <td>SH_LH</td>\n",
       "      <td>1.00000</td>\n",
       "      <td>0.00010</td>\n",
       "    </tr>\n",
       "  </tbody>\n",
       "</table>\n",
       "</div>"
      ],
      "text/plain": [
       "  Transition  Lower Tail  Upper Tail\n",
       "0      DS_DS     0.00010     1.00000\n",
       "0      DS_LH     0.90231     0.09779\n",
       "0      DS_LH     0.90231     0.09779\n",
       "0      DS_NL     0.00010     1.00000\n",
       "0      DS_SH     1.00000     0.00010\n",
       "0      LH_DS     1.00000     0.00010\n",
       "0      LH_LH     0.00010     1.00000\n",
       "0      LH_NL     0.00010     1.00000\n",
       "0      LH_SH     0.00010     1.00000\n",
       "0      NL_DS     1.00000     0.00010\n",
       "0      NL_LH     0.00010     1.00000\n",
       "0      NL_NL     0.00010     1.00000\n",
       "0      NL_SH     0.00020     0.99990\n",
       "0      SH_DS     1.00000     0.00010\n",
       "0      SH_LH     1.00000     0.00010"
      ]
     },
     "execution_count": 157,
     "metadata": {},
     "output_type": "execute_result"
    }
   ],
   "source": [
    "sig = pd.DataFrame({\"Transition\":[\"SH_LH\"], \"Lower Tail\": [results_min], \"Upper Tail\": [results_max]})\n",
    "sigdf = pd.concat([sigdf, sig], axis = 0)\n",
    "sigdf"
   ]
  },
  {
   "cell_type": "markdown",
   "id": "01764e46",
   "metadata": {},
   "source": [
    "## SH_NL"
   ]
  },
  {
   "cell_type": "code",
   "execution_count": 158,
   "id": "743dcf61",
   "metadata": {},
   "outputs": [
    {
     "data": {
      "text/plain": [
       "0    0.006173\n",
       "Name: SH_NL, dtype: float64"
      ]
     },
     "execution_count": 158,
     "metadata": {},
     "output_type": "execute_result"
    }
   ],
   "source": [
    "trans_origdf[\"SH_NL\"]"
   ]
  },
  {
   "cell_type": "code",
   "execution_count": 159,
   "id": "fcaea9eb",
   "metadata": {},
   "outputs": [
    {
     "data": {
      "text/plain": [
       "0.06761565836298933"
      ]
     },
     "execution_count": 159,
     "metadata": {},
     "output_type": "execute_result"
    }
   ],
   "source": [
    "min(randdfs[\"SH_NL\"])"
   ]
  },
  {
   "cell_type": "code",
   "execution_count": 160,
   "id": "b41f67a9",
   "metadata": {},
   "outputs": [
    {
     "data": {
      "text/plain": [
       "0.1992619926199262"
      ]
     },
     "execution_count": 160,
     "metadata": {},
     "output_type": "execute_result"
    }
   ],
   "source": [
    "max(randdfs[\"SH_NL\"])"
   ]
  },
  {
   "cell_type": "code",
   "execution_count": 161,
   "id": "44afe7d4",
   "metadata": {},
   "outputs": [],
   "source": [
    "x = 0.006173\n",
    "rand_prob = np.array(randdfs[\"SH_NL\"].values)"
   ]
  },
  {
   "cell_type": "code",
   "execution_count": 162,
   "id": "f981b43c",
   "metadata": {},
   "outputs": [
    {
     "data": {
      "text/plain": [
       "9.999000099990002e-05"
      ]
     },
     "execution_count": 162,
     "metadata": {},
     "output_type": "execute_result"
    }
   ],
   "source": [
    "##Lower tail sig\n",
    "results_min = min_monte_carlo(x=x, rand_prob=rand_prob, tot_samples = 10000)\n",
    "results_min"
   ]
  },
  {
   "cell_type": "code",
   "execution_count": 163,
   "id": "d2f8ec73",
   "metadata": {},
   "outputs": [
    {
     "data": {
      "text/plain": [
       "0"
      ]
     },
     "execution_count": 163,
     "metadata": {},
     "output_type": "execute_result"
    }
   ],
   "source": [
    "np.sum(rand_prob <= x)"
   ]
  },
  {
   "cell_type": "code",
   "execution_count": 164,
   "id": "2a5abb20",
   "metadata": {},
   "outputs": [
    {
     "data": {
      "text/plain": [
       "1.0"
      ]
     },
     "execution_count": 164,
     "metadata": {},
     "output_type": "execute_result"
    }
   ],
   "source": [
    "##Upper tail sig\n",
    "results_max = max_monte_carlo(x=x, rand_prob=rand_prob, tot_samples = 10000)\n",
    "results_max"
   ]
  },
  {
   "cell_type": "code",
   "execution_count": 165,
   "id": "7dadbbc3",
   "metadata": {},
   "outputs": [
    {
     "data": {
      "text/plain": [
       "10000"
      ]
     },
     "execution_count": 165,
     "metadata": {},
     "output_type": "execute_result"
    }
   ],
   "source": [
    "np.sum(rand_prob >= x)"
   ]
  },
  {
   "cell_type": "code",
   "execution_count": 166,
   "id": "52433c1b",
   "metadata": {},
   "outputs": [],
   "source": [
    "## All random probs higher than observed for SH_NL"
   ]
  },
  {
   "cell_type": "code",
   "execution_count": 167,
   "id": "f13954d3",
   "metadata": {},
   "outputs": [
    {
     "data": {
      "text/html": [
       "<div>\n",
       "<style scoped>\n",
       "    .dataframe tbody tr th:only-of-type {\n",
       "        vertical-align: middle;\n",
       "    }\n",
       "\n",
       "    .dataframe tbody tr th {\n",
       "        vertical-align: top;\n",
       "    }\n",
       "\n",
       "    .dataframe thead th {\n",
       "        text-align: right;\n",
       "    }\n",
       "</style>\n",
       "<table border=\"1\" class=\"dataframe\">\n",
       "  <thead>\n",
       "    <tr style=\"text-align: right;\">\n",
       "      <th></th>\n",
       "      <th>Transition</th>\n",
       "      <th>Lower Tail</th>\n",
       "      <th>Upper Tail</th>\n",
       "    </tr>\n",
       "  </thead>\n",
       "  <tbody>\n",
       "    <tr>\n",
       "      <th>0</th>\n",
       "      <td>DS_DS</td>\n",
       "      <td>0.00010</td>\n",
       "      <td>1.00000</td>\n",
       "    </tr>\n",
       "    <tr>\n",
       "      <th>0</th>\n",
       "      <td>DS_LH</td>\n",
       "      <td>0.90231</td>\n",
       "      <td>0.09779</td>\n",
       "    </tr>\n",
       "    <tr>\n",
       "      <th>0</th>\n",
       "      <td>DS_LH</td>\n",
       "      <td>0.90231</td>\n",
       "      <td>0.09779</td>\n",
       "    </tr>\n",
       "    <tr>\n",
       "      <th>0</th>\n",
       "      <td>DS_NL</td>\n",
       "      <td>0.00010</td>\n",
       "      <td>1.00000</td>\n",
       "    </tr>\n",
       "    <tr>\n",
       "      <th>0</th>\n",
       "      <td>DS_SH</td>\n",
       "      <td>1.00000</td>\n",
       "      <td>0.00010</td>\n",
       "    </tr>\n",
       "    <tr>\n",
       "      <th>0</th>\n",
       "      <td>LH_DS</td>\n",
       "      <td>1.00000</td>\n",
       "      <td>0.00010</td>\n",
       "    </tr>\n",
       "    <tr>\n",
       "      <th>0</th>\n",
       "      <td>LH_LH</td>\n",
       "      <td>0.00010</td>\n",
       "      <td>1.00000</td>\n",
       "    </tr>\n",
       "    <tr>\n",
       "      <th>0</th>\n",
       "      <td>LH_NL</td>\n",
       "      <td>0.00010</td>\n",
       "      <td>1.00000</td>\n",
       "    </tr>\n",
       "    <tr>\n",
       "      <th>0</th>\n",
       "      <td>LH_SH</td>\n",
       "      <td>0.00010</td>\n",
       "      <td>1.00000</td>\n",
       "    </tr>\n",
       "    <tr>\n",
       "      <th>0</th>\n",
       "      <td>NL_DS</td>\n",
       "      <td>1.00000</td>\n",
       "      <td>0.00010</td>\n",
       "    </tr>\n",
       "    <tr>\n",
       "      <th>0</th>\n",
       "      <td>NL_LH</td>\n",
       "      <td>0.00010</td>\n",
       "      <td>1.00000</td>\n",
       "    </tr>\n",
       "    <tr>\n",
       "      <th>0</th>\n",
       "      <td>NL_NL</td>\n",
       "      <td>0.00010</td>\n",
       "      <td>1.00000</td>\n",
       "    </tr>\n",
       "    <tr>\n",
       "      <th>0</th>\n",
       "      <td>NL_SH</td>\n",
       "      <td>0.00020</td>\n",
       "      <td>0.99990</td>\n",
       "    </tr>\n",
       "    <tr>\n",
       "      <th>0</th>\n",
       "      <td>SH_DS</td>\n",
       "      <td>1.00000</td>\n",
       "      <td>0.00010</td>\n",
       "    </tr>\n",
       "    <tr>\n",
       "      <th>0</th>\n",
       "      <td>SH_LH</td>\n",
       "      <td>1.00000</td>\n",
       "      <td>0.00010</td>\n",
       "    </tr>\n",
       "    <tr>\n",
       "      <th>0</th>\n",
       "      <td>SH_NL</td>\n",
       "      <td>0.00010</td>\n",
       "      <td>1.00000</td>\n",
       "    </tr>\n",
       "  </tbody>\n",
       "</table>\n",
       "</div>"
      ],
      "text/plain": [
       "  Transition  Lower Tail  Upper Tail\n",
       "0      DS_DS     0.00010     1.00000\n",
       "0      DS_LH     0.90231     0.09779\n",
       "0      DS_LH     0.90231     0.09779\n",
       "0      DS_NL     0.00010     1.00000\n",
       "0      DS_SH     1.00000     0.00010\n",
       "0      LH_DS     1.00000     0.00010\n",
       "0      LH_LH     0.00010     1.00000\n",
       "0      LH_NL     0.00010     1.00000\n",
       "0      LH_SH     0.00010     1.00000\n",
       "0      NL_DS     1.00000     0.00010\n",
       "0      NL_LH     0.00010     1.00000\n",
       "0      NL_NL     0.00010     1.00000\n",
       "0      NL_SH     0.00020     0.99990\n",
       "0      SH_DS     1.00000     0.00010\n",
       "0      SH_LH     1.00000     0.00010\n",
       "0      SH_NL     0.00010     1.00000"
      ]
     },
     "execution_count": 167,
     "metadata": {},
     "output_type": "execute_result"
    }
   ],
   "source": [
    "sig = pd.DataFrame({\"Transition\":[\"SH_NL\"], \"Lower Tail\": [results_min], \"Upper Tail\": [results_max]})\n",
    "sigdf = pd.concat([sigdf, sig], axis = 0)\n",
    "sigdf"
   ]
  },
  {
   "cell_type": "markdown",
   "id": "cf10a085",
   "metadata": {},
   "source": [
    "## SH_SH"
   ]
  },
  {
   "cell_type": "code",
   "execution_count": 168,
   "id": "97c6b120",
   "metadata": {},
   "outputs": [
    {
     "data": {
      "text/plain": [
       "0    0.271605\n",
       "Name: SH_SH, dtype: float64"
      ]
     },
     "execution_count": 168,
     "metadata": {},
     "output_type": "execute_result"
    }
   ],
   "source": [
    "trans_origdf[\"SH_SH\"]"
   ]
  },
  {
   "cell_type": "code",
   "execution_count": 169,
   "id": "e63f6984",
   "metadata": {},
   "outputs": [
    {
     "data": {
      "text/plain": [
       "0.26199261992619927"
      ]
     },
     "execution_count": 169,
     "metadata": {},
     "output_type": "execute_result"
    }
   ],
   "source": [
    "min(randdfs[\"SH_SH\"])"
   ]
  },
  {
   "cell_type": "code",
   "execution_count": 170,
   "id": "da7aee76",
   "metadata": {},
   "outputs": [
    {
     "data": {
      "text/plain": [
       "0.5"
      ]
     },
     "execution_count": 170,
     "metadata": {},
     "output_type": "execute_result"
    }
   ],
   "source": [
    "max(randdfs[\"SH_SH\"])"
   ]
  },
  {
   "cell_type": "code",
   "execution_count": 171,
   "id": "5c4dfbf6",
   "metadata": {},
   "outputs": [],
   "source": [
    "x = 0.271605\n",
    "rand_prob = np.array(randdfs[\"SH_SH\"].values)"
   ]
  },
  {
   "cell_type": "code",
   "execution_count": 172,
   "id": "6740a8ba",
   "metadata": {},
   "outputs": [
    {
     "data": {
      "text/plain": [
       "0.00019998000199980003"
      ]
     },
     "execution_count": 172,
     "metadata": {},
     "output_type": "execute_result"
    }
   ],
   "source": [
    "##Lower tail sig\n",
    "results_min = min_monte_carlo(x=x, rand_prob=rand_prob, tot_samples = 10000)\n",
    "results_min"
   ]
  },
  {
   "cell_type": "code",
   "execution_count": 173,
   "id": "b5723b1c",
   "metadata": {},
   "outputs": [
    {
     "data": {
      "text/plain": [
       "1"
      ]
     },
     "execution_count": 173,
     "metadata": {},
     "output_type": "execute_result"
    }
   ],
   "source": [
    "np.sum(rand_prob <= x)"
   ]
  },
  {
   "cell_type": "code",
   "execution_count": 174,
   "id": "c9897b67",
   "metadata": {},
   "outputs": [
    {
     "data": {
      "text/plain": [
       "0.9999000099990001"
      ]
     },
     "execution_count": 174,
     "metadata": {},
     "output_type": "execute_result"
    }
   ],
   "source": [
    "##Upper tail sig\n",
    "results_max = max_monte_carlo(x=x, rand_prob=rand_prob, tot_samples = 10000)\n",
    "results_max"
   ]
  },
  {
   "cell_type": "code",
   "execution_count": 175,
   "id": "a9d42fbc",
   "metadata": {},
   "outputs": [
    {
     "data": {
      "text/plain": [
       "9999"
      ]
     },
     "execution_count": 175,
     "metadata": {},
     "output_type": "execute_result"
    }
   ],
   "source": [
    "np.sum(rand_prob >= x)"
   ]
  },
  {
   "cell_type": "code",
   "execution_count": 176,
   "id": "3c47cb51",
   "metadata": {},
   "outputs": [],
   "source": [
    "## All bar one random probs higher than observed for SH_SH"
   ]
  },
  {
   "cell_type": "code",
   "execution_count": 177,
   "id": "408bb94f",
   "metadata": {},
   "outputs": [
    {
     "data": {
      "text/html": [
       "<div>\n",
       "<style scoped>\n",
       "    .dataframe tbody tr th:only-of-type {\n",
       "        vertical-align: middle;\n",
       "    }\n",
       "\n",
       "    .dataframe tbody tr th {\n",
       "        vertical-align: top;\n",
       "    }\n",
       "\n",
       "    .dataframe thead th {\n",
       "        text-align: right;\n",
       "    }\n",
       "</style>\n",
       "<table border=\"1\" class=\"dataframe\">\n",
       "  <thead>\n",
       "    <tr style=\"text-align: right;\">\n",
       "      <th></th>\n",
       "      <th>Transition</th>\n",
       "      <th>Lower Tail</th>\n",
       "      <th>Upper Tail</th>\n",
       "    </tr>\n",
       "  </thead>\n",
       "  <tbody>\n",
       "    <tr>\n",
       "      <th>0</th>\n",
       "      <td>DS_DS</td>\n",
       "      <td>0.00010</td>\n",
       "      <td>1.00000</td>\n",
       "    </tr>\n",
       "    <tr>\n",
       "      <th>0</th>\n",
       "      <td>DS_LH</td>\n",
       "      <td>0.90231</td>\n",
       "      <td>0.09779</td>\n",
       "    </tr>\n",
       "    <tr>\n",
       "      <th>0</th>\n",
       "      <td>DS_LH</td>\n",
       "      <td>0.90231</td>\n",
       "      <td>0.09779</td>\n",
       "    </tr>\n",
       "    <tr>\n",
       "      <th>0</th>\n",
       "      <td>DS_NL</td>\n",
       "      <td>0.00010</td>\n",
       "      <td>1.00000</td>\n",
       "    </tr>\n",
       "    <tr>\n",
       "      <th>0</th>\n",
       "      <td>DS_SH</td>\n",
       "      <td>1.00000</td>\n",
       "      <td>0.00010</td>\n",
       "    </tr>\n",
       "    <tr>\n",
       "      <th>0</th>\n",
       "      <td>LH_DS</td>\n",
       "      <td>1.00000</td>\n",
       "      <td>0.00010</td>\n",
       "    </tr>\n",
       "    <tr>\n",
       "      <th>0</th>\n",
       "      <td>LH_LH</td>\n",
       "      <td>0.00010</td>\n",
       "      <td>1.00000</td>\n",
       "    </tr>\n",
       "    <tr>\n",
       "      <th>0</th>\n",
       "      <td>LH_NL</td>\n",
       "      <td>0.00010</td>\n",
       "      <td>1.00000</td>\n",
       "    </tr>\n",
       "    <tr>\n",
       "      <th>0</th>\n",
       "      <td>LH_SH</td>\n",
       "      <td>0.00010</td>\n",
       "      <td>1.00000</td>\n",
       "    </tr>\n",
       "    <tr>\n",
       "      <th>0</th>\n",
       "      <td>NL_DS</td>\n",
       "      <td>1.00000</td>\n",
       "      <td>0.00010</td>\n",
       "    </tr>\n",
       "    <tr>\n",
       "      <th>0</th>\n",
       "      <td>NL_LH</td>\n",
       "      <td>0.00010</td>\n",
       "      <td>1.00000</td>\n",
       "    </tr>\n",
       "    <tr>\n",
       "      <th>0</th>\n",
       "      <td>NL_NL</td>\n",
       "      <td>0.00010</td>\n",
       "      <td>1.00000</td>\n",
       "    </tr>\n",
       "    <tr>\n",
       "      <th>0</th>\n",
       "      <td>NL_SH</td>\n",
       "      <td>0.00020</td>\n",
       "      <td>0.99990</td>\n",
       "    </tr>\n",
       "    <tr>\n",
       "      <th>0</th>\n",
       "      <td>SH_DS</td>\n",
       "      <td>1.00000</td>\n",
       "      <td>0.00010</td>\n",
       "    </tr>\n",
       "    <tr>\n",
       "      <th>0</th>\n",
       "      <td>SH_LH</td>\n",
       "      <td>1.00000</td>\n",
       "      <td>0.00010</td>\n",
       "    </tr>\n",
       "    <tr>\n",
       "      <th>0</th>\n",
       "      <td>SH_NL</td>\n",
       "      <td>0.00010</td>\n",
       "      <td>1.00000</td>\n",
       "    </tr>\n",
       "    <tr>\n",
       "      <th>0</th>\n",
       "      <td>SH_SH</td>\n",
       "      <td>0.00020</td>\n",
       "      <td>0.99990</td>\n",
       "    </tr>\n",
       "  </tbody>\n",
       "</table>\n",
       "</div>"
      ],
      "text/plain": [
       "  Transition  Lower Tail  Upper Tail\n",
       "0      DS_DS     0.00010     1.00000\n",
       "0      DS_LH     0.90231     0.09779\n",
       "0      DS_LH     0.90231     0.09779\n",
       "0      DS_NL     0.00010     1.00000\n",
       "0      DS_SH     1.00000     0.00010\n",
       "0      LH_DS     1.00000     0.00010\n",
       "0      LH_LH     0.00010     1.00000\n",
       "0      LH_NL     0.00010     1.00000\n",
       "0      LH_SH     0.00010     1.00000\n",
       "0      NL_DS     1.00000     0.00010\n",
       "0      NL_LH     0.00010     1.00000\n",
       "0      NL_NL     0.00010     1.00000\n",
       "0      NL_SH     0.00020     0.99990\n",
       "0      SH_DS     1.00000     0.00010\n",
       "0      SH_LH     1.00000     0.00010\n",
       "0      SH_NL     0.00010     1.00000\n",
       "0      SH_SH     0.00020     0.99990"
      ]
     },
     "execution_count": 177,
     "metadata": {},
     "output_type": "execute_result"
    }
   ],
   "source": [
    "sig = pd.DataFrame({\"Transition\":[\"SH_SH\"], \"Lower Tail\": [results_min], \"Upper Tail\": [results_max]})\n",
    "sigdf = pd.concat([sigdf, sig], axis = 0)\n",
    "sigdf"
   ]
  },
  {
   "cell_type": "code",
   "execution_count": null,
   "id": "8ef942cc",
   "metadata": {},
   "outputs": [],
   "source": []
  }
 ],
 "metadata": {
  "kernelspec": {
   "display_name": "Python 3 (ipykernel)",
   "language": "python",
   "name": "python3"
  },
  "language_info": {
   "codemirror_mode": {
    "name": "ipython",
    "version": 3
   },
   "file_extension": ".py",
   "mimetype": "text/x-python",
   "name": "python",
   "nbconvert_exporter": "python",
   "pygments_lexer": "ipython3",
   "version": "3.8.13"
  }
 },
 "nbformat": 4,
 "nbformat_minor": 5
}
