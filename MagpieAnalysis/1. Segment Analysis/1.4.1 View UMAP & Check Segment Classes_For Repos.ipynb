{
 "cells": [
  {
   "cell_type": "markdown",
   "id": "9671a99f",
   "metadata": {},
   "source": [
    "In this notebook, we view the UMAP projection and look at the distribution of segment hand labels across clusters. There are two classes with much smaller counts and these appear to fit into other larger segment classes. "
   ]
  },
  {
   "cell_type": "markdown",
   "id": "cadfa62b",
   "metadata": {},
   "source": [
    "# View UMAP Projection"
   ]
  },
  {
   "cell_type": "code",
   "execution_count": 1,
   "id": "1085c19d",
   "metadata": {},
   "outputs": [],
   "source": [
    "from tqdm.auto import tqdm\n",
    "import numpy as np\n",
    "import matplotlib.pyplot as plt\n",
    "%matplotlib inline\n",
    "from joblib import Parallel, delayed\n",
    "import umap\n",
    "import pandas as pd"
   ]
  },
  {
   "cell_type": "code",
   "execution_count": 2,
   "id": "ced7a186",
   "metadata": {},
   "outputs": [],
   "source": [
    "import avgn"
   ]
  },
  {
   "cell_type": "code",
   "execution_count": 3,
   "id": "e0a283bb",
   "metadata": {},
   "outputs": [],
   "source": [
    "import pandas as pd\n",
    "from avgn.utils.paths import DATA_DIR, most_recent_subdirectory, ensure_dir, FIGURE_DIR, ensure_dir\n",
    "from avgn.signalprocessing.create_spectrogram_dataset import flatten_spectrograms\n",
    "from avgn.visualization.spectrogram import draw_spec_set\n",
    "from avgn.visualization.projections import scatter_spec\n",
    "from avgn.utils.general import save_fig"
   ]
  },
  {
   "cell_type": "code",
   "execution_count": 4,
   "id": "5b235633",
   "metadata": {},
   "outputs": [],
   "source": [
    "from scipy.stats import kruskal\n",
    "from sklearn.metrics import silhouette_score, silhouette_samples"
   ]
  },
  {
   "cell_type": "code",
   "execution_count": 5,
   "id": "5bfbc7c4",
   "metadata": {},
   "outputs": [],
   "source": [
    "DATASET_ID = \"git_repos\""
   ]
  },
  {
   "cell_type": "code",
   "execution_count": 6,
   "id": "780f0083",
   "metadata": {},
   "outputs": [],
   "source": [
    "DT_ID = '2022-03-04_18-41-29'"
   ]
  },
  {
   "cell_type": "code",
   "execution_count": 7,
   "id": "89ad2ff0",
   "metadata": {},
   "outputs": [
    {
     "data": {
      "text/html": [
       "<div>\n",
       "<style scoped>\n",
       "    .dataframe tbody tr th:only-of-type {\n",
       "        vertical-align: middle;\n",
       "    }\n",
       "\n",
       "    .dataframe tbody tr th {\n",
       "        vertical-align: top;\n",
       "    }\n",
       "\n",
       "    .dataframe thead th {\n",
       "        text-align: right;\n",
       "    }\n",
       "</style>\n",
       "<table border=\"1\" class=\"dataframe\">\n",
       "  <thead>\n",
       "    <tr style=\"text-align: right;\">\n",
       "      <th></th>\n",
       "      <th>start_time</th>\n",
       "      <th>end_time</th>\n",
       "      <th>labels</th>\n",
       "      <th>ID</th>\n",
       "      <th>start_times</th>\n",
       "      <th>end_times</th>\n",
       "      <th>call_label</th>\n",
       "      <th>call_start</th>\n",
       "      <th>seg_pos_call</th>\n",
       "      <th>call_unique_num</th>\n",
       "      <th>...</th>\n",
       "      <th>indvi</th>\n",
       "      <th>filename</th>\n",
       "      <th>group</th>\n",
       "      <th>location</th>\n",
       "      <th>sex</th>\n",
       "      <th>wav_loc</th>\n",
       "      <th>key</th>\n",
       "      <th>rate</th>\n",
       "      <th>specs</th>\n",
       "      <th>umap</th>\n",
       "    </tr>\n",
       "  </thead>\n",
       "  <tbody>\n",
       "    <tr>\n",
       "      <th>0</th>\n",
       "      <td>0.753604</td>\n",
       "      <td>0.776773</td>\n",
       "      <td>DS</td>\n",
       "      <td>0</td>\n",
       "      <td>0.753604</td>\n",
       "      <td>0.776773</td>\n",
       "      <td>DSSHDS</td>\n",
       "      <td>0.753604</td>\n",
       "      <td>0</td>\n",
       "      <td>0</td>\n",
       "      <td>...</td>\n",
       "      <td>0</td>\n",
       "      <td>BWY MGGY Call Combo 1 290719 PM</td>\n",
       "      <td>BWYa</td>\n",
       "      <td>CRAWLEY</td>\n",
       "      <td>F</td>\n",
       "      <td>C:/Users/slwal/anaconda3/envs/PY36/avgn_paper-...</td>\n",
       "      <td>BWY MGGY Call Combo 1 290719 PM</td>\n",
       "      <td>44100</td>\n",
       "      <td>[[0.0, 0.0, 0.0, 0.0, 0.0, 0.0, 0.0, 0.0, 0.0,...</td>\n",
       "      <td>[14.15081, 3.406464]</td>\n",
       "    </tr>\n",
       "    <tr>\n",
       "      <th>1</th>\n",
       "      <td>0.786865</td>\n",
       "      <td>0.835165</td>\n",
       "      <td>SH</td>\n",
       "      <td>1</td>\n",
       "      <td>0.786865</td>\n",
       "      <td>0.835165</td>\n",
       "      <td>DSSHDS</td>\n",
       "      <td>0.753604</td>\n",
       "      <td>1</td>\n",
       "      <td>0</td>\n",
       "      <td>...</td>\n",
       "      <td>0</td>\n",
       "      <td>BWY MGGY Call Combo 1 290719 PM</td>\n",
       "      <td>BWYa</td>\n",
       "      <td>CRAWLEY</td>\n",
       "      <td>F</td>\n",
       "      <td>C:/Users/slwal/anaconda3/envs/PY36/avgn_paper-...</td>\n",
       "      <td>BWY MGGY Call Combo 1 290719 PM</td>\n",
       "      <td>44100</td>\n",
       "      <td>[[0.0, 0.0, 0.0, 0.0, 0.0, 0.0, 0.0, 0.0, 0.0,...</td>\n",
       "      <td>[5.388335, 10.057652]</td>\n",
       "    </tr>\n",
       "    <tr>\n",
       "      <th>2</th>\n",
       "      <td>0.855941</td>\n",
       "      <td>0.921160</td>\n",
       "      <td>DS</td>\n",
       "      <td>2</td>\n",
       "      <td>0.855941</td>\n",
       "      <td>0.921160</td>\n",
       "      <td>DSSHDS</td>\n",
       "      <td>0.753604</td>\n",
       "      <td>2</td>\n",
       "      <td>0</td>\n",
       "      <td>...</td>\n",
       "      <td>0</td>\n",
       "      <td>BWY MGGY Call Combo 1 290719 PM</td>\n",
       "      <td>BWYa</td>\n",
       "      <td>CRAWLEY</td>\n",
       "      <td>F</td>\n",
       "      <td>C:/Users/slwal/anaconda3/envs/PY36/avgn_paper-...</td>\n",
       "      <td>BWY MGGY Call Combo 1 290719 PM</td>\n",
       "      <td>44100</td>\n",
       "      <td>[[0.0, 0.0, 0.0, 0.0, 0.0, 0.0, 0.0, 0.0, 0.0,...</td>\n",
       "      <td>[12.421062, 0.6991728]</td>\n",
       "    </tr>\n",
       "  </tbody>\n",
       "</table>\n",
       "<p>3 rows × 26 columns</p>\n",
       "</div>"
      ],
      "text/plain": [
       "   start_time  end_time labels  ID  start_times  end_times call_label  \\\n",
       "0    0.753604  0.776773     DS   0     0.753604   0.776773     DSSHDS   \n",
       "1    0.786865  0.835165     SH   1     0.786865   0.835165     DSSHDS   \n",
       "2    0.855941  0.921160     DS   2     0.855941   0.921160     DSSHDS   \n",
       "\n",
       "   call_start  seg_pos_call  call_unique_num  ...  indvi  \\\n",
       "0    0.753604             0                0  ...      0   \n",
       "1    0.753604             1                0  ...      0   \n",
       "2    0.753604             2                0  ...      0   \n",
       "\n",
       "                          filename  group  location  sex  \\\n",
       "0  BWY MGGY Call Combo 1 290719 PM   BWYa   CRAWLEY    F   \n",
       "1  BWY MGGY Call Combo 1 290719 PM   BWYa   CRAWLEY    F   \n",
       "2  BWY MGGY Call Combo 1 290719 PM   BWYa   CRAWLEY    F   \n",
       "\n",
       "                                             wav_loc  \\\n",
       "0  C:/Users/slwal/anaconda3/envs/PY36/avgn_paper-...   \n",
       "1  C:/Users/slwal/anaconda3/envs/PY36/avgn_paper-...   \n",
       "2  C:/Users/slwal/anaconda3/envs/PY36/avgn_paper-...   \n",
       "\n",
       "                               key   rate  \\\n",
       "0  BWY MGGY Call Combo 1 290719 PM  44100   \n",
       "1  BWY MGGY Call Combo 1 290719 PM  44100   \n",
       "2  BWY MGGY Call Combo 1 290719 PM  44100   \n",
       "\n",
       "                                               specs                    umap  \n",
       "0  [[0.0, 0.0, 0.0, 0.0, 0.0, 0.0, 0.0, 0.0, 0.0,...    [14.15081, 3.406464]  \n",
       "1  [[0.0, 0.0, 0.0, 0.0, 0.0, 0.0, 0.0, 0.0, 0.0,...   [5.388335, 10.057652]  \n",
       "2  [[0.0, 0.0, 0.0, 0.0, 0.0, 0.0, 0.0, 0.0, 0.0,...  [12.421062, 0.6991728]  \n",
       "\n",
       "[3 rows x 26 columns]"
      ]
     },
     "execution_count": 7,
     "metadata": {},
     "output_type": "execute_result"
    }
   ],
   "source": [
    "seg_df = pd.read_pickle(DATA_DIR / DATASET_ID / DT_ID /  'segment_umap.pickle')\n",
    "seg_df[:3]"
   ]
  },
  {
   "cell_type": "markdown",
   "id": "e0fe3dde",
   "metadata": {},
   "source": [
    "## View projection"
   ]
  },
  {
   "cell_type": "code",
   "execution_count": 8,
   "id": "377ea9ac",
   "metadata": {},
   "outputs": [],
   "source": [
    "def norm(x):\n",
    "    return (x-np.min(x)) / (np.max(x) - np.min(x))"
   ]
  },
  {
   "cell_type": "code",
   "execution_count": 9,
   "id": "0aaf0119",
   "metadata": {},
   "outputs": [],
   "source": [
    "seg_df = seg_df[np.array([np.sum(i) > 0.0 for i in seg_df.specs.values])\n",
    "]"
   ]
  },
  {
   "cell_type": "code",
   "execution_count": 10,
   "id": "6c1d9a44",
   "metadata": {},
   "outputs": [
    {
     "data": {
      "application/vnd.jupyter.widget-view+json": {
       "model_id": "638d8bb8d2b44603a9d54090580e9a14",
       "version_major": 2,
       "version_minor": 0
      },
      "text/plain": [
       "  0%|          | 0/1333 [00:00<?, ?it/s]"
      ]
     },
     "metadata": {},
     "output_type": "display_data"
    },
    {
     "data": {
      "text/plain": [
       "(1333, 4096)"
      ]
     },
     "execution_count": 10,
     "metadata": {},
     "output_type": "execute_result"
    }
   ],
   "source": [
    "specs = list(seg_df.specs.values)\n",
    "specs = [norm(i) for i in tqdm(specs)]\n",
    "specs_flattened = flatten_spectrograms(specs)\n",
    "np.shape(specs_flattened)"
   ]
  },
  {
   "cell_type": "code",
   "execution_count": 11,
   "id": "c7f193cb",
   "metadata": {},
   "outputs": [],
   "source": [
    "from avgn.visualization.projections import scatter_spec"
   ]
  },
  {
   "cell_type": "code",
   "execution_count": null,
   "id": "74987547",
   "metadata": {},
   "outputs": [],
   "source": [
    "nex = -1\n",
    "\n",
    "color = [\"black\", \"midnightblue\", \"tab:blue\", \"cornflowerblue\", \"powderblue\", \"lavender\"]\n",
    "\n",
    "scatter_spec(\n",
    "    np.array(list(seg_df['umap'].values)),\n",
    "    specs,\n",
    "    column_size=12,\n",
    "    x_range = [-2,15.25],\n",
    "    y_range = [-4.5,12.75],\n",
    "    pal_color=\"hls\",\n",
    "    color_points=False,\n",
    "    enlarge_points=0,\n",
    "    figsize=(10, 10),\n",
    "    range_pad = 0.15,\n",
    "    scatter_kwargs = {\n",
    "        'labels': seg_df.labels.values,\n",
    "        'alpha':1,\n",
    "        's': 5,\n",
    "        'show_legend': True,\n",
    "        \"color_palette\": color,\n",
    "    },\n",
    "    matshow_kwargs = {\n",
    "        'cmap': plt.cm.Greys\n",
    "    },\n",
    "    line_kwargs = {\n",
    "        'lw':0.4,\n",
    "        'ls':\"dashed\",\n",
    "        'alpha':0.25,\n",
    "    },\n",
    "    draw_lines=True,\n",
    "    n_subset= 1000,\n",
    "    border_line_width = 3,\n",
    "    \n",
    "\n",
    ");\n",
    "save_loc = (FIGURE_DIR / DATASET_ID / 'Figures' / 'FigS2.jpeg')\n",
    "ensure_dir(save_loc.as_posix())\n",
    "save_fig(save_loc, dpi=600, save_jpg=True)\n",
    "plt.show()"
   ]
  },
  {
   "cell_type": "markdown",
   "id": "5a9bd368",
   "metadata": {},
   "source": [
    "With some scattered exceptions, it appears that most data within the four larger segment classes fit into their own clusters. However, the two smaller segment classes (HL & US) largely cluster within other larger segment classes. In the next step, we'll have a closer look into this using silhouette score."
   ]
  },
  {
   "cell_type": "markdown",
   "id": "815e8f88",
   "metadata": {},
   "source": [
    "## Silhouette score\n",
    "This is compares the UMAP projection with the original hand labels."
   ]
  },
  {
   "cell_type": "code",
   "execution_count": 13,
   "id": "40f5d70f",
   "metadata": {},
   "outputs": [],
   "source": [
    "from avgn.clusterability.silhouette import nn, sil, plot_within_without"
   ]
  },
  {
   "cell_type": "code",
   "execution_count": 14,
   "id": "2c4bf707",
   "metadata": {},
   "outputs": [],
   "source": [
    "# labels\n",
    "labels = seg_df['labels']"
   ]
  },
  {
   "cell_type": "code",
   "execution_count": 15,
   "id": "30d2d5f1",
   "metadata": {},
   "outputs": [],
   "source": [
    "embedding = np.asarray(list(seg_df['umap'])) # UMAP coordinates"
   ]
  },
  {
   "cell_type": "markdown",
   "id": "c92224b7",
   "metadata": {},
   "source": [
    "### Calculate nearest neighbour stats"
   ]
  },
  {
   "cell_type": "code",
   "execution_count": 16,
   "id": "8e34704c",
   "metadata": {},
   "outputs": [],
   "source": [
    "knn=5 #  for knn=5 nearest neighbors\n",
    "\n",
    "nn_stats = nn(embedding, np.asarray(labels), k=knn)"
   ]
  },
  {
   "cell_type": "code",
   "execution_count": 17,
   "id": "2d090313",
   "metadata": {},
   "outputs": [
    {
     "name": "stdout",
     "output_type": "stream",
     "text": [
      "Evaluation score S (unweighted average of same-class probability P for all classes): 80.417\n",
      "Evaluation score Snorm (unweighted average of normalized same-class probability Pnorm for all classes):: 3.326\n"
     ]
    }
   ],
   "source": [
    "# Summary scores\n",
    "print(\"Evaluation score S (unweighted average of same-class probability P for all classes):\",round(nn_stats.get_S(),3))\n",
    "print(\"Evaluation score Snorm (unweighted average of normalized same-class probability Pnorm for all classes)::\",round(nn_stats.get_Snorm(),3))"
   ]
  },
  {
   "cell_type": "code",
   "execution_count": 18,
   "id": "cbfa80eb",
   "metadata": {},
   "outputs": [],
   "source": [
    "import seaborn as sns"
   ]
  },
  {
   "cell_type": "markdown",
   "id": "6fc69160",
   "metadata": {},
   "source": [
    "### Plot nearest neighbour metrics"
   ]
  },
  {
   "cell_type": "code",
   "execution_count": 19,
   "id": "be093ac5",
   "metadata": {},
   "outputs": [
    {
     "data": {
      "image/png": "[encoded data removed]",
      "text/plain": [
       "<Figure size 432x432 with 1 Axes>"
      ]
     },
     "metadata": {
      "needs_background": "light"
     },
     "output_type": "display_data"
    }
   ],
   "source": [
    "nn_stats.plot_heat_S(vmin=0,       # lower end (for color scheme)\n",
    "                     vmax=100,     # upper end (for color scheme)\n",
    "                     center=50,    # center(for color scheme)\n",
    "                     cmap=sns.color_palette(\"Blues\", as_cmap=True),# color scheme \n",
    "                     cbar=None,    # show colorbar if True else don't\n",
    "                     outname=None) # filename (with path) where figure will be saved. Default: None -> figure not saved"
   ]
  },
  {
   "cell_type": "code",
   "execution_count": 20,
   "id": "fbb1cc74",
   "metadata": {},
   "outputs": [
    {
     "data": {
      "image/png": "[encoded data removed]",
      "text/plain": [
       "<Figure size 432x432 with 1 Axes>"
      ]
     },
     "metadata": {
      "needs_background": "light"
     },
     "output_type": "display_data"
    }
   ],
   "source": [
    "nn_stats.plot_heat_fold(center=1,    # center(for color scheme)\n",
    "                        cmap=sns.diverging_palette(20, 145, as_cmap=True),# color scheme \n",
    "                        cbar=None,    # show colorbar if True else don't\n",
    "                        outname=None) # filename (with path) where figure will be saved. Default: None -> figure not saved"
   ]
  },
  {
   "cell_type": "code",
   "execution_count": 21,
   "id": "f8adb0ff",
   "metadata": {},
   "outputs": [
    {
     "data": {
      "text/plain": [
       "0.21351023"
      ]
     },
     "execution_count": 21,
     "metadata": {},
     "output_type": "execute_result"
    }
   ],
   "source": [
    "#Silhouette Avrg Score\n",
    "labelscore = silhouette_score(list(np.array(list(seg_df['umap'].values))), labels = seg_df.labels.values)\n",
    "labelscore"
   ]
  },
  {
   "cell_type": "code",
   "execution_count": 22,
   "id": "86dff889",
   "metadata": {},
   "outputs": [],
   "source": [
    "##K-W H test\n",
    "samples = silhouette_samples(list(np.array(list(seg_df['umap'].values))), labels = seg_df.labels.values)\n",
    "chance_samples = silhouette_samples(list(np.array(list(seg_df['umap'].values))), labels = np.random.permutation(seg_df.labels.values))"
   ]
  },
  {
   "cell_type": "code",
   "execution_count": 23,
   "id": "2608c21d",
   "metadata": {},
   "outputs": [
    {
     "data": {
      "text/plain": [
       "KruskalResult(statistic=748.7864371365849, pvalue=7.366719210428952e-165)"
      ]
     },
     "execution_count": 23,
     "metadata": {},
     "output_type": "execute_result"
    }
   ],
   "source": [
    "KWlabels = kruskal(samples, chance_samples)\n",
    "KWlabels"
   ]
  },
  {
   "cell_type": "markdown",
   "id": "3ba5f7b3",
   "metadata": {},
   "source": [
    "Judging from these results, it appears that HL does indeed belong to the LH segment class, however it is not clear for US which is most closely likely to be closer to either NL or SH. As such, we will run another UMAP just on these three segment classes (NL, SH, US) to check this (next notebook). "
   ]
  },
  {
   "cell_type": "code",
   "execution_count": null,
   "id": "a4e4639e",
   "metadata": {},
   "outputs": [],
   "source": []
  }
 ],
 "metadata": {
  "kernelspec": {
   "display_name": "Python 3",
   "language": "python",
   "name": "python3"
  },
  "language_info": {
   "codemirror_mode": {
    "name": "ipython",
    "version": 3
   },
   "file_extension": ".py",
   "mimetype": "text/x-python",
   "name": "python",
   "nbconvert_exporter": "python",
   "pygments_lexer": "ipython3",
   "version": "3.6.13"
  }
 },
 "nbformat": 4,
 "nbformat_minor": 5
}
