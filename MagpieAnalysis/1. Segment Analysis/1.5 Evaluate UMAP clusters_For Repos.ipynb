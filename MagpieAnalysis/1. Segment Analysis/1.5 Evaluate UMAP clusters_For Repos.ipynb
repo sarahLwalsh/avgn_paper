{
 "cells": [
  {
   "cell_type": "markdown",
   "id": "9671a99f",
   "metadata": {},
   "source": [
    "In this notebook, we view the UMAP projection and look at the distribution of predictor labels across clusters using silhouette score and kruskal wallis H test.\n",
    "\n",
    "We calculate silhouette score (S) and kruskal wallis H test score (H) per predictor to determine:\n",
    "- extent to which they discribe distribution of data across clusters (S)\n",
    "- whether this distribution is significantly different to what would be expected from the projection being compared to a randomly labelled dataset (H)"
   ]
  },
  {
   "cell_type": "markdown",
   "id": "cadfa62b",
   "metadata": {},
   "source": [
    "# View UMAP Projection"
   ]
  },
  {
   "cell_type": "code",
   "execution_count": 1,
   "id": "1085c19d",
   "metadata": {},
   "outputs": [],
   "source": [
    "from tqdm.auto import tqdm\n",
    "import numpy as np\n",
    "import matplotlib.pyplot as plt\n",
    "%matplotlib inline\n",
    "from joblib import Parallel, delayed\n",
    "import umap\n",
    "import pandas as pd"
   ]
  },
  {
   "cell_type": "code",
   "execution_count": 2,
   "id": "ced7a186",
   "metadata": {},
   "outputs": [],
   "source": [
    "import avgn"
   ]
  },
  {
   "cell_type": "code",
   "execution_count": 3,
   "id": "e0a283bb",
   "metadata": {},
   "outputs": [],
   "source": [
    "import pandas as pd\n",
    "from avgn.utils.paths import DATA_DIR, most_recent_subdirectory, ensure_dir, FIGURE_DIR, ensure_dir\n",
    "from avgn.signalprocessing.create_spectrogram_dataset import flatten_spectrograms\n",
    "from avgn.visualization.spectrogram import draw_spec_set\n",
    "from avgn.visualization.projections import scatter_spec\n",
    "from avgn.utils.general import save_fig"
   ]
  },
  {
   "cell_type": "code",
   "execution_count": 4,
   "id": "5b235633",
   "metadata": {},
   "outputs": [],
   "source": [
    "from scipy.stats import kruskal\n",
    "from sklearn.metrics import silhouette_score, silhouette_samples"
   ]
  },
  {
   "cell_type": "code",
   "execution_count": 5,
   "id": "5bfbc7c4",
   "metadata": {},
   "outputs": [],
   "source": [
    "DATASET_ID = \"git_repos\""
   ]
  },
  {
   "cell_type": "code",
   "execution_count": 6,
   "id": "780f0083",
   "metadata": {},
   "outputs": [],
   "source": [
    "DT_ID = '2022-03-04_18-41-29'"
   ]
  },
  {
   "cell_type": "code",
   "execution_count": 7,
   "id": "89ad2ff0",
   "metadata": {},
   "outputs": [
    {
     "data": {
      "text/html": [
       "<div>\n",
       "<style scoped>\n",
       "    .dataframe tbody tr th:only-of-type {\n",
       "        vertical-align: middle;\n",
       "    }\n",
       "\n",
       "    .dataframe tbody tr th {\n",
       "        vertical-align: top;\n",
       "    }\n",
       "\n",
       "    .dataframe thead th {\n",
       "        text-align: right;\n",
       "    }\n",
       "</style>\n",
       "<table border=\"1\" class=\"dataframe\">\n",
       "  <thead>\n",
       "    <tr style=\"text-align: right;\">\n",
       "      <th></th>\n",
       "      <th>start_time</th>\n",
       "      <th>end_time</th>\n",
       "      <th>labels</th>\n",
       "      <th>ID</th>\n",
       "      <th>start_times</th>\n",
       "      <th>end_times</th>\n",
       "      <th>call_label</th>\n",
       "      <th>call_start</th>\n",
       "      <th>seg_pos_call</th>\n",
       "      <th>call_unique_num</th>\n",
       "      <th>...</th>\n",
       "      <th>location</th>\n",
       "      <th>sex</th>\n",
       "      <th>wav_loc</th>\n",
       "      <th>key</th>\n",
       "      <th>rate</th>\n",
       "      <th>specs</th>\n",
       "      <th>umap</th>\n",
       "      <th>comb_labels</th>\n",
       "      <th>call_lab_simp</th>\n",
       "      <th>combi_lab_simp</th>\n",
       "    </tr>\n",
       "  </thead>\n",
       "  <tbody>\n",
       "    <tr>\n",
       "      <th>0</th>\n",
       "      <td>0.753604</td>\n",
       "      <td>0.776773</td>\n",
       "      <td>DS</td>\n",
       "      <td>0</td>\n",
       "      <td>0.753604</td>\n",
       "      <td>0.776773</td>\n",
       "      <td>DSSHDS</td>\n",
       "      <td>0.753604</td>\n",
       "      <td>0</td>\n",
       "      <td>0</td>\n",
       "      <td>...</td>\n",
       "      <td>CRAWLEY</td>\n",
       "      <td>F</td>\n",
       "      <td>C:/Users/slwal/anaconda3/envs/PY36/avgn_paper-...</td>\n",
       "      <td>BWY MGGY Call Combo 1 290719 PM</td>\n",
       "      <td>44100</td>\n",
       "      <td>[[0.0, 0.0, 0.0, 0.0, 0.0, 0.0, 0.0, 0.0, 0.0,...</td>\n",
       "      <td>[14.15081, 3.406464]</td>\n",
       "      <td>DS</td>\n",
       "      <td>DS-SH-DS</td>\n",
       "      <td>DS-SH-DS SH-LH</td>\n",
       "    </tr>\n",
       "    <tr>\n",
       "      <th>1</th>\n",
       "      <td>0.786865</td>\n",
       "      <td>0.835165</td>\n",
       "      <td>SH</td>\n",
       "      <td>1</td>\n",
       "      <td>0.786865</td>\n",
       "      <td>0.835165</td>\n",
       "      <td>DSSHDS</td>\n",
       "      <td>0.753604</td>\n",
       "      <td>1</td>\n",
       "      <td>0</td>\n",
       "      <td>...</td>\n",
       "      <td>CRAWLEY</td>\n",
       "      <td>F</td>\n",
       "      <td>C:/Users/slwal/anaconda3/envs/PY36/avgn_paper-...</td>\n",
       "      <td>BWY MGGY Call Combo 1 290719 PM</td>\n",
       "      <td>44100</td>\n",
       "      <td>[[0.0, 0.0, 0.0, 0.0, 0.0, 0.0, 0.0, 0.0, 0.0,...</td>\n",
       "      <td>[5.388335, 10.057652]</td>\n",
       "      <td>SH</td>\n",
       "      <td>DS-SH-DS</td>\n",
       "      <td>DS-SH-DS SH-LH</td>\n",
       "    </tr>\n",
       "    <tr>\n",
       "      <th>2</th>\n",
       "      <td>0.855941</td>\n",
       "      <td>0.921160</td>\n",
       "      <td>DS</td>\n",
       "      <td>2</td>\n",
       "      <td>0.855941</td>\n",
       "      <td>0.921160</td>\n",
       "      <td>DSSHDS</td>\n",
       "      <td>0.753604</td>\n",
       "      <td>2</td>\n",
       "      <td>0</td>\n",
       "      <td>...</td>\n",
       "      <td>CRAWLEY</td>\n",
       "      <td>F</td>\n",
       "      <td>C:/Users/slwal/anaconda3/envs/PY36/avgn_paper-...</td>\n",
       "      <td>BWY MGGY Call Combo 1 290719 PM</td>\n",
       "      <td>44100</td>\n",
       "      <td>[[0.0, 0.0, 0.0, 0.0, 0.0, 0.0, 0.0, 0.0, 0.0,...</td>\n",
       "      <td>[12.421062, 0.6991728]</td>\n",
       "      <td>DS</td>\n",
       "      <td>DS-SH-DS</td>\n",
       "      <td>DS-SH-DS SH-LH</td>\n",
       "    </tr>\n",
       "  </tbody>\n",
       "</table>\n",
       "<p>3 rows × 29 columns</p>\n",
       "</div>"
      ],
      "text/plain": [
       "   start_time  end_time labels  ID  start_times  end_times call_label  \\\n",
       "0    0.753604  0.776773     DS   0     0.753604   0.776773     DSSHDS   \n",
       "1    0.786865  0.835165     SH   1     0.786865   0.835165     DSSHDS   \n",
       "2    0.855941  0.921160     DS   2     0.855941   0.921160     DSSHDS   \n",
       "\n",
       "   call_start  seg_pos_call  call_unique_num  ...  location sex  \\\n",
       "0    0.753604             0                0  ...   CRAWLEY   F   \n",
       "1    0.753604             1                0  ...   CRAWLEY   F   \n",
       "2    0.753604             2                0  ...   CRAWLEY   F   \n",
       "\n",
       "                                             wav_loc  \\\n",
       "0  C:/Users/slwal/anaconda3/envs/PY36/avgn_paper-...   \n",
       "1  C:/Users/slwal/anaconda3/envs/PY36/avgn_paper-...   \n",
       "2  C:/Users/slwal/anaconda3/envs/PY36/avgn_paper-...   \n",
       "\n",
       "                               key   rate  \\\n",
       "0  BWY MGGY Call Combo 1 290719 PM  44100   \n",
       "1  BWY MGGY Call Combo 1 290719 PM  44100   \n",
       "2  BWY MGGY Call Combo 1 290719 PM  44100   \n",
       "\n",
       "                                               specs                    umap  \\\n",
       "0  [[0.0, 0.0, 0.0, 0.0, 0.0, 0.0, 0.0, 0.0, 0.0,...    [14.15081, 3.406464]   \n",
       "1  [[0.0, 0.0, 0.0, 0.0, 0.0, 0.0, 0.0, 0.0, 0.0,...   [5.388335, 10.057652]   \n",
       "2  [[0.0, 0.0, 0.0, 0.0, 0.0, 0.0, 0.0, 0.0, 0.0,...  [12.421062, 0.6991728]   \n",
       "\n",
       "  comb_labels call_lab_simp  combi_lab_simp  \n",
       "0          DS      DS-SH-DS  DS-SH-DS SH-LH  \n",
       "1          SH      DS-SH-DS  DS-SH-DS SH-LH  \n",
       "2          DS      DS-SH-DS  DS-SH-DS SH-LH  \n",
       "\n",
       "[3 rows x 29 columns]"
      ]
     },
     "execution_count": 7,
     "metadata": {},
     "output_type": "execute_result"
    }
   ],
   "source": [
    "seg_df = pd.read_pickle(DATA_DIR / DATASET_ID / DT_ID /  'segment_df_umap_combinedtidied.pickle')\n",
    "seg_df[:3]"
   ]
  },
  {
   "cell_type": "markdown",
   "id": "e0fe3dde",
   "metadata": {},
   "source": [
    "## View projection"
   ]
  },
  {
   "cell_type": "code",
   "execution_count": 8,
   "id": "377ea9ac",
   "metadata": {},
   "outputs": [],
   "source": [
    "def norm(x):\n",
    "    return (x-np.min(x)) / (np.max(x) - np.min(x))"
   ]
  },
  {
   "cell_type": "code",
   "execution_count": 9,
   "id": "0aaf0119",
   "metadata": {},
   "outputs": [],
   "source": [
    "seg_df = seg_df[np.array([np.sum(i) > 0.0 for i in seg_df.specs.values])\n",
    "]"
   ]
  },
  {
   "cell_type": "code",
   "execution_count": 10,
   "id": "6c1d9a44",
   "metadata": {},
   "outputs": [
    {
     "data": {
      "application/vnd.jupyter.widget-view+json": {
       "model_id": "6ada33fc210143bbad0d38fd230d0a31",
       "version_major": 2,
       "version_minor": 0
      },
      "text/plain": [
       "  0%|          | 0/1333 [00:00<?, ?it/s]"
      ]
     },
     "metadata": {},
     "output_type": "display_data"
    },
    {
     "data": {
      "text/plain": [
       "(1333, 4096)"
      ]
     },
     "execution_count": 10,
     "metadata": {},
     "output_type": "execute_result"
    }
   ],
   "source": [
    "specs = list(seg_df.specs.values)\n",
    "specs = [norm(i) for i in tqdm(specs)]\n",
    "specs_flattened = flatten_spectrograms(specs)\n",
    "np.shape(specs_flattened)"
   ]
  },
  {
   "cell_type": "markdown",
   "id": "5b3ffcb6",
   "metadata": {},
   "source": [
    "### Hand Labels"
   ]
  },
  {
   "cell_type": "code",
   "execution_count": null,
   "id": "74987547",
   "metadata": {},
   "outputs": [],
   "source": [
    "nex = -1\n",
    "\n",
    "color = [\"midnightblue\", \"tab:blue\", \"cornflowerblue\", \"powderblue\"]\n",
    "\n",
    "scatter_spec(\n",
    "    np.array(list(seg_df['umap'].values)),\n",
    "    specs,\n",
    "    column_size=12,\n",
    "    x_range = [-2,15.25],\n",
    "    y_range = [-4,13.25],\n",
    "    pal_color=\"hls\",\n",
    "    color_points=False,\n",
    "    enlarge_points=0,\n",
    "    figsize=(10, 10),\n",
    "    range_pad = 0.15,\n",
    "    scatter_kwargs = {\n",
    "        'labels': seg_df.comb_labels.values,\n",
    "        'alpha':1,\n",
    "        's': 5,\n",
    "        'show_legend': True,\n",
    "        \"color_palette\": color,\n",
    "    },\n",
    "    matshow_kwargs = {\n",
    "        'cmap': plt.cm.Greys\n",
    "    },\n",
    "    line_kwargs = {\n",
    "        'lw':0.4,\n",
    "        'ls':\"dashed\",\n",
    "        'alpha':0.25,\n",
    "    },\n",
    "    draw_lines=True,\n",
    "    n_subset= 1000,\n",
    "    border_line_width = 3,\n",
    "    \n",
    "\n",
    ");\n",
    "save_loc = (FIGURE_DIR / 'MS' / 'Segments UMAP' / 'UMAP_Proj_CombLabels.jpeg')\n",
    "ensure_dir(save_loc.as_posix())\n",
    "save_fig(save_loc, dpi=600, save_jpg=False)"
   ]
  },
  {
   "cell_type": "code",
   "execution_count": null,
   "id": "4fc7daed",
   "metadata": {},
   "outputs": [],
   "source": [
    "#Silhouette\n",
    "comblabelscore = silhouette_score(list(np.array(list(seg_df['umap'].values))), labels = seg_df.comb_labels.values)\n",
    "comblabelscore"
   ]
  },
  {
   "cell_type": "code",
   "execution_count": 13,
   "id": "fb885068",
   "metadata": {},
   "outputs": [],
   "source": [
    "##K-W H test\n",
    "samples = silhouette_samples(list(np.array(list(seg_df['umap'].values))), labels = seg_df.comb_labels.values)\n",
    "chance_samples = silhouette_samples(list(np.array(list(seg_df['umap'].values))), labels = np.random.permutation(seg_df.comb_labels.values))"
   ]
  },
  {
   "cell_type": "code",
   "execution_count": null,
   "id": "9634e4d4",
   "metadata": {},
   "outputs": [],
   "source": [
    "KWlabels = kruskal(samples, chance_samples)\n",
    "KWlabels"
   ]
  },
  {
   "cell_type": "code",
   "execution_count": null,
   "id": "f59f64f9",
   "metadata": {},
   "outputs": [],
   "source": [
    "segmentdata = {'Test': ['S', 'H'], 'Hand Labels': [comblabelscore, KWlabels]}\n",
    "df = pd.DataFrame(segmentdata)\n",
    "df"
   ]
  },
  {
   "cell_type": "markdown",
   "id": "2fcbc26c",
   "metadata": {},
   "source": [
    "### Individual\n",
    "To see if caller ID has a significant affect on data distribution (i.e. whether data are clustering by individual)"
   ]
  },
  {
   "cell_type": "code",
   "execution_count": null,
   "id": "682845b3",
   "metadata": {},
   "outputs": [],
   "source": [
    "nex = -1\n",
    "scatter_spec(\n",
    "    np.array(list(seg_df['umap'].values)),\n",
    "    specs,\n",
    "    column_size=12,\n",
    "    x_range = [-2,15.25],\n",
    "    y_range = [-4,13.25],\n",
    "    pal_color=\"hls\",\n",
    "    color_points=False,\n",
    "    enlarge_points=0,\n",
    "    figsize=(10, 10),\n",
    "    range_pad = 0.15,\n",
    "    scatter_kwargs = {\n",
    "        'labels': seg_df.indv.values,\n",
    "        'alpha':1,\n",
    "        's': 5,\n",
    "        'show_legend': False,\n",
    "        \"color_palette\": \"magma\",\n",
    "    },\n",
    "    matshow_kwargs = {\n",
    "        'cmap': plt.cm.Greys\n",
    "    },\n",
    "    line_kwargs = {\n",
    "        'lw':0.4,\n",
    "        'ls':\"dashed\",\n",
    "        'alpha':0.25,\n",
    "    },\n",
    "    draw_lines=True,\n",
    "    n_subset= 1000,\n",
    "    border_line_width = 3,\n",
    "    \n",
    "\n",
    ");\n",
    "save_loc = (FIGURE_DIR / 'MS' / 'Segments UMAP' / 'UMAP_Proj_Indv.jpeg')\n",
    "ensure_dir(save_loc.as_posix())\n",
    "save_fig(save_loc, dpi=600, save_jpg=False)"
   ]
  },
  {
   "cell_type": "code",
   "execution_count": null,
   "id": "e0fa5b8c",
   "metadata": {},
   "outputs": [],
   "source": [
    "#Silhouette\n",
    "indvscore = silhouette_score(list(np.array(list(seg_df['umap'].values))), labels = seg_df.indv.values)\n",
    "indvscore"
   ]
  },
  {
   "cell_type": "code",
   "execution_count": 18,
   "id": "28a6655f",
   "metadata": {},
   "outputs": [],
   "source": [
    "##K-W H test\n",
    "samples = silhouette_samples(list(np.array(list(seg_df['umap'].values))), labels = seg_df.indv.values)\n",
    "chance_samples = silhouette_samples(list(np.array(list(seg_df['umap'].values))), labels = np.random.permutation(seg_df.indv.values))"
   ]
  },
  {
   "cell_type": "code",
   "execution_count": null,
   "id": "d45406f9",
   "metadata": {},
   "outputs": [],
   "source": [
    "KWindv = kruskal(samples, chance_samples)\n",
    "KWindv"
   ]
  },
  {
   "cell_type": "code",
   "execution_count": null,
   "id": "1e2f0a83",
   "metadata": {},
   "outputs": [],
   "source": [
    "df[\"indv\"] = [indvscore, KWindv]\n",
    "df"
   ]
  },
  {
   "cell_type": "markdown",
   "id": "ee3e33bd",
   "metadata": {},
   "source": [
    "### Group"
   ]
  },
  {
   "cell_type": "code",
   "execution_count": null,
   "id": "ea0198bb",
   "metadata": {},
   "outputs": [],
   "source": [
    "nex = -1\n",
    "scatter_spec(\n",
    "    np.array(list(seg_df['umap'].values)),\n",
    "    specs,\n",
    "    column_size=12,\n",
    "    x_range = [-2,15.25],\n",
    "    y_range = [-4,13.25],\n",
    "    pal_color=\"hls\",\n",
    "    color_points=False,\n",
    "    enlarge_points=0,\n",
    "    figsize=(10, 10),\n",
    "    range_pad = 0.15,\n",
    "    scatter_kwargs = {\n",
    "        'labels': seg_df.group.values,\n",
    "        'alpha':1,\n",
    "        's': 5,\n",
    "        'show_legend': False,\n",
    "        \"color_palette\": \"viridis\",\n",
    "    },\n",
    "    matshow_kwargs = {\n",
    "        'cmap': plt.cm.Greys\n",
    "    },\n",
    "    line_kwargs = {\n",
    "        'lw':0.4,\n",
    "        'ls':\"dashed\",\n",
    "        'alpha':0.25,\n",
    "    },\n",
    "    draw_lines=True,\n",
    "    n_subset= 1000,\n",
    "    border_line_width = 3,\n",
    "    \n",
    "\n",
    ");\n",
    "save_loc = (FIGURE_DIR / 'MS' / 'Segments UMAP' / 'UMAP_Proj_Group.jpeg')\n",
    "ensure_dir(save_loc.as_posix())\n",
    "save_fig(save_loc, dpi=600, save_jpg=False)"
   ]
  },
  {
   "cell_type": "code",
   "execution_count": null,
   "id": "5b3d4933",
   "metadata": {},
   "outputs": [],
   "source": [
    "#Silhouette\n",
    "groupscore = silhouette_score(list(np.array(list(seg_df['umap'].values))), labels = seg_df.group.values)\n",
    "groupscore"
   ]
  },
  {
   "cell_type": "code",
   "execution_count": 56,
   "id": "9c25d10e",
   "metadata": {},
   "outputs": [],
   "source": [
    "##K-W H test\n",
    "samples = silhouette_samples(list(np.array(list(seg_df['umap'].values))), labels = seg_df.group.values)\n",
    "chance_samples = silhouette_samples(list(np.array(list(seg_df['umap'].values))), labels = np.random.permutation(seg_df.group.values))"
   ]
  },
  {
   "cell_type": "code",
   "execution_count": null,
   "id": "9a610573",
   "metadata": {},
   "outputs": [],
   "source": [
    "KWgroup = kruskal(samples, chance_samples)\n",
    "KWgroup"
   ]
  },
  {
   "cell_type": "code",
   "execution_count": null,
   "id": "d6378e7e",
   "metadata": {},
   "outputs": [],
   "source": [
    "df[\"group\"] = [groupscore, KWgroup]\n",
    "df"
   ]
  },
  {
   "cell_type": "markdown",
   "id": "85460c6c",
   "metadata": {},
   "source": [
    "### Study Site"
   ]
  },
  {
   "cell_type": "code",
   "execution_count": null,
   "id": "be61887c",
   "metadata": {
    "scrolled": false
   },
   "outputs": [],
   "source": [
    "nex = -1\n",
    "scatter_spec(\n",
    "    np.array(list(seg_df['umap'].values)),\n",
    "    specs,\n",
    "    column_size=12,\n",
    "    x_range = [-2,15.25],\n",
    "    y_range = [-4,13.25],\n",
    "    pal_color=\"hls\",\n",
    "    color_points=False,\n",
    "    enlarge_points=0,\n",
    "    figsize=(10, 10),\n",
    "    range_pad = 0.15,\n",
    "    scatter_kwargs = {\n",
    "        'labels': seg_df.location.values,\n",
    "        'alpha':1,\n",
    "        's': 5,\n",
    "        'show_legend': True,\n",
    "        \"color_palette\": \"Greens\",\n",
    "    },\n",
    "    matshow_kwargs = {\n",
    "        'cmap': plt.cm.Greys\n",
    "    },\n",
    "    line_kwargs = {\n",
    "        'lw':0.4,\n",
    "        'ls':\"dashed\",\n",
    "        'alpha':0.25,\n",
    "    },\n",
    "    draw_lines=True,\n",
    "    n_subset= 1000,\n",
    "    border_line_width = 3,\n",
    "    \n",
    "\n",
    ");\n",
    "save_loc = (FIGURE_DIR / 'MS' / 'Segments UMAP' / 'UMAP_Proj_Group.jpeg')\n",
    "ensure_dir(save_loc.as_posix())\n",
    "save_fig(save_loc, dpi=600, save_jpg=False)"
   ]
  },
  {
   "cell_type": "code",
   "execution_count": null,
   "id": "e85d6252",
   "metadata": {},
   "outputs": [],
   "source": [
    "#Silhouette\n",
    "locscore = silhouette_score(list(np.array(list(seg_df['umap'].values))), labels = seg_df.location.values)\n",
    "locscore"
   ]
  },
  {
   "cell_type": "code",
   "execution_count": 62,
   "id": "44bac328",
   "metadata": {},
   "outputs": [],
   "source": [
    "##K-W H test\n",
    "samples = silhouette_samples(list(np.array(list(seg_df['umap'].values))), labels = seg_df.location.values)\n",
    "chance_samples = silhouette_samples(list(np.array(list(seg_df['umap'].values))), labels = np.random.permutation(seg_df.location.values))"
   ]
  },
  {
   "cell_type": "code",
   "execution_count": null,
   "id": "12b12b55",
   "metadata": {},
   "outputs": [],
   "source": [
    "KWloc = kruskal(samples, chance_samples)\n",
    "KWloc"
   ]
  },
  {
   "cell_type": "code",
   "execution_count": null,
   "id": "4f8aefb1",
   "metadata": {},
   "outputs": [],
   "source": [
    "df[\"study site\"] = [locscore, KWloc]\n",
    "df"
   ]
  },
  {
   "cell_type": "markdown",
   "id": "6fa7b4e2",
   "metadata": {},
   "source": [
    "### Sex"
   ]
  },
  {
   "cell_type": "code",
   "execution_count": null,
   "id": "543edc79",
   "metadata": {},
   "outputs": [],
   "source": [
    "nex = -1\n",
    "scatter_spec(\n",
    "    np.array(list(seg_df['umap'].values)),\n",
    "    specs,\n",
    "    column_size=12,\n",
    "    x_range = [-2,15.25],\n",
    "    y_range = [-4,13.25],\n",
    "    pal_color=\"hls\",\n",
    "    color_points=False,\n",
    "    enlarge_points=0,\n",
    "    figsize=(10, 10),\n",
    "    range_pad = 0.15,\n",
    "    scatter_kwargs = {\n",
    "        'labels': seg_df.sex.values,\n",
    "        'alpha':1,\n",
    "        's': 5,\n",
    "        'show_legend': True,\n",
    "        \"color_palette\": \"Blues\",\n",
    "    },\n",
    "    matshow_kwargs = {\n",
    "        'cmap': plt.cm.Greys\n",
    "    },\n",
    "    line_kwargs = {\n",
    "        'lw':0.4,\n",
    "        'ls':\"dashed\",\n",
    "        'alpha':0.25,\n",
    "    },\n",
    "    draw_lines=True,\n",
    "    n_subset= 1000,\n",
    "    border_line_width = 3,\n",
    "    \n",
    "\n",
    ");\n",
    "save_loc = (FIGURE_DIR / 'MS' / 'Segments UMAP' / 'UMAP_Proj_Group.jpeg')\n",
    "ensure_dir(save_loc.as_posix())\n",
    "save_fig(save_loc, dpi=600, save_jpg=False)"
   ]
  },
  {
   "cell_type": "code",
   "execution_count": null,
   "id": "d4320e69",
   "metadata": {},
   "outputs": [],
   "source": [
    "#Silhouette\n",
    "sexscore = silhouette_score(list(np.array(list(seg_df['umap'].values))), labels = seg_df.sex.values)\n",
    "sexscore"
   ]
  },
  {
   "cell_type": "code",
   "execution_count": 67,
   "id": "8f1213bb",
   "metadata": {},
   "outputs": [],
   "source": [
    "##K-W H test\n",
    "samples = silhouette_samples(list(np.array(list(seg_df['umap'].values))), labels = seg_df.sex.values)\n",
    "chance_samples = silhouette_samples(list(np.array(list(seg_df['umap'].values))), labels = np.random.permutation(seg_df.sex.values))"
   ]
  },
  {
   "cell_type": "code",
   "execution_count": null,
   "id": "4585e456",
   "metadata": {},
   "outputs": [],
   "source": [
    "KWsex = kruskal(samples, chance_samples)\n",
    "KWsex"
   ]
  },
  {
   "cell_type": "code",
   "execution_count": null,
   "id": "edcd7d96",
   "metadata": {},
   "outputs": [],
   "source": [
    "df[\"sex\"] = [sexscore, KWsex]\n",
    "df"
   ]
  },
  {
   "cell_type": "code",
   "execution_count": null,
   "id": "995b8ecd",
   "metadata": {},
   "outputs": [],
   "source": []
  }
 ],
 "metadata": {
  "kernelspec": {
   "display_name": "Python 3",
   "language": "python",
   "name": "python3"
  },
  "language_info": {
   "codemirror_mode": {
    "name": "ipython",
    "version": 3
   },
   "file_extension": ".py",
   "mimetype": "text/x-python",
   "name": "python",
   "nbconvert_exporter": "python",
   "pygments_lexer": "ipython3",
   "version": "3.6.13"
  }
 },
 "nbformat": 4,
 "nbformat_minor": 5
}
