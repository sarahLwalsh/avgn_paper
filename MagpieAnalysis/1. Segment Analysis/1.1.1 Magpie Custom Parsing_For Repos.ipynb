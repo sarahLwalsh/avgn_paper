{
 "cells": [
  {
   "cell_type": "markdown",
   "id": "64d480c1",
   "metadata": {},
   "source": [
    "# Multi-level combinatoriality in magpie non-song vocalizations\n",
    "\n",
    "This repository follows the tutorial outlined in [Sainburg et al., (2020)](https://doi.org/10.1371/journal.pcbi.1008228), with some modifications to account for acoustic parameters specific to our study species: the Western Australian magpie (*Gymnorhina tibicen dorsalis*). Further detail on the method, including code for much of the analysis used in this paper, can be accessed through the tutorial's repository at [github.com/timsainb/avgn](https://github.com/timsainb/avgn_paper/blob/V2/github.com/timsainb/avgn). "
   ]
  },
  {
   "cell_type": "markdown",
   "id": "087fd028",
   "metadata": {},
   "source": [
    "Data for this study can be accessed [here](https://doi.org/10.26182/s77t-hw04). "
   ]
  },
  {
   "cell_type": "markdown",
   "id": "a690ae01",
   "metadata": {},
   "source": [
    "In this notebook I create dataframes for segment, call and combination data using information in the annotation (Praat textgrid) and audio (WAV) files. "
   ]
  },
  {
   "cell_type": "code",
   "execution_count": 1,
   "id": "5a2fce29",
   "metadata": {
    "scrolled": true
   },
   "outputs": [],
   "source": [
    "#Set Dataset ID\n",
    "DATASET_ID = \"git_repos\""
   ]
  },
  {
   "cell_type": "code",
   "execution_count": 2,
   "id": "a066df08",
   "metadata": {
    "scrolled": true
   },
   "outputs": [],
   "source": [
    "import pdb\n",
    "from joblib import Parallel, delayed\n",
    "from tqdm.auto import tqdm\n",
    "import pandas as pd\n",
    "import librosa\n",
    "from datetime import datetime\n",
    "import json\n",
    "import numpy as np\n",
    "from pathlib2 import Path"
   ]
  },
  {
   "cell_type": "code",
   "execution_count": 3,
   "id": "0efcac81",
   "metadata": {
    "scrolled": true
   },
   "outputs": [],
   "source": [
    "import avgn"
   ]
  },
  {
   "cell_type": "code",
   "execution_count": 4,
   "id": "f4a093c6",
   "metadata": {
    "scrolled": true
   },
   "outputs": [],
   "source": [
    "from avgn.utils.paths import DATA_DIR, ensure_dir"
   ]
  },
  {
   "cell_type": "markdown",
   "id": "9927f7a4",
   "metadata": {},
   "source": [
    "## Load Data in Original Format"
   ]
  },
  {
   "cell_type": "code",
   "execution_count": 5,
   "id": "c5d7d954",
   "metadata": {
    "scrolled": true
   },
   "outputs": [
    {
     "data": {
      "text/plain": [
       "'2022-09-10_09-36-50'"
      ]
     },
     "execution_count": 5,
     "metadata": {},
     "output_type": "execute_result"
    }
   ],
   "source": [
    "#Creation of a unique datetime identifier for the files output by this notebook \n",
    "##This allows files to be saved in a folder with today's date/time of output creation\n",
    "DT_ID = datetime.now().strftime(\"%Y-%m-%d_%H-%M-%S\")\n",
    "DT_ID"
   ]
  },
  {
   "cell_type": "code",
   "execution_count": 6,
   "id": "b9580ac4",
   "metadata": {
    "scrolled": true
   },
   "outputs": [
    {
     "data": {
      "text/plain": [
       "WindowsPath('C:/Users/slwal/anaconda3/envs/PY36/avgn_paper-2/data/raw/magpie/individuals')"
      ]
     },
     "execution_count": 6,
     "metadata": {},
     "output_type": "execute_result"
    }
   ],
   "source": [
    "#Defining Path to Raw Dataset\n",
    "RAW_DATASET_LOC = DATA_DIR/\"raw\"/\"magpie\"/\"individuals\"\n",
    "RAW_DATASET_LOC"
   ]
  },
  {
   "cell_type": "code",
   "execution_count": 7,
   "id": "93be23f1",
   "metadata": {
    "scrolled": true
   },
   "outputs": [
    {
     "data": {
      "text/plain": [
       "(WindowsPath('C:/Users/slwal/anaconda3/envs/PY36/avgn_paper-2/data/raw/magpie/individuals/BWYa_F_MGGY/BWY MGGY Call Combo 1 290719 PM.TextGrid'),\n",
       " 153)"
      ]
     },
     "execution_count": 7,
     "metadata": {},
     "output_type": "execute_result"
    }
   ],
   "source": [
    "#Grab an array of all textgrid files corresponding to each WAV file\n",
    "##Textgrid files contain annotations with start and end time boundaries\n",
    "###as well as labels for combinations and their comprising calls and segments\n",
    "TGLIST = np.array(list((RAW_DATASET_LOC).expanduser().glob('*/*.TextGrid')))\n",
    "TGLIST = np.array([i for i in TGLIST if i.stem[0] != '.'])\n",
    "TGLIST[0], len(TGLIST)"
   ]
  },
  {
   "cell_type": "code",
   "execution_count": 8,
   "id": "63c72222",
   "metadata": {
    "scrolled": true
   },
   "outputs": [
    {
     "data": {
      "text/plain": [
       "(WindowsPath('C:/Users/slwal/anaconda3/envs/PY36/avgn_paper-2/data/raw/magpie/individuals/BWYa_F_MGGY/BWY MGGY Call Combo 1 290719 PM.wav'),\n",
       " 153)"
      ]
     },
     "execution_count": 8,
     "metadata": {},
     "output_type": "execute_result"
    }
   ],
   "source": [
    "#Grab array of all WAV files\n",
    "WAVLIST = np.array(list((RAW_DATASET_LOC).expanduser().glob('*/*.wav')))\n",
    "WAVLIST[0], len(WAVLIST)"
   ]
  },
  {
   "cell_type": "markdown",
   "id": "5b618932",
   "metadata": {},
   "source": [
    "## Create dataframes for Segments, Calls & Combinations\n"
   ]
  },
  {
   "cell_type": "code",
   "execution_count": 9,
   "id": "b7f8bfff",
   "metadata": {},
   "outputs": [
    {
     "data": {
      "text/plain": [
       "'BWY MGGY Call Combo 1 290719 PM'"
      ]
     },
     "execution_count": 9,
     "metadata": {},
     "output_type": "execute_result"
    }
   ],
   "source": [
    "#Create array containing just the file names in WAVLIST\n",
    "wav_stems = np.array([i.stem for i in WAVLIST])\n",
    "wav_stems[0]"
   ]
  },
  {
   "cell_type": "code",
   "execution_count": 10,
   "id": "8781927e",
   "metadata": {},
   "outputs": [],
   "source": [
    "from avgn.custom_parsing.magpie_for_repos import (\n",
    "    get_segments,\n",
    "    get_calls,\n",
    "    get_combis\n",
    ")"
   ]
  },
  {
   "cell_type": "markdown",
   "id": "3aea41f1",
   "metadata": {},
   "source": [
    "### Segment Data"
   ]
  },
  {
   "cell_type": "code",
   "execution_count": 11,
   "id": "ddb6aef1",
   "metadata": {},
   "outputs": [
    {
     "data": {
      "application/vnd.jupyter.widget-view+json": {
       "model_id": "a362d01387d04917a7772e342185b544",
       "version_major": 2,
       "version_minor": 0
      },
      "text/plain": [
       "  0%|          | 0/153 [00:00<?, ?it/s]"
      ]
     },
     "metadata": {},
     "output_type": "display_data"
    },
    {
     "name": "stderr",
     "output_type": "stream",
     "text": [
      "[Parallel(n_jobs=-1)]: Using backend LokyBackend with 12 concurrent workers.\n",
      "[Parallel(n_jobs=-1)]: Done   1 tasks      | elapsed:    4.4s\n",
      "[Parallel(n_jobs=-1)]: Done   8 tasks      | elapsed:    4.4s\n",
      "[Parallel(n_jobs=-1)]: Done  17 tasks      | elapsed:    4.6s\n",
      "[Parallel(n_jobs=-1)]: Done  26 tasks      | elapsed:    4.6s\n",
      "[Parallel(n_jobs=-1)]: Done  37 tasks      | elapsed:    4.7s\n",
      "[Parallel(n_jobs=-1)]: Batch computation too fast (0.1968s.) Setting batch_size=2.\n",
      "[Parallel(n_jobs=-1)]: Done  48 tasks      | elapsed:    4.8s\n",
      "[Parallel(n_jobs=-1)]: Done  61 tasks      | elapsed:    4.8s\n",
      "[Parallel(n_jobs=-1)]: Batch computation too fast (0.1636s.) Setting batch_size=4.\n",
      "[Parallel(n_jobs=-1)]: Done  77 tasks      | elapsed:    5.0s\n",
      "[Parallel(n_jobs=-1)]: Done 104 tasks      | elapsed:    5.2s\n",
      "[Parallel(n_jobs=-1)]: Done 126 tasks      | elapsed:    5.3s\n",
      "[Parallel(n_jobs=-1)]: Done 130 out of 153 | elapsed:    5.3s remaining:    0.9s\n",
      "[Parallel(n_jobs=-1)]: Done 146 out of 153 | elapsed:    5.4s remaining:    0.2s\n",
      "[Parallel(n_jobs=-1)]: Done 153 out of 153 | elapsed:    5.7s finished\n"
     ]
    }
   ],
   "source": [
    "#create textrgids just with segment data\n",
    "with Parallel(n_jobs=-1, verbose=10) as parallel:\n",
    "    seg_df = parallel(\n",
    "        delayed(get_segments)(tg, WAVLIST, wav_stems)\n",
    "        for tg in tqdm(TGLIST)\n",
    "    )\n",
    "seg_df = pd.concat(seg_df)"
   ]
  },
  {
   "cell_type": "code",
   "execution_count": 12,
   "id": "8451c6fa",
   "metadata": {},
   "outputs": [
    {
     "data": {
      "text/html": [
       "<div>\n",
       "<style scoped>\n",
       "    .dataframe tbody tr th:only-of-type {\n",
       "        vertical-align: middle;\n",
       "    }\n",
       "\n",
       "    .dataframe tbody tr th {\n",
       "        vertical-align: top;\n",
       "    }\n",
       "\n",
       "    .dataframe thead th {\n",
       "        text-align: right;\n",
       "    }\n",
       "</style>\n",
       "<table border=\"1\" class=\"dataframe\">\n",
       "  <thead>\n",
       "    <tr style=\"text-align: right;\">\n",
       "      <th></th>\n",
       "      <th>indv</th>\n",
       "      <th>sex</th>\n",
       "      <th>gro</th>\n",
       "      <th>filename</th>\n",
       "      <th>wavloc</th>\n",
       "      <th>tgloc</th>\n",
       "      <th>seg_pos_combi</th>\n",
       "      <th>seg_start</th>\n",
       "      <th>seg_end</th>\n",
       "      <th>seg_label</th>\n",
       "    </tr>\n",
       "  </thead>\n",
       "  <tbody>\n",
       "    <tr>\n",
       "      <th>0</th>\n",
       "      <td>MGGY</td>\n",
       "      <td>F</td>\n",
       "      <td>BWYa</td>\n",
       "      <td>BWY MGGY Call Combo 1 290719 PM</td>\n",
       "      <td>C:\\Users\\slwal\\anaconda3\\envs\\PY36\\avgn_paper-...</td>\n",
       "      <td>C:\\Users\\slwal\\anaconda3\\envs\\PY36\\avgn_paper-...</td>\n",
       "      <td>0</td>\n",
       "      <td>0.753604</td>\n",
       "      <td>0.776773</td>\n",
       "      <td>DS</td>\n",
       "    </tr>\n",
       "    <tr>\n",
       "      <th>1</th>\n",
       "      <td>MGGY</td>\n",
       "      <td>F</td>\n",
       "      <td>BWYa</td>\n",
       "      <td>BWY MGGY Call Combo 1 290719 PM</td>\n",
       "      <td>C:\\Users\\slwal\\anaconda3\\envs\\PY36\\avgn_paper-...</td>\n",
       "      <td>C:\\Users\\slwal\\anaconda3\\envs\\PY36\\avgn_paper-...</td>\n",
       "      <td>1</td>\n",
       "      <td>0.786865</td>\n",
       "      <td>0.835165</td>\n",
       "      <td>SH</td>\n",
       "    </tr>\n",
       "    <tr>\n",
       "      <th>2</th>\n",
       "      <td>MGGY</td>\n",
       "      <td>F</td>\n",
       "      <td>BWYa</td>\n",
       "      <td>BWY MGGY Call Combo 1 290719 PM</td>\n",
       "      <td>C:\\Users\\slwal\\anaconda3\\envs\\PY36\\avgn_paper-...</td>\n",
       "      <td>C:\\Users\\slwal\\anaconda3\\envs\\PY36\\avgn_paper-...</td>\n",
       "      <td>2</td>\n",
       "      <td>0.855941</td>\n",
       "      <td>0.921160</td>\n",
       "      <td>DS</td>\n",
       "    </tr>\n",
       "  </tbody>\n",
       "</table>\n",
       "</div>"
      ],
      "text/plain": [
       "   indv sex   gro                         filename  \\\n",
       "0  MGGY   F  BWYa  BWY MGGY Call Combo 1 290719 PM   \n",
       "1  MGGY   F  BWYa  BWY MGGY Call Combo 1 290719 PM   \n",
       "2  MGGY   F  BWYa  BWY MGGY Call Combo 1 290719 PM   \n",
       "\n",
       "                                              wavloc  \\\n",
       "0  C:\\Users\\slwal\\anaconda3\\envs\\PY36\\avgn_paper-...   \n",
       "1  C:\\Users\\slwal\\anaconda3\\envs\\PY36\\avgn_paper-...   \n",
       "2  C:\\Users\\slwal\\anaconda3\\envs\\PY36\\avgn_paper-...   \n",
       "\n",
       "                                               tgloc seg_pos_combi  seg_start  \\\n",
       "0  C:\\Users\\slwal\\anaconda3\\envs\\PY36\\avgn_paper-...             0   0.753604   \n",
       "1  C:\\Users\\slwal\\anaconda3\\envs\\PY36\\avgn_paper-...             1   0.786865   \n",
       "2  C:\\Users\\slwal\\anaconda3\\envs\\PY36\\avgn_paper-...             2   0.855941   \n",
       "\n",
       "    seg_end seg_label  \n",
       "0  0.776773        DS  \n",
       "1  0.835165        SH  \n",
       "2  0.921160        DS  "
      ]
     },
     "execution_count": 12,
     "metadata": {},
     "output_type": "execute_result"
    }
   ],
   "source": [
    "seg_df[:3]"
   ]
  },
  {
   "cell_type": "code",
   "execution_count": 13,
   "id": "d9c489bc",
   "metadata": {},
   "outputs": [
    {
     "data": {
      "text/plain": [
       "1647"
      ]
     },
     "execution_count": 13,
     "metadata": {},
     "output_type": "execute_result"
    }
   ],
   "source": [
    "#how many segments are there?\n",
    "len(seg_df)"
   ]
  },
  {
   "cell_type": "code",
   "execution_count": 14,
   "id": "2352613c",
   "metadata": {},
   "outputs": [],
   "source": [
    "#Create ID from 0 to end of range - so that each segment has a unique identifier\n",
    "seg_df.insert(0, 'New_ID', range(0, 0 + len(seg_df)))"
   ]
  },
  {
   "cell_type": "code",
   "execution_count": 15,
   "id": "502ea9ea",
   "metadata": {},
   "outputs": [
    {
     "data": {
      "text/html": [
       "<div>\n",
       "<style scoped>\n",
       "    .dataframe tbody tr th:only-of-type {\n",
       "        vertical-align: middle;\n",
       "    }\n",
       "\n",
       "    .dataframe tbody tr th {\n",
       "        vertical-align: top;\n",
       "    }\n",
       "\n",
       "    .dataframe thead th {\n",
       "        text-align: right;\n",
       "    }\n",
       "</style>\n",
       "<table border=\"1\" class=\"dataframe\">\n",
       "  <thead>\n",
       "    <tr style=\"text-align: right;\">\n",
       "      <th></th>\n",
       "      <th>New_ID</th>\n",
       "      <th>indv</th>\n",
       "      <th>sex</th>\n",
       "      <th>gro</th>\n",
       "      <th>filename</th>\n",
       "      <th>wavloc</th>\n",
       "      <th>tgloc</th>\n",
       "      <th>seg_pos_combi</th>\n",
       "      <th>seg_start</th>\n",
       "      <th>seg_end</th>\n",
       "      <th>seg_label</th>\n",
       "    </tr>\n",
       "  </thead>\n",
       "  <tbody>\n",
       "    <tr>\n",
       "      <th>0</th>\n",
       "      <td>0</td>\n",
       "      <td>MGGY</td>\n",
       "      <td>F</td>\n",
       "      <td>BWYa</td>\n",
       "      <td>BWY MGGY Call Combo 1 290719 PM</td>\n",
       "      <td>C:\\Users\\slwal\\anaconda3\\envs\\PY36\\avgn_paper-...</td>\n",
       "      <td>C:\\Users\\slwal\\anaconda3\\envs\\PY36\\avgn_paper-...</td>\n",
       "      <td>0</td>\n",
       "      <td>0.753604</td>\n",
       "      <td>0.776773</td>\n",
       "      <td>DS</td>\n",
       "    </tr>\n",
       "    <tr>\n",
       "      <th>1</th>\n",
       "      <td>1</td>\n",
       "      <td>MGGY</td>\n",
       "      <td>F</td>\n",
       "      <td>BWYa</td>\n",
       "      <td>BWY MGGY Call Combo 1 290719 PM</td>\n",
       "      <td>C:\\Users\\slwal\\anaconda3\\envs\\PY36\\avgn_paper-...</td>\n",
       "      <td>C:\\Users\\slwal\\anaconda3\\envs\\PY36\\avgn_paper-...</td>\n",
       "      <td>1</td>\n",
       "      <td>0.786865</td>\n",
       "      <td>0.835165</td>\n",
       "      <td>SH</td>\n",
       "    </tr>\n",
       "    <tr>\n",
       "      <th>2</th>\n",
       "      <td>2</td>\n",
       "      <td>MGGY</td>\n",
       "      <td>F</td>\n",
       "      <td>BWYa</td>\n",
       "      <td>BWY MGGY Call Combo 1 290719 PM</td>\n",
       "      <td>C:\\Users\\slwal\\anaconda3\\envs\\PY36\\avgn_paper-...</td>\n",
       "      <td>C:\\Users\\slwal\\anaconda3\\envs\\PY36\\avgn_paper-...</td>\n",
       "      <td>2</td>\n",
       "      <td>0.855941</td>\n",
       "      <td>0.921160</td>\n",
       "      <td>DS</td>\n",
       "    </tr>\n",
       "  </tbody>\n",
       "</table>\n",
       "</div>"
      ],
      "text/plain": [
       "   New_ID  indv sex   gro                         filename  \\\n",
       "0       0  MGGY   F  BWYa  BWY MGGY Call Combo 1 290719 PM   \n",
       "1       1  MGGY   F  BWYa  BWY MGGY Call Combo 1 290719 PM   \n",
       "2       2  MGGY   F  BWYa  BWY MGGY Call Combo 1 290719 PM   \n",
       "\n",
       "                                              wavloc  \\\n",
       "0  C:\\Users\\slwal\\anaconda3\\envs\\PY36\\avgn_paper-...   \n",
       "1  C:\\Users\\slwal\\anaconda3\\envs\\PY36\\avgn_paper-...   \n",
       "2  C:\\Users\\slwal\\anaconda3\\envs\\PY36\\avgn_paper-...   \n",
       "\n",
       "                                               tgloc seg_pos_combi  seg_start  \\\n",
       "0  C:\\Users\\slwal\\anaconda3\\envs\\PY36\\avgn_paper-...             0   0.753604   \n",
       "1  C:\\Users\\slwal\\anaconda3\\envs\\PY36\\avgn_paper-...             1   0.786865   \n",
       "2  C:\\Users\\slwal\\anaconda3\\envs\\PY36\\avgn_paper-...             2   0.855941   \n",
       "\n",
       "    seg_end seg_label  \n",
       "0  0.776773        DS  \n",
       "1  0.835165        SH  \n",
       "2  0.921160        DS  "
      ]
     },
     "execution_count": 15,
     "metadata": {},
     "output_type": "execute_result"
    }
   ],
   "source": [
    "#check to see if worked\n",
    "seg_df[:3]"
   ]
  },
  {
   "cell_type": "code",
   "execution_count": 16,
   "id": "c54e8ddf",
   "metadata": {},
   "outputs": [],
   "source": [
    "#save segment dataframe as pickle\n",
    "save_loc = DATA_DIR / DATASET_ID / 'walsh_magpie_segment_dataframe.pickle'\n",
    "ensure_dir(save_loc)\n",
    "seg_df.to_pickle(save_loc)"
   ]
  },
  {
   "cell_type": "markdown",
   "id": "9714b305",
   "metadata": {},
   "source": [
    "### Call Data"
   ]
  },
  {
   "cell_type": "code",
   "execution_count": 17,
   "id": "a8c41d7b",
   "metadata": {},
   "outputs": [
    {
     "data": {
      "application/vnd.jupyter.widget-view+json": {
       "model_id": "5e0118f8bb9f411cadd7d9cb48e932f8",
       "version_major": 2,
       "version_minor": 0
      },
      "text/plain": [
       "  0%|          | 0/153 [00:00<?, ?it/s]"
      ]
     },
     "metadata": {},
     "output_type": "display_data"
    },
    {
     "name": "stderr",
     "output_type": "stream",
     "text": [
      "[Parallel(n_jobs=-1)]: Using backend LokyBackend with 12 concurrent workers.\n",
      "[Parallel(n_jobs=-1)]: Done   1 tasks      | elapsed:    0.0s\n",
      "[Parallel(n_jobs=-1)]: Batch computation too fast (0.0319s.) Setting batch_size=2.\n",
      "[Parallel(n_jobs=-1)]: Done   8 tasks      | elapsed:    0.0s\n",
      "[Parallel(n_jobs=-1)]: Done  17 tasks      | elapsed:    0.0s\n",
      "[Parallel(n_jobs=-1)]: Batch computation too fast (0.0758s.) Setting batch_size=4.\n",
      "[Parallel(n_jobs=-1)]: Done  29 tasks      | elapsed:    0.0s\n",
      "[Parallel(n_jobs=-1)]: Done  50 tasks      | elapsed:    0.1s\n",
      "[Parallel(n_jobs=-1)]: Done  74 tasks      | elapsed:    0.2s\n",
      "[Parallel(n_jobs=-1)]: Batch computation too fast (0.1526s.) Setting batch_size=8.\n",
      "[Parallel(n_jobs=-1)]: Done 103 tasks      | elapsed:    0.3s\n",
      "[Parallel(n_jobs=-1)]: Done 130 out of 153 | elapsed:    0.4s remaining:    0.0s\n",
      "[Parallel(n_jobs=-1)]: Done 153 out of 153 | elapsed:    0.5s finished\n"
     ]
    }
   ],
   "source": [
    "#create textrgids again just with call data\n",
    "with Parallel(n_jobs=-1, verbose=10) as parallel:\n",
    "    call_df = parallel(\n",
    "        delayed(get_calls)(tg, WAVLIST, wav_stems)\n",
    "        for tg in tqdm(TGLIST)\n",
    "    )\n",
    "call_df = pd.concat(call_df)"
   ]
  },
  {
   "cell_type": "code",
   "execution_count": 18,
   "id": "49afa05b",
   "metadata": {},
   "outputs": [
    {
     "data": {
      "text/html": [
       "<div>\n",
       "<style scoped>\n",
       "    .dataframe tbody tr th:only-of-type {\n",
       "        vertical-align: middle;\n",
       "    }\n",
       "\n",
       "    .dataframe tbody tr th {\n",
       "        vertical-align: top;\n",
       "    }\n",
       "\n",
       "    .dataframe thead th {\n",
       "        text-align: right;\n",
       "    }\n",
       "</style>\n",
       "<table border=\"1\" class=\"dataframe\">\n",
       "  <thead>\n",
       "    <tr style=\"text-align: right;\">\n",
       "      <th></th>\n",
       "      <th>indv</th>\n",
       "      <th>sex</th>\n",
       "      <th>gro</th>\n",
       "      <th>filename</th>\n",
       "      <th>wavloc</th>\n",
       "      <th>tgloc</th>\n",
       "      <th>call_pos_combi</th>\n",
       "      <th>call_start</th>\n",
       "      <th>call_end</th>\n",
       "      <th>call_label</th>\n",
       "    </tr>\n",
       "  </thead>\n",
       "  <tbody>\n",
       "    <tr>\n",
       "      <th>0</th>\n",
       "      <td>MGGY</td>\n",
       "      <td>F</td>\n",
       "      <td>BWYa</td>\n",
       "      <td>BWY MGGY Call Combo 1 290719 PM</td>\n",
       "      <td>C:\\Users\\slwal\\anaconda3\\envs\\PY36\\avgn_paper-...</td>\n",
       "      <td>C:\\Users\\slwal\\anaconda3\\envs\\PY36\\avgn_paper-...</td>\n",
       "      <td>0</td>\n",
       "      <td>0.753604</td>\n",
       "      <td>0.921160</td>\n",
       "      <td>DSSHDS</td>\n",
       "    </tr>\n",
       "    <tr>\n",
       "      <th>1</th>\n",
       "      <td>MGGY</td>\n",
       "      <td>F</td>\n",
       "      <td>BWYa</td>\n",
       "      <td>BWY MGGY Call Combo 1 290719 PM</td>\n",
       "      <td>C:\\Users\\slwal\\anaconda3\\envs\\PY36\\avgn_paper-...</td>\n",
       "      <td>C:\\Users\\slwal\\anaconda3\\envs\\PY36\\avgn_paper-...</td>\n",
       "      <td>1</td>\n",
       "      <td>0.932017</td>\n",
       "      <td>1.367130</td>\n",
       "      <td>SHSHLH</td>\n",
       "    </tr>\n",
       "    <tr>\n",
       "      <th>0</th>\n",
       "      <td>MGGY</td>\n",
       "      <td>F</td>\n",
       "      <td>BWYa</td>\n",
       "      <td>BWY MGGY Call Combo 1 300719 AM</td>\n",
       "      <td>C:\\Users\\slwal\\anaconda3\\envs\\PY36\\avgn_paper-...</td>\n",
       "      <td>C:\\Users\\slwal\\anaconda3\\envs\\PY36\\avgn_paper-...</td>\n",
       "      <td>0</td>\n",
       "      <td>1.218085</td>\n",
       "      <td>1.308841</td>\n",
       "      <td>DS</td>\n",
       "    </tr>\n",
       "  </tbody>\n",
       "</table>\n",
       "</div>"
      ],
      "text/plain": [
       "   indv sex   gro                         filename  \\\n",
       "0  MGGY   F  BWYa  BWY MGGY Call Combo 1 290719 PM   \n",
       "1  MGGY   F  BWYa  BWY MGGY Call Combo 1 290719 PM   \n",
       "0  MGGY   F  BWYa  BWY MGGY Call Combo 1 300719 AM   \n",
       "\n",
       "                                              wavloc  \\\n",
       "0  C:\\Users\\slwal\\anaconda3\\envs\\PY36\\avgn_paper-...   \n",
       "1  C:\\Users\\slwal\\anaconda3\\envs\\PY36\\avgn_paper-...   \n",
       "0  C:\\Users\\slwal\\anaconda3\\envs\\PY36\\avgn_paper-...   \n",
       "\n",
       "                                               tgloc call_pos_combi  \\\n",
       "0  C:\\Users\\slwal\\anaconda3\\envs\\PY36\\avgn_paper-...              0   \n",
       "1  C:\\Users\\slwal\\anaconda3\\envs\\PY36\\avgn_paper-...              1   \n",
       "0  C:\\Users\\slwal\\anaconda3\\envs\\PY36\\avgn_paper-...              0   \n",
       "\n",
       "   call_start  call_end call_label  \n",
       "0    0.753604  0.921160     DSSHDS  \n",
       "1    0.932017  1.367130     SHSHLH  \n",
       "0    1.218085  1.308841         DS  "
      ]
     },
     "execution_count": 18,
     "metadata": {},
     "output_type": "execute_result"
    }
   ],
   "source": [
    "#view call dataframe\n",
    "call_df[:3]"
   ]
  },
  {
   "cell_type": "markdown",
   "id": "1319f457",
   "metadata": {},
   "source": [
    "### Combination Data"
   ]
  },
  {
   "cell_type": "code",
   "execution_count": 19,
   "id": "236216b3",
   "metadata": {},
   "outputs": [
    {
     "data": {
      "application/vnd.jupyter.widget-view+json": {
       "model_id": "0e5785d217d34d99852f6518cd021449",
       "version_major": 2,
       "version_minor": 0
      },
      "text/plain": [
       "  0%|          | 0/153 [00:00<?, ?it/s]"
      ]
     },
     "metadata": {},
     "output_type": "display_data"
    },
    {
     "name": "stderr",
     "output_type": "stream",
     "text": [
      "[Parallel(n_jobs=-1)]: Using backend LokyBackend with 12 concurrent workers.\n",
      "[Parallel(n_jobs=-1)]: Done   1 tasks      | elapsed:    0.0s\n",
      "[Parallel(n_jobs=-1)]: Batch computation too fast (0.0236s.) Setting batch_size=2.\n",
      "[Parallel(n_jobs=-1)]: Done   8 tasks      | elapsed:    0.0s\n",
      "[Parallel(n_jobs=-1)]: Done  17 tasks      | elapsed:    0.0s\n",
      "[Parallel(n_jobs=-1)]: Batch computation too fast (0.0715s.) Setting batch_size=4.\n",
      "[Parallel(n_jobs=-1)]: Done  28 tasks      | elapsed:    0.0s\n",
      "[Parallel(n_jobs=-1)]: Done  50 tasks      | elapsed:    0.0s\n",
      "[Parallel(n_jobs=-1)]: Done  74 tasks      | elapsed:    0.1s\n",
      "[Parallel(n_jobs=-1)]: Batch computation too fast (0.0993s.) Setting batch_size=8.\n",
      "[Parallel(n_jobs=-1)]: Done 106 tasks      | elapsed:    0.2s\n",
      "[Parallel(n_jobs=-1)]: Done 130 out of 153 | elapsed:    0.2s remaining:    0.0s\n",
      "[Parallel(n_jobs=-1)]: Done 146 out of 153 | elapsed:    0.2s remaining:    0.0s\n",
      "[Parallel(n_jobs=-1)]: Done 153 out of 153 | elapsed:    0.3s finished\n"
     ]
    }
   ],
   "source": [
    "#create textgrids again just with combi data\n",
    "with Parallel(n_jobs=-1, verbose=10) as parallel:\n",
    "    combi_df = parallel(\n",
    "        delayed(get_combis)(tg, WAVLIST, wav_stems)\n",
    "        for tg in tqdm(TGLIST)\n",
    "    )\n",
    "combi_df = pd.concat(combi_df)"
   ]
  },
  {
   "cell_type": "code",
   "execution_count": 20,
   "id": "d25c693c",
   "metadata": {},
   "outputs": [
    {
     "data": {
      "text/html": [
       "<div>\n",
       "<style scoped>\n",
       "    .dataframe tbody tr th:only-of-type {\n",
       "        vertical-align: middle;\n",
       "    }\n",
       "\n",
       "    .dataframe tbody tr th {\n",
       "        vertical-align: top;\n",
       "    }\n",
       "\n",
       "    .dataframe thead th {\n",
       "        text-align: right;\n",
       "    }\n",
       "</style>\n",
       "<table border=\"1\" class=\"dataframe\">\n",
       "  <thead>\n",
       "    <tr style=\"text-align: right;\">\n",
       "      <th></th>\n",
       "      <th>indv</th>\n",
       "      <th>sex</th>\n",
       "      <th>gro</th>\n",
       "      <th>filename</th>\n",
       "      <th>wavloc</th>\n",
       "      <th>tgloc</th>\n",
       "      <th>combi_num</th>\n",
       "      <th>combi_start</th>\n",
       "      <th>combi_end</th>\n",
       "      <th>combi_label</th>\n",
       "    </tr>\n",
       "  </thead>\n",
       "  <tbody>\n",
       "    <tr>\n",
       "      <th>0</th>\n",
       "      <td>MGGY</td>\n",
       "      <td>F</td>\n",
       "      <td>BWYa</td>\n",
       "      <td>BWY MGGY Call Combo 1 290719 P</td>\n",
       "      <td>C:\\Users\\slwal\\anaconda3\\envs\\PY36\\avgn_paper-...</td>\n",
       "      <td>C:\\Users\\slwal\\anaconda3\\envs\\PY36\\avgn_paper-...</td>\n",
       "      <td>0</td>\n",
       "      <td>0.753604</td>\n",
       "      <td>1.367130</td>\n",
       "      <td>DSSHDS SHSHLH</td>\n",
       "    </tr>\n",
       "    <tr>\n",
       "      <th>0</th>\n",
       "      <td>MGGY</td>\n",
       "      <td>F</td>\n",
       "      <td>BWYa</td>\n",
       "      <td>BWY MGGY Call Combo 1 300719 A</td>\n",
       "      <td>C:\\Users\\slwal\\anaconda3\\envs\\PY36\\avgn_paper-...</td>\n",
       "      <td>C:\\Users\\slwal\\anaconda3\\envs\\PY36\\avgn_paper-...</td>\n",
       "      <td>0</td>\n",
       "      <td>1.218085</td>\n",
       "      <td>1.984961</td>\n",
       "      <td>DS USC</td>\n",
       "    </tr>\n",
       "    <tr>\n",
       "      <th>0</th>\n",
       "      <td>MGGY</td>\n",
       "      <td>F</td>\n",
       "      <td>BWYa</td>\n",
       "      <td>BWY MGGY Discrete 1 300719 AM</td>\n",
       "      <td>C:\\Users\\slwal\\anaconda3\\envs\\PY36\\avgn_paper-...</td>\n",
       "      <td>C:\\Users\\slwal\\anaconda3\\envs\\PY36\\avgn_paper-...</td>\n",
       "      <td>0</td>\n",
       "      <td>1.244022</td>\n",
       "      <td>1.897371</td>\n",
       "      <td>DSSHDS LH</td>\n",
       "    </tr>\n",
       "    <tr>\n",
       "      <th>0</th>\n",
       "      <td>MGGY</td>\n",
       "      <td>F</td>\n",
       "      <td>BWYa</td>\n",
       "      <td>BWY MGGY Discrete 4 210519 PM</td>\n",
       "      <td>C:\\Users\\slwal\\anaconda3\\envs\\PY36\\avgn_paper-...</td>\n",
       "      <td>C:\\Users\\slwal\\anaconda3\\envs\\PY36\\avgn_paper-...</td>\n",
       "      <td>0</td>\n",
       "      <td>0.306330</td>\n",
       "      <td>0.927264</td>\n",
       "      <td>DSSHDS SHLH</td>\n",
       "    </tr>\n",
       "    <tr>\n",
       "      <th>0</th>\n",
       "      <td>MGGY</td>\n",
       "      <td>F</td>\n",
       "      <td>BWYa</td>\n",
       "      <td>BWY MGGY Discrete 6 210519 PM</td>\n",
       "      <td>C:\\Users\\slwal\\anaconda3\\envs\\PY36\\avgn_paper-...</td>\n",
       "      <td>C:\\Users\\slwal\\anaconda3\\envs\\PY36\\avgn_paper-...</td>\n",
       "      <td>0</td>\n",
       "      <td>0.158063</td>\n",
       "      <td>0.503686</td>\n",
       "      <td>DSSHDS SHLH</td>\n",
       "    </tr>\n",
       "    <tr>\n",
       "      <th>0</th>\n",
       "      <td>MGGY</td>\n",
       "      <td>F</td>\n",
       "      <td>BWYa</td>\n",
       "      <td>BWY MGGY Excitement 2 170519 P</td>\n",
       "      <td>C:\\Users\\slwal\\anaconda3\\envs\\PY36\\avgn_paper-...</td>\n",
       "      <td>C:\\Users\\slwal\\anaconda3\\envs\\PY36\\avgn_paper-...</td>\n",
       "      <td>0</td>\n",
       "      <td>0.057590</td>\n",
       "      <td>0.535485</td>\n",
       "      <td>DSSHDS NLSHDS</td>\n",
       "    </tr>\n",
       "  </tbody>\n",
       "</table>\n",
       "</div>"
      ],
      "text/plain": [
       "   indv sex   gro                        filename  \\\n",
       "0  MGGY   F  BWYa  BWY MGGY Call Combo 1 290719 P   \n",
       "0  MGGY   F  BWYa  BWY MGGY Call Combo 1 300719 A   \n",
       "0  MGGY   F  BWYa   BWY MGGY Discrete 1 300719 AM   \n",
       "0  MGGY   F  BWYa   BWY MGGY Discrete 4 210519 PM   \n",
       "0  MGGY   F  BWYa   BWY MGGY Discrete 6 210519 PM   \n",
       "0  MGGY   F  BWYa  BWY MGGY Excitement 2 170519 P   \n",
       "\n",
       "                                              wavloc  \\\n",
       "0  C:\\Users\\slwal\\anaconda3\\envs\\PY36\\avgn_paper-...   \n",
       "0  C:\\Users\\slwal\\anaconda3\\envs\\PY36\\avgn_paper-...   \n",
       "0  C:\\Users\\slwal\\anaconda3\\envs\\PY36\\avgn_paper-...   \n",
       "0  C:\\Users\\slwal\\anaconda3\\envs\\PY36\\avgn_paper-...   \n",
       "0  C:\\Users\\slwal\\anaconda3\\envs\\PY36\\avgn_paper-...   \n",
       "0  C:\\Users\\slwal\\anaconda3\\envs\\PY36\\avgn_paper-...   \n",
       "\n",
       "                                               tgloc combi_num  combi_start  \\\n",
       "0  C:\\Users\\slwal\\anaconda3\\envs\\PY36\\avgn_paper-...         0     0.753604   \n",
       "0  C:\\Users\\slwal\\anaconda3\\envs\\PY36\\avgn_paper-...         0     1.218085   \n",
       "0  C:\\Users\\slwal\\anaconda3\\envs\\PY36\\avgn_paper-...         0     1.244022   \n",
       "0  C:\\Users\\slwal\\anaconda3\\envs\\PY36\\avgn_paper-...         0     0.306330   \n",
       "0  C:\\Users\\slwal\\anaconda3\\envs\\PY36\\avgn_paper-...         0     0.158063   \n",
       "0  C:\\Users\\slwal\\anaconda3\\envs\\PY36\\avgn_paper-...         0     0.057590   \n",
       "\n",
       "   combi_end    combi_label  \n",
       "0   1.367130  DSSHDS SHSHLH  \n",
       "0   1.984961         DS USC  \n",
       "0   1.897371      DSSHDS LH  \n",
       "0   0.927264    DSSHDS SHLH  \n",
       "0   0.503686    DSSHDS SHLH  \n",
       "0   0.535485  DSSHDS NLSHDS  "
      ]
     },
     "execution_count": 20,
     "metadata": {},
     "output_type": "execute_result"
    }
   ],
   "source": [
    "combi_df[:6]"
   ]
  },
  {
   "cell_type": "code",
   "execution_count": null,
   "id": "ef8fe68a",
   "metadata": {
    "scrolled": true
   },
   "outputs": [],
   "source": []
  },
  {
   "cell_type": "markdown",
   "id": "6bc7061d",
   "metadata": {},
   "source": [
    "## Put all data into SQL database\n",
    "In order to combine segment and call data for each combination "
   ]
  },
  {
   "cell_type": "code",
   "execution_count": 21,
   "id": "fdfb36e7",
   "metadata": {},
   "outputs": [],
   "source": [
    "import sqlite3 as sql"
   ]
  },
  {
   "cell_type": "code",
   "execution_count": 22,
   "id": "5a20850d",
   "metadata": {},
   "outputs": [],
   "source": [
    "con = sql.connect('magpie_gitrepos.db')"
   ]
  },
  {
   "cell_type": "code",
   "execution_count": 23,
   "id": "31ff3e4f",
   "metadata": {},
   "outputs": [],
   "source": [
    "#turn dataframes into string\n",
    "seg_df = seg_df.applymap(str)\n",
    "call_df = call_df.applymap(str)\n",
    "combi_df = combi_df.applymap(str)"
   ]
  },
  {
   "cell_type": "code",
   "execution_count": 24,
   "id": "6af1b369",
   "metadata": {},
   "outputs": [],
   "source": [
    "#connect string dataframes to SQL database\n",
    "seg_df.to_sql('segs', con)\n",
    "call_df.to_sql('calls', con)\n",
    "combi_df.to_sql('combis', con)"
   ]
  },
  {
   "cell_type": "code",
   "execution_count": 25,
   "id": "03dd9856",
   "metadata": {},
   "outputs": [
    {
     "name": "stdout",
     "output_type": "stream",
     "text": [
      "     New_ID    indv  gro, sex  \\\n",
      "0         0    MGGY  BWYa   F   \n",
      "1         1    MGGY  BWYa   F   \n",
      "2         2    MGGY  BWYa   F   \n",
      "3         3    MGGY  BWYa   F   \n",
      "4         4    MGGY  BWYa   F   \n",
      "...     ...     ...   ...  ..   \n",
      "1642   1642  MXXGRY    SS   F   \n",
      "1643   1643  MXXGRY    SS   F   \n",
      "1644   1644  MXXGRY    SS   F   \n",
      "1645   1645  MXXGRY    SS   F   \n",
      "1646   1646  MXXGRY    SS   F   \n",
      "\n",
      "                                                 wavloc  \\\n",
      "0     C:\\Users\\slwal\\anaconda3\\envs\\PY36\\avgn_paper-...   \n",
      "1     C:\\Users\\slwal\\anaconda3\\envs\\PY36\\avgn_paper-...   \n",
      "2     C:\\Users\\slwal\\anaconda3\\envs\\PY36\\avgn_paper-...   \n",
      "3     C:\\Users\\slwal\\anaconda3\\envs\\PY36\\avgn_paper-...   \n",
      "4     C:\\Users\\slwal\\anaconda3\\envs\\PY36\\avgn_paper-...   \n",
      "...                                                 ...   \n",
      "1642  C:\\Users\\slwal\\anaconda3\\envs\\PY36\\avgn_paper-...   \n",
      "1643  C:\\Users\\slwal\\anaconda3\\envs\\PY36\\avgn_paper-...   \n",
      "1644  C:\\Users\\slwal\\anaconda3\\envs\\PY36\\avgn_paper-...   \n",
      "1645  C:\\Users\\slwal\\anaconda3\\envs\\PY36\\avgn_paper-...   \n",
      "1646  C:\\Users\\slwal\\anaconda3\\envs\\PY36\\avgn_paper-...   \n",
      "\n",
      "                                               filename  \n",
      "0                       BWY MGGY Call Combo 1 290719 PM  \n",
      "1                       BWY MGGY Call Combo 1 290719 PM  \n",
      "2                       BWY MGGY Call Combo 1 290719 PM  \n",
      "3                       BWY MGGY Call Combo 1 290719 PM  \n",
      "4                       BWY MGGY Call Combo 1 290719 PM  \n",
      "...                                                 ...  \n",
      "1642  SS MXXGRY XXXX JUVENILE Call Combination Serie...  \n",
      "1643  SS MXXGRY XXXX JUVENILE Call Combination Serie...  \n",
      "1644  SS MXXGRY XXXX JUVENILE Call Combination Serie...  \n",
      "1645  SS MXXGRY XXXX JUVENILE Call Combination Serie...  \n",
      "1646  SS MXXGRY XXXX JUVENILE Call Combination Serie...  \n",
      "\n",
      "[1647 rows x 6 columns]\n"
     ]
    }
   ],
   "source": [
    "#first I create dataframe with just ID information - to reduce duplications when combining all data\n",
    "con = con\n",
    "c = con.cursor()\n",
    "\n",
    "c.execute(\"\"\"\n",
    "    SELECT DISTINCT New_ID, indv, gro, sex, wavloc, filename\n",
    "    FROM segs\n",
    "    \"\"\")\n",
    "\n",
    "IDdf = pd.DataFrame(c.fetchall(), columns = ['New_ID', 'indv', 'gro', 'sex', 'wavloc', 'filename'])\n",
    "print(IDdf)"
   ]
  },
  {
   "cell_type": "code",
   "execution_count": 26,
   "id": "d0341efc",
   "metadata": {},
   "outputs": [
    {
     "data": {
      "text/html": [
       "<div>\n",
       "<style scoped>\n",
       "    .dataframe tbody tr th:only-of-type {\n",
       "        vertical-align: middle;\n",
       "    }\n",
       "\n",
       "    .dataframe tbody tr th {\n",
       "        vertical-align: top;\n",
       "    }\n",
       "\n",
       "    .dataframe thead th {\n",
       "        text-align: right;\n",
       "    }\n",
       "</style>\n",
       "<table border=\"1\" class=\"dataframe\">\n",
       "  <thead>\n",
       "    <tr style=\"text-align: right;\">\n",
       "      <th></th>\n",
       "      <th>New_ID</th>\n",
       "      <th>indv</th>\n",
       "      <th>gro,</th>\n",
       "      <th>sex</th>\n",
       "      <th>wavloc</th>\n",
       "      <th>filename</th>\n",
       "    </tr>\n",
       "  </thead>\n",
       "  <tbody>\n",
       "    <tr>\n",
       "      <th>0</th>\n",
       "      <td>0</td>\n",
       "      <td>MGGY</td>\n",
       "      <td>BWYa</td>\n",
       "      <td>F</td>\n",
       "      <td>C:\\Users\\slwal\\anaconda3\\envs\\PY36\\avgn_paper-...</td>\n",
       "      <td>BWY MGGY Call Combo 1 290719 PM</td>\n",
       "    </tr>\n",
       "    <tr>\n",
       "      <th>1</th>\n",
       "      <td>1</td>\n",
       "      <td>MGGY</td>\n",
       "      <td>BWYa</td>\n",
       "      <td>F</td>\n",
       "      <td>C:\\Users\\slwal\\anaconda3\\envs\\PY36\\avgn_paper-...</td>\n",
       "      <td>BWY MGGY Call Combo 1 290719 PM</td>\n",
       "    </tr>\n",
       "    <tr>\n",
       "      <th>2</th>\n",
       "      <td>2</td>\n",
       "      <td>MGGY</td>\n",
       "      <td>BWYa</td>\n",
       "      <td>F</td>\n",
       "      <td>C:\\Users\\slwal\\anaconda3\\envs\\PY36\\avgn_paper-...</td>\n",
       "      <td>BWY MGGY Call Combo 1 290719 PM</td>\n",
       "    </tr>\n",
       "    <tr>\n",
       "      <th>3</th>\n",
       "      <td>3</td>\n",
       "      <td>MGGY</td>\n",
       "      <td>BWYa</td>\n",
       "      <td>F</td>\n",
       "      <td>C:\\Users\\slwal\\anaconda3\\envs\\PY36\\avgn_paper-...</td>\n",
       "      <td>BWY MGGY Call Combo 1 290719 PM</td>\n",
       "    </tr>\n",
       "    <tr>\n",
       "      <th>4</th>\n",
       "      <td>4</td>\n",
       "      <td>MGGY</td>\n",
       "      <td>BWYa</td>\n",
       "      <td>F</td>\n",
       "      <td>C:\\Users\\slwal\\anaconda3\\envs\\PY36\\avgn_paper-...</td>\n",
       "      <td>BWY MGGY Call Combo 1 290719 PM</td>\n",
       "    </tr>\n",
       "    <tr>\n",
       "      <th>5</th>\n",
       "      <td>5</td>\n",
       "      <td>MGGY</td>\n",
       "      <td>BWYa</td>\n",
       "      <td>F</td>\n",
       "      <td>C:\\Users\\slwal\\anaconda3\\envs\\PY36\\avgn_paper-...</td>\n",
       "      <td>BWY MGGY Call Combo 1 290719 PM</td>\n",
       "    </tr>\n",
       "    <tr>\n",
       "      <th>6</th>\n",
       "      <td>6</td>\n",
       "      <td>MGGY</td>\n",
       "      <td>BWYa</td>\n",
       "      <td>F</td>\n",
       "      <td>C:\\Users\\slwal\\anaconda3\\envs\\PY36\\avgn_paper-...</td>\n",
       "      <td>BWY MGGY Call Combo 1 300719 AM</td>\n",
       "    </tr>\n",
       "    <tr>\n",
       "      <th>7</th>\n",
       "      <td>7</td>\n",
       "      <td>MGGY</td>\n",
       "      <td>BWYa</td>\n",
       "      <td>F</td>\n",
       "      <td>C:\\Users\\slwal\\anaconda3\\envs\\PY36\\avgn_paper-...</td>\n",
       "      <td>BWY MGGY Call Combo 1 300719 AM</td>\n",
       "    </tr>\n",
       "  </tbody>\n",
       "</table>\n",
       "</div>"
      ],
      "text/plain": [
       "  New_ID  indv  gro, sex                                             wavloc  \\\n",
       "0      0  MGGY  BWYa   F  C:\\Users\\slwal\\anaconda3\\envs\\PY36\\avgn_paper-...   \n",
       "1      1  MGGY  BWYa   F  C:\\Users\\slwal\\anaconda3\\envs\\PY36\\avgn_paper-...   \n",
       "2      2  MGGY  BWYa   F  C:\\Users\\slwal\\anaconda3\\envs\\PY36\\avgn_paper-...   \n",
       "3      3  MGGY  BWYa   F  C:\\Users\\slwal\\anaconda3\\envs\\PY36\\avgn_paper-...   \n",
       "4      4  MGGY  BWYa   F  C:\\Users\\slwal\\anaconda3\\envs\\PY36\\avgn_paper-...   \n",
       "5      5  MGGY  BWYa   F  C:\\Users\\slwal\\anaconda3\\envs\\PY36\\avgn_paper-...   \n",
       "6      6  MGGY  BWYa   F  C:\\Users\\slwal\\anaconda3\\envs\\PY36\\avgn_paper-...   \n",
       "7      7  MGGY  BWYa   F  C:\\Users\\slwal\\anaconda3\\envs\\PY36\\avgn_paper-...   \n",
       "\n",
       "                          filename  \n",
       "0  BWY MGGY Call Combo 1 290719 PM  \n",
       "1  BWY MGGY Call Combo 1 290719 PM  \n",
       "2  BWY MGGY Call Combo 1 290719 PM  \n",
       "3  BWY MGGY Call Combo 1 290719 PM  \n",
       "4  BWY MGGY Call Combo 1 290719 PM  \n",
       "5  BWY MGGY Call Combo 1 290719 PM  \n",
       "6  BWY MGGY Call Combo 1 300719 AM  \n",
       "7  BWY MGGY Call Combo 1 300719 AM  "
      ]
     },
     "execution_count": 26,
     "metadata": {},
     "output_type": "execute_result"
    }
   ],
   "source": [
    "IDdf = pd.DataFrame(IDdf)\n",
    "IDdf[:8]"
   ]
  },
  {
   "cell_type": "code",
   "execution_count": 27,
   "id": "c6225acc",
   "metadata": {},
   "outputs": [
    {
     "data": {
      "text/plain": [
       "1647"
      ]
     },
     "execution_count": 27,
     "metadata": {},
     "output_type": "execute_result"
    }
   ],
   "source": [
    "#how many rows? >1647 means there are duplicates\n",
    "len(IDdf[:])"
   ]
  },
  {
   "cell_type": "code",
   "execution_count": 28,
   "id": "59dd5e70",
   "metadata": {},
   "outputs": [
    {
     "name": "stdout",
     "output_type": "stream",
     "text": [
      "     New_ID                                           filename seg_label  \\\n",
      "0         0                    BWY MGGY Call Combo 1 290719 PM        DS   \n",
      "1         1                    BWY MGGY Call Combo 1 290719 PM        SH   \n",
      "2         2                    BWY MGGY Call Combo 1 290719 PM        DS   \n",
      "3         3                    BWY MGGY Call Combo 1 290719 PM        SH   \n",
      "4         4                    BWY MGGY Call Combo 1 290719 PM        SH   \n",
      "...     ...                                                ...       ...   \n",
      "2515   1642  SS MXXGRY XXXX JUVENILE Call Combination Serie...        DS   \n",
      "2516   1643  SS MXXGRY XXXX JUVENILE Call Combination Serie...        SH   \n",
      "2517   1644  SS MXXGRY XXXX JUVENILE Call Combination Serie...        DS   \n",
      "2518   1645  SS MXXGRY XXXX JUVENILE Call Combination Serie...        LH   \n",
      "2519   1646  SS MXXGRY XXXX JUVENILE Call Combination Serie...        DS   \n",
      "\n",
      "                seg_start              seg_end call_label  \\\n",
      "0      0.7536043330872654   0.7767728702775286     DSSHDS   \n",
      "1      0.7868652657285787   0.8351645868157468     DSSHDS   \n",
      "2      0.8559414646395095   0.9211598748571118     DSSHDS   \n",
      "3       0.932017364606172   0.9428748543552322     SHSHLH   \n",
      "4      0.9515608461544803   0.9801005334948671     SHSHLH   \n",
      "...                   ...                  ...        ...   \n",
      "2515   1.3783233967217097   1.4154765414969186       LHDS   \n",
      "2516  0.11203559171039924  0.13821088044198915       SHDS   \n",
      "2517   0.1588239203181162   0.2389857420586103       SHDS   \n",
      "2518   0.2952626128315286  0.47456334064291955       LHDS   \n",
      "2519   0.4784896339526581    0.512517509303725       LHDS   \n",
      "\n",
      "               call_start            call_end    combi_label  \\\n",
      "0      0.7536043330872654  0.9211598748571118  DSSHDS SHSHLH   \n",
      "1      0.7536043330872654  0.9211598748571118  DSSHDS SHSHLH   \n",
      "2      0.7536043330872654  0.9211598748571118  DSSHDS SHSHLH   \n",
      "3       0.932017364606172  1.3671299042471126  DSSHDS SHSHLH   \n",
      "4       0.932017364606172  1.3671299042471126  DSSHDS SHSHLH   \n",
      "...                   ...                 ...            ...   \n",
      "2515   1.2187024784282199  1.4154765414969186      SHDS LHDS   \n",
      "2516  0.11203559171039924  0.2389857420586103      SHDS LHDS   \n",
      "2517  0.11203559171039924  0.2389857420586103      SHDS LHDS   \n",
      "2518   0.2952626128315286   0.512517509303725      SHDS LHDS   \n",
      "2519   0.2952626128315286   0.512517509303725      SHDS LHDS   \n",
      "\n",
      "              combi_start           combi_end  \n",
      "0      0.7536043330872654  1.3671299042471126  \n",
      "1      0.7536043330872654  1.3671299042471126  \n",
      "2      0.7536043330872654  1.3671299042471126  \n",
      "3      0.7536043330872654  1.3671299042471126  \n",
      "4      0.7536043330872654  1.3671299042471126  \n",
      "...                   ...                 ...  \n",
      "2515   1.0182589689619694  1.4154765414969186  \n",
      "2516  0.11203559171039924   0.512517509303725  \n",
      "2517  0.11203559171039924   0.512517509303725  \n",
      "2518  0.11203559171039924   0.512517509303725  \n",
      "2519  0.11203559171039924   0.512517509303725  \n",
      "\n",
      "[2520 rows x 11 columns]\n"
     ]
    }
   ],
   "source": [
    "#dataframe containing start and end times\n",
    "\n",
    "con = con\n",
    "c = con.cursor()\n",
    "\n",
    "c.execute(\"\"\"\n",
    "    SELECT DISTINCT New_ID, segs.filename, seg_label, seg_start, seg_end, call_label, call_start, call_end, combi_label, combi_start, combi_end\n",
    "    FROM segs\n",
    "    LEFT JOIN calls ON (segs.wavloc == calls.wavloc AND segs.seg_start >= calls.call_start AND segs.seg_end <= calls.call_end)\n",
    "    LEFT JOIN combis ON (segs.wavloc == combis.wavloc AND segs.seg_start >= combis.combi_start AND segs.seg_end <= combis.combi_end)\n",
    "    \"\"\")\n",
    "\n",
    "df = pd.DataFrame(c.fetchall(), columns = ['New_ID', 'filename', 'seg_label', 'seg_start', 'seg_end', 'call_label', 'call_start', 'call_end', 'combi_label', 'combi_start', 'combi_end'])\n",
    "print(df)\n"
   ]
  },
  {
   "cell_type": "code",
   "execution_count": 29,
   "id": "4be96fd4",
   "metadata": {},
   "outputs": [
    {
     "data": {
      "text/html": [
       "<div>\n",
       "<style scoped>\n",
       "    .dataframe tbody tr th:only-of-type {\n",
       "        vertical-align: middle;\n",
       "    }\n",
       "\n",
       "    .dataframe tbody tr th {\n",
       "        vertical-align: top;\n",
       "    }\n",
       "\n",
       "    .dataframe thead th {\n",
       "        text-align: right;\n",
       "    }\n",
       "</style>\n",
       "<table border=\"1\" class=\"dataframe\">\n",
       "  <thead>\n",
       "    <tr style=\"text-align: right;\">\n",
       "      <th></th>\n",
       "      <th>New_ID</th>\n",
       "      <th>filename</th>\n",
       "      <th>seg_label</th>\n",
       "      <th>seg_start</th>\n",
       "      <th>seg_end</th>\n",
       "      <th>call_label</th>\n",
       "      <th>call_start</th>\n",
       "      <th>call_end</th>\n",
       "      <th>combi_label</th>\n",
       "      <th>combi_start</th>\n",
       "      <th>combi_end</th>\n",
       "    </tr>\n",
       "  </thead>\n",
       "  <tbody>\n",
       "    <tr>\n",
       "      <th>0</th>\n",
       "      <td>0</td>\n",
       "      <td>BWY MGGY Call Combo 1 290719 PM</td>\n",
       "      <td>DS</td>\n",
       "      <td>0.7536043330872654</td>\n",
       "      <td>0.7767728702775286</td>\n",
       "      <td>DSSHDS</td>\n",
       "      <td>0.7536043330872654</td>\n",
       "      <td>0.9211598748571118</td>\n",
       "      <td>DSSHDS SHSHLH</td>\n",
       "      <td>0.7536043330872654</td>\n",
       "      <td>1.3671299042471126</td>\n",
       "    </tr>\n",
       "    <tr>\n",
       "      <th>1</th>\n",
       "      <td>1</td>\n",
       "      <td>BWY MGGY Call Combo 1 290719 PM</td>\n",
       "      <td>SH</td>\n",
       "      <td>0.7868652657285787</td>\n",
       "      <td>0.8351645868157468</td>\n",
       "      <td>DSSHDS</td>\n",
       "      <td>0.7536043330872654</td>\n",
       "      <td>0.9211598748571118</td>\n",
       "      <td>DSSHDS SHSHLH</td>\n",
       "      <td>0.7536043330872654</td>\n",
       "      <td>1.3671299042471126</td>\n",
       "    </tr>\n",
       "    <tr>\n",
       "      <th>2</th>\n",
       "      <td>2</td>\n",
       "      <td>BWY MGGY Call Combo 1 290719 PM</td>\n",
       "      <td>DS</td>\n",
       "      <td>0.8559414646395095</td>\n",
       "      <td>0.9211598748571118</td>\n",
       "      <td>DSSHDS</td>\n",
       "      <td>0.7536043330872654</td>\n",
       "      <td>0.9211598748571118</td>\n",
       "      <td>DSSHDS SHSHLH</td>\n",
       "      <td>0.7536043330872654</td>\n",
       "      <td>1.3671299042471126</td>\n",
       "    </tr>\n",
       "  </tbody>\n",
       "</table>\n",
       "</div>"
      ],
      "text/plain": [
       "  New_ID                         filename seg_label           seg_start  \\\n",
       "0      0  BWY MGGY Call Combo 1 290719 PM        DS  0.7536043330872654   \n",
       "1      1  BWY MGGY Call Combo 1 290719 PM        SH  0.7868652657285787   \n",
       "2      2  BWY MGGY Call Combo 1 290719 PM        DS  0.8559414646395095   \n",
       "\n",
       "              seg_end call_label          call_start            call_end  \\\n",
       "0  0.7767728702775286     DSSHDS  0.7536043330872654  0.9211598748571118   \n",
       "1  0.8351645868157468     DSSHDS  0.7536043330872654  0.9211598748571118   \n",
       "2  0.9211598748571118     DSSHDS  0.7536043330872654  0.9211598748571118   \n",
       "\n",
       "     combi_label         combi_start           combi_end  \n",
       "0  DSSHDS SHSHLH  0.7536043330872654  1.3671299042471126  \n",
       "1  DSSHDS SHSHLH  0.7536043330872654  1.3671299042471126  \n",
       "2  DSSHDS SHSHLH  0.7536043330872654  1.3671299042471126  "
      ]
     },
     "execution_count": 29,
     "metadata": {},
     "output_type": "execute_result"
    }
   ],
   "source": [
    "alldf = pd.DataFrame(df)\n",
    "alldf[:3]"
   ]
  },
  {
   "cell_type": "code",
   "execution_count": 30,
   "id": "900b5252",
   "metadata": {},
   "outputs": [
    {
     "data": {
      "text/plain": [
       "2520"
      ]
     },
     "execution_count": 30,
     "metadata": {},
     "output_type": "execute_result"
    }
   ],
   "source": [
    "#how many rows? if >1647 there are duplicates which can be fixed in the next step\n",
    "len(alldf[:])"
   ]
  },
  {
   "cell_type": "markdown",
   "id": "a2f63c6b",
   "metadata": {},
   "source": [
    "## Turn dataframes into csv for processing\n",
    "Easily allows combining the data from both dataframes and checking for any errors/duplicates that might have occurred during processing. "
   ]
  },
  {
   "cell_type": "code",
   "execution_count": 31,
   "id": "71e53741",
   "metadata": {},
   "outputs": [
    {
     "data": {
      "text/plain": [
       "WindowsPath('C:/Users/slwal/anaconda3/envs/PY36/avgn_paper-2/data')"
      ]
     },
     "execution_count": 31,
     "metadata": {},
     "output_type": "execute_result"
    }
   ],
   "source": [
    "#check data directory path\n",
    "DATA_DIR"
   ]
  },
  {
   "cell_type": "code",
   "execution_count": 32,
   "id": "8163c504",
   "metadata": {},
   "outputs": [],
   "source": [
    "save_loc = DATA_DIR / DATASET_ID / 'startendtimes_df_to_csv.csv'\n",
    "ensure_dir(save_loc.as_posix())\n",
    "alldf.to_csv(save_loc)"
   ]
  },
  {
   "cell_type": "code",
   "execution_count": 33,
   "id": "992dc32b",
   "metadata": {},
   "outputs": [],
   "source": [
    "save_loc = DATA_DIR / DATASET_ID / 'ID_df_to_csv.csv'\n",
    "ensure_dir(save_loc)\n",
    "IDdf.to_csv(save_loc)"
   ]
  },
  {
   "cell_type": "code",
   "execution_count": null,
   "id": "322d3d0d",
   "metadata": {
    "scrolled": true
   },
   "outputs": [],
   "source": []
  },
  {
   "cell_type": "code",
   "execution_count": null,
   "id": "85519b30",
   "metadata": {},
   "outputs": [],
   "source": []
  },
  {
   "cell_type": "code",
   "execution_count": null,
   "id": "a91916aa",
   "metadata": {},
   "outputs": [],
   "source": []
  },
  {
   "cell_type": "code",
   "execution_count": null,
   "id": "617df0eb",
   "metadata": {},
   "outputs": [],
   "source": []
  }
 ],
 "metadata": {
  "kernelspec": {
   "display_name": "Python 3",
   "language": "python",
   "name": "python3"
  },
  "language_info": {
   "codemirror_mode": {
    "name": "ipython",
    "version": 3
   },
   "file_extension": ".py",
   "mimetype": "text/x-python",
   "name": "python",
   "nbconvert_exporter": "python",
   "pygments_lexer": "ipython3",
   "version": "3.6.13"
  }
 },
 "nbformat": 4,
 "nbformat_minor": 5
}
