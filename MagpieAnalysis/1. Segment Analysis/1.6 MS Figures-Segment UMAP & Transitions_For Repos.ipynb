{
 "cells": [
  {
   "cell_type": "markdown",
   "id": "6db7034b",
   "metadata": {},
   "source": [
    "# Markov Modelling\n",
    "The following notebook uses markov modelling to determine transition probabilities for segments within calls, depending on the immediately preceding segment. See [Sainburg et al., (2020)](https://doi.org/10.1371/journal.pcbi.1008228) and [github.com/timsainb/avgn](https://github.com/timsainb/avgn_paper) for further detail on this process.\n",
    "\n",
    "This notebook uses Python v3.8.13 (compared to v3.6 used in earlier notebooks)."
   ]
  },
  {
   "cell_type": "code",
   "execution_count": 15,
   "id": "3eb7df06",
   "metadata": {},
   "outputs": [],
   "source": [
    "from tqdm.auto import tqdm"
   ]
  },
  {
   "cell_type": "code",
   "execution_count": 1,
   "id": "95d3583e",
   "metadata": {},
   "outputs": [
    {
     "name": "stderr",
     "output_type": "stream",
     "text": [
      "c:\\users\\slwal\\anaconda3\\envs\\py36\\avgn_paper-2\\avgn\\utils\\general.py:8: TqdmExperimentalWarning: Using `tqdm.autonotebook.tqdm` in notebook mode. Use `tqdm.tqdm` instead to force console mode (e.g. in jupyter console)\n",
      "  from tqdm.autonotebook import tqdm\n"
     ]
    }
   ],
   "source": [
    "import avgn"
   ]
  },
  {
   "cell_type": "code",
   "execution_count": 2,
   "id": "45d2b615",
   "metadata": {},
   "outputs": [],
   "source": [
    "import pandas as pd\n",
    "import numpy as np\n",
    "from avgn.utils.paths import DATA_DIR, ensure_dir, FIGURE_DIR"
   ]
  },
  {
   "cell_type": "code",
   "execution_count": 3,
   "id": "8c490d14",
   "metadata": {},
   "outputs": [],
   "source": [
    "DATASET_ID = \"git_repos\""
   ]
  },
  {
   "cell_type": "code",
   "execution_count": 4,
   "id": "04ec6e42",
   "metadata": {},
   "outputs": [],
   "source": [
    "DT_ID = '2022-03-04_18-41-29'"
   ]
  },
  {
   "cell_type": "code",
   "execution_count": 5,
   "id": "eb28146d",
   "metadata": {},
   "outputs": [
    {
     "data": {
      "text/html": [
       "<div>\n",
       "<style scoped>\n",
       "    .dataframe tbody tr th:only-of-type {\n",
       "        vertical-align: middle;\n",
       "    }\n",
       "\n",
       "    .dataframe tbody tr th {\n",
       "        vertical-align: top;\n",
       "    }\n",
       "\n",
       "    .dataframe thead th {\n",
       "        text-align: right;\n",
       "    }\n",
       "</style>\n",
       "<table border=\"1\" class=\"dataframe\">\n",
       "  <thead>\n",
       "    <tr style=\"text-align: right;\">\n",
       "      <th></th>\n",
       "      <th>start_time</th>\n",
       "      <th>end_time</th>\n",
       "      <th>labels</th>\n",
       "      <th>ID</th>\n",
       "      <th>start_times</th>\n",
       "      <th>end_times</th>\n",
       "      <th>call_label</th>\n",
       "      <th>call_start</th>\n",
       "      <th>seg_pos_call</th>\n",
       "      <th>call_unique_num</th>\n",
       "      <th>...</th>\n",
       "      <th>location</th>\n",
       "      <th>sex</th>\n",
       "      <th>wav_loc</th>\n",
       "      <th>key</th>\n",
       "      <th>rate</th>\n",
       "      <th>specs</th>\n",
       "      <th>umap</th>\n",
       "      <th>comb_labels</th>\n",
       "      <th>call_lab_simp</th>\n",
       "      <th>combi_lab_simp</th>\n",
       "    </tr>\n",
       "  </thead>\n",
       "  <tbody>\n",
       "    <tr>\n",
       "      <th>0</th>\n",
       "      <td>0.753604</td>\n",
       "      <td>0.776773</td>\n",
       "      <td>DS</td>\n",
       "      <td>0</td>\n",
       "      <td>0.753604</td>\n",
       "      <td>0.776773</td>\n",
       "      <td>DSSHDS</td>\n",
       "      <td>0.753604</td>\n",
       "      <td>0</td>\n",
       "      <td>0</td>\n",
       "      <td>...</td>\n",
       "      <td>CRAWLEY</td>\n",
       "      <td>F</td>\n",
       "      <td>C:/Users/slwal/anaconda3/envs/PY36/avgn_paper-...</td>\n",
       "      <td>BWY MGGY Call Combo 1 290719 PM</td>\n",
       "      <td>44100</td>\n",
       "      <td>[[0.0, 0.0, 0.0, 0.0, 0.0, 0.0, 0.0, 0.0, 0.0,...</td>\n",
       "      <td>[14.15081, 3.406464]</td>\n",
       "      <td>DS</td>\n",
       "      <td>DS-SH-DS</td>\n",
       "      <td>DS-SH-DS SH-LH</td>\n",
       "    </tr>\n",
       "    <tr>\n",
       "      <th>1</th>\n",
       "      <td>0.786865</td>\n",
       "      <td>0.835165</td>\n",
       "      <td>SH</td>\n",
       "      <td>1</td>\n",
       "      <td>0.786865</td>\n",
       "      <td>0.835165</td>\n",
       "      <td>DSSHDS</td>\n",
       "      <td>0.753604</td>\n",
       "      <td>1</td>\n",
       "      <td>0</td>\n",
       "      <td>...</td>\n",
       "      <td>CRAWLEY</td>\n",
       "      <td>F</td>\n",
       "      <td>C:/Users/slwal/anaconda3/envs/PY36/avgn_paper-...</td>\n",
       "      <td>BWY MGGY Call Combo 1 290719 PM</td>\n",
       "      <td>44100</td>\n",
       "      <td>[[0.0, 0.0, 0.0, 0.0, 0.0, 0.0, 0.0, 0.0, 0.0,...</td>\n",
       "      <td>[5.388335, 10.057652]</td>\n",
       "      <td>SH</td>\n",
       "      <td>DS-SH-DS</td>\n",
       "      <td>DS-SH-DS SH-LH</td>\n",
       "    </tr>\n",
       "    <tr>\n",
       "      <th>2</th>\n",
       "      <td>0.855941</td>\n",
       "      <td>0.921160</td>\n",
       "      <td>DS</td>\n",
       "      <td>2</td>\n",
       "      <td>0.855941</td>\n",
       "      <td>0.921160</td>\n",
       "      <td>DSSHDS</td>\n",
       "      <td>0.753604</td>\n",
       "      <td>2</td>\n",
       "      <td>0</td>\n",
       "      <td>...</td>\n",
       "      <td>CRAWLEY</td>\n",
       "      <td>F</td>\n",
       "      <td>C:/Users/slwal/anaconda3/envs/PY36/avgn_paper-...</td>\n",
       "      <td>BWY MGGY Call Combo 1 290719 PM</td>\n",
       "      <td>44100</td>\n",
       "      <td>[[0.0, 0.0, 0.0, 0.0, 0.0, 0.0, 0.0, 0.0, 0.0,...</td>\n",
       "      <td>[12.421062, 0.6991728]</td>\n",
       "      <td>DS</td>\n",
       "      <td>DS-SH-DS</td>\n",
       "      <td>DS-SH-DS SH-LH</td>\n",
       "    </tr>\n",
       "  </tbody>\n",
       "</table>\n",
       "<p>3 rows × 29 columns</p>\n",
       "</div>"
      ],
      "text/plain": [
       "   start_time  end_time labels  ID  start_times  end_times call_label  \\\n",
       "0    0.753604  0.776773     DS   0     0.753604   0.776773     DSSHDS   \n",
       "1    0.786865  0.835165     SH   1     0.786865   0.835165     DSSHDS   \n",
       "2    0.855941  0.921160     DS   2     0.855941   0.921160     DSSHDS   \n",
       "\n",
       "   call_start  seg_pos_call  call_unique_num  ...  location sex  \\\n",
       "0    0.753604             0                0  ...   CRAWLEY   F   \n",
       "1    0.753604             1                0  ...   CRAWLEY   F   \n",
       "2    0.753604             2                0  ...   CRAWLEY   F   \n",
       "\n",
       "                                             wav_loc  \\\n",
       "0  C:/Users/slwal/anaconda3/envs/PY36/avgn_paper-...   \n",
       "1  C:/Users/slwal/anaconda3/envs/PY36/avgn_paper-...   \n",
       "2  C:/Users/slwal/anaconda3/envs/PY36/avgn_paper-...   \n",
       "\n",
       "                               key   rate  \\\n",
       "0  BWY MGGY Call Combo 1 290719 PM  44100   \n",
       "1  BWY MGGY Call Combo 1 290719 PM  44100   \n",
       "2  BWY MGGY Call Combo 1 290719 PM  44100   \n",
       "\n",
       "                                               specs                    umap  \\\n",
       "0  [[0.0, 0.0, 0.0, 0.0, 0.0, 0.0, 0.0, 0.0, 0.0,...    [14.15081, 3.406464]   \n",
       "1  [[0.0, 0.0, 0.0, 0.0, 0.0, 0.0, 0.0, 0.0, 0.0,...   [5.388335, 10.057652]   \n",
       "2  [[0.0, 0.0, 0.0, 0.0, 0.0, 0.0, 0.0, 0.0, 0.0,...  [12.421062, 0.6991728]   \n",
       "\n",
       "  comb_labels call_lab_simp  combi_lab_simp  \n",
       "0          DS      DS-SH-DS  DS-SH-DS SH-LH  \n",
       "1          SH      DS-SH-DS  DS-SH-DS SH-LH  \n",
       "2          DS      DS-SH-DS  DS-SH-DS SH-LH  \n",
       "\n",
       "[3 rows x 29 columns]"
      ]
     },
     "execution_count": 5,
     "metadata": {},
     "output_type": "execute_result"
    }
   ],
   "source": [
    "seg_df = pd.read_pickle(DATA_DIR / DATASET_ID / DT_ID /  'segment_df_umap_combinedtidied.pickle')\n",
    "seg_df[:3]"
   ]
  },
  {
   "cell_type": "markdown",
   "id": "a3241841",
   "metadata": {},
   "source": [
    "### Plot barcodes for organization"
   ]
  },
  {
   "cell_type": "code",
   "execution_count": 6,
   "id": "c9aae78d",
   "metadata": {},
   "outputs": [],
   "source": [
    "import matplotlib.pyplot as plt\n",
    "from avgn.visualization.barcodes import plot_sorted_barcodes, indv_barcode"
   ]
  },
  {
   "cell_type": "code",
   "execution_count": 7,
   "id": "8ae4af50",
   "metadata": {},
   "outputs": [],
   "source": [
    "seg_df.sort_values(by=['comb_labels'], inplace = True)"
   ]
  },
  {
   "cell_type": "code",
   "execution_count": 8,
   "id": "1ea3c92b",
   "metadata": {},
   "outputs": [
    {
     "name": "stdout",
     "output_type": "stream",
     "text": [
      "comb_labels ['DS' 'LH' 'NL' 'SH']\n"
     ]
    },
    {
     "data": {
      "application/vnd.jupyter.widget-view+json": {
       "model_id": "",
       "version_major": 2,
       "version_minor": 0
      },
      "text/plain": [
       "  0%|          | 0/133 [00:00<?, ?it/s]"
      ]
     },
     "metadata": {},
     "output_type": "display_data"
    },
    {
     "data": {
      "application/vnd.jupyter.widget-view+json": {
       "model_id": "",
       "version_major": 2,
       "version_minor": 0
      },
      "text/plain": [
       "  0%|          | 0/133 [00:00<?, ?it/s]"
      ]
     },
     "metadata": {},
     "output_type": "display_data"
    },
    {
     "data": {
      "application/vnd.jupyter.widget-view+json": {
       "model_id": "",
       "version_major": 2,
       "version_minor": 0
      },
      "text/plain": [
       "  0%|          | 0/8778 [00:00<?, ?it/s]"
      ]
     },
     "metadata": {},
     "output_type": "display_data"
    },
    {
     "data": {
      "image/png": "[encoded data removed]",
      "text/plain": [
       "<Figure size 288x72 with 1 Axes>"
      ]
     },
     "metadata": {
      "needs_background": "light"
     },
     "output_type": "display_data"
    },
    {
     "data": {
      "image/png": "[encoded data removed]",
      "text/plain": [
       "<Figure size 1440x216 with 1 Axes>"
      ]
     },
     "metadata": {
      "needs_background": "light"
     },
     "output_type": "display_data"
    }
   ],
   "source": [
    "color = ['midnightblue','tab:blue','cornflowerblue','powderblue']\n",
    "\n",
    "all_dict = {}\n",
    "for label in [\"comb_labels\"]:\n",
    "    print(label, seg_df[label].unique())\n",
    "    color_lists, trans_lists, label_pal_dict, label_pal, label_dict = indv_barcode(\n",
    "        seg_df,\n",
    "        time_resolution=0.03,\n",
    "        label=\"comb_labels\",\n",
    "        pal=color,\n",
    "    )\n",
    "    \n",
    "    all_dict[label] = {\n",
    "    \"label_pal_dict\": label_pal_dict,\n",
    "    \"label_dict\": label_dict,\n",
    "    }\n",
    "    \n",
    "    fig, ax = plt.subplots(figsize=(20, 3))\n",
    "\n",
    "    plot_sorted_barcodes(\n",
    "        color_lists,\n",
    "        trans_lists,\n",
    "        max_list_len=600,\n",
    "        seq_len=100,\n",
    "        nex=200,\n",
    "        figsize=(10, 4),\n",
    "        ax=ax,\n",
    "    )\n",
    "    plt.show()\n"
   ]
  },
  {
   "cell_type": "code",
   "execution_count": 9,
   "id": "7e2d7f5a",
   "metadata": {},
   "outputs": [],
   "source": [
    "seg_df.sort_values(by=['ID'], inplace = True)"
   ]
  },
  {
   "cell_type": "code",
   "execution_count": 10,
   "id": "9a77e528",
   "metadata": {},
   "outputs": [],
   "source": [
    "from avgn.visualization.projections import scatter_spec\n",
    "from avgn.utils.general import save_fig"
   ]
  },
  {
   "cell_type": "code",
   "execution_count": 11,
   "id": "1333469b",
   "metadata": {},
   "outputs": [],
   "source": [
    "import seaborn as sns"
   ]
  },
  {
   "cell_type": "markdown",
   "id": "8eab61e2",
   "metadata": {},
   "source": [
    "### Combine UMAP & Transition Graph\n",
    "- this plot shows the segment UMAP as well as the transition graph using Markov modelling"
   ]
  },
  {
   "cell_type": "code",
   "execution_count": 12,
   "id": "fff51077",
   "metadata": {},
   "outputs": [],
   "source": [
    "from avgn.visualization.network_graph import plot_network_graph"
   ]
  },
  {
   "cell_type": "code",
   "execution_count": 13,
   "id": "eaa6a363",
   "metadata": {},
   "outputs": [],
   "source": [
    "def norm(x):\n",
    "    return (x-np.min(x)) / (np.max(x) - np.min(x))"
   ]
  },
  {
   "cell_type": "code",
   "execution_count": 16,
   "id": "f69da2bb",
   "metadata": {},
   "outputs": [
    {
     "data": {
      "application/vnd.jupyter.widget-view+json": {
       "model_id": "257b47b2be89420eb4521708bc11fbd0",
       "version_major": 2,
       "version_minor": 0
      },
      "text/plain": [
       "  0%|          | 0/1333 [00:00<?, ?it/s]"
      ]
     },
     "metadata": {},
     "output_type": "display_data"
    }
   ],
   "source": [
    "specs = list(seg_df.specs.values)\n",
    "specs = [norm(i) for i in tqdm(specs)]"
   ]
  },
  {
   "cell_type": "code",
   "execution_count": null,
   "id": "87e972f0",
   "metadata": {},
   "outputs": [],
   "source": [
    "fig = plt.figure()\n",
    "fig.set_figheight(12)\n",
    "fig.set_figwidth(24)\n",
    "ax1 = plt.subplot2grid(shape=(1, 24), loc=(0, 0), colspan=12)  ##1st Row\n",
    "ax2 = plt.subplot2grid(shape=(1, 24), loc=(0, 12), colspan=12) #2nd row\n",
    "\n",
    "color = ['midnightblue','tab:blue','cornflowerblue','powderblue']\n",
    "nex = -1\n",
    "ax1.axis('off')\n",
    "scatter_spec(\n",
    "    np.array(list(seg_df['umap'].values)),\n",
    "    specs,\n",
    "    column_size=10,\n",
    "    x_range = [-2.25,15.5],\n",
    "    y_range = [-4.5, 12.25],\n",
    "    pal_color=\"hls\",\n",
    "    color_points=False,\n",
    "    enlarge_points=0,\n",
    "    ax = ax1,\n",
    "    range_pad = 0.15,\n",
    "    scatter_kwargs = {\n",
    "        'labels': seg_df.comb_labels.values,\n",
    "        'alpha':0.8,\n",
    "        's': 5,\n",
    "        'show_legend': False,\n",
    "        \"color_palette\": color,\n",
    "    },\n",
    "    matshow_kwargs = {\n",
    "        'cmap': plt.cm.Greys\n",
    "    },\n",
    "    line_kwargs = {\n",
    "        'lw':0.5,\n",
    "        'ls':\"dashed\",\n",
    "        'alpha':0.25,\n",
    "    },\n",
    "    draw_lines=True,\n",
    "    n_subset= 1000,\n",
    "    border_line_width = 3, \n",
    "\n",
    ")\n",
    "\n",
    "##Model\n",
    "for label in [\"comb_labels\"]:\n",
    "    print(label)\n",
    "    # plot graph\n",
    "    elements = seg_df[label].values\n",
    "    projections = np.array(list(seg_df['umap'].values))\n",
    "    sequence_ids = np.array(seg_df[\"call_unique_num\"])\n",
    "\n",
    "    label_pal_dict = all_dict[label]['label_pal_dict']\n",
    "    label_dict = all_dict[label]['label_dict']\n",
    "    pal_dict = {i:label_pal_dict[j] for i,j in label_dict.items()}\n",
    "    ax2.axis('off')\n",
    "    plot_network_graph(\n",
    "        elements, projections, sequence_ids, color_palette=\"colorblind\", ax=ax2, pal_dict=pal_dict\n",
    "    )\n",
    "\n",
    "ax1.set_title(\"A)\", loc='left', fontsize = 30)\n",
    "ax2.set_title(\"B)\", loc='left', fontsize = 30)\n",
    "legend = ax2.legend(loc='upper left', labels = label_dict, fontsize=25)\n",
    "handles = legend.legendHandles\n",
    "#Create legend\n",
    "colors = ['midnightblue','tab:blue','cornflowerblue','powderblue']\n",
    "for i, handle in enumerate(handles):\n",
    "    handle.set_edgecolor(colors[i]) # set_edgecolors\n",
    "    handle.set_facecolor(colors[i])\n",
    "    #handle.set_alpha(0.7)\n",
    "\n",
    "plt.tight_layout()\n",
    "save_loc = (FIGURE_DIR / DATASET_ID / 'Figures' / 'Transition & UMAP' / 'Fig2.jpeg')\n",
    "ensure_dir(save_loc.as_posix())\n",
    "save_fig(save_loc, dpi=600, save_jpg=True)\n",
    "plt.show()"
   ]
  },
  {
   "cell_type": "code",
   "execution_count": null,
   "id": "6374e84e",
   "metadata": {},
   "outputs": [],
   "source": []
  },
  {
   "cell_type": "code",
   "execution_count": null,
   "id": "6c083ba6",
   "metadata": {},
   "outputs": [],
   "source": []
  }
 ],
 "metadata": {
  "kernelspec": {
   "display_name": "Python 3",
   "language": "python",
   "name": "python3"
  },
  "language_info": {
   "codemirror_mode": {
    "name": "ipython",
    "version": 3
   },
   "file_extension": ".py",
   "mimetype": "text/x-python",
   "name": "python",
   "nbconvert_exporter": "python",
   "pygments_lexer": "ipython3",
   "version": "3.6.13"
  }
 },
 "nbformat": 4,
 "nbformat_minor": 5
}
