{
 "cells": [
  {
   "cell_type": "markdown",
   "id": "83922b1f",
   "metadata": {},
   "source": [
    "# Import CSV & Generate JSON"
   ]
  },
  {
   "cell_type": "markdown",
   "id": "8e2d08a5",
   "metadata": {},
   "source": [
    "This notebook creates JSON files containing the information in the dataframes & csvs created in the previous step, which has now been combined into one file. Following checking of the csv file for any duplications/errors in processing, some data columns are created containing information on the position of each segment in the order of segments within their respective call and combination, and for each call's position in the order of calls within their respective combination. Columns are also created for unique identifiers for each call and combination and study site for the caller. It is then loaded into this notebook."
   ]
  },
  {
   "cell_type": "code",
   "execution_count": 1,
   "id": "9f1a33ad",
   "metadata": {},
   "outputs": [],
   "source": [
    "DATASET_ID = \"git_repos\""
   ]
  },
  {
   "cell_type": "code",
   "execution_count": 2,
   "id": "c445d705",
   "metadata": {},
   "outputs": [],
   "source": [
    "import pdb\n",
    "from joblib import Parallel, delayed\n",
    "from tqdm.auto import tqdm\n",
    "import pandas as pd\n",
    "import librosa\n",
    "from datetime import datetime\n",
    "import json\n",
    "import numpy as np\n",
    "from pathlib2 import Path"
   ]
  },
  {
   "cell_type": "code",
   "execution_count": 3,
   "id": "373ed2ed",
   "metadata": {},
   "outputs": [],
   "source": [
    "import avgn"
   ]
  },
  {
   "cell_type": "code",
   "execution_count": 4,
   "id": "9b94c09e",
   "metadata": {},
   "outputs": [],
   "source": [
    "from avgn.utils.paths import DATA_DIR"
   ]
  },
  {
   "cell_type": "code",
   "execution_count": 5,
   "id": "0cb66710",
   "metadata": {},
   "outputs": [
    {
     "data": {
      "text/plain": [
       "'2022-09-10_09-41-48'"
      ]
     },
     "execution_count": 5,
     "metadata": {},
     "output_type": "execute_result"
    }
   ],
   "source": [
    "# create a unique datetime identifier for the files output by this notebook \n",
    "##(they will be saved in a folder with today's date/time of output creation)\n",
    "DT_ID = datetime.now().strftime(\"%Y-%m-%d_%H-%M-%S\")\n",
    "DT_ID"
   ]
  },
  {
   "cell_type": "code",
   "execution_count": 6,
   "id": "aa0b4c2b",
   "metadata": {},
   "outputs": [
    {
     "data": {
      "text/plain": [
       "WindowsPath('C:/Users/slwal/anaconda3/envs/PY36/avgn_paper-2/data/raw/magpie/individuals')"
      ]
     },
     "execution_count": 6,
     "metadata": {},
     "output_type": "execute_result"
    }
   ],
   "source": [
    "#Defining Path to Raw Dataset\n",
    "RAW_DATASET_LOC = DATA_DIR/\"raw\"/\"magpie\"/\"individuals\"\n",
    "RAW_DATASET_LOC"
   ]
  },
  {
   "cell_type": "markdown",
   "id": "998dea38",
   "metadata": {},
   "source": [
    "### Import CSV"
   ]
  },
  {
   "cell_type": "code",
   "execution_count": 7,
   "id": "29fdac27",
   "metadata": {},
   "outputs": [
    {
     "name": "stdout",
     "output_type": "stream",
     "text": [
      "      New_ID    indv   gro   location sex  \\\n",
      "0          0    MGGY  BWYa    CRAWLEY   F   \n",
      "1          1    MGGY  BWYa    CRAWLEY   F   \n",
      "2          2    MGGY  BWYa    CRAWLEY   F   \n",
      "3          3    MGGY  BWYa    CRAWLEY   F   \n",
      "4          4    MGGY  BWYa    CRAWLEY   F   \n",
      "...      ...     ...   ...        ...  ..   \n",
      "1642    1642  MXXGRY    SS  GUILDFORD   F   \n",
      "1643    1643  MXXGRY    SS  GUILDFORD   F   \n",
      "1644    1644  MXXGRY    SS  GUILDFORD   F   \n",
      "1645    1645  MXXGRY    SS  GUILDFORD   F   \n",
      "1646    1646  MXXGRY    SS  GUILDFORD   F   \n",
      "\n",
      "                                                 wavloc  \\\n",
      "0     C:\\Users\\slwal\\anaconda3\\envs\\PY36\\avgn_paper-...   \n",
      "1     C:\\Users\\slwal\\anaconda3\\envs\\PY36\\avgn_paper-...   \n",
      "2     C:\\Users\\slwal\\anaconda3\\envs\\PY36\\avgn_paper-...   \n",
      "3     C:\\Users\\slwal\\anaconda3\\envs\\PY36\\avgn_paper-...   \n",
      "4     C:\\Users\\slwal\\anaconda3\\envs\\PY36\\avgn_paper-...   \n",
      "...                                                 ...   \n",
      "1642  C:\\Users\\slwal\\anaconda3\\envs\\PY36\\avgn_paper-...   \n",
      "1643  C:\\Users\\slwal\\anaconda3\\envs\\PY36\\avgn_paper-...   \n",
      "1644  C:\\Users\\slwal\\anaconda3\\envs\\PY36\\avgn_paper-...   \n",
      "1645  C:\\Users\\slwal\\anaconda3\\envs\\PY36\\avgn_paper-...   \n",
      "1646  C:\\Users\\slwal\\anaconda3\\envs\\PY36\\avgn_paper-...   \n",
      "\n",
      "                                               filename seg_label  seg_start  \\\n",
      "0                       BWY MGGY Call Combo 1 290719 PM        DS   0.753604   \n",
      "1                       BWY MGGY Call Combo 1 290719 PM        SH   0.786865   \n",
      "2                       BWY MGGY Call Combo 1 290719 PM        DS   0.855941   \n",
      "3                       BWY MGGY Call Combo 1 290719 PM        SH   0.932017   \n",
      "4                       BWY MGGY Call Combo 1 290719 PM        SH   0.951561   \n",
      "...                                                 ...       ...        ...   \n",
      "1642  SS MXXGRY XXXX JUVENILE Call Combination Serie...        DS   1.378323   \n",
      "1643  SS MXXGRY XXXX JUVENILE Call Combination Serie...        SH   0.112036   \n",
      "1644  SS MXXGRY XXXX JUVENILE Call Combination Serie...        DS   0.158824   \n",
      "1645  SS MXXGRY XXXX JUVENILE Call Combination Serie...        LH   0.295263   \n",
      "1646  SS MXXGRY XXXX JUVENILE Call Combination Serie...        DS   0.478490   \n",
      "\n",
      "       seg_end  ... call_start  call_end    combi_label combi_start  \\\n",
      "0     0.776773  ...   0.753604  0.921160  DSSHDS SHSHLH    0.753604   \n",
      "1     0.835165  ...   0.753604  0.921160  DSSHDS SHSHLH    0.753604   \n",
      "2     0.921160  ...   0.753604  0.921160  DSSHDS SHSHLH    0.753604   \n",
      "3     0.942875  ...   0.932017  1.367130  DSSHDS SHSHLH    0.753604   \n",
      "4     0.980101  ...   0.932017  1.367130  DSSHDS SHSHLH    0.753604   \n",
      "...        ...  ...        ...       ...            ...         ...   \n",
      "1642  1.415477  ...   1.218702  1.415477      SHDS LHDS    1.018259   \n",
      "1643  0.138211  ...   0.112036  0.238986      SHDS LHDS    0.112036   \n",
      "1644  0.238986  ...   0.112036  0.238986      SHDS LHDS    0.112036   \n",
      "1645  0.474563  ...   0.295263  0.512518      SHDS LHDS    0.112036   \n",
      "1646  0.512518  ...   0.295263  0.512518      SHDS LHDS    0.112036   \n",
      "\n",
      "      combi_end  call_unique_num  seg_pos_call  combi_unique_num  \\\n",
      "0      1.367130                0             0                 0   \n",
      "1      1.367130                0             1                 0   \n",
      "2      1.367130                0             2                 0   \n",
      "3      1.367130                1             0                 0   \n",
      "4      1.367130                1             1                 0   \n",
      "...         ...              ...           ...               ...   \n",
      "1642   1.415477              696             1               272   \n",
      "1643   0.512518              697             0               273   \n",
      "1644   0.512518              697             1               273   \n",
      "1645   0.512518              698             0               273   \n",
      "1646   0.512518              698             1               273   \n",
      "\n",
      "      seg_pos_combi  call_pos_combi  \n",
      "0                 0               0  \n",
      "1                 1               0  \n",
      "2                 2               0  \n",
      "3                 3               1  \n",
      "4                 4               1  \n",
      "...             ...             ...  \n",
      "1642              3               1  \n",
      "1643              0               0  \n",
      "1644              1               0  \n",
      "1645              2               1  \n",
      "1646              3               1  \n",
      "\n",
      "[1647 rows x 21 columns]\n"
     ]
    }
   ],
   "source": [
    "vocaldf = pd.read_csv (DATA_DIR/DATASET_ID/'alldata.csv')\n",
    "print (vocaldf)"
   ]
  },
  {
   "cell_type": "code",
   "execution_count": 8,
   "id": "9d03a406",
   "metadata": {},
   "outputs": [],
   "source": [
    "##create dataframe\n",
    "vocdf = pd.DataFrame(vocaldf)"
   ]
  },
  {
   "cell_type": "code",
   "execution_count": 9,
   "id": "49cf49af",
   "metadata": {},
   "outputs": [
    {
     "data": {
      "text/html": [
       "<div>\n",
       "<style scoped>\n",
       "    .dataframe tbody tr th:only-of-type {\n",
       "        vertical-align: middle;\n",
       "    }\n",
       "\n",
       "    .dataframe tbody tr th {\n",
       "        vertical-align: top;\n",
       "    }\n",
       "\n",
       "    .dataframe thead th {\n",
       "        text-align: right;\n",
       "    }\n",
       "</style>\n",
       "<table border=\"1\" class=\"dataframe\">\n",
       "  <thead>\n",
       "    <tr style=\"text-align: right;\">\n",
       "      <th></th>\n",
       "      <th>New_ID</th>\n",
       "      <th>indv</th>\n",
       "      <th>gro</th>\n",
       "      <th>location</th>\n",
       "      <th>sex</th>\n",
       "      <th>wavloc</th>\n",
       "      <th>filename</th>\n",
       "      <th>seg_label</th>\n",
       "      <th>seg_start</th>\n",
       "      <th>seg_end</th>\n",
       "      <th>...</th>\n",
       "      <th>call_start</th>\n",
       "      <th>call_end</th>\n",
       "      <th>combi_label</th>\n",
       "      <th>combi_start</th>\n",
       "      <th>combi_end</th>\n",
       "      <th>call_unique_num</th>\n",
       "      <th>seg_pos_call</th>\n",
       "      <th>combi_unique_num</th>\n",
       "      <th>seg_pos_combi</th>\n",
       "      <th>call_pos_combi</th>\n",
       "    </tr>\n",
       "  </thead>\n",
       "  <tbody>\n",
       "    <tr>\n",
       "      <th>0</th>\n",
       "      <td>0</td>\n",
       "      <td>MGGY</td>\n",
       "      <td>BWYa</td>\n",
       "      <td>CRAWLEY</td>\n",
       "      <td>F</td>\n",
       "      <td>C:\\Users\\slwal\\anaconda3\\envs\\PY36\\avgn_paper-...</td>\n",
       "      <td>BWY MGGY Call Combo 1 290719 PM</td>\n",
       "      <td>DS</td>\n",
       "      <td>0.753604</td>\n",
       "      <td>0.776773</td>\n",
       "      <td>...</td>\n",
       "      <td>0.753604</td>\n",
       "      <td>0.92116</td>\n",
       "      <td>DSSHDS SHSHLH</td>\n",
       "      <td>0.753604</td>\n",
       "      <td>1.36713</td>\n",
       "      <td>0</td>\n",
       "      <td>0</td>\n",
       "      <td>0</td>\n",
       "      <td>0</td>\n",
       "      <td>0</td>\n",
       "    </tr>\n",
       "    <tr>\n",
       "      <th>1</th>\n",
       "      <td>1</td>\n",
       "      <td>MGGY</td>\n",
       "      <td>BWYa</td>\n",
       "      <td>CRAWLEY</td>\n",
       "      <td>F</td>\n",
       "      <td>C:\\Users\\slwal\\anaconda3\\envs\\PY36\\avgn_paper-...</td>\n",
       "      <td>BWY MGGY Call Combo 1 290719 PM</td>\n",
       "      <td>SH</td>\n",
       "      <td>0.786865</td>\n",
       "      <td>0.835165</td>\n",
       "      <td>...</td>\n",
       "      <td>0.753604</td>\n",
       "      <td>0.92116</td>\n",
       "      <td>DSSHDS SHSHLH</td>\n",
       "      <td>0.753604</td>\n",
       "      <td>1.36713</td>\n",
       "      <td>0</td>\n",
       "      <td>1</td>\n",
       "      <td>0</td>\n",
       "      <td>1</td>\n",
       "      <td>0</td>\n",
       "    </tr>\n",
       "    <tr>\n",
       "      <th>2</th>\n",
       "      <td>2</td>\n",
       "      <td>MGGY</td>\n",
       "      <td>BWYa</td>\n",
       "      <td>CRAWLEY</td>\n",
       "      <td>F</td>\n",
       "      <td>C:\\Users\\slwal\\anaconda3\\envs\\PY36\\avgn_paper-...</td>\n",
       "      <td>BWY MGGY Call Combo 1 290719 PM</td>\n",
       "      <td>DS</td>\n",
       "      <td>0.855941</td>\n",
       "      <td>0.921160</td>\n",
       "      <td>...</td>\n",
       "      <td>0.753604</td>\n",
       "      <td>0.92116</td>\n",
       "      <td>DSSHDS SHSHLH</td>\n",
       "      <td>0.753604</td>\n",
       "      <td>1.36713</td>\n",
       "      <td>0</td>\n",
       "      <td>2</td>\n",
       "      <td>0</td>\n",
       "      <td>2</td>\n",
       "      <td>0</td>\n",
       "    </tr>\n",
       "  </tbody>\n",
       "</table>\n",
       "<p>3 rows × 21 columns</p>\n",
       "</div>"
      ],
      "text/plain": [
       "   New_ID  indv   gro location sex  \\\n",
       "0       0  MGGY  BWYa  CRAWLEY   F   \n",
       "1       1  MGGY  BWYa  CRAWLEY   F   \n",
       "2       2  MGGY  BWYa  CRAWLEY   F   \n",
       "\n",
       "                                              wavloc  \\\n",
       "0  C:\\Users\\slwal\\anaconda3\\envs\\PY36\\avgn_paper-...   \n",
       "1  C:\\Users\\slwal\\anaconda3\\envs\\PY36\\avgn_paper-...   \n",
       "2  C:\\Users\\slwal\\anaconda3\\envs\\PY36\\avgn_paper-...   \n",
       "\n",
       "                          filename seg_label  seg_start   seg_end  ...  \\\n",
       "0  BWY MGGY Call Combo 1 290719 PM        DS   0.753604  0.776773  ...   \n",
       "1  BWY MGGY Call Combo 1 290719 PM        SH   0.786865  0.835165  ...   \n",
       "2  BWY MGGY Call Combo 1 290719 PM        DS   0.855941  0.921160  ...   \n",
       "\n",
       "  call_start  call_end    combi_label combi_start  combi_end  call_unique_num  \\\n",
       "0   0.753604   0.92116  DSSHDS SHSHLH    0.753604    1.36713                0   \n",
       "1   0.753604   0.92116  DSSHDS SHSHLH    0.753604    1.36713                0   \n",
       "2   0.753604   0.92116  DSSHDS SHSHLH    0.753604    1.36713                0   \n",
       "\n",
       "   seg_pos_call  combi_unique_num  seg_pos_combi  call_pos_combi  \n",
       "0             0                 0              0               0  \n",
       "1             1                 0              1               0  \n",
       "2             2                 0              2               0  \n",
       "\n",
       "[3 rows x 21 columns]"
      ]
     },
     "execution_count": 9,
     "metadata": {},
     "output_type": "execute_result"
    }
   ],
   "source": [
    "vocdf[:3]"
   ]
  },
  {
   "cell_type": "code",
   "execution_count": 10,
   "id": "40d0cddd",
   "metadata": {},
   "outputs": [
    {
     "data": {
      "text/html": [
       "<div>\n",
       "<style scoped>\n",
       "    .dataframe tbody tr th:only-of-type {\n",
       "        vertical-align: middle;\n",
       "    }\n",
       "\n",
       "    .dataframe tbody tr th {\n",
       "        vertical-align: top;\n",
       "    }\n",
       "\n",
       "    .dataframe thead th {\n",
       "        text-align: right;\n",
       "    }\n",
       "</style>\n",
       "<table border=\"1\" class=\"dataframe\">\n",
       "  <thead>\n",
       "    <tr style=\"text-align: right;\">\n",
       "      <th></th>\n",
       "      <th>New_ID</th>\n",
       "      <th>indv</th>\n",
       "      <th>sex</th>\n",
       "      <th>gro</th>\n",
       "      <th>filename</th>\n",
       "      <th>wavloc</th>\n",
       "      <th>tgloc</th>\n",
       "      <th>seg_pos_combi</th>\n",
       "      <th>seg_start</th>\n",
       "      <th>seg_end</th>\n",
       "      <th>seg_label</th>\n",
       "    </tr>\n",
       "  </thead>\n",
       "  <tbody>\n",
       "    <tr>\n",
       "      <th>0</th>\n",
       "      <td>0</td>\n",
       "      <td>MGGY</td>\n",
       "      <td>F</td>\n",
       "      <td>BWYa</td>\n",
       "      <td>BWY MGGY Call Combo 1 290719 PM</td>\n",
       "      <td>C:\\Users\\slwal\\anaconda3\\envs\\PY36\\avgn_paper-...</td>\n",
       "      <td>C:\\Users\\slwal\\anaconda3\\envs\\PY36\\avgn_paper-...</td>\n",
       "      <td>0</td>\n",
       "      <td>0.753604</td>\n",
       "      <td>0.776773</td>\n",
       "      <td>DS</td>\n",
       "    </tr>\n",
       "    <tr>\n",
       "      <th>1</th>\n",
       "      <td>1</td>\n",
       "      <td>MGGY</td>\n",
       "      <td>F</td>\n",
       "      <td>BWYa</td>\n",
       "      <td>BWY MGGY Call Combo 1 290719 PM</td>\n",
       "      <td>C:\\Users\\slwal\\anaconda3\\envs\\PY36\\avgn_paper-...</td>\n",
       "      <td>C:\\Users\\slwal\\anaconda3\\envs\\PY36\\avgn_paper-...</td>\n",
       "      <td>1</td>\n",
       "      <td>0.786865</td>\n",
       "      <td>0.835165</td>\n",
       "      <td>SH</td>\n",
       "    </tr>\n",
       "    <tr>\n",
       "      <th>2</th>\n",
       "      <td>2</td>\n",
       "      <td>MGGY</td>\n",
       "      <td>F</td>\n",
       "      <td>BWYa</td>\n",
       "      <td>BWY MGGY Call Combo 1 290719 PM</td>\n",
       "      <td>C:\\Users\\slwal\\anaconda3\\envs\\PY36\\avgn_paper-...</td>\n",
       "      <td>C:\\Users\\slwal\\anaconda3\\envs\\PY36\\avgn_paper-...</td>\n",
       "      <td>2</td>\n",
       "      <td>0.855941</td>\n",
       "      <td>0.921160</td>\n",
       "      <td>DS</td>\n",
       "    </tr>\n",
       "  </tbody>\n",
       "</table>\n",
       "</div>"
      ],
      "text/plain": [
       "   New_ID  indv sex   gro                         filename  \\\n",
       "0       0  MGGY   F  BWYa  BWY MGGY Call Combo 1 290719 PM   \n",
       "1       1  MGGY   F  BWYa  BWY MGGY Call Combo 1 290719 PM   \n",
       "2       2  MGGY   F  BWYa  BWY MGGY Call Combo 1 290719 PM   \n",
       "\n",
       "                                              wavloc  \\\n",
       "0  C:\\Users\\slwal\\anaconda3\\envs\\PY36\\avgn_paper-...   \n",
       "1  C:\\Users\\slwal\\anaconda3\\envs\\PY36\\avgn_paper-...   \n",
       "2  C:\\Users\\slwal\\anaconda3\\envs\\PY36\\avgn_paper-...   \n",
       "\n",
       "                                               tgloc seg_pos_combi  seg_start  \\\n",
       "0  C:\\Users\\slwal\\anaconda3\\envs\\PY36\\avgn_paper-...             0   0.753604   \n",
       "1  C:\\Users\\slwal\\anaconda3\\envs\\PY36\\avgn_paper-...             1   0.786865   \n",
       "2  C:\\Users\\slwal\\anaconda3\\envs\\PY36\\avgn_paper-...             2   0.855941   \n",
       "\n",
       "    seg_end seg_label  \n",
       "0  0.776773        DS  \n",
       "1  0.835165        SH  \n",
       "2  0.921160        DS  "
      ]
     },
     "execution_count": 10,
     "metadata": {},
     "output_type": "execute_result"
    }
   ],
   "source": [
    "#### Need to take WAV location paths from the segment pickle (made in previous step) as they no longer work after \n",
    "##being imported from the csv\n",
    "seg_df = pd.read_pickle(DATA_DIR / DATASET_ID / 'walsh_magpie_segment_dataframe.pickle')\n",
    "seg_df[:3]"
   ]
  },
  {
   "cell_type": "markdown",
   "id": "87c1443b",
   "metadata": {},
   "source": [
    "#### Some checks just to ensure dataframes are the same"
   ]
  },
  {
   "cell_type": "code",
   "execution_count": 11,
   "id": "016ee9ae",
   "metadata": {},
   "outputs": [],
   "source": [
    "#Set index to be the same in both dataframes, as per unique identifiers previously created for segments\n",
    "seg_df.set_index('New_ID', inplace=True)"
   ]
  },
  {
   "cell_type": "code",
   "execution_count": 12,
   "id": "af4e7402",
   "metadata": {},
   "outputs": [],
   "source": [
    "vocdf.set_index('New_ID', inplace=True)"
   ]
  },
  {
   "cell_type": "code",
   "execution_count": 13,
   "id": "bf5a989a",
   "metadata": {},
   "outputs": [
    {
     "data": {
      "text/plain": [
       "1647"
      ]
     },
     "execution_count": 13,
     "metadata": {},
     "output_type": "execute_result"
    }
   ],
   "source": [
    "#check number of rows are the same\n",
    "len(seg_df)"
   ]
  },
  {
   "cell_type": "code",
   "execution_count": 14,
   "id": "715eb211",
   "metadata": {
    "scrolled": true
   },
   "outputs": [
    {
     "data": {
      "text/plain": [
       "1647"
      ]
     },
     "execution_count": 14,
     "metadata": {},
     "output_type": "execute_result"
    }
   ],
   "source": [
    "len(vocdf)"
   ]
  },
  {
   "cell_type": "code",
   "execution_count": 15,
   "id": "2e8dd945",
   "metadata": {},
   "outputs": [
    {
     "data": {
      "text/plain": [
       "153"
      ]
     },
     "execution_count": 15,
     "metadata": {},
     "output_type": "execute_result"
    }
   ],
   "source": [
    "#check number of unique files is the same in both dataframes\n",
    "len(vocdf.filename.unique())"
   ]
  },
  {
   "cell_type": "code",
   "execution_count": 16,
   "id": "7509dab9",
   "metadata": {},
   "outputs": [
    {
     "data": {
      "text/plain": [
       "153"
      ]
     },
     "execution_count": 16,
     "metadata": {},
     "output_type": "execute_result"
    }
   ],
   "source": [
    "len(seg_df.filename.unique())"
   ]
  },
  {
   "cell_type": "code",
   "execution_count": 17,
   "id": "290cd117",
   "metadata": {},
   "outputs": [
    {
     "data": {
      "text/plain": [
       "'C:\\\\Users\\\\slwal\\\\anaconda3\\\\envs\\\\PY36\\\\avgn_paper-2\\\\data\\\\raw\\\\magpie\\\\individuals\\\\BWYa_F_MGGY\\\\BWY MGGY Discrete 6 210519 PM.WAV'"
      ]
     },
     "execution_count": 17,
     "metadata": {},
     "output_type": "execute_result"
    }
   ],
   "source": [
    "#check \n",
    "vocdf.wavloc[20]"
   ]
  },
  {
   "cell_type": "code",
   "execution_count": 18,
   "id": "94338fb9",
   "metadata": {},
   "outputs": [
    {
     "data": {
      "text/plain": [
       "'C:\\\\Users\\\\slwal\\\\anaconda3\\\\envs\\\\PY36\\\\avgn_paper-2\\\\data\\\\raw\\\\magpie\\\\individuals\\\\BWYa_F_MGGY\\\\BWY MGGY Discrete 6 210519 PM.WAV'"
      ]
     },
     "execution_count": 18,
     "metadata": {},
     "output_type": "execute_result"
    }
   ],
   "source": [
    "#check\n",
    "vocaldf.wavloc[20]"
   ]
  },
  {
   "cell_type": "code",
   "execution_count": 19,
   "id": "78615ddb",
   "metadata": {},
   "outputs": [
    {
     "data": {
      "text/plain": [
       "WindowsPath('C:/Users/slwal/anaconda3/envs/PY36/avgn_paper-2/data/raw/magpie/individuals/BWYa_F_MGGY/BWY MGGY Discrete 6 210519 PM.WAV')"
      ]
     },
     "execution_count": 19,
     "metadata": {},
     "output_type": "execute_result"
    }
   ],
   "source": [
    "#check\n",
    "seg_df.wavloc[20]"
   ]
  },
  {
   "cell_type": "code",
   "execution_count": 20,
   "id": "14457b40",
   "metadata": {},
   "outputs": [
    {
     "data": {
      "text/plain": [
       "'SH'"
      ]
     },
     "execution_count": 20,
     "metadata": {},
     "output_type": "execute_result"
    }
   ],
   "source": [
    "#check\n",
    "vocaldf.seg_label[1600]"
   ]
  },
  {
   "cell_type": "code",
   "execution_count": 21,
   "id": "1cf2e58d",
   "metadata": {},
   "outputs": [
    {
     "data": {
      "text/plain": [
       "'SH'"
      ]
     },
     "execution_count": 21,
     "metadata": {},
     "output_type": "execute_result"
    }
   ],
   "source": [
    "#check\n",
    "seg_df.seg_label[1600]"
   ]
  },
  {
   "cell_type": "code",
   "execution_count": 22,
   "id": "d1c05f2e",
   "metadata": {},
   "outputs": [
    {
     "data": {
      "text/plain": [
       "'SH'"
      ]
     },
     "execution_count": 22,
     "metadata": {},
     "output_type": "execute_result"
    }
   ],
   "source": [
    "#check \n",
    "vocdf.seg_label[1600]"
   ]
  },
  {
   "cell_type": "code",
   "execution_count": 23,
   "id": "e839cf41",
   "metadata": {},
   "outputs": [],
   "source": [
    "#replace wavloc column in vocdf to be wavloc df\n",
    "vocdf.loc[:,['wavloc']] = seg_df[['wavloc']]"
   ]
  },
  {
   "cell_type": "code",
   "execution_count": 24,
   "id": "57cd47f4",
   "metadata": {},
   "outputs": [
    {
     "data": {
      "text/html": [
       "<div>\n",
       "<style scoped>\n",
       "    .dataframe tbody tr th:only-of-type {\n",
       "        vertical-align: middle;\n",
       "    }\n",
       "\n",
       "    .dataframe tbody tr th {\n",
       "        vertical-align: top;\n",
       "    }\n",
       "\n",
       "    .dataframe thead th {\n",
       "        text-align: right;\n",
       "    }\n",
       "</style>\n",
       "<table border=\"1\" class=\"dataframe\">\n",
       "  <thead>\n",
       "    <tr style=\"text-align: right;\">\n",
       "      <th></th>\n",
       "      <th>indv</th>\n",
       "      <th>gro</th>\n",
       "      <th>location</th>\n",
       "      <th>sex</th>\n",
       "      <th>wavloc</th>\n",
       "      <th>filename</th>\n",
       "      <th>seg_label</th>\n",
       "      <th>seg_start</th>\n",
       "      <th>seg_end</th>\n",
       "      <th>call_label</th>\n",
       "      <th>call_start</th>\n",
       "      <th>call_end</th>\n",
       "      <th>combi_label</th>\n",
       "      <th>combi_start</th>\n",
       "      <th>combi_end</th>\n",
       "      <th>call_unique_num</th>\n",
       "      <th>seg_pos_call</th>\n",
       "      <th>combi_unique_num</th>\n",
       "      <th>seg_pos_combi</th>\n",
       "      <th>call_pos_combi</th>\n",
       "    </tr>\n",
       "    <tr>\n",
       "      <th>New_ID</th>\n",
       "      <th></th>\n",
       "      <th></th>\n",
       "      <th></th>\n",
       "      <th></th>\n",
       "      <th></th>\n",
       "      <th></th>\n",
       "      <th></th>\n",
       "      <th></th>\n",
       "      <th></th>\n",
       "      <th></th>\n",
       "      <th></th>\n",
       "      <th></th>\n",
       "      <th></th>\n",
       "      <th></th>\n",
       "      <th></th>\n",
       "      <th></th>\n",
       "      <th></th>\n",
       "      <th></th>\n",
       "      <th></th>\n",
       "      <th></th>\n",
       "    </tr>\n",
       "  </thead>\n",
       "  <tbody>\n",
       "    <tr>\n",
       "      <th>0</th>\n",
       "      <td>MGGY</td>\n",
       "      <td>BWYa</td>\n",
       "      <td>CRAWLEY</td>\n",
       "      <td>F</td>\n",
       "      <td>C:\\Users\\slwal\\anaconda3\\envs\\PY36\\avgn_paper-...</td>\n",
       "      <td>BWY MGGY Call Combo 1 290719 PM</td>\n",
       "      <td>DS</td>\n",
       "      <td>0.753604</td>\n",
       "      <td>0.776773</td>\n",
       "      <td>DSSHDS</td>\n",
       "      <td>0.753604</td>\n",
       "      <td>0.92116</td>\n",
       "      <td>DSSHDS SHSHLH</td>\n",
       "      <td>0.753604</td>\n",
       "      <td>1.36713</td>\n",
       "      <td>0</td>\n",
       "      <td>0</td>\n",
       "      <td>0</td>\n",
       "      <td>0</td>\n",
       "      <td>0</td>\n",
       "    </tr>\n",
       "    <tr>\n",
       "      <th>1</th>\n",
       "      <td>MGGY</td>\n",
       "      <td>BWYa</td>\n",
       "      <td>CRAWLEY</td>\n",
       "      <td>F</td>\n",
       "      <td>C:\\Users\\slwal\\anaconda3\\envs\\PY36\\avgn_paper-...</td>\n",
       "      <td>BWY MGGY Call Combo 1 290719 PM</td>\n",
       "      <td>SH</td>\n",
       "      <td>0.786865</td>\n",
       "      <td>0.835165</td>\n",
       "      <td>DSSHDS</td>\n",
       "      <td>0.753604</td>\n",
       "      <td>0.92116</td>\n",
       "      <td>DSSHDS SHSHLH</td>\n",
       "      <td>0.753604</td>\n",
       "      <td>1.36713</td>\n",
       "      <td>0</td>\n",
       "      <td>1</td>\n",
       "      <td>0</td>\n",
       "      <td>1</td>\n",
       "      <td>0</td>\n",
       "    </tr>\n",
       "    <tr>\n",
       "      <th>2</th>\n",
       "      <td>MGGY</td>\n",
       "      <td>BWYa</td>\n",
       "      <td>CRAWLEY</td>\n",
       "      <td>F</td>\n",
       "      <td>C:\\Users\\slwal\\anaconda3\\envs\\PY36\\avgn_paper-...</td>\n",
       "      <td>BWY MGGY Call Combo 1 290719 PM</td>\n",
       "      <td>DS</td>\n",
       "      <td>0.855941</td>\n",
       "      <td>0.921160</td>\n",
       "      <td>DSSHDS</td>\n",
       "      <td>0.753604</td>\n",
       "      <td>0.92116</td>\n",
       "      <td>DSSHDS SHSHLH</td>\n",
       "      <td>0.753604</td>\n",
       "      <td>1.36713</td>\n",
       "      <td>0</td>\n",
       "      <td>2</td>\n",
       "      <td>0</td>\n",
       "      <td>2</td>\n",
       "      <td>0</td>\n",
       "    </tr>\n",
       "  </tbody>\n",
       "</table>\n",
       "</div>"
      ],
      "text/plain": [
       "        indv   gro location sex  \\\n",
       "New_ID                            \n",
       "0       MGGY  BWYa  CRAWLEY   F   \n",
       "1       MGGY  BWYa  CRAWLEY   F   \n",
       "2       MGGY  BWYa  CRAWLEY   F   \n",
       "\n",
       "                                                   wavloc  \\\n",
       "New_ID                                                      \n",
       "0       C:\\Users\\slwal\\anaconda3\\envs\\PY36\\avgn_paper-...   \n",
       "1       C:\\Users\\slwal\\anaconda3\\envs\\PY36\\avgn_paper-...   \n",
       "2       C:\\Users\\slwal\\anaconda3\\envs\\PY36\\avgn_paper-...   \n",
       "\n",
       "                               filename seg_label  seg_start   seg_end  \\\n",
       "New_ID                                                                   \n",
       "0       BWY MGGY Call Combo 1 290719 PM        DS   0.753604  0.776773   \n",
       "1       BWY MGGY Call Combo 1 290719 PM        SH   0.786865  0.835165   \n",
       "2       BWY MGGY Call Combo 1 290719 PM        DS   0.855941  0.921160   \n",
       "\n",
       "       call_label  call_start  call_end    combi_label  combi_start  \\\n",
       "New_ID                                                                \n",
       "0          DSSHDS    0.753604   0.92116  DSSHDS SHSHLH     0.753604   \n",
       "1          DSSHDS    0.753604   0.92116  DSSHDS SHSHLH     0.753604   \n",
       "2          DSSHDS    0.753604   0.92116  DSSHDS SHSHLH     0.753604   \n",
       "\n",
       "        combi_end  call_unique_num  seg_pos_call  combi_unique_num  \\\n",
       "New_ID                                                               \n",
       "0         1.36713                0             0                 0   \n",
       "1         1.36713                0             1                 0   \n",
       "2         1.36713                0             2                 0   \n",
       "\n",
       "        seg_pos_combi  call_pos_combi  \n",
       "New_ID                                 \n",
       "0                   0               0  \n",
       "1                   1               0  \n",
       "2                   2               0  "
      ]
     },
     "execution_count": 24,
     "metadata": {},
     "output_type": "execute_result"
    }
   ],
   "source": [
    "vocdf[:3]"
   ]
  },
  {
   "cell_type": "code",
   "execution_count": 25,
   "id": "e541b258",
   "metadata": {},
   "outputs": [],
   "source": [
    "#convert some columns into integers \n",
    "vocdf[[\"seg_pos_combi\", \"seg_pos_call\", \"call_pos_combi\", \"combi_unique_num\", \"call_unique_num\"]] = vocdf[[\"seg_pos_combi\", \"seg_pos_call\", \"call_pos_combi\", \"combi_unique_num\", \"call_unique_num\"]].apply(pd.to_numeric)"
   ]
  },
  {
   "cell_type": "code",
   "execution_count": 26,
   "id": "bbde3c66",
   "metadata": {},
   "outputs": [
    {
     "data": {
      "text/html": [
       "<div>\n",
       "<style scoped>\n",
       "    .dataframe tbody tr th:only-of-type {\n",
       "        vertical-align: middle;\n",
       "    }\n",
       "\n",
       "    .dataframe tbody tr th {\n",
       "        vertical-align: top;\n",
       "    }\n",
       "\n",
       "    .dataframe thead th {\n",
       "        text-align: right;\n",
       "    }\n",
       "</style>\n",
       "<table border=\"1\" class=\"dataframe\">\n",
       "  <thead>\n",
       "    <tr style=\"text-align: right;\">\n",
       "      <th></th>\n",
       "      <th>indv</th>\n",
       "      <th>gro</th>\n",
       "      <th>location</th>\n",
       "      <th>sex</th>\n",
       "      <th>wavloc</th>\n",
       "      <th>filename</th>\n",
       "      <th>seg_label</th>\n",
       "      <th>seg_start</th>\n",
       "      <th>seg_end</th>\n",
       "      <th>call_label</th>\n",
       "      <th>call_start</th>\n",
       "      <th>call_end</th>\n",
       "      <th>combi_label</th>\n",
       "      <th>combi_start</th>\n",
       "      <th>combi_end</th>\n",
       "      <th>call_unique_num</th>\n",
       "      <th>seg_pos_call</th>\n",
       "      <th>combi_unique_num</th>\n",
       "      <th>seg_pos_combi</th>\n",
       "      <th>call_pos_combi</th>\n",
       "    </tr>\n",
       "    <tr>\n",
       "      <th>New_ID</th>\n",
       "      <th></th>\n",
       "      <th></th>\n",
       "      <th></th>\n",
       "      <th></th>\n",
       "      <th></th>\n",
       "      <th></th>\n",
       "      <th></th>\n",
       "      <th></th>\n",
       "      <th></th>\n",
       "      <th></th>\n",
       "      <th></th>\n",
       "      <th></th>\n",
       "      <th></th>\n",
       "      <th></th>\n",
       "      <th></th>\n",
       "      <th></th>\n",
       "      <th></th>\n",
       "      <th></th>\n",
       "      <th></th>\n",
       "      <th></th>\n",
       "    </tr>\n",
       "  </thead>\n",
       "  <tbody>\n",
       "    <tr>\n",
       "      <th>0</th>\n",
       "      <td>MGGY</td>\n",
       "      <td>BWYa</td>\n",
       "      <td>CRAWLEY</td>\n",
       "      <td>F</td>\n",
       "      <td>C:\\Users\\slwal\\anaconda3\\envs\\PY36\\avgn_paper-...</td>\n",
       "      <td>BWY MGGY Call Combo 1 290719 PM</td>\n",
       "      <td>DS</td>\n",
       "      <td>0.753604</td>\n",
       "      <td>0.776773</td>\n",
       "      <td>DSSHDS</td>\n",
       "      <td>0.753604</td>\n",
       "      <td>0.92116</td>\n",
       "      <td>DSSHDS SHSHLH</td>\n",
       "      <td>0.753604</td>\n",
       "      <td>1.36713</td>\n",
       "      <td>0</td>\n",
       "      <td>0</td>\n",
       "      <td>0</td>\n",
       "      <td>0</td>\n",
       "      <td>0</td>\n",
       "    </tr>\n",
       "    <tr>\n",
       "      <th>1</th>\n",
       "      <td>MGGY</td>\n",
       "      <td>BWYa</td>\n",
       "      <td>CRAWLEY</td>\n",
       "      <td>F</td>\n",
       "      <td>C:\\Users\\slwal\\anaconda3\\envs\\PY36\\avgn_paper-...</td>\n",
       "      <td>BWY MGGY Call Combo 1 290719 PM</td>\n",
       "      <td>SH</td>\n",
       "      <td>0.786865</td>\n",
       "      <td>0.835165</td>\n",
       "      <td>DSSHDS</td>\n",
       "      <td>0.753604</td>\n",
       "      <td>0.92116</td>\n",
       "      <td>DSSHDS SHSHLH</td>\n",
       "      <td>0.753604</td>\n",
       "      <td>1.36713</td>\n",
       "      <td>0</td>\n",
       "      <td>1</td>\n",
       "      <td>0</td>\n",
       "      <td>1</td>\n",
       "      <td>0</td>\n",
       "    </tr>\n",
       "    <tr>\n",
       "      <th>2</th>\n",
       "      <td>MGGY</td>\n",
       "      <td>BWYa</td>\n",
       "      <td>CRAWLEY</td>\n",
       "      <td>F</td>\n",
       "      <td>C:\\Users\\slwal\\anaconda3\\envs\\PY36\\avgn_paper-...</td>\n",
       "      <td>BWY MGGY Call Combo 1 290719 PM</td>\n",
       "      <td>DS</td>\n",
       "      <td>0.855941</td>\n",
       "      <td>0.921160</td>\n",
       "      <td>DSSHDS</td>\n",
       "      <td>0.753604</td>\n",
       "      <td>0.92116</td>\n",
       "      <td>DSSHDS SHSHLH</td>\n",
       "      <td>0.753604</td>\n",
       "      <td>1.36713</td>\n",
       "      <td>0</td>\n",
       "      <td>2</td>\n",
       "      <td>0</td>\n",
       "      <td>2</td>\n",
       "      <td>0</td>\n",
       "    </tr>\n",
       "  </tbody>\n",
       "</table>\n",
       "</div>"
      ],
      "text/plain": [
       "        indv   gro location sex  \\\n",
       "New_ID                            \n",
       "0       MGGY  BWYa  CRAWLEY   F   \n",
       "1       MGGY  BWYa  CRAWLEY   F   \n",
       "2       MGGY  BWYa  CRAWLEY   F   \n",
       "\n",
       "                                                   wavloc  \\\n",
       "New_ID                                                      \n",
       "0       C:\\Users\\slwal\\anaconda3\\envs\\PY36\\avgn_paper-...   \n",
       "1       C:\\Users\\slwal\\anaconda3\\envs\\PY36\\avgn_paper-...   \n",
       "2       C:\\Users\\slwal\\anaconda3\\envs\\PY36\\avgn_paper-...   \n",
       "\n",
       "                               filename seg_label  seg_start   seg_end  \\\n",
       "New_ID                                                                   \n",
       "0       BWY MGGY Call Combo 1 290719 PM        DS   0.753604  0.776773   \n",
       "1       BWY MGGY Call Combo 1 290719 PM        SH   0.786865  0.835165   \n",
       "2       BWY MGGY Call Combo 1 290719 PM        DS   0.855941  0.921160   \n",
       "\n",
       "       call_label  call_start  call_end    combi_label  combi_start  \\\n",
       "New_ID                                                                \n",
       "0          DSSHDS    0.753604   0.92116  DSSHDS SHSHLH     0.753604   \n",
       "1          DSSHDS    0.753604   0.92116  DSSHDS SHSHLH     0.753604   \n",
       "2          DSSHDS    0.753604   0.92116  DSSHDS SHSHLH     0.753604   \n",
       "\n",
       "        combi_end  call_unique_num  seg_pos_call  combi_unique_num  \\\n",
       "New_ID                                                               \n",
       "0         1.36713                0             0                 0   \n",
       "1         1.36713                0             1                 0   \n",
       "2         1.36713                0             2                 0   \n",
       "\n",
       "        seg_pos_combi  call_pos_combi  \n",
       "New_ID                                 \n",
       "0                   0               0  \n",
       "1                   1               0  \n",
       "2                   2               0  "
      ]
     },
     "execution_count": 26,
     "metadata": {},
     "output_type": "execute_result"
    }
   ],
   "source": [
    "vocdf[:3]"
   ]
  },
  {
   "cell_type": "code",
   "execution_count": 27,
   "id": "7e39408e",
   "metadata": {},
   "outputs": [],
   "source": [
    "vocdf.reset_index(inplace=True)"
   ]
  },
  {
   "cell_type": "code",
   "execution_count": 28,
   "id": "ad745b87",
   "metadata": {},
   "outputs": [
    {
     "data": {
      "text/html": [
       "<div>\n",
       "<style scoped>\n",
       "    .dataframe tbody tr th:only-of-type {\n",
       "        vertical-align: middle;\n",
       "    }\n",
       "\n",
       "    .dataframe tbody tr th {\n",
       "        vertical-align: top;\n",
       "    }\n",
       "\n",
       "    .dataframe thead th {\n",
       "        text-align: right;\n",
       "    }\n",
       "</style>\n",
       "<table border=\"1\" class=\"dataframe\">\n",
       "  <thead>\n",
       "    <tr style=\"text-align: right;\">\n",
       "      <th></th>\n",
       "      <th>New_ID</th>\n",
       "      <th>indv</th>\n",
       "      <th>gro</th>\n",
       "      <th>location</th>\n",
       "      <th>sex</th>\n",
       "      <th>wavloc</th>\n",
       "      <th>filename</th>\n",
       "      <th>seg_label</th>\n",
       "      <th>seg_start</th>\n",
       "      <th>seg_end</th>\n",
       "      <th>...</th>\n",
       "      <th>call_start</th>\n",
       "      <th>call_end</th>\n",
       "      <th>combi_label</th>\n",
       "      <th>combi_start</th>\n",
       "      <th>combi_end</th>\n",
       "      <th>call_unique_num</th>\n",
       "      <th>seg_pos_call</th>\n",
       "      <th>combi_unique_num</th>\n",
       "      <th>seg_pos_combi</th>\n",
       "      <th>call_pos_combi</th>\n",
       "    </tr>\n",
       "  </thead>\n",
       "  <tbody>\n",
       "    <tr>\n",
       "      <th>0</th>\n",
       "      <td>0</td>\n",
       "      <td>MGGY</td>\n",
       "      <td>BWYa</td>\n",
       "      <td>CRAWLEY</td>\n",
       "      <td>F</td>\n",
       "      <td>C:\\Users\\slwal\\anaconda3\\envs\\PY36\\avgn_paper-...</td>\n",
       "      <td>BWY MGGY Call Combo 1 290719 PM</td>\n",
       "      <td>DS</td>\n",
       "      <td>0.753604</td>\n",
       "      <td>0.776773</td>\n",
       "      <td>...</td>\n",
       "      <td>0.753604</td>\n",
       "      <td>0.92116</td>\n",
       "      <td>DSSHDS SHSHLH</td>\n",
       "      <td>0.753604</td>\n",
       "      <td>1.36713</td>\n",
       "      <td>0</td>\n",
       "      <td>0</td>\n",
       "      <td>0</td>\n",
       "      <td>0</td>\n",
       "      <td>0</td>\n",
       "    </tr>\n",
       "    <tr>\n",
       "      <th>1</th>\n",
       "      <td>1</td>\n",
       "      <td>MGGY</td>\n",
       "      <td>BWYa</td>\n",
       "      <td>CRAWLEY</td>\n",
       "      <td>F</td>\n",
       "      <td>C:\\Users\\slwal\\anaconda3\\envs\\PY36\\avgn_paper-...</td>\n",
       "      <td>BWY MGGY Call Combo 1 290719 PM</td>\n",
       "      <td>SH</td>\n",
       "      <td>0.786865</td>\n",
       "      <td>0.835165</td>\n",
       "      <td>...</td>\n",
       "      <td>0.753604</td>\n",
       "      <td>0.92116</td>\n",
       "      <td>DSSHDS SHSHLH</td>\n",
       "      <td>0.753604</td>\n",
       "      <td>1.36713</td>\n",
       "      <td>0</td>\n",
       "      <td>1</td>\n",
       "      <td>0</td>\n",
       "      <td>1</td>\n",
       "      <td>0</td>\n",
       "    </tr>\n",
       "    <tr>\n",
       "      <th>2</th>\n",
       "      <td>2</td>\n",
       "      <td>MGGY</td>\n",
       "      <td>BWYa</td>\n",
       "      <td>CRAWLEY</td>\n",
       "      <td>F</td>\n",
       "      <td>C:\\Users\\slwal\\anaconda3\\envs\\PY36\\avgn_paper-...</td>\n",
       "      <td>BWY MGGY Call Combo 1 290719 PM</td>\n",
       "      <td>DS</td>\n",
       "      <td>0.855941</td>\n",
       "      <td>0.921160</td>\n",
       "      <td>...</td>\n",
       "      <td>0.753604</td>\n",
       "      <td>0.92116</td>\n",
       "      <td>DSSHDS SHSHLH</td>\n",
       "      <td>0.753604</td>\n",
       "      <td>1.36713</td>\n",
       "      <td>0</td>\n",
       "      <td>2</td>\n",
       "      <td>0</td>\n",
       "      <td>2</td>\n",
       "      <td>0</td>\n",
       "    </tr>\n",
       "  </tbody>\n",
       "</table>\n",
       "<p>3 rows × 21 columns</p>\n",
       "</div>"
      ],
      "text/plain": [
       "   New_ID  indv   gro location sex  \\\n",
       "0       0  MGGY  BWYa  CRAWLEY   F   \n",
       "1       1  MGGY  BWYa  CRAWLEY   F   \n",
       "2       2  MGGY  BWYa  CRAWLEY   F   \n",
       "\n",
       "                                              wavloc  \\\n",
       "0  C:\\Users\\slwal\\anaconda3\\envs\\PY36\\avgn_paper-...   \n",
       "1  C:\\Users\\slwal\\anaconda3\\envs\\PY36\\avgn_paper-...   \n",
       "2  C:\\Users\\slwal\\anaconda3\\envs\\PY36\\avgn_paper-...   \n",
       "\n",
       "                          filename seg_label  seg_start   seg_end  ...  \\\n",
       "0  BWY MGGY Call Combo 1 290719 PM        DS   0.753604  0.776773  ...   \n",
       "1  BWY MGGY Call Combo 1 290719 PM        SH   0.786865  0.835165  ...   \n",
       "2  BWY MGGY Call Combo 1 290719 PM        DS   0.855941  0.921160  ...   \n",
       "\n",
       "  call_start  call_end    combi_label combi_start  combi_end  call_unique_num  \\\n",
       "0   0.753604   0.92116  DSSHDS SHSHLH    0.753604    1.36713                0   \n",
       "1   0.753604   0.92116  DSSHDS SHSHLH    0.753604    1.36713                0   \n",
       "2   0.753604   0.92116  DSSHDS SHSHLH    0.753604    1.36713                0   \n",
       "\n",
       "   seg_pos_call  combi_unique_num  seg_pos_combi  call_pos_combi  \n",
       "0             0                 0              0               0  \n",
       "1             1                 0              1               0  \n",
       "2             2                 0              2               0  \n",
       "\n",
       "[3 rows x 21 columns]"
      ]
     },
     "execution_count": 28,
     "metadata": {},
     "output_type": "execute_result"
    }
   ],
   "source": [
    "vocdf[:3]"
   ]
  },
  {
   "cell_type": "code",
   "execution_count": 29,
   "id": "d92edf1a",
   "metadata": {},
   "outputs": [],
   "source": [
    "from avgn.utils.paths import ensure_dir"
   ]
  },
  {
   "cell_type": "code",
   "execution_count": 30,
   "id": "777b524b",
   "metadata": {},
   "outputs": [],
   "source": [
    "#save dataframe as pickle\n",
    "save_loc = DATA_DIR / DATASET_ID / 'walsh_magpie_combined_dataframe.pickle'\n",
    "ensure_dir(save_loc)\n",
    "vocdf.to_pickle(save_loc)"
   ]
  },
  {
   "cell_type": "markdown",
   "id": "cea9a1c9",
   "metadata": {},
   "source": [
    "# Generate JSON from dataframe"
   ]
  },
  {
   "cell_type": "code",
   "execution_count": 31,
   "id": "bebd4cc9",
   "metadata": {},
   "outputs": [],
   "source": [
    "import avgn\n",
    "from avgn.custom_parsing.magpie_for_repos import (\n",
    "    gen_wav_json\n",
    ")\n",
    "from avgn.utils.paths import DATA_DIR"
   ]
  },
  {
   "cell_type": "code",
   "execution_count": 32,
   "id": "6181d12c",
   "metadata": {},
   "outputs": [],
   "source": [
    "savewav=False # don't want to create new WAV files, just reference original ones"
   ]
  },
  {
   "cell_type": "code",
   "execution_count": 33,
   "id": "cd2d703c",
   "metadata": {
    "scrolled": false
   },
   "outputs": [
    {
     "data": {
      "application/vnd.jupyter.widget-view+json": {
       "model_id": "737cbdbe0e804e92979f19b8115f1738",
       "version_major": 2,
       "version_minor": 0
      },
      "text/plain": [
       "  0%|          | 0/153 [00:00<?, ?it/s]"
      ]
     },
     "metadata": {},
     "output_type": "display_data"
    },
    {
     "name": "stderr",
     "output_type": "stream",
     "text": [
      "[Parallel(n_jobs=-1)]: Using backend LokyBackend with 12 concurrent workers.\n",
      "[Parallel(n_jobs=-1)]: Done   1 tasks      | elapsed:    4.3s\n",
      "[Parallel(n_jobs=-1)]: Done   8 tasks      | elapsed:    4.4s\n",
      "[Parallel(n_jobs=-1)]: Done  17 tasks      | elapsed:    4.6s\n",
      "[Parallel(n_jobs=-1)]: Done  26 tasks      | elapsed:    4.6s\n",
      "[Parallel(n_jobs=-1)]: Done  37 tasks      | elapsed:    4.6s\n",
      "[Parallel(n_jobs=-1)]: Batch computation too fast (0.1847s.) Setting batch_size=2.\n",
      "[Parallel(n_jobs=-1)]: Done  48 tasks      | elapsed:    4.6s\n",
      "[Parallel(n_jobs=-1)]: Done  61 tasks      | elapsed:    4.7s\n",
      "[Parallel(n_jobs=-1)]: Batch computation too fast (0.0986s.) Setting batch_size=4.\n",
      "[Parallel(n_jobs=-1)]: Done  76 tasks      | elapsed:    4.8s\n",
      "[Parallel(n_jobs=-1)]: Done 106 tasks      | elapsed:    4.9s\n",
      "[Parallel(n_jobs=-1)]: Done 128 tasks      | elapsed:    4.9s\n",
      "[Parallel(n_jobs=-1)]: Done 146 out of 153 | elapsed:    4.9s remaining:    0.1s\n",
      "[Parallel(n_jobs=-1)]: Done 153 out of 153 | elapsed:    4.9s finished\n"
     ]
    }
   ],
   "source": [
    "with Parallel(n_jobs=-1, verbose=10) as parallel:\n",
    "    parallel(\n",
    "        delayed(gen_wav_json)(\n",
    "            wf,\n",
    "            vocdf[vocdf.wavloc==wf],\n",
    "            DT_ID)\n",
    "        for wf in tqdm(vocdf.wavloc.unique())\n",
    "    );"
   ]
  },
  {
   "cell_type": "markdown",
   "id": "02e3f4a2",
   "metadata": {},
   "source": [
    "### Check it worked"
   ]
  },
  {
   "cell_type": "code",
   "execution_count": 34,
   "id": "2fc915f6",
   "metadata": {},
   "outputs": [],
   "source": [
    "from avgn.utils.hparams import HParams\n",
    "from avgn.dataset import DataSet"
   ]
  },
  {
   "cell_type": "code",
   "execution_count": 35,
   "id": "11be9285",
   "metadata": {},
   "outputs": [],
   "source": [
    "# create a set of hyperparameters for processing this dataset.  \n",
    "hparams = HParams(\n",
    "    num_mel_bins = 32,\n",
    "    mel_lower_edge_hertz=400,\n",
    "    mel_upper_edge_hertz=15000,\n",
    "    butter_lowcut = 400,\n",
    "    butter_highcut = 15000,\n",
    "    ref_level_db = 20,\n",
    "    min_level_db = -30,\n",
    "    mask_spec = True,\n",
    "    win_length_ms = 10,\n",
    "    hop_length_ms = 2,\n",
    "    nex=-1,\n",
    "    n_jobs=-1,\n",
    "    verbosity = 1,\n",
    ")"
   ]
  },
  {
   "cell_type": "code",
   "execution_count": 36,
   "id": "88710544",
   "metadata": {},
   "outputs": [
    {
     "data": {
      "application/vnd.jupyter.widget-view+json": {
       "model_id": "84df2b4b9f024658a424a55ebe4ef415",
       "version_major": 2,
       "version_minor": 0
      },
      "text/plain": [
       "loading json:   0%|          | 0/152 [00:00<?, ?it/s]"
      ]
     },
     "metadata": {},
     "output_type": "display_data"
    },
    {
     "name": "stderr",
     "output_type": "stream",
     "text": [
      "[Parallel(n_jobs=-1)]: Using backend LokyBackend with 12 concurrent workers.\n",
      "[Parallel(n_jobs=-1)]: Done  28 tasks      | elapsed:    0.0s\n",
      "[Parallel(n_jobs=-1)]: Done 152 out of 152 | elapsed:    0.0s finished\n"
     ]
    },
    {
     "data": {
      "application/vnd.jupyter.widget-view+json": {
       "model_id": "",
       "version_major": 2,
       "version_minor": 0
      },
      "text/plain": [
       "getting unique individuals:   0%|          | 0/152 [00:00<?, ?it/s]"
      ]
     },
     "metadata": {},
     "output_type": "display_data"
    }
   ],
   "source": [
    "# create a dataset object, which\n",
    "dataset = DataSet(DATASET_ID, hparams = hparams)"
   ]
  },
  {
   "cell_type": "code",
   "execution_count": 37,
   "id": "877c64cc",
   "metadata": {},
   "outputs": [
    {
     "name": "stdout",
     "output_type": "stream",
     "text": [
      "{\n",
      "    \"filename\": \"BWY MGGY Call Combo 1 290719 PM\",\n",
      "    \"samplerate_hz\": 44100,\n",
      "    \"sex\": \"F\",\n",
      "    \"group\": \"BWYa\",\n",
      "    \"location\": \"CRAWLEY\",\n",
      "    \"wav_loc\": \"C:/Users/slwal/anaconda3/envs/PY36/avgn_paper-2/data/raw/magpie/individuals/BWYa_F_MGGY/BWY MGGY Call Combo 1 290719 PM.WAV\",\n",
      "    \"length_s\": 2.1197732426303855,\n",
      "    \"species\": \"Gymnorhina tibicen dorsalis\",\n",
      "    \"common_name\": \"Western Australian magpie\",\n",
      "    \"indvs\": {\n",
      "        \"MGGY\": {\n",
      "            \"call\": {\n",
      "                \"labels\": [\n",
      "                    \"DSSHDS\",\n",
      "                    \"DSSHDS\",\n",
      "                    \"DSSHDS\",\n",
      "                    \"SHSHLH\",\n",
      "                    \"SHSHLH\",\n",
      "                    \"SHSHLH\"\n",
      "                ],\n",
      "                \"start_times\": [\n",
      "                    0.753604333,\n",
      "                    0.753604333,\n",
      "                    0.753604333,\n",
      "                    0.932017365,\n",
      "                    0.932017365,\n",
      "                    0.932017365\n",
      "                ],\n",
      "                \"end_times\": [\n",
      "                    0.921159875,\n",
      "                    0.921159875,\n",
      "                    0.921159875,\n",
      "                    1.367129904,\n",
      "                    1.367129904,\n",
      "                    1.367129904\n",
      "                ],\n",
      "                \"call_unique_num\": [\n",
      "                    0.0,\n",
      "                    0.0,\n",
      "                    0.0,\n",
      "                    1.0,\n",
      "                    1.0,\n",
      "                    1.0\n",
      "                ],\n",
      "                \"combi_label\": [\n",
      "                    \"DSSHDS SHSHLH\",\n",
      "                    \"DSSHDS SHSHLH\",\n",
      "                    \"DSSHDS SHSHLH\",\n",
      "                    \"DSSHDS SHSHLH\",\n",
      "                    \"DSSHDS SHSHLH\",\n",
      "                    \"DSSHDS SHSHLH\"\n",
      "                ],\n",
      "                \"combi_start\": [\n",
      "                    0.753604333,\n",
      "                    0.753604333,\n",
      "                    0.753604333,\n",
      "                    0.753604333,\n",
      "                    0.753604333,\n",
      "                    0.753604333\n",
      "                ],\n",
      "                \"combi_end\": [\n",
      "                    1.367129904,\n",
      "                    1.367129904,\n",
      "                    1.367129904,\n",
      "                    1.367129904,\n",
      "                    1.367129904,\n",
      "                    1.367129904\n",
      "                ],\n",
      "                \"combi_unique_num\": [\n",
      "                    0.0,\n",
      "                    0.0,\n",
      "                    0.0,\n",
      "                    0.0,\n",
      "                    0.0,\n",
      "                    0.0\n",
      "                ],\n",
      "                \"call_pos_combi\": [\n",
      "                    0.0,\n",
      "                    0.0,\n",
      "                    0.0,\n",
      "                    1.0,\n",
      "                    1.0,\n",
      "                    1.0\n",
      "                ]\n",
      "            },\n",
      "            \"seg\": {\n",
      "                \"labels\": [\n",
      "                    \"DS\",\n",
      "                    \"SH\",\n",
      "                    \"DS\",\n",
      "                    \"SH\",\n",
      "                    \"SH\",\n",
      "                    \"LH\"\n",
      "                ],\n",
      "                \"ID\": [\n",
      "                    0.0,\n",
      "                    1.0,\n",
      "                    2.0,\n",
      "                    3.0,\n",
      "                    4.0,\n",
      "                    5.0\n",
      "                ],\n",
      "                \"start_times\": [\n",
      "                    0.753604333,\n",
      "                    0.786865266,\n",
      "                    0.855941465,\n",
      "                    0.932017365,\n",
      "                    0.9515608459999999,\n",
      "                    0.980100533\n",
      "                ],\n",
      "                \"end_times\": [\n",
      "                    0.77677287,\n",
      "                    0.8351645870000001,\n",
      "                    0.921159875,\n",
      "                    0.942874854,\n",
      "                    0.980100533,\n",
      "                    1.367129904\n",
      "                ],\n",
      "                \"call_label\": [\n",
      "                    \"DSSHDS\",\n",
      "                    \"DSSHDS\",\n",
      "                    \"DSSHDS\",\n",
      "                    \"SHSHLH\",\n",
      "                    \"SHSHLH\",\n",
      "                    \"SHSHLH\"\n",
      "                ],\n",
      "                \"call_start\": [\n",
      "                    0.753604333,\n",
      "                    0.753604333,\n",
      "                    0.753604333,\n",
      "                    0.932017365,\n",
      "                    0.932017365,\n",
      "                    0.932017365\n",
      "                ],\n",
      "                \"call_end\": [\n",
      "                    0.921159875,\n",
      "                    0.921159875,\n",
      "                    0.921159875,\n",
      "                    1.367129904,\n",
      "                    1.367129904,\n",
      "                    1.367129904\n",
      "                ],\n",
      "                \"call_unique_num\": [\n",
      "                    0.0,\n",
      "                    0.0,\n",
      "                    0.0,\n",
      "                    1.0,\n",
      "                    1.0,\n",
      "                    1.0\n",
      "                ],\n",
      "                \"seg_pos_call\": [\n",
      "                    0.0,\n",
      "                    1.0,\n",
      "                    2.0,\n",
      "                    0.0,\n",
      "                    1.0,\n",
      "                    2.0\n",
      "                ],\n",
      "                \"call_pos_combi\": [\n",
      "                    0.0,\n",
      "                    0.0,\n",
      "                    0.0,\n",
      "                    1.0,\n",
      "                    1.0,\n",
      "                    1.0\n",
      "                ],\n",
      "                \"combi_label\": [\n",
      "                    \"DSSHDS SHSHLH\",\n",
      "                    \"DSSHDS SHSHLH\",\n",
      "                    \"DSSHDS SHSHLH\",\n",
      "                    \"DSSHDS SHSHLH\",\n",
      "                    \"DSSHDS SHSHLH\",\n",
      "                    \"DSSHDS SHSHLH\"\n",
      "                ],\n",
      "                \"combi_start\": [\n",
      "                    0.753604333,\n",
      "                    0.753604333,\n",
      "                    0.753604333,\n",
      "                    0.753604333,\n",
      "                    0.753604333,\n",
      "                    0.753604333\n",
      "                ],\n",
      "                \"combi_end\": [\n",
      "                    1.367129904,\n",
      "                    1.367129904,\n",
      "                    1.367129904,\n",
      "                    1.367129904,\n",
      "                    1.367129904,\n",
      "                    1.367129904\n",
      "                ],\n",
      "                \"combi_unique_num\": [\n",
      "                    0.0,\n",
      "                    0.0,\n",
      "                    0.0,\n",
      "                    0.0,\n",
      "                    0.0,\n",
      "                    0.0\n",
      "                ],\n",
      "                \"seg_pos_combi\": [\n",
      "                    0.0,\n",
      "                    1.0,\n",
      "                    2.0,\n",
      "                    3.0,\n",
      "                    4.0,\n",
      "                    5.0\n",
      "                ]\n",
      "            }\n",
      "        }\n",
      "    }\n",
      "}...\n"
     ]
    }
   ],
   "source": [
    "# to make sure everything loaded correctly, lets look at a sample JSON\n",
    "print(json.dumps(dataset.sample_json, indent=4, default=str)[0:15000] + '...')"
   ]
  },
  {
   "cell_type": "code",
   "execution_count": null,
   "id": "1cc8820b",
   "metadata": {},
   "outputs": [],
   "source": []
  }
 ],
 "metadata": {
  "kernelspec": {
   "display_name": "Python 3",
   "language": "python",
   "name": "python3"
  },
  "language_info": {
   "codemirror_mode": {
    "name": "ipython",
    "version": 3
   },
   "file_extension": ".py",
   "mimetype": "text/x-python",
   "name": "python",
   "nbconvert_exporter": "python",
   "pygments_lexer": "ipython3",
   "version": "3.6.13"
  }
 },
 "nbformat": 4,
 "nbformat_minor": 5
}
